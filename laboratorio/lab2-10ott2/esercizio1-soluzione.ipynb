{
 "cells": [
  {
   "cell_type": "markdown",
   "metadata": {},
   "source": [
    "# Esercizio1 - Soluzione"
   ]
  },
  {
   "cell_type": "raw",
   "metadata": {},
   "source": [
    "                2009\t2010\t2011\t2012\t2013\t2014\t2015\n",
    "    Gennaio\t\t75\t\t63\t\t65\t\t50\t\t77\t\t66\t\t69\n",
    "    Febbraio\t64\t\t65\t\t65\t\t67\t\t50\t\t54\t\t58\n",
    "    Marzo\t\t81\t\t77\t\t73\t\t80\t\t83\t\t89\t\t100\n",
    "    Aprile\t\t89\t\t90\t\t85\t\t90\t\t90\t\t84\t\t90\n",
    "    Maggio\t\t120\t\t129\t\t113\t\t120\t\t135\t\t117\t\t130\n",
    "    Giugno\t\t113\t\t99\t\t116\t\t114\t\t111\t\t119\t\t100\n",
    "    Luglio\t\t111\t\t105\t\t98\t\t112\t\t113\t\t102\t\t100\n",
    "    Agosto\t\t129\t\t131\t\t120\t\t111\t\t141\t\t130\t\t126\n",
    "    Settembre\t90\t\t85\t\t101\t\t88\t\t89\t\t94\t\t91\n",
    "    Ottobre\t\t109\t\t122\t\t103\t\t119\t\t98\t\t101\t\t107\n",
    "    Novembre\t111\t\t121\t\t101\t\t104\t\t121\t\t115\t\t104\n",
    "    Dicembre\t56\t\t67\t\t44\t\t58\t\t61\t\t64\t\t58"
   ]
  },
  {
   "cell_type": "markdown",
   "metadata": {},
   "source": [
    "Si consideri il dataset delle precipitazioni mensili (mm) nei sette anni dal 2009 al 2015, che ha il seguente formato: 13 record di campi separati da tabulazione di cui il primo è il record di intestazione degli anni (composto da 7 campi) e gli altri 12 sono i record delle piogge mensili (un record per ciascun mese) composti da 8 campi di cui il primo è il nome del mese e i rimanenti 7 sono le piogge mensili lungo gli anni.\n",
    "\n",
    "Si richiede di predisporre un notebook che permetta di calcolare:\n",
    "\n",
    "- le precipitazioni medie mensili (media di pioggia lungo gli anni per ognuno dei mesi)\n",
    "- le precipitazioni totali annue (totale di pioggia per ognuno degli anni)\n",
    "- per ognuno degli anni considerati, il numero di mesi con pioggia oltre una certa soglia\n",
    "\n",
    "---\n",
    "\n",
    "Parametri di input:\n",
    "- dataset delle precipitazioni\n",
    "- soglia minima di pioggia\n",
    "\n",
    "---\n",
    "\n",
    "Requisiti:\n",
    "- il notebook deve essere generale rispetto al dataset di input\n",
    "\n",
    "- definire la funzione `count_elements_greater_than()` che prenda in input una lista di numeri e un valore di soglia e produca in output il numero di valori che superano tale soglia\n",
    "\n",
    "---\n",
    "\n",
    "Come produrre l'output?\n",
    "\n",
    "- **piogge medie mensili**: lista di 12 tuple di dimensione 2 in cui il primo elemento è il nome del mese (solo le prime tre lettere in maiuscolo) e il secondo elemento è il valore medio di pioggia (numero decimale).\n",
    "\n",
    "- **piogge totali annue**: lista di 7 tuple di dimensione 2 in cui il primo elemento è l'anno e il secondo elemento è il valore totale di pioggia (numero intero).\n",
    "\n",
    "- **numero di mesi (per anno) con pioggia oltre la soglia minima**: lista di 7 tuple di dimensione 2 in cui il primo elemento è l'anno e il secondo elemento è il numero di mesi con pioggia oltre la soglia minima (numero intero)\n",
    "\n",
    "---"
   ]
  },
  {
   "cell_type": "markdown",
   "metadata": {},
   "source": [
    "### 1) Parametri di input"
   ]
  },
  {
   "cell_type": "code",
   "execution_count": 54,
   "metadata": {},
   "outputs": [],
   "source": [
    "input_file_name = './input-precipitazioni.txt'\n",
    "soglia = 100"
   ]
  },
  {
   "cell_type": "markdown",
   "metadata": {},
   "source": [
    "### 2) Definizione della funzione `count_elements_greater_than()`\n",
    "\n",
    "*Suggerimento*: il metodo `count()` delle *sequenze* restituisce il numero di elementi della *sequenza* invocante che sono uguali al valore passato come argomento"
   ]
  },
  {
   "cell_type": "code",
   "execution_count": 55,
   "metadata": {},
   "outputs": [],
   "source": [
    "def count_elements_greater_than(list_of_numbers, threshold):\n",
    "    return [number > threshold for number in list_of_numbers].count(True)"
   ]
  },
  {
   "cell_type": "markdown",
   "metadata": {},
   "source": [
    "### 3) Lettura delle righe del dataset in una lista"
   ]
  },
  {
   "cell_type": "code",
   "execution_count": 56,
   "metadata": {},
   "outputs": [],
   "source": [
    "with open(input_file_name, 'r') as input_file:\n",
    "    file_rows = input_file.readlines()"
   ]
  },
  {
   "cell_type": "code",
   "execution_count": 57,
   "metadata": {
    "scrolled": true
   },
   "outputs": [
    {
     "data": {
      "text/plain": [
       "['\\t\\t\\t2009\\t2010\\t2011\\t2012\\t2013\\t2014\\t2015\\n',\n",
       " 'Gennaio\\t\\t75\\t\\t63\\t\\t65\\t\\t50\\t\\t77\\t\\t66\\t\\t69\\n',\n",
       " 'Febbraio\\t64\\t\\t65\\t\\t65\\t\\t67\\t\\t50\\t\\t54\\t\\t58\\n',\n",
       " 'Marzo\\t\\t81\\t\\t77\\t\\t73\\t\\t80\\t\\t83\\t\\t89\\t\\t100\\n',\n",
       " 'Aprile\\t\\t89\\t\\t90\\t\\t85\\t\\t90\\t\\t90\\t\\t84\\t\\t90\\n',\n",
       " 'Maggio\\t\\t120\\t\\t129\\t\\t113\\t\\t120\\t\\t135\\t\\t117\\t\\t130\\n',\n",
       " 'Giugno\\t\\t113\\t\\t99\\t\\t116\\t\\t114\\t\\t111\\t\\t119\\t\\t100\\n',\n",
       " 'Luglio\\t\\t111\\t\\t105\\t\\t98\\t\\t112\\t\\t113\\t\\t102\\t\\t100\\n',\n",
       " 'Agosto\\t\\t129\\t\\t131\\t\\t120\\t\\t111\\t\\t141\\t\\t130\\t\\t126\\n',\n",
       " 'Settembre\\t90\\t\\t85\\t\\t101\\t\\t88\\t\\t89\\t\\t94\\t\\t91\\n',\n",
       " 'Ottobre\\t\\t109\\t\\t122\\t\\t103\\t\\t119\\t\\t98\\t\\t101\\t\\t107\\n',\n",
       " 'Novembre\\t111\\t\\t121\\t\\t101\\t\\t104\\t\\t121\\t\\t115\\t\\t104\\n',\n",
       " 'Dicembre\\t56\\t\\t67\\t\\t44\\t\\t58\\t\\t61\\t\\t64\\t\\t58']"
      ]
     },
     "execution_count": 57,
     "metadata": {},
     "output_type": "execute_result"
    }
   ],
   "source": [
    "file_rows"
   ]
  },
  {
   "cell_type": "markdown",
   "metadata": {},
   "source": [
    "### 4) Estrazione della lista `years` contenente gli anni rilevati\n",
    "\n",
    "*Suggerimento1*: il metodo `split()` degli oggetti di tipo `str` restituisce la lista degli elementi ottenuti separando la stringa invocante tramite il separatore passato come argomento.\n"
   ]
  },
  {
   "cell_type": "markdown",
   "metadata": {},
   "source": [
    "*Suggerimento2*: il metodo `pop()` degli oggetti di tipo `list` rimuove e restituisce l’elemento della lista invocante che si trova nella posizione specificata come argomento."
   ]
  },
  {
   "cell_type": "code",
   "execution_count": 58,
   "metadata": {},
   "outputs": [],
   "source": [
    "years = file_rows.pop(0).split()"
   ]
  },
  {
   "cell_type": "code",
   "execution_count": 59,
   "metadata": {},
   "outputs": [
    {
     "data": {
      "text/plain": [
       "['2009', '2010', '2011', '2012', '2013', '2014', '2015']"
      ]
     },
     "execution_count": 59,
     "metadata": {},
     "output_type": "execute_result"
    }
   ],
   "source": [
    "years"
   ]
  },
  {
   "cell_type": "markdown",
   "metadata": {},
   "source": [
    "**NOTA BENE**: a questo punto nella lista `file_rows` compaiono solo i record delle piogge mensili."
   ]
  },
  {
   "cell_type": "code",
   "execution_count": 60,
   "metadata": {},
   "outputs": [
    {
     "data": {
      "text/plain": [
       "['Gennaio\\t\\t75\\t\\t63\\t\\t65\\t\\t50\\t\\t77\\t\\t66\\t\\t69\\n',\n",
       " 'Febbraio\\t64\\t\\t65\\t\\t65\\t\\t67\\t\\t50\\t\\t54\\t\\t58\\n',\n",
       " 'Marzo\\t\\t81\\t\\t77\\t\\t73\\t\\t80\\t\\t83\\t\\t89\\t\\t100\\n',\n",
       " 'Aprile\\t\\t89\\t\\t90\\t\\t85\\t\\t90\\t\\t90\\t\\t84\\t\\t90\\n',\n",
       " 'Maggio\\t\\t120\\t\\t129\\t\\t113\\t\\t120\\t\\t135\\t\\t117\\t\\t130\\n',\n",
       " 'Giugno\\t\\t113\\t\\t99\\t\\t116\\t\\t114\\t\\t111\\t\\t119\\t\\t100\\n',\n",
       " 'Luglio\\t\\t111\\t\\t105\\t\\t98\\t\\t112\\t\\t113\\t\\t102\\t\\t100\\n',\n",
       " 'Agosto\\t\\t129\\t\\t131\\t\\t120\\t\\t111\\t\\t141\\t\\t130\\t\\t126\\n',\n",
       " 'Settembre\\t90\\t\\t85\\t\\t101\\t\\t88\\t\\t89\\t\\t94\\t\\t91\\n',\n",
       " 'Ottobre\\t\\t109\\t\\t122\\t\\t103\\t\\t119\\t\\t98\\t\\t101\\t\\t107\\n',\n",
       " 'Novembre\\t111\\t\\t121\\t\\t101\\t\\t104\\t\\t121\\t\\t115\\t\\t104\\n',\n",
       " 'Dicembre\\t56\\t\\t67\\t\\t44\\t\\t58\\t\\t61\\t\\t64\\t\\t58']"
      ]
     },
     "execution_count": 60,
     "metadata": {},
     "output_type": "execute_result"
    }
   ],
   "source": [
    "file_rows"
   ]
  },
  {
   "cell_type": "markdown",
   "metadata": {},
   "source": [
    "### 5) Estrazione della lista dei mesi"
   ]
  },
  {
   "cell_type": "code",
   "execution_count": 61,
   "metadata": {},
   "outputs": [],
   "source": [
    "months = [row.split()[0] for row in file_rows]"
   ]
  },
  {
   "cell_type": "code",
   "execution_count": 62,
   "metadata": {
    "scrolled": true
   },
   "outputs": [
    {
     "data": {
      "text/plain": [
       "['Gennaio',\n",
       " 'Febbraio',\n",
       " 'Marzo',\n",
       " 'Aprile',\n",
       " 'Maggio',\n",
       " 'Giugno',\n",
       " 'Luglio',\n",
       " 'Agosto',\n",
       " 'Settembre',\n",
       " 'Ottobre',\n",
       " 'Novembre',\n",
       " 'Dicembre']"
      ]
     },
     "execution_count": 62,
     "metadata": {},
     "output_type": "execute_result"
    }
   ],
   "source": [
    "months"
   ]
  },
  {
   "cell_type": "markdown",
   "metadata": {},
   "source": [
    "### 6) Costruzione della matrice dei valori di pioggia"
   ]
  },
  {
   "cell_type": "markdown",
   "metadata": {},
   "source": [
    "#### a) Ottenere da `file_rows` la lista delle liste delle piogge mensili come valori interi\n",
    "\n",
    "*Suggerimento1*: la funzione `map()` prende il nome di una funzione come primo argomento e un oggetto iterabile come secondo argomento e restituisce un oggetto che mappa ognuno degli elementi del secondo argomento secondo la funzione specificata e che può essere convertito in un oggetto di tipo `list`.\n",
    "\n",
    "*Suggerimento2*: la funzione `int()` restituisce l'argomento convertito in intero."
   ]
  },
  {
   "cell_type": "code",
   "execution_count": 63,
   "metadata": {},
   "outputs": [],
   "source": [
    "rains_per_month = [row.split()[1:] for row in file_rows]"
   ]
  },
  {
   "cell_type": "code",
   "execution_count": 64,
   "metadata": {},
   "outputs": [
    {
     "data": {
      "text/plain": [
       "[['75', '63', '65', '50', '77', '66', '69'],\n",
       " ['64', '65', '65', '67', '50', '54', '58'],\n",
       " ['81', '77', '73', '80', '83', '89', '100'],\n",
       " ['89', '90', '85', '90', '90', '84', '90'],\n",
       " ['120', '129', '113', '120', '135', '117', '130'],\n",
       " ['113', '99', '116', '114', '111', '119', '100'],\n",
       " ['111', '105', '98', '112', '113', '102', '100'],\n",
       " ['129', '131', '120', '111', '141', '130', '126'],\n",
       " ['90', '85', '101', '88', '89', '94', '91'],\n",
       " ['109', '122', '103', '119', '98', '101', '107'],\n",
       " ['111', '121', '101', '104', '121', '115', '104'],\n",
       " ['56', '67', '44', '58', '61', '64', '58']]"
      ]
     },
     "execution_count": 64,
     "metadata": {},
     "output_type": "execute_result"
    }
   ],
   "source": [
    "rains_per_month"
   ]
  },
  {
   "cell_type": "code",
   "execution_count": 65,
   "metadata": {},
   "outputs": [],
   "source": [
    "rains_per_month = [list(map(int, rain_list)) for rain_list in rains_per_month]"
   ]
  },
  {
   "cell_type": "code",
   "execution_count": 66,
   "metadata": {},
   "outputs": [
    {
     "data": {
      "text/plain": [
       "[[75, 63, 65, 50, 77, 66, 69],\n",
       " [64, 65, 65, 67, 50, 54, 58],\n",
       " [81, 77, 73, 80, 83, 89, 100],\n",
       " [89, 90, 85, 90, 90, 84, 90],\n",
       " [120, 129, 113, 120, 135, 117, 130],\n",
       " [113, 99, 116, 114, 111, 119, 100],\n",
       " [111, 105, 98, 112, 113, 102, 100],\n",
       " [129, 131, 120, 111, 141, 130, 126],\n",
       " [90, 85, 101, 88, 89, 94, 91],\n",
       " [109, 122, 103, 119, 98, 101, 107],\n",
       " [111, 121, 101, 104, 121, 115, 104],\n",
       " [56, 67, 44, 58, 61, 64, 58]]"
      ]
     },
     "execution_count": 66,
     "metadata": {},
     "output_type": "execute_result"
    }
   ],
   "source": [
    "rains_per_month"
   ]
  },
  {
   "cell_type": "markdown",
   "metadata": {},
   "source": [
    "---\n",
    "\n",
    "#### b) Convertire la lista in matrice"
   ]
  },
  {
   "cell_type": "code",
   "execution_count": 67,
   "metadata": {},
   "outputs": [],
   "source": [
    "import numpy as np\n",
    "\n",
    "rains_per_month = np.array(rains_per_month)"
   ]
  },
  {
   "cell_type": "code",
   "execution_count": 68,
   "metadata": {},
   "outputs": [
    {
     "data": {
      "text/plain": [
       "array([[ 75,  63,  65,  50,  77,  66,  69],\n",
       "       [ 64,  65,  65,  67,  50,  54,  58],\n",
       "       [ 81,  77,  73,  80,  83,  89, 100],\n",
       "       [ 89,  90,  85,  90,  90,  84,  90],\n",
       "       [120, 129, 113, 120, 135, 117, 130],\n",
       "       [113,  99, 116, 114, 111, 119, 100],\n",
       "       [111, 105,  98, 112, 113, 102, 100],\n",
       "       [129, 131, 120, 111, 141, 130, 126],\n",
       "       [ 90,  85, 101,  88,  89,  94,  91],\n",
       "       [109, 122, 103, 119,  98, 101, 107],\n",
       "       [111, 121, 101, 104, 121, 115, 104],\n",
       "       [ 56,  67,  44,  58,  61,  64,  58]])"
      ]
     },
     "execution_count": 68,
     "metadata": {},
     "output_type": "execute_result"
    }
   ],
   "source": [
    "rains_per_month"
   ]
  },
  {
   "cell_type": "markdown",
   "metadata": {},
   "source": [
    "### 7) Calcolo della trasposta della matrice dei valori di pioggia"
   ]
  },
  {
   "cell_type": "code",
   "execution_count": null,
   "metadata": {},
   "outputs": [],
   "source": []
  },
  {
   "cell_type": "code",
   "execution_count": 28,
   "metadata": {},
   "outputs": [
    {
     "data": {
      "text/plain": [
       "array([[ 75,  64,  81,  89, 120, 113, 111, 129,  90, 109, 111,  56],\n",
       "       [ 63,  65,  77,  90, 129,  99, 105, 131,  85, 122, 121,  67],\n",
       "       [ 65,  65,  73,  85, 113, 116,  98, 120, 101, 103, 101,  44],\n",
       "       [ 50,  67,  80,  90, 120, 114, 112, 111,  88, 119, 104,  58],\n",
       "       [ 77,  50,  83,  90, 135, 111, 113, 141,  89,  98, 121,  61],\n",
       "       [ 66,  54,  89,  84, 117, 119, 102, 130,  94, 101, 115,  64],\n",
       "       [ 69,  58, 100,  90, 130, 100, 100, 126,  91, 107, 104,  58]])"
      ]
     },
     "execution_count": 28,
     "metadata": {},
     "output_type": "execute_result"
    }
   ],
   "source": [
    "rains_per_year"
   ]
  },
  {
   "cell_type": "markdown",
   "metadata": {},
   "source": [
    "**NOTA BENE**: ogni riga della matrice trasposta contiene le piogge mensili di un determinato anno."
   ]
  },
  {
   "cell_type": "markdown",
   "metadata": {},
   "source": [
    "### 8) Calcolo delle precipitazioni medie mensili (output1)"
   ]
  },
  {
   "cell_type": "markdown",
   "metadata": {},
   "source": [
    "#### a) Calcolo della lista delle precipitazioni medie mensili\n",
    "\n",
    "*Suggerimento:* usare la funzione `mean()` del modulo `numpy`."
   ]
  },
  {
   "cell_type": "code",
   "execution_count": null,
   "metadata": {},
   "outputs": [],
   "source": []
  },
  {
   "cell_type": "code",
   "execution_count": 30,
   "metadata": {},
   "outputs": [
    {
     "data": {
      "text/plain": [
       "[66.42857142857143,\n",
       " 60.42857142857143,\n",
       " 83.28571428571429,\n",
       " 88.28571428571429,\n",
       " 123.42857142857143,\n",
       " 110.28571428571429,\n",
       " 105.85714285714286,\n",
       " 126.85714285714286,\n",
       " 91.14285714285714,\n",
       " 108.42857142857143,\n",
       " 111.0,\n",
       " 58.285714285714285]"
      ]
     },
     "execution_count": 30,
     "metadata": {},
     "output_type": "execute_result"
    }
   ],
   "source": [
    "month_avg_list"
   ]
  },
  {
   "cell_type": "markdown",
   "metadata": {},
   "source": [
    "**NOTA BENE**: il valore i-esimo nella lista è la media relativa al mese i-esimo."
   ]
  },
  {
   "cell_type": "markdown",
   "metadata": {},
   "source": [
    "#### b) Costruzione di una lista di 12 tuple di dimensione 2 in cui ogni tupla contiene le prime tre lettere del nome del mese in maiuscolo come primo elemento e la media mensile come secondo elemento\n",
    "\n",
    "*Suggerimento1:* il metodo `upper()` degli oggetti di tipo `str` restituisce una copia in maiuscolo della stringa invocante.\n",
    "\n",
    "*Suggerimento2:* la funzione `zip()` prende in input una serie di oggetti iterabili della stessa dimensione e restituisce un oggetto che contiene le tuple che uniscono gli elementi nella stessa posizione."
   ]
  },
  {
   "cell_type": "code",
   "execution_count": null,
   "metadata": {},
   "outputs": [],
   "source": []
  },
  {
   "cell_type": "code",
   "execution_count": 34,
   "metadata": {},
   "outputs": [
    {
     "data": {
      "text/plain": [
       "[('GEN', 66.42857142857143),\n",
       " ('FEB', 60.42857142857143),\n",
       " ('MAR', 83.28571428571429),\n",
       " ('APR', 88.28571428571429),\n",
       " ('MAG', 123.42857142857143),\n",
       " ('GIU', 110.28571428571429),\n",
       " ('LUG', 105.85714285714286),\n",
       " ('AGO', 126.85714285714286),\n",
       " ('SET', 91.14285714285714),\n",
       " ('OTT', 108.42857142857143),\n",
       " ('NOV', 111.0),\n",
       " ('DIC', 58.285714285714285)]"
      ]
     },
     "execution_count": 34,
     "metadata": {},
     "output_type": "execute_result"
    }
   ],
   "source": [
    "month_output"
   ]
  },
  {
   "cell_type": "markdown",
   "metadata": {},
   "source": [
    "### 9) Calcolo delle precipitazioni totali annue (output2)"
   ]
  },
  {
   "cell_type": "markdown",
   "metadata": {},
   "source": [
    "#### a) Calcolo della lista delle precipitazioni totali annue"
   ]
  },
  {
   "cell_type": "markdown",
   "metadata": {},
   "source": [
    "*Suggerimento*: la funzione `sum()` restituisce la somma dei valori della lista o della tupla passata come argomento."
   ]
  },
  {
   "cell_type": "code",
   "execution_count": null,
   "metadata": {},
   "outputs": [],
   "source": []
  },
  {
   "cell_type": "code",
   "execution_count": 36,
   "metadata": {},
   "outputs": [
    {
     "data": {
      "text/plain": [
       "[1148, 1154, 1084, 1113, 1169, 1135, 1133]"
      ]
     },
     "execution_count": 36,
     "metadata": {},
     "output_type": "execute_result"
    }
   ],
   "source": [
    "year_total"
   ]
  },
  {
   "cell_type": "markdown",
   "metadata": {},
   "source": [
    "---\n",
    "\n",
    "#### b) Costruzione di una lista di 12 tuple di dimensione 2 in cui ogni tupla contiene il nome dell'anno come primo elemento e la precipitazione totale come secondo elemento"
   ]
  },
  {
   "cell_type": "code",
   "execution_count": null,
   "metadata": {},
   "outputs": [],
   "source": []
  },
  {
   "cell_type": "code",
   "execution_count": 38,
   "metadata": {},
   "outputs": [
    {
     "data": {
      "text/plain": [
       "[('2009', 1148),\n",
       " ('2010', 1154),\n",
       " ('2011', 1084),\n",
       " ('2012', 1113),\n",
       " ('2013', 1169),\n",
       " ('2014', 1135),\n",
       " ('2015', 1133)]"
      ]
     },
     "execution_count": 38,
     "metadata": {},
     "output_type": "execute_result"
    }
   ],
   "source": [
    "year_output1"
   ]
  },
  {
   "cell_type": "markdown",
   "metadata": {},
   "source": [
    "### 10) Calcolo del numero di mesi per anno con pioggia oltre la soglia minima (output3)"
   ]
  },
  {
   "cell_type": "markdown",
   "metadata": {},
   "source": [
    "#### a) Calcolo della lista del numero di mesi (per anno) con pioggia oltre la soglia minima"
   ]
  },
  {
   "cell_type": "code",
   "execution_count": null,
   "metadata": {},
   "outputs": [],
   "source": []
  },
  {
   "cell_type": "code",
   "execution_count": 40,
   "metadata": {},
   "outputs": [
    {
     "data": {
      "text/plain": [
       "[6, 5, 6, 6, 5, 6, 4]"
      ]
     },
     "execution_count": 40,
     "metadata": {},
     "output_type": "execute_result"
    }
   ],
   "source": [
    "year_count"
   ]
  },
  {
   "cell_type": "markdown",
   "metadata": {},
   "source": [
    "#### b) Costruzione di una lista di N=7 tuple di dimensione 2 in cui ogni tupla contiene il nome dell'anno come primo elemento e il numero di mesi con pioggia oltre la soglia come secondo elemento"
   ]
  },
  {
   "cell_type": "code",
   "execution_count": null,
   "metadata": {},
   "outputs": [],
   "source": []
  },
  {
   "cell_type": "code",
   "execution_count": 42,
   "metadata": {},
   "outputs": [
    {
     "data": {
      "text/plain": [
       "[('2009', 6),\n",
       " ('2010', 5),\n",
       " ('2011', 6),\n",
       " ('2012', 6),\n",
       " ('2013', 5),\n",
       " ('2014', 6),\n",
       " ('2015', 4)]"
      ]
     },
     "execution_count": 42,
     "metadata": {},
     "output_type": "execute_result"
    }
   ],
   "source": [
    "year_output2"
   ]
  }
 ],
 "metadata": {
  "kernelspec": {
   "display_name": "Python 3 (ipykernel)",
   "language": "python",
   "name": "python3"
  },
  "language_info": {
   "codemirror_mode": {
    "name": "ipython",
    "version": 3
   },
   "file_extension": ".py",
   "mimetype": "text/x-python",
   "name": "python",
   "nbconvert_exporter": "python",
   "pygments_lexer": "ipython3",
   "version": "3.9.7"
  }
 },
 "nbformat": 4,
 "nbformat_minor": 2
}
