{
 "cells": [
  {
   "cell_type": "markdown",
   "metadata": {},
   "source": [
    "# Esercizio1"
   ]
  },
  {
   "cell_type": "raw",
   "metadata": {},
   "source": [
    "                2009\t2010\t2011\t2012\t2013\t2014\t2015\n",
    "    Gennaio\t\t75\t\t63\t\t65\t\t50\t\t77\t\t66\t\t69\n",
    "    Febbraio\t64\t\t65\t\t65\t\t67\t\t50\t\t54\t\t58\n",
    "    Marzo\t\t81\t\t77\t\t73\t\t80\t\t83\t\t89\t\t100\n",
    "    Aprile\t\t89\t\t90\t\t85\t\t90\t\t90\t\t84\t\t90\n",
    "    Maggio\t\t120\t\t129\t\t113\t\t120\t\t135\t\t117\t\t130\n",
    "    Giugno\t\t113\t\t99\t\t116\t\t114\t\t111\t\t119\t\t100\n",
    "    Luglio\t\t111\t\t105\t\t98\t\t112\t\t113\t\t102\t\t100\n",
    "    Agosto\t\t129\t\t131\t\t120\t\t111\t\t141\t\t130\t\t126\n",
    "    Settembre\t90\t\t85\t\t101\t\t88\t\t89\t\t94\t\t91\n",
    "    Ottobre\t\t109\t\t122\t\t103\t\t119\t\t98\t\t101\t\t107\n",
    "    Novembre\t111\t\t121\t\t101\t\t104\t\t121\t\t115\t\t104\n",
    "    Dicembre\t56\t\t67\t\t44\t\t58\t\t61\t\t64\t\t58"
   ]
  },
  {
   "cell_type": "markdown",
   "metadata": {},
   "source": [
    "Si consideri il dataset delle precipitazioni mensili (mm) nei sette anni dal 2009 al 2015, che ha il seguente formato: 13 record di campi separati da tabulazione di cui il primo è il record di intestazione degli anni (composto da 7 campi) e gli altri 12 sono i record delle piogge mensili (un record per ciascun mese) composti da 8 campi di cui il primo è il nome del mese e i rimanenti 7 sono le piogge mensili lungo gli anni.\n",
    "\n",
    "Si richiede di predisporre un notebook che permetta di calcolare:\n",
    "\n",
    "- le precipitazioni medie mensili (media di pioggia lungo gli anni per ognuno dei mesi)\n",
    "- le precipitazioni totali annue (totale di pioggia per ognuno degli anni)\n",
    "- per ognuno degli anni considerati, il numero di mesi con pioggia oltre una certa soglia\n",
    "\n",
    "---\n",
    "\n",
    "Parametri di input:\n",
    "- dataset delle precipitazioni\n",
    "- soglia minima di pioggia\n",
    "\n",
    "---\n",
    "\n",
    "Requisiti:\n",
    "- il notebook deve essere generale rispetto al dataset di input\n",
    "\n",
    "- definire la funzione `count_elements_greater_than()` che prenda in input una lista di numeri e un valore di soglia e produca in output il numero di valori che superano tale soglia\n",
    "\n",
    "---\n",
    "\n",
    "Come produrre l'output?\n",
    "\n",
    "- **piogge medie mensili**: lista di 12 tuple di dimensione 2 in cui il primo elemento è il nome del mese (solo le prime tre lettere in maiuscolo) e il secondo elemento è il valore medio di pioggia (numero decimale).\n",
    "\n",
    "- **piogge totali annue**: lista di 7 tuple di dimensione 2 in cui il primo elemento è l'anno e il secondo elemento è il valore totale di pioggia (numero intero).\n",
    "\n",
    "- **numero di mesi (per anno) con pioggia oltre la soglia minima**: lista di 7 tuple di dimensione 2 in cui il primo elemento è l'anno e il secondo elemento è il numero di mesi con pioggia oltre la soglia minima (numero intero)\n",
    "\n",
    "---"
   ]
  },
  {
   "cell_type": "markdown",
   "metadata": {},
   "source": [
    "## Cosa serve per svolgere l'esercizio?\n",
    "\n",
    "### 1) Leggere le righe di un file\n",
    "\n",
    "Prima alternativa:\n",
    "\n",
    "    input_file =  open(input_file_name, ’r’)    \n",
    "    file_rows = input_file.readlines()\n",
    "    \n",
    "    [processa file_rows]\n",
    "    \n",
    "    input_file.close()\n",
    "    \n",
    "---\n",
    "\n",
    "Seconda alternativa:\n",
    "\n",
    "    with open(input_file_name, ’r’) as input_file:\n",
    "        file_rows = input_file.readlines()\n",
    "        \n",
    "    [processa file_rows]\n",
    "    \n",
    "---\n",
    "    \n",
    "        \n",
    "`input_file`: *file handle* in lettura \n",
    "\n",
    "`input_file_name`: nome del file (oggetto `str`)\n",
    "\n",
    "`file_rows`: lista (oggetto `list`) con le righe (oggetti `str`).\n",
    "\n",
    "---"
   ]
  },
  {
   "cell_type": "markdown",
   "metadata": {},
   "source": [
    "### 2) Costruire una matrice"
   ]
  },
  {
   "cell_type": "markdown",
   "metadata": {},
   "source": [
    "Una matrice può essere implementata in Python come una lista di liste della stessa dimensione. Ad esempio, la seguente è una matrice di 3 righe e 4 colonne"
   ]
  },
  {
   "cell_type": "code",
   "execution_count": 6,
   "metadata": {},
   "outputs": [],
   "source": [
    "lista = [[1, 2, 3, 4], [5, 6, 7, 8], [9, 10, 11, 12]]"
   ]
  },
  {
   "cell_type": "markdown",
   "metadata": {},
   "source": [
    "---\n",
    "\n",
    "Python permette di trasformarla in un oggetto della classe `ndarray`, definita nel modulo `numpy`, che mette a disposizione la funzione `array()` per trasformare una lista di liste in un oggetto `ndarray` e mette a disposizione le funzioni per eseguire le tipiche operazioni su matrici."
   ]
  },
  {
   "cell_type": "code",
   "execution_count": null,
   "metadata": {},
   "outputs": [],
   "source": []
  },
  {
   "cell_type": "markdown",
   "metadata": {},
   "source": [
    "Si può usare la stessa sintassi di accesso delle liste."
   ]
  },
  {
   "cell_type": "code",
   "execution_count": null,
   "metadata": {},
   "outputs": [],
   "source": []
  },
  {
   "cell_type": "markdown",
   "metadata": {},
   "source": [
    "La scansione delle righe avviene con ciclo for."
   ]
  },
  {
   "cell_type": "code",
   "execution_count": null,
   "metadata": {},
   "outputs": [],
   "source": []
  },
  {
   "cell_type": "markdown",
   "metadata": {},
   "source": [
    "La funzione `len()` restituisce il numero di righe della matrice."
   ]
  },
  {
   "cell_type": "code",
   "execution_count": null,
   "metadata": {},
   "outputs": [],
   "source": []
  },
  {
   "cell_type": "markdown",
   "metadata": {},
   "source": [
    "La funzione `transpose()` di `numpy` permette di ottenere la trasposta di una matrice."
   ]
  },
  {
   "cell_type": "code",
   "execution_count": null,
   "metadata": {},
   "outputs": [],
   "source": []
  },
  {
   "cell_type": "markdown",
   "metadata": {},
   "source": [
    "Il metodo `transpose()` degli oggetti `ndarray` permette di ottenere la trasposta della matrice invocante."
   ]
  },
  {
   "cell_type": "code",
   "execution_count": null,
   "metadata": {},
   "outputs": [],
   "source": []
  }
 ],
 "metadata": {
  "kernelspec": {
   "display_name": "Python 3 (ipykernel)",
   "language": "python",
   "name": "python3"
  },
  "language_info": {
   "codemirror_mode": {
    "name": "ipython",
    "version": 3
   },
   "file_extension": ".py",
   "mimetype": "text/x-python",
   "name": "python",
   "nbconvert_exporter": "python",
   "pygments_lexer": "ipython3",
   "version": "3.9.7"
  }
 },
 "nbformat": 4,
 "nbformat_minor": 2
}
