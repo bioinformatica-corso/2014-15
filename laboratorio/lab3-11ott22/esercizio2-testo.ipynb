{
 "cells": [
  {
   "cell_type": "markdown",
   "metadata": {},
   "source": [
    "# Esercizio2\n",
    "\n",
    "Considerare il file `movies.csv` ottenuto dal dataset KAGGLE scaricabile all'indirizzo https://www.kaggle.com/rounakbanik/the-movies-dataset#movies_metadata.csv.\n",
    "Tale dataset è in formato `csv` e contiene le informazioni su 1000 film in *record* di 7 campi separati da virgola.\n",
    "Il primo record è l'intestazione dei campi.\n",
    "\n",
    "Il file `movies.csv` contiene solo un subset dei campi del dataset originale."
   ]
  },
  {
   "cell_type": "markdown",
   "metadata": {},
   "source": [
    "Si richiede di:\n",
    "- elencare i 10 paesi che hanno prodotto più film, ordinandoli per numero decrescente di film prodotti e specificando tale numero\n",
    "- trovare, per ogni genere presente nel dataset, il film più popolare (associato a tale genere)\n",
    "\n",
    "\n",
    "Come produrre l'output?\n",
    "\n",
    "- **i 10 paesi che hanno prodotto più film**: lista di 10 tuple di due elementi `(nome del paese, numero di film prodotti)`, ordinate per numero decrescente di film prodotti\n",
    "- **film più popolare per genere**: dizionario dove le chiavi sono i generi e il valore relativo a una data chiave è il titolo del film più popolare per quel genere.\n",
    "\n",
    "--- \n",
    "\n",
    "**Requisito**: definire una funzione `get_items()` che prenda in input il valore di uno qualsiasi tra i due campi `genres`e `production_countries` ed estragga:\n",
    "- la lista dei generi nel caso si passi come argomento il valore di un campo `genres`\n",
    "- la lista dei paesi di produzione nel caso si passi come argomento il valore di un campo `production_countries`\n",
    "\n",
    "Ad esempio dal valore del campo `genres`:\n",
    "\n",
    "        [{'id': 16, 'name': 'Animation'}, {'id': 35, 'name': 'Comedy'}]\n",
    "\n",
    "la funzione deve restituire la lista `['Animation', 'Comedy']`,\n",
    "\n",
    "mentre dal valore del campo `production_countries`:\n",
    "\n",
    "        [{'iso_3166_1': 'DE', 'name': 'Germany'}, {'iso_3166_1': 'US', 'name': 'United States of America'}]\n",
    "    \n",
    "la funzione deve restituire la lista `['Germany', 'United States of America']`.\n",
    "\n",
    "---"
   ]
  },
  {
   "cell_type": "markdown",
   "metadata": {},
   "source": [
    "### 1) Come leggere un file csv\n",
    "\n",
    "Il modulo `pandas` mette a disposizione la funzione `read_csv()` per leggere un file in formato `csv`:\n",
    "\n",
    "    import pandas as pd\n",
    "    df = pd.read_csv(input_file_name)\n",
    "\n",
    "L'oggetto restituito è di tipo `DataFrame`, cioé una tabella organizzata in righe (*record*) e colonne intestate."
   ]
  },
  {
   "cell_type": "code",
   "execution_count": null,
   "metadata": {},
   "outputs": [],
   "source": [
    "import pandas as pd\n",
    "df = pd.read_csv('./movies.csv')\n",
    "df"
   ]
  },
  {
   "cell_type": "markdown",
   "metadata": {},
   "source": [
    "Per iterare lungo i record del *data frame* basta invocare il metodo `iterrows()` che restituisce un oggetto di tipo `generator` da usare in un ciclo `for` di scansione.\n",
    "\n",
    "    for (index, record) in df.iterrows():\n",
    "        do_something\n",
    "\n",
    "Ogni elemento fornito dell'iteratore è una tupla di due elementi:\n",
    "- `index`: indice progressivo del record (valore intero)\n",
    "- `record`: oggetto di tipo `Series` che contiene i campi del *record*\n",
    "\n",
    "Accesso al campo relativo alla colonna con nome `column_name` del *record* `record` avviene usando la seguente sintassi:\n",
    "\n",
    "    record[column_name]"
   ]
  },
  {
   "cell_type": "code",
   "execution_count": null,
   "metadata": {
    "scrolled": false
   },
   "outputs": [],
   "source": [
    "for (index, record) in df.iterrows():\n",
    "    print(type(record['popularity']))"
   ]
  }
 ],
 "metadata": {
  "kernelspec": {
   "display_name": "Python 3 (ipykernel)",
   "language": "python",
   "name": "python3"
  },
  "language_info": {
   "codemirror_mode": {
    "name": "ipython",
    "version": 3
   },
   "file_extension": ".py",
   "mimetype": "text/x-python",
   "name": "python",
   "nbconvert_exporter": "python",
   "pygments_lexer": "ipython3",
   "version": "3.9.7"
  }
 },
 "nbformat": 4,
 "nbformat_minor": 2
}
