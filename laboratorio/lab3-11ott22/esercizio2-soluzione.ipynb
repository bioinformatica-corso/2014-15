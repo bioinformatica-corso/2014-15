{
 "cells": [
  {
   "cell_type": "markdown",
   "metadata": {},
   "source": [
    "# Esercizio2 - Soluzione"
   ]
  },
  {
   "cell_type": "markdown",
   "metadata": {},
   "source": [
    "### 1) Dataset in input"
   ]
  },
  {
   "cell_type": "code",
   "execution_count": null,
   "metadata": {},
   "outputs": [],
   "source": [
    "input_file_name = './movies.csv'"
   ]
  },
  {
   "cell_type": "markdown",
   "metadata": {},
   "source": [
    "### 2) Definizione della funzione `get_items()`\n",
    "\n",
    "*Suggerimento*: la funzione `literal_eval()` del modulo `ast` prende come argomento una stringa e restituice l'oggetto rappresentato *letteralmente* dalla stringa."
   ]
  },
  {
   "cell_type": "code",
   "execution_count": null,
   "metadata": {},
   "outputs": [],
   "source": [
    "import ast"
   ]
  },
  {
   "cell_type": "code",
   "execution_count": null,
   "metadata": {},
   "outputs": [],
   "source": [
    "def get_items(field):\n",
    "    return [d['name'] for d in ast.literal_eval(field)]  "
   ]
  },
  {
   "cell_type": "code",
   "execution_count": null,
   "metadata": {},
   "outputs": [],
   "source": [
    "field = \"[{'iso_3166_1': 'DE', 'name': 'Germany'}, {'iso_3166_1': 'US', 'name': 'United States of America'}]\"\n",
    "get_items(field)"
   ]
  },
  {
   "cell_type": "markdown",
   "metadata": {},
   "source": [
    "### 3) Lettura del file csv con Pandas"
   ]
  },
  {
   "cell_type": "code",
   "execution_count": null,
   "metadata": {},
   "outputs": [],
   "source": [
    "import pandas as pd\n",
    "df = pd.read_csv(input_file_name)\n",
    "df"
   ]
  },
  {
   "cell_type": "markdown",
   "metadata": {},
   "source": [
    "### 4) Estrazione dei 10 paesi che hanno prodotto più film"
   ]
  },
  {
   "cell_type": "markdown",
   "metadata": {},
   "source": [
    "a) Costruire la lista dei paesi che hanno prodotto film, in modo tale che ciascun paese sia essere presente nella lista esattamente un numero di volte pari al numero di film prodotti.\n",
    "\n",
    "*Suggerimento*: il metodo `extend()` degli oggetti `list` permette di estendere la lista invocante con gli elementi della lista passata come argomento."
   ]
  },
  {
   "cell_type": "code",
   "execution_count": null,
   "metadata": {},
   "outputs": [],
   "source": [
    "country_list = []\n",
    "for (index, record) in df.iterrows():\n",
    "    country_list.extend(get_items(record['production_countries']))"
   ]
  },
  {
   "cell_type": "code",
   "execution_count": null,
   "metadata": {},
   "outputs": [],
   "source": [
    "country_list"
   ]
  },
  {
   "cell_type": "markdown",
   "metadata": {},
   "source": [
    "b) Costruire la lista dei 10 paesi che hanno prodotto più film, ordinandoli per numero decrescente di film prodotti. Ogni paese deve comparire come tupla a due dimensioni contenente il nome del paese e il numero di film prodotti."
   ]
  },
  {
   "cell_type": "code",
   "execution_count": null,
   "metadata": {},
   "outputs": [],
   "source": [
    "from collections import Counter\n",
    "\n",
    "country_rank_list = Counter(country_list).most_common()[:10]"
   ]
  },
  {
   "cell_type": "code",
   "execution_count": null,
   "metadata": {},
   "outputs": [],
   "source": [
    "country_rank_list"
   ]
  },
  {
   "cell_type": "markdown",
   "metadata": {},
   "source": [
    "### 5) Trovare, per ogni genere presente nel dataset, il film più popolare\n",
    "\n",
    "a) Costruire il dizionario delle popolarità:\n",
    "\n",
    "- *chiave*: genere\n",
    "- *valore*: lista dei film associati al genere\n",
    "\n",
    "Ognuno dei film deve essere inserito come tupla `(popolarità, titolo)`\n",
    "\n",
    "**NB**: controllare che il valore del campo `popularity` sia diverso da `NaN` (Not a Number) tramite la funzione `isnan()` di `numpy`.\n",
    "\n",
    "*Suggerimento*: il metodo `get()` degli oggetti di tipo `dict` restituisce il valore associato alla chiave passata come primo argomento, oppure il valore di default passato come secondo argomento se la chiave non è presente."
   ]
  },
  {
   "cell_type": "code",
   "execution_count": null,
   "metadata": {},
   "outputs": [],
   "source": [
    "import numpy as np"
   ]
  },
  {
   "cell_type": "code",
   "execution_count": null,
   "metadata": {},
   "outputs": [],
   "source": [
    "pop_dict = {}"
   ]
  },
  {
   "cell_type": "code",
   "execution_count": null,
   "metadata": {},
   "outputs": [],
   "source": [
    "for (index, record) in df.iterrows():\n",
    "    if np.isnan(record['popularity']) == False:\n",
    "        for gen in get_items(record['genres']):\n",
    "            value = pop_dict.get(gen, [])\n",
    "            value.append((record['popularity'], record['original_title']))\n",
    "            pop_dict[gen] = value"
   ]
  },
  {
   "cell_type": "code",
   "execution_count": null,
   "metadata": {},
   "outputs": [],
   "source": [
    "pop_dict"
   ]
  },
  {
   "cell_type": "markdown",
   "metadata": {},
   "source": [
    "b) Trasformare il dizionario in modo che abbia la seguente struttura:\n",
    "\n",
    "- *chiave*: genere\n",
    "- *valore*: titolo del film più popolare\n",
    "\n",
    "*Suggerimento*: usare il metodo *inplace* `sort()` degli oggetti `list` che, invocato senza argomento, ordina per valori crescenti e invocato con il parametro `reverse = True` ordina per valori decrescenti."
   ]
  },
  {
   "cell_type": "code",
   "execution_count": null,
   "metadata": {},
   "outputs": [],
   "source": [
    "for gen in pop_dict:\n",
    "    movie_list = pop_dict[gen]\n",
    "    movie_list.sort(reverse = True)\n",
    "    pop_dict[gen] = movie_list[0][1]"
   ]
  },
  {
   "cell_type": "code",
   "execution_count": null,
   "metadata": {},
   "outputs": [],
   "source": [
    "pop_dict"
   ]
  }
 ],
 "metadata": {
  "kernelspec": {
   "display_name": "Python 3 (ipykernel)",
   "language": "python",
   "name": "python3"
  },
  "language_info": {
   "codemirror_mode": {
    "name": "ipython",
    "version": 3
   },
   "file_extension": ".py",
   "mimetype": "text/x-python",
   "name": "python",
   "nbconvert_exporter": "python",
   "pygments_lexer": "ipython3",
   "version": "3.9.7"
  }
 },
 "nbformat": 4,
 "nbformat_minor": 2
}
