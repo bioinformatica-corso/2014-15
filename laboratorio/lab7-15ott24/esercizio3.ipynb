{
 "cells": [
  {
   "cell_type": "markdown",
   "metadata": {},
   "source": [
    "# Esercizio 3\n",
    "\n",
    "EMBL (https://www.ebi.ac.uk) è una banca di sequenze nucleotidiche sviluppata da EMBL-EBI (European Bioinformatics Institute (EBI) - European Molecular Biology Laboratory (EMBL),. Ogni sequenza nucleotidica (*entry*) viene memorizzata, con altre informazioni, in un file di puro testo in un formato che prende il nome di `EMBL`.\n",
    "\n",
    "**Il formato `EMBL`** è composto da *record* a struttura variabile che iniziano con un codice a due lettere maiuscole che ne indica il contenuto. I soli *record* che non iniziano con un codice a due lettere sono quelli contenenti la sequenza nucleotidica.\n",
    "Il record `//` segnala la fine dell'*entry*.\n",
    "\n",
    "L'esercizio richiede di leggere il file `M10051.embl` che contiene la sequenza nucleotidica di un mRNA (cioé di un trascritto espresso da un gene). `M10051` è l'identificatore univoco (Accession Number) della sequenza.\n",
    "\n",
    "Si richiede di produrre, in due file diversi, entrambi in formato `FASTA`, la sequenza nucleotidica (in lettere maiuscole e su alfabeto `{A,C,G,U}`) e la sequenza della proteina espressa da tale mRNA. La sequenza nucleotidica deve essere separata in *record* di 80 caratteri mentre quella della proteina in *record* di 60 caratteri.\n",
    "\n",
    "Inoltre, si richiede di verificare che la composizione in basi della sequenza nucleotidica ricostruita dal file `EMBL` corrisponda a quella dichiarata nel *record*:\n",
    "\n",
    "        SQ   Sequence 4723 BP; 1068 A; 1298 C; 1311 G; 1046 T; 0 other;\n",
    "\n",
    "---\n",
    "\n",
    "Requisiti dei file di output:\n",
    "\n",
    "- nell’*header* `FASTA` della sequenza nucleotidica devono essere specificati l’identificatore univoco della sequenza e l’organismo a cui si riferisce, nel seguente formato:\n",
    "\n",
    "        >M10051-HUM\n",
    "                \n",
    "- nell’*header* `FASTA` della sequenza della proteina devono essere specificati l’identificatore univoco della sequenza, l’organismo e la lunghezza della proteina, nel seguente formato:\n",
    "\n",
    "        >M10051-HUM; len = 1382\n",
    "        \n",
    "***"
   ]
  },
  {
   "cell_type": "markdown",
   "metadata": {},
   "source": [
    "## Indicazioni sul formato `EMBL`\n",
    "\n",
    "- Il record che inizia con `ID` (primo record):\n",
    " \n",
    "       ID   M10051; SV 1; linear; mRNA; STD; HUM; 4723 BP.\n",
    "\n",
    "contiene l'identificatore univoco della sequenza (M10051) e l'organismo (HUM). Il fatto che il file si riferisca alla sequenza nucleotidica di un mRNA è indicato dalla presenza della parola `mRNA`.\n",
    "\n",
    "- L'insieme dei record che iniziano con `FT` contiene le *features* annotate sulla sequenza nucleotidica. In particolare tutti i record della sezione:\n",
    "\n",
    "       FT                   /translation=\"MGTGGRRGAAAAPLLVAVAALLLGAAGHLYPGEVCPGMDIRNNLT\n",
    "       FT                   RLHELENCSVIEGHLQILLMFKTRPEDFRDLSFPKLIMITDYLLLFRVYGLESLKDLFP\n",
    "       FT                   NLTVIRGSRLFFNYALVIFEMVHLKELGLYNLMNITRGSVRIEKNNELCYLATIDWSRI\n",
    "       FT                   LDSVEDNHIVLNKDDNEECGDICPGTAKGKTNCPATVINGQFVERCWTHSHCQKVCPTI\n",
    "       FT                   [...]\n",
    "       FT                   DGGSSLGFKRSYEEHIPYTHMNGGKKNGRILTLPRSNPS\"\n",
    "        \n",
    "contengono la traduzione in proteina dell'mRNA dell'*entry*.\n",
    "\n",
    "- Il record che inizia con `SQ`:\n",
    "\n",
    "        SQ   Sequence 4723 BP; 1068 A; 1298 C; 1311 G; 1046 T; 0 other;\n",
    "        \n",
    "introduce la sezione della sequenza nucleotidica e fornisce la sua composizione nucleotidica. \n",
    "\n",
    "La sequenza nucleotidica viene rappresentata tramite una serie di *record* che iniziano con degli spazi, e ogni *record* contiene un pezzo di sequenza lungo 60 basi (tranne eventualmente l'ultimo). Ogni pezzo di 60 basi è a sua volta separato in pezzi di 10 basi.\n",
    "Il numero intero alla fine di un *record* di sequenza fornisce la lunghezza totale della sequenza fino al *record* corrente.\n",
    "\n",
    "La sequenza nucleotidica riportata è su alfabeto `{a,c,g,t}` nonostante rappresenti la sequenza primaria di un mRNA.\n",
    "\n",
    "    SQ   Sequence 4723 BP; 1068 A; 1298 C; 1311 G; 1046 T; 0 other;\n",
    "         ggggggctgc gcggccgggt cggtgcgcac acgagaagga cgcgcggccc ccagcgctct        60\n",
    "         tgggggccgc ctcggagcat gacccccgcg ggccagcgcc gcgcgcctga tccgaggaga       120\n",
    "         ccccgcgctc ccgcagccat gggcaccggg ggccggcggg gggcggcggc cgcgccgctg       180\n",
    "         ctggtggcgg tggccgcgct gctactgggc gccgcgggcc acctgtaccc cggagaggtg       240\n",
    "         tgtcccggca tggatatccg gaacaacctc actaggttgc atgagctgga gaattgctct       300\n",
    "         gtcatcgaag gacacttgca gatactcttg atgttcaaaa cgaggcccga agatttccga       360\n",
    "         gacctcagtt tccccaaact catcatgatc actgattact tgctgctctt ccgggtctat       420\n",
    "         gggctcgaga gcctgaagga cctgttcccc aacctcacgg tcatccgggg atcacgactg       480\n",
    "         [...]\n",
    "         tttttcgttc cccccacccg cccccagcag atggaaagaa agcacctgtt tttacaaatt      4620\n",
    "         cttttttttt tttttttttt tttttttttg ctggtgtctg agcttcagta taaaagacaa      4680\n",
    "         aacttcctgt ttgtggaaca aaatttcgaa agaaaaaacc aaa                        4723\n",
    "    //\n",
    "    \n",
    "Il file termina con il record `//`."
   ]
  },
  {
   "cell_type": "markdown",
   "metadata": {},
   "source": [
    "## Dataset in input"
   ]
  },
  {
   "cell_type": "code",
   "execution_count": 5,
   "metadata": {},
   "outputs": [],
   "source": [
    "input_file_name = './M10051.embl'"
   ]
  },
  {
   "cell_type": "markdown",
   "metadata": {},
   "source": [
    "## Importare il modulo `re`"
   ]
  },
  {
   "cell_type": "code",
   "execution_count": 6,
   "metadata": {},
   "outputs": [],
   "source": [
    "import re"
   ]
  },
  {
   "cell_type": "markdown",
   "metadata": {},
   "source": [
    "## Definire la funzione che formatta una sequenza in `FASTA` \n",
    "\n",
    "La funzione deve prende come argomenti un *header* `FASTA`, una sequenza (nucleotidica o amminoacidica) e la dimensione dei *record* in cui separare la sequenza.\n",
    "\n",
    "La funzione dve restituire la sequenza in formato `FASTA`."
   ]
  },
  {
   "cell_type": "code",
   "execution_count": null,
   "metadata": {},
   "outputs": [],
   "source": []
  },
  {
   "cell_type": "markdown",
   "metadata": {},
   "source": [
    "## Lettura del file `EMBL`"
   ]
  },
  {
   "cell_type": "code",
   "execution_count": 8,
   "metadata": {},
   "outputs": [],
   "source": []
  },
  {
   "cell_type": "markdown",
   "metadata": {},
   "source": [
    "## Estrarre l'identificatore univoco e l'organismo"
   ]
  },
  {
   "cell_type": "markdown",
   "metadata": {},
   "source": [
    "Estrarre dal *record* `ID`:\n",
    "\n",
    "    ID   M10051; SV 1; linear; mRNA; STD; HUM; 4723 BP.\n",
    "    \n",
    "l'identificatore univoco `M10051` e l'organismo `HUM`."
   ]
  },
  {
   "cell_type": "markdown",
   "metadata": {},
   "source": [
    "a) Estrarre l'identificatore."
   ]
  },
  {
   "cell_type": "code",
   "execution_count": null,
   "metadata": {},
   "outputs": [],
   "source": []
  },
  {
   "cell_type": "code",
   "execution_count": 11,
   "metadata": {},
   "outputs": [
    {
     "data": {
      "text/plain": [
       "'M10051'"
      ]
     },
     "execution_count": 11,
     "metadata": {},
     "output_type": "execute_result"
    }
   ],
   "source": [
    "identifier"
   ]
  },
  {
   "cell_type": "markdown",
   "metadata": {},
   "source": [
    "b) Estrarre l'organismo."
   ]
  },
  {
   "cell_type": "code",
   "execution_count": null,
   "metadata": {},
   "outputs": [],
   "source": []
  },
  {
   "cell_type": "code",
   "execution_count": 13,
   "metadata": {},
   "outputs": [
    {
     "data": {
      "text/plain": [
       "'HUM'"
      ]
     },
     "execution_count": 13,
     "metadata": {},
     "output_type": "execute_result"
    }
   ],
   "source": [
    "organism"
   ]
  },
  {
   "cell_type": "markdown",
   "metadata": {},
   "source": [
    "## Estrarre la sequenza nucleotidica (in lettere maiuscole)"
   ]
  },
  {
   "cell_type": "code",
   "execution_count": null,
   "metadata": {},
   "outputs": [],
   "source": []
  },
  {
   "cell_type": "code",
   "execution_count": 22,
   "metadata": {},
   "outputs": [
    {
     "data": {
      "text/plain": [
       "'GGGGGGCTGCGCGGCCGGGTCGGTGCGCACACGAGAAGGACGCGCGGCCCCCAGCGCTCTTGGGGGCCGCCTCGGAGCATGACCCCCGCGGGCCAGCGCCGCGCGCCTGATCCGAGGAGACCCCGCGCTCCCGCAGCCATGGGCACCGGGGGCCGGCGGGGGGCGGCGGCCGCGCCGCTGCTGGTGGCGGTGGCCGCGCTGCTACTGGGCGCCGCGGGCCACCTGTACCCCGGAGAGGTGTGTCCCGGCATGGATATCCGGAACAACCTCACTAGGTTGCATGAGCTGGAGAATTGCTCTGTCATCGAAGGACACTTGCAGATACTCTTGATGTTCAAAACGAGGCCCGAAGATTTCCGAGACCTCAGTTTCCCCAAACTCATCATGATCACTGATTACTTGCTGCTCTTCCGGGTCTATGGGCTCGAGAGCCTGAAGGACCTGTTCCCCAACCTCACGGTCATCCGGGGATCACGACTGTTCTTTAACTACGCGCTGGTCATCTTCGAGATGGTTCACCTCAAGGAACTCGGCCTCTACAACCTGATGAACATCACCCGGGGTTCTGTCCGCATCGAGAAGAACAATGAGCTCTGTTACTTGGCCACTATCGACTGGTCCCGTATCCTGGATTCCGTGGAGGATAATCACATCGTGTTGAACAAAGATGACAACGAGGAGTGTGGAGACATCTGTCCGGGTACCGCGAAGGGCAAGACCAACTGCCCCGCCACCGTCATCAACGGGCAGTTTGTCGAACGATGTTGGACTCATAGTCACTGCCAGAAAGTTTGCCCGACCATCTGTAAGTCACACGGCTGCACCGCCGAAGGCCTCTGTTGCCACAGCGAGTGCCTGGGCAACTGTTCTCAGCCCGACGACCCCACCAAGTGCGTGGCCTGCCGCAACTTCTACCTGGACGGCAGGTGTGTGGAGACCTGCCCGCCCCCGTACTACCACTTCCAGGACTGGCGCTGTGTGAACTTCAGCTTCTGCCAGGACCTGCACCACAAATGCAAGAACTCGCGGAGGCAGGGCTGCCACCAATACGTCATTCACAACAACAAGTGCATCCCTGAGTGTCCCTCCGGGTACACGATGAATTCCAGCAACTTGCTGTGCACCCCATGCCTGGGTCCCTGTCCCAAGGTGTGCCACCTCCTAGAAGGCGAGAAGACCATCGACTCGGTGACGTCTGCCCAGGAGCTCCGAGGATGCACCGTCATCAACGGGAGTCTGATCATCAACATTCGAGGAGGCAACAATCTGGCAGCTGAGCTAGAAGCCAACCTCGGCCTCATTGAAGAAATTTCAGGGTATCTAAAAATCCGCCGATCCTACGCTCTGGTGTCACTTTCCTTCTTCCGGAAGTTACGTCTGATTCGAGGAGAGACCTTGGAAATTGGGAACTACTCCTTCTATGCCTTGGACAACCAGAACCTAAGGCAGCTCTGGGACTGGAGCAAACACAACCTCACCACCACTCAGGGGAAACTCTTCTTCCACTATAACCCCAAACTCTGCTTGTCAGAAATCCACAAGATGGAAGAAGTTTCAGGAACCAAGGGGCGCCAGGAGAGAAACGACATTGCCCTGAAGACCAATGGGGACAAGGCATCCTGTGAAAATGAGTTACTTAAATTTTCTTACATTCGGACATCTTTTGACAAGATCTTGCTGAGATGGGAGCCGTACTGGCCCCCCGACTTCCGAGACCTCTTGGGGTTCATGCTGTTCTACAAAGAGGCCCCTTATCAGAATGTGACGGAGTTCGATGGGCAGGATGCGTGTGGTTCCAACAGTTGGACGGTGGTAGACATTGACCCACCCCTGAGGTCCAACGACCCCAAATCACAGAACCACCCAGGGTGGCTGATGCGGGGTCTCAAGCCCTGGACCCAGTATGCCATCTTTGTGAAGACCCTGGTCACCTTTTCGGATGAACGCCGGACCTATGGGGCCAAGAGTGACATCATTTATGTCCAGACAGATGCCACCAACCCCTCTGTGCCCCTGGATCCAATCTCAGTGTCTAACTCATCATCCCAGATTATTCTGAAGTGGAAACCACCCTCCGACCCCAATGGCAACATCACCCACTACCTGGTTTTCTGGGAGAGGCAGGCGGAAGACAGTGAGCTGTTCGAGCTGGATTATTGCCTCAAAGGGCTGAAGCTGCCCTCGAGGACCTGGTCTCCACCATTCGAGTCTGAAGATTCTCAGAAGCACAACCAGAGTGAGTATGAGGATTCGGCCGGCGAATGCTGCTCCTGTCCAAAGACAGACTCTCAGATCCTGAAGGAGCTGGAGGAGTCCTCGTTTAGGAAGACGTTTGAGGATTACCTGCACAACGTGGTTTTCGTCCCCAGAAAAACCTCTTCAGGCACTGGTGCCGAGGACCCTAGGCCATCTCGGAAACGCAGGTCCCTTGGCGATGTTGGGAATGTGACGGTGGCCGTGCCCACGGTGGCAGCTTTCCCCAACACTTCCTCGACCAGCGTGCCCACGAGTCCGGAGGAGCACAGGCCTTTTGAGAAGGTGGTGAACAAGGAGTCGCTGGTCATCTCCGGCTTGCGACACTTCACGGGCTATCGCATCGAGCTGCAGGCTTGCAACCAGGACACCCCTGAGGAACGGTGCAGTGTGGCAGCCTACGTCAGTGCGAGGACCATGCCTGAAGCCAAGGCTGATGACATTGTTGGCCCTGTGACGCATGAAATCTTTGAGAACAACGTCGTCCACTTGATGTGGCAGGAGCCGAAGGAGCCCAATGGTCTGATCGTGCTGTATGAAGTGAGTTATCGGCGATATGGTGATGAGGAGCTGCATCTCTGCGTCTCCCGCAAGCACTTCGCTCTGGAACGGGGCTGCAGGCTGCGTGGGCTGTCACCGGGGAACTACAGCGTGCGAATCCGGGCCACCTCCCTTGCGGGCAACGGCTCTTGGACGGAACCCACCTATTTCTACGTGACAGACTATTTAGACGTCCCGTCAAATATTGCAAAAATTATCATCGGCCCCCTCATCTTTGTCTTTCTCTTCAGTGTTGTGATTGGAAGTATTTATCTATTCCTGAGAAAGAGGCAGCCAGATGGGCCGCTGGGACCGCTTTACGCTTCTTCAAACCCTGAGTATCTCAGTGCCAGTGATGTGTTTCCATGCTCTGTGTACGTGCCGGACGAGTGGGAGGTGTCTCGAGAGAAGATCACCCTCCTTCGAGAGCTGGGGCAGGGCTCCTTCGGCATGGTGTATGAGGGCAATGCCAGGGACATCATCAAGGGTGAGGCAGAGACCCGCGTGGCGGTGAAGACGGTCAACGAGTCAGCCAGTCTCCGAGAGCGGATTGAGTTCCTCAATGAGGCCTCGGTCATGAAGGGCTTCACCTGCCATCACGTGGTGCGCCTCCTGGGAGTGGTGTCCAAGGGCCAGCCCACGCTGGTGGTGATGGAGCTGATGGCTCACGGAGACCTGAAGAGCTACCTCCGTTCTCTGCGGCCAGAGGCTGAGAATAATCCTGGCCGCCCTCCCCCTACCCTTCAAGAGATGATTCAGATGGCGGCAGAGATTGCTGACGGGATGGCCTACCTGAACGCCAAGAAGTTTGTGCATCGGGACCTGGCAGCGAGAAACTGCATGGTCGCCCATGATTTTACTGTCAAAATTGGAGACTTTGGAATGACCAGAGACATCTATGAAACGGATTACTACCGGAAAGGGGGCAAGGGTCTGCTCCCTGTACGGTGGATGGCACCGGAGTCCCTGAAGGATGGGGTCTTCACCACTTCTTCTGACATGTGGTCCTTTGGCGTGGTCCTTTGGGAAATCACCAGCTTGGCAGAACAGCCTTACCAAGGCCTGTCTAATGAACAGGTGTTGAAATTTGTCATGGATGGAGGGTATCTGGATCAACCCGACAACTGTCCAGAGAGAGTCACTGACCTCATGCGCATGTGCTGGCAATTCAACCCCAAGATGAGGCCAACCTTCCTGGAGATTGTCAACCTGCTCAAGGACGACCTGCACCCCAGCTTTCCAGAGGTGTCGTTCTTCCACAGCGAGGAGAACAAGGCTCCCGAGAGTGAGGAGCTGGAGATGGAGTTTGAGGACATGGAGAATGTGCCCCTGGACCGTTCCTCGCACTGTCAGAGGGAGGAGGCGGGGGGCCGGGATGGAGGGTCCTCGCTGGGTTTCAAGCGGAGCTACGAGGAACACATCCCTTACACACACATGAACGGAGGCAAGAAAAACGGGCGGATTCTGACCTTGCCTCGGTCCAATCCTTCCTAACAGTGCCTACCGTGGCGGGGGCGGGCAGGGGTTCCCATTTTCGCTTTCCTCTGGTTTGAAAGCCTCTGGAAAACTCAGGATTCTCACGACTCTACCATGTCCAGTGGAGTTCAGAGATCGTTCCTATACATTTCTGTTCATCTTAAGGTGGACTCGTTTGGTTACCAATTTAACTAGTCCTGCAGAGGATTTAACTGTGAACCTGGAGGGCAAGGGGTTTCCACAGTTGCTGCTCCTTTGGGGCAACGACGGTTTCAAACCAGGATTTTGTGTTTTTTCGTTCCCCCCACCCGCCCCCAGCAGATGGAAAGAAAGCACCTGTTTTTACAAATTCTTTTTTTTTTTTTTTTTTTTTTTTTTTTGCTGGTGTCTGAGCTTCAGTATAAAAGACAAAACTTCCTGTTTGTGGAACAAAATTTCGAAAGAAAAAACCAAA'"
      ]
     },
     "execution_count": 22,
     "metadata": {},
     "output_type": "execute_result"
    }
   ],
   "source": [
    "nucleotide_sequence"
   ]
  },
  {
   "cell_type": "markdown",
   "metadata": {},
   "source": [
    "## Verificare la composizione della sequenza nucleotidica rispetto a quella dichiarata nell'*entry*\n",
    "\n",
    "a) Derivare dal *record* `SQ`:\n",
    "\n",
    "    SQ   Sequence 4723 BP; 1068 A; 1298 C; 1311 G; 1046 T; 0 other;\n",
    "    \n",
    "un dizionario contenente la composizione della sequenza nucleotidica:\n",
    "\n",
    "- **chiave**: base\n",
    "- **valore**: numero di occorrenze della chiave"
   ]
  },
  {
   "cell_type": "code",
   "execution_count": null,
   "metadata": {},
   "outputs": [],
   "source": []
  },
  {
   "cell_type": "code",
   "execution_count": 32,
   "metadata": {},
   "outputs": [
    {
     "data": {
      "text/plain": [
       "{'A': 1068, 'C': 1298, 'G': 1311, 'T': 1046}"
      ]
     },
     "execution_count": 32,
     "metadata": {},
     "output_type": "execute_result"
    }
   ],
   "source": [
    "entry_seq_composition"
   ]
  },
  {
   "cell_type": "markdown",
   "metadata": {},
   "source": [
    "b) Estrarre dalla sequenza nucleotidica un dizionario analogo."
   ]
  },
  {
   "cell_type": "code",
   "execution_count": null,
   "metadata": {},
   "outputs": [],
   "source": []
  },
  {
   "cell_type": "markdown",
   "metadata": {},
   "source": [
    "c) Confrontare i due dizionari"
   ]
  },
  {
   "cell_type": "code",
   "execution_count": null,
   "metadata": {},
   "outputs": [],
   "source": []
  },
  {
   "cell_type": "markdown",
   "metadata": {},
   "source": [
    "## Creare la sequenza nucleotidica in formato `FASTA`\n",
    "\n",
    "Produrre la sequenza nucleotidica in formato `FASTA` con il seguente *header*:\n",
    "\n",
    "    >M10051-HUM"
   ]
  },
  {
   "cell_type": "code",
   "execution_count": null,
   "metadata": {},
   "outputs": [],
   "source": []
  },
  {
   "cell_type": "code",
   "execution_count": 41,
   "metadata": {},
   "outputs": [
    {
     "name": "stdout",
     "output_type": "stream",
     "text": [
      ">M10051-HUM\n",
      "GGGGGGCUGCGCGGCCGGGUCGGUGCGCACACGAGAAGGACGCGCGGCCCCCAGCGCUCUUGGGGGCCGCCUCGGAGCAU\n",
      "GACCCCCGCGGGCCAGCGCCGCGCGCCUGAUCCGAGGAGACCCCGCGCUCCCGCAGCCAUGGGCACCGGGGGCCGGCGGG\n",
      "GGGCGGCGGCCGCGCCGCUGCUGGUGGCGGUGGCCGCGCUGCUACUGGGCGCCGCGGGCCACCUGUACCCCGGAGAGGUG\n",
      "UGUCCCGGCAUGGAUAUCCGGAACAACCUCACUAGGUUGCAUGAGCUGGAGAAUUGCUCUGUCAUCGAAGGACACUUGCA\n",
      "GAUACUCUUGAUGUUCAAAACGAGGCCCGAAGAUUUCCGAGACCUCAGUUUCCCCAAACUCAUCAUGAUCACUGAUUACU\n",
      "UGCUGCUCUUCCGGGUCUAUGGGCUCGAGAGCCUGAAGGACCUGUUCCCCAACCUCACGGUCAUCCGGGGAUCACGACUG\n",
      "UUCUUUAACUACGCGCUGGUCAUCUUCGAGAUGGUUCACCUCAAGGAACUCGGCCUCUACAACCUGAUGAACAUCACCCG\n",
      "GGGUUCUGUCCGCAUCGAGAAGAACAAUGAGCUCUGUUACUUGGCCACUAUCGACUGGUCCCGUAUCCUGGAUUCCGUGG\n",
      "AGGAUAAUCACAUCGUGUUGAACAAAGAUGACAACGAGGAGUGUGGAGACAUCUGUCCGGGUACCGCGAAGGGCAAGACC\n",
      "AACUGCCCCGCCACCGUCAUCAACGGGCAGUUUGUCGAACGAUGUUGGACUCAUAGUCACUGCCAGAAAGUUUGCCCGAC\n",
      "CAUCUGUAAGUCACACGGCUGCACCGCCGAAGGCCUCUGUUGCCACAGCGAGUGCCUGGGCAACUGUUCUCAGCCCGACG\n",
      "ACCCCACCAAGUGCGUGGCCUGCCGCAACUUCUACCUGGACGGCAGGUGUGUGGAGACCUGCCCGCCCCCGUACUACCAC\n",
      "UUCCAGGACUGGCGCUGUGUGAACUUCAGCUUCUGCCAGGACCUGCACCACAAAUGCAAGAACUCGCGGAGGCAGGGCUG\n",
      "CCACCAAUACGUCAUUCACAACAACAAGUGCAUCCCUGAGUGUCCCUCCGGGUACACGAUGAAUUCCAGCAACUUGCUGU\n",
      "GCACCCCAUGCCUGGGUCCCUGUCCCAAGGUGUGCCACCUCCUAGAAGGCGAGAAGACCAUCGACUCGGUGACGUCUGCC\n",
      "CAGGAGCUCCGAGGAUGCACCGUCAUCAACGGGAGUCUGAUCAUCAACAUUCGAGGAGGCAACAAUCUGGCAGCUGAGCU\n",
      "AGAAGCCAACCUCGGCCUCAUUGAAGAAAUUUCAGGGUAUCUAAAAAUCCGCCGAUCCUACGCUCUGGUGUCACUUUCCU\n",
      "UCUUCCGGAAGUUACGUCUGAUUCGAGGAGAGACCUUGGAAAUUGGGAACUACUCCUUCUAUGCCUUGGACAACCAGAAC\n",
      "CUAAGGCAGCUCUGGGACUGGAGCAAACACAACCUCACCACCACUCAGGGGAAACUCUUCUUCCACUAUAACCCCAAACU\n",
      "CUGCUUGUCAGAAAUCCACAAGAUGGAAGAAGUUUCAGGAACCAAGGGGCGCCAGGAGAGAAACGACAUUGCCCUGAAGA\n",
      "CCAAUGGGGACAAGGCAUCCUGUGAAAAUGAGUUACUUAAAUUUUCUUACAUUCGGACAUCUUUUGACAAGAUCUUGCUG\n",
      "AGAUGGGAGCCGUACUGGCCCCCCGACUUCCGAGACCUCUUGGGGUUCAUGCUGUUCUACAAAGAGGCCCCUUAUCAGAA\n",
      "UGUGACGGAGUUCGAUGGGCAGGAUGCGUGUGGUUCCAACAGUUGGACGGUGGUAGACAUUGACCCACCCCUGAGGUCCA\n",
      "ACGACCCCAAAUCACAGAACCACCCAGGGUGGCUGAUGCGGGGUCUCAAGCCCUGGACCCAGUAUGCCAUCUUUGUGAAG\n",
      "ACCCUGGUCACCUUUUCGGAUGAACGCCGGACCUAUGGGGCCAAGAGUGACAUCAUUUAUGUCCAGACAGAUGCCACCAA\n",
      "CCCCUCUGUGCCCCUGGAUCCAAUCUCAGUGUCUAACUCAUCAUCCCAGAUUAUUCUGAAGUGGAAACCACCCUCCGACC\n",
      "CCAAUGGCAACAUCACCCACUACCUGGUUUUCUGGGAGAGGCAGGCGGAAGACAGUGAGCUGUUCGAGCUGGAUUAUUGC\n",
      "CUCAAAGGGCUGAAGCUGCCCUCGAGGACCUGGUCUCCACCAUUCGAGUCUGAAGAUUCUCAGAAGCACAACCAGAGUGA\n",
      "GUAUGAGGAUUCGGCCGGCGAAUGCUGCUCCUGUCCAAAGACAGACUCUCAGAUCCUGAAGGAGCUGGAGGAGUCCUCGU\n",
      "UUAGGAAGACGUUUGAGGAUUACCUGCACAACGUGGUUUUCGUCCCCAGAAAAACCUCUUCAGGCACUGGUGCCGAGGAC\n",
      "CCUAGGCCAUCUCGGAAACGCAGGUCCCUUGGCGAUGUUGGGAAUGUGACGGUGGCCGUGCCCACGGUGGCAGCUUUCCC\n",
      "CAACACUUCCUCGACCAGCGUGCCCACGAGUCCGGAGGAGCACAGGCCUUUUGAGAAGGUGGUGAACAAGGAGUCGCUGG\n",
      "UCAUCUCCGGCUUGCGACACUUCACGGGCUAUCGCAUCGAGCUGCAGGCUUGCAACCAGGACACCCCUGAGGAACGGUGC\n",
      "AGUGUGGCAGCCUACGUCAGUGCGAGGACCAUGCCUGAAGCCAAGGCUGAUGACAUUGUUGGCCCUGUGACGCAUGAAAU\n",
      "CUUUGAGAACAACGUCGUCCACUUGAUGUGGCAGGAGCCGAAGGAGCCCAAUGGUCUGAUCGUGCUGUAUGAAGUGAGUU\n",
      "AUCGGCGAUAUGGUGAUGAGGAGCUGCAUCUCUGCGUCUCCCGCAAGCACUUCGCUCUGGAACGGGGCUGCAGGCUGCGU\n",
      "GGGCUGUCACCGGGGAACUACAGCGUGCGAAUCCGGGCCACCUCCCUUGCGGGCAACGGCUCUUGGACGGAACCCACCUA\n",
      "UUUCUACGUGACAGACUAUUUAGACGUCCCGUCAAAUAUUGCAAAAAUUAUCAUCGGCCCCCUCAUCUUUGUCUUUCUCU\n",
      "UCAGUGUUGUGAUUGGAAGUAUUUAUCUAUUCCUGAGAAAGAGGCAGCCAGAUGGGCCGCUGGGACCGCUUUACGCUUCU\n",
      "UCAAACCCUGAGUAUCUCAGUGCCAGUGAUGUGUUUCCAUGCUCUGUGUACGUGCCGGACGAGUGGGAGGUGUCUCGAGA\n",
      "GAAGAUCACCCUCCUUCGAGAGCUGGGGCAGGGCUCCUUCGGCAUGGUGUAUGAGGGCAAUGCCAGGGACAUCAUCAAGG\n",
      "GUGAGGCAGAGACCCGCGUGGCGGUGAAGACGGUCAACGAGUCAGCCAGUCUCCGAGAGCGGAUUGAGUUCCUCAAUGAG\n",
      "GCCUCGGUCAUGAAGGGCUUCACCUGCCAUCACGUGGUGCGCCUCCUGGGAGUGGUGUCCAAGGGCCAGCCCACGCUGGU\n",
      "GGUGAUGGAGCUGAUGGCUCACGGAGACCUGAAGAGCUACCUCCGUUCUCUGCGGCCAGAGGCUGAGAAUAAUCCUGGCC\n",
      "GCCCUCCCCCUACCCUUCAAGAGAUGAUUCAGAUGGCGGCAGAGAUUGCUGACGGGAUGGCCUACCUGAACGCCAAGAAG\n",
      "UUUGUGCAUCGGGACCUGGCAGCGAGAAACUGCAUGGUCGCCCAUGAUUUUACUGUCAAAAUUGGAGACUUUGGAAUGAC\n",
      "CAGAGACAUCUAUGAAACGGAUUACUACCGGAAAGGGGGCAAGGGUCUGCUCCCUGUACGGUGGAUGGCACCGGAGUCCC\n",
      "UGAAGGAUGGGGUCUUCACCACUUCUUCUGACAUGUGGUCCUUUGGCGUGGUCCUUUGGGAAAUCACCAGCUUGGCAGAA\n",
      "CAGCCUUACCAAGGCCUGUCUAAUGAACAGGUGUUGAAAUUUGUCAUGGAUGGAGGGUAUCUGGAUCAACCCGACAACUG\n",
      "UCCAGAGAGAGUCACUGACCUCAUGCGCAUGUGCUGGCAAUUCAACCCCAAGAUGAGGCCAACCUUCCUGGAGAUUGUCA\n",
      "ACCUGCUCAAGGACGACCUGCACCCCAGCUUUCCAGAGGUGUCGUUCUUCCACAGCGAGGAGAACAAGGCUCCCGAGAGU\n",
      "GAGGAGCUGGAGAUGGAGUUUGAGGACAUGGAGAAUGUGCCCCUGGACCGUUCCUCGCACUGUCAGAGGGAGGAGGCGGG\n",
      "GGGCCGGGAUGGAGGGUCCUCGCUGGGUUUCAAGCGGAGCUACGAGGAACACAUCCCUUACACACACAUGAACGGAGGCA\n",
      "AGAAAAACGGGCGGAUUCUGACCUUGCCUCGGUCCAAUCCUUCCUAACAGUGCCUACCGUGGCGGGGGCGGGCAGGGGUU\n",
      "CCCAUUUUCGCUUUCCUCUGGUUUGAAAGCCUCUGGAAAACUCAGGAUUCUCACGACUCUACCAUGUCCAGUGGAGUUCA\n",
      "GAGAUCGUUCCUAUACAUUUCUGUUCAUCUUAAGGUGGACUCGUUUGGUUACCAAUUUAACUAGUCCUGCAGAGGAUUUA\n",
      "ACUGUGAACCUGGAGGGCAAGGGGUUUCCACAGUUGCUGCUCCUUUGGGGCAACGACGGUUUCAAACCAGGAUUUUGUGU\n",
      "UUUUUCGUUCCCCCCACCCGCCCCCAGCAGAUGGAAAGAAAGCACCUGUUUUUACAAAUUCUUUUUUUUUUUUUUUUUUU\n",
      "UUUUUUUUUGCUGGUGUCUGAGCUUCAGUAUAAAAGACAAAACUUCCUGUUUGUGGAACAAAAUUUCGAAAGAAAAAACC\n",
      "AAA\n",
      "\n"
     ]
    }
   ],
   "source": [
    "print(nucleotide_fasta_sequence)"
   ]
  },
  {
   "cell_type": "markdown",
   "metadata": {},
   "source": [
    "Salvare la sequenza in un file."
   ]
  },
  {
   "cell_type": "code",
   "execution_count": null,
   "metadata": {},
   "outputs": [],
   "source": []
  },
  {
   "cell_type": "markdown",
   "metadata": {},
   "source": [
    "## Estrarre la sequenza della proteina"
   ]
  },
  {
   "cell_type": "markdown",
   "metadata": {},
   "source": [
    "a) Estrarre il prefisso della proteina che è contenuto nel *record*:\n",
    "\n",
    "    FT                   /translation=\"MGTGGRRGAAAAPLLVAVAALLLGAAGHLYPGEVCPGMDIRNNLT"
   ]
  },
  {
   "cell_type": "code",
   "execution_count": null,
   "metadata": {},
   "outputs": [],
   "source": []
  },
  {
   "cell_type": "code",
   "execution_count": 44,
   "metadata": {},
   "outputs": [
    {
     "data": {
      "text/plain": [
       "'MGTGGRRGAAAAPLLVAVAALLLGAAGHLYPGEVCPGMDIRNNLT'"
      ]
     },
     "execution_count": 44,
     "metadata": {},
     "output_type": "execute_result"
    }
   ],
   "source": [
    "protein_prefix"
   ]
  },
  {
   "cell_type": "markdown",
   "metadata": {},
   "source": [
    "b) Costruire la lista di tutti gli altri record della proteina."
   ]
  },
  {
   "cell_type": "code",
   "execution_count": null,
   "metadata": {},
   "outputs": [],
   "source": []
  },
  {
   "cell_type": "code",
   "execution_count": 46,
   "metadata": {},
   "outputs": [
    {
     "data": {
      "text/plain": [
       "['RLHELENCSVIEGHLQILLMFKTRPEDFRDLSFPKLIMITDYLLLFRVYGLESLKDLFP',\n",
       " 'NLTVIRGSRLFFNYALVIFEMVHLKELGLYNLMNITRGSVRIEKNNELCYLATIDWSRI',\n",
       " 'LDSVEDNHIVLNKDDNEECGDICPGTAKGKTNCPATVINGQFVERCWTHSHCQKVCPTI',\n",
       " 'CKSHGCTAEGLCCHSECLGNCSQPDDPTKCVACRNFYLDGRCVETCPPPYYHFQDWRCV',\n",
       " 'NFSFCQDLHHKCKNSRRQGCHQYVIHNNKCIPECPSGYTMNSSNLLCTPCLGPCPKVCH',\n",
       " 'LLEGEKTIDSVTSAQELRGCTVINGSLIINIRGGNNLAAELEANLGLIEEISGYLKIRR',\n",
       " 'SYALVSLSFFRKLRLIRGETLEIGNYSFYALDNQNLRQLWDWSKHNLTTTQGKLFFHYN',\n",
       " 'PKLCLSEIHKMEEVSGTKGRQERNDIALKTNGDKASCENELLKFSYIRTSFDKILLRWE',\n",
       " 'PYWPPDFRDLLGFMLFYKEAPYQNVTEFDGQDACGSNSWTVVDIDPPLRSNDPKSQNHP',\n",
       " 'GWLMRGLKPWTQYAIFVKTLVTFSDERRTYGAKSDIIYVQTDATNPSVPLDPISVSNSS',\n",
       " 'SQIILKWKPPSDPNGNITHYLVFWERQAEDSELFELDYCLKGLKLPSRTWSPPFESEDS',\n",
       " 'QKHNQSEYEDSAGECCSCPKTDSQILKELEESSFRKTFEDYLHNVVFVPRKTSSGTGAE',\n",
       " 'DPRPSRKRRSLGDVGNVTVAVPTVAAFPNTSSTSVPTSPEEHRPFEKVVNKESLVISGL',\n",
       " 'RHFTGYRIELQACNQDTPEERCSVAAYVSARTMPEAKADDIVGPVTHEIFENNVVHLMW',\n",
       " 'QEPKEPNGLIVLYEVSYRRYGDEELHLCVSRKHFALERGCRLRGLSPGNYSVRIRATSL',\n",
       " 'AGNGSWTEPTYFYVTDYLDVPSNIAKIIIGPLIFVFLFSVVIGSIYLFLRKRQPDGPLG',\n",
       " 'PLYASSNPEYLSASDVFPCSVYVPDEWEVSREKITLLRELGQGSFGMVYEGNARDIIKG',\n",
       " 'EAETRVAVKTVNESASLRERIEFLNEASVMKGFTCHHVVRLLGVVSKGQPTLVVMELMA',\n",
       " 'HGDLKSYLRSLRPEAENNPGRPPPTLQEMIQMAAEIADGMAYLNAKKFVHRDLAARNCM',\n",
       " 'VAHDFTVKIGDFGMTRDIYETDYYRKGGKGLLPVRWMAPESLKDGVFTTSSDMWSFGVV',\n",
       " 'LWEITSLAEQPYQGLSNEQVLKFVMDGGYLDQPDNCPERVTDLMRMCWQFNPKMRPTFL',\n",
       " 'EIVNLLKDDLHPSFPEVSFFHSEENKAPESEELEMEFEDMENVPLDRSSHCQREEAGGR',\n",
       " 'DGGSSLGFKRSYEEHIPYTHMNGGKKNGRILTLPRSNPS']"
      ]
     },
     "execution_count": 46,
     "metadata": {},
     "output_type": "execute_result"
    }
   ],
   "source": [
    "protein_list"
   ]
  },
  {
   "cell_type": "markdown",
   "metadata": {},
   "source": [
    "b) Aggiungere in testa alla lista il prefisso trovato prima e concatenare tutti gli elementi della lista per ottenere la sequenza della proteina in un'unica stringa."
   ]
  },
  {
   "cell_type": "code",
   "execution_count": null,
   "metadata": {},
   "outputs": [],
   "source": []
  },
  {
   "cell_type": "code",
   "execution_count": 50,
   "metadata": {},
   "outputs": [
    {
     "data": {
      "text/plain": [
       "'MGTGGRRGAAAAPLLVAVAALLLGAAGHLYPGEVCPGMDIRNNLTRLHELENCSVIEGHLQILLMFKTRPEDFRDLSFPKLIMITDYLLLFRVYGLESLKDLFPNLTVIRGSRLFFNYALVIFEMVHLKELGLYNLMNITRGSVRIEKNNELCYLATIDWSRILDSVEDNHIVLNKDDNEECGDICPGTAKGKTNCPATVINGQFVERCWTHSHCQKVCPTICKSHGCTAEGLCCHSECLGNCSQPDDPTKCVACRNFYLDGRCVETCPPPYYHFQDWRCVNFSFCQDLHHKCKNSRRQGCHQYVIHNNKCIPECPSGYTMNSSNLLCTPCLGPCPKVCHLLEGEKTIDSVTSAQELRGCTVINGSLIINIRGGNNLAAELEANLGLIEEISGYLKIRRSYALVSLSFFRKLRLIRGETLEIGNYSFYALDNQNLRQLWDWSKHNLTTTQGKLFFHYNPKLCLSEIHKMEEVSGTKGRQERNDIALKTNGDKASCENELLKFSYIRTSFDKILLRWEPYWPPDFRDLLGFMLFYKEAPYQNVTEFDGQDACGSNSWTVVDIDPPLRSNDPKSQNHPGWLMRGLKPWTQYAIFVKTLVTFSDERRTYGAKSDIIYVQTDATNPSVPLDPISVSNSSSQIILKWKPPSDPNGNITHYLVFWERQAEDSELFELDYCLKGLKLPSRTWSPPFESEDSQKHNQSEYEDSAGECCSCPKTDSQILKELEESSFRKTFEDYLHNVVFVPRKTSSGTGAEDPRPSRKRRSLGDVGNVTVAVPTVAAFPNTSSTSVPTSPEEHRPFEKVVNKESLVISGLRHFTGYRIELQACNQDTPEERCSVAAYVSARTMPEAKADDIVGPVTHEIFENNVVHLMWQEPKEPNGLIVLYEVSYRRYGDEELHLCVSRKHFALERGCRLRGLSPGNYSVRIRATSLAGNGSWTEPTYFYVTDYLDVPSNIAKIIIGPLIFVFLFSVVIGSIYLFLRKRQPDGPLGPLYASSNPEYLSASDVFPCSVYVPDEWEVSREKITLLRELGQGSFGMVYEGNARDIIKGEAETRVAVKTVNESASLRERIEFLNEASVMKGFTCHHVVRLLGVVSKGQPTLVVMELMAHGDLKSYLRSLRPEAENNPGRPPPTLQEMIQMAAEIADGMAYLNAKKFVHRDLAARNCMVAHDFTVKIGDFGMTRDIYETDYYRKGGKGLLPVRWMAPESLKDGVFTTSSDMWSFGVVLWEITSLAEQPYQGLSNEQVLKFVMDGGYLDQPDNCPERVTDLMRMCWQFNPKMRPTFLEIVNLLKDDLHPSFPEVSFFHSEENKAPESEELEMEFEDMENVPLDRSSHCQREEAGGRDGGSSLGFKRSYEEHIPYTHMNGGKKNGRILTLPRSNPS'"
      ]
     },
     "execution_count": 50,
     "metadata": {},
     "output_type": "execute_result"
    }
   ],
   "source": [
    "protein_sequence"
   ]
  },
  {
   "cell_type": "markdown",
   "metadata": {},
   "source": [
    "## Creare la sequenza della proteina in formato `FASTA`"
   ]
  },
  {
   "cell_type": "markdown",
   "metadata": {},
   "source": [
    "Produrre la sequenza della proteina in formato `FASTA` con il seguente *header*:\n",
    "\n",
    "    >M10051-HUM; len = 1382"
   ]
  },
  {
   "cell_type": "code",
   "execution_count": null,
   "metadata": {},
   "outputs": [],
   "source": []
  },
  {
   "cell_type": "code",
   "execution_count": 54,
   "metadata": {},
   "outputs": [
    {
     "name": "stdout",
     "output_type": "stream",
     "text": [
      ">M10051-HUM; len = 1382\n",
      "MGTGGRRGAAAAPLLVAVAALLLGAAGHLYPGEVCPGMDIRNNLTRLHELENCSVIEGHL\n",
      "QILLMFKTRPEDFRDLSFPKLIMITDYLLLFRVYGLESLKDLFPNLTVIRGSRLFFNYAL\n",
      "VIFEMVHLKELGLYNLMNITRGSVRIEKNNELCYLATIDWSRILDSVEDNHIVLNKDDNE\n",
      "ECGDICPGTAKGKTNCPATVINGQFVERCWTHSHCQKVCPTICKSHGCTAEGLCCHSECL\n",
      "GNCSQPDDPTKCVACRNFYLDGRCVETCPPPYYHFQDWRCVNFSFCQDLHHKCKNSRRQG\n",
      "CHQYVIHNNKCIPECPSGYTMNSSNLLCTPCLGPCPKVCHLLEGEKTIDSVTSAQELRGC\n",
      "TVINGSLIINIRGGNNLAAELEANLGLIEEISGYLKIRRSYALVSLSFFRKLRLIRGETL\n",
      "EIGNYSFYALDNQNLRQLWDWSKHNLTTTQGKLFFHYNPKLCLSEIHKMEEVSGTKGRQE\n",
      "RNDIALKTNGDKASCENELLKFSYIRTSFDKILLRWEPYWPPDFRDLLGFMLFYKEAPYQ\n",
      "NVTEFDGQDACGSNSWTVVDIDPPLRSNDPKSQNHPGWLMRGLKPWTQYAIFVKTLVTFS\n",
      "DERRTYGAKSDIIYVQTDATNPSVPLDPISVSNSSSQIILKWKPPSDPNGNITHYLVFWE\n",
      "RQAEDSELFELDYCLKGLKLPSRTWSPPFESEDSQKHNQSEYEDSAGECCSCPKTDSQIL\n",
      "KELEESSFRKTFEDYLHNVVFVPRKTSSGTGAEDPRPSRKRRSLGDVGNVTVAVPTVAAF\n",
      "PNTSSTSVPTSPEEHRPFEKVVNKESLVISGLRHFTGYRIELQACNQDTPEERCSVAAYV\n",
      "SARTMPEAKADDIVGPVTHEIFENNVVHLMWQEPKEPNGLIVLYEVSYRRYGDEELHLCV\n",
      "SRKHFALERGCRLRGLSPGNYSVRIRATSLAGNGSWTEPTYFYVTDYLDVPSNIAKIIIG\n",
      "PLIFVFLFSVVIGSIYLFLRKRQPDGPLGPLYASSNPEYLSASDVFPCSVYVPDEWEVSR\n",
      "EKITLLRELGQGSFGMVYEGNARDIIKGEAETRVAVKTVNESASLRERIEFLNEASVMKG\n",
      "FTCHHVVRLLGVVSKGQPTLVVMELMAHGDLKSYLRSLRPEAENNPGRPPPTLQEMIQMA\n",
      "AEIADGMAYLNAKKFVHRDLAARNCMVAHDFTVKIGDFGMTRDIYETDYYRKGGKGLLPV\n",
      "RWMAPESLKDGVFTTSSDMWSFGVVLWEITSLAEQPYQGLSNEQVLKFVMDGGYLDQPDN\n",
      "CPERVTDLMRMCWQFNPKMRPTFLEIVNLLKDDLHPSFPEVSFFHSEENKAPESEELEME\n",
      "FEDMENVPLDRSSHCQREEAGGRDGGSSLGFKRSYEEHIPYTHMNGGKKNGRILTLPRSN\n",
      "PS\n",
      "\n"
     ]
    }
   ],
   "source": [
    "print(protein_fasta_sequence)"
   ]
  },
  {
   "cell_type": "markdown",
   "metadata": {},
   "source": [
    "Salvare la sequenza in un file."
   ]
  },
  {
   "cell_type": "code",
   "execution_count": null,
   "metadata": {},
   "outputs": [],
   "source": []
  }
 ],
 "metadata": {
  "kernelspec": {
   "display_name": "Python 3 (ipykernel)",
   "language": "python",
   "name": "python3"
  },
  "language_info": {
   "codemirror_mode": {
    "name": "ipython",
    "version": 3
   },
   "file_extension": ".py",
   "mimetype": "text/x-python",
   "name": "python",
   "nbconvert_exporter": "python",
   "pygments_lexer": "ipython3",
   "version": "3.9.15"
  }
 },
 "nbformat": 4,
 "nbformat_minor": 2
}
