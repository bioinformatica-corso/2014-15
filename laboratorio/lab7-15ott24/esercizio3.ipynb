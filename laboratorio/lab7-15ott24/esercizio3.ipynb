{
 "cells": [
  {
   "cell_type": "markdown",
   "metadata": {},
   "source": [
    "# Esercizio 3\n",
    "\n",
    "EMBL (https://www.ebi.ac.uk) è una banca di sequenze nucleotidiche sviluppata da EMBL-EBI (European Bioinformatics Institute (EBI) - European Molecular Biology Laboratory (EMBL),. Ogni sequenza nucleotidica (*entry*) viene memorizzata, con altre informazioni, in un file di puro testo in un formato che prende il nome di `EMBL`.\n",
    "\n",
    "**Il formato `EMBL`** è composto da *record* a struttura variabile che iniziano con un codice a due lettere maiuscole che ne indica il contenuto. I soli *record* che non iniziano con un codice a due lettere sono quelli contenenti la sequenza nucleotidica.\n",
    "Il record `//` segnala la fine dell'*entry*.\n",
    "\n",
    "L'esercizio richiede di leggere il file `M10051.embl` che contiene la sequenza nucleotidica di un mRNA (cioé di un trascritto espresso da un gene). `M10051` è l'identificatore univoco (Accession Number) della sequenza.\n",
    "\n",
    "Si richiede di produrre, in due file diversi, entrambi in formato `FASTA`, la sequenza nucleotidica (in lettere maiuscole e su alfabeto `{A,C,G,U}`) e la sequenza della proteina espressa da tale mRNA. La sequenza nucleotidica deve essere separata in *record* di 80 caratteri mentre quella della proteina in *record* di 60 caratteri.\n",
    "\n",
    "Inoltre, si richiede di verificare che la composizione in basi della sequenza nucleotidica ricostruita dal file `EMBL` corrisponda a quella dichiarata nel *record*:\n",
    "\n",
    "        SQ   Sequence 4723 BP; 1068 A; 1298 C; 1311 G; 1046 T; 0 other;\n",
    "\n",
    "---\n",
    "\n",
    "Requisiti dei file di output:\n",
    "\n",
    "- nell’*header* `FASTA` della sequenza nucleotidica devono essere specificati l’identificatore univoco della sequenza e l’organismo a cui si riferisce, nel seguente formato:\n",
    "\n",
    "        >M10051-HUM\n",
    "                \n",
    "- nell’*header* `FASTA` della sequenza della proteina devono essere specificati l’identificatore univoco della sequenza, l’organismo e la lunghezza della proteina, nel seguente formato:\n",
    "\n",
    "        >M10051-HUM; len = 1382\n",
    "        \n",
    "***"
   ]
  },
  {
   "cell_type": "markdown",
   "metadata": {},
   "source": [
    "## Indicazioni sul formato `EMBL`\n",
    "\n",
    "- Il record che inizia con `ID` (primo record):\n",
    " \n",
    "       ID   M10051; SV 1; linear; mRNA; STD; HUM; 4723 BP.\n",
    "\n",
    "contiene l'identificatore univoco della sequenza (M10051) e l'organismo (HUM). Il fatto che il file si riferisca alla sequenza nucleotidica di un mRNA è indicato dalla presenza della parola `mRNA`.\n",
    "\n",
    "- L'insieme dei record che iniziano con `FT` contiene le *features* annotate sulla sequenza nucleotidica. In particolare tutti i record della sezione:\n",
    "\n",
    "       FT                   /translation=\"MGTGGRRGAAAAPLLVAVAALLLGAAGHLYPGEVCPGMDIRNNLT\n",
    "       FT                   RLHELENCSVIEGHLQILLMFKTRPEDFRDLSFPKLIMITDYLLLFRVYGLESLKDLFP\n",
    "       FT                   NLTVIRGSRLFFNYALVIFEMVHLKELGLYNLMNITRGSVRIEKNNELCYLATIDWSRI\n",
    "       FT                   LDSVEDNHIVLNKDDNEECGDICPGTAKGKTNCPATVINGQFVERCWTHSHCQKVCPTI\n",
    "       FT                   [...]\n",
    "       FT                   DGGSSLGFKRSYEEHIPYTHMNGGKKNGRILTLPRSNPS\"\n",
    "        \n",
    "contengono la traduzione in proteina dell'mRNA dell'*entry*.\n",
    "\n",
    "- Il record che inizia con `SQ`:\n",
    "\n",
    "        SQ   Sequence 4723 BP; 1068 A; 1298 C; 1311 G; 1046 T; 0 other;\n",
    "        \n",
    "introduce la sezione della sequenza nucleotidica e fornisce la sua composizione nucleotidica. \n",
    "\n",
    "La sequenza nucleotidica viene rappresentata tramite una serie di *record* che iniziano con degli spazi, e ogni *record* contiene un pezzo di sequenza lungo 60 basi (tranne eventualmente l'ultimo). Ogni pezzo di 60 basi è a sua volta separato in pezzi di 10 basi.\n",
    "Il numero intero alla fine di un *record* di sequenza fornisce la lunghezza totale della sequenza fino al *record* corrente.\n",
    "\n",
    "La sequenza nucleotidica riportata è su alfabeto `{a,c,g,t}` nonostante rappresenti la sequenza primaria di un mRNA.\n",
    "\n",
    "    SQ   Sequence 4723 BP; 1068 A; 1298 C; 1311 G; 1046 T; 0 other;\n",
    "         ggggggctgc gcggccgggt cggtgcgcac acgagaagga cgcgcggccc ccagcgctct        60\n",
    "         tgggggccgc ctcggagcat gacccccgcg ggccagcgcc gcgcgcctga tccgaggaga       120\n",
    "         ccccgcgctc ccgcagccat gggcaccggg ggccggcggg gggcggcggc cgcgccgctg       180\n",
    "         ctggtggcgg tggccgcgct gctactgggc gccgcgggcc acctgtaccc cggagaggtg       240\n",
    "         tgtcccggca tggatatccg gaacaacctc actaggttgc atgagctgga gaattgctct       300\n",
    "         gtcatcgaag gacacttgca gatactcttg atgttcaaaa cgaggcccga agatttccga       360\n",
    "         gacctcagtt tccccaaact catcatgatc actgattact tgctgctctt ccgggtctat       420\n",
    "         gggctcgaga gcctgaagga cctgttcccc aacctcacgg tcatccgggg atcacgactg       480\n",
    "         [...]\n",
    "         tttttcgttc cccccacccg cccccagcag atggaaagaa agcacctgtt tttacaaatt      4620\n",
    "         cttttttttt tttttttttt tttttttttg ctggtgtctg agcttcagta taaaagacaa      4680\n",
    "         aacttcctgt ttgtggaaca aaatttcgaa agaaaaaacc aaa                        4723\n",
    "    //\n",
    "    \n",
    "Il file termina con il record `//`."
   ]
  },
  {
   "cell_type": "markdown",
   "metadata": {},
   "source": [
    "## Dataset in input"
   ]
  },
  {
   "cell_type": "code",
   "execution_count": 2,
   "metadata": {},
   "outputs": [],
   "source": [
    "input_file_name = './M10051.embl'"
   ]
  },
  {
   "cell_type": "markdown",
   "metadata": {},
   "source": [
    "## Importare il modulo `re`"
   ]
  },
  {
   "cell_type": "code",
   "execution_count": 3,
   "metadata": {},
   "outputs": [],
   "source": [
    "import re"
   ]
  },
  {
   "cell_type": "markdown",
   "metadata": {},
   "source": [
    "## Definire la funzione che formatta una sequenza in `FASTA` \n",
    "\n",
    "La funzione deve prende come argomenti un *header* `FASTA`, una sequenza (nucleotidica o amminoacidica) e la dimensione dei *record* in cui separare la sequenza.\n",
    "\n",
    "La funzione dve restituire la sequenza in formato `FASTA`."
   ]
  },
  {
   "cell_type": "code",
   "execution_count": 15,
   "metadata": {},
   "outputs": [],
   "source": [
    "def format_fasta(header, sequence, record_length = 80):\n",
    "    p = re.compile('.{,' + str(record_length) + '}')\n",
    "    return header + '\\n' + '\\n'.join(re.findall(p, sequence))"
   ]
  },
  {
   "cell_type": "markdown",
   "metadata": {},
   "source": [
    "## Lettura del file `EMBL`"
   ]
  },
  {
   "cell_type": "code",
   "execution_count": 18,
   "metadata": {},
   "outputs": [
    {
     "name": "stdout",
     "output_type": "stream",
     "text": [
      "ID   M10051; SV 1; linear; mRNA; STD; HUM; 4723 BP.\n",
      "XX\n",
      "AC   M10051;\n",
      "XX\n",
      "DT   02-JUL-1986 (Rel. 09, Created)\n",
      "DT   14-NOV-2006 (Rel. 89, Last updated, Version 7)\n",
      "XX\n",
      "DE   Human insulin receptor mRNA, complete cds.\n",
      "XX\n",
      "KW   insulin receptor; tyrosine kinase.\n",
      "XX\n",
      "OS   Homo sapiens (human)\n",
      "OC   Eukaryota; Metazoa; Chordata; Craniata; Vertebrata; Euteleostomi; Mammalia;\n",
      "OC   Eutheria; Euarchontoglires; Primates; Haplorrhini; Catarrhini; Hominidae;\n",
      "OC   Homo.\n",
      "XX\n",
      "RN   [1]\n",
      "RP   1-4723\n",
      "RX   DOI; 10.1016/0092-8674(85)90334-4.\n",
      "RX   PUBMED; 2859121.\n",
      "RA   Ebina Y., Ellis L., Jarnagin K., Edery M., Graf L., Clauser E., Ou J.-H.,\n",
      "RA   Masiarz F., Kan Y.W., Goldfine I.D., Roth R.A., Rutter W.J.;\n",
      "RT   \"The human insulin receptor cDNA: the structural basis for\n",
      "RT   hormone-activated transmembrane signalling\";\n",
      "RL   Cell 40(4):747-758(1985).\n",
      "XX\n",
      "DR   MD5; e4e6ebf2e723a500c1dd62385c279351.\n",
      "DR   Ensembl-Gn; ENSG00000171105; homo_sapiens.\n",
      "DR   Ensembl-Tr; ENST00000302850; homo_sapiens.\n",
      "DR   Ensembl-Tr; ENST00000341500; homo_sapiens.\n",
      "DR   EuropePMC; PMC2739203; 19682364.\n",
      "DR   EuropePMC; PMC3164640; 21909271.\n",
      "DR   EuropePMC; PMC452597; 15146055.\n",
      "XX\n",
      "CC   [1] suggests that the insulin receptor may be the cellular homolog\n",
      "CC   of the v-ros transforming (oncogene) protein.  [1] notes\n",
      "CC   similarities between the insulin receptor and several growth factor\n",
      "CC   receptors and oncogenes.  Insulin receptor is a heterodimer\n",
      "CC   consisting of 2 alpha and 2 beta subunits.  Beta-prime may be a\n",
      "CC   cleavage product produced upon binding of insulin.  [1] suggests\n",
      "CC   that translation may begin at the 'atg' start codon at positions\n",
      "CC   79-81 with protein cleavage occurring after position 120 to yield\n",
      "CC   the signal peptide.  [1] gives illustrations of the various domains\n",
      "CC   present in the protein.  A draft entry and sequence for [1] in\n",
      "CC   computer-readable form were kindly provided by K. Jarnagin\n",
      "CC   (30-JUL-1985).\n",
      "XX\n",
      "FH   Key             Location/Qualifiers\n",
      "FH\n",
      "FT   source          1..4723\n",
      "FT                   /organism=\"Homo sapiens\"\n",
      "FT                   /map=\"19p13.3-p13.2\"\n",
      "FT                   /mol_type=\"mRNA\"\n",
      "FT                   /db_xref=\"taxon:9606\"\n",
      "FT   sig_peptide     137..219\n",
      "FT                   /note=\"insulin receptor signal peptide\"\n",
      "FT   CDS             139..4287\n",
      "FT                   /codon_start=1\n",
      "FT                   /gene=\"INSR\"\n",
      "FT                   /note=\"insulin receptor precursor\"\n",
      "FT                   /db_xref=\"GOA:P06213\"\n",
      "FT                   /db_xref=\"H-InvDB:HIT000194074.15\"\n",
      "FT                   /db_xref=\"HGNC:HGNC:6091\"\n",
      "FT                   /db_xref=\"InterPro:IPR000494\"\n",
      "FT                   /db_xref=\"InterPro:IPR000719\"\n",
      "FT                   /db_xref=\"InterPro:IPR001245\"\n",
      "FT                   /db_xref=\"InterPro:IPR002011\"\n",
      "FT                   /db_xref=\"InterPro:IPR003961\"\n",
      "FT                   /db_xref=\"InterPro:IPR006211\"\n",
      "FT                   /db_xref=\"InterPro:IPR006212\"\n",
      "FT                   /db_xref=\"InterPro:IPR008266\"\n",
      "FT                   /db_xref=\"InterPro:IPR009030\"\n",
      "FT                   /db_xref=\"InterPro:IPR011009\"\n",
      "FT                   /db_xref=\"InterPro:IPR013783\"\n",
      "FT                   /db_xref=\"InterPro:IPR016246\"\n",
      "FT                   /db_xref=\"InterPro:IPR017441\"\n",
      "FT                   /db_xref=\"InterPro:IPR020635\"\n",
      "FT                   /db_xref=\"InterPro:IPR032675\"\n",
      "FT                   /db_xref=\"PDB:1GAG\"\n",
      "FT                   /db_xref=\"PDB:1I44\"\n",
      "FT                   /db_xref=\"PDB:1IR3\"\n",
      "FT                   /db_xref=\"PDB:1IRK\"\n",
      "FT                   /db_xref=\"PDB:1P14\"\n",
      "FT                   /db_xref=\"PDB:1RQQ\"\n",
      "FT                   /db_xref=\"PDB:2AUH\"\n",
      "FT                   /db_xref=\"PDB:2B4S\"\n",
      "FT                   /db_xref=\"PDB:2HR7\"\n",
      "FT                   /db_xref=\"PDB:2MFR\"\n",
      "FT                   /db_xref=\"PDB:2Z8C\"\n",
      "FT                   /db_xref=\"PDB:3BU3\"\n",
      "FT                   /db_xref=\"PDB:3BU5\"\n",
      "FT                   /db_xref=\"PDB:3BU6\"\n",
      "FT                   /db_xref=\"PDB:3EKK\"\n",
      "FT                   /db_xref=\"PDB:3EKN\"\n",
      "FT                   /db_xref=\"PDB:3ETA\"\n",
      "FT                   /db_xref=\"PDB:3W11\"\n",
      "FT                   /db_xref=\"PDB:3W12\"\n",
      "FT                   /db_xref=\"PDB:3W13\"\n",
      "FT                   /db_xref=\"PDB:3W14\"\n",
      "FT                   /db_xref=\"PDB:4IBM\"\n",
      "FT                   /db_xref=\"PDB:4OGA\"\n",
      "FT                   /db_xref=\"PDB:4XLV\"\n",
      "FT                   /db_xref=\"PDB:4XSS\"\n",
      "FT                   /db_xref=\"PDB:4XST\"\n",
      "FT                   /db_xref=\"PDB:4ZXB\"\n",
      "FT                   /db_xref=\"PDB:5E1S\"\n",
      "FT                   /db_xref=\"PDB:5HHW\"\n",
      "FT                   /db_xref=\"UniProtKB/Swiss-Prot:P06213\"\n",
      "FT                   /protein_id=\"AAA59174.1\"\n",
      "FT                   /translation=\"MGTGGRRGAAAAPLLVAVAALLLGAAGHLYPGEVCPGMDIRNNLT\n",
      "FT                   RLHELENCSVIEGHLQILLMFKTRPEDFRDLSFPKLIMITDYLLLFRVYGLESLKDLFP\n",
      "FT                   NLTVIRGSRLFFNYALVIFEMVHLKELGLYNLMNITRGSVRIEKNNELCYLATIDWSRI\n",
      "FT                   LDSVEDNHIVLNKDDNEECGDICPGTAKGKTNCPATVINGQFVERCWTHSHCQKVCPTI\n",
      "FT                   CKSHGCTAEGLCCHSECLGNCSQPDDPTKCVACRNFYLDGRCVETCPPPYYHFQDWRCV\n",
      "FT                   NFSFCQDLHHKCKNSRRQGCHQYVIHNNKCIPECPSGYTMNSSNLLCTPCLGPCPKVCH\n",
      "FT                   LLEGEKTIDSVTSAQELRGCTVINGSLIINIRGGNNLAAELEANLGLIEEISGYLKIRR\n",
      "FT                   SYALVSLSFFRKLRLIRGETLEIGNYSFYALDNQNLRQLWDWSKHNLTTTQGKLFFHYN\n",
      "FT                   PKLCLSEIHKMEEVSGTKGRQERNDIALKTNGDKASCENELLKFSYIRTSFDKILLRWE\n",
      "FT                   PYWPPDFRDLLGFMLFYKEAPYQNVTEFDGQDACGSNSWTVVDIDPPLRSNDPKSQNHP\n",
      "FT                   GWLMRGLKPWTQYAIFVKTLVTFSDERRTYGAKSDIIYVQTDATNPSVPLDPISVSNSS\n",
      "FT                   SQIILKWKPPSDPNGNITHYLVFWERQAEDSELFELDYCLKGLKLPSRTWSPPFESEDS\n",
      "FT                   QKHNQSEYEDSAGECCSCPKTDSQILKELEESSFRKTFEDYLHNVVFVPRKTSSGTGAE\n",
      "FT                   DPRPSRKRRSLGDVGNVTVAVPTVAAFPNTSSTSVPTSPEEHRPFEKVVNKESLVISGL\n",
      "FT                   RHFTGYRIELQACNQDTPEERCSVAAYVSARTMPEAKADDIVGPVTHEIFENNVVHLMW\n",
      "FT                   QEPKEPNGLIVLYEVSYRRYGDEELHLCVSRKHFALERGCRLRGLSPGNYSVRIRATSL\n",
      "FT                   AGNGSWTEPTYFYVTDYLDVPSNIAKIIIGPLIFVFLFSVVIGSIYLFLRKRQPDGPLG\n",
      "FT                   PLYASSNPEYLSASDVFPCSVYVPDEWEVSREKITLLRELGQGSFGMVYEGNARDIIKG\n",
      "FT                   EAETRVAVKTVNESASLRERIEFLNEASVMKGFTCHHVVRLLGVVSKGQPTLVVMELMA\n",
      "FT                   HGDLKSYLRSLRPEAENNPGRPPPTLQEMIQMAAEIADGMAYLNAKKFVHRDLAARNCM\n",
      "FT                   VAHDFTVKIGDFGMTRDIYETDYYRKGGKGLLPVRWMAPESLKDGVFTTSSDMWSFGVV\n",
      "FT                   LWEITSLAEQPYQGLSNEQVLKFVMDGGYLDQPDNCPERVTDLMRMCWQFNPKMRPTFL\n",
      "FT                   EIVNLLKDDLHPSFPEVSFFHSEENKAPESEELEMEFEDMENVPLDRSSHCQREEAGGR\n",
      "FT                   DGGSSLGFKRSYEEHIPYTHMNGGKKNGRILTLPRSNPS\"\n",
      "FT   mat_peptide     220..2424\n",
      "FT                   /gene=\"INSR\"\n",
      "FT                   /note=\"insulin receptor alpha subunit\"\n",
      "FT   mat_peptide     2425..4284\n",
      "FT                   /gene=\"INSR\"\n",
      "FT                   /note=\"insulin receptor beta subunit\"\n",
      "FT   mat_peptide     2425..2469\n",
      "FT                   /partial\n",
      "FT                   /gene=\"INSR\"\n",
      "FT                   /note=\"insulin receptor beta-prime subunit\"\n",
      "XX\n",
      "SQ   Sequence 4723 BP; 1068 A; 1298 C; 1311 G; 1046 T; 0 other;\n",
      "     ggggggctgc gcggccgggt cggtgcgcac acgagaagga cgcgcggccc ccagcgctct        60\n",
      "     tgggggccgc ctcggagcat gacccccgcg ggccagcgcc gcgcgcctga tccgaggaga       120\n",
      "     ccccgcgctc ccgcagccat gggcaccggg ggccggcggg gggcggcggc cgcgccgctg       180\n",
      "     ctggtggcgg tggccgcgct gctactgggc gccgcgggcc acctgtaccc cggagaggtg       240\n",
      "     tgtcccggca tggatatccg gaacaacctc actaggttgc atgagctgga gaattgctct       300\n",
      "     gtcatcgaag gacacttgca gatactcttg atgttcaaaa cgaggcccga agatttccga       360\n",
      "     gacctcagtt tccccaaact catcatgatc actgattact tgctgctctt ccgggtctat       420\n",
      "     gggctcgaga gcctgaagga cctgttcccc aacctcacgg tcatccgggg atcacgactg       480\n",
      "     ttctttaact acgcgctggt catcttcgag atggttcacc tcaaggaact cggcctctac       540\n",
      "     aacctgatga acatcacccg gggttctgtc cgcatcgaga agaacaatga gctctgttac       600\n",
      "     ttggccacta tcgactggtc ccgtatcctg gattccgtgg aggataatca catcgtgttg       660\n",
      "     aacaaagatg acaacgagga gtgtggagac atctgtccgg gtaccgcgaa gggcaagacc       720\n",
      "     aactgccccg ccaccgtcat caacgggcag tttgtcgaac gatgttggac tcatagtcac       780\n",
      "     tgccagaaag tttgcccgac catctgtaag tcacacggct gcaccgccga aggcctctgt       840\n",
      "     tgccacagcg agtgcctggg caactgttct cagcccgacg accccaccaa gtgcgtggcc       900\n",
      "     tgccgcaact tctacctgga cggcaggtgt gtggagacct gcccgccccc gtactaccac       960\n",
      "     ttccaggact ggcgctgtgt gaacttcagc ttctgccagg acctgcacca caaatgcaag      1020\n",
      "     aactcgcgga ggcagggctg ccaccaatac gtcattcaca acaacaagtg catccctgag      1080\n",
      "     tgtccctccg ggtacacgat gaattccagc aacttgctgt gcaccccatg cctgggtccc      1140\n",
      "     tgtcccaagg tgtgccacct cctagaaggc gagaagacca tcgactcggt gacgtctgcc      1200\n",
      "     caggagctcc gaggatgcac cgtcatcaac gggagtctga tcatcaacat tcgaggaggc      1260\n",
      "     aacaatctgg cagctgagct agaagccaac ctcggcctca ttgaagaaat ttcagggtat      1320\n",
      "     ctaaaaatcc gccgatccta cgctctggtg tcactttcct tcttccggaa gttacgtctg      1380\n",
      "     attcgaggag agaccttgga aattgggaac tactccttct atgccttgga caaccagaac      1440\n",
      "     ctaaggcagc tctgggactg gagcaaacac aacctcacca ccactcaggg gaaactcttc      1500\n",
      "     ttccactata accccaaact ctgcttgtca gaaatccaca agatggaaga agtttcagga      1560\n",
      "     accaaggggc gccaggagag aaacgacatt gccctgaaga ccaatgggga caaggcatcc      1620\n",
      "     tgtgaaaatg agttacttaa attttcttac attcggacat cttttgacaa gatcttgctg      1680\n",
      "     agatgggagc cgtactggcc ccccgacttc cgagacctct tggggttcat gctgttctac      1740\n",
      "     aaagaggccc cttatcagaa tgtgacggag ttcgatgggc aggatgcgtg tggttccaac      1800\n",
      "     agttggacgg tggtagacat tgacccaccc ctgaggtcca acgaccccaa atcacagaac      1860\n",
      "     cacccagggt ggctgatgcg gggtctcaag ccctggaccc agtatgccat ctttgtgaag      1920\n",
      "     accctggtca ccttttcgga tgaacgccgg acctatgggg ccaagagtga catcatttat      1980\n",
      "     gtccagacag atgccaccaa cccctctgtg cccctggatc caatctcagt gtctaactca      2040\n",
      "     tcatcccaga ttattctgaa gtggaaacca ccctccgacc ccaatggcaa catcacccac      2100\n",
      "     tacctggttt tctgggagag gcaggcggaa gacagtgagc tgttcgagct ggattattgc      2160\n",
      "     ctcaaagggc tgaagctgcc ctcgaggacc tggtctccac cattcgagtc tgaagattct      2220\n",
      "     cagaagcaca accagagtga gtatgaggat tcggccggcg aatgctgctc ctgtccaaag      2280\n",
      "     acagactctc agatcctgaa ggagctggag gagtcctcgt ttaggaagac gtttgaggat      2340\n",
      "     tacctgcaca acgtggtttt cgtccccaga aaaacctctt caggcactgg tgccgaggac      2400\n",
      "     cctaggccat ctcggaaacg caggtccctt ggcgatgttg ggaatgtgac ggtggccgtg      2460\n",
      "     cccacggtgg cagctttccc caacacttcc tcgaccagcg tgcccacgag tccggaggag      2520\n",
      "     cacaggcctt ttgagaaggt ggtgaacaag gagtcgctgg tcatctccgg cttgcgacac      2580\n",
      "     ttcacgggct atcgcatcga gctgcaggct tgcaaccagg acacccctga ggaacggtgc      2640\n",
      "     agtgtggcag cctacgtcag tgcgaggacc atgcctgaag ccaaggctga tgacattgtt      2700\n",
      "     ggccctgtga cgcatgaaat ctttgagaac aacgtcgtcc acttgatgtg gcaggagccg      2760\n",
      "     aaggagccca atggtctgat cgtgctgtat gaagtgagtt atcggcgata tggtgatgag      2820\n",
      "     gagctgcatc tctgcgtctc ccgcaagcac ttcgctctgg aacggggctg caggctgcgt      2880\n",
      "     gggctgtcac cggggaacta cagcgtgcga atccgggcca cctcccttgc gggcaacggc      2940\n",
      "     tcttggacgg aacccaccta tttctacgtg acagactatt tagacgtccc gtcaaatatt      3000\n",
      "     gcaaaaatta tcatcggccc cctcatcttt gtctttctct tcagtgttgt gattggaagt      3060\n",
      "     atttatctat tcctgagaaa gaggcagcca gatgggccgc tgggaccgct ttacgcttct      3120\n",
      "     tcaaaccctg agtatctcag tgccagtgat gtgtttccat gctctgtgta cgtgccggac      3180\n",
      "     gagtgggagg tgtctcgaga gaagatcacc ctccttcgag agctggggca gggctccttc      3240\n",
      "     ggcatggtgt atgagggcaa tgccagggac atcatcaagg gtgaggcaga gacccgcgtg      3300\n",
      "     gcggtgaaga cggtcaacga gtcagccagt ctccgagagc ggattgagtt cctcaatgag      3360\n",
      "     gcctcggtca tgaagggctt cacctgccat cacgtggtgc gcctcctggg agtggtgtcc      3420\n",
      "     aagggccagc ccacgctggt ggtgatggag ctgatggctc acggagacct gaagagctac      3480\n",
      "     ctccgttctc tgcggccaga ggctgagaat aatcctggcc gccctccccc tacccttcaa      3540\n",
      "     gagatgattc agatggcggc agagattgct gacgggatgg cctacctgaa cgccaagaag      3600\n",
      "     tttgtgcatc gggacctggc agcgagaaac tgcatggtcg cccatgattt tactgtcaaa      3660\n",
      "     attggagact ttggaatgac cagagacatc tatgaaacgg attactaccg gaaagggggc      3720\n",
      "     aagggtctgc tccctgtacg gtggatggca ccggagtccc tgaaggatgg ggtcttcacc      3780\n",
      "     acttcttctg acatgtggtc ctttggcgtg gtcctttggg aaatcaccag cttggcagaa      3840\n",
      "     cagccttacc aaggcctgtc taatgaacag gtgttgaaat ttgtcatgga tggagggtat      3900\n",
      "     ctggatcaac ccgacaactg tccagagaga gtcactgacc tcatgcgcat gtgctggcaa      3960\n",
      "     ttcaacccca agatgaggcc aaccttcctg gagattgtca acctgctcaa ggacgacctg      4020\n",
      "     caccccagct ttccagaggt gtcgttcttc cacagcgagg agaacaaggc tcccgagagt      4080\n",
      "     gaggagctgg agatggagtt tgaggacatg gagaatgtgc ccctggaccg ttcctcgcac      4140\n",
      "     tgtcagaggg aggaggcggg gggccgggat ggagggtcct cgctgggttt caagcggagc      4200\n",
      "     tacgaggaac acatccctta cacacacatg aacggaggca agaaaaacgg gcggattctg      4260\n",
      "     accttgcctc ggtccaatcc ttcctaacag tgcctaccgt ggcgggggcg ggcaggggtt      4320\n",
      "     cccattttcg ctttcctctg gtttgaaagc ctctggaaaa ctcaggattc tcacgactct      4380\n",
      "     accatgtcca gtggagttca gagatcgttc ctatacattt ctgttcatct taaggtggac      4440\n",
      "     tcgtttggtt accaatttaa ctagtcctgc agaggattta actgtgaacc tggagggcaa      4500\n",
      "     ggggtttcca cagttgctgc tcctttgggg caacgacggt ttcaaaccag gattttgtgt      4560\n",
      "     tttttcgttc cccccacccg cccccagcag atggaaagaa agcacctgtt tttacaaatt      4620\n",
      "     cttttttttt tttttttttt tttttttttg ctggtgtctg agcttcagta taaaagacaa      4680\n",
      "     aacttcctgt ttgtggaaca aaatttcgaa agaaaaaacc aaa                        4723\n",
      "//\n",
      "\n"
     ]
    }
   ],
   "source": [
    "with open(input_file_name, 'r') as input_file:\n",
    "    file_str = input_file.read()\n",
    "    \n",
    "print(file_str)"
   ]
  },
  {
   "cell_type": "markdown",
   "metadata": {},
   "source": [
    "## Estrarre l'identificatore univoco e l'organismo"
   ]
  },
  {
   "cell_type": "markdown",
   "metadata": {},
   "source": [
    "Estrarre dal *record* `ID`:\n",
    "\n",
    "    ID   M10051; SV 1; linear; mRNA; STD; HUM; 4723 BP.\n",
    "    \n",
    "l'identificatore univoco `M10051` e l'organismo `HUM`."
   ]
  },
  {
   "cell_type": "markdown",
   "metadata": {},
   "source": [
    "a) Estrarre l'identificatore."
   ]
  },
  {
   "cell_type": "code",
   "execution_count": 24,
   "metadata": {},
   "outputs": [],
   "source": [
    "m = re.search(r'^ID\\s+(\\w+)', file_str, re.M)"
   ]
  },
  {
   "cell_type": "code",
   "execution_count": 39,
   "metadata": {},
   "outputs": [
    {
     "data": {
      "text/plain": [
       "'M10051'"
      ]
     },
     "execution_count": 39,
     "metadata": {},
     "output_type": "execute_result"
    }
   ],
   "source": [
    "identifier = m.group(1)\n",
    "identifier"
   ]
  },
  {
   "cell_type": "markdown",
   "metadata": {},
   "source": [
    "b) Estrarre l'organismo."
   ]
  },
  {
   "cell_type": "code",
   "execution_count": 31,
   "metadata": {},
   "outputs": [],
   "source": [
    "m = re.search(r'^ID\\s+.+\\s+(\\w+);', file_str, re.M)"
   ]
  },
  {
   "cell_type": "code",
   "execution_count": 32,
   "metadata": {},
   "outputs": [
    {
     "data": {
      "text/plain": [
       "'HUM'"
      ]
     },
     "execution_count": 32,
     "metadata": {},
     "output_type": "execute_result"
    }
   ],
   "source": [
    "organism = m.group(1)\n",
    "organism"
   ]
  },
  {
   "cell_type": "markdown",
   "metadata": {},
   "source": [
    "In alternativa"
   ]
  },
  {
   "cell_type": "code",
   "execution_count": 36,
   "metadata": {},
   "outputs": [],
   "source": [
    "m = re.search(r'^ID\\s+(\\w+).+\\s+(\\w+);', file_str, re.M)"
   ]
  },
  {
   "cell_type": "code",
   "execution_count": 40,
   "metadata": {},
   "outputs": [
    {
     "data": {
      "text/plain": [
       "('M10051', 'HUM')"
      ]
     },
     "execution_count": 40,
     "metadata": {},
     "output_type": "execute_result"
    }
   ],
   "source": [
    "identifier, organism = m.groups()\n",
    "identifier, organism"
   ]
  },
  {
   "cell_type": "markdown",
   "metadata": {},
   "source": [
    "## Estrarre la sequenza nucleotidica (in lettere maiuscole)"
   ]
  },
  {
   "cell_type": "code",
   "execution_count": null,
   "metadata": {},
   "outputs": [],
   "source": []
  },
  {
   "cell_type": "code",
   "execution_count": 22,
   "metadata": {},
   "outputs": [
    {
     "data": {
      "text/plain": [
       "'GGGGGGCTGCGCGGCCGGGTCGGTGCGCACACGAGAAGGACGCGCGGCCCCCAGCGCTCTTGGGGGCCGCCTCGGAGCATGACCCCCGCGGGCCAGCGCCGCGCGCCTGATCCGAGGAGACCCCGCGCTCCCGCAGCCATGGGCACCGGGGGCCGGCGGGGGGCGGCGGCCGCGCCGCTGCTGGTGGCGGTGGCCGCGCTGCTACTGGGCGCCGCGGGCCACCTGTACCCCGGAGAGGTGTGTCCCGGCATGGATATCCGGAACAACCTCACTAGGTTGCATGAGCTGGAGAATTGCTCTGTCATCGAAGGACACTTGCAGATACTCTTGATGTTCAAAACGAGGCCCGAAGATTTCCGAGACCTCAGTTTCCCCAAACTCATCATGATCACTGATTACTTGCTGCTCTTCCGGGTCTATGGGCTCGAGAGCCTGAAGGACCTGTTCCCCAACCTCACGGTCATCCGGGGATCACGACTGTTCTTTAACTACGCGCTGGTCATCTTCGAGATGGTTCACCTCAAGGAACTCGGCCTCTACAACCTGATGAACATCACCCGGGGTTCTGTCCGCATCGAGAAGAACAATGAGCTCTGTTACTTGGCCACTATCGACTGGTCCCGTATCCTGGATTCCGTGGAGGATAATCACATCGTGTTGAACAAAGATGACAACGAGGAGTGTGGAGACATCTGTCCGGGTACCGCGAAGGGCAAGACCAACTGCCCCGCCACCGTCATCAACGGGCAGTTTGTCGAACGATGTTGGACTCATAGTCACTGCCAGAAAGTTTGCCCGACCATCTGTAAGTCACACGGCTGCACCGCCGAAGGCCTCTGTTGCCACAGCGAGTGCCTGGGCAACTGTTCTCAGCCCGACGACCCCACCAAGTGCGTGGCCTGCCGCAACTTCTACCTGGACGGCAGGTGTGTGGAGACCTGCCCGCCCCCGTACTACCACTTCCAGGACTGGCGCTGTGTGAACTTCAGCTTCTGCCAGGACCTGCACCACAAATGCAAGAACTCGCGGAGGCAGGGCTGCCACCAATACGTCATTCACAACAACAAGTGCATCCCTGAGTGTCCCTCCGGGTACACGATGAATTCCAGCAACTTGCTGTGCACCCCATGCCTGGGTCCCTGTCCCAAGGTGTGCCACCTCCTAGAAGGCGAGAAGACCATCGACTCGGTGACGTCTGCCCAGGAGCTCCGAGGATGCACCGTCATCAACGGGAGTCTGATCATCAACATTCGAGGAGGCAACAATCTGGCAGCTGAGCTAGAAGCCAACCTCGGCCTCATTGAAGAAATTTCAGGGTATCTAAAAATCCGCCGATCCTACGCTCTGGTGTCACTTTCCTTCTTCCGGAAGTTACGTCTGATTCGAGGAGAGACCTTGGAAATTGGGAACTACTCCTTCTATGCCTTGGACAACCAGAACCTAAGGCAGCTCTGGGACTGGAGCAAACACAACCTCACCACCACTCAGGGGAAACTCTTCTTCCACTATAACCCCAAACTCTGCTTGTCAGAAATCCACAAGATGGAAGAAGTTTCAGGAACCAAGGGGCGCCAGGAGAGAAACGACATTGCCCTGAAGACCAATGGGGACAAGGCATCCTGTGAAAATGAGTTACTTAAATTTTCTTACATTCGGACATCTTTTGACAAGATCTTGCTGAGATGGGAGCCGTACTGGCCCCCCGACTTCCGAGACCTCTTGGGGTTCATGCTGTTCTACAAAGAGGCCCCTTATCAGAATGTGACGGAGTTCGATGGGCAGGATGCGTGTGGTTCCAACAGTTGGACGGTGGTAGACATTGACCCACCCCTGAGGTCCAACGACCCCAAATCACAGAACCACCCAGGGTGGCTGATGCGGGGTCTCAAGCCCTGGACCCAGTATGCCATCTTTGTGAAGACCCTGGTCACCTTTTCGGATGAACGCCGGACCTATGGGGCCAAGAGTGACATCATTTATGTCCAGACAGATGCCACCAACCCCTCTGTGCCCCTGGATCCAATCTCAGTGTCTAACTCATCATCCCAGATTATTCTGAAGTGGAAACCACCCTCCGACCCCAATGGCAACATCACCCACTACCTGGTTTTCTGGGAGAGGCAGGCGGAAGACAGTGAGCTGTTCGAGCTGGATTATTGCCTCAAAGGGCTGAAGCTGCCCTCGAGGACCTGGTCTCCACCATTCGAGTCTGAAGATTCTCAGAAGCACAACCAGAGTGAGTATGAGGATTCGGCCGGCGAATGCTGCTCCTGTCCAAAGACAGACTCTCAGATCCTGAAGGAGCTGGAGGAGTCCTCGTTTAGGAAGACGTTTGAGGATTACCTGCACAACGTGGTTTTCGTCCCCAGAAAAACCTCTTCAGGCACTGGTGCCGAGGACCCTAGGCCATCTCGGAAACGCAGGTCCCTTGGCGATGTTGGGAATGTGACGGTGGCCGTGCCCACGGTGGCAGCTTTCCCCAACACTTCCTCGACCAGCGTGCCCACGAGTCCGGAGGAGCACAGGCCTTTTGAGAAGGTGGTGAACAAGGAGTCGCTGGTCATCTCCGGCTTGCGACACTTCACGGGCTATCGCATCGAGCTGCAGGCTTGCAACCAGGACACCCCTGAGGAACGGTGCAGTGTGGCAGCCTACGTCAGTGCGAGGACCATGCCTGAAGCCAAGGCTGATGACATTGTTGGCCCTGTGACGCATGAAATCTTTGAGAACAACGTCGTCCACTTGATGTGGCAGGAGCCGAAGGAGCCCAATGGTCTGATCGTGCTGTATGAAGTGAGTTATCGGCGATATGGTGATGAGGAGCTGCATCTCTGCGTCTCCCGCAAGCACTTCGCTCTGGAACGGGGCTGCAGGCTGCGTGGGCTGTCACCGGGGAACTACAGCGTGCGAATCCGGGCCACCTCCCTTGCGGGCAACGGCTCTTGGACGGAACCCACCTATTTCTACGTGACAGACTATTTAGACGTCCCGTCAAATATTGCAAAAATTATCATCGGCCCCCTCATCTTTGTCTTTCTCTTCAGTGTTGTGATTGGAAGTATTTATCTATTCCTGAGAAAGAGGCAGCCAGATGGGCCGCTGGGACCGCTTTACGCTTCTTCAAACCCTGAGTATCTCAGTGCCAGTGATGTGTTTCCATGCTCTGTGTACGTGCCGGACGAGTGGGAGGTGTCTCGAGAGAAGATCACCCTCCTTCGAGAGCTGGGGCAGGGCTCCTTCGGCATGGTGTATGAGGGCAATGCCAGGGACATCATCAAGGGTGAGGCAGAGACCCGCGTGGCGGTGAAGACGGTCAACGAGTCAGCCAGTCTCCGAGAGCGGATTGAGTTCCTCAATGAGGCCTCGGTCATGAAGGGCTTCACCTGCCATCACGTGGTGCGCCTCCTGGGAGTGGTGTCCAAGGGCCAGCCCACGCTGGTGGTGATGGAGCTGATGGCTCACGGAGACCTGAAGAGCTACCTCCGTTCTCTGCGGCCAGAGGCTGAGAATAATCCTGGCCGCCCTCCCCCTACCCTTCAAGAGATGATTCAGATGGCGGCAGAGATTGCTGACGGGATGGCCTACCTGAACGCCAAGAAGTTTGTGCATCGGGACCTGGCAGCGAGAAACTGCATGGTCGCCCATGATTTTACTGTCAAAATTGGAGACTTTGGAATGACCAGAGACATCTATGAAACGGATTACTACCGGAAAGGGGGCAAGGGTCTGCTCCCTGTACGGTGGATGGCACCGGAGTCCCTGAAGGATGGGGTCTTCACCACTTCTTCTGACATGTGGTCCTTTGGCGTGGTCCTTTGGGAAATCACCAGCTTGGCAGAACAGCCTTACCAAGGCCTGTCTAATGAACAGGTGTTGAAATTTGTCATGGATGGAGGGTATCTGGATCAACCCGACAACTGTCCAGAGAGAGTCACTGACCTCATGCGCATGTGCTGGCAATTCAACCCCAAGATGAGGCCAACCTTCCTGGAGATTGTCAACCTGCTCAAGGACGACCTGCACCCCAGCTTTCCAGAGGTGTCGTTCTTCCACAGCGAGGAGAACAAGGCTCCCGAGAGTGAGGAGCTGGAGATGGAGTTTGAGGACATGGAGAATGTGCCCCTGGACCGTTCCTCGCACTGTCAGAGGGAGGAGGCGGGGGGCCGGGATGGAGGGTCCTCGCTGGGTTTCAAGCGGAGCTACGAGGAACACATCCCTTACACACACATGAACGGAGGCAAGAAAAACGGGCGGATTCTGACCTTGCCTCGGTCCAATCCTTCCTAACAGTGCCTACCGTGGCGGGGGCGGGCAGGGGTTCCCATTTTCGCTTTCCTCTGGTTTGAAAGCCTCTGGAAAACTCAGGATTCTCACGACTCTACCATGTCCAGTGGAGTTCAGAGATCGTTCCTATACATTTCTGTTCATCTTAAGGTGGACTCGTTTGGTTACCAATTTAACTAGTCCTGCAGAGGATTTAACTGTGAACCTGGAGGGCAAGGGGTTTCCACAGTTGCTGCTCCTTTGGGGCAACGACGGTTTCAAACCAGGATTTTGTGTTTTTTCGTTCCCCCCACCCGCCCCCAGCAGATGGAAAGAAAGCACCTGTTTTTACAAATTCTTTTTTTTTTTTTTTTTTTTTTTTTTTTGCTGGTGTCTGAGCTTCAGTATAAAAGACAAAACTTCCTGTTTGTGGAACAAAATTTCGAAAGAAAAAACCAAA'"
      ]
     },
     "execution_count": 22,
     "metadata": {},
     "output_type": "execute_result"
    }
   ],
   "source": [
    "nucleotide_sequence"
   ]
  },
  {
   "cell_type": "markdown",
   "metadata": {},
   "source": [
    "## Verificare la composizione della sequenza nucleotidica rispetto a quella dichiarata nell'*entry*\n",
    "\n",
    "a) Derivare dal *record* `SQ`:\n",
    "\n",
    "    SQ   Sequence 4723 BP; 1068 A; 1298 C; 1311 G; 1046 T; 0 other;\n",
    "    \n",
    "un dizionario contenente la composizione della sequenza nucleotidica:\n",
    "\n",
    "- **chiave**: base\n",
    "- **valore**: numero di occorrenze della chiave"
   ]
  },
  {
   "cell_type": "code",
   "execution_count": null,
   "metadata": {},
   "outputs": [],
   "source": []
  },
  {
   "cell_type": "code",
   "execution_count": 32,
   "metadata": {},
   "outputs": [
    {
     "data": {
      "text/plain": [
       "{'A': 1068, 'C': 1298, 'G': 1311, 'T': 1046}"
      ]
     },
     "execution_count": 32,
     "metadata": {},
     "output_type": "execute_result"
    }
   ],
   "source": [
    "entry_seq_composition"
   ]
  },
  {
   "cell_type": "markdown",
   "metadata": {},
   "source": [
    "b) Estrarre dalla sequenza nucleotidica un dizionario analogo."
   ]
  },
  {
   "cell_type": "code",
   "execution_count": null,
   "metadata": {},
   "outputs": [],
   "source": []
  },
  {
   "cell_type": "markdown",
   "metadata": {},
   "source": [
    "c) Confrontare i due dizionari"
   ]
  },
  {
   "cell_type": "code",
   "execution_count": null,
   "metadata": {},
   "outputs": [],
   "source": []
  },
  {
   "cell_type": "markdown",
   "metadata": {},
   "source": [
    "## Creare la sequenza nucleotidica in formato `FASTA`\n",
    "\n",
    "Produrre la sequenza nucleotidica in formato `FASTA` con il seguente *header*:\n",
    "\n",
    "    >M10051-HUM"
   ]
  },
  {
   "cell_type": "code",
   "execution_count": null,
   "metadata": {},
   "outputs": [],
   "source": []
  },
  {
   "cell_type": "code",
   "execution_count": 41,
   "metadata": {},
   "outputs": [
    {
     "name": "stdout",
     "output_type": "stream",
     "text": [
      ">M10051-HUM\n",
      "GGGGGGCUGCGCGGCCGGGUCGGUGCGCACACGAGAAGGACGCGCGGCCCCCAGCGCUCUUGGGGGCCGCCUCGGAGCAU\n",
      "GACCCCCGCGGGCCAGCGCCGCGCGCCUGAUCCGAGGAGACCCCGCGCUCCCGCAGCCAUGGGCACCGGGGGCCGGCGGG\n",
      "GGGCGGCGGCCGCGCCGCUGCUGGUGGCGGUGGCCGCGCUGCUACUGGGCGCCGCGGGCCACCUGUACCCCGGAGAGGUG\n",
      "UGUCCCGGCAUGGAUAUCCGGAACAACCUCACUAGGUUGCAUGAGCUGGAGAAUUGCUCUGUCAUCGAAGGACACUUGCA\n",
      "GAUACUCUUGAUGUUCAAAACGAGGCCCGAAGAUUUCCGAGACCUCAGUUUCCCCAAACUCAUCAUGAUCACUGAUUACU\n",
      "UGCUGCUCUUCCGGGUCUAUGGGCUCGAGAGCCUGAAGGACCUGUUCCCCAACCUCACGGUCAUCCGGGGAUCACGACUG\n",
      "UUCUUUAACUACGCGCUGGUCAUCUUCGAGAUGGUUCACCUCAAGGAACUCGGCCUCUACAACCUGAUGAACAUCACCCG\n",
      "GGGUUCUGUCCGCAUCGAGAAGAACAAUGAGCUCUGUUACUUGGCCACUAUCGACUGGUCCCGUAUCCUGGAUUCCGUGG\n",
      "AGGAUAAUCACAUCGUGUUGAACAAAGAUGACAACGAGGAGUGUGGAGACAUCUGUCCGGGUACCGCGAAGGGCAAGACC\n",
      "AACUGCCCCGCCACCGUCAUCAACGGGCAGUUUGUCGAACGAUGUUGGACUCAUAGUCACUGCCAGAAAGUUUGCCCGAC\n",
      "CAUCUGUAAGUCACACGGCUGCACCGCCGAAGGCCUCUGUUGCCACAGCGAGUGCCUGGGCAACUGUUCUCAGCCCGACG\n",
      "ACCCCACCAAGUGCGUGGCCUGCCGCAACUUCUACCUGGACGGCAGGUGUGUGGAGACCUGCCCGCCCCCGUACUACCAC\n",
      "UUCCAGGACUGGCGCUGUGUGAACUUCAGCUUCUGCCAGGACCUGCACCACAAAUGCAAGAACUCGCGGAGGCAGGGCUG\n",
      "CCACCAAUACGUCAUUCACAACAACAAGUGCAUCCCUGAGUGUCCCUCCGGGUACACGAUGAAUUCCAGCAACUUGCUGU\n",
      "GCACCCCAUGCCUGGGUCCCUGUCCCAAGGUGUGCCACCUCCUAGAAGGCGAGAAGACCAUCGACUCGGUGACGUCUGCC\n",
      "CAGGAGCUCCGAGGAUGCACCGUCAUCAACGGGAGUCUGAUCAUCAACAUUCGAGGAGGCAACAAUCUGGCAGCUGAGCU\n",
      "AGAAGCCAACCUCGGCCUCAUUGAAGAAAUUUCAGGGUAUCUAAAAAUCCGCCGAUCCUACGCUCUGGUGUCACUUUCCU\n",
      "UCUUCCGGAAGUUACGUCUGAUUCGAGGAGAGACCUUGGAAAUUGGGAACUACUCCUUCUAUGCCUUGGACAACCAGAAC\n",
      "CUAAGGCAGCUCUGGGACUGGAGCAAACACAACCUCACCACCACUCAGGGGAAACUCUUCUUCCACUAUAACCCCAAACU\n",
      "CUGCUUGUCAGAAAUCCACAAGAUGGAAGAAGUUUCAGGAACCAAGGGGCGCCAGGAGAGAAACGACAUUGCCCUGAAGA\n",
      "CCAAUGGGGACAAGGCAUCCUGUGAAAAUGAGUUACUUAAAUUUUCUUACAUUCGGACAUCUUUUGACAAGAUCUUGCUG\n",
      "AGAUGGGAGCCGUACUGGCCCCCCGACUUCCGAGACCUCUUGGGGUUCAUGCUGUUCUACAAAGAGGCCCCUUAUCAGAA\n",
      "UGUGACGGAGUUCGAUGGGCAGGAUGCGUGUGGUUCCAACAGUUGGACGGUGGUAGACAUUGACCCACCCCUGAGGUCCA\n",
      "ACGACCCCAAAUCACAGAACCACCCAGGGUGGCUGAUGCGGGGUCUCAAGCCCUGGACCCAGUAUGCCAUCUUUGUGAAG\n",
      "ACCCUGGUCACCUUUUCGGAUGAACGCCGGACCUAUGGGGCCAAGAGUGACAUCAUUUAUGUCCAGACAGAUGCCACCAA\n",
      "CCCCUCUGUGCCCCUGGAUCCAAUCUCAGUGUCUAACUCAUCAUCCCAGAUUAUUCUGAAGUGGAAACCACCCUCCGACC\n",
      "CCAAUGGCAACAUCACCCACUACCUGGUUUUCUGGGAGAGGCAGGCGGAAGACAGUGAGCUGUUCGAGCUGGAUUAUUGC\n",
      "CUCAAAGGGCUGAAGCUGCCCUCGAGGACCUGGUCUCCACCAUUCGAGUCUGAAGAUUCUCAGAAGCACAACCAGAGUGA\n",
      "GUAUGAGGAUUCGGCCGGCGAAUGCUGCUCCUGUCCAAAGACAGACUCUCAGAUCCUGAAGGAGCUGGAGGAGUCCUCGU\n",
      "UUAGGAAGACGUUUGAGGAUUACCUGCACAACGUGGUUUUCGUCCCCAGAAAAACCUCUUCAGGCACUGGUGCCGAGGAC\n",
      "CCUAGGCCAUCUCGGAAACGCAGGUCCCUUGGCGAUGUUGGGAAUGUGACGGUGGCCGUGCCCACGGUGGCAGCUUUCCC\n",
      "CAACACUUCCUCGACCAGCGUGCCCACGAGUCCGGAGGAGCACAGGCCUUUUGAGAAGGUGGUGAACAAGGAGUCGCUGG\n",
      "UCAUCUCCGGCUUGCGACACUUCACGGGCUAUCGCAUCGAGCUGCAGGCUUGCAACCAGGACACCCCUGAGGAACGGUGC\n",
      "AGUGUGGCAGCCUACGUCAGUGCGAGGACCAUGCCUGAAGCCAAGGCUGAUGACAUUGUUGGCCCUGUGACGCAUGAAAU\n",
      "CUUUGAGAACAACGUCGUCCACUUGAUGUGGCAGGAGCCGAAGGAGCCCAAUGGUCUGAUCGUGCUGUAUGAAGUGAGUU\n",
      "AUCGGCGAUAUGGUGAUGAGGAGCUGCAUCUCUGCGUCUCCCGCAAGCACUUCGCUCUGGAACGGGGCUGCAGGCUGCGU\n",
      "GGGCUGUCACCGGGGAACUACAGCGUGCGAAUCCGGGCCACCUCCCUUGCGGGCAACGGCUCUUGGACGGAACCCACCUA\n",
      "UUUCUACGUGACAGACUAUUUAGACGUCCCGUCAAAUAUUGCAAAAAUUAUCAUCGGCCCCCUCAUCUUUGUCUUUCUCU\n",
      "UCAGUGUUGUGAUUGGAAGUAUUUAUCUAUUCCUGAGAAAGAGGCAGCCAGAUGGGCCGCUGGGACCGCUUUACGCUUCU\n",
      "UCAAACCCUGAGUAUCUCAGUGCCAGUGAUGUGUUUCCAUGCUCUGUGUACGUGCCGGACGAGUGGGAGGUGUCUCGAGA\n",
      "GAAGAUCACCCUCCUUCGAGAGCUGGGGCAGGGCUCCUUCGGCAUGGUGUAUGAGGGCAAUGCCAGGGACAUCAUCAAGG\n",
      "GUGAGGCAGAGACCCGCGUGGCGGUGAAGACGGUCAACGAGUCAGCCAGUCUCCGAGAGCGGAUUGAGUUCCUCAAUGAG\n",
      "GCCUCGGUCAUGAAGGGCUUCACCUGCCAUCACGUGGUGCGCCUCCUGGGAGUGGUGUCCAAGGGCCAGCCCACGCUGGU\n",
      "GGUGAUGGAGCUGAUGGCUCACGGAGACCUGAAGAGCUACCUCCGUUCUCUGCGGCCAGAGGCUGAGAAUAAUCCUGGCC\n",
      "GCCCUCCCCCUACCCUUCAAGAGAUGAUUCAGAUGGCGGCAGAGAUUGCUGACGGGAUGGCCUACCUGAACGCCAAGAAG\n",
      "UUUGUGCAUCGGGACCUGGCAGCGAGAAACUGCAUGGUCGCCCAUGAUUUUACUGUCAAAAUUGGAGACUUUGGAAUGAC\n",
      "CAGAGACAUCUAUGAAACGGAUUACUACCGGAAAGGGGGCAAGGGUCUGCUCCCUGUACGGUGGAUGGCACCGGAGUCCC\n",
      "UGAAGGAUGGGGUCUUCACCACUUCUUCUGACAUGUGGUCCUUUGGCGUGGUCCUUUGGGAAAUCACCAGCUUGGCAGAA\n",
      "CAGCCUUACCAAGGCCUGUCUAAUGAACAGGUGUUGAAAUUUGUCAUGGAUGGAGGGUAUCUGGAUCAACCCGACAACUG\n",
      "UCCAGAGAGAGUCACUGACCUCAUGCGCAUGUGCUGGCAAUUCAACCCCAAGAUGAGGCCAACCUUCCUGGAGAUUGUCA\n",
      "ACCUGCUCAAGGACGACCUGCACCCCAGCUUUCCAGAGGUGUCGUUCUUCCACAGCGAGGAGAACAAGGCUCCCGAGAGU\n",
      "GAGGAGCUGGAGAUGGAGUUUGAGGACAUGGAGAAUGUGCCCCUGGACCGUUCCUCGCACUGUCAGAGGGAGGAGGCGGG\n",
      "GGGCCGGGAUGGAGGGUCCUCGCUGGGUUUCAAGCGGAGCUACGAGGAACACAUCCCUUACACACACAUGAACGGAGGCA\n",
      "AGAAAAACGGGCGGAUUCUGACCUUGCCUCGGUCCAAUCCUUCCUAACAGUGCCUACCGUGGCGGGGGCGGGCAGGGGUU\n",
      "CCCAUUUUCGCUUUCCUCUGGUUUGAAAGCCUCUGGAAAACUCAGGAUUCUCACGACUCUACCAUGUCCAGUGGAGUUCA\n",
      "GAGAUCGUUCCUAUACAUUUCUGUUCAUCUUAAGGUGGACUCGUUUGGUUACCAAUUUAACUAGUCCUGCAGAGGAUUUA\n",
      "ACUGUGAACCUGGAGGGCAAGGGGUUUCCACAGUUGCUGCUCCUUUGGGGCAACGACGGUUUCAAACCAGGAUUUUGUGU\n",
      "UUUUUCGUUCCCCCCACCCGCCCCCAGCAGAUGGAAAGAAAGCACCUGUUUUUACAAAUUCUUUUUUUUUUUUUUUUUUU\n",
      "UUUUUUUUUGCUGGUGUCUGAGCUUCAGUAUAAAAGACAAAACUUCCUGUUUGUGGAACAAAAUUUCGAAAGAAAAAACC\n",
      "AAA\n",
      "\n"
     ]
    }
   ],
   "source": [
    "print(nucleotide_fasta_sequence)"
   ]
  },
  {
   "cell_type": "markdown",
   "metadata": {},
   "source": [
    "Salvare la sequenza in un file."
   ]
  },
  {
   "cell_type": "code",
   "execution_count": null,
   "metadata": {},
   "outputs": [],
   "source": []
  },
  {
   "cell_type": "markdown",
   "metadata": {},
   "source": [
    "## Estrarre la sequenza della proteina"
   ]
  },
  {
   "cell_type": "markdown",
   "metadata": {},
   "source": [
    "a) Estrarre il prefisso della proteina che è contenuto nel *record*:\n",
    "\n",
    "    FT                   /translation=\"MGTGGRRGAAAAPLLVAVAALLLGAAGHLYPGEVCPGMDIRNNLT"
   ]
  },
  {
   "cell_type": "code",
   "execution_count": null,
   "metadata": {},
   "outputs": [],
   "source": []
  },
  {
   "cell_type": "code",
   "execution_count": 44,
   "metadata": {},
   "outputs": [
    {
     "data": {
      "text/plain": [
       "'MGTGGRRGAAAAPLLVAVAALLLGAAGHLYPGEVCPGMDIRNNLT'"
      ]
     },
     "execution_count": 44,
     "metadata": {},
     "output_type": "execute_result"
    }
   ],
   "source": [
    "protein_prefix"
   ]
  },
  {
   "cell_type": "markdown",
   "metadata": {},
   "source": [
    "b) Costruire la lista di tutti gli altri record della proteina."
   ]
  },
  {
   "cell_type": "code",
   "execution_count": null,
   "metadata": {},
   "outputs": [],
   "source": []
  },
  {
   "cell_type": "code",
   "execution_count": 46,
   "metadata": {},
   "outputs": [
    {
     "data": {
      "text/plain": [
       "['RLHELENCSVIEGHLQILLMFKTRPEDFRDLSFPKLIMITDYLLLFRVYGLESLKDLFP',\n",
       " 'NLTVIRGSRLFFNYALVIFEMVHLKELGLYNLMNITRGSVRIEKNNELCYLATIDWSRI',\n",
       " 'LDSVEDNHIVLNKDDNEECGDICPGTAKGKTNCPATVINGQFVERCWTHSHCQKVCPTI',\n",
       " 'CKSHGCTAEGLCCHSECLGNCSQPDDPTKCVACRNFYLDGRCVETCPPPYYHFQDWRCV',\n",
       " 'NFSFCQDLHHKCKNSRRQGCHQYVIHNNKCIPECPSGYTMNSSNLLCTPCLGPCPKVCH',\n",
       " 'LLEGEKTIDSVTSAQELRGCTVINGSLIINIRGGNNLAAELEANLGLIEEISGYLKIRR',\n",
       " 'SYALVSLSFFRKLRLIRGETLEIGNYSFYALDNQNLRQLWDWSKHNLTTTQGKLFFHYN',\n",
       " 'PKLCLSEIHKMEEVSGTKGRQERNDIALKTNGDKASCENELLKFSYIRTSFDKILLRWE',\n",
       " 'PYWPPDFRDLLGFMLFYKEAPYQNVTEFDGQDACGSNSWTVVDIDPPLRSNDPKSQNHP',\n",
       " 'GWLMRGLKPWTQYAIFVKTLVTFSDERRTYGAKSDIIYVQTDATNPSVPLDPISVSNSS',\n",
       " 'SQIILKWKPPSDPNGNITHYLVFWERQAEDSELFELDYCLKGLKLPSRTWSPPFESEDS',\n",
       " 'QKHNQSEYEDSAGECCSCPKTDSQILKELEESSFRKTFEDYLHNVVFVPRKTSSGTGAE',\n",
       " 'DPRPSRKRRSLGDVGNVTVAVPTVAAFPNTSSTSVPTSPEEHRPFEKVVNKESLVISGL',\n",
       " 'RHFTGYRIELQACNQDTPEERCSVAAYVSARTMPEAKADDIVGPVTHEIFENNVVHLMW',\n",
       " 'QEPKEPNGLIVLYEVSYRRYGDEELHLCVSRKHFALERGCRLRGLSPGNYSVRIRATSL',\n",
       " 'AGNGSWTEPTYFYVTDYLDVPSNIAKIIIGPLIFVFLFSVVIGSIYLFLRKRQPDGPLG',\n",
       " 'PLYASSNPEYLSASDVFPCSVYVPDEWEVSREKITLLRELGQGSFGMVYEGNARDIIKG',\n",
       " 'EAETRVAVKTVNESASLRERIEFLNEASVMKGFTCHHVVRLLGVVSKGQPTLVVMELMA',\n",
       " 'HGDLKSYLRSLRPEAENNPGRPPPTLQEMIQMAAEIADGMAYLNAKKFVHRDLAARNCM',\n",
       " 'VAHDFTVKIGDFGMTRDIYETDYYRKGGKGLLPVRWMAPESLKDGVFTTSSDMWSFGVV',\n",
       " 'LWEITSLAEQPYQGLSNEQVLKFVMDGGYLDQPDNCPERVTDLMRMCWQFNPKMRPTFL',\n",
       " 'EIVNLLKDDLHPSFPEVSFFHSEENKAPESEELEMEFEDMENVPLDRSSHCQREEAGGR',\n",
       " 'DGGSSLGFKRSYEEHIPYTHMNGGKKNGRILTLPRSNPS']"
      ]
     },
     "execution_count": 46,
     "metadata": {},
     "output_type": "execute_result"
    }
   ],
   "source": [
    "protein_list"
   ]
  },
  {
   "cell_type": "markdown",
   "metadata": {},
   "source": [
    "b) Aggiungere in testa alla lista il prefisso trovato prima e concatenare tutti gli elementi della lista per ottenere la sequenza della proteina in un'unica stringa."
   ]
  },
  {
   "cell_type": "code",
   "execution_count": null,
   "metadata": {},
   "outputs": [],
   "source": []
  },
  {
   "cell_type": "code",
   "execution_count": 50,
   "metadata": {},
   "outputs": [
    {
     "data": {
      "text/plain": [
       "'MGTGGRRGAAAAPLLVAVAALLLGAAGHLYPGEVCPGMDIRNNLTRLHELENCSVIEGHLQILLMFKTRPEDFRDLSFPKLIMITDYLLLFRVYGLESLKDLFPNLTVIRGSRLFFNYALVIFEMVHLKELGLYNLMNITRGSVRIEKNNELCYLATIDWSRILDSVEDNHIVLNKDDNEECGDICPGTAKGKTNCPATVINGQFVERCWTHSHCQKVCPTICKSHGCTAEGLCCHSECLGNCSQPDDPTKCVACRNFYLDGRCVETCPPPYYHFQDWRCVNFSFCQDLHHKCKNSRRQGCHQYVIHNNKCIPECPSGYTMNSSNLLCTPCLGPCPKVCHLLEGEKTIDSVTSAQELRGCTVINGSLIINIRGGNNLAAELEANLGLIEEISGYLKIRRSYALVSLSFFRKLRLIRGETLEIGNYSFYALDNQNLRQLWDWSKHNLTTTQGKLFFHYNPKLCLSEIHKMEEVSGTKGRQERNDIALKTNGDKASCENELLKFSYIRTSFDKILLRWEPYWPPDFRDLLGFMLFYKEAPYQNVTEFDGQDACGSNSWTVVDIDPPLRSNDPKSQNHPGWLMRGLKPWTQYAIFVKTLVTFSDERRTYGAKSDIIYVQTDATNPSVPLDPISVSNSSSQIILKWKPPSDPNGNITHYLVFWERQAEDSELFELDYCLKGLKLPSRTWSPPFESEDSQKHNQSEYEDSAGECCSCPKTDSQILKELEESSFRKTFEDYLHNVVFVPRKTSSGTGAEDPRPSRKRRSLGDVGNVTVAVPTVAAFPNTSSTSVPTSPEEHRPFEKVVNKESLVISGLRHFTGYRIELQACNQDTPEERCSVAAYVSARTMPEAKADDIVGPVTHEIFENNVVHLMWQEPKEPNGLIVLYEVSYRRYGDEELHLCVSRKHFALERGCRLRGLSPGNYSVRIRATSLAGNGSWTEPTYFYVTDYLDVPSNIAKIIIGPLIFVFLFSVVIGSIYLFLRKRQPDGPLGPLYASSNPEYLSASDVFPCSVYVPDEWEVSREKITLLRELGQGSFGMVYEGNARDIIKGEAETRVAVKTVNESASLRERIEFLNEASVMKGFTCHHVVRLLGVVSKGQPTLVVMELMAHGDLKSYLRSLRPEAENNPGRPPPTLQEMIQMAAEIADGMAYLNAKKFVHRDLAARNCMVAHDFTVKIGDFGMTRDIYETDYYRKGGKGLLPVRWMAPESLKDGVFTTSSDMWSFGVVLWEITSLAEQPYQGLSNEQVLKFVMDGGYLDQPDNCPERVTDLMRMCWQFNPKMRPTFLEIVNLLKDDLHPSFPEVSFFHSEENKAPESEELEMEFEDMENVPLDRSSHCQREEAGGRDGGSSLGFKRSYEEHIPYTHMNGGKKNGRILTLPRSNPS'"
      ]
     },
     "execution_count": 50,
     "metadata": {},
     "output_type": "execute_result"
    }
   ],
   "source": [
    "protein_sequence"
   ]
  },
  {
   "cell_type": "markdown",
   "metadata": {},
   "source": [
    "## Creare la sequenza della proteina in formato `FASTA`"
   ]
  },
  {
   "cell_type": "markdown",
   "metadata": {},
   "source": [
    "Produrre la sequenza della proteina in formato `FASTA` con il seguente *header*:\n",
    "\n",
    "    >M10051-HUM; len = 1382"
   ]
  },
  {
   "cell_type": "code",
   "execution_count": null,
   "metadata": {},
   "outputs": [],
   "source": []
  },
  {
   "cell_type": "code",
   "execution_count": 54,
   "metadata": {},
   "outputs": [
    {
     "name": "stdout",
     "output_type": "stream",
     "text": [
      ">M10051-HUM; len = 1382\n",
      "MGTGGRRGAAAAPLLVAVAALLLGAAGHLYPGEVCPGMDIRNNLTRLHELENCSVIEGHL\n",
      "QILLMFKTRPEDFRDLSFPKLIMITDYLLLFRVYGLESLKDLFPNLTVIRGSRLFFNYAL\n",
      "VIFEMVHLKELGLYNLMNITRGSVRIEKNNELCYLATIDWSRILDSVEDNHIVLNKDDNE\n",
      "ECGDICPGTAKGKTNCPATVINGQFVERCWTHSHCQKVCPTICKSHGCTAEGLCCHSECL\n",
      "GNCSQPDDPTKCVACRNFYLDGRCVETCPPPYYHFQDWRCVNFSFCQDLHHKCKNSRRQG\n",
      "CHQYVIHNNKCIPECPSGYTMNSSNLLCTPCLGPCPKVCHLLEGEKTIDSVTSAQELRGC\n",
      "TVINGSLIINIRGGNNLAAELEANLGLIEEISGYLKIRRSYALVSLSFFRKLRLIRGETL\n",
      "EIGNYSFYALDNQNLRQLWDWSKHNLTTTQGKLFFHYNPKLCLSEIHKMEEVSGTKGRQE\n",
      "RNDIALKTNGDKASCENELLKFSYIRTSFDKILLRWEPYWPPDFRDLLGFMLFYKEAPYQ\n",
      "NVTEFDGQDACGSNSWTVVDIDPPLRSNDPKSQNHPGWLMRGLKPWTQYAIFVKTLVTFS\n",
      "DERRTYGAKSDIIYVQTDATNPSVPLDPISVSNSSSQIILKWKPPSDPNGNITHYLVFWE\n",
      "RQAEDSELFELDYCLKGLKLPSRTWSPPFESEDSQKHNQSEYEDSAGECCSCPKTDSQIL\n",
      "KELEESSFRKTFEDYLHNVVFVPRKTSSGTGAEDPRPSRKRRSLGDVGNVTVAVPTVAAF\n",
      "PNTSSTSVPTSPEEHRPFEKVVNKESLVISGLRHFTGYRIELQACNQDTPEERCSVAAYV\n",
      "SARTMPEAKADDIVGPVTHEIFENNVVHLMWQEPKEPNGLIVLYEVSYRRYGDEELHLCV\n",
      "SRKHFALERGCRLRGLSPGNYSVRIRATSLAGNGSWTEPTYFYVTDYLDVPSNIAKIIIG\n",
      "PLIFVFLFSVVIGSIYLFLRKRQPDGPLGPLYASSNPEYLSASDVFPCSVYVPDEWEVSR\n",
      "EKITLLRELGQGSFGMVYEGNARDIIKGEAETRVAVKTVNESASLRERIEFLNEASVMKG\n",
      "FTCHHVVRLLGVVSKGQPTLVVMELMAHGDLKSYLRSLRPEAENNPGRPPPTLQEMIQMA\n",
      "AEIADGMAYLNAKKFVHRDLAARNCMVAHDFTVKIGDFGMTRDIYETDYYRKGGKGLLPV\n",
      "RWMAPESLKDGVFTTSSDMWSFGVVLWEITSLAEQPYQGLSNEQVLKFVMDGGYLDQPDN\n",
      "CPERVTDLMRMCWQFNPKMRPTFLEIVNLLKDDLHPSFPEVSFFHSEENKAPESEELEME\n",
      "FEDMENVPLDRSSHCQREEAGGRDGGSSLGFKRSYEEHIPYTHMNGGKKNGRILTLPRSN\n",
      "PS\n",
      "\n"
     ]
    }
   ],
   "source": [
    "print(protein_fasta_sequence)"
   ]
  },
  {
   "cell_type": "markdown",
   "metadata": {},
   "source": [
    "Salvare la sequenza in un file."
   ]
  },
  {
   "cell_type": "code",
   "execution_count": null,
   "metadata": {},
   "outputs": [],
   "source": []
  }
 ],
 "metadata": {
  "kernelspec": {
   "display_name": "Python 3 (ipykernel)",
   "language": "python",
   "name": "python3"
  },
  "language_info": {
   "codemirror_mode": {
    "name": "ipython",
    "version": 3
   },
   "file_extension": ".py",
   "mimetype": "text/x-python",
   "name": "python",
   "nbconvert_exporter": "python",
   "pygments_lexer": "ipython3",
   "version": "3.9.15"
  }
 },
 "nbformat": 4,
 "nbformat_minor": 2
}
