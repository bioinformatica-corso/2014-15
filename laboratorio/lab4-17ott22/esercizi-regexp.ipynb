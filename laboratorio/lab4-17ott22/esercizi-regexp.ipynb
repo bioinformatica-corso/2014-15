{
 "cells": [
  {
   "cell_type": "markdown",
   "metadata": {},
   "source": [
    "# Espressioni regolari"
   ]
  },
  {
   "cell_type": "markdown",
   "metadata": {},
   "source": [
    "**Espressione regolare (RE)**: stringa di simboli che rappresenta un insieme di stringhe.\n",
    "\n",
    "Un'espressione regolare è parte del modulo `re`."
   ]
  },
  {
   "cell_type": "code",
   "execution_count": null,
   "metadata": {},
   "outputs": [],
   "source": []
  },
  {
   "cell_type": "markdown",
   "metadata": {},
   "source": [
    "## Operazioni con le RE\n",
    "\n",
    "    re.match(re_expr, string)\n",
    "\n",
    "restituisce un oggetto di tipo `Match` se la stringa `string` contiene come prefisso (anche non proprio) una delle stringhe rappresentate dalla RE `re_expr`, altrimenti restituisce un oggetto di tipo `NoneType`.\n",
    "\n",
    "    re.search(re_expr, string)\n",
    "\n",
    "restituisce un oggetto di tipo `Match` se la stringa `string` contiene come sottostringa (anche non propria) una delle stringhe rappresentate dalla RE `re_expr`, altrimenti restituisce un oggetto di tipo `NoneType`.\n",
    "\n",
    "    re.findall(re_expr, string)\n",
    "\n",
    "restituisce la lista di tutte le occorrenze non sovrapposte delle stringhe rappresentate dalla RE `re_expr`, altrimenti restituisce un oggetto di tipo ?.\n",
    "\n",
    "    re.finditer(re_expr, string)\n",
    "\n",
    "restituisce la lista degli `re.Match` relativi a tutte le occorrenze non sovrapposte delle stringhe rappresentate dalla RE `re_expr`, altrimenti restituisce un oggetto di tipo ?.\n",
    "\n",
    "    re.sub(re_expr, r_string, string)\n",
    "    \n",
    "restituisce la stringa ottenuta sostituendo con `r_string` tutte le occorrenze non sovrapposte di `re_expr` in `string`."
   ]
  },
  {
   "cell_type": "markdown",
   "metadata": {},
   "source": [
    "**ESEMPIO con `re.match()`**"
   ]
  },
  {
   "cell_type": "code",
   "execution_count": null,
   "metadata": {},
   "outputs": [],
   "source": []
  },
  {
   "cell_type": "code",
   "execution_count": null,
   "metadata": {},
   "outputs": [],
   "source": []
  },
  {
   "cell_type": "markdown",
   "metadata": {},
   "source": [
    "La RE può anche non essere compilata e passata direttamente come stringa."
   ]
  },
  {
   "cell_type": "code",
   "execution_count": null,
   "metadata": {},
   "outputs": [],
   "source": []
  },
  {
   "cell_type": "markdown",
   "metadata": {},
   "source": [
    "Proviamo ora con la stringa `dog`."
   ]
  },
  {
   "cell_type": "code",
   "execution_count": null,
   "metadata": {},
   "outputs": [],
   "source": []
  },
  {
   "cell_type": "markdown",
   "metadata": {},
   "source": [
    "I metodi `start()` ed `end()` permettono di accedere alla posizione di inizio e fine del prefisso di *matching* catturato dall'operazione."
   ]
  },
  {
   "cell_type": "code",
   "execution_count": null,
   "metadata": {},
   "outputs": [],
   "source": []
  },
  {
   "cell_type": "code",
   "execution_count": null,
   "metadata": {},
   "outputs": [],
   "source": []
  },
  {
   "cell_type": "markdown",
   "metadata": {},
   "source": [
    "Il prefisso catturato è:"
   ]
  },
  {
   "cell_type": "code",
   "execution_count": null,
   "metadata": {},
   "outputs": [],
   "source": []
  },
  {
   "cell_type": "markdown",
   "metadata": {},
   "source": [
    "**ESEMPIO con `re.search()`**"
   ]
  },
  {
   "cell_type": "code",
   "execution_count": null,
   "metadata": {},
   "outputs": [],
   "source": []
  },
  {
   "cell_type": "code",
   "execution_count": null,
   "metadata": {},
   "outputs": [],
   "source": []
  },
  {
   "cell_type": "markdown",
   "metadata": {},
   "source": [
    "Sottostringa catturata"
   ]
  },
  {
   "cell_type": "code",
   "execution_count": null,
   "metadata": {},
   "outputs": [],
   "source": []
  },
  {
   "cell_type": "code",
   "execution_count": null,
   "metadata": {},
   "outputs": [],
   "source": []
  },
  {
   "cell_type": "markdown",
   "metadata": {},
   "source": [
    "Sottostringa catturata"
   ]
  },
  {
   "cell_type": "code",
   "execution_count": null,
   "metadata": {},
   "outputs": [],
   "source": []
  },
  {
   "cell_type": "markdown",
   "metadata": {},
   "source": [
    "**ESEMPIO con `re.findall()`**"
   ]
  },
  {
   "cell_type": "code",
   "execution_count": null,
   "metadata": {},
   "outputs": [],
   "source": [
    "stringa = 'dog and rat and rat'"
   ]
  },
  {
   "cell_type": "code",
   "execution_count": null,
   "metadata": {},
   "outputs": [],
   "source": []
  },
  {
   "cell_type": "markdown",
   "metadata": {},
   "source": [
    "**ESEMPIO con `re.finditer()`**"
   ]
  },
  {
   "cell_type": "code",
   "execution_count": null,
   "metadata": {},
   "outputs": [],
   "source": []
  },
  {
   "cell_type": "markdown",
   "metadata": {},
   "source": [
    "**ESEMPIO con `re.sub()`**"
   ]
  },
  {
   "cell_type": "code",
   "execution_count": null,
   "metadata": {},
   "outputs": [],
   "source": [
    "stringa = 'dog and cat and cat'\n"
   ]
  },
  {
   "cell_type": "code",
   "execution_count": null,
   "metadata": {},
   "outputs": [],
   "source": [
    "stringa = 'aaaaXXXXXXaaaaa'\n"
   ]
  },
  {
   "cell_type": "code",
   "execution_count": null,
   "metadata": {},
   "outputs": [],
   "source": [
    "stringa = 'aaaaXXXXXXXXaaaaa'\n"
   ]
  },
  {
   "cell_type": "markdown",
   "metadata": {},
   "source": [
    "---\n",
    "---\n",
    "\n",
    "### ESERCIZIO1\n",
    "\n",
    "Si consideri la stringa:"
   ]
  },
  {
   "cell_type": "code",
   "execution_count": null,
   "metadata": {},
   "outputs": [],
   "source": [
    "stringa = 'XXbatXXX\\nYYYYYbat\\nbatZZZZZ'\n",
    "print(stringa)"
   ]
  },
  {
   "cell_type": "markdown",
   "metadata": {},
   "source": [
    "Catturare l'occorrenza della sottostringa `bat` vincolata ad essere all'inizio di una riga."
   ]
  },
  {
   "cell_type": "code",
   "execution_count": null,
   "metadata": {},
   "outputs": [],
   "source": []
  },
  {
   "cell_type": "code",
   "execution_count": null,
   "metadata": {},
   "outputs": [],
   "source": []
  },
  {
   "cell_type": "code",
   "execution_count": null,
   "metadata": {},
   "outputs": [],
   "source": []
  },
  {
   "cell_type": "markdown",
   "metadata": {},
   "source": [
    "Catturare l'occorrenza della sottostringa `bat` vincolata ad essere alla fine di una riga."
   ]
  },
  {
   "cell_type": "code",
   "execution_count": null,
   "metadata": {},
   "outputs": [],
   "source": []
  },
  {
   "cell_type": "markdown",
   "metadata": {},
   "source": [
    "Catturare l'occorrenza della sottostringa `bat` vincolata ad essere all'inizio della stringa (cioé all'inizio della **prima** riga)."
   ]
  },
  {
   "cell_type": "code",
   "execution_count": null,
   "metadata": {},
   "outputs": [],
   "source": []
  },
  {
   "cell_type": "code",
   "execution_count": null,
   "metadata": {},
   "outputs": [],
   "source": [
    "stringa = 'batXXXXX\\nYYYYYbat\\nbatZZZZZ'\n",
    "print(stringa)"
   ]
  },
  {
   "cell_type": "code",
   "execution_count": null,
   "metadata": {},
   "outputs": [],
   "source": []
  },
  {
   "cell_type": "markdown",
   "metadata": {},
   "source": [
    "Catturare l'occorrenza della sottostringa `bat` vincolata ad essere alla fine della stringa (cioé alla fine dell'**ultima** riga)."
   ]
  },
  {
   "cell_type": "code",
   "execution_count": null,
   "metadata": {},
   "outputs": [],
   "source": []
  },
  {
   "cell_type": "code",
   "execution_count": null,
   "metadata": {},
   "outputs": [],
   "source": [
    "stringa = 'batXXXXX\\nYYYYYbat\\nZZZZZbat'\n",
    "print(stringa)"
   ]
  },
  {
   "cell_type": "code",
   "execution_count": null,
   "metadata": {},
   "outputs": [],
   "source": []
  },
  {
   "cell_type": "code",
   "execution_count": null,
   "metadata": {},
   "outputs": [],
   "source": [
    "stringa = 'batXXXXX\\nYYYYYbat\\nZZZZZbat\\n'\n",
    "print(stringa)"
   ]
  },
  {
   "cell_type": "code",
   "execution_count": null,
   "metadata": {},
   "outputs": [],
   "source": []
  },
  {
   "cell_type": "markdown",
   "metadata": {},
   "source": [
    "---\n",
    "\n",
    "### ESERCIZIO2\n",
    "\n",
    "Si consideri la stringa:"
   ]
  },
  {
   "cell_type": "code",
   "execution_count": null,
   "metadata": {},
   "outputs": [],
   "source": [
    "stringa = 'This cat is a cat'\n",
    "print(stringa)"
   ]
  },
  {
   "cell_type": "markdown",
   "metadata": {},
   "source": [
    "Catturare l'occorrenza della parola `is` (verbo inglese) nella frase."
   ]
  },
  {
   "cell_type": "code",
   "execution_count": null,
   "metadata": {},
   "outputs": [],
   "source": []
  },
  {
   "cell_type": "markdown",
   "metadata": {},
   "source": [
    "**NOTA BENE**:\n",
    "- **parola in Python**: sequenza di lettere maiuscole o minuscole, cifre da 0 a 9 e simbolo `_`\n",
    "- **confine di parola in Python**: elemento di dimensione nulla tra un simbolo di parola e un \"non simbolo\" di parola"
   ]
  },
  {
   "cell_type": "markdown",
   "metadata": {},
   "source": [
    "Catturare l'occorrenza della parola `is` (verbo inglese) nella frase significa catturare la sottostringa `is` purché alla sua sinistra ci sia un confine di parola."
   ]
  },
  {
   "cell_type": "code",
   "execution_count": null,
   "metadata": {},
   "outputs": [],
   "source": []
  },
  {
   "cell_type": "markdown",
   "metadata": {},
   "source": [
    "**NB**: per poter togliere `r` prima della RE si deve scrivere:"
   ]
  },
  {
   "cell_type": "code",
   "execution_count": null,
   "metadata": {},
   "outputs": [],
   "source": []
  },
  {
   "cell_type": "markdown",
   "metadata": {},
   "source": [
    "Catturare ora la sottostringa `is` purché alla sua sinistra **non** ci sia un confine di parola."
   ]
  },
  {
   "cell_type": "code",
   "execution_count": null,
   "metadata": {},
   "outputs": [],
   "source": []
  },
  {
   "cell_type": "markdown",
   "metadata": {},
   "source": [
    "Catturare infine la sottostringa `is` purché alla sua destra ci sia un confine di parola."
   ]
  },
  {
   "cell_type": "code",
   "execution_count": null,
   "metadata": {},
   "outputs": [],
   "source": []
  },
  {
   "cell_type": "markdown",
   "metadata": {},
   "source": [
    "---\n",
    "\n",
    "**RIASSUMENDO...**\n",
    "- `^`: metasimbolo che rappresenta l'inizio di riga\n",
    "- `$`: metasimbolo che rappresenta la fine di riga\n",
    "- `\\A`: metasimbolo che rappresenta l'inizio di stringa\n",
    "- `\\Z`: metasimbolo che rappresenta la fine di stringa\n",
    "- `\\b`: confine di parola\n",
    "- `\\B`: negazione del confine di parola\n",
    "\n",
    "prendono il nome di **ancore**."
   ]
  },
  {
   "cell_type": "markdown",
   "metadata": {},
   "source": [
    "---\n",
    "\n",
    "### ESERCIZIO3\n",
    "\n",
    "Si consideri la stringa:"
   ]
  },
  {
   "cell_type": "code",
   "execution_count": null,
   "metadata": {},
   "outputs": [],
   "source": [
    "stringa = 'ZZZcaaaaaZZZZZ'\n",
    "print(stringa)"
   ]
  },
  {
   "cell_type": "markdown",
   "metadata": {},
   "source": [
    "Catturare la sottostringa `caaaa`."
   ]
  },
  {
   "cell_type": "code",
   "execution_count": null,
   "metadata": {},
   "outputs": [],
   "source": []
  },
  {
   "cell_type": "markdown",
   "metadata": {},
   "source": [
    "Si aggiungano dei simboli `a` alla stringa:"
   ]
  },
  {
   "cell_type": "code",
   "execution_count": null,
   "metadata": {},
   "outputs": [],
   "source": [
    "stringa = 'ZZZcaaaaaaaaaZZZZZ'\n",
    "print(stringa)"
   ]
  },
  {
   "cell_type": "code",
   "execution_count": null,
   "metadata": {},
   "outputs": [],
   "source": []
  },
  {
   "cell_type": "markdown",
   "metadata": {},
   "source": [
    "Si tolgano dei simboli `a`"
   ]
  },
  {
   "cell_type": "code",
   "execution_count": null,
   "metadata": {},
   "outputs": [],
   "source": [
    "stringa = 'ZZZcaaaZZZZZ'\n",
    "print(stringa)"
   ]
  },
  {
   "cell_type": "code",
   "execution_count": null,
   "metadata": {},
   "outputs": [],
   "source": []
  },
  {
   "cell_type": "markdown",
   "metadata": {},
   "source": [
    "Per catturare una sottostringa composta da `c` seguita da un qualsivoglia numero di `a` basta usare il quantificatore `+` che quantifica in 1 o più volte il simbolo precedente."
   ]
  },
  {
   "cell_type": "code",
   "execution_count": null,
   "metadata": {},
   "outputs": [],
   "source": []
  },
  {
   "cell_type": "code",
   "execution_count": null,
   "metadata": {},
   "outputs": [],
   "source": [
    "stringa = 'ZZZcaaaaaaaaaaaaaaaaaaaaaaaaaZZZZZ'\n",
    "print(stringa)"
   ]
  },
  {
   "cell_type": "code",
   "execution_count": null,
   "metadata": {},
   "outputs": [],
   "source": []
  },
  {
   "cell_type": "code",
   "execution_count": null,
   "metadata": {},
   "outputs": [],
   "source": [
    "stringa = 'ZZZcaaaaaaaZZZcaaaaaaaaaaaaaaaaaaaaaaaaaZZZZZ'\n",
    "print(stringa)"
   ]
  },
  {
   "cell_type": "code",
   "execution_count": null,
   "metadata": {},
   "outputs": [],
   "source": []
  },
  {
   "cell_type": "markdown",
   "metadata": {},
   "source": [
    "**NOTA BENE**: il comportamento dell'operazione di matching è greedy: trova la prima occorrenza a sinistra e la estende il più possibile a destra.\n",
    "\n",
    "Per limitare l'estensione il più possibile a sinistra, basta aggiungere un simbolo `?` dopo il quantificatore."
   ]
  },
  {
   "cell_type": "code",
   "execution_count": null,
   "metadata": {},
   "outputs": [],
   "source": []
  },
  {
   "cell_type": "markdown",
   "metadata": {},
   "source": [
    "---\n",
    "\n",
    "Usiamo ora il quantificatore `*` che quantifica in 0 o più volte il simbolo precedente."
   ]
  },
  {
   "cell_type": "code",
   "execution_count": null,
   "metadata": {},
   "outputs": [],
   "source": [
    "print(stringa)"
   ]
  },
  {
   "cell_type": "code",
   "execution_count": null,
   "metadata": {},
   "outputs": [],
   "source": []
  },
  {
   "cell_type": "markdown",
   "metadata": {},
   "source": [
    "Se viene aggiunto `?` dopo `*`:"
   ]
  },
  {
   "cell_type": "code",
   "execution_count": null,
   "metadata": {},
   "outputs": [],
   "source": []
  },
  {
   "cell_type": "markdown",
   "metadata": {},
   "source": [
    "Attenzione a comportamenti non voluti..."
   ]
  },
  {
   "cell_type": "code",
   "execution_count": null,
   "metadata": {},
   "outputs": [],
   "source": [
    "stringa = 'ZZZcZZZcaaaaaaaaaaaaaaaaaaaaaaaaaZZZZZ'\n",
    "print(stringa)"
   ]
  },
  {
   "cell_type": "code",
   "execution_count": null,
   "metadata": {},
   "outputs": [],
   "source": []
  },
  {
   "cell_type": "markdown",
   "metadata": {},
   "source": [
    "Il simbolo `?`, subito dopo un simbolo, è un quantificatore che rappresenta 0 oppure 1 occorrenza del simbolo."
   ]
  },
  {
   "cell_type": "code",
   "execution_count": null,
   "metadata": {},
   "outputs": [],
   "source": []
  },
  {
   "cell_type": "code",
   "execution_count": null,
   "metadata": {},
   "outputs": [],
   "source": [
    "stringa = 'ZZZcaaaZZZcaaaaaaaaaaaaaaaaaaaaaaaaaZZZZZ'\n",
    "print(stringa)"
   ]
  },
  {
   "cell_type": "code",
   "execution_count": null,
   "metadata": {},
   "outputs": [],
   "source": []
  },
  {
   "cell_type": "markdown",
   "metadata": {},
   "source": [
    "---\n",
    "\n",
    "**RIASSUMENDO...:**\n",
    "- `+`: quantificatore per 1 o più occorrenze del simbolo precedente\n",
    "- `*`: quantificatore per 0 o più occorrenze del simbolo precedente\n",
    "- `?`: quantificatore per 0 o 1 occorrenza del simbolo precedente\n",
    "\n",
    "Inoltre:\n",
    "\n",
    "- `{m,n}`: da `m` a `n` occorrenze\n",
    "        `{0,1}` equivale a `?`\n",
    "- `{m,}`: almeno `m` occorrenze \n",
    "        `{1,}` equivale a `+`\n",
    "        `{0,}` equivale a `*`\n",
    "- `{,n}`: al più `n` occorrenze \n",
    "- `{m}`: esattamente `m` occorrenze "
   ]
  },
  {
   "cell_type": "markdown",
   "metadata": {},
   "source": [
    "---\n",
    "\n",
    "### ESERCIZIO4\n",
    "\n",
    "Si consideri la stringa:"
   ]
  },
  {
   "cell_type": "code",
   "execution_count": null,
   "metadata": {},
   "outputs": [],
   "source": [
    "stringa = 'ZZZcaababbabbaabbbZZZZZ'\n",
    "print(stringa)"
   ]
  },
  {
   "cell_type": "markdown",
   "metadata": {},
   "source": [
    "Catturare la sottostringa `cabbabbabbaabbb` che è composta da una `c` seguita da un qualsivoglia numero di caratteri purché siano `a` oppure `b`."
   ]
  },
  {
   "cell_type": "code",
   "execution_count": null,
   "metadata": {},
   "outputs": [],
   "source": []
  },
  {
   "cell_type": "markdown",
   "metadata": {},
   "source": [
    "Si deve usare la classe dei caratteri `a` e `b` --> `[ab]`."
   ]
  },
  {
   "cell_type": "code",
   "execution_count": null,
   "metadata": {},
   "outputs": [],
   "source": []
  },
  {
   "cell_type": "markdown",
   "metadata": {},
   "source": [
    "---\n",
    "\n",
    "**RIASSUMENDO...**\n",
    "\n",
    "Una classe di caratteri viene rappresentata da:\n",
    "\n",
    "    [characters]\n",
    "    \n",
    "cioè elencando i caratteri della classe in parentesi quadre.\n",
    "\n",
    "**Scorciatoie per alcune classi frequentemente utilizzate**:\n",
    "\n",
    "- `[0-9]`: qualsiasi cifra da 0 a 9 --> `\\d`\n",
    "- `[^0-9]`: tutto ciò che non è cifra da 0 a 9 --> `\\D`\n",
    "- `[a-zA-Z0-9_]`: qualsiasi simbolo di parola --> `\\w`\n",
    "- `[^a-zA-Z0-9_]`: tutto ciò che non è simbolo di parola --> `\\W`\n",
    "- `[␣\\t\\r\\n\\f]`: qualsiasi simbolo di spazio --> `\\s`\n",
    "- `[^␣\\t\\r\\n\\f]`: tutto ciò che non è simbolo di spazio --> `\\S`\n",
    "- `[^\\n]`: qualsiasi simbolo tranne `\\n` --> `.`"
   ]
  },
  {
   "cell_type": "markdown",
   "metadata": {},
   "source": [
    "---\n",
    "\n",
    "### ESERCIZIO5\n",
    "\n",
    "Si consideri la stringa:"
   ]
  },
  {
   "cell_type": "code",
   "execution_count": null,
   "metadata": {},
   "outputs": [],
   "source": [
    "stringa = 'ZZZcaababbabbaabbbZZZZZcabababababZZZZZ'\n",
    "print(stringa)"
   ]
  },
  {
   "cell_type": "markdown",
   "metadata": {},
   "source": [
    "Catturare la sottostringa `cababababab` che è composta da una `c` seguita da un qualsivoglia numero di blocchi `ab`."
   ]
  },
  {
   "cell_type": "code",
   "execution_count": null,
   "metadata": {},
   "outputs": [],
   "source": []
  },
  {
   "cell_type": "code",
   "execution_count": null,
   "metadata": {},
   "outputs": [],
   "source": []
  },
  {
   "cell_type": "markdown",
   "metadata": {},
   "source": [
    "---\n",
    "\n",
    "**RIASSUMENDO...**\n",
    "\n",
    "Una raggruppamento è una porzione di RE racchiusa tra parentesi tonde."
   ]
  },
  {
   "cell_type": "markdown",
   "metadata": {},
   "source": [
    "---\n",
    "\n",
    "### ESERCIZIO6\n",
    "\n",
    "Si considerino le stringhe:"
   ]
  },
  {
   "cell_type": "code",
   "execution_count": null,
   "metadata": {},
   "outputs": [],
   "source": [
    "stringa1 = '***Hello         world***'\n",
    "stringa2 = '***Ciao   mondo***'\n",
    "\n",
    "print(stringa1)\n",
    "print(stringa2)"
   ]
  },
  {
   "cell_type": "markdown",
   "metadata": {},
   "source": [
    "Ottenere le stringhe `Hello world` dalla `stringa1` e `Ciao mondo` da `stringa2` (con un solo spazio nel mezzo), utilizzando la stessa RE."
   ]
  },
  {
   "cell_type": "code",
   "execution_count": null,
   "metadata": {},
   "outputs": [],
   "source": []
  },
  {
   "cell_type": "code",
   "execution_count": null,
   "metadata": {},
   "outputs": [],
   "source": []
  },
  {
   "cell_type": "code",
   "execution_count": null,
   "metadata": {},
   "outputs": [],
   "source": []
  },
  {
   "cell_type": "code",
   "execution_count": null,
   "metadata": {},
   "outputs": [],
   "source": []
  },
  {
   "cell_type": "markdown",
   "metadata": {},
   "source": [
    "---\n",
    "\n",
    "### ESERCIZIO7\n",
    "\n",
    "Si consideri la stringa:"
   ]
  },
  {
   "cell_type": "code",
   "execution_count": null,
   "metadata": {},
   "outputs": [],
   "source": [
    "stringa = '***Hello world***\\n***Ciao mondo***'\n",
    "print(stringa)"
   ]
  },
  {
   "cell_type": "markdown",
   "metadata": {},
   "source": [
    "Catturare la prima riga `***Hello world***` della stringa."
   ]
  },
  {
   "cell_type": "code",
   "execution_count": null,
   "metadata": {},
   "outputs": [],
   "source": []
  },
  {
   "cell_type": "markdown",
   "metadata": {},
   "source": [
    "---\n",
    "\n",
    "### ESERCIZIO8\n",
    "\n",
    "Si considerino le stringhe:"
   ]
  },
  {
   "cell_type": "code",
   "execution_count": null,
   "metadata": {},
   "outputs": [],
   "source": [
    "stringa1 = '***Gatto***'\n",
    "stringa2 = '***Topo***'\n",
    "stringa3 = '***Ratto***'\n",
    "\n",
    "print(stringa1)\n",
    "print(stringa2)\n",
    "print(stringa3)"
   ]
  },
  {
   "cell_type": "markdown",
   "metadata": {},
   "source": [
    "Determinare la RE che permetta di catturare le sottostringhe `Gatto` o `Topo` ma non `Ratto`."
   ]
  },
  {
   "cell_type": "code",
   "execution_count": null,
   "metadata": {},
   "outputs": [],
   "source": []
  },
  {
   "cell_type": "code",
   "execution_count": null,
   "metadata": {},
   "outputs": [],
   "source": []
  },
  {
   "cell_type": "code",
   "execution_count": null,
   "metadata": {},
   "outputs": [],
   "source": []
  },
  {
   "cell_type": "code",
   "execution_count": null,
   "metadata": {},
   "outputs": [],
   "source": []
  },
  {
   "cell_type": "code",
   "execution_count": null,
   "metadata": {},
   "outputs": [],
   "source": []
  },
  {
   "cell_type": "markdown",
   "metadata": {},
   "source": [
    "---\n",
    "\n",
    "### ESERCIZIO9\n",
    "\n",
    "Si considerino le stringhe:"
   ]
  },
  {
   "cell_type": "code",
   "execution_count": null,
   "metadata": {},
   "outputs": [],
   "source": [
    "stringa1 = '***Gatto Cane***'\n",
    "stringa2 = '***Topo Ratto***'\n",
    "\n",
    "print(stringa1)\n",
    "print(stringa2)"
   ]
  },
  {
   "cell_type": "markdown",
   "metadata": {},
   "source": [
    "Estrarre le quattro sottostringhe `Gatto`, `Cane`, `Topo` e `Ratto`, utilizzando la stessa RE."
   ]
  },
  {
   "cell_type": "code",
   "execution_count": null,
   "metadata": {},
   "outputs": [],
   "source": []
  },
  {
   "cell_type": "code",
   "execution_count": null,
   "metadata": {},
   "outputs": [],
   "source": []
  },
  {
   "cell_type": "markdown",
   "metadata": {},
   "source": [
    "La sottostringa:"
   ]
  },
  {
   "cell_type": "code",
   "execution_count": null,
   "metadata": {},
   "outputs": [],
   "source": []
  },
  {
   "cell_type": "markdown",
   "metadata": {},
   "source": [
    "inizia in posizione:"
   ]
  },
  {
   "cell_type": "code",
   "execution_count": null,
   "metadata": {},
   "outputs": [],
   "source": []
  },
  {
   "cell_type": "markdown",
   "metadata": {},
   "source": [
    "La sottostringa:"
   ]
  },
  {
   "cell_type": "code",
   "execution_count": null,
   "metadata": {},
   "outputs": [],
   "source": []
  },
  {
   "cell_type": "markdown",
   "metadata": {},
   "source": [
    "inizia in posizione:"
   ]
  },
  {
   "cell_type": "code",
   "execution_count": null,
   "metadata": {},
   "outputs": [],
   "source": []
  },
  {
   "cell_type": "markdown",
   "metadata": {},
   "source": [
    "La sottostringa:"
   ]
  },
  {
   "cell_type": "code",
   "execution_count": null,
   "metadata": {},
   "outputs": [],
   "source": []
  },
  {
   "cell_type": "markdown",
   "metadata": {},
   "source": [
    "inizia in posizione:"
   ]
  },
  {
   "cell_type": "code",
   "execution_count": null,
   "metadata": {},
   "outputs": [],
   "source": []
  },
  {
   "cell_type": "markdown",
   "metadata": {},
   "source": [
    "La sottostringa:"
   ]
  },
  {
   "cell_type": "code",
   "execution_count": null,
   "metadata": {},
   "outputs": [],
   "source": []
  },
  {
   "cell_type": "markdown",
   "metadata": {},
   "source": [
    "inizia in posizione:"
   ]
  },
  {
   "cell_type": "code",
   "execution_count": null,
   "metadata": {},
   "outputs": [],
   "source": []
  },
  {
   "cell_type": "code",
   "execution_count": null,
   "metadata": {},
   "outputs": [],
   "source": []
  },
  {
   "cell_type": "code",
   "execution_count": null,
   "metadata": {},
   "outputs": [],
   "source": []
  },
  {
   "cell_type": "markdown",
   "metadata": {},
   "source": [
    "L'occorrenza intera:"
   ]
  },
  {
   "cell_type": "code",
   "execution_count": null,
   "metadata": {},
   "outputs": [],
   "source": []
  },
  {
   "cell_type": "markdown",
   "metadata": {},
   "source": [
    "inizia in posizione:"
   ]
  },
  {
   "cell_type": "code",
   "execution_count": null,
   "metadata": {},
   "outputs": [],
   "source": []
  },
  {
   "cell_type": "markdown",
   "metadata": {},
   "source": [
    "L'occorrenza intera:"
   ]
  },
  {
   "cell_type": "code",
   "execution_count": null,
   "metadata": {},
   "outputs": [],
   "source": []
  },
  {
   "cell_type": "markdown",
   "metadata": {},
   "source": [
    "inizia in posizione:"
   ]
  },
  {
   "cell_type": "code",
   "execution_count": null,
   "metadata": {},
   "outputs": [],
   "source": []
  },
  {
   "cell_type": "markdown",
   "metadata": {},
   "source": [
    "Per catturare tutti i gruppi:"
   ]
  },
  {
   "cell_type": "code",
   "execution_count": null,
   "metadata": {},
   "outputs": [],
   "source": []
  },
  {
   "cell_type": "code",
   "execution_count": null,
   "metadata": {},
   "outputs": [],
   "source": []
  },
  {
   "cell_type": "markdown",
   "metadata": {},
   "source": [
    "---\n",
    "\n",
    "### RIASSUMENDO...\n",
    "\n",
    "Il meccanismo che cattura di parti dell'occorrenza relative a raggruppamenti presenti nella RE da usare all'esterno dell'operazione di *matching*/*searching* prende il nome di **backreference esterno**.\n",
    "\n",
    "I **raggruppamenti sono indicizzati** da sinistra a destra nella RE a partire da 1.\n",
    "\n",
    "La parte catturata relativa a un raggruppamento viene restituita dal metodo `group()`. dell'oggetto `Match`:\n",
    "\n",
    "    match_obj.group(index)\n",
    "\n",
    "prende come argomento l'indice del raggruppamento da catturare.\n",
    "Se l'argomento non viene specificato, allora si assume l’indice di default 0 che corrisponde all'intera sottostringa di matching relativa alla RE.\n",
    "\n",
    "L'inizio e la fine della parte catturata per un raggruppamento viene restituita dai metodi `start()` ed `end()`.\n",
    "\n",
    "    match_obj.start(index)\n",
    "    match_obj.end(index)\n",
    "\n",
    "prendono come argomenti l'indice del raggruppamento da catturare.\n",
    "Se l'argomento non viene specificato, allora si assume l’indice di default 0 che corrisponde all'intera sottostringa di matching relativa alla RE."
   ]
  },
  {
   "cell_type": "markdown",
   "metadata": {},
   "source": [
    "---\n",
    "\n",
    "### ESERCIZIO10\n",
    "\n",
    "Si considerino le stringhe:"
   ]
  },
  {
   "cell_type": "code",
   "execution_count": null,
   "metadata": {},
   "outputs": [],
   "source": [
    "stringa1 = '***Cane Gatto***'\n",
    "stringa2 = '***Gatto Gatto***'\n",
    "stringa3 = '***Cane Cane***'\n",
    "\n",
    "print(stringa1)\n",
    "print(stringa2)\n",
    "print(stringa3)"
   ]
  },
  {
   "cell_type": "markdown",
   "metadata": {},
   "source": [
    "Determinare la RE che permetta di catturare le sottostringhe composte da una stessa parola ripetuta due volte con in mezzo uno spazio."
   ]
  },
  {
   "cell_type": "code",
   "execution_count": null,
   "metadata": {},
   "outputs": [],
   "source": []
  },
  {
   "cell_type": "code",
   "execution_count": null,
   "metadata": {},
   "outputs": [],
   "source": []
  },
  {
   "cell_type": "code",
   "execution_count": null,
   "metadata": {},
   "outputs": [],
   "source": []
  },
  {
   "cell_type": "code",
   "execution_count": null,
   "metadata": {},
   "outputs": [],
   "source": []
  },
  {
   "cell_type": "code",
   "execution_count": null,
   "metadata": {},
   "outputs": [],
   "source": []
  },
  {
   "cell_type": "markdown",
   "metadata": {},
   "source": [
    "---\n",
    "\n",
    "### RIASSUMENDO...\n",
    "\n",
    "Il meccanismo di riferimento nella RE a raggruppamenti presenti nella RE stessa da usare internamente all'operazione di *matching*/*searching* prende il nome di **backreference interno**.\n",
    "I riferimenti interni si rappresentano tramite i metasimboli `\\1`, `\\2`, `\\3` etc., dove `\\i`si riferisce all'i-esimo raggruppamento a partire da sinistra."
   ]
  },
  {
   "cell_type": "markdown",
   "metadata": {},
   "source": [
    "**Esempio**: la RE `(\\w+)\\1` è equivalente a `(\\w+)(\\w+)` con il vincolo che le due parti `(\\w+)` e `(\\w+)` corrispondano alla stessa sottostringa."
   ]
  },
  {
   "cell_type": "code",
   "execution_count": null,
   "metadata": {},
   "outputs": [],
   "source": []
  },
  {
   "cell_type": "markdown",
   "metadata": {},
   "source": [
    "L'intera occorrenza è:"
   ]
  },
  {
   "cell_type": "code",
   "execution_count": null,
   "metadata": {},
   "outputs": [],
   "source": []
  },
  {
   "cell_type": "markdown",
   "metadata": {},
   "source": [
    "La parte catturata dal raggruppamento di sinistra è:"
   ]
  },
  {
   "cell_type": "code",
   "execution_count": null,
   "metadata": {},
   "outputs": [],
   "source": []
  },
  {
   "cell_type": "markdown",
   "metadata": {},
   "source": [
    "---\n",
    "\n",
    "### ESERCIZIO11\n",
    "\n",
    "Si consideri la stringa:"
   ]
  },
  {
   "cell_type": "code",
   "execution_count": null,
   "metadata": {},
   "outputs": [],
   "source": [
    "stringa = 'aaabbbcccdddeeefff'\n",
    "\n",
    "print(stringa)"
   ]
  },
  {
   "cell_type": "markdown",
   "metadata": {},
   "source": [
    "Si separi la stringa in fattori di lunghezza 3."
   ]
  },
  {
   "cell_type": "code",
   "execution_count": null,
   "metadata": {},
   "outputs": [],
   "source": []
  },
  {
   "cell_type": "markdown",
   "metadata": {},
   "source": [
    "Versione con `finditer()`:"
   ]
  },
  {
   "cell_type": "code",
   "execution_count": null,
   "metadata": {},
   "outputs": [],
   "source": []
  },
  {
   "cell_type": "markdown",
   "metadata": {},
   "source": [
    "---\n",
    "\n",
    "### ESERCIZIO12\n",
    "\n",
    "Si consideri la stringa:"
   ]
  },
  {
   "cell_type": "code",
   "execution_count": null,
   "metadata": {},
   "outputs": [],
   "source": [
    "stringa = 'Cat cat Rat rat Bat bat'\n",
    "print(stringa)"
   ]
  },
  {
   "cell_type": "markdown",
   "metadata": {},
   "source": [
    "Si ottenga la lista `['Cat', 'Rat', 'Bat']`."
   ]
  },
  {
   "cell_type": "code",
   "execution_count": null,
   "metadata": {},
   "outputs": [],
   "source": []
  },
  {
   "cell_type": "code",
   "execution_count": null,
   "metadata": {},
   "outputs": [],
   "source": []
  },
  {
   "cell_type": "code",
   "execution_count": null,
   "metadata": {},
   "outputs": [],
   "source": []
  },
  {
   "cell_type": "markdown",
   "metadata": {},
   "source": [
    "---\n",
    "\n",
    "### ESERCIZIO13\n",
    "\n",
    "Si consideri la stringa:"
   ]
  },
  {
   "cell_type": "code",
   "execution_count": null,
   "metadata": {},
   "outputs": [],
   "source": [
    "stringa = 'cat dog mouse rat'\n",
    "print(stringa)"
   ]
  },
  {
   "cell_type": "markdown",
   "metadata": {},
   "source": [
    "Vediamo come la lista restituita da `findall()` si modifica inserendo raggruppamenti."
   ]
  },
  {
   "cell_type": "code",
   "execution_count": null,
   "metadata": {},
   "outputs": [],
   "source": []
  },
  {
   "cell_type": "code",
   "execution_count": null,
   "metadata": {},
   "outputs": [],
   "source": []
  },
  {
   "cell_type": "code",
   "execution_count": null,
   "metadata": {},
   "outputs": [],
   "source": []
  },
  {
   "cell_type": "code",
   "execution_count": null,
   "metadata": {},
   "outputs": [],
   "source": []
  },
  {
   "cell_type": "markdown",
   "metadata": {},
   "source": [
    "---\n",
    "\n",
    "Cosa succede se usiamo invece `re.finditer()`..."
   ]
  },
  {
   "cell_type": "code",
   "execution_count": null,
   "metadata": {},
   "outputs": [],
   "source": []
  },
  {
   "cell_type": "code",
   "execution_count": null,
   "metadata": {},
   "outputs": [],
   "source": []
  },
  {
   "cell_type": "code",
   "execution_count": null,
   "metadata": {},
   "outputs": [],
   "source": []
  },
  {
   "cell_type": "markdown",
   "metadata": {},
   "source": [
    "---\n",
    "\n",
    "### ESERCIZIO14\n",
    "\n",
    "Si consideri la stringa:"
   ]
  },
  {
   "cell_type": "code",
   "execution_count": null,
   "metadata": {},
   "outputs": [],
   "source": [
    "stringa = 'aaaaaaaabbbbcccccccccccccccccccccccc'\n",
    "print(stringa)"
   ]
  },
  {
   "cell_type": "markdown",
   "metadata": {},
   "source": [
    "Si ottenga la lista dei *runs* dei simboli `a`, `b` e `c`."
   ]
  },
  {
   "cell_type": "code",
   "execution_count": null,
   "metadata": {},
   "outputs": [],
   "source": []
  },
  {
   "cell_type": "code",
   "execution_count": null,
   "metadata": {},
   "outputs": [],
   "source": []
  },
  {
   "cell_type": "markdown",
   "metadata": {},
   "source": [
    "**Per trovare i *runs* di qualsiasi simbolo**:"
   ]
  },
  {
   "cell_type": "code",
   "execution_count": null,
   "metadata": {},
   "outputs": [],
   "source": [
    "stringa = 'aaaaaaaabbpppbbcccccccccccddddeeeeccccccccccccc'\n",
    "print(stringa)"
   ]
  },
  {
   "cell_type": "code",
   "execution_count": null,
   "metadata": {},
   "outputs": [],
   "source": []
  }
 ],
 "metadata": {
  "kernelspec": {
   "display_name": "Python 3 (ipykernel)",
   "language": "python",
   "name": "python3"
  },
  "language_info": {
   "codemirror_mode": {
    "name": "ipython",
    "version": 3
   },
   "file_extension": ".py",
   "mimetype": "text/x-python",
   "name": "python",
   "nbconvert_exporter": "python",
   "pygments_lexer": "ipython3",
   "version": "3.9.7"
  }
 },
 "nbformat": 4,
 "nbformat_minor": 2
}
