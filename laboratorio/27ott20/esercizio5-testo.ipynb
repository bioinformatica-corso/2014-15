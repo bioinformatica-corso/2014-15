{
 "cells": [
  {
   "cell_type": "markdown",
   "metadata": {},
   "source": [
    "# Esercizio 5\n",
    "\n",
    "Considerare un file `GTF` (Gene Transfer Format) che annota un set di geni e il file `FASTA` della genomica di riferimento, e produrre:\n",
    "\n",
    "- le sequenze in formato `FASTA` dei trascritti full-length annotati o delle coding sequences (CDS) annotate\n",
    "- il set dei geni (identificati tramite il loro HUGO name) relativi alle sequenze prodotte\n",
    "\n",
    "L'*header* `FASTA` di ogni sequenza prodotta (trascritto o CDS) deve contenere:\n",
    "- lo HUGO name del gene di riferimento\n",
    "- l’identificatore del trascritto di riferimento\n",
    "- la lunghezza della sequenza prodotta\n",
    "- il tipo di sequenza (trascritto o CDS)\n",
    "- lo strand del gene\n",
    "    \n",
    "Esempio di *header* per i trascritti:\n",
    "         \n",
    "    >ARHGAP4; U52112.4-003; len=3235 type=transcript; strand=-\n",
    "\n",
    "Esempio di *header* per le CDS:\n",
    "\n",
    "    >AVPR2; U52112.2-003; len=642; type=cds; strand=+\n",
    "   \n",
    "***\n",
    "\n",
    "Parametri in input:\n",
    "\n",
    "- nome del file in formato `GTF`\n",
    "- nome del file della *genomic reference* in formato `FASTA`\n",
    "- nome della *feature* `GTF` che compone la sequenza da ricostruire: `exon` per i trascritti full-length e `CDS` per le coding sequences\n",
    "\n",
    "***\n",
    "\n",
    "Requisiti:\n",
    "\n",
    "- deve essere definita una funzione `format_fasta()` che prenda come argomenti un'intestazione `FASTA` e una sequenza, e restituisca la sequenza in formato FASTA separata in righe di 80 caratteri.\n",
    "\n",
    "- deve essere definita una funzione `reverse_complement()` che prenda come argomento una sequenza nucleotidica e ne restituisca il reverse&complement.\n",
    "\n",
    "- deve essere definita una funzione `compose_feature()` che prenda come argomenti una lista di *features* dello stesso tipo (in cui ogni *feature* è una tupla *(start, end)*), la genomica di riferimento, lo strand delle *features* rispetto alla genomica di riferimento (cioé lo strand del gene a cui le *features* appartengono), ed effettui la concatenazione delle sequenze delle *features*, ed eventualmente il reverse&complement se lo strand del gene è `-` (strand minus).\n",
    "\n",
    "**NOTA BENE**: gli attributi del nono campo del file `GTF` non devono essere pensati a ordine fisso all'interno del campo. Per estrarre quindi un attributo, non si può usare il metodo `split()`, ma si deve necessariamente usare un'espressione regolare.\n",
    "\n",
    "***\n",
    "\n",
    "Variabili di output:\n",
    "- `sequence_fasta_list`: lista delle sequenze ricostruite (trascritti full-length o coding sequences) in formato `FASTA`\n",
    "- `gene_set`: set dei geni coinvolti nelle sequenze ricostruite"
   ]
  },
  {
   "cell_type": "markdown",
   "metadata": {},
   "source": [
    "***"
   ]
  }
 ],
 "metadata": {
  "kernelspec": {
   "display_name": "Python 3",
   "language": "python",
   "name": "python3"
  },
  "language_info": {
   "codemirror_mode": {
    "name": "ipython",
    "version": 3
   },
   "file_extension": ".py",
   "mimetype": "text/x-python",
   "name": "python",
   "nbconvert_exporter": "python",
   "pygments_lexer": "ipython3",
   "version": "3.7.1"
  }
 },
 "nbformat": 4,
 "nbformat_minor": 2
}
