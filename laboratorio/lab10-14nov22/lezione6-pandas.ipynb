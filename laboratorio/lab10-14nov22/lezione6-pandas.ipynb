{
 "cells": [
  {
   "cell_type": "markdown",
   "metadata": {},
   "source": [
    "# Introduzione a Pandas\n",
    "\n",
    "`Pandas` è una libreria basata sulla libreria `numpy`, che ha lo scopo di manipolare *Data Frames*.\n",
    "\n",
    "Un *data frame* è una tabella che organizza i dati in righe (*record*) e colonne intestate:\n",
    "oggetto di tipo `DataFrame`\n",
    "\n",
    "Singole righe (*record*) e singole colonne: oggetti di tipo `Series`.\n",
    "\n",
    "\n",
    "`Pandas` offre tre funzionalità principali:\n",
    "\n",
    "1. costruzione\n",
    "1. interrogazione\n",
    "1. aggiornamento\n",
    "\n",
    "Formati da cui derivare un *data frame*: `csv`, `excel`, `json`.\n",
    "\n",
    "---\n",
    "\n",
    "Importare `Pandas`:"
   ]
  },
  {
   "cell_type": "code",
   "execution_count": null,
   "metadata": {},
   "outputs": [],
   "source": []
  },
  {
   "cell_type": "markdown",
   "metadata": {},
   "source": [
    "### Creazione di un *Data Frame* a partire da un dizionario\n",
    "\n",
    "       df = pd.DataFrame(data_dictionary)"
   ]
  },
  {
   "cell_type": "code",
   "execution_count": null,
   "metadata": {},
   "outputs": [],
   "source": []
  },
  {
   "cell_type": "code",
   "execution_count": null,
   "metadata": {},
   "outputs": [],
   "source": []
  },
  {
   "cell_type": "markdown",
   "metadata": {},
   "source": [
    "### Creazione di un *Data Frame* a partire da una lista\n",
    "\n",
    "       df = pd.DataFrame(data_list, coumns = column_names)"
   ]
  },
  {
   "cell_type": "code",
   "execution_count": null,
   "metadata": {},
   "outputs": [],
   "source": []
  },
  {
   "cell_type": "code",
   "execution_count": null,
   "metadata": {},
   "outputs": [],
   "source": []
  },
  {
   "cell_type": "markdown",
   "metadata": {},
   "source": [
    "### Creazione di un *Data Frame* da un file `csv`\n",
    "\n",
    "    df = pd.read_csv(csv_file_name)"
   ]
  },
  {
   "cell_type": "markdown",
   "metadata": {},
   "source": [
    "### Lettura del file `2017-german-election-overall.csv`"
   ]
  },
  {
   "cell_type": "code",
   "execution_count": null,
   "metadata": {
    "scrolled": false
   },
   "outputs": [],
   "source": []
  },
  {
   "cell_type": "markdown",
   "metadata": {},
   "source": [
    "### Informazioni sul *Data Frame*\n",
    "\n",
    "- informazioni generali sul data frame\n",
    "\n",
    "        df.info()"
   ]
  },
  {
   "cell_type": "code",
   "execution_count": null,
   "metadata": {},
   "outputs": [],
   "source": []
  },
  {
   "cell_type": "markdown",
   "metadata": {},
   "source": [
    "### Ottenere le prime/ultime `n` righe\n",
    "\n",
    "    df.head(n)\n",
    "    df.tail(n)"
   ]
  },
  {
   "cell_type": "code",
   "execution_count": null,
   "metadata": {},
   "outputs": [],
   "source": []
  },
  {
   "cell_type": "markdown",
   "metadata": {},
   "source": [
    "### Fare una copia di un *data frame*\n",
    "\n",
    "        df.copy()"
   ]
  },
  {
   "cell_type": "code",
   "execution_count": null,
   "metadata": {},
   "outputs": [],
   "source": [
    "df.copy()"
   ]
  },
  {
   "cell_type": "markdown",
   "metadata": {},
   "source": [
    "### Variabili `shape` e `columns`\n",
    "\n",
    "- `shape`: numero di righe e di colonne del *Data Frame*\n",
    "- `columns`: nomi delle colonne del *Data Frame* (oggetto di tipo `Index`) "
   ]
  },
  {
   "cell_type": "code",
   "execution_count": null,
   "metadata": {},
   "outputs": [],
   "source": []
  },
  {
   "cell_type": "markdown",
   "metadata": {},
   "source": [
    "### Cambiare nomi alle colonne\n",
    "\n",
    "    df.rename(columns = name_dict, inplace = True|False)"
   ]
  },
  {
   "cell_type": "code",
   "execution_count": null,
   "metadata": {},
   "outputs": [],
   "source": []
  },
  {
   "cell_type": "markdown",
   "metadata": {},
   "source": [
    "### Rimuovere righe e colonne\n",
    "\n",
    "Il metodo `drop()`:\n",
    "\n",
    "    df.drop(list_to_remove, axis = 1|0, inplace = True|False)\n",
    "    \n",
    "rimuove le colonne (`axis = 1`) o le righe (`axis = 0`) specificate nella lista `list_to_remove`.\n",
    "\n",
    "---"
   ]
  },
  {
   "cell_type": "markdown",
   "metadata": {},
   "source": [
    "**ESERCIZIO**: rimuovere le colonne `valid_first_votes` e `invalid_first_votes` e in seguito le righe con indici `2`, `9` e `10`."
   ]
  },
  {
   "cell_type": "code",
   "execution_count": null,
   "metadata": {},
   "outputs": [],
   "source": []
  },
  {
   "cell_type": "code",
   "execution_count": null,
   "metadata": {
    "scrolled": true
   },
   "outputs": [],
   "source": []
  },
  {
   "cell_type": "markdown",
   "metadata": {},
   "source": [
    "### Selezionare una colonna\n",
    "\n",
    "Le espressioni:\n",
    "\n",
    "    df[column_name]\n",
    "    df.column_name\n",
    "    \n",
    "restituiscono la colonna avente nome `column_name`, in un oggetto di tipo `Series`.\n",
    "\n",
    "---\n",
    "\n",
    "**NB**: le espressioni:\n",
    "\n",
    "    df[column_name] = new_value\n",
    "    df.column_name = new_value\n",
    "    \n",
    "aggiornano tutti i valori della colonna, restituita dall'espressione a sinistra dell'assegnamento, con il nuovo valore `new_value`.\n",
    "\n",
    "---"
   ]
  },
  {
   "cell_type": "markdown",
   "metadata": {},
   "source": [
    "**ESERCIZIO**: estrarre la colonna `voters`."
   ]
  },
  {
   "cell_type": "code",
   "execution_count": null,
   "metadata": {},
   "outputs": [],
   "source": []
  },
  {
   "cell_type": "code",
   "execution_count": null,
   "metadata": {},
   "outputs": [],
   "source": []
  },
  {
   "cell_type": "markdown",
   "metadata": {},
   "source": [
    "**NB**: i singoli valori in una colonna mantengono l'indice associato alla riga a cui appartengono."
   ]
  },
  {
   "cell_type": "code",
   "execution_count": null,
   "metadata": {},
   "outputs": [],
   "source": []
  },
  {
   "cell_type": "markdown",
   "metadata": {},
   "source": [
    "**ESERCIZIO**: aggiornare a 0 tutti i valori della colonna `area_id`."
   ]
  },
  {
   "cell_type": "code",
   "execution_count": null,
   "metadata": {},
   "outputs": [],
   "source": []
  },
  {
   "cell_type": "code",
   "execution_count": null,
   "metadata": {},
   "outputs": [],
   "source": []
  },
  {
   "cell_type": "markdown",
   "metadata": {},
   "source": [
    "### Selezionare più colonne\n",
    "\n",
    "L'espressione:\n",
    "\n",
    "    df[column_list]\n",
    "    \n",
    "restituisce le colonne della lista `column_list`, in un oggetto di tipo `DataFrame`.\n",
    "\n",
    "---\n",
    "\n",
    "L'espressione:\n",
    "\n",
    "    df[column_list] = new_value\n",
    "    \n",
    "aggiorna tutti i valori del *data frame*, restituito dall'espressione a sinistra dell'assegnamento, con il nuovo valore `new_value`.\n",
    "\n",
    "---"
   ]
  },
  {
   "cell_type": "markdown",
   "metadata": {},
   "source": [
    "**ESERCIZIO**: estrarre le colonne `voters` e `total_votes`."
   ]
  },
  {
   "cell_type": "code",
   "execution_count": null,
   "metadata": {},
   "outputs": [],
   "source": []
  },
  {
   "cell_type": "markdown",
   "metadata": {},
   "source": [
    "**NB:** se `column_list` contiene un'unica stringa, il *data frame* sarà composto da un'unica colonna."
   ]
  },
  {
   "cell_type": "code",
   "execution_count": null,
   "metadata": {},
   "outputs": [],
   "source": []
  },
  {
   "cell_type": "markdown",
   "metadata": {},
   "source": [
    "### Ottenere gli indici di riga (chiavi primarie)\n",
    "\n",
    "L'espressione: \n",
    "    \n",
    "    df.index\n",
    "\n",
    "restituisce gli indici delle righe del *data frame* invocante.\n",
    "\n",
    "**NB**: gli indici possono anche essere ottenuti da un oggetto di tipo `Series` (colonna).\n",
    "\n",
    "---"
   ]
  },
  {
   "cell_type": "code",
   "execution_count": null,
   "metadata": {},
   "outputs": [],
   "source": []
  },
  {
   "cell_type": "code",
   "execution_count": null,
   "metadata": {},
   "outputs": [],
   "source": []
  },
  {
   "cell_type": "markdown",
   "metadata": {},
   "source": [
    "### Aggiornare una colonna\n",
    "\n",
    "L'istruzione di assegnamento: \n",
    "\n",
    "    df[column_name] = series_obj\n",
    "    \n",
    "aggiorna la colonna `column_name` con i valori dell'oggetto `series_obj` che deve essere della stessa dimensione del *data frame*.\n",
    "\n",
    "**NB**: `series_obj` può essere il risultato di un'espressione.\n",
    "\n",
    "---"
   ]
  },
  {
   "cell_type": "markdown",
   "metadata": {},
   "source": [
    "**ESERCIZIO**: aggiornare i valori della colonna `area` con i relativi indici (chiave primaria)."
   ]
  },
  {
   "cell_type": "code",
   "execution_count": null,
   "metadata": {},
   "outputs": [],
   "source": []
  },
  {
   "cell_type": "code",
   "execution_count": null,
   "metadata": {},
   "outputs": [],
   "source": []
  },
  {
   "cell_type": "markdown",
   "metadata": {},
   "source": [
    "### Aggiungere una colonna\n",
    "\n",
    "L'istruzione di assegnamento: \n",
    "\n",
    "    df[new_column_name] = series_obj\n",
    "    \n",
    "aggiunge la colonna `new_column_name` con i valori dell'oggetto `series_obj` che deve essere della stessa dimensione del *data frame*.\n",
    "\n",
    "**NB**: `series_obj` può essere il risultato di un'espressione.\n",
    "\n",
    "---"
   ]
  },
  {
   "cell_type": "markdown",
   "metadata": {},
   "source": [
    "**ESERCIZIO**: aggiungere la colonna che contiene la differenza tra le colonne `total_votes` e `invalid_second_votes`"
   ]
  },
  {
   "cell_type": "code",
   "execution_count": null,
   "metadata": {},
   "outputs": [],
   "source": []
  },
  {
   "cell_type": "markdown",
   "metadata": {},
   "source": [
    "### Selezionare le righe tramite *slicing*\n",
    "\n",
    "L'espressione: \n",
    "\n",
    "    df[start_pos_index:end_pos_index:step]\n",
    "    \n",
    "restituisce le righe che hanno indice di posizione compreso tra `start_pos_index` e `end_pos_index` secondo lo step indicato, in un oggetto `DataFrame`.\n",
    "\n",
    "---\n",
    "\n",
    "L'espressione:\n",
    "\n",
    "    df[start_pos_index:end_pos_index:step] = new_value\n",
    "    \n",
    "aggiorna tutti i valori dell'oggetto, restituito dall'espressione a sinistra dell'assegnamento, con il nuovo valore `new_value`.\n",
    "\n",
    "---\n",
    "\n",
    "**NB**: lo *slicing* può essere applicato anche a un oggetto di tipo `Series` (riga o colonna).\n",
    "\n",
    "---"
   ]
  },
  {
   "cell_type": "markdown",
   "metadata": {},
   "source": [
    "**ESERCIZIO**: estrarre le righe dalla quarta alla undicesima."
   ]
  },
  {
   "cell_type": "code",
   "execution_count": null,
   "metadata": {},
   "outputs": [],
   "source": []
  },
  {
   "cell_type": "markdown",
   "metadata": {},
   "source": [
    "### Selezionare le righe in base a una condizione\n",
    "\n",
    "Una maschera è un oggetto di tipo `Series` che contiene valori booleani `True` e `False` e che può essere utilizzata per selezionare le righe di un *data frame*.\n",
    "\n",
    "L'espressione:\n",
    "\n",
    "    df[mask]\n",
    "    \n",
    "restituisce un *data frame* con le sole righe che corrispondono a un valore `True` di `mask`.\n",
    "\n",
    "La dimensione di `mask` deve essere uguale al numero di righe in `df`ed è il risultato di un'espressione booleana.\n",
    "\n",
    "---\n",
    "\n",
    "L'espressione:\n",
    "\n",
    "    df[mask] = new_value\n",
    "    \n",
    "aggiorna tutti i valori del *data frame* restituito a sinistra con il nuovo valore `new_value`.\n",
    "\n",
    "---\n",
    "\n",
    "**NB**: la maschera può essere applicata anche a un oggetto di tipo `Series` (riga o colonna).\n",
    "\n",
    "---"
   ]
  },
  {
   "cell_type": "markdown",
   "metadata": {},
   "source": [
    "**ESERCIZIO**: selezionare le righe del *data frame* che hanno valore `Berlin` nella colonna `state`."
   ]
  },
  {
   "cell_type": "code",
   "execution_count": null,
   "metadata": {},
   "outputs": [],
   "source": []
  },
  {
   "cell_type": "code",
   "execution_count": null,
   "metadata": {},
   "outputs": [],
   "source": []
  },
  {
   "cell_type": "markdown",
   "metadata": {},
   "source": [
    "---\n",
    "\n",
    "**ESERCIZIO**: produrre le aree e il numero dei votanti per gli stati `Berlin` e `Bayern`."
   ]
  },
  {
   "cell_type": "code",
   "execution_count": null,
   "metadata": {},
   "outputs": [],
   "source": []
  },
  {
   "cell_type": "code",
   "execution_count": null,
   "metadata": {},
   "outputs": [],
   "source": []
  },
  {
   "cell_type": "markdown",
   "metadata": {},
   "source": [
    "---\n",
    "\n",
    "**ESERCIZIO**: estrarre gli indici delle righe che corrispondono agli stati `Berlin` e `Bayern`."
   ]
  },
  {
   "cell_type": "code",
   "execution_count": null,
   "metadata": {},
   "outputs": [],
   "source": []
  },
  {
   "cell_type": "markdown",
   "metadata": {},
   "source": [
    "### Selezionare una riga tramite `iloc[]`\n",
    "\n",
    "Il metodo:\n",
    "\n",
    "    df.iloc[pos_index]\n",
    "    \n",
    "prende in input e restituisce la riga che ha indice di posizione `pos_index`, in un oggetto di tipo `Series`.\n",
    "\n",
    "---\n",
    "\n",
    "L'espressione:\n",
    "\n",
    "    df.iloc[pos_index] = new_value\n",
    "    \n",
    "aggiorna tutti i valori della riga restituita a sinistra con il nuovo valore `new_value`.\n",
    "\n",
    "---\n",
    "\n",
    "**NB**: `iloc[pos_index]` può essere invocato anche da un oggetto di tipo `Series` (riga o colonna)."
   ]
  },
  {
   "cell_type": "markdown",
   "metadata": {},
   "source": [
    "---\n",
    "\n",
    "**ESERCIZIO**: estrarre l'area della riga con indice di posizione `2` (cioé la terza riga del *data frame*)."
   ]
  },
  {
   "cell_type": "code",
   "execution_count": null,
   "metadata": {},
   "outputs": [],
   "source": []
  },
  {
   "cell_type": "code",
   "execution_count": null,
   "metadata": {},
   "outputs": [],
   "source": []
  },
  {
   "cell_type": "markdown",
   "metadata": {},
   "source": [
    "**NB**: anche un oggetto `Series` che contiene una riga di un *data frame* può essere sottoposto a selezione di colonne (esattamente come per un *data frame*)."
   ]
  },
  {
   "cell_type": "code",
   "execution_count": null,
   "metadata": {
    "scrolled": true
   },
   "outputs": [],
   "source": []
  },
  {
   "cell_type": "markdown",
   "metadata": {},
   "source": [
    "### Selezionare righe contigue tramite `iloc[]`\n",
    "\n",
    "L'espressione:\n",
    "\n",
    "    df.iloc[start_pos_index:end_pos_index]\n",
    "    \n",
    "restituisce tutte le righe dalla posizione di indice `start_pos_index` a quella di indice `end_pos_index-1`, in un oggetto di tipo `DataFrame`.\n",
    "\n",
    "---\n",
    "\n",
    "L'espressione:\n",
    "\n",
    "    df.iloc[start_pos_index:end_pos_index] = new_value\n",
    "    \n",
    "aggiorna tutti i valori delle righe restituite a sinistra con il nuovo valore `new_value`.\n",
    "\n",
    "---\n",
    "\n",
    "**NB**: `iloc[start_pos_index:end_pos_index]` può essere invocato anche da un oggetto di tipo `Series` (riga o colonna).\n",
    "\n",
    "---"
   ]
  },
  {
   "cell_type": "markdown",
   "metadata": {},
   "source": [
    "**ESERCIZIO**: estrarre la lista delle aree delle righe dalla ottava alla dodicesima."
   ]
  },
  {
   "cell_type": "code",
   "execution_count": null,
   "metadata": {},
   "outputs": [],
   "source": []
  },
  {
   "cell_type": "code",
   "execution_count": null,
   "metadata": {},
   "outputs": [],
   "source": []
  },
  {
   "cell_type": "markdown",
   "metadata": {},
   "source": [
    "---\n",
    "\n",
    "### Selezionare righe (anche non contigue) tramite `iloc[]`\n",
    "\n",
    "L'espressione:\n",
    "\n",
    "    df.iloc[pos_index_list]\n",
    "    \n",
    "restituisce tutte le righe nelle posizioni indicate nella lista `pos_index_list`, in un oggetto di tipo `DataFrame`.\n",
    "\n",
    "---\n",
    "\n",
    "L'espressione:\n",
    "\n",
    "    df.iloc[pos_index_list] = new_value\n",
    "    \n",
    "aggiorna tutti i valori delle righe restituite a sinistra con il nuovo valore `new_value`.\n",
    "\n",
    "---\n",
    "\n",
    "**NB**: `iloc[pos_index_list]` può essere invocato anche da un oggetto di tipo `Series` (riga o colonna).\n",
    "\n",
    "---"
   ]
  },
  {
   "cell_type": "markdown",
   "metadata": {},
   "source": [
    "**ESERCIZIO**: estrarre i valori relativi alla colonna `area` per tutte l'ottava, la nona, la dodicesima e la quattordicesima riga."
   ]
  },
  {
   "cell_type": "code",
   "execution_count": null,
   "metadata": {},
   "outputs": [],
   "source": []
  },
  {
   "cell_type": "code",
   "execution_count": null,
   "metadata": {},
   "outputs": [],
   "source": []
  },
  {
   "cell_type": "markdown",
   "metadata": {},
   "source": [
    "### Selezionare una riga tramite `loc[]`\n",
    "\n",
    "L'espressione:\n",
    "\n",
    "        df.loc[index]\n",
    "        \n",
    "restituisce la riga che ha indice `index`, in un oggetto `Series` (se non esiste, viene lanciato un `KeyError`).\n",
    "\n",
    "---\n",
    "\n",
    "L'espressione:\n",
    "\n",
    "        df.loc[index] = new_value\n",
    "        \n",
    "aggiorna tutti i valori della riga che ha indice `index` con il nuovo valore `new_value`.\n",
    "\n",
    "---\n",
    "\n",
    "**NB**: `loc[index]` può essere invocato anche da un oggetto di tipo `Series` (riga o colonna).\n",
    "\n",
    "---"
   ]
  },
  {
   "cell_type": "markdown",
   "metadata": {},
   "source": [
    "**ESERCIZIO**: estrarre lo stato della riga di indice `3`."
   ]
  },
  {
   "cell_type": "code",
   "execution_count": null,
   "metadata": {},
   "outputs": [],
   "source": []
  },
  {
   "cell_type": "code",
   "execution_count": null,
   "metadata": {},
   "outputs": [],
   "source": []
  },
  {
   "cell_type": "markdown",
   "metadata": {},
   "source": [
    "### Selezionare righe (anche non contigue) tramite `loc[]`\n",
    "\n",
    "L'espressione:\n",
    "\n",
    "    df.loc[index_list]\n",
    "    \n",
    "restituisce tutte le righe che hanno gli indici presenti nella lista `index_list`, in un oggetto di tipo `DataFrame`.\n",
    "\n",
    "---\n",
    "\n",
    "L'espressione:\n",
    "\n",
    "    df.loc[index_list] = new_value\n",
    "    \n",
    "aggiorna tutti i valori delle righe che hanno indice in `index_list` con il nuovo valore `new_value`.\n",
    "\n",
    "---\n",
    "\n",
    "**NB**: `loc[index_list]` può essere invocato anche da un oggetto di tipo `Series` (riga o colonna).\n",
    "\n",
    "---"
   ]
  },
  {
   "cell_type": "markdown",
   "metadata": {},
   "source": [
    "**ESERCIZIO**: estrarre le righe di indice `3`, `8` e `10`."
   ]
  },
  {
   "cell_type": "code",
   "execution_count": null,
   "metadata": {},
   "outputs": [],
   "source": []
  },
  {
   "cell_type": "markdown",
   "metadata": {},
   "source": [
    "### Selezionare le righe che rispettano una condizione tramite `loc[]`\n",
    "\n",
    "L'espressione:\n",
    "\n",
    "        df.loc[mask]\n",
    "        \n",
    "restituisce le righe che verificano la condizione rappresentata da `mask`.\n",
    "\n",
    "---\n",
    "\n",
    "L'espressione:\n",
    "\n",
    "        df.loc[mask] = new_value\n",
    "        \n",
    "aggiorna tutti i valori delle righe che verificano la condizione rappresentata da `mask` con il nuovo valore `new_value`.\n",
    "\n",
    "---\n",
    "\n",
    "**NB**: `loc[mask]` può essere invocato anche da un oggetto di tipo `Series` (riga o colonna).\n",
    "\n",
    "---"
   ]
  },
  {
   "cell_type": "markdown",
   "metadata": {},
   "source": [
    "**ESERCIZIO**: estrarre le righe corrispondenti a `Berlin` nella colonna `state`."
   ]
  },
  {
   "cell_type": "code",
   "execution_count": null,
   "metadata": {},
   "outputs": [],
   "source": []
  },
  {
   "cell_type": "markdown",
   "metadata": {},
   "source": [
    "### Selezionare una colonna di una riga tramite `loc[]`\n",
    "\n",
    "L'espressione:\n",
    "\n",
    "    df.loc[index, column_name]\n",
    "    \n",
    "restituisce il valore della riga che ha indice `index` relativo alla colonna `column_name`.\n",
    "\n",
    "---\n",
    "\n",
    "L'espressione:\n",
    "\n",
    "    df.loc[index, column_name] = new_value\n",
    "    \n",
    "aggiorna il valore della riga che ha indice `index` relativo alla colonna `column_name` con il nuovo valore `new_value`.\n",
    "\n",
    "---"
   ]
  },
  {
   "cell_type": "markdown",
   "metadata": {},
   "source": [
    "**ESERCIZIO**: estrarre il valore relativo alla colonna `state` della riga di indice `5` e aggiornarlo con la stringa `unknown`."
   ]
  },
  {
   "cell_type": "code",
   "execution_count": null,
   "metadata": {},
   "outputs": [],
   "source": []
  },
  {
   "cell_type": "code",
   "execution_count": null,
   "metadata": {},
   "outputs": [],
   "source": []
  },
  {
   "cell_type": "code",
   "execution_count": null,
   "metadata": {},
   "outputs": [],
   "source": []
  },
  {
   "cell_type": "markdown",
   "metadata": {},
   "source": [
    "### Selezionare una colonna per più righe tramite `loc[]`\n",
    "\n",
    "L'espressione:\n",
    "\n",
    "    df.loc[index_list, column_name]\n",
    "    \n",
    "restituisce i valori delle righe che hanno indici nella lista `index_list` relativi alla colonna `column_name`, in un oggetto di tipo `Series`.\n",
    "\n",
    "---\n",
    "\n",
    "L'espressione:\n",
    "\n",
    "    df.loc[index_list, column_name] = new_value\n",
    "    \n",
    "aggiorna i valori delle righe che hanno indici nella lista `index_list` relativi alla colonna `column_name`, con il nuovo valore .`new_value`.\n",
    "\n",
    "---"
   ]
  },
  {
   "cell_type": "markdown",
   "metadata": {},
   "source": [
    "**ESERCIZIO**: estrarre i valori relativi alla colonna `state` delle righe di indici `5`, `10` e `11` e aggiornarli con la stringa `unknown`."
   ]
  },
  {
   "cell_type": "code",
   "execution_count": null,
   "metadata": {},
   "outputs": [],
   "source": []
  },
  {
   "cell_type": "code",
   "execution_count": null,
   "metadata": {},
   "outputs": [],
   "source": []
  },
  {
   "cell_type": "code",
   "execution_count": null,
   "metadata": {},
   "outputs": [],
   "source": []
  },
  {
   "cell_type": "code",
   "execution_count": null,
   "metadata": {},
   "outputs": [],
   "source": []
  },
  {
   "cell_type": "markdown",
   "metadata": {},
   "source": [
    "---\n",
    "\n",
    "**ESERCIZIO**: aggiornare a 0 tutti i valori relativi della colonna `invalid_second_votes` che sono inferiori a 200."
   ]
  },
  {
   "cell_type": "code",
   "execution_count": null,
   "metadata": {},
   "outputs": [],
   "source": []
  },
  {
   "cell_type": "code",
   "execution_count": null,
   "metadata": {},
   "outputs": [],
   "source": []
  },
  {
   "cell_type": "markdown",
   "metadata": {},
   "source": [
    "### Selezionare più colonne per più righe tramite `loc[]`\n",
    "\n",
    "L'espressione:\n",
    "\n",
    "        df.loc[index_list, column_list]\n",
    "        \n",
    "restituisce i valori delle righe che hanno indici nella lista `index_list` relativi alle colonne presenti nella lista `column_list`, in un oggetto di tipo `DataFrame`.\n",
    "\n",
    "---\n",
    "\n",
    "L'espressione:\n",
    "\n",
    "    df.loc[index_list, column_list] = new_value\n",
    "    \n",
    "aggiorna i valori delle righe che hanno indici nella lista `index_list` relativi alle colonne nella lista `column_list`, con il nuovo valore .`new_value`.\n",
    "\n",
    "---"
   ]
  },
  {
   "cell_type": "markdown",
   "metadata": {},
   "source": [
    "**ESERCIZIO**: estrarre i valori relativi alle colonne `area` e `state` per le righe di indice `100`, `150` e `200`."
   ]
  },
  {
   "cell_type": "code",
   "execution_count": null,
   "metadata": {},
   "outputs": [],
   "source": []
  },
  {
   "cell_type": "markdown",
   "metadata": {},
   "source": [
    "### Ottenere un valore tramite `at[]`\n",
    "\n",
    "L'espressione:\n",
    "\n",
    "    df.at[index, column_name]\n",
    "    \n",
    "restituisce il valore della riga con indice `index` in corrispondenza della colonna `column_name`.\n",
    "\n",
    "---\n",
    "\n",
    "L'espressione:\n",
    "\n",
    "    df.at[index, column_name] = new_value\n",
    "    \n",
    "aggiorna il valore della riga con indice `index` in corrispondenza della colonna `column_name` con il nuovo valore `new_value`.\n",
    "\n",
    "---"
   ]
  },
  {
   "cell_type": "markdown",
   "metadata": {},
   "source": [
    "**ESEMPIO**: "
   ]
  },
  {
   "cell_type": "code",
   "execution_count": null,
   "metadata": {},
   "outputs": [],
   "source": []
  },
  {
   "cell_type": "markdown",
   "metadata": {},
   "source": [
    "### Controllare la presenza di valori nulli\n",
    "\n",
    "La funzione:\n",
    "\n",
    "    pd.isnull(df|column)\n",
    "    \n",
    "prende come argomento un *data frame* oppure una colonna e restituisce un oggetto `Series` contenente valori booleani.\n",
    "\n",
    "---\n",
    "    \n",
    "Il metodo:\n",
    "\n",
    "    df|column.isnull()\n",
    "    \n",
    "viene invocato su un *data frame* oppure su una colonna e restituisce un oggetto `DataFrame` contenente valori booleani.\n",
    "\n",
    "---"
   ]
  },
  {
   "cell_type": "code",
   "execution_count": null,
   "metadata": {},
   "outputs": [],
   "source": []
  },
  {
   "cell_type": "code",
   "execution_count": null,
   "metadata": {},
   "outputs": [],
   "source": []
  },
  {
   "cell_type": "markdown",
   "metadata": {},
   "source": [
    "### Ottenere valori unici con il metodo  `unique()`\n",
    "\n",
    "Il metodo `unique()` degli oggetti `Series` restituisce l'array dei valori distinti presenti nell'oggetto invocante.\n",
    "\n",
    "---\n",
    "\n",
    "**ESERCIZIO**: determinare la lista dei valori unici della colonna `state`."
   ]
  },
  {
   "cell_type": "code",
   "execution_count": null,
   "metadata": {},
   "outputs": [],
   "source": []
  },
  {
   "cell_type": "markdown",
   "metadata": {},
   "source": [
    "### Ottenere statistiche generali\n",
    "\n",
    "\n",
    "Gli oggetti `DataFrame` e `Series` dispongono del metodo `describe()` per ottenere statistiche generali su *data frame* e colonne."
   ]
  },
  {
   "cell_type": "code",
   "execution_count": null,
   "metadata": {},
   "outputs": [],
   "source": []
  },
  {
   "cell_type": "code",
   "execution_count": null,
   "metadata": {},
   "outputs": [],
   "source": []
  },
  {
   "cell_type": "code",
   "execution_count": null,
   "metadata": {},
   "outputs": [],
   "source": []
  },
  {
   "cell_type": "markdown",
   "metadata": {},
   "source": [
    "### Alcuni metodi...\n",
    "\n",
    "Gli oggetti `DataFrame` e `Series` dispongono di metodi come `max()`, `min()`, `count()`, `var()`, `std()`, `mean()`, `sum()`.\n",
    "\n",
    "---\n",
    "\n",
    "**ESEMPI**:"
   ]
  },
  {
   "cell_type": "code",
   "execution_count": null,
   "metadata": {},
   "outputs": [],
   "source": []
  },
  {
   "cell_type": "code",
   "execution_count": null,
   "metadata": {},
   "outputs": [],
   "source": []
  },
  {
   "cell_type": "markdown",
   "metadata": {},
   "source": [
    "I *data frame* hanno inoltre il metodo `corr()` per calcolare la matrice di covarianza. "
   ]
  },
  {
   "cell_type": "code",
   "execution_count": null,
   "metadata": {},
   "outputs": [],
   "source": []
  },
  {
   "cell_type": "markdown",
   "metadata": {},
   "source": [
    "### Ordinare valori\n",
    "\n",
    "Il metodo `sort_values()`:\n",
    "\n",
    "    df.sort_values(column_list, ascending = True|False, inplace = True|False)\n",
    "    \n",
    "ordina le righe secondo le colonne specificate in nella lista `column_list` in senso ascendente o discendente.\n",
    "    \n",
    "`inplace = True` significa che il *data frame* invocante viene aggiornato, mentre per `inplace = False` viene restituita una copia aggiornata.\n",
    "\n",
    "**NB**: al posto di `column_list` si puo anche mettere un solo nome di colonna.\n",
    "\n",
    "---"
   ]
  },
  {
   "cell_type": "markdown",
   "metadata": {},
   "source": [
    "**ESERCIZIO**: ordinare le righe per colonne `state` e `area` in ordine ascendente (senza aggiornare il *data frame* invocante)."
   ]
  },
  {
   "cell_type": "code",
   "execution_count": null,
   "metadata": {},
   "outputs": [],
   "source": []
  },
  {
   "cell_type": "markdown",
   "metadata": {},
   "source": [
    "---\n",
    "\n",
    "**ESERCIZIO**: ordinare le righe per numero di voti totali in ordine discendente (senza aggiornare il *data frame* invocante)."
   ]
  },
  {
   "cell_type": "code",
   "execution_count": null,
   "metadata": {},
   "outputs": [],
   "source": []
  },
  {
   "cell_type": "markdown",
   "metadata": {},
   "source": [
    "### Raggruppare i valori\n",
    "\n",
    "Il metodo `groupby()`:\n",
    "\n",
    "    df.groupby(column_list)\n",
    "   \n",
    "restituisce un oggetto `DataFrameGroupBy` che raggruppa i valori secondo le colonne specificate nella lista `column_list`, a cui può essere applicata un'operazione.\n",
    "\n",
    "**NB**: al posto di `column_list` si puo anche mettere un solo nome di colonna.\n",
    "\n",
    "---"
   ]
  },
  {
   "cell_type": "markdown",
   "metadata": {},
   "source": [
    "**ESERCIZIO**: estrarre il numero di votanti totali per \"stato\"."
   ]
  },
  {
   "cell_type": "code",
   "execution_count": null,
   "metadata": {},
   "outputs": [],
   "source": []
  },
  {
   "cell_type": "markdown",
   "metadata": {},
   "source": [
    "---\n",
    "\n",
    "**ESERCIZIO**: visualizzare il numero dei votanti per ogni area raggruppandole per \"stato\"."
   ]
  },
  {
   "cell_type": "code",
   "execution_count": null,
   "metadata": {},
   "outputs": [],
   "source": []
  },
  {
   "cell_type": "code",
   "execution_count": null,
   "metadata": {},
   "outputs": [],
   "source": []
  },
  {
   "cell_type": "markdown",
   "metadata": {},
   "source": [
    "### Applicare una funzione a un *data frame* con il metodo `apply()`\n",
    "\n",
    "Il metodo:\n",
    "\n",
    "        df.apply(function)\n",
    "        \n",
    "applica la funzione `function` a tutti i valori del *data frame* invocante e restituisce un *data frame* con la stessa struttura che contiene i valori restituiti dalla funzione.\n",
    "\n",
    "**NB**: `apply()` è un metodo anche degli oggetti `Series`.\n",
    "\n",
    "---"
   ]
  },
  {
   "cell_type": "markdown",
   "metadata": {},
   "source": [
    "**ESERCIZIO**: estrarre il *data frame* del numero totale dei votanti e dei voti totali decrementati di 1000 unità."
   ]
  },
  {
   "cell_type": "code",
   "execution_count": null,
   "metadata": {},
   "outputs": [],
   "source": []
  },
  {
   "cell_type": "markdown",
   "metadata": {},
   "source": [
    "---\n",
    "\n",
    "**ESERCIZIO**: estrarre la colonna del numero totale dei votanti convertito in numero decimale."
   ]
  },
  {
   "cell_type": "code",
   "execution_count": null,
   "metadata": {},
   "outputs": [],
   "source": []
  },
  {
   "cell_type": "markdown",
   "metadata": {},
   "source": [
    "### Iterare lungo le righe di un *data frame*\n",
    "\n",
    "Il metodo `iterrows()` permette di iterare lungo le righe di un *data frame*.\n",
    "\n",
    "    for (index, record) in df.iterrows():\n",
    "        block"
   ]
  },
  {
   "cell_type": "code",
   "execution_count": null,
   "metadata": {},
   "outputs": [],
   "source": []
  },
  {
   "cell_type": "markdown",
   "metadata": {},
   "source": [
    "### Salvare un *data frame* in formato `csv`\n",
    "\n",
    "Il metodo `to_csv`\n",
    "\n",
    "        df.to_csv(file_name, index=False|True)\n",
    "        \n",
    "scrive il *data frame* in formato `csv` in un  file.\n",
    "\n",
    "Se la keyword `index` è `True`, gli indici delle righe vengono prodotti in output e il relativo nome di campo è la stringa vuota.\n",
    "\n",
    "---"
   ]
  },
  {
   "cell_type": "code",
   "execution_count": null,
   "metadata": {},
   "outputs": [],
   "source": []
  },
  {
   "cell_type": "markdown",
   "metadata": {},
   "source": [
    "### Richiamare `matplotlib` da Pandas"
   ]
  },
  {
   "cell_type": "code",
   "execution_count": null,
   "metadata": {
    "scrolled": true
   },
   "outputs": [],
   "source": []
  },
  {
   "cell_type": "markdown",
   "metadata": {},
   "source": [
    "### Cambiare indice al *data frame*\n",
    "\n",
    "Il metodo:\n",
    "    \n",
    "    df.set_index(column_name, inplace = True|False)\n",
    "    \n",
    "assegna la colonna `column_name` (non deve contenere duplicati) come colonna degli indici. "
   ]
  },
  {
   "cell_type": "code",
   "execution_count": null,
   "metadata": {},
   "outputs": [],
   "source": []
  }
 ],
 "metadata": {
  "kernelspec": {
   "display_name": "Python 3 (ipykernel)",
   "language": "python",
   "name": "python3"
  },
  "language_info": {
   "codemirror_mode": {
    "name": "ipython",
    "version": 3
   },
   "file_extension": ".py",
   "mimetype": "text/x-python",
   "name": "python",
   "nbconvert_exporter": "python",
   "pygments_lexer": "ipython3",
   "version": "3.9.7"
  }
 },
 "nbformat": 4,
 "nbformat_minor": 4
}
