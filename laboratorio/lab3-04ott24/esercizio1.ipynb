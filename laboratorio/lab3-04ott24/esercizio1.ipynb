{
 "cells": [
  {
   "cell_type": "markdown",
   "metadata": {},
   "source": [
    "# Esercizio1"
   ]
  },
  {
   "cell_type": "raw",
   "metadata": {},
   "source": [
    "                2009\t2010\t2011\t2012\t2013\t2014\t2015\n",
    "    Gennaio\t\t75\t\t63\t\t65\t\t50\t\t77\t\t66\t\t69\n",
    "    Febbraio\t64\t\t65\t\t65\t\t67\t\t50\t\t54\t\t58\n",
    "    Marzo\t\t81\t\t77\t\t73\t\t80\t\t83\t\t89\t\t100\n",
    "    Aprile\t\t89\t\t90\t\t85\t\t90\t\t90\t\t84\t\t90\n",
    "    Maggio\t\t120\t\t129\t\t113\t\t120\t\t135\t\t117\t\t130\n",
    "    Giugno\t\t113\t\t99\t\t116\t\t114\t\t111\t\t119\t\t100\n",
    "    Luglio\t\t111\t\t105\t\t98\t\t112\t\t113\t\t102\t\t100\n",
    "    Agosto\t\t129\t\t131\t\t120\t\t111\t\t141\t\t130\t\t126\n",
    "    Settembre\t90\t\t85\t\t101\t\t88\t\t89\t\t94\t\t91\n",
    "    Ottobre\t\t109\t\t122\t\t103\t\t119\t\t98\t\t101\t\t107\n",
    "    Novembre\t111\t\t121\t\t101\t\t104\t\t121\t\t115\t\t104\n",
    "    Dicembre\t56\t\t67\t\t44\t\t58\t\t61\t\t64\t\t58"
   ]
  },
  {
   "cell_type": "markdown",
   "metadata": {},
   "source": [
    "Si consideri il dataset delle piogge mensili (mm) nei sette anni dal 2009 al 2015, che ha il seguente formato: 13 record di campi separati da tabulazione di cui il primo è il record di intestazione degli anni (composto da 7 campi) e gli altri 12 sono i record delle piogge mensili (un record per ciascun mese).\n",
    "Ogni record è composto di 8 campi, di cui il primo è il nome del mese e i rimanenti 7 sono le piogge mensili lungo gli anni.\n",
    "\n",
    "Si richiede di determinare:\n",
    "\n",
    "- per ogni mese, la pioggia media lungo gli anni\n",
    "- per ogni anno, la pioggia totale\n",
    "- per ogni anno, il numero di mesi con pioggia oltre una certa soglia (parametro in input)\n",
    "\n",
    "---\n",
    "\n",
    "Parametri di input:\n",
    "- dataset delle piogge\n",
    "- soglia minima di pioggia\n",
    "\n",
    "---"
   ]
  },
  {
   "cell_type": "markdown",
   "metadata": {},
   "source": [
    "### Parametri di input"
   ]
  },
  {
   "cell_type": "code",
   "execution_count": 1,
   "metadata": {},
   "outputs": [],
   "source": [
    "input_dataset = './input-piogge.txt'\n",
    "rain_threshold = 100"
   ]
  },
  {
   "cell_type": "markdown",
   "metadata": {},
   "source": [
    "### Definizione di una funzione che conta i valori di una lista oltre una certa soglia"
   ]
  },
  {
   "cell_type": "code",
   "execution_count": 4,
   "metadata": {},
   "outputs": [],
   "source": [
    "def count_values_greater_than(list_of_values, threshold):\n",
    "    return [value > threshold  for value in list_of_values].count(True)"
   ]
  },
  {
   "cell_type": "markdown",
   "metadata": {},
   "source": [
    "### Lettura del dataset"
   ]
  },
  {
   "cell_type": "markdown",
   "metadata": {},
   "source": [
    "- Funzione `open(file_name, 'r')` per ottenere l'*handle* in lettura al file\n",
    "- Metodo `readlines()` per leggere il canale invocante in una lista di stringhe\n",
    "- Metodo `close()` per chiudere l'*handle* invocante"
   ]
  },
  {
   "cell_type": "code",
   "execution_count": 8,
   "metadata": {},
   "outputs": [],
   "source": [
    "with open(input_dataset, 'r') as input_file:\n",
    "    file_rows = input_file.readlines()"
   ]
  },
  {
   "cell_type": "code",
   "execution_count": 9,
   "metadata": {
    "scrolled": true
   },
   "outputs": [
    {
     "data": {
      "text/plain": [
       "['\\t\\t\\t2009\\t2010\\t2011\\t2012\\t2013\\t2014\\t2015\\n',\n",
       " 'Gennaio\\t\\t75\\t\\t63\\t\\t65\\t\\t50\\t\\t77\\t\\t66\\t\\t69\\n',\n",
       " 'Febbraio\\t64\\t\\t65\\t\\t65\\t\\t67\\t\\t50\\t\\t54\\t\\t58\\n',\n",
       " 'Marzo\\t\\t81\\t\\t77\\t\\t73\\t\\t80\\t\\t83\\t\\t89\\t\\t100\\n',\n",
       " 'Aprile\\t\\t89\\t\\t90\\t\\t85\\t\\t90\\t\\t90\\t\\t84\\t\\t90\\n',\n",
       " 'Maggio\\t\\t120\\t\\t129\\t\\t113\\t\\t120\\t\\t135\\t\\t117\\t\\t130\\n',\n",
       " 'Giugno\\t\\t113\\t\\t99\\t\\t116\\t\\t114\\t\\t111\\t\\t119\\t\\t100\\n',\n",
       " 'Luglio\\t\\t111\\t\\t105\\t\\t98\\t\\t112\\t\\t113\\t\\t102\\t\\t100\\n',\n",
       " 'Agosto\\t\\t129\\t\\t131\\t\\t120\\t\\t111\\t\\t141\\t\\t130\\t\\t126\\n',\n",
       " 'Settembre\\t90\\t\\t85\\t\\t101\\t\\t88\\t\\t89\\t\\t94\\t\\t91\\n',\n",
       " 'Ottobre\\t\\t109\\t\\t122\\t\\t103\\t\\t119\\t\\t98\\t\\t101\\t\\t107\\n',\n",
       " 'Novembre\\t111\\t\\t121\\t\\t101\\t\\t104\\t\\t121\\t\\t115\\t\\t104\\n',\n",
       " 'Dicembre\\t56\\t\\t67\\t\\t44\\t\\t58\\t\\t61\\t\\t64\\t\\t58']"
      ]
     },
     "execution_count": 9,
     "metadata": {},
     "output_type": "execute_result"
    }
   ],
   "source": [
    "file_rows"
   ]
  },
  {
   "cell_type": "markdown",
   "metadata": {},
   "source": [
    "### Costruzione della lista degli anni rilevati"
   ]
  },
  {
   "cell_type": "code",
   "execution_count": 10,
   "metadata": {},
   "outputs": [],
   "source": [
    "header = file_rows.pop(0)"
   ]
  },
  {
   "cell_type": "code",
   "execution_count": 11,
   "metadata": {},
   "outputs": [
    {
     "data": {
      "text/plain": [
       "'\\t\\t\\t2009\\t2010\\t2011\\t2012\\t2013\\t2014\\t2015\\n'"
      ]
     },
     "execution_count": 11,
     "metadata": {},
     "output_type": "execute_result"
    }
   ],
   "source": [
    "header"
   ]
  },
  {
   "cell_type": "code",
   "execution_count": 12,
   "metadata": {},
   "outputs": [
    {
     "data": {
      "text/plain": [
       "['Gennaio\\t\\t75\\t\\t63\\t\\t65\\t\\t50\\t\\t77\\t\\t66\\t\\t69\\n',\n",
       " 'Febbraio\\t64\\t\\t65\\t\\t65\\t\\t67\\t\\t50\\t\\t54\\t\\t58\\n',\n",
       " 'Marzo\\t\\t81\\t\\t77\\t\\t73\\t\\t80\\t\\t83\\t\\t89\\t\\t100\\n',\n",
       " 'Aprile\\t\\t89\\t\\t90\\t\\t85\\t\\t90\\t\\t90\\t\\t84\\t\\t90\\n',\n",
       " 'Maggio\\t\\t120\\t\\t129\\t\\t113\\t\\t120\\t\\t135\\t\\t117\\t\\t130\\n',\n",
       " 'Giugno\\t\\t113\\t\\t99\\t\\t116\\t\\t114\\t\\t111\\t\\t119\\t\\t100\\n',\n",
       " 'Luglio\\t\\t111\\t\\t105\\t\\t98\\t\\t112\\t\\t113\\t\\t102\\t\\t100\\n',\n",
       " 'Agosto\\t\\t129\\t\\t131\\t\\t120\\t\\t111\\t\\t141\\t\\t130\\t\\t126\\n',\n",
       " 'Settembre\\t90\\t\\t85\\t\\t101\\t\\t88\\t\\t89\\t\\t94\\t\\t91\\n',\n",
       " 'Ottobre\\t\\t109\\t\\t122\\t\\t103\\t\\t119\\t\\t98\\t\\t101\\t\\t107\\n',\n",
       " 'Novembre\\t111\\t\\t121\\t\\t101\\t\\t104\\t\\t121\\t\\t115\\t\\t104\\n',\n",
       " 'Dicembre\\t56\\t\\t67\\t\\t44\\t\\t58\\t\\t61\\t\\t64\\t\\t58']"
      ]
     },
     "execution_count": 12,
     "metadata": {},
     "output_type": "execute_result"
    }
   ],
   "source": [
    "file_rows"
   ]
  },
  {
   "cell_type": "code",
   "execution_count": 21,
   "metadata": {},
   "outputs": [],
   "source": [
    "years = header.split()"
   ]
  },
  {
   "cell_type": "code",
   "execution_count": 22,
   "metadata": {},
   "outputs": [
    {
     "data": {
      "text/plain": [
       "['2009', '2010', '2011', '2012', '2013', '2014', '2015']"
      ]
     },
     "execution_count": 22,
     "metadata": {},
     "output_type": "execute_result"
    }
   ],
   "source": [
    "years"
   ]
  },
  {
   "cell_type": "markdown",
   "metadata": {},
   "source": [
    "### Costruzione della lista dei mesi"
   ]
  },
  {
   "cell_type": "code",
   "execution_count": 31,
   "metadata": {},
   "outputs": [],
   "source": [
    "months = [row.split()[0] for row in file_rows]"
   ]
  },
  {
   "cell_type": "code",
   "execution_count": 32,
   "metadata": {},
   "outputs": [
    {
     "data": {
      "text/plain": [
       "['Gennaio',\n",
       " 'Febbraio',\n",
       " 'Marzo',\n",
       " 'Aprile',\n",
       " 'Maggio',\n",
       " 'Giugno',\n",
       " 'Luglio',\n",
       " 'Agosto',\n",
       " 'Settembre',\n",
       " 'Ottobre',\n",
       " 'Novembre',\n",
       " 'Dicembre']"
      ]
     },
     "execution_count": 32,
     "metadata": {},
     "output_type": "execute_result"
    }
   ],
   "source": [
    "months"
   ]
  },
  {
   "cell_type": "markdown",
   "metadata": {},
   "source": [
    "### Costruzione della matrice delle piogge"
   ]
  },
  {
   "cell_type": "code",
   "execution_count": 38,
   "metadata": {},
   "outputs": [],
   "source": [
    "rains_per_month = [list(map(int, row.split()[1:])) for row in file_rows]"
   ]
  },
  {
   "cell_type": "code",
   "execution_count": 39,
   "metadata": {},
   "outputs": [
    {
     "data": {
      "text/plain": [
       "[[75, 63, 65, 50, 77, 66, 69],\n",
       " [64, 65, 65, 67, 50, 54, 58],\n",
       " [81, 77, 73, 80, 83, 89, 100],\n",
       " [89, 90, 85, 90, 90, 84, 90],\n",
       " [120, 129, 113, 120, 135, 117, 130],\n",
       " [113, 99, 116, 114, 111, 119, 100],\n",
       " [111, 105, 98, 112, 113, 102, 100],\n",
       " [129, 131, 120, 111, 141, 130, 126],\n",
       " [90, 85, 101, 88, 89, 94, 91],\n",
       " [109, 122, 103, 119, 98, 101, 107],\n",
       " [111, 121, 101, 104, 121, 115, 104],\n",
       " [56, 67, 44, 58, 61, 64, 58]]"
      ]
     },
     "execution_count": 39,
     "metadata": {},
     "output_type": "execute_result"
    }
   ],
   "source": [
    "rains_per_month"
   ]
  },
  {
   "cell_type": "code",
   "execution_count": 40,
   "metadata": {},
   "outputs": [],
   "source": [
    "import numpy as np"
   ]
  },
  {
   "cell_type": "code",
   "execution_count": 43,
   "metadata": {},
   "outputs": [],
   "source": [
    "#help(np)"
   ]
  },
  {
   "cell_type": "code",
   "execution_count": 45,
   "metadata": {},
   "outputs": [],
   "source": [
    "rains_per_month = np.array(rains_per_month)"
   ]
  },
  {
   "cell_type": "code",
   "execution_count": 46,
   "metadata": {},
   "outputs": [
    {
     "data": {
      "text/plain": [
       "array([[ 75,  63,  65,  50,  77,  66,  69],\n",
       "       [ 64,  65,  65,  67,  50,  54,  58],\n",
       "       [ 81,  77,  73,  80,  83,  89, 100],\n",
       "       [ 89,  90,  85,  90,  90,  84,  90],\n",
       "       [120, 129, 113, 120, 135, 117, 130],\n",
       "       [113,  99, 116, 114, 111, 119, 100],\n",
       "       [111, 105,  98, 112, 113, 102, 100],\n",
       "       [129, 131, 120, 111, 141, 130, 126],\n",
       "       [ 90,  85, 101,  88,  89,  94,  91],\n",
       "       [109, 122, 103, 119,  98, 101, 107],\n",
       "       [111, 121, 101, 104, 121, 115, 104],\n",
       "       [ 56,  67,  44,  58,  61,  64,  58]])"
      ]
     },
     "execution_count": 46,
     "metadata": {},
     "output_type": "execute_result"
    }
   ],
   "source": [
    "rains_per_month"
   ]
  },
  {
   "cell_type": "markdown",
   "metadata": {},
   "source": [
    "### Trasposta della matrice delle piogge"
   ]
  },
  {
   "cell_type": "code",
   "execution_count": 48,
   "metadata": {},
   "outputs": [],
   "source": [
    "rains_per_year = np.transpose(rains_per_month)"
   ]
  },
  {
   "cell_type": "code",
   "execution_count": 49,
   "metadata": {},
   "outputs": [
    {
     "data": {
      "text/plain": [
       "array([[ 75,  64,  81,  89, 120, 113, 111, 129,  90, 109, 111,  56],\n",
       "       [ 63,  65,  77,  90, 129,  99, 105, 131,  85, 122, 121,  67],\n",
       "       [ 65,  65,  73,  85, 113, 116,  98, 120, 101, 103, 101,  44],\n",
       "       [ 50,  67,  80,  90, 120, 114, 112, 111,  88, 119, 104,  58],\n",
       "       [ 77,  50,  83,  90, 135, 111, 113, 141,  89,  98, 121,  61],\n",
       "       [ 66,  54,  89,  84, 117, 119, 102, 130,  94, 101, 115,  64],\n",
       "       [ 69,  58, 100,  90, 130, 100, 100, 126,  91, 107, 104,  58]])"
      ]
     },
     "execution_count": 49,
     "metadata": {},
     "output_type": "execute_result"
    }
   ],
   "source": [
    "rains_per_year"
   ]
  },
  {
   "cell_type": "markdown",
   "metadata": {},
   "source": [
    "### Piogge medie mensili"
   ]
  },
  {
   "cell_type": "markdown",
   "metadata": {},
   "source": [
    "#### a) Costruzione della lista delle piogge medie mensili"
   ]
  },
  {
   "cell_type": "code",
   "execution_count": 51,
   "metadata": {},
   "outputs": [],
   "source": [
    "avg_rain_list = [np.mean(row) for row in rains_per_month]"
   ]
  },
  {
   "cell_type": "code",
   "execution_count": 52,
   "metadata": {},
   "outputs": [
    {
     "data": {
      "text/plain": [
       "[66.42857142857143,\n",
       " 60.42857142857143,\n",
       " 83.28571428571429,\n",
       " 88.28571428571429,\n",
       " 123.42857142857143,\n",
       " 110.28571428571429,\n",
       " 105.85714285714286,\n",
       " 126.85714285714286,\n",
       " 91.14285714285714,\n",
       " 108.42857142857143,\n",
       " 111.0,\n",
       " 58.285714285714285]"
      ]
     },
     "execution_count": 52,
     "metadata": {},
     "output_type": "execute_result"
    }
   ],
   "source": [
    "avg_rain_list"
   ]
  },
  {
   "cell_type": "markdown",
   "metadata": {},
   "source": [
    "#### b) Output delle piogge medie mensili\n",
    "\n",
    "Produrre il seguente output (stdout)\n",
    "\n",
    "    GEN -> 66.42857142857143\n",
    "    FEB -> 60.42857142857143\n",
    "    MAR -> 83.28571428571429\n",
    "    APR -> 88.28571428571429\n",
    "    MAG -> 123.42857142857143\n",
    "    GIU -> 110.28571428571429\n",
    "    LUG -> 105.85714285714286\n",
    "    AGO -> 126.85714285714286\n",
    "    SET -> 91.14285714285714\n",
    "    OTT -> 108.42857142857143\n",
    "    NOV -> 111.0\n",
    "    DIC -> 58.285714285714285"
   ]
  },
  {
   "cell_type": "code",
   "execution_count": 54,
   "metadata": {},
   "outputs": [],
   "source": [
    "months = [month.upper()[:3] for month in months]"
   ]
  },
  {
   "cell_type": "code",
   "execution_count": 55,
   "metadata": {},
   "outputs": [
    {
     "data": {
      "text/plain": [
       "['GEN',\n",
       " 'FEB',\n",
       " 'MAR',\n",
       " 'APR',\n",
       " 'MAG',\n",
       " 'GIU',\n",
       " 'LUG',\n",
       " 'AGO',\n",
       " 'SET',\n",
       " 'OTT',\n",
       " 'NOV',\n",
       " 'DIC']"
      ]
     },
     "execution_count": 55,
     "metadata": {},
     "output_type": "execute_result"
    }
   ],
   "source": [
    "months"
   ]
  },
  {
   "cell_type": "code",
   "execution_count": 58,
   "metadata": {},
   "outputs": [],
   "source": [
    "avg_output_list = list(zip(months, avg_rain_list))"
   ]
  },
  {
   "cell_type": "code",
   "execution_count": 60,
   "metadata": {},
   "outputs": [
    {
     "name": "stdout",
     "output_type": "stream",
     "text": [
      "GEN  ->  66.42857142857143\n",
      "FEB  ->  60.42857142857143\n",
      "MAR  ->  83.28571428571429\n",
      "APR  ->  88.28571428571429\n",
      "MAG  ->  123.42857142857143\n",
      "GIU  ->  110.28571428571429\n",
      "LUG  ->  105.85714285714286\n",
      "AGO  ->  126.85714285714286\n",
      "SET  ->  91.14285714285714\n",
      "OTT  ->  108.42857142857143\n",
      "NOV  ->  111.0\n",
      "DIC  ->  58.285714285714285\n"
     ]
    }
   ],
   "source": [
    "for (month, avg_rain) in avg_output_list:\n",
    "    print(month, ' -> ', avg_rain)"
   ]
  },
  {
   "cell_type": "markdown",
   "metadata": {},
   "source": [
    "### Piogge totali annue"
   ]
  },
  {
   "cell_type": "markdown",
   "metadata": {},
   "source": [
    "#### a) Costruzione della lista delle piogge totali annue"
   ]
  },
  {
   "cell_type": "code",
   "execution_count": 63,
   "metadata": {},
   "outputs": [],
   "source": [
    "year_total_rain = [sum(row) for row in rains_per_year]"
   ]
  },
  {
   "cell_type": "code",
   "execution_count": 64,
   "metadata": {},
   "outputs": [
    {
     "data": {
      "text/plain": [
       "[1148, 1154, 1084, 1113, 1169, 1135, 1133]"
      ]
     },
     "execution_count": 64,
     "metadata": {},
     "output_type": "execute_result"
    }
   ],
   "source": [
    "year_total_rain"
   ]
  },
  {
   "cell_type": "markdown",
   "metadata": {},
   "source": [
    "---\n",
    "\n",
    "#### b) Ouput delle piogge totali annue\n",
    "\n",
    "Produrre il seguente output (stdout)\n",
    "\n",
    "    2009 -> 1148\n",
    "    2010 -> 1154\n",
    "    2011 -> 1084\n",
    "    2012 -> 1113\n",
    "    2013 -> 1169\n",
    "    2014 -> 1135\n",
    "    2015 -> 1133"
   ]
  },
  {
   "cell_type": "code",
   "execution_count": 67,
   "metadata": {},
   "outputs": [],
   "source": [
    "total_ouput_list = list(zip(years, year_total_rain))"
   ]
  },
  {
   "cell_type": "code",
   "execution_count": 68,
   "metadata": {},
   "outputs": [
    {
     "name": "stdout",
     "output_type": "stream",
     "text": [
      "2009  ->  1148\n",
      "2010  ->  1154\n",
      "2011  ->  1084\n",
      "2012  ->  1113\n",
      "2013  ->  1169\n",
      "2014  ->  1135\n",
      "2015  ->  1133\n"
     ]
    }
   ],
   "source": [
    "for (year, total_rain) in total_ouput_list:\n",
    "    print(year, ' -> ', total_rain)"
   ]
  },
  {
   "cell_type": "markdown",
   "metadata": {},
   "source": [
    "### Numero di mesi per anno con pioggia oltre la soglia minima"
   ]
  },
  {
   "cell_type": "markdown",
   "metadata": {},
   "source": [
    "#### a) Costruzione della lista del numero di mesi (per anno) con pioggia oltre la soglia minima"
   ]
  },
  {
   "cell_type": "code",
   "execution_count": 72,
   "metadata": {},
   "outputs": [],
   "source": [
    "year_total_rain = [count_values_greater_than(row, rain_threshold) for row in rains_per_year]"
   ]
  },
  {
   "cell_type": "code",
   "execution_count": 73,
   "metadata": {},
   "outputs": [
    {
     "data": {
      "text/plain": [
       "[6, 5, 6, 6, 5, 6, 4]"
      ]
     },
     "execution_count": 73,
     "metadata": {},
     "output_type": "execute_result"
    }
   ],
   "source": [
    "year_total_rain"
   ]
  },
  {
   "cell_type": "markdown",
   "metadata": {},
   "source": [
    "#### b) Output del numero di mesi (per anno) con pioggia oltre la soglia minima\n",
    "\n",
    "Produrre il seguente output (stdout)\n",
    "\n",
    "    2009 -> 6\n",
    "    2010 -> 5\n",
    "    2011 -> 6\n",
    "    2012 -> 6\n",
    "    2013 -> 5\n",
    "    2014 -> 6\n",
    "    2015 -> 4"
   ]
  },
  {
   "cell_type": "code",
   "execution_count": 75,
   "metadata": {},
   "outputs": [],
   "source": [
    "num_ouput_list = list(zip(years, year_total_rain))"
   ]
  },
  {
   "cell_type": "code",
   "execution_count": 76,
   "metadata": {},
   "outputs": [
    {
     "name": "stdout",
     "output_type": "stream",
     "text": [
      "2009  ->  6\n",
      "2010  ->  5\n",
      "2011  ->  6\n",
      "2012  ->  6\n",
      "2013  ->  5\n",
      "2014  ->  6\n",
      "2015  ->  4\n"
     ]
    }
   ],
   "source": [
    "for (year, num_rain) in num_ouput_list:\n",
    "    print(year, ' -> ', num_rain)"
   ]
  }
 ],
 "metadata": {
  "kernelspec": {
   "display_name": "Python 3 (ipykernel)",
   "language": "python",
   "name": "python3"
  },
  "language_info": {
   "codemirror_mode": {
    "name": "ipython",
    "version": 3
   },
   "file_extension": ".py",
   "mimetype": "text/x-python",
   "name": "python",
   "nbconvert_exporter": "python",
   "pygments_lexer": "ipython3",
   "version": "3.9.15"
  }
 },
 "nbformat": 4,
 "nbformat_minor": 2
}
