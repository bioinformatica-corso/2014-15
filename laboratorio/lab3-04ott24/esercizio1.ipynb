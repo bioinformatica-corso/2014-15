{
 "cells": [
  {
   "cell_type": "markdown",
   "metadata": {},
   "source": [
    "# Esercizio1"
   ]
  },
  {
   "cell_type": "raw",
   "metadata": {},
   "source": [
    "                2009\t2010\t2011\t2012\t2013\t2014\t2015\n",
    "    Gennaio\t\t75\t\t63\t\t65\t\t50\t\t77\t\t66\t\t69\n",
    "    Febbraio\t64\t\t65\t\t65\t\t67\t\t50\t\t54\t\t58\n",
    "    Marzo\t\t81\t\t77\t\t73\t\t80\t\t83\t\t89\t\t100\n",
    "    Aprile\t\t89\t\t90\t\t85\t\t90\t\t90\t\t84\t\t90\n",
    "    Maggio\t\t120\t\t129\t\t113\t\t120\t\t135\t\t117\t\t130\n",
    "    Giugno\t\t113\t\t99\t\t116\t\t114\t\t111\t\t119\t\t100\n",
    "    Luglio\t\t111\t\t105\t\t98\t\t112\t\t113\t\t102\t\t100\n",
    "    Agosto\t\t129\t\t131\t\t120\t\t111\t\t141\t\t130\t\t126\n",
    "    Settembre\t90\t\t85\t\t101\t\t88\t\t89\t\t94\t\t91\n",
    "    Ottobre\t\t109\t\t122\t\t103\t\t119\t\t98\t\t101\t\t107\n",
    "    Novembre\t111\t\t121\t\t101\t\t104\t\t121\t\t115\t\t104\n",
    "    Dicembre\t56\t\t67\t\t44\t\t58\t\t61\t\t64\t\t58"
   ]
  },
  {
   "cell_type": "markdown",
   "metadata": {},
   "source": [
    "Si consideri il dataset delle piogge mensili (mm) nei sette anni dal 2009 al 2015, che ha il seguente formato: 13 record di campi separati da tabulazione di cui il primo è il record di intestazione degli anni (composto da 7 campi) e gli altri 12 sono i record delle piogge mensili (un record per ciascun mese).\n",
    "Ogni record è composto di 8 campi, di cui il primo è il nome del mese e i rimanenti 7 sono le piogge mensili lungo gli anni.\n",
    "\n",
    "Si richiede di determinare:\n",
    "\n",
    "- per ogni mese, la pioggia media lungo gli anni\n",
    "- per ogni anno, la pioggia totale\n",
    "- per ogni anno, il numero di mesi con pioggia oltre una certa soglia (parametro in input)\n",
    "\n",
    "---\n",
    "\n",
    "Parametri di input:\n",
    "- dataset delle piogge\n",
    "- soglia minima di pioggia\n",
    "\n",
    "---"
   ]
  },
  {
   "cell_type": "markdown",
   "metadata": {},
   "source": [
    "### Parametri di input"
   ]
  },
  {
   "cell_type": "code",
   "execution_count": null,
   "metadata": {},
   "outputs": [],
   "source": []
  },
  {
   "cell_type": "markdown",
   "metadata": {},
   "source": [
    "### Definizione di una funzione che conta i valori di una lista oltre una certa soglia"
   ]
  },
  {
   "cell_type": "code",
   "execution_count": null,
   "metadata": {},
   "outputs": [],
   "source": []
  },
  {
   "cell_type": "markdown",
   "metadata": {},
   "source": [
    "### Lettura del dataset"
   ]
  },
  {
   "cell_type": "markdown",
   "metadata": {},
   "source": [
    "- Funzione `open(file_name, 'r')` per ottenere l'*handle* in lettura al file\n",
    "- Metodo `readlines()` per leggere il canale invocante in una lista di stringhe\n",
    "- Metodo `close()` per chiudere l'*handle* invocante"
   ]
  },
  {
   "cell_type": "code",
   "execution_count": null,
   "metadata": {},
   "outputs": [],
   "source": []
  },
  {
   "cell_type": "markdown",
   "metadata": {},
   "source": [
    "### Costruzione della lista degli anni rilevati"
   ]
  },
  {
   "cell_type": "code",
   "execution_count": null,
   "metadata": {},
   "outputs": [],
   "source": []
  },
  {
   "cell_type": "code",
   "execution_count": 84,
   "metadata": {},
   "outputs": [
    {
     "data": {
      "text/plain": [
       "['2009', '2010', '2011', '2012', '2013', '2014', '2015']"
      ]
     },
     "execution_count": 84,
     "metadata": {},
     "output_type": "execute_result"
    }
   ],
   "source": [
    "years"
   ]
  },
  {
   "cell_type": "markdown",
   "metadata": {},
   "source": [
    "### Costruzione della lista dei mesi"
   ]
  },
  {
   "cell_type": "code",
   "execution_count": null,
   "metadata": {},
   "outputs": [],
   "source": []
  },
  {
   "cell_type": "code",
   "execution_count": 87,
   "metadata": {},
   "outputs": [
    {
     "data": {
      "text/plain": [
       "['Gennaio',\n",
       " 'Febbraio',\n",
       " 'Marzo',\n",
       " 'Aprile',\n",
       " 'Maggio',\n",
       " 'Giugno',\n",
       " 'Luglio',\n",
       " 'Agosto',\n",
       " 'Settembre',\n",
       " 'Ottobre',\n",
       " 'Novembre',\n",
       " 'Dicembre']"
      ]
     },
     "execution_count": 87,
     "metadata": {},
     "output_type": "execute_result"
    }
   ],
   "source": [
    "months"
   ]
  },
  {
   "cell_type": "markdown",
   "metadata": {},
   "source": [
    "### Costruzione della matrice delle piogge"
   ]
  },
  {
   "cell_type": "code",
   "execution_count": null,
   "metadata": {},
   "outputs": [],
   "source": []
  },
  {
   "cell_type": "markdown",
   "metadata": {},
   "source": [
    "### Trasposta della matrice delle piogge"
   ]
  },
  {
   "cell_type": "code",
   "execution_count": null,
   "metadata": {},
   "outputs": [],
   "source": []
  },
  {
   "cell_type": "markdown",
   "metadata": {},
   "source": [
    "### Piogge medie mensili"
   ]
  },
  {
   "cell_type": "markdown",
   "metadata": {},
   "source": [
    "#### a) Costruzione della lista delle piogge medie mensili"
   ]
  },
  {
   "cell_type": "code",
   "execution_count": null,
   "metadata": {},
   "outputs": [],
   "source": []
  },
  {
   "cell_type": "code",
   "execution_count": 97,
   "metadata": {},
   "outputs": [
    {
     "data": {
      "text/plain": [
       "[66.42857142857143,\n",
       " 60.42857142857143,\n",
       " 83.28571428571429,\n",
       " 88.28571428571429,\n",
       " 123.42857142857143,\n",
       " 110.28571428571429,\n",
       " 105.85714285714286,\n",
       " 126.85714285714286,\n",
       " 91.14285714285714,\n",
       " 108.42857142857143,\n",
       " 111.0,\n",
       " 58.285714285714285]"
      ]
     },
     "execution_count": 97,
     "metadata": {},
     "output_type": "execute_result"
    }
   ],
   "source": [
    "avg_rain_list"
   ]
  },
  {
   "cell_type": "markdown",
   "metadata": {},
   "source": [
    "#### b) Output delle piogge medie mensili\n",
    "\n",
    "Produrre il seguente output (stdout)\n",
    "\n",
    "    GEN -> 66.42857142857143\n",
    "    FEB -> 60.42857142857143\n",
    "    MAR -> 83.28571428571429\n",
    "    APR -> 88.28571428571429\n",
    "    MAG -> 123.42857142857143\n",
    "    GIU -> 110.28571428571429\n",
    "    LUG -> 105.85714285714286\n",
    "    AGO -> 126.85714285714286\n",
    "    SET -> 91.14285714285714\n",
    "    OTT -> 108.42857142857143\n",
    "    NOV -> 111.0\n",
    "    DIC -> 58.285714285714285"
   ]
  },
  {
   "cell_type": "code",
   "execution_count": 111,
   "metadata": {},
   "outputs": [],
   "source": []
  },
  {
   "cell_type": "markdown",
   "metadata": {},
   "source": [
    "### Piogge totali annue"
   ]
  },
  {
   "cell_type": "markdown",
   "metadata": {},
   "source": [
    "#### a) Costruzione della lista delle piogge totali annue"
   ]
  },
  {
   "cell_type": "code",
   "execution_count": null,
   "metadata": {},
   "outputs": [],
   "source": []
  },
  {
   "cell_type": "code",
   "execution_count": 102,
   "metadata": {},
   "outputs": [
    {
     "data": {
      "text/plain": [
       "[1148, 1154, 1084, 1113, 1169, 1135, 1133]"
      ]
     },
     "execution_count": 102,
     "metadata": {},
     "output_type": "execute_result"
    }
   ],
   "source": [
    "year_total_rain"
   ]
  },
  {
   "cell_type": "markdown",
   "metadata": {},
   "source": [
    "---\n",
    "\n",
    "#### b) Ouput delle piogge totali annue\n",
    "\n",
    "Produrre il seguente output (stdout)\n",
    "\n",
    "    2009 -> 1148\n",
    "    2010 -> 1154\n",
    "    2011 -> 1084\n",
    "    2012 -> 1113\n",
    "    2013 -> 1169\n",
    "    2014 -> 1135\n",
    "    2015 -> 1133"
   ]
  },
  {
   "cell_type": "code",
   "execution_count": null,
   "metadata": {},
   "outputs": [],
   "source": []
  },
  {
   "cell_type": "markdown",
   "metadata": {},
   "source": [
    "### Numero di mesi per anno con pioggia oltre la soglia minima"
   ]
  },
  {
   "cell_type": "markdown",
   "metadata": {},
   "source": [
    "#### a) Costruzione della lista del numero di mesi (per anno) con pioggia oltre la soglia minima"
   ]
  },
  {
   "cell_type": "code",
   "execution_count": null,
   "metadata": {},
   "outputs": [],
   "source": []
  },
  {
   "cell_type": "code",
   "execution_count": 116,
   "metadata": {},
   "outputs": [
    {
     "data": {
      "text/plain": [
       "[6, 5, 6, 6, 5, 6, 4]"
      ]
     },
     "execution_count": 116,
     "metadata": {},
     "output_type": "execute_result"
    }
   ],
   "source": [
    "year_count"
   ]
  },
  {
   "cell_type": "markdown",
   "metadata": {},
   "source": [
    "#### b) Output del numero di mesi (per anno) con pioggia oltre la soglia minima\n",
    "\n",
    "Produrre il seguente output (stdout)\n",
    "\n",
    "    2009 -> 6\n",
    "    2010 -> 5\n",
    "    2011 -> 6\n",
    "    2012 -> 6\n",
    "    2013 -> 5\n",
    "    2014 -> 6\n",
    "    2015 -> 4"
   ]
  },
  {
   "cell_type": "code",
   "execution_count": null,
   "metadata": {},
   "outputs": [],
   "source": []
  }
 ],
 "metadata": {
  "kernelspec": {
   "display_name": "Python 3 (ipykernel)",
   "language": "python",
   "name": "python3"
  },
  "language_info": {
   "codemirror_mode": {
    "name": "ipython",
    "version": 3
   },
   "file_extension": ".py",
   "mimetype": "text/x-python",
   "name": "python",
   "nbconvert_exporter": "python",
   "pygments_lexer": "ipython3",
   "version": "3.9.15"
  }
 },
 "nbformat": 4,
 "nbformat_minor": 2
}
