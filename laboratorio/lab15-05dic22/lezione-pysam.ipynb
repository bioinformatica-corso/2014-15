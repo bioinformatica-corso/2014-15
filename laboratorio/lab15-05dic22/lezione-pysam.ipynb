{
 "cells": [
  {
   "cell_type": "markdown",
   "metadata": {},
   "source": [
    "# Modulo pysam per formato SAM/BAM\n",
    "\n",
    "`pysam` è il modulo Python che mette a disposizione le funzionalità per manipolare file in formato SAM/BAM."
   ]
  },
  {
   "cell_type": "markdown",
   "metadata": {},
   "source": [
    "Importare il modulo `pysam`"
   ]
  },
  {
   "cell_type": "code",
   "execution_count": 61,
   "metadata": {},
   "outputs": [],
   "source": [
    "import pysam"
   ]
  },
  {
   "cell_type": "markdown",
   "metadata": {},
   "source": [
    "## 1) Leggere gli allineamenti da un file `SAM/BAM`\n",
    "\n",
    "La classe `AlignmentFile` è la classe che rappresenta un set di allineamenti di *queries* (sequenze corte) a *references* (sequenze lunghe).\n",
    "\n",
    "Un oggetto di tipo `AlignmentFile` è ottenuto a partire da un file SAM/BAM nel seguente modo: \n",
    "\n",
    "    sam_file = AlignmentFile(sam_file_name, 'r')\n",
    "    bam_file = AlignmentFile(bam_file_name, 'rb')"
   ]
  },
  {
   "cell_type": "markdown",
   "metadata": {},
   "source": [
    "Importare la classe `AlignmentFile`."
   ]
  },
  {
   "cell_type": "code",
   "execution_count": 62,
   "metadata": {},
   "outputs": [],
   "source": [
    "from pysam import AlignmentFile"
   ]
  },
  {
   "cell_type": "code",
   "execution_count": 63,
   "metadata": {},
   "outputs": [
    {
     "name": "stdout",
     "output_type": "stream",
     "text": [
      "Help on class AlignmentFile in module pysam.libcalignmentfile:\n",
      "\n",
      "class AlignmentFile(pysam.libchtslib.HTSFile)\n",
      " |  AlignmentFile(filepath_or_object, mode=None, template=None,\n",
      " |  reference_names=None, reference_lengths=None, text=NULL,\n",
      " |  header=None, add_sq_text=False, check_header=True, check_sq=True,\n",
      " |  reference_filename=None, filename=None, index_filename=None,\n",
      " |  filepath_index=None, require_index=False, duplicate_filehandle=True,\n",
      " |  ignore_truncation=False, threads=1)\n",
      " |  \n",
      " |  A :term:`SAM`/:term:`BAM`/:term:`CRAM` formatted file.\n",
      " |  \n",
      " |  If `filepath_or_object` is a string, the file is automatically\n",
      " |  opened. If `filepath_or_object` is a python File object, the\n",
      " |  already opened file will be used.\n",
      " |  \n",
      " |  If the file is opened for reading and an index exists (if file is BAM, a\n",
      " |  .bai file or if CRAM a .crai file), it will be opened automatically.\n",
      " |  `index_filename` may be specified explicitly. If the index is not named\n",
      " |  in the standard manner, not located in the same directory as the\n",
      " |  BAM/CRAM file, or is remote.  Without an index, random access via\n",
      " |  :meth:`~pysam.AlignmentFile.fetch` and :meth:`~pysam.AlignmentFile.pileup`\n",
      " |  is disabled.\n",
      " |  \n",
      " |  For writing, the header of a :term:`SAM` file/:term:`BAM` file can\n",
      " |  be constituted from several sources (see also the samtools format\n",
      " |  specification):\n",
      " |  \n",
      " |      1. If `template` is given, the header is copied from another\n",
      " |         `AlignmentFile` (`template` must be a\n",
      " |         :class:`~pysam.AlignmentFile`).\n",
      " |  \n",
      " |      2. If `header` is given, the header is built from a\n",
      " |         multi-level dictionary.\n",
      " |  \n",
      " |      3. If `text` is given, new header text is copied from raw\n",
      " |         text.\n",
      " |  \n",
      " |      4. The names (`reference_names`) and lengths\n",
      " |         (`reference_lengths`) are supplied directly as lists.\n",
      " |  \n",
      " |  When reading or writing a CRAM file, the filename of a FASTA-formatted\n",
      " |  reference can be specified with `reference_filename`.\n",
      " |  \n",
      " |  By default, if a file is opened in mode 'r', it is checked\n",
      " |  for a valid header (`check_header` = True) and a definition of\n",
      " |  chromosome names (`check_sq` = True).\n",
      " |  \n",
      " |  Parameters\n",
      " |  ----------\n",
      " |  mode : string\n",
      " |      `mode` should be ``r`` for reading or ``w`` for writing. The\n",
      " |      default is text mode (:term:`SAM`). For binary (:term:`BAM`)\n",
      " |      I/O you should append ``b`` for compressed or ``u`` for\n",
      " |      uncompressed :term:`BAM` output.  Use ``h`` to output header\n",
      " |      information in text (:term:`TAM`) mode. Use ``c`` for\n",
      " |      :term:`CRAM` formatted files.\n",
      " |  \n",
      " |      If ``b`` is present, it must immediately follow ``r`` or\n",
      " |      ``w``.  Valid modes are ``r``, ``w``, ``wh``, ``rb``, ``wb``,\n",
      " |      ``wbu``, ``wb0``, ``rc`` and ``wc``. For instance, to open a\n",
      " |      :term:`BAM` formatted file for reading, type::\n",
      " |  \n",
      " |         f = pysam.AlignmentFile('ex1.bam','rb')\n",
      " |  \n",
      " |      If mode is not specified, the method will try to auto-detect\n",
      " |      in the order 'rb', 'r', thus both the following should work::\n",
      " |  \n",
      " |          f1 = pysam.AlignmentFile('ex1.bam')\n",
      " |          f2 = pysam.AlignmentFile('ex1.sam')\n",
      " |  \n",
      " |  template : AlignmentFile\n",
      " |      when writing, copy header from file `template`.\n",
      " |  \n",
      " |  header :  dict or AlignmentHeader\n",
      " |      when writing, build header from a multi-level dictionary. The\n",
      " |      first level are the four types ('HD', 'SQ', ...). The second\n",
      " |      level are a list of lines, with each line being a list of\n",
      " |      tag-value pairs. The header is constructed first from all the\n",
      " |      defined fields, followed by user tags in alphabetical\n",
      " |      order. Alternatively, an :class:`~pysam.AlignmentHeader`\n",
      " |      object can be passed directly.\n",
      " |  \n",
      " |  text : string\n",
      " |      when writing, use the string provided as the header\n",
      " |  \n",
      " |  reference_names : list\n",
      " |      see reference_lengths\n",
      " |  \n",
      " |  reference_lengths : list\n",
      " |      when writing or opening a SAM file without header build header\n",
      " |      from list of chromosome names and lengths.  By default, 'SQ'\n",
      " |      and 'LN' tags will be added to the header text. This option\n",
      " |      can be changed by unsetting the flag `add_sq_text`.\n",
      " |  \n",
      " |  add_sq_text : bool\n",
      " |      do not add 'SQ' and 'LN' tags to header. This option permits\n",
      " |      construction :term:`SAM` formatted files without a header.\n",
      " |  \n",
      " |  add_sam_header : bool\n",
      " |      when outputting SAM the default is to output a header. This is\n",
      " |      equivalent to opening the file in 'wh' mode. If this option is\n",
      " |      set to False, no header will be output. To read such a file,\n",
      " |      set `check_header=False`.\n",
      " |  \n",
      " |  check_header : bool\n",
      " |      obsolete: when reading a SAM file, check if header is present\n",
      " |      (default=True)\n",
      " |  \n",
      " |  check_sq : bool\n",
      " |      when reading, check if SQ entries are present in header\n",
      " |      (default=True)\n",
      " |  \n",
      " |  reference_filename : string\n",
      " |      Path to a FASTA-formatted reference file. Valid only for CRAM files.\n",
      " |      When reading a CRAM file, this overrides both ``$REF_PATH`` and the URL\n",
      " |      specified in the header (``UR`` tag), which are normally used to find\n",
      " |      the reference.\n",
      " |  \n",
      " |  index_filename : string\n",
      " |      Explicit path to the index file.  Only needed if the index is not\n",
      " |      named in the standard manner, not located in the same directory as\n",
      " |      the BAM/CRAM file, or is remote.  An IOError is raised if the index\n",
      " |      cannot be found or is invalid.\n",
      " |  \n",
      " |  filepath_index : string\n",
      " |      Alias for `index_filename`.\n",
      " |  \n",
      " |  require_index : bool\n",
      " |      When reading, require that an index file is present and is valid or\n",
      " |      raise an IOError.  (default=False)\n",
      " |  \n",
      " |  filename : string\n",
      " |      Alternative to filepath_or_object. Filename of the file\n",
      " |      to be opened.\n",
      " |  \n",
      " |  duplicate_filehandle: bool\n",
      " |      By default, file handles passed either directly or through\n",
      " |      File-like objects will be duplicated before passing them to\n",
      " |      htslib. The duplication prevents issues where the same stream\n",
      " |      will be closed by htslib and through destruction of the\n",
      " |      high-level python object. Set to False to turn off\n",
      " |      duplication.\n",
      " |  \n",
      " |  ignore_truncation: bool\n",
      " |      Issue a warning, instead of raising an error if the current file\n",
      " |      appears to be truncated due to a missing EOF marker.  Only applies\n",
      " |      to bgzipped formats. (Default=False)\n",
      " |  \n",
      " |  format_options: list\n",
      " |      A list of key=value strings, as accepted by --input-fmt-option and\n",
      " |      --output-fmt-option in samtools.\n",
      " |  threads: integer\n",
      " |      Number of threads to use for compressing/decompressing BAM/CRAM files.\n",
      " |      Setting threads to > 1 cannot be combined with `ignore_truncation`.\n",
      " |      (Default=1)\n",
      " |  \n",
      " |  Method resolution order:\n",
      " |      AlignmentFile\n",
      " |      pysam.libchtslib.HTSFile\n",
      " |      builtins.object\n",
      " |  \n",
      " |  Methods defined here:\n",
      " |  \n",
      " |  __enter__(...)\n",
      " |      AlignmentFile.__enter__(self)\n",
      " |  \n",
      " |  __exit__(...)\n",
      " |      AlignmentFile.__exit__(self, exc_type, exc_value, traceback)\n",
      " |  \n",
      " |  __iter__(self, /)\n",
      " |      Implement iter(self).\n",
      " |  \n",
      " |  __next__(...)\n",
      " |  \n",
      " |  __reduce__ = __reduce_cython__(...)\n",
      " |      AlignmentFile.__reduce_cython__(self)\n",
      " |  \n",
      " |  __setstate__ = __setstate_cython__(...)\n",
      " |      AlignmentFile.__setstate_cython__(self, __pyx_state)\n",
      " |  \n",
      " |  check_index(...)\n",
      " |      AlignmentFile.check_index(self)\n",
      " |      return True if index is present.\n",
      " |      \n",
      " |              Raises\n",
      " |              ------\n",
      " |      \n",
      " |              AttributeError\n",
      " |                  if htsfile is :term:`SAM` formatted and thus has no index.\n",
      " |      \n",
      " |              ValueError\n",
      " |                  if htsfile is closed or index could not be opened.\n",
      " |  \n",
      " |  close(...)\n",
      " |      AlignmentFile.close(self)\n",
      " |      closes the :class:`pysam.AlignmentFile`.\n",
      " |  \n",
      " |  count(...)\n",
      " |      AlignmentFile.count(self, contig=None, start=None, stop=None, region=None, until_eof=False, read_callback='nofilter', reference=None, end=None)\n",
      " |      count the number of reads in :term:`region`\n",
      " |      \n",
      " |              The region is specified by :term:`contig`, `start` and `stop`.\n",
      " |              :term:`reference` and `end` are also accepted for backward\n",
      " |              compatibility as synonyms for :term:`contig` and `stop`,\n",
      " |              respectively.  Alternatively, a `samtools`_ :term:`region`\n",
      " |              string can be supplied.\n",
      " |      \n",
      " |              A :term:`SAM` file does not allow random access and if\n",
      " |              `region` or `contig` are given, an exception is raised.\n",
      " |      \n",
      " |              Parameters\n",
      " |              ----------\n",
      " |      \n",
      " |              contig : string\n",
      " |                  reference_name of the genomic region (chromosome)\n",
      " |      \n",
      " |              start : int\n",
      " |                  start of the genomic region (0-based inclusive)\n",
      " |      \n",
      " |              stop : int\n",
      " |                  end of the genomic region (0-based exclusive)\n",
      " |      \n",
      " |              region : string\n",
      " |                  a region string in samtools format.\n",
      " |      \n",
      " |              until_eof : bool\n",
      " |                  count until the end of the file, possibly including\n",
      " |                  unmapped reads as well.\n",
      " |      \n",
      " |              read_callback: string or function\n",
      " |      \n",
      " |                  select a call-back to ignore reads when counting. It can\n",
      " |                  be either a string with the following values:\n",
      " |      \n",
      " |                  ``all``\n",
      " |                      skip reads in which any of the following\n",
      " |                      flags are set: BAM_FUNMAP, BAM_FSECONDARY, BAM_FQCFAIL,\n",
      " |                      BAM_FDUP\n",
      " |      \n",
      " |                  ``nofilter``\n",
      " |                      uses every single read\n",
      " |      \n",
      " |                  Alternatively, `read_callback` can be a function\n",
      " |                  ``check_read(read)`` that should return True only for\n",
      " |                  those reads that shall be included in the counting.\n",
      " |      \n",
      " |              reference : string\n",
      " |                  backward compatible synonym for `contig`\n",
      " |      \n",
      " |              end : int\n",
      " |                  backward compatible synonym for `stop`\n",
      " |      \n",
      " |              Raises\n",
      " |              ------\n",
      " |      \n",
      " |              ValueError\n",
      " |                  if the genomic coordinates are out of range or invalid.\n",
      " |  \n",
      " |  count_coverage(...)\n",
      " |      AlignmentFile.count_coverage(self, contig, start=None, stop=None, region=None, quality_threshold=15, read_callback='all', reference=None, end=None)\n",
      " |      count the coverage of genomic positions by reads in :term:`region`.\n",
      " |      \n",
      " |              The region is specified by :term:`contig`, `start` and `stop`.\n",
      " |              :term:`reference` and `end` are also accepted for backward\n",
      " |              compatibility as synonyms for :term:`contig` and `stop`,\n",
      " |              respectively.  Alternatively, a `samtools`_ :term:`region`\n",
      " |              string can be supplied.  The coverage is computed per-base [ACGT].\n",
      " |      \n",
      " |              Parameters\n",
      " |              ----------\n",
      " |      \n",
      " |              contig : string\n",
      " |                  reference_name of the genomic region (chromosome)\n",
      " |      \n",
      " |              start : int\n",
      " |                  start of the genomic region (0-based inclusive). If not\n",
      " |                  given, count from the start of the chromosome.\n",
      " |      \n",
      " |              stop : int\n",
      " |                  end of the genomic region (0-based exclusive). If not given,\n",
      " |                  count to the end of the chromosome.\n",
      " |      \n",
      " |              region : string\n",
      " |                  a region string.\n",
      " |      \n",
      " |              quality_threshold : int\n",
      " |                  quality_threshold is the minimum quality score (in phred) a\n",
      " |                  base has to reach to be counted.\n",
      " |      \n",
      " |              read_callback: string or function\n",
      " |      \n",
      " |                  select a call-back to ignore reads when counting. It can\n",
      " |                  be either a string with the following values:\n",
      " |      \n",
      " |                  ``all``\n",
      " |                      skip reads in which any of the following\n",
      " |                      flags are set: BAM_FUNMAP, BAM_FSECONDARY, BAM_FQCFAIL,\n",
      " |                      BAM_FDUP\n",
      " |      \n",
      " |                  ``nofilter``\n",
      " |                      uses every single read\n",
      " |      \n",
      " |                  Alternatively, `read_callback` can be a function\n",
      " |                  ``check_read(read)`` that should return True only for\n",
      " |                  those reads that shall be included in the counting.\n",
      " |      \n",
      " |              reference : string\n",
      " |                  backward compatible synonym for `contig`\n",
      " |      \n",
      " |              end : int\n",
      " |                  backward compatible synonym for `stop`\n",
      " |      \n",
      " |              Raises\n",
      " |              ------\n",
      " |      \n",
      " |              ValueError\n",
      " |                  if the genomic coordinates are out of range or invalid.\n",
      " |      \n",
      " |              Returns\n",
      " |              -------\n",
      " |      \n",
      " |              four array.arrays of the same length in order A C G T : tuple\n",
      " |  \n",
      " |  fetch(...)\n",
      " |      AlignmentFile.fetch(self, contig=None, start=None, stop=None, region=None, tid=None, until_eof=False, multiple_iterators=False, reference=None, end=None)\n",
      " |      fetch reads aligned in a :term:`region`.\n",
      " |      \n",
      " |              See :meth:`~pysam.HTSFile.parse_region` for more information\n",
      " |              on how genomic regions can be specified. :term:`reference` and\n",
      " |              `end` are also accepted for backward compatibility as synonyms\n",
      " |              for :term:`contig` and `stop`, respectively.\n",
      " |      \n",
      " |              Without a `contig` or `region` all mapped reads in the file\n",
      " |              will be fetched. The reads will be returned ordered by reference\n",
      " |              sequence, which will not necessarily be the order within the\n",
      " |              file. This mode of iteration still requires an index. If there is\n",
      " |              no index, use `until_eof=True`.\n",
      " |      \n",
      " |              If only `contig` is set, all reads aligned to `contig`\n",
      " |              will be fetched.\n",
      " |      \n",
      " |              A :term:`SAM` file does not allow random access. If `region`\n",
      " |              or `contig` are given, an exception is raised.\n",
      " |      \n",
      " |              Parameters\n",
      " |              ----------\n",
      " |      \n",
      " |              until_eof : bool\n",
      " |      \n",
      " |                 If `until_eof` is True, all reads from the current file\n",
      " |                 position will be returned in order as they are within the\n",
      " |                 file. Using this option will also fetch unmapped reads.\n",
      " |      \n",
      " |              multiple_iterators : bool\n",
      " |      \n",
      " |                 If `multiple_iterators` is True, multiple\n",
      " |                 iterators on the same file can be used at the same time. The\n",
      " |                 iterator returned will receive its own copy of a filehandle to\n",
      " |                 the file effectively re-opening the file. Re-opening a file\n",
      " |                 creates some overhead, so beware.\n",
      " |      \n",
      " |              Returns\n",
      " |              -------\n",
      " |      \n",
      " |                      An iterator over a collection of reads. : IteratorRow\n",
      " |      \n",
      " |              Raises\n",
      " |              ------\n",
      " |      \n",
      " |              ValueError\n",
      " |                  if the genomic coordinates are out of range or invalid or the\n",
      " |                  file does not permit random access to genomic coordinates.\n",
      " |  \n",
      " |  find_introns(...)\n",
      " |      AlignmentFile.find_introns(self, read_iterator)\n",
      " |      Return a dictionary {(start, stop): count}\n",
      " |              Listing the intronic sites in the reads (identified by 'N' in the cigar strings),\n",
      " |              and their support ( = number of reads ).\n",
      " |      \n",
      " |              read_iterator can be the result of a .fetch(...) call.\n",
      " |              Or it can be a generator filtering such reads. Example\n",
      " |              samfile.find_introns((read for read in samfile.fetch(...) if read.is_reverse)\n",
      " |  \n",
      " |  find_introns_slow(...)\n",
      " |      AlignmentFile.find_introns_slow(self, read_iterator)\n",
      " |      Return a dictionary {(start, stop): count}\n",
      " |              Listing the intronic sites in the reads (identified by 'N' in the cigar strings),\n",
      " |              and their support ( = number of reads ).\n",
      " |      \n",
      " |              read_iterator can be the result of a .fetch(...) call.\n",
      " |              Or it can be a generator filtering such reads. Example\n",
      " |              samfile.find_introns((read for read in samfile.fetch(...) if read.is_reverse)\n",
      " |  \n",
      " |  get_index_statistics(...)\n",
      " |      AlignmentFile.get_index_statistics(self)\n",
      " |      return statistics about mapped/unmapped reads per chromosome as\n",
      " |              they are stored in the index, similarly to the statistics printed\n",
      " |              by the ``samtools idxstats`` command.\n",
      " |      \n",
      " |              CRAI indexes do not record these statistics, so for a CRAM file\n",
      " |              with a .crai index the returned statistics will all be 0.\n",
      " |      \n",
      " |              Returns:\n",
      " |                  list :\n",
      " |                      a list of records for each chromosome. Each record has the\n",
      " |                      attributes 'contig', 'mapped', 'unmapped' and 'total'.\n",
      " |  \n",
      " |  get_reference_length(...)\n",
      " |      AlignmentFile.get_reference_length(self, reference)\n",
      " |      \n",
      " |      return :term:`reference` length corresponding to numerical :term:`tid`\n",
      " |  \n",
      " |  get_reference_name(...)\n",
      " |      AlignmentFile.get_reference_name(self, tid)\n",
      " |      \n",
      " |      return :term:`reference` name corresponding to numerical :term:`tid`\n",
      " |  \n",
      " |  get_tid(...)\n",
      " |      AlignmentFile.get_tid(self, reference)\n",
      " |      \n",
      " |      return the numerical :term:`tid` corresponding to\n",
      " |      :term:`reference`\n",
      " |      \n",
      " |      returns -1 if reference is not known.\n",
      " |  \n",
      " |  getrname(...)\n",
      " |      AlignmentFile.getrname(self, tid)\n",
      " |      deprecated, use :meth:`get_reference_name` instead\n",
      " |  \n",
      " |  gettid(...)\n",
      " |      AlignmentFile.gettid(self, reference)\n",
      " |      deprecated, use :meth:`get_tid` instead\n",
      " |  \n",
      " |  has_index(...)\n",
      " |      AlignmentFile.has_index(self)\n",
      " |      return true if htsfile has an existing (and opened) index.\n",
      " |  \n",
      " |  head(...)\n",
      " |      AlignmentFile.head(self, n, multiple_iterators=True)\n",
      " |      return an iterator over the first n alignments.\n",
      " |      \n",
      " |              This iterator is is useful for inspecting the bam-file.\n",
      " |      \n",
      " |              Parameters\n",
      " |              ----------\n",
      " |      \n",
      " |              multiple_iterators : bool\n",
      " |      \n",
      " |                  is set to True by default in order to\n",
      " |                  avoid changing the current file position.\n",
      " |      \n",
      " |              Returns\n",
      " |              -------\n",
      " |      \n",
      " |                      an iterator over a collection of reads : IteratorRowHead\n",
      " |  \n",
      " |  is_valid_tid(...)\n",
      " |      AlignmentFile.is_valid_tid(self, int tid)\n",
      " |      \n",
      " |      return True if the numerical :term:`tid` is valid; False otherwise.\n",
      " |      \n",
      " |      Note that the unmapped tid code (-1) counts as an invalid.\n",
      " |  \n",
      " |  mate(...)\n",
      " |      AlignmentFile.mate(self, AlignedSegment read)\n",
      " |      return the mate of :class:`pysam.AlignedSegment` `read`.\n",
      " |      \n",
      " |              .. note::\n",
      " |      \n",
      " |                  Calling this method will change the file position.\n",
      " |                  This might interfere with any iterators that have\n",
      " |                  not re-opened the file.\n",
      " |      \n",
      " |              .. note::\n",
      " |      \n",
      " |                 This method is too slow for high-throughput processing.\n",
      " |                 If a read needs to be processed with its mate, work\n",
      " |                 from a read name sorted file or, better, cache reads.\n",
      " |      \n",
      " |              Returns\n",
      " |              -------\n",
      " |      \n",
      " |              the mate : AlignedSegment\n",
      " |      \n",
      " |              Raises\n",
      " |              ------\n",
      " |      \n",
      " |              ValueError\n",
      " |                  if the read is unpaired or the mate is unmapped\n",
      " |  \n",
      " |  pileup(...)\n",
      " |      AlignmentFile.pileup(self, contig=None, start=None, stop=None, region=None, reference=None, end=None, **kwargs)\n",
      " |      perform a :term:`pileup` within a :term:`region`. The region is\n",
      " |              specified by :term:`contig`, `start` and `stop` (using\n",
      " |              0-based indexing).  :term:`reference` and `end` are also accepted for\n",
      " |              backward compatibility as synonyms for :term:`contig` and `stop`,\n",
      " |              respectively.  Alternatively, a samtools 'region' string\n",
      " |              can be supplied.\n",
      " |      \n",
      " |              Without 'contig' or 'region' all reads will be used for the\n",
      " |              pileup. The reads will be returned ordered by\n",
      " |              :term:`contig` sequence, which will not necessarily be the\n",
      " |              order within the file.\n",
      " |      \n",
      " |              Note that :term:`SAM` formatted files do not allow random\n",
      " |              access.  In these files, if a 'region' or 'contig' are\n",
      " |              given an exception is raised.\n",
      " |      \n",
      " |              .. note::\n",
      " |      \n",
      " |                  'all' reads which overlap the region are returned. The\n",
      " |                  first base returned will be the first base of the first\n",
      " |                  read 'not' necessarily the first base of the region used\n",
      " |                  in the query.\n",
      " |      \n",
      " |              Parameters\n",
      " |              ----------\n",
      " |      \n",
      " |              truncate : bool\n",
      " |      \n",
      " |                 By default, the samtools pileup engine outputs all reads\n",
      " |                 overlapping a region. If truncate is True and a region is\n",
      " |                 given, only columns in the exact region specified are\n",
      " |                 returned.\n",
      " |      \n",
      " |              max_depth : int\n",
      " |                 Maximum read depth permitted. The default limit is '8000'.\n",
      " |      \n",
      " |              stepper : string\n",
      " |                 The stepper controls how the iterator advances.\n",
      " |                 Possible options for the stepper are\n",
      " |      \n",
      " |                 ``all``\n",
      " |                    skip reads in which any of the following flags are set:\n",
      " |                    BAM_FUNMAP, BAM_FSECONDARY, BAM_FQCFAIL, BAM_FDUP\n",
      " |      \n",
      " |                 ``nofilter``\n",
      " |                    uses every single read turning off any filtering.\n",
      " |      \n",
      " |                 ``samtools``\n",
      " |                    same filter and read processing as in samtools\n",
      " |                    pileup. For full compatibility, this requires a\n",
      " |                    'fastafile' to be given. The following options all pertain\n",
      " |                    to filtering of the ``samtools`` stepper.\n",
      " |      \n",
      " |              fastafile : :class:`~pysam.FastaFile` object.\n",
      " |      \n",
      " |                 This is required for some of the steppers.\n",
      " |      \n",
      " |              ignore_overlaps: bool\n",
      " |      \n",
      " |                 If set to True, detect if read pairs overlap and only take\n",
      " |                 the higher quality base. This is the default.\n",
      " |      \n",
      " |              flag_filter : int\n",
      " |      \n",
      " |                 ignore reads where any of the bits in the flag are set. The default is\n",
      " |                 BAM_FUNMAP | BAM_FSECONDARY | BAM_FQCFAIL | BAM_FDUP.\n",
      " |      \n",
      " |              flag_require : int\n",
      " |      \n",
      " |                 only use reads where certain flags are set. The default is 0.\n",
      " |      \n",
      " |              ignore_orphans: bool\n",
      " |      \n",
      " |                  ignore orphans (paired reads that are not in a proper pair).\n",
      " |                  The default is to ignore orphans.\n",
      " |      \n",
      " |              min_base_quality: int\n",
      " |      \n",
      " |                 Minimum base quality. Bases below the minimum quality will\n",
      " |                 not be output. The default is 13.\n",
      " |      \n",
      " |              adjust_capq_threshold: int\n",
      " |      \n",
      " |                 adjust mapping quality. The default is 0 for no\n",
      " |                 adjustment. The recommended value for adjustment is 50.\n",
      " |      \n",
      " |              min_mapping_quality : int\n",
      " |      \n",
      " |                 only use reads above a minimum mapping quality. The default is 0.\n",
      " |      \n",
      " |              compute_baq: bool\n",
      " |      \n",
      " |                 re-alignment computing per-Base Alignment Qualities (BAQ). The\n",
      " |                 default is to do re-alignment. Realignment requires a reference\n",
      " |                 sequence. If none is present, no realignment will be performed.\n",
      " |      \n",
      " |              redo_baq: bool\n",
      " |      \n",
      " |                 recompute per-Base Alignment Quality on the fly ignoring\n",
      " |                 existing base qualities. The default is False (use existing\n",
      " |                 base qualities).\n",
      " |      \n",
      " |              Returns\n",
      " |              -------\n",
      " |      \n",
      " |              an iterator over genomic positions. : IteratorColumn\n",
      " |  \n",
      " |  write(...)\n",
      " |      AlignmentFile.write(self, AlignedSegment read) -> int\n",
      " |      \n",
      " |      write a single :class:`pysam.AlignedSegment` to disk.\n",
      " |      \n",
      " |      Raises:\n",
      " |          ValueError\n",
      " |              if the writing failed\n",
      " |      \n",
      " |      Returns:\n",
      " |          int :\n",
      " |              the number of bytes written. If the file is closed,\n",
      " |              this will be 0.\n",
      " |  \n",
      " |  ----------------------------------------------------------------------\n",
      " |  Static methods defined here:\n",
      " |  \n",
      " |  __new__(*args, **kwargs) from builtins.type\n",
      " |      Create and return a new object.  See help(type) for accurate signature.\n",
      " |  \n",
      " |  ----------------------------------------------------------------------\n",
      " |  Data descriptors defined here:\n",
      " |  \n",
      " |  header\n",
      " |  \n",
      " |  lengths\n",
      " |      tuple of the lengths of the :term:`reference` sequences. This is a\n",
      " |      read-only attribute. The lengths are in the same order as\n",
      " |      :attr:`pysam.AlignmentFile.references`\n",
      " |  \n",
      " |  mapped\n",
      " |      int with total number of mapped alignments according to the\n",
      " |      statistics recorded in the index. This is a read-only\n",
      " |      attribute.\n",
      " |      (This will be 0 for a CRAM file indexed by a .crai index, as that\n",
      " |      index format does not record these statistics.)\n",
      " |  \n",
      " |  nocoordinate\n",
      " |      int with total number of reads without coordinates according to the\n",
      " |      statistics recorded in the index, i.e., the statistic printed for \"*\"\n",
      " |      by the ``samtools idxstats`` command. This is a read-only attribute.\n",
      " |      (This will be 0 for a CRAM file indexed by a .crai index, as that\n",
      " |      index format does not record these statistics.)\n",
      " |  \n",
      " |  nreferences\n",
      " |      int with the number of :term:`reference` sequences in the file.\n",
      " |      This is a read-only attribute.\n",
      " |  \n",
      " |  reference_filename\n",
      " |  \n",
      " |  references\n",
      " |      tuple with the names of :term:`reference` sequences. This is a\n",
      " |      read-only attribute\n",
      " |  \n",
      " |  text\n",
      " |      deprecated, use :attr:`references` and :attr:`lengths` instead\n",
      " |  \n",
      " |  unmapped\n",
      " |      int with total number of unmapped reads according to the statistics\n",
      " |      recorded in the index. This number of reads includes the number of reads\n",
      " |      without coordinates. This is a read-only attribute.\n",
      " |      (This will be 0 for a CRAM file indexed by a .crai index, as that\n",
      " |      index format does not record these statistics.)\n",
      " |  \n",
      " |  ----------------------------------------------------------------------\n",
      " |  Data and other attributes defined here:\n",
      " |  \n",
      " |  __pyx_vtable__ = <capsule object NULL>\n",
      " |  \n",
      " |  ----------------------------------------------------------------------\n",
      " |  Methods inherited from pysam.libchtslib.HTSFile:\n",
      " |  \n",
      " |  add_hts_options(...)\n",
      " |      HTSFile.add_hts_options(self, format_options=None)\n",
      " |      Given a list of key=value format option strings, add them to an open htsFile\n",
      " |  \n",
      " |  check_truncation(...)\n",
      " |      HTSFile.check_truncation(self, ignore_truncation=False)\n",
      " |      Check if file is truncated.\n",
      " |  \n",
      " |  is_valid_reference_name(...)\n",
      " |      HTSFile.is_valid_reference_name(self, contig)\n",
      " |      \n",
      " |      return True if the contig name :term:`contig` is valid; False otherwise.\n",
      " |  \n",
      " |  parse_region(...)\n",
      " |      HTSFile.parse_region(self, contig=None, start=None, stop=None, region=None, tid=None, reference=None, end=None)\n",
      " |      parse alternative ways to specify a genomic region. A region can\n",
      " |              either be specified by :term:`contig`, `start` and\n",
      " |              `stop`. `start` and `stop` denote 0-based, half-open\n",
      " |              intervals. :term:`reference` and `end` are also accepted for\n",
      " |              backward compatibility as synonyms for :term:`contig` and\n",
      " |              `stop`, respectively.\n",
      " |      \n",
      " |              Alternatively, a samtools :term:`region` string can be\n",
      " |              supplied.\n",
      " |      \n",
      " |              If any of the coordinates are missing they will be replaced by\n",
      " |              the minimum (`start`) or maximum (`stop`) coordinate.\n",
      " |      \n",
      " |              Note that region strings are 1-based inclusive, while `start`\n",
      " |              and `stop` denote an interval in 0-based, half-open\n",
      " |              coordinates (like BED files and Python slices).\n",
      " |      \n",
      " |              If `contig` or `region` or are ``*``, unmapped reads at the end\n",
      " |              of a BAM file will be returned. Setting either to ``.`` will\n",
      " |              iterate from the beginning of the file.\n",
      " |      \n",
      " |              Returns\n",
      " |              -------\n",
      " |      \n",
      " |              tuple :\n",
      " |                  a tuple of `flag`, :term:`tid`, `start` and\n",
      " |                  `stop`. The flag indicates whether no coordinates were\n",
      " |                  supplied and the genomic region is the complete genomic space.\n",
      " |      \n",
      " |              Raises\n",
      " |              ------\n",
      " |      \n",
      " |              ValueError\n",
      " |                 for invalid or out of bounds regions.\n",
      " |  \n",
      " |  reset(...)\n",
      " |      HTSFile.reset(self)\n",
      " |      reset file position to beginning of file just after the header.\n",
      " |      \n",
      " |              Returns\n",
      " |              -------\n",
      " |      \n",
      " |              The file position after moving the file pointer. : pointer\n",
      " |  \n",
      " |  seek(...)\n",
      " |      HTSFile.seek(self, uint64_t offset)\n",
      " |      move file pointer to position *offset*, see :meth:`pysam.HTSFile.tell`.\n",
      " |  \n",
      " |  tell(...)\n",
      " |      HTSFile.tell(self)\n",
      " |      return current file position, see :meth:`pysam.HTSFile.seek`.\n",
      " |  \n",
      " |  ----------------------------------------------------------------------\n",
      " |  Data descriptors inherited from pysam.libchtslib.HTSFile:\n",
      " |  \n",
      " |  category\n",
      " |      General file format category.  One of UNKNOWN, ALIGNMENTS,\n",
      " |      VARIANTS, INDEX, REGIONS\n",
      " |  \n",
      " |  closed\n",
      " |      return True if HTSFile is closed.\n",
      " |  \n",
      " |  compression\n",
      " |      File compression.\n",
      " |      \n",
      " |      One of NONE, GZIP, BGZF, CUSTOM.\n",
      " |  \n",
      " |  description\n",
      " |      Vaguely human readable description of the file format\n",
      " |  \n",
      " |  duplicate_filehandle\n",
      " |  \n",
      " |  filename\n",
      " |  \n",
      " |  format\n",
      " |      File format.\n",
      " |      \n",
      " |      One of UNKNOWN, BINARY_FORMAT, TEXT_FORMAT, SAM, BAM,\n",
      " |      BAI, CRAM, CRAI, VCF, BCF, CSI, GZI, TBI, BED.\n",
      " |  \n",
      " |  index_filename\n",
      " |  \n",
      " |  is_bam\n",
      " |      return True if HTSFile is reading or writing a BAM alignment file\n",
      " |  \n",
      " |  is_bcf\n",
      " |      return True if HTSFile is reading or writing a BCF variant file\n",
      " |  \n",
      " |  is_closed\n",
      " |      return True if HTSFile is closed.\n",
      " |  \n",
      " |  is_cram\n",
      " |      return True if HTSFile is reading or writing a BAM alignment file\n",
      " |  \n",
      " |  is_open\n",
      " |      return True if HTSFile is open and in a valid state.\n",
      " |  \n",
      " |  is_read\n",
      " |      return True if HTSFile is open for reading\n",
      " |  \n",
      " |  is_remote\n",
      " |  \n",
      " |  is_sam\n",
      " |      return True if HTSFile is reading or writing a SAM alignment file\n",
      " |  \n",
      " |  is_stream\n",
      " |  \n",
      " |  is_vcf\n",
      " |      return True if HTSFile is reading or writing a VCF variant file\n",
      " |  \n",
      " |  is_write\n",
      " |      return True if HTSFile is open for writing\n",
      " |  \n",
      " |  mode\n",
      " |  \n",
      " |  threads\n",
      " |  \n",
      " |  version\n",
      " |      Tuple of file format version numbers (major, minor)\n",
      "\n"
     ]
    }
   ],
   "source": [
    "help(AlignmentFile)"
   ]
  },
  {
   "cell_type": "markdown",
   "metadata": {},
   "source": [
    "### Costruire l'oggetto `AlignmentFile` a partire dal file `sample.bam`\n",
    "\n",
    "Indicizzare il file `sample.bam` tramite la funzione `index()`."
   ]
  },
  {
   "cell_type": "code",
   "execution_count": 64,
   "metadata": {},
   "outputs": [
    {
     "data": {
      "text/plain": [
       "''"
      ]
     },
     "execution_count": 64,
     "metadata": {},
     "output_type": "execute_result"
    }
   ],
   "source": [
    "pysam.index('./sample.bam')"
   ]
  },
  {
   "cell_type": "markdown",
   "metadata": {},
   "source": [
    "Costruire l'oggetto `AlignmentFile` a partire dal file `sample.bam`."
   ]
  },
  {
   "cell_type": "code",
   "execution_count": 65,
   "metadata": {},
   "outputs": [],
   "source": [
    "bam_file = AlignmentFile('./sample.bam', 'rb')"
   ]
  },
  {
   "cell_type": "markdown",
   "metadata": {},
   "source": [
    "`bam_file` contiene l'oggetto che rappresenta tutti gli allineamenti presenti nel file di BAM in input."
   ]
  },
  {
   "cell_type": "markdown",
   "metadata": {},
   "source": [
    "Il numero di reads mappati e non mappati si ottiene accedendo a `mapped` e `unmapped`."
   ]
  },
  {
   "cell_type": "code",
   "execution_count": 66,
   "metadata": {},
   "outputs": [
    {
     "data": {
      "text/plain": [
       "25008"
      ]
     },
     "execution_count": 66,
     "metadata": {},
     "output_type": "execute_result"
    }
   ],
   "source": [
    "bam_file.mapped"
   ]
  },
  {
   "cell_type": "code",
   "execution_count": 67,
   "metadata": {},
   "outputs": [
    {
     "data": {
      "text/plain": [
       "0"
      ]
     },
     "execution_count": 67,
     "metadata": {},
     "output_type": "execute_result"
    }
   ],
   "source": [
    "bam_file.unmapped"
   ]
  },
  {
   "cell_type": "markdown",
   "metadata": {},
   "source": [
    "Le references coinvolte nel file BAM si ottengono accedendo a `references`."
   ]
  },
  {
   "cell_type": "code",
   "execution_count": 68,
   "metadata": {},
   "outputs": [
    {
     "data": {
      "text/plain": [
       "('X',)"
      ]
     },
     "execution_count": 68,
     "metadata": {},
     "output_type": "execute_result"
    }
   ],
   "source": [
    "bam_file.references"
   ]
  },
  {
   "cell_type": "markdown",
   "metadata": {},
   "source": [
    "Il numero di references coinvolte nel file BAM si ottengono accedendo a `nreferences`."
   ]
  },
  {
   "cell_type": "code",
   "execution_count": 69,
   "metadata": {},
   "outputs": [
    {
     "data": {
      "text/plain": [
       "1"
      ]
     },
     "execution_count": 69,
     "metadata": {},
     "output_type": "execute_result"
    }
   ],
   "source": [
    "bam_file.nreferences"
   ]
  },
  {
   "cell_type": "markdown",
   "metadata": {},
   "source": [
    "La lunghezza delle references coinvolte nel file BAM si ottengono accedendo a `lengths`."
   ]
  },
  {
   "cell_type": "code",
   "execution_count": 70,
   "metadata": {},
   "outputs": [
    {
     "data": {
      "text/plain": [
       "(23542271,)"
      ]
     },
     "execution_count": 70,
     "metadata": {},
     "output_type": "execute_result"
    }
   ],
   "source": [
    "bam_file.lengths"
   ]
  },
  {
   "cell_type": "markdown",
   "metadata": {},
   "source": [
    "La lunghezza di una reference in particolare si ottiene con il metodo `get_reference_length()`."
   ]
  },
  {
   "cell_type": "code",
   "execution_count": 71,
   "metadata": {},
   "outputs": [
    {
     "data": {
      "text/plain": [
       "23542271"
      ]
     },
     "execution_count": 71,
     "metadata": {},
     "output_type": "execute_result"
    }
   ],
   "source": [
    "bam_file.get_reference_length('X')"
   ]
  },
  {
   "cell_type": "markdown",
   "metadata": {},
   "source": [
    "Il numero di queries (reads) mappati a una determinata regione della reference si ottiene con il metodo `count()`"
   ]
  },
  {
   "cell_type": "code",
   "execution_count": 72,
   "metadata": {},
   "outputs": [
    {
     "data": {
      "text/plain": [
       "25008"
      ]
     },
     "execution_count": 72,
     "metadata": {},
     "output_type": "execute_result"
    }
   ],
   "source": [
    "bam_file.count('X', 280000, 300000)"
   ]
  },
  {
   "cell_type": "markdown",
   "metadata": {},
   "source": [
    "## 2) Estrarre allineamenti da un oggetto `AlignmentFile`\n",
    "\n",
    "Il metodo `fetch()` invocato nei tre seguenti modi: \n",
    "\n",
    "    bam_file.fetch()\n",
    "    bam_file.fetch(ref_name)\n",
    "    bam_file.fetch(ref_name, start_region, end_region)\n",
    "    \n",
    "restituisce un iteratore contenente (rispettivamente):\n",
    "\n",
    "- tutti gli allineamenti del SAM/BAM file\n",
    "- tutti gli allineamenti che si riferiscono alla reference `ref_name`\n",
    "- tutti gli allineamenti che si riferiscono alla sottoregione tra le posizioni `start_region` e `end_region`della reference `ref_name`.\n",
    "\n",
    "Un singolo allineamento tra query e reference è un oggetto di tipo `AlignedSegment`.\n",
    "\n",
    "---\n",
    "    \n",
    "Estrarre tutti gli allineamenti del BAM file."
   ]
  },
  {
   "cell_type": "code",
   "execution_count": 73,
   "metadata": {},
   "outputs": [],
   "source": [
    "all_alignments = bam_file.fetch()"
   ]
  },
  {
   "cell_type": "markdown",
   "metadata": {},
   "source": [
    "Il numero di allineamenti estratti è:"
   ]
  },
  {
   "cell_type": "code",
   "execution_count": 74,
   "metadata": {},
   "outputs": [],
   "source": [
    "all_alignments = list(all_alignments)"
   ]
  },
  {
   "cell_type": "code",
   "execution_count": 75,
   "metadata": {},
   "outputs": [
    {
     "data": {
      "text/plain": [
       "25008"
      ]
     },
     "execution_count": 75,
     "metadata": {},
     "output_type": "execute_result"
    }
   ],
   "source": [
    "len(all_alignments)"
   ]
  },
  {
   "cell_type": "markdown",
   "metadata": {
    "scrolled": true
   },
   "source": [
    "Estrarre gli allineamenti relativi alla reference `X`."
   ]
  },
  {
   "cell_type": "code",
   "execution_count": 77,
   "metadata": {},
   "outputs": [],
   "source": [
    "x_alignments = bam_file.fetch('X')"
   ]
  },
  {
   "cell_type": "code",
   "execution_count": 78,
   "metadata": {},
   "outputs": [
    {
     "data": {
      "text/plain": [
       "25008"
      ]
     },
     "execution_count": 78,
     "metadata": {},
     "output_type": "execute_result"
    }
   ],
   "source": [
    "len(list(x_alignments))"
   ]
  },
  {
   "cell_type": "markdown",
   "metadata": {},
   "source": [
    "Estrarre gli allineamenti relativi alla reference `X` che cadono nella regione tra le posizioni `280000` e `285000`."
   ]
  },
  {
   "cell_type": "code",
   "execution_count": 79,
   "metadata": {},
   "outputs": [],
   "source": [
    "x_region_alignments = bam_file.fetch('X', 280000, 285000)"
   ]
  },
  {
   "cell_type": "code",
   "execution_count": 80,
   "metadata": {},
   "outputs": [
    {
     "data": {
      "text/plain": [
       "3170"
      ]
     },
     "execution_count": 80,
     "metadata": {},
     "output_type": "execute_result"
    }
   ],
   "source": [
    "len(list(x_region_alignments))"
   ]
  },
  {
   "cell_type": "markdown",
   "metadata": {},
   "source": [
    "L'istruzione:\n",
    "\n",
    "    bam_file.head(n)\n",
    "\n",
    "restituisve i primi `n` allineamenti del BAM file.\n",
    "\n",
    "---\n",
    "\n",
    "Si estraggano i primi 1000 allineamenti."
   ]
  },
  {
   "cell_type": "code",
   "execution_count": 81,
   "metadata": {},
   "outputs": [],
   "source": [
    "first_alignments = list(bam_file.head(1000))"
   ]
  },
  {
   "cell_type": "code",
   "execution_count": 82,
   "metadata": {},
   "outputs": [
    {
     "data": {
      "text/plain": [
       "1000"
      ]
     },
     "execution_count": 82,
     "metadata": {},
     "output_type": "execute_result"
    }
   ],
   "source": [
    "len(first_alignments)"
   ]
  },
  {
   "cell_type": "markdown",
   "metadata": {},
   "source": [
    "## 3) Accedere alle informazioni di un allineamento"
   ]
  },
  {
   "cell_type": "markdown",
   "metadata": {},
   "source": [
    "Estrarre il primo allineamento della lista `all_alignments`."
   ]
  },
  {
   "cell_type": "code",
   "execution_count": 83,
   "metadata": {},
   "outputs": [
    {
     "data": {
      "text/plain": [
       "<pysam.libcalignedsegment.AlignedSegment at 0x110754b80>"
      ]
     },
     "execution_count": 83,
     "metadata": {},
     "output_type": "execute_result"
    }
   ],
   "source": [
    "first_alignment = all_alignments[0]\n",
    "first_alignment"
   ]
  },
  {
   "cell_type": "markdown",
   "metadata": {},
   "source": [
    "Gli oggetti `AlignedSegment` hanno una serie di attributi che descrivono l'allineamento."
   ]
  },
  {
   "cell_type": "code",
   "execution_count": 84,
   "metadata": {},
   "outputs": [
    {
     "data": {
      "text/plain": [
       "'100M'"
      ]
     },
     "execution_count": 84,
     "metadata": {},
     "output_type": "execute_result"
    }
   ],
   "source": [
    "first_alignment.cigarstring"
   ]
  },
  {
   "cell_type": "code",
   "execution_count": 85,
   "metadata": {},
   "outputs": [
    {
     "data": {
      "text/plain": [
       "[(0, 100)]"
      ]
     },
     "execution_count": 85,
     "metadata": {},
     "output_type": "execute_result"
    }
   ],
   "source": [
    "first_alignment.cigartuples"
   ]
  },
  {
   "cell_type": "code",
   "execution_count": 86,
   "metadata": {},
   "outputs": [
    {
     "data": {
      "text/plain": [
       "0"
      ]
     },
     "execution_count": 86,
     "metadata": {},
     "output_type": "execute_result"
    }
   ],
   "source": [
    "first_alignment.flag"
   ]
  },
  {
   "cell_type": "code",
   "execution_count": 87,
   "metadata": {},
   "outputs": [
    {
     "data": {
      "text/plain": [
       "False"
      ]
     },
     "execution_count": 87,
     "metadata": {},
     "output_type": "execute_result"
    }
   ],
   "source": [
    "first_alignment.is_paired"
   ]
  },
  {
   "cell_type": "code",
   "execution_count": 88,
   "metadata": {},
   "outputs": [
    {
     "data": {
      "text/plain": [
       "False"
      ]
     },
     "execution_count": 88,
     "metadata": {},
     "output_type": "execute_result"
    }
   ],
   "source": [
    "first_alignment.is_reverse"
   ]
  },
  {
   "cell_type": "code",
   "execution_count": 89,
   "metadata": {},
   "outputs": [
    {
     "data": {
      "text/plain": [
       "False"
      ]
     },
     "execution_count": 89,
     "metadata": {},
     "output_type": "execute_result"
    }
   ],
   "source": [
    "first_alignment.is_secondary"
   ]
  },
  {
   "cell_type": "code",
   "execution_count": 90,
   "metadata": {},
   "outputs": [
    {
     "data": {
      "text/plain": [
       "255"
      ]
     },
     "execution_count": 90,
     "metadata": {},
     "output_type": "execute_result"
    }
   ],
   "source": [
    "first_alignment.mapping_quality"
   ]
  },
  {
   "cell_type": "code",
   "execution_count": 91,
   "metadata": {},
   "outputs": [
    {
     "data": {
      "text/plain": [
       "283185"
      ]
     },
     "execution_count": 91,
     "metadata": {},
     "output_type": "execute_result"
    }
   ],
   "source": [
    "first_alignment.reference_start"
   ]
  },
  {
   "cell_type": "code",
   "execution_count": 92,
   "metadata": {},
   "outputs": [
    {
     "data": {
      "text/plain": [
       "'FBtr0300326_e_2967_X_283185'"
      ]
     },
     "execution_count": 92,
     "metadata": {},
     "output_type": "execute_result"
    }
   ],
   "source": [
    "first_alignment.query_name"
   ]
  },
  {
   "cell_type": "code",
   "execution_count": 93,
   "metadata": {},
   "outputs": [
    {
     "data": {
      "text/plain": [
       "array('B', [2, 2, 2, 2, 2, 2, 2, 2, 2, 2, 2, 2, 2, 2, 2, 2, 2, 2, 2, 2, 2, 2, 2, 2, 2, 2, 2, 2, 2, 2, 2, 2, 2, 2, 2, 2, 2, 2, 2, 2, 2, 2, 2, 2, 2, 2, 2, 2, 2, 2, 2, 2, 2, 2, 2, 2, 2, 2, 2, 2, 2, 2, 2, 2, 2, 2, 2, 2, 2, 2, 2, 2, 2, 2, 2, 2, 2, 2, 2, 2, 2, 2, 2, 2, 2, 2, 2, 2, 2, 2, 2, 2, 2, 2, 2, 2, 2, 2, 2, 2])"
      ]
     },
     "execution_count": 93,
     "metadata": {},
     "output_type": "execute_result"
    }
   ],
   "source": [
    "first_alignment.query_qualities"
   ]
  },
  {
   "cell_type": "code",
   "execution_count": 94,
   "metadata": {},
   "outputs": [
    {
     "data": {
      "text/plain": [
       "'GCCCTTGCATTTATTTCCAGTTTTGGTTTTTTTTTTGTATTTATCAATTACATTTATAATTAATTATACACCATGTATATATATGTATTTATATACTATA'"
      ]
     },
     "execution_count": 94,
     "metadata": {},
     "output_type": "execute_result"
    }
   ],
   "source": [
    "first_alignment.query_alignment_sequence"
   ]
  },
  {
   "cell_type": "markdown",
   "metadata": {},
   "source": [
    "Gli oggetti `AlignedSegment` hanno una serie di metodi tra i quali:"
   ]
  },
  {
   "cell_type": "code",
   "execution_count": 95,
   "metadata": {},
   "outputs": [
    {
     "data": {
      "text/plain": [
       "[('NH', 1), ('HI', 1), ('AS', 98), ('nM', 0)]"
      ]
     },
     "execution_count": 95,
     "metadata": {},
     "output_type": "execute_result"
    }
   ],
   "source": [
    "first_alignment.get_tags()"
   ]
  },
  {
   "cell_type": "code",
   "execution_count": 96,
   "metadata": {},
   "outputs": [
    {
     "data": {
      "text/plain": [
       "'GCCCTTGCATTTATTTCCAGTTTTGGTTTTTTTTTTGTATTTATCAATTACATTTATAATTAATTATACACCATGTATATATATGTATTTATATACTATA'"
      ]
     },
     "execution_count": 96,
     "metadata": {},
     "output_type": "execute_result"
    }
   ],
   "source": [
    "first_alignment.get_forward_sequence()"
   ]
  },
  {
   "cell_type": "code",
   "execution_count": 97,
   "metadata": {},
   "outputs": [
    {
     "data": {
      "text/plain": [
       "{'name': 'FBtr0300326_e_2967_X_283185',\n",
       " 'flag': '0',\n",
       " 'ref_name': 'X',\n",
       " 'ref_pos': '283186',\n",
       " 'map_quality': '255',\n",
       " 'cigar': '100M',\n",
       " 'next_ref_name': '*',\n",
       " 'next_ref_pos': '0',\n",
       " 'length': '0',\n",
       " 'seq': 'GCCCTTGCATTTATTTCCAGTTTTGGTTTTTTTTTTGTATTTATCAATTACATTTATAATTAATTATACACCATGTATATATATGTATTTATATACTATA',\n",
       " 'qual': '####################################################################################################',\n",
       " 'tags': ['NH:i:1', 'HI:i:1', 'AS:i:98', 'nM:i:0']}"
      ]
     },
     "execution_count": 97,
     "metadata": {},
     "output_type": "execute_result"
    }
   ],
   "source": [
    "first_alignment.to_dict()"
   ]
  },
  {
   "cell_type": "code",
   "execution_count": 98,
   "metadata": {},
   "outputs": [
    {
     "data": {
      "text/plain": [
       "'FBtr0300326_e_2967_X_283185\\t0\\tX\\t283186\\t255\\t100M\\t*\\t0\\t0\\tGCCCTTGCATTTATTTCCAGTTTTGGTTTTTTTTTTGTATTTATCAATTACATTTATAATTAATTATACACCATGTATATATATGTATTTATATACTATA\\t####################################################################################################\\tNH:i:1\\tHI:i:1\\tAS:i:98\\tnM:i:0'"
      ]
     },
     "execution_count": 98,
     "metadata": {},
     "output_type": "execute_result"
    }
   ],
   "source": [
    "first_alignment.to_string()"
   ]
  },
  {
   "cell_type": "markdown",
   "metadata": {},
   "source": [
    "## 4) Qualche metodo di `AlignmentFile`\n",
    "\n",
    "- `find_introns()` restituisce in un oggetto `Counter` gli introni supportati dagli allineamenti passati come argomento e, per ogni introne, il numero di queries allineate\n",
    "\n",
    "       bam_file.find_introns(alignment_iterator)\n",
    "       \n",
    "Le chiavi sono le tuple *(start, end)* degli introni e i valori sono il supporto come numero di queries. Il valore di *end* è la posizione della base del reference immediatamente successiva alla fine dell'introne."
   ]
  },
  {
   "cell_type": "markdown",
   "metadata": {},
   "source": [
    "Estrarre gli introni supportati dagli allineamenti del file in input:"
   ]
  },
  {
   "cell_type": "code",
   "execution_count": 99,
   "metadata": {},
   "outputs": [
    {
     "data": {
      "text/plain": [
       "Counter({(286891, 286948): 1255,\n",
       "         (287041, 287328): 794,\n",
       "         (287041, 289040): 468,\n",
       "         (287526, 289040): 707,\n",
       "         (289272, 289870): 530,\n",
       "         (289272, 290252): 730,\n",
       "         (289943, 290252): 593,\n",
       "         (290596, 294712): 741,\n",
       "         (290596, 294822): 586})"
      ]
     },
     "execution_count": 99,
     "metadata": {},
     "output_type": "execute_result"
    }
   ],
   "source": [
    "bam_file.find_introns(bam_file.fetch())"
   ]
  },
  {
   "cell_type": "markdown",
   "metadata": {},
   "source": [
    "- `pileup()`, restituisce un iteratore contenente un oggetto `PileupColumn` per ognuna delle basi coperte dagli allineamenti che cadono nella regione specificata come *argomento* (se l'argomento non viene specificato allora vengono considerati tutti gli allineamenti presenti nel BAM file).\n",
    "\n",
    "       bam_file.pileup()\n",
    "       bam_file.pileup(ref_name)\n",
    "       bam_file.pileup(ref_name, start_region, end_region)\n",
    "\n",
    "Ogni base della reference coperta da allineamenti viene chiamata *pileup column*.\n",
    "\n",
    "---\n",
    "\n",
    "Trovare tutte le basi della reference coperte dagli allineamenti presenti nel BAM file."
   ]
  },
  {
   "cell_type": "code",
   "execution_count": 100,
   "metadata": {},
   "outputs": [],
   "source": [
    "pileup_iter = bam_file.pileup()"
   ]
  },
  {
   "cell_type": "code",
   "execution_count": 101,
   "metadata": {},
   "outputs": [],
   "source": [
    "pileup_columns = list(pileup_iter)"
   ]
  },
  {
   "cell_type": "markdown",
   "metadata": {},
   "source": [
    "Gli allineamenti presenti nel BAM file coprono un totale di:"
   ]
  },
  {
   "cell_type": "code",
   "execution_count": 102,
   "metadata": {},
   "outputs": [
    {
     "data": {
      "text/plain": [
       "11777"
      ]
     },
     "execution_count": 102,
     "metadata": {},
     "output_type": "execute_result"
    }
   ],
   "source": [
    "len(pileup_columns)"
   ]
  },
  {
   "cell_type": "markdown",
   "metadata": {},
   "source": [
    "Accedere alla 1000-esima colonna (base) di *pileup* e:\n",
    "\n",
    "- settare la qualità minima a 0"
   ]
  },
  {
   "cell_type": "code",
   "execution_count": 103,
   "metadata": {},
   "outputs": [],
   "source": [
    "pileup_columns[999].set_min_base_quality(0)"
   ]
  },
  {
   "cell_type": "markdown",
   "metadata": {},
   "source": [
    "- accedere alla posizione sulla reference"
   ]
  },
  {
   "cell_type": "code",
   "execution_count": 104,
   "metadata": {},
   "outputs": [
    {
     "data": {
      "text/plain": [
       "284184"
      ]
     },
     "execution_count": 104,
     "metadata": {},
     "output_type": "execute_result"
    }
   ],
   "source": [
    "pileup_columns[999].pos"
   ]
  },
  {
   "cell_type": "markdown",
   "metadata": {},
   "source": [
    "- estrarre il numero di allineamenti (queries o reads) che coprono la base."
   ]
  },
  {
   "cell_type": "code",
   "execution_count": 105,
   "metadata": {},
   "outputs": [
    {
     "data": {
      "text/plain": [
       "180"
      ]
     },
     "execution_count": 105,
     "metadata": {},
     "output_type": "execute_result"
    }
   ],
   "source": [
    "pileup_columns[999].nsegments"
   ]
  },
  {
   "cell_type": "markdown",
   "metadata": {},
   "source": [
    "- ottenere gli identificatori delle queries (reads) che coprono la base."
   ]
  },
  {
   "cell_type": "code",
   "execution_count": 106,
   "metadata": {
    "scrolled": false
   },
   "outputs": [
    {
     "data": {
      "text/plain": [
       "['FBtr0342963_e_4202_X_294862',\n",
       " 'FBtr0342963_e_6192_X_294862',\n",
       " 'FBtr0342963_e_7396_X_294862',\n",
       " 'FBtr0070103_e_4896_X_294862',\n",
       " 'FBtr0342963_e_1514_X_294862',\n",
       " 'FBtr0342963_e_4365_X_294862',\n",
       " 'FBtr0070103_e_1858_X_294862',\n",
       " 'FBtr0070103_e_2397_X_294862',\n",
       " 'FBtr0070103_e_5063_X_294862',\n",
       " 'FBtr0300326_e_4543_X_294861',\n",
       " 'FBtr0070103_e_519_X_294861',\n",
       " 'FBtr0070103_e_7416_X_294861',\n",
       " 'FBtr0342963_e_2335_X_294861',\n",
       " 'FBtr0342963_e_4019_X_294861',\n",
       " 'FBtr0342963_e_4425_X_294861',\n",
       " 'FBtr0342963_e_4688_X_294861',\n",
       " 'FBtr0300326_e_2872_X_294861',\n",
       " 'FBtr0070103_e_1324_X_294861',\n",
       " 'FBtr0070103_e_4777_X_294861',\n",
       " 'FBtr0070103_e_6318_X_294861',\n",
       " 'FBtr0070103_e_8286_X_294861',\n",
       " 'FBtr0342963_e_4202_X_294862',\n",
       " 'FBtr0342963_e_6192_X_294862',\n",
       " 'FBtr0342963_e_7396_X_294862',\n",
       " 'FBtr0070103_e_4896_X_294862',\n",
       " 'FBtr0342963_e_1514_X_294862',\n",
       " 'FBtr0342963_e_4365_X_294862',\n",
       " 'FBtr0070103_e_1858_X_294862',\n",
       " 'FBtr0070103_e_2397_X_294862',\n",
       " 'FBtr0070103_e_5063_X_294862',\n",
       " 'FBtr0342963_e_4688_X_294861',\n",
       " 'FBtr0300326_e_2872_X_294861',\n",
       " 'FBtr0070103_e_1324_X_294861',\n",
       " 'FBtr0070103_e_4777_X_294861',\n",
       " 'FBtr0070103_e_6318_X_294861',\n",
       " 'FBtr0070103_e_8286_X_294861',\n",
       " 'FBtr0342963_e_4202_X_294862',\n",
       " 'FBtr0342963_e_6192_X_294862',\n",
       " 'FBtr0342963_e_7396_X_294862',\n",
       " 'FBtr0070103_e_4896_X_294862',\n",
       " 'FBtr0342963_e_1514_X_294862',\n",
       " 'FBtr0342963_e_4365_X_294862',\n",
       " 'FBtr0070103_e_1858_X_294862',\n",
       " 'FBtr0070103_e_2397_X_294862',\n",
       " 'FBtr0070103_e_5063_X_294862',\n",
       " 'FBtr0342963_e_4688_X_294861',\n",
       " 'FBtr0300326_e_2872_X_294861',\n",
       " 'FBtr0070103_e_1324_X_294861',\n",
       " 'FBtr0070103_e_4777_X_294861',\n",
       " 'FBtr0070103_e_6318_X_294861',\n",
       " 'FBtr0070103_e_8286_X_294861',\n",
       " 'FBtr0342963_e_4202_X_294862',\n",
       " 'FBtr0342963_e_6192_X_294862',\n",
       " 'FBtr0342963_e_7396_X_294862',\n",
       " 'FBtr0070103_e_4896_X_294862',\n",
       " 'FBtr0342963_e_1514_X_294862',\n",
       " 'FBtr0342963_e_4365_X_294862',\n",
       " 'FBtr0070103_e_1858_X_294862',\n",
       " 'FBtr0070103_e_2397_X_294862',\n",
       " 'FBtr0070103_e_5063_X_294862',\n",
       " 'FBtr0070103_e_4777_X_294861',\n",
       " 'FBtr0070103_e_6318_X_294861',\n",
       " 'FBtr0070103_e_8286_X_294861',\n",
       " 'FBtr0342963_e_4202_X_294862',\n",
       " 'FBtr0342963_e_6192_X_294862',\n",
       " 'FBtr0342963_e_7396_X_294862',\n",
       " 'FBtr0070103_e_4896_X_294862',\n",
       " 'FBtr0342963_e_1514_X_294862',\n",
       " 'FBtr0342963_e_4365_X_294862',\n",
       " 'FBtr0070103_e_1858_X_294862',\n",
       " 'FBtr0070103_e_2397_X_294862',\n",
       " 'FBtr0070103_e_5063_X_294862',\n",
       " 'FBtr0070103_e_1324_X_294861',\n",
       " 'FBtr0070103_e_4777_X_294861',\n",
       " 'FBtr0070103_e_6318_X_294861',\n",
       " 'FBtr0070103_e_8286_X_294861',\n",
       " 'FBtr0342963_e_4202_X_294862',\n",
       " 'FBtr0342963_e_6192_X_294862',\n",
       " 'FBtr0342963_e_7396_X_294862',\n",
       " 'FBtr0070103_e_4896_X_294862',\n",
       " 'FBtr0342963_e_1514_X_294862',\n",
       " 'FBtr0342963_e_4365_X_294862',\n",
       " 'FBtr0070103_e_1858_X_294862',\n",
       " 'FBtr0070103_e_2397_X_294862',\n",
       " 'FBtr0070103_e_5063_X_294862',\n",
       " 'FBtr0070103_e_6318_X_294861',\n",
       " 'FBtr0070103_e_8286_X_294861',\n",
       " 'FBtr0342963_e_4202_X_294862',\n",
       " 'FBtr0342963_e_6192_X_294862',\n",
       " 'FBtr0342963_e_7396_X_294862',\n",
       " 'FBtr0070103_e_4896_X_294862',\n",
       " 'FBtr0342963_e_1514_X_294862',\n",
       " 'FBtr0342963_e_4365_X_294862',\n",
       " 'FBtr0070103_e_1858_X_294862',\n",
       " 'FBtr0070103_e_2397_X_294862',\n",
       " 'FBtr0070103_e_5063_X_294862',\n",
       " 'FBtr0342963_e_4202_X_294862',\n",
       " 'FBtr0342963_e_6192_X_294862',\n",
       " 'FBtr0342963_e_7396_X_294862',\n",
       " 'FBtr0070103_e_4896_X_294862',\n",
       " 'FBtr0342963_e_1514_X_294862',\n",
       " 'FBtr0342963_e_4365_X_294862',\n",
       " 'FBtr0070103_e_1858_X_294862',\n",
       " 'FBtr0070103_e_2397_X_294862',\n",
       " 'FBtr0070103_e_5063_X_294862',\n",
       " 'FBtr0070103_e_6318_X_294861',\n",
       " 'FBtr0070103_e_8286_X_294861',\n",
       " 'FBtr0342963_e_4202_X_294862',\n",
       " 'FBtr0342963_e_6192_X_294862',\n",
       " 'FBtr0342963_e_7396_X_294862',\n",
       " 'FBtr0070103_e_4896_X_294862',\n",
       " 'FBtr0342963_e_1514_X_294862',\n",
       " 'FBtr0342963_e_4365_X_294862',\n",
       " 'FBtr0070103_e_1858_X_294862',\n",
       " 'FBtr0070103_e_2397_X_294862',\n",
       " 'FBtr0070103_e_5063_X_294862',\n",
       " 'FBtr0342963_e_6570_X_294861',\n",
       " 'FBtr0342963_e_7440_X_294861',\n",
       " 'FBtr0300326_e_3787_X_294861',\n",
       " 'FBtr0300326_e_4543_X_294861',\n",
       " 'FBtr0070103_e_519_X_294861',\n",
       " 'FBtr0070103_e_7416_X_294861',\n",
       " 'FBtr0342963_e_2335_X_294861',\n",
       " 'FBtr0342963_e_4019_X_294861',\n",
       " 'FBtr0342963_e_4425_X_294861',\n",
       " 'FBtr0342963_e_4688_X_294861',\n",
       " 'FBtr0300326_e_2872_X_294861',\n",
       " 'FBtr0070103_e_1324_X_294861',\n",
       " 'FBtr0070103_e_4777_X_294861',\n",
       " 'FBtr0070103_e_6318_X_294861',\n",
       " 'FBtr0070103_e_8286_X_294861',\n",
       " 'FBtr0342963_e_4202_X_294862',\n",
       " 'FBtr0342963_e_6192_X_294862',\n",
       " 'FBtr0342963_e_7396_X_294862',\n",
       " 'FBtr0070103_e_4896_X_294862',\n",
       " 'FBtr0342963_e_1514_X_294862',\n",
       " 'FBtr0342963_e_4365_X_294862',\n",
       " 'FBtr0070103_e_1858_X_294862',\n",
       " 'FBtr0070103_e_2397_X_294862',\n",
       " 'FBtr0070103_e_5063_X_294862',\n",
       " 'FBtr0070103_e_519_X_294861',\n",
       " 'FBtr0070103_e_7416_X_294861',\n",
       " 'FBtr0342963_e_2335_X_294861',\n",
       " 'FBtr0342963_e_4019_X_294861',\n",
       " 'FBtr0342963_e_4425_X_294861',\n",
       " 'FBtr0342963_e_4688_X_294861',\n",
       " 'FBtr0300326_e_2872_X_294861',\n",
       " 'FBtr0070103_e_1324_X_294861',\n",
       " 'FBtr0070103_e_4777_X_294861',\n",
       " 'FBtr0070103_e_6318_X_294861',\n",
       " 'FBtr0070103_e_8286_X_294861',\n",
       " 'FBtr0342963_e_4202_X_294862',\n",
       " 'FBtr0342963_e_6192_X_294862',\n",
       " 'FBtr0342963_e_7396_X_294862',\n",
       " 'FBtr0070103_e_4896_X_294862',\n",
       " 'FBtr0342963_e_1514_X_294862',\n",
       " 'FBtr0342963_e_4365_X_294862',\n",
       " 'FBtr0070103_e_1858_X_294862',\n",
       " 'FBtr0070103_e_2397_X_294862',\n",
       " 'FBtr0070103_e_5063_X_294862',\n",
       " 'FBtr0070103_e_519_X_294861',\n",
       " 'FBtr0070103_e_7416_X_294861',\n",
       " 'FBtr0342963_e_2335_X_294861',\n",
       " 'FBtr0342963_e_4019_X_294861',\n",
       " 'FBtr0342963_e_4425_X_294861',\n",
       " 'FBtr0342963_e_4688_X_294861',\n",
       " 'FBtr0300326_e_2872_X_294861',\n",
       " 'FBtr0070103_e_1324_X_294861',\n",
       " 'FBtr0070103_e_4777_X_294861',\n",
       " 'FBtr0070103_e_6318_X_294861',\n",
       " 'FBtr0070103_e_8286_X_294861',\n",
       " 'FBtr0342963_e_4202_X_294862',\n",
       " 'FBtr0342963_e_6192_X_294862',\n",
       " 'FBtr0342963_e_7396_X_294862',\n",
       " 'FBtr0070103_e_4896_X_294862',\n",
       " 'FBtr0342963_e_1514_X_294862',\n",
       " 'FBtr0342963_e_4365_X_294862',\n",
       " 'FBtr0070103_e_1858_X_294862',\n",
       " 'FBtr0070103_e_2397_X_294862',\n",
       " 'FBtr0070103_e_5063_X_294862']"
      ]
     },
     "execution_count": 106,
     "metadata": {},
     "output_type": "execute_result"
    }
   ],
   "source": [
    "pileup_columns[999].get_query_names()"
   ]
  },
  {
   "cell_type": "markdown",
   "metadata": {},
   "source": [
    "- estrarre la lista delle queries (reads) che coprono la base."
   ]
  },
  {
   "cell_type": "code",
   "execution_count": 107,
   "metadata": {},
   "outputs": [
    {
     "data": {
      "text/plain": [
       "[<pysam.libcalignedsegment.PileupRead at 0x10fc2ba90>,\n",
       " <pysam.libcalignedsegment.PileupRead at 0x10fc2be50>,\n",
       " <pysam.libcalignedsegment.PileupRead at 0x10fc2b7c0>,\n",
       " <pysam.libcalignedsegment.PileupRead at 0x10fc2bef0>,\n",
       " <pysam.libcalignedsegment.PileupRead at 0x10fc2bf40>,\n",
       " <pysam.libcalignedsegment.PileupRead at 0x10fc2bf90>,\n",
       " <pysam.libcalignedsegment.PileupRead at 0x110765b80>,\n",
       " <pysam.libcalignedsegment.PileupRead at 0x1107655e0>,\n",
       " <pysam.libcalignedsegment.PileupRead at 0x1107659a0>,\n",
       " <pysam.libcalignedsegment.PileupRead at 0x110765c20>,\n",
       " <pysam.libcalignedsegment.PileupRead at 0x110765040>,\n",
       " <pysam.libcalignedsegment.PileupRead at 0x110765e00>,\n",
       " <pysam.libcalignedsegment.PileupRead at 0x1107652c0>,\n",
       " <pysam.libcalignedsegment.PileupRead at 0x1107654f0>,\n",
       " <pysam.libcalignedsegment.PileupRead at 0x110765540>,\n",
       " <pysam.libcalignedsegment.PileupRead at 0x110765cc0>,\n",
       " <pysam.libcalignedsegment.PileupRead at 0x110765950>,\n",
       " <pysam.libcalignedsegment.PileupRead at 0x110765860>,\n",
       " <pysam.libcalignedsegment.PileupRead at 0x110765720>,\n",
       " <pysam.libcalignedsegment.PileupRead at 0x110765180>,\n",
       " <pysam.libcalignedsegment.PileupRead at 0x110765ea0>,\n",
       " <pysam.libcalignedsegment.PileupRead at 0x110765c70>,\n",
       " <pysam.libcalignedsegment.PileupRead at 0x1107654a0>,\n",
       " <pysam.libcalignedsegment.PileupRead at 0x11072adb0>,\n",
       " <pysam.libcalignedsegment.PileupRead at 0x11072aa40>,\n",
       " <pysam.libcalignedsegment.PileupRead at 0x11072a6d0>,\n",
       " <pysam.libcalignedsegment.PileupRead at 0x11072aae0>,\n",
       " <pysam.libcalignedsegment.PileupRead at 0x11072ac70>,\n",
       " <pysam.libcalignedsegment.PileupRead at 0x11072ac20>,\n",
       " <pysam.libcalignedsegment.PileupRead at 0x11072a950>,\n",
       " <pysam.libcalignedsegment.PileupRead at 0x11072a7c0>,\n",
       " <pysam.libcalignedsegment.PileupRead at 0x11072a810>,\n",
       " <pysam.libcalignedsegment.PileupRead at 0x11072a720>,\n",
       " <pysam.libcalignedsegment.PileupRead at 0x11072a9a0>,\n",
       " <pysam.libcalignedsegment.PileupRead at 0x11072aef0>,\n",
       " <pysam.libcalignedsegment.PileupRead at 0x11072ab80>,\n",
       " <pysam.libcalignedsegment.PileupRead at 0x11072ae00>,\n",
       " <pysam.libcalignedsegment.PileupRead at 0x11072ae50>,\n",
       " <pysam.libcalignedsegment.PileupRead at 0x11072af40>,\n",
       " <pysam.libcalignedsegment.PileupRead at 0x11072ad60>,\n",
       " <pysam.libcalignedsegment.PileupRead at 0x11072af90>,\n",
       " <pysam.libcalignedsegment.PileupRead at 0x11072a590>,\n",
       " <pysam.libcalignedsegment.PileupRead at 0x11072a630>,\n",
       " <pysam.libcalignedsegment.PileupRead at 0x11072a540>,\n",
       " <pysam.libcalignedsegment.PileupRead at 0x11072a5e0>,\n",
       " <pysam.libcalignedsegment.PileupRead at 0x11072aea0>,\n",
       " <pysam.libcalignedsegment.PileupRead at 0x11072ad10>,\n",
       " <pysam.libcalignedsegment.PileupRead at 0x11072a4f0>,\n",
       " <pysam.libcalignedsegment.PileupRead at 0x11072a400>,\n",
       " <pysam.libcalignedsegment.PileupRead at 0x110721d10>,\n",
       " <pysam.libcalignedsegment.PileupRead at 0x110721d60>,\n",
       " <pysam.libcalignedsegment.PileupRead at 0x110721cc0>,\n",
       " <pysam.libcalignedsegment.PileupRead at 0x110721c20>,\n",
       " <pysam.libcalignedsegment.PileupRead at 0x110721bd0>,\n",
       " <pysam.libcalignedsegment.PileupRead at 0x1107219f0>,\n",
       " <pysam.libcalignedsegment.PileupRead at 0x1107219a0>,\n",
       " <pysam.libcalignedsegment.PileupRead at 0x110721f40>,\n",
       " <pysam.libcalignedsegment.PileupRead at 0x1107214a0>,\n",
       " <pysam.libcalignedsegment.PileupRead at 0x1107213b0>,\n",
       " <pysam.libcalignedsegment.PileupRead at 0x1107212c0>,\n",
       " <pysam.libcalignedsegment.PileupRead at 0x110721b30>,\n",
       " <pysam.libcalignedsegment.PileupRead at 0x110721ae0>,\n",
       " <pysam.libcalignedsegment.PileupRead at 0x110721a90>,\n",
       " <pysam.libcalignedsegment.PileupRead at 0x110721900>,\n",
       " <pysam.libcalignedsegment.PileupRead at 0x1107218b0>,\n",
       " <pysam.libcalignedsegment.PileupRead at 0x110721b80>,\n",
       " <pysam.libcalignedsegment.PileupRead at 0x110721130>,\n",
       " <pysam.libcalignedsegment.PileupRead at 0x110721220>,\n",
       " <pysam.libcalignedsegment.PileupRead at 0x1107210e0>,\n",
       " <pysam.libcalignedsegment.PileupRead at 0x1107211d0>,\n",
       " <pysam.libcalignedsegment.PileupRead at 0x110721720>,\n",
       " <pysam.libcalignedsegment.PileupRead at 0x110721db0>,\n",
       " <pysam.libcalignedsegment.PileupRead at 0x110721f90>,\n",
       " <pysam.libcalignedsegment.PileupRead at 0x110721ea0>,\n",
       " <pysam.libcalignedsegment.PileupRead at 0x110721950>,\n",
       " <pysam.libcalignedsegment.PileupRead at 0x110721810>,\n",
       " <pysam.libcalignedsegment.PileupRead at 0x110721a40>,\n",
       " <pysam.libcalignedsegment.PileupRead at 0x110721680>,\n",
       " <pysam.libcalignedsegment.PileupRead at 0x1107216d0>,\n",
       " <pysam.libcalignedsegment.PileupRead at 0x110721630>,\n",
       " <pysam.libcalignedsegment.PileupRead at 0x110721590>,\n",
       " <pysam.libcalignedsegment.PileupRead at 0x1107214f0>,\n",
       " <pysam.libcalignedsegment.PileupRead at 0x1107215e0>,\n",
       " <pysam.libcalignedsegment.PileupRead at 0x110721540>,\n",
       " <pysam.libcalignedsegment.PileupRead at 0x110721450>,\n",
       " <pysam.libcalignedsegment.PileupRead at 0x110721400>,\n",
       " <pysam.libcalignedsegment.PileupRead at 0x110721360>,\n",
       " <pysam.libcalignedsegment.PileupRead at 0x110721310>,\n",
       " <pysam.libcalignedsegment.PileupRead at 0x110721270>,\n",
       " <pysam.libcalignedsegment.PileupRead at 0x110721180>,\n",
       " <pysam.libcalignedsegment.PileupRead at 0x110721090>,\n",
       " <pysam.libcalignedsegment.PileupRead at 0x110721e50>,\n",
       " <pysam.libcalignedsegment.PileupRead at 0x110721e00>,\n",
       " <pysam.libcalignedsegment.PileupRead at 0x11074a680>,\n",
       " <pysam.libcalignedsegment.PileupRead at 0x11074a4f0>,\n",
       " <pysam.libcalignedsegment.PileupRead at 0x11074aea0>,\n",
       " <pysam.libcalignedsegment.PileupRead at 0x11074adb0>,\n",
       " <pysam.libcalignedsegment.PileupRead at 0x11074a310>,\n",
       " <pysam.libcalignedsegment.PileupRead at 0x11074aef0>,\n",
       " <pysam.libcalignedsegment.PileupRead at 0x11074a040>,\n",
       " <pysam.libcalignedsegment.PileupRead at 0x11074ad10>,\n",
       " <pysam.libcalignedsegment.PileupRead at 0x11074a9f0>,\n",
       " <pysam.libcalignedsegment.PileupRead at 0x11074a950>,\n",
       " <pysam.libcalignedsegment.PileupRead at 0x11074a9a0>,\n",
       " <pysam.libcalignedsegment.PileupRead at 0x11074a360>,\n",
       " <pysam.libcalignedsegment.PileupRead at 0x11074aae0>,\n",
       " <pysam.libcalignedsegment.PileupRead at 0x11074a540>,\n",
       " <pysam.libcalignedsegment.PileupRead at 0x11074a0e0>,\n",
       " <pysam.libcalignedsegment.PileupRead at 0x110735270>,\n",
       " <pysam.libcalignedsegment.PileupRead at 0x110735f40>,\n",
       " <pysam.libcalignedsegment.PileupRead at 0x110735130>,\n",
       " <pysam.libcalignedsegment.PileupRead at 0x110735bd0>,\n",
       " <pysam.libcalignedsegment.PileupRead at 0x1107353b0>,\n",
       " <pysam.libcalignedsegment.PileupRead at 0x110735c20>,\n",
       " <pysam.libcalignedsegment.PileupRead at 0x110735c70>,\n",
       " <pysam.libcalignedsegment.PileupRead at 0x110735a90>,\n",
       " <pysam.libcalignedsegment.PileupRead at 0x110735680>,\n",
       " <pysam.libcalignedsegment.PileupRead at 0x110735220>,\n",
       " <pysam.libcalignedsegment.PileupRead at 0x110735590>,\n",
       " <pysam.libcalignedsegment.PileupRead at 0x110735d60>,\n",
       " <pysam.libcalignedsegment.PileupRead at 0x110735b80>,\n",
       " <pysam.libcalignedsegment.PileupRead at 0x110735950>,\n",
       " <pysam.libcalignedsegment.PileupRead at 0x110547270>,\n",
       " <pysam.libcalignedsegment.PileupRead at 0x10efcbea0>,\n",
       " <pysam.libcalignedsegment.PileupRead at 0x110718130>,\n",
       " <pysam.libcalignedsegment.PileupRead at 0x110718400>,\n",
       " <pysam.libcalignedsegment.PileupRead at 0x110718040>,\n",
       " <pysam.libcalignedsegment.PileupRead at 0x110718360>,\n",
       " <pysam.libcalignedsegment.PileupRead at 0x1107184f0>,\n",
       " <pysam.libcalignedsegment.PileupRead at 0x1107182c0>,\n",
       " <pysam.libcalignedsegment.PileupRead at 0x110718450>,\n",
       " <pysam.libcalignedsegment.PileupRead at 0x1107181d0>,\n",
       " <pysam.libcalignedsegment.PileupRead at 0x110718180>,\n",
       " <pysam.libcalignedsegment.PileupRead at 0x110718270>,\n",
       " <pysam.libcalignedsegment.PileupRead at 0x110718680>,\n",
       " <pysam.libcalignedsegment.PileupRead at 0x10fc01360>,\n",
       " <pysam.libcalignedsegment.PileupRead at 0x10fc01400>,\n",
       " <pysam.libcalignedsegment.PileupRead at 0x10fc01540>,\n",
       " <pysam.libcalignedsegment.PileupRead at 0x10fc019f0>,\n",
       " <pysam.libcalignedsegment.PileupRead at 0x10fc010e0>,\n",
       " <pysam.libcalignedsegment.PileupRead at 0x10fc01a90>,\n",
       " <pysam.libcalignedsegment.PileupRead at 0x10fc01b30>,\n",
       " <pysam.libcalignedsegment.PileupRead at 0x10fc01950>,\n",
       " <pysam.libcalignedsegment.PileupRead at 0x10fc01a40>,\n",
       " <pysam.libcalignedsegment.PileupRead at 0x10fc01130>,\n",
       " <pysam.libcalignedsegment.PileupRead at 0x10fc017c0>,\n",
       " <pysam.libcalignedsegment.PileupRead at 0x10fc01d60>,\n",
       " <pysam.libcalignedsegment.PileupRead at 0x10fc019a0>,\n",
       " <pysam.libcalignedsegment.PileupRead at 0x10fc011d0>,\n",
       " <pysam.libcalignedsegment.PileupRead at 0x10fc01ae0>,\n",
       " <pysam.libcalignedsegment.PileupRead at 0x10fc01c20>,\n",
       " <pysam.libcalignedsegment.PileupRead at 0x10fc01090>,\n",
       " <pysam.libcalignedsegment.PileupRead at 0x10fc01040>,\n",
       " <pysam.libcalignedsegment.PileupRead at 0x10fc01ea0>,\n",
       " <pysam.libcalignedsegment.PileupRead at 0x10fc01d10>,\n",
       " <pysam.libcalignedsegment.PileupRead at 0x10fc01db0>,\n",
       " <pysam.libcalignedsegment.PileupRead at 0x10fc01590>,\n",
       " <pysam.libcalignedsegment.PileupRead at 0x10fc01ef0>,\n",
       " <pysam.libcalignedsegment.PileupRead at 0x10fc016d0>,\n",
       " <pysam.libcalignedsegment.PileupRead at 0x10fc01f40>,\n",
       " <pysam.libcalignedsegment.PileupRead at 0x10fc014f0>,\n",
       " <pysam.libcalignedsegment.PileupRead at 0x10fc01e00>,\n",
       " <pysam.libcalignedsegment.PileupRead at 0x10fc01bd0>,\n",
       " <pysam.libcalignedsegment.PileupRead at 0x10fc01770>,\n",
       " <pysam.libcalignedsegment.PileupRead at 0x10fc01860>,\n",
       " <pysam.libcalignedsegment.PileupRead at 0x110707ea0>,\n",
       " <pysam.libcalignedsegment.PileupRead at 0x1107078b0>,\n",
       " <pysam.libcalignedsegment.PileupRead at 0x110707d60>,\n",
       " <pysam.libcalignedsegment.PileupRead at 0x110707d10>,\n",
       " <pysam.libcalignedsegment.PileupRead at 0x110707090>,\n",
       " <pysam.libcalignedsegment.PileupRead at 0x110707e50>,\n",
       " <pysam.libcalignedsegment.PileupRead at 0x110707f90>,\n",
       " <pysam.libcalignedsegment.PileupRead at 0x110707c70>,\n",
       " <pysam.libcalignedsegment.PileupRead at 0x110707a90>,\n",
       " <pysam.libcalignedsegment.PileupRead at 0x110707810>,\n",
       " <pysam.libcalignedsegment.PileupRead at 0x110707a40>,\n",
       " <pysam.libcalignedsegment.PileupRead at 0x110707c20>,\n",
       " <pysam.libcalignedsegment.PileupRead at 0x110707db0>,\n",
       " <pysam.libcalignedsegment.PileupRead at 0x110707950>,\n",
       " <pysam.libcalignedsegment.PileupRead at 0x110707f40>]"
      ]
     },
     "execution_count": 107,
     "metadata": {},
     "output_type": "execute_result"
    }
   ],
   "source": [
    "pileup_columns[999].pileups"
   ]
  },
  {
   "cell_type": "markdown",
   "metadata": {},
   "source": [
    "Per il primo oggetto `PileupRead`, accedere alla posizione sul read che corrisponde alla base di pileup sulla *reference*."
   ]
  },
  {
   "cell_type": "code",
   "execution_count": 108,
   "metadata": {},
   "outputs": [
    {
     "data": {
      "text/plain": [
       "99"
      ]
     },
     "execution_count": 108,
     "metadata": {},
     "output_type": "execute_result"
    }
   ],
   "source": [
    "pileup_columns[999].pileups[0].query_position"
   ]
  },
  {
   "cell_type": "markdown",
   "metadata": {},
   "source": [
    "L'allineamento del primo read \"impilato\" è:"
   ]
  },
  {
   "cell_type": "code",
   "execution_count": 109,
   "metadata": {},
   "outputs": [
    {
     "data": {
      "text/plain": [
       "<pysam.libcalignedsegment.AlignedSegment at 0x11071cdc0>"
      ]
     },
     "execution_count": 109,
     "metadata": {},
     "output_type": "execute_result"
    }
   ],
   "source": [
    "pileup_columns[999].pileups[0].alignment"
   ]
  },
  {
   "cell_type": "markdown",
   "metadata": {},
   "source": [
    "## 5) Scrivere allineamenti in un file `SAM/BAM`"
   ]
  },
  {
   "cell_type": "markdown",
   "metadata": {},
   "source": [
    "Le seguenti istruzione:\n",
    "\n",
    "    output_file = pysam.AlignmentFile(output_file_name, 'w', template=template_file)\n",
    "    output_file = pysam.AlignmentFile(output_file_name, 'wb', template=template_file)\n",
    "    \n",
    "aprono un *handle* in scrittura a un file `SAM/BAM` e usa come Header Section quella presente in `template_file`.\n",
    "\n",
    "Per scrivere un allineamento (oggetto `AlignedSegment`), basta scrivere:\n",
    "\n",
    "    output_file.write(aligned_segment)"
   ]
  }
 ],
 "metadata": {
  "kernelspec": {
   "display_name": "Python 3 (ipykernel)",
   "language": "python",
   "name": "python3"
  },
  "language_info": {
   "codemirror_mode": {
    "name": "ipython",
    "version": 3
   },
   "file_extension": ".py",
   "mimetype": "text/x-python",
   "name": "python",
   "nbconvert_exporter": "python",
   "pygments_lexer": "ipython3",
   "version": "3.9.15"
  }
 },
 "nbformat": 4,
 "nbformat_minor": 4
}
