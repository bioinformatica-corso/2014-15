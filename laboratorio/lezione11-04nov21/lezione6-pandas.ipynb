{
 "cells": [
  {
   "cell_type": "markdown",
   "metadata": {},
   "source": [
    "# Introduzione a Pandas\n",
    "\n",
    "`Pandas` è una libreria, costruita sulla base della libreria `numpy`, che ha lo scopo di manipolare data frames.\n",
    "\n",
    "Oggetto di tipo `DataFrame` = tabella organizzata in righe (records) e colonne intestate.\n",
    "\n",
    "`Pandas` offre tre funzionalità principali:\n",
    "\n",
    "1. costruzione\n",
    "1. interrogazione\n",
    "1. aggiornamento\n",
    "\n",
    "`Pandas` permette di ottenere un data frame a partire da un file in formato tabulare come `csv`, `excel` ma anche a partire da un file in formato `json`.\n",
    "\n",
    "Per usare `Pandas` bisogna importarlo scrivendo:"
   ]
  },
  {
   "cell_type": "code",
   "execution_count": null,
   "metadata": {},
   "outputs": [],
   "source": [
    "import pandas as pd"
   ]
  },
  {
   "cell_type": "markdown",
   "metadata": {},
   "source": [
    "### Leggere un file `csv` con Pandas\n",
    "\n",
    "Un file `csv` è un file composto di record di campi separati da `,` di cui il primo è il record di intestazione che specifica il nome di ognuno dei campi dei record seguenti che contengono i dati.\n",
    "\n",
    "Funzione `read_csv()` per leggere un file `csv`:\n",
    "\n",
    "    df = pd.read_csv(csv_file_name)\n",
    "\n",
    "`df` è il riferimento a oggetto di tipo `DataFrame`"
   ]
  },
  {
   "cell_type": "markdown",
   "metadata": {},
   "source": [
    "#### Ad esempio leggiamo il file `2017-german-election-overall.csv`\n",
    "\n",
    "Pandas riconosce automaticamente il file di input come file in formato `csv` e riconosce i tipi di dati in esso contenuti.\n",
    "\n",
    "Ogni colonna della tabella contiene dati omogenei.\n",
    "\n",
    "Ad ognuno dei record Pandas associa un indice progressivo che ha il ruolo di chiave primaria."
   ]
  },
  {
   "cell_type": "code",
   "execution_count": null,
   "metadata": {
    "scrolled": false
   },
   "outputs": [],
   "source": [
    "df = pd.read_csv(\"./2017-german-election-overall.csv\")"
   ]
  },
  {
   "cell_type": "code",
   "execution_count": null,
   "metadata": {
    "scrolled": false
   },
   "outputs": [],
   "source": [
    "type(df)"
   ]
  },
  {
   "cell_type": "code",
   "execution_count": null,
   "metadata": {
    "scrolled": false
   },
   "outputs": [],
   "source": [
    "df"
   ]
  },
  {
   "cell_type": "markdown",
   "metadata": {},
   "source": [
    "### Ottenere informazioni sul data frame\n",
    "\n",
    "- informazioni generali sul data frame\n",
    "\n",
    "        df.info() \n",
    "        \n",
    "- statistiche generali sul data frame\n",
    "\n",
    "        df.describe() "
   ]
  },
  {
   "cell_type": "code",
   "execution_count": null,
   "metadata": {},
   "outputs": [],
   "source": [
    "df.info()"
   ]
  },
  {
   "cell_type": "code",
   "execution_count": null,
   "metadata": {},
   "outputs": [],
   "source": [
    "df.describe()"
   ]
  },
  {
   "cell_type": "markdown",
   "metadata": {},
   "source": [
    "### Ottenere la copia di un data frame\n",
    "\n",
    "        df.copy()"
   ]
  },
  {
   "cell_type": "code",
   "execution_count": null,
   "metadata": {},
   "outputs": [],
   "source": [
    "df.copy()"
   ]
  },
  {
   "cell_type": "markdown",
   "metadata": {},
   "source": [
    "### Variabili `shape` e `columns`\n",
    "\n",
    "- `shape`, tupla contenente il numero di righe e numero di colonne del data frame\n",
    "- `columns`, oggetto `Index` che contiene i nomi delle colonne del data frame "
   ]
  },
  {
   "cell_type": "code",
   "execution_count": null,
   "metadata": {},
   "outputs": [],
   "source": [
    "df.shape"
   ]
  },
  {
   "cell_type": "code",
   "execution_count": null,
   "metadata": {},
   "outputs": [],
   "source": [
    "list(df.columns)"
   ]
  },
  {
   "cell_type": "markdown",
   "metadata": {},
   "source": [
    "### Cambiare i nomi delle colonne\n",
    "\n",
    "    df.rename(columns = name_dict, inplace = True|False)\n",
    "\n",
    "`name_dict`, dizionario che mappa un nome a un nuovo nome"
   ]
  },
  {
   "cell_type": "code",
   "execution_count": null,
   "metadata": {},
   "outputs": [],
   "source": [
    "df.rename(columns = {'registered.voters':'registered_voters', 'area_names':'area'}, inplace = True)\n",
    "df"
   ]
  },
  {
   "cell_type": "markdown",
   "metadata": {},
   "source": [
    "### Rimuovere colonne\n",
    "\n",
    "    df.drop(column_list, axis = 1, inplace = True|False)"
   ]
  },
  {
   "cell_type": "code",
   "execution_count": null,
   "metadata": {},
   "outputs": [],
   "source": [
    "df.drop(['invalid_second_votes', 'valid_second_votes'], axis=1, inplace = True)\n",
    "df"
   ]
  },
  {
   "cell_type": "markdown",
   "metadata": {},
   "source": [
    "### Rimuovere righe per indice\n",
    "\n",
    "    df.drop(index_list, axis = 0, inplace = True|False)"
   ]
  },
  {
   "cell_type": "code",
   "execution_count": null,
   "metadata": {},
   "outputs": [],
   "source": [
    "df.drop([7,9,12], axis=0, inplace = True)\n",
    "df"
   ]
  },
  {
   "cell_type": "markdown",
   "metadata": {},
   "source": [
    "### Ottenere le prime/ultime righe\n",
    "\n",
    "    df.head(n)\n",
    "    df.tail(n)"
   ]
  },
  {
   "cell_type": "code",
   "execution_count": null,
   "metadata": {},
   "outputs": [],
   "source": [
    "df.head(8)"
   ]
  },
  {
   "cell_type": "code",
   "execution_count": null,
   "metadata": {},
   "outputs": [],
   "source": [
    "df.tail(8)"
   ]
  },
  {
   "cell_type": "code",
   "execution_count": null,
   "metadata": {},
   "outputs": [],
   "source": [
    "df.head()"
   ]
  },
  {
   "cell_type": "code",
   "execution_count": null,
   "metadata": {},
   "outputs": [],
   "source": [
    "df.tail()"
   ]
  },
  {
   "cell_type": "markdown",
   "metadata": {},
   "source": [
    "### Selezionare righe per posizione (*slicing*)\n",
    "\n",
    "    df[start_pos:end_pos]"
   ]
  },
  {
   "cell_type": "code",
   "execution_count": null,
   "metadata": {},
   "outputs": [],
   "source": [
    "df[0:11]"
   ]
  },
  {
   "cell_type": "code",
   "execution_count": null,
   "metadata": {},
   "outputs": [],
   "source": [
    "df[:11]\n",
    "df.head(11)"
   ]
  },
  {
   "cell_type": "markdown",
   "metadata": {},
   "source": [
    "### Selezionare una colonna\n",
    "\n",
    "L'espressione:\n",
    "\n",
    "    df[column_name]\n",
    "    \n",
    "restituisce la colonna con nome `column_name` in un oggetto `Series`, attraverso cui si possono applicare metodi come `max()`, `min()`, `count()`, `var()`, `std()`, `mean()` etc. oppure `describe()`."
   ]
  },
  {
   "cell_type": "code",
   "execution_count": null,
   "metadata": {},
   "outputs": [],
   "source": [
    "type(df['registered_voters'])"
   ]
  },
  {
   "cell_type": "code",
   "execution_count": null,
   "metadata": {},
   "outputs": [],
   "source": [
    "df['registered_voters']"
   ]
  },
  {
   "cell_type": "code",
   "execution_count": null,
   "metadata": {},
   "outputs": [],
   "source": [
    "df['registered_voters'].describe()"
   ]
  },
  {
   "cell_type": "markdown",
   "metadata": {},
   "source": [
    "In alternativa si può usare la notazione con il punto:\n",
    "\n",
    "    df.column_name"
   ]
  },
  {
   "cell_type": "code",
   "execution_count": null,
   "metadata": {},
   "outputs": [],
   "source": [
    "df.registered_voters.describe()"
   ]
  },
  {
   "cell_type": "markdown",
   "metadata": {},
   "source": [
    "### Selezionare colonne\n",
    "\n",
    "L'espressione:\n",
    "\n",
    "    df[column_list]\n",
    "\n",
    "restituisce un data frame con le colonne specificate in `column_list`, attraverso cui si possono applicare metodi come `max()`, `min()`, `count()`, `var()`, `std()`, `mean()`, `corr()` etc."
   ]
  },
  {
   "cell_type": "code",
   "execution_count": null,
   "metadata": {},
   "outputs": [],
   "source": [
    "type(df[['registered_voters', 'total_votes']])"
   ]
  },
  {
   "cell_type": "code",
   "execution_count": null,
   "metadata": {},
   "outputs": [],
   "source": [
    "df[['registered_voters', 'total_votes']].mean()"
   ]
  },
  {
   "cell_type": "code",
   "execution_count": null,
   "metadata": {},
   "outputs": [],
   "source": [
    "df[['registered_voters', 'total_votes']].mean()[1]"
   ]
  },
  {
   "cell_type": "code",
   "execution_count": null,
   "metadata": {},
   "outputs": [],
   "source": [
    "df[['registered_voters', 'total_votes']].corr()"
   ]
  },
  {
   "cell_type": "markdown",
   "metadata": {},
   "source": [
    "**NB**: i metodi possono anche essere invocati sul dataset intero."
   ]
  },
  {
   "cell_type": "code",
   "execution_count": null,
   "metadata": {},
   "outputs": [],
   "source": [
    "df.mean()"
   ]
  },
  {
   "cell_type": "code",
   "execution_count": null,
   "metadata": {},
   "outputs": [],
   "source": [
    "df.corr()"
   ]
  },
  {
   "cell_type": "markdown",
   "metadata": {},
   "source": [
    "### Controllare se ci sono valori nulli\n",
    "\n",
    "Le espressioni:\n",
    "\n",
    "    pd.isnull(df)\n",
    "    df.isnull()\n",
    "    \n",
    "restituiscono un data frame di valori booleani."
   ]
  },
  {
   "cell_type": "code",
   "execution_count": null,
   "metadata": {},
   "outputs": [],
   "source": [
    "pd.isnull(df)"
   ]
  },
  {
   "cell_type": "code",
   "execution_count": null,
   "metadata": {},
   "outputs": [],
   "source": [
    "df.isnull()"
   ]
  },
  {
   "cell_type": "markdown",
   "metadata": {},
   "source": [
    "Le espressioni:\n",
    "\n",
    "    pd.isnull(series_obj)\n",
    "    series_obj.isnull()\n",
    "    \n",
    "restituiscono un data frame di valori booleani."
   ]
  },
  {
   "cell_type": "code",
   "execution_count": null,
   "metadata": {},
   "outputs": [],
   "source": [
    "df['state'].isnull()"
   ]
  },
  {
   "cell_type": "code",
   "execution_count": null,
   "metadata": {},
   "outputs": [],
   "source": [
    "pd.isnull(df['state'])"
   ]
  },
  {
   "cell_type": "markdown",
   "metadata": {},
   "source": [
    "### Metodo `unique()`\n",
    "\n",
    "Il metodo `unique()` degli oggetti `Series` restituisce l'array dei valori distinti presenti nell'oggetto invocante."
   ]
  },
  {
   "cell_type": "code",
   "execution_count": null,
   "metadata": {},
   "outputs": [],
   "source": [
    "df['state'].unique()"
   ]
  },
  {
   "cell_type": "code",
   "execution_count": null,
   "metadata": {},
   "outputs": [],
   "source": [
    "df.state.unique()"
   ]
  },
  {
   "cell_type": "markdown",
   "metadata": {},
   "source": [
    "### Selezionare le righe che verificano una certa condizione\n",
    "\n",
    "Le istruzioni equivalenti:\n",
    "\n",
    "    mask = df[column_name] cfr_op value\n",
    "    mask = df.column_name cfr_op value\n",
    "\n",
    "dove `cfr_op` è un operatore di confronto, assegnano alla variabile `mask` un oggetto `Series` di valori booleani in cui l'i-esimo booleano è `True` se il valore nell'i-esima riga in corrispondenza della colonna `column_name` verifica l'espressione di confronto."
   ]
  },
  {
   "cell_type": "code",
   "execution_count": null,
   "metadata": {},
   "outputs": [],
   "source": [
    "mask = df['state'] == 'Berlin'\n",
    "mask"
   ]
  },
  {
   "cell_type": "code",
   "execution_count": null,
   "metadata": {},
   "outputs": [],
   "source": [
    "mask = df.state == 'Berlin'\n",
    "mask"
   ]
  },
  {
   "cell_type": "markdown",
   "metadata": {},
   "source": [
    "L'espressione:\n",
    "\n",
    "    df[mask]\n",
    "    \n",
    "restituisce un data frame con le sole righe che corrispondono a un valore `True` in `mask`."
   ]
  },
  {
   "cell_type": "code",
   "execution_count": null,
   "metadata": {},
   "outputs": [],
   "source": [
    "df[mask]"
   ]
  },
  {
   "cell_type": "code",
   "execution_count": null,
   "metadata": {},
   "outputs": [],
   "source": [
    "mask = (df['state'] == 'Berlin') | (df['state'] == 'Bayern')\n",
    "df[mask]"
   ]
  },
  {
   "cell_type": "code",
   "execution_count": null,
   "metadata": {},
   "outputs": [],
   "source": [
    "df[mask][['area', 'registered_voters']]"
   ]
  },
  {
   "cell_type": "markdown",
   "metadata": {},
   "source": [
    "### Ottenere gli indici delle righe che verificano una certa condizione\n",
    "\n",
    "    df[mask].index"
   ]
  },
  {
   "cell_type": "code",
   "execution_count": null,
   "metadata": {},
   "outputs": [],
   "source": [
    "df[mask][['area', 'registered_voters']].index"
   ]
  },
  {
   "cell_type": "markdown",
   "metadata": {},
   "source": [
    "### Localizzare righe con `iloc[]`\n",
    "\n",
    "L'espressione:\n",
    "\n",
    "    df.iloc[pos_index]\n",
    "    \n",
    "restituisce in un oggetto di tipo `Series` la riga in posizione di indice `pos_index`."
   ]
  },
  {
   "cell_type": "code",
   "execution_count": null,
   "metadata": {},
   "outputs": [],
   "source": [
    "df.iloc[7]"
   ]
  },
  {
   "cell_type": "code",
   "execution_count": null,
   "metadata": {},
   "outputs": [],
   "source": [
    "df.iloc[7]['area']"
   ]
  },
  {
   "cell_type": "markdown",
   "metadata": {},
   "source": [
    "L'espressione:\n",
    "\n",
    "    df.iloc[start_pos_index:end_pos_index]\n",
    "    \n",
    "restituisce in un oggetto di tipo `DataFrame` tutte le righe dalla posizione di indice `start_pos_index` a quella di indice `end_pos_index-1`."
   ]
  },
  {
   "cell_type": "code",
   "execution_count": null,
   "metadata": {},
   "outputs": [],
   "source": [
    "df.iloc[7:12]"
   ]
  },
  {
   "cell_type": "code",
   "execution_count": null,
   "metadata": {},
   "outputs": [],
   "source": [
    "df.iloc[7:12]['area']"
   ]
  },
  {
   "cell_type": "markdown",
   "metadata": {},
   "source": [
    "L'espressione:\n",
    "\n",
    "    df.iloc[pos_index_list]\n",
    "    \n",
    "restituisce in un oggetto di tipo `DataFrame` tutte le righe dalla posizione di indice `start_pos_index` a quella di indice `end_pos_index-1`."
   ]
  },
  {
   "cell_type": "code",
   "execution_count": null,
   "metadata": {},
   "outputs": [],
   "source": [
    "df.iloc[[7, 8, 11, 13]]"
   ]
  },
  {
   "cell_type": "code",
   "execution_count": null,
   "metadata": {},
   "outputs": [],
   "source": [
    "df.iloc[[7, 8, 11, 13]]['area']"
   ]
  },
  {
   "cell_type": "markdown",
   "metadata": {},
   "source": [
    "### Uso di  `loc[]`\n",
    "\n",
    "- accesso a una riga tramite il suo indice\n",
    "\n",
    "        df.loc[index]"
   ]
  },
  {
   "cell_type": "code",
   "execution_count": null,
   "metadata": {},
   "outputs": [],
   "source": [
    "df.loc[5]"
   ]
  },
  {
   "cell_type": "markdown",
   "metadata": {},
   "source": [
    "- accesso a più righe tramite i loro indici\n",
    "\n",
    "        df.loc[[index1, index2, ...]]"
   ]
  },
  {
   "cell_type": "code",
   "execution_count": null,
   "metadata": {},
   "outputs": [],
   "source": [
    "df.loc[[5,8,10]]"
   ]
  },
  {
   "cell_type": "markdown",
   "metadata": {},
   "source": [
    "- accesso a un valore del data frame\n",
    "\n",
    "        df.loc[index, column_name]"
   ]
  },
  {
   "cell_type": "code",
   "execution_count": null,
   "metadata": {},
   "outputs": [],
   "source": [
    "df.loc[5, 'state']"
   ]
  },
  {
   "cell_type": "markdown",
   "metadata": {},
   "source": [
    "- accesso a più valori del data frame\n",
    "\n",
    "        df.loc[[index1, index2, ...], column_name]"
   ]
  },
  {
   "cell_type": "code",
   "execution_count": null,
   "metadata": {},
   "outputs": [],
   "source": [
    "df.loc[[5,10,11], 'state']"
   ]
  },
  {
   "cell_type": "code",
   "execution_count": null,
   "metadata": {},
   "outputs": [],
   "source": [
    "df.loc[[5,10,11], 'state'] = 'unknown'"
   ]
  },
  {
   "cell_type": "markdown",
   "metadata": {},
   "source": [
    "- accesso a più valori del data frame\n",
    "\n",
    "        df.loc[[index1, index2, ...], [column_name1, column_name2, ...]]"
   ]
  },
  {
   "cell_type": "code",
   "execution_count": null,
   "metadata": {},
   "outputs": [],
   "source": [
    "df.loc[[5,10,11], ['area', 'state']]"
   ]
  },
  {
   "cell_type": "markdown",
   "metadata": {},
   "source": [
    "- accesso alle righe che verificano una certa condizione\n",
    "\n",
    "        df.loc[mask]"
   ]
  },
  {
   "cell_type": "code",
   "execution_count": null,
   "metadata": {
    "scrolled": true
   },
   "outputs": [],
   "source": [
    "df.loc[df['state'] == 'Berlin']"
   ]
  },
  {
   "cell_type": "markdown",
   "metadata": {},
   "source": [
    "### Ottenere un valore tramite un indice con `at[]`\n",
    "\n",
    "    df.at[index, column_name]"
   ]
  },
  {
   "cell_type": "code",
   "execution_count": null,
   "metadata": {},
   "outputs": [],
   "source": [
    "df.at[11, 'area']"
   ]
  },
  {
   "cell_type": "code",
   "execution_count": null,
   "metadata": {},
   "outputs": [],
   "source": [
    "df.at[11, 'area'] = 'unknown'"
   ]
  },
  {
   "cell_type": "markdown",
   "metadata": {},
   "source": [
    "### Ordinare valori\n",
    "\n",
    "Ordinare per valori di una colonna:\n",
    "\n",
    "    df.sort_values(column_name, ascending = True|False, inplace = True|False)\n",
    "    \n",
    "Ordinare per valori di più colonne:\n",
    "\n",
    "    df.sort_values(column_list, ascending = True|False, inplace = True|False)"
   ]
  },
  {
   "cell_type": "code",
   "execution_count": null,
   "metadata": {},
   "outputs": [],
   "source": [
    "df.sort_values('total_votes', ascending = False)"
   ]
  },
  {
   "cell_type": "code",
   "execution_count": null,
   "metadata": {},
   "outputs": [],
   "source": [
    "df.sort_values(['state', 'area'], ascending = True)"
   ]
  },
  {
   "cell_type": "markdown",
   "metadata": {},
   "source": [
    "### Raggruppare i valori\n",
    "\n",
    "L'espressione:\n",
    "\n",
    "    df.groupby(column_name)\n",
    "    df.groupby(column_list)\n",
    "   \n",
    "restituisce un oggetto `DataFrameGroupBy`."
   ]
  },
  {
   "cell_type": "code",
   "execution_count": null,
   "metadata": {},
   "outputs": [],
   "source": [
    "df.groupby('state')['registered_voters'].sum()"
   ]
  },
  {
   "cell_type": "code",
   "execution_count": null,
   "metadata": {},
   "outputs": [],
   "source": [
    "df.groupby(['state', 'area'])['registered_voters'].sum()"
   ]
  },
  {
   "cell_type": "markdown",
   "metadata": {},
   "source": [
    "### Aggiungere una colonna\n",
    "\n",
    "    df[new_column] = new_series_obj"
   ]
  },
  {
   "cell_type": "code",
   "execution_count": null,
   "metadata": {},
   "outputs": [],
   "source": [
    "df['difference'] = df['valid_first_votes'] - df['invalid_first_votes']\n",
    "df"
   ]
  },
  {
   "cell_type": "markdown",
   "metadata": {},
   "source": [
    "### Applicare una funzione a un oggetto `Series`\n",
    "\n",
    "L'espressione:\n",
    "\n",
    "        series_obj.apply(fun)\n",
    "        \n",
    "applica la funzione `fun` a tutti i valori in `series_obj` e restituisce un altro oggetto di tipo `Series`."
   ]
  },
  {
   "cell_type": "code",
   "execution_count": null,
   "metadata": {},
   "outputs": [],
   "source": [
    "df['registered_voters'].apply(lambda x: float(x+1))"
   ]
  },
  {
   "cell_type": "markdown",
   "metadata": {},
   "source": [
    "### Applicare una funzione a un oggetto `DataFrame`\n",
    "\n",
    "L'espressione:\n",
    "\n",
    "        df.applymap(fun)\n",
    "        \n",
    "applica la funzione `fun` a tutti i valori in `df` e restituisce un altro oggetto di tipo `DataFrame`."
   ]
  },
  {
   "cell_type": "code",
   "execution_count": null,
   "metadata": {},
   "outputs": [],
   "source": [
    "df[['registered_voters', 'total_votes']].applymap(lambda x: 'votes='+str(x))"
   ]
  },
  {
   "cell_type": "markdown",
   "metadata": {},
   "source": [
    "### Come iterare i record di un data frame\n",
    "\n",
    "    for (index, record) in df.iterrows():\n",
    "        do_something"
   ]
  },
  {
   "cell_type": "code",
   "execution_count": null,
   "metadata": {},
   "outputs": [],
   "source": [
    "for (index, record) in df.iterrows():\n",
    "        print(str(index) + ' ' + record['state'])"
   ]
  },
  {
   "cell_type": "markdown",
   "metadata": {},
   "source": [
    "### Scrivere un data frame su un file in formato `csv`\n",
    "\n",
    "        df.to_csv(file_name, index=False|True)"
   ]
  },
  {
   "cell_type": "code",
   "execution_count": null,
   "metadata": {},
   "outputs": [],
   "source": [
    "df.to_csv('./output.csv', index = False)"
   ]
  },
  {
   "cell_type": "markdown",
   "metadata": {},
   "source": [
    "### Richiamare `matplotlib` da Pandas"
   ]
  },
  {
   "cell_type": "code",
   "execution_count": null,
   "metadata": {},
   "outputs": [],
   "source": [
    "df.registered_voters.plot(label=\"Registered voters\", legend=True)"
   ]
  }
 ],
 "metadata": {
  "kernelspec": {
   "display_name": "Python 3",
   "language": "python",
   "name": "python3"
  },
  "language_info": {
   "codemirror_mode": {
    "name": "ipython",
    "version": 3
   },
   "file_extension": ".py",
   "mimetype": "text/x-python",
   "name": "python",
   "nbconvert_exporter": "python",
   "pygments_lexer": "ipython3",
   "version": "3.7.1"
  }
 },
 "nbformat": 4,
 "nbformat_minor": 4
}
