{
 "cells": [
  {
   "cell_type": "markdown",
   "metadata": {},
   "source": [
    "# Esercizio1"
   ]
  },
  {
   "cell_type": "raw",
   "metadata": {},
   "source": [
    "                2009\t2010\t2011\t2012\t2013\t2014\t2015\n",
    "    Gennaio\t\t75\t\t63\t\t65\t\t50\t\t77\t\t66\t\t69\n",
    "    Febbraio\t64\t\t65\t\t65\t\t67\t\t50\t\t54\t\t58\n",
    "    Marzo\t\t81\t\t77\t\t73\t\t80\t\t83\t\t89\t\t100\n",
    "    Aprile\t\t89\t\t90\t\t85\t\t90\t\t90\t\t84\t\t90\n",
    "    Maggio\t\t120\t\t129\t\t113\t\t120\t\t135\t\t117\t\t130\n",
    "    Giugno\t\t113\t\t99\t\t116\t\t114\t\t111\t\t119\t\t100\n",
    "    Luglio\t\t111\t\t105\t\t98\t\t112\t\t113\t\t102\t\t100\n",
    "    Agosto\t\t129\t\t131\t\t120\t\t111\t\t141\t\t130\t\t126\n",
    "    Settembre\t90\t\t85\t\t101\t\t88\t\t89\t\t94\t\t91\n",
    "    Ottobre\t\t109\t\t122\t\t103\t\t119\t\t98\t\t101\t\t107\n",
    "    Novembre\t111\t\t121\t\t101\t\t104\t\t121\t\t115\t\t104\n",
    "    Dicembre\t56\t\t67\t\t44\t\t58\t\t61\t\t64\t\t58"
   ]
  },
  {
   "cell_type": "markdown",
   "metadata": {},
   "source": [
    "Si consideri il dataset delle precipitazioni mensili (mm) nei sette anni dal 2009 al 2015, che ha il seguente formato: 13 record di campi separati da tabulazione di cui il primo è il record di intestazione degli anni (composto da 7 campi) e gli altri 12 sono i record delle piogge mensili (un record per ciascun mese) composti da 8 campi di cui il primo è il nome del mese e i rimanenti 7 sono le piogge mensili lungo gli anni.\n",
    "\n",
    "Si richiede di determinare:\n",
    "\n",
    "- le precipitazioni medie mensili (media di pioggia lungo gli anni per ognuno dei mesi)\n",
    "- le precipitazioni totali annue (totale di pioggia per ognuno degli anni)\n",
    "- per ognuno degli anni considerati, il numero di mesi con pioggia oltre una certa soglia (parametro in input)\n",
    "\n",
    "---\n",
    "\n",
    "Parametri di input:\n",
    "- dataset delle precipitazioni\n",
    "- soglia minima di pioggia\n",
    "\n",
    "---"
   ]
  },
  {
   "cell_type": "markdown",
   "metadata": {},
   "source": [
    "## Cosa serve per svolgere l'esercizio?\n",
    "\n",
    "### 1) Leggere le righe di un file\n",
    "\n",
    "Prima alternativa:\n",
    "\n",
    "    input_file =  open(input_file_name, ’r’)    \n",
    "    file_rows = input_file.readlines()\n",
    "    \n",
    "    ...\n",
    "    \n",
    "    input_file.close()\n",
    "    \n",
    "---\n",
    "\n",
    "Seconda alternativa:\n",
    "\n",
    "    with open(input_file_name, ’r’) as input_file:\n",
    "        file_rows = input_file.readlines()\n",
    "        \n",
    "    ..."
   ]
  },
  {
   "cell_type": "markdown",
   "metadata": {},
   "source": [
    "### 2) Costruire una matrice"
   ]
  },
  {
   "cell_type": "markdown",
   "metadata": {},
   "source": [
    "Una matrice può essere implementata in Python come lista di liste della stessa dimensione. \n",
    "\n",
    "Esempio di matrice di 3 righe e 4 colonne:"
   ]
  },
  {
   "cell_type": "code",
   "execution_count": 2,
   "metadata": {},
   "outputs": [],
   "source": [
    "lista = [[1, 2, 3, 4], [5, 6, 7, 8], [9, 10, 11, 12]]"
   ]
  },
  {
   "cell_type": "markdown",
   "metadata": {},
   "source": [
    "La classe `ndarray` del modulo `numpy` permette di rappresentare e manipolare matrici.\n",
    "\n",
    "Il modulo mette a disposizione la funzione `array()` per trasformare una lista di liste in un oggetto `ndarray` e le funzioni per eseguire le tipiche operazioni su matrici."
   ]
  },
  {
   "cell_type": "code",
   "execution_count": null,
   "metadata": {},
   "outputs": [],
   "source": []
  },
  {
   "cell_type": "markdown",
   "metadata": {},
   "source": [
    "Per accedere alla matrice si usa la stessa sintassi di accesso alle liste."
   ]
  },
  {
   "cell_type": "code",
   "execution_count": null,
   "metadata": {},
   "outputs": [],
   "source": []
  },
  {
   "cell_type": "markdown",
   "metadata": {},
   "source": [
    "Per effettuare la scansione delle righe si usa un ciclo `for`."
   ]
  },
  {
   "cell_type": "code",
   "execution_count": null,
   "metadata": {},
   "outputs": [],
   "source": []
  },
  {
   "cell_type": "markdown",
   "metadata": {},
   "source": [
    "La funzione `len()` restituisce il numero di righe della matrice."
   ]
  },
  {
   "cell_type": "code",
   "execution_count": null,
   "metadata": {},
   "outputs": [],
   "source": []
  },
  {
   "cell_type": "markdown",
   "metadata": {},
   "source": [
    "La funzione `transpose()` di `numpy` permette di ottenere la trasposta di una matrice."
   ]
  },
  {
   "cell_type": "code",
   "execution_count": null,
   "metadata": {},
   "outputs": [],
   "source": []
  },
  {
   "cell_type": "markdown",
   "metadata": {},
   "source": [
    "Il metodo `transpose()` permette di ottenere la trasposta della matrice invocante."
   ]
  },
  {
   "cell_type": "code",
   "execution_count": null,
   "metadata": {},
   "outputs": [],
   "source": []
  },
  {
   "cell_type": "markdown",
   "metadata": {},
   "source": [
    "### 3) Convertire una lista di stringhe in lista di interi\n",
    "\n",
    "La funzione `map()` prende il nome di una funzione come primo argomento e un oggetto iterabile come secondo argomento e restituisce un oggetto che mappa ognuno degli elementi del secondo argomento secondo la funzione specificata e che può essere convertito in un oggetto di tipo `list`."
   ]
  },
  {
   "cell_type": "code",
   "execution_count": null,
   "metadata": {},
   "outputs": [],
   "source": []
  },
  {
   "cell_type": "markdown",
   "metadata": {},
   "source": [
    "### 4) Separare una stringa attraverso un separatore\n",
    "\n",
    "Il metodo `split()` degli oggetti di tipo `str` restituisce la lista degli elementi ottenuti separando la stringa invocante tramite il separatore passato come argomento.\n",
    "\n",
    "Se l’argomento viene omesso la stringa invocante viene separata usando spazi di qualsiasi tipo."
   ]
  },
  {
   "cell_type": "code",
   "execution_count": 15,
   "metadata": {},
   "outputs": [
    {
     "data": {
      "text/plain": [
       "['aa', 'aa', 'aa']"
      ]
     },
     "execution_count": 15,
     "metadata": {},
     "output_type": "execute_result"
    }
   ],
   "source": [
    "'aa\\taa\\taa'.split()"
   ]
  },
  {
   "cell_type": "code",
   "execution_count": 16,
   "metadata": {},
   "outputs": [
    {
     "data": {
      "text/plain": [
       "['aa', 'aa', 'aa']"
      ]
     },
     "execution_count": 16,
     "metadata": {},
     "output_type": "execute_result"
    }
   ],
   "source": [
    "'aa \\n\\t aa \\n\\t   aa'.split()"
   ]
  },
  {
   "cell_type": "code",
   "execution_count": 17,
   "metadata": {},
   "outputs": [
    {
     "data": {
      "text/plain": [
       "['aa', '\\n\\t', 'aa', '\\n\\t', '', '', 'aa']"
      ]
     },
     "execution_count": 17,
     "metadata": {},
     "output_type": "execute_result"
    }
   ],
   "source": [
    "'aa \\n\\t aa \\n\\t   aa'.split(' ')"
   ]
  },
  {
   "cell_type": "code",
   "execution_count": 18,
   "metadata": {},
   "outputs": [
    {
     "data": {
      "text/plain": [
       "['aa', '', 'aa', 'aa']"
      ]
     },
     "execution_count": 18,
     "metadata": {},
     "output_type": "execute_result"
    }
   ],
   "source": [
    "'aa\\t\\taa\\taa'.split('\\t')"
   ]
  },
  {
   "cell_type": "markdown",
   "metadata": {},
   "source": [
    "### 5) Rimuovere da una lista l'elemento in una certa posizione\n",
    "\n",
    "Il metodo `pop()` degli oggetti di tipo `list` rimuove e restituisce l’elemento della lista invocante che si trova nella posizione specificata come argomento."
   ]
  },
  {
   "cell_type": "code",
   "execution_count": null,
   "metadata": {},
   "outputs": [],
   "source": []
  },
  {
   "cell_type": "markdown",
   "metadata": {},
   "source": [
    "### 6) Contare gli elementi di una sequenza che sono uguali a un certo valore\n",
    "\n",
    "Il metodo `count()` delle *sequenze* restituisce il numero di elementi della *sequenza* invocante che sono uguali al valore passato come argomento"
   ]
  },
  {
   "cell_type": "code",
   "execution_count": null,
   "metadata": {},
   "outputs": [],
   "source": []
  },
  {
   "cell_type": "markdown",
   "metadata": {},
   "source": [
    "### 7) Unire due liste di dimensione N in una lista di dimensione N i cui elementi sono tuple di dimensione due che uniscono gli elementi nelle stesse posizioni delle due liste.\n",
    "\n",
    "La funzione `zip()` prende in input una serie di oggetti iterabili della stessa dimensione e restituisce un oggetto che contiene le tuple che uniscono gli elementi nella stessa posizione."
   ]
  },
  {
   "cell_type": "code",
   "execution_count": null,
   "metadata": {},
   "outputs": [],
   "source": []
  }
 ],
 "metadata": {
  "kernelspec": {
   "display_name": "Python 3 (ipykernel)",
   "language": "python",
   "name": "python3"
  },
  "language_info": {
   "codemirror_mode": {
    "name": "ipython",
    "version": 3
   },
   "file_extension": ".py",
   "mimetype": "text/x-python",
   "name": "python",
   "nbconvert_exporter": "python",
   "pygments_lexer": "ipython3",
   "version": "3.9.15"
  }
 },
 "nbformat": 4,
 "nbformat_minor": 2
}
