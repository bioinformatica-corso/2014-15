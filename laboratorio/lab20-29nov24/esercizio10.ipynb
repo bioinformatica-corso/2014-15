{
 "cells": [
  {
   "cell_type": "markdown",
   "metadata": {},
   "source": [
    "# Esercizio 10"
   ]
  },
  {
   "cell_type": "markdown",
   "metadata": {},
   "source": [
    "Prendere in input il file FASTA `M10051.fa`, contenente un mRNA (cioé il trascritto espresso da un gene) e determinare tutte le proteine più lunghe di 1000 amminoacidi che il trascritto può esprimere. Per ognuna di esse determinare lo start e l'end del relativo Open Reading Frame.\n",
    "\n",
    "Un Open Reading Frame (ORF) una sottostringa dell'mRNA, con lunghezza multiplo di 3, che inizia con lo start codon `atg`, finisce con uno stop codon (`taa`, `tag`, `tga`) e non contiene al suo interno uno stop codon, cioè non contiene una sottostringa, uguale a `taa`, `tag` oppure `tga`, che sia in *frame* con lo start codon `atg`.\n",
    "\n",
    "---"
   ]
  },
  {
   "cell_type": "code",
   "execution_count": 1,
   "metadata": {},
   "outputs": [],
   "source": []
  },
  {
   "cell_type": "markdown",
   "metadata": {},
   "source": [
    "## Leggere la sequenza del trascritto"
   ]
  },
  {
   "cell_type": "code",
   "execution_count": 2,
   "metadata": {},
   "outputs": [],
   "source": []
  },
  {
   "cell_type": "markdown",
   "metadata": {},
   "source": [
    "## Eseguire la traduzione di ognuno dei tre frame di lettura del trascritto\n",
    "\n",
    "- Primo frame di lettura --> tutto il trascritto\n",
    "- Secondo frame di lettura --> tutto il trascritto tranne la prima base\n",
    "- Terzo frame di lettura --> tutto il trascritto tranne le prime due basi\n",
    "\n",
    "Esempio di trascritto:\n",
    "\n",
    "        cgtgaggacggatgcccttgatgtcatgacggtgaggtaactctgagt\n",
    "\n",
    "Frame di lettura:\n",
    "\n",
    "        cgtgaggacggatgcccttgatgtcatgacggtgaggtaactctgagt  I\n",
    "         gtgaggacggatgcccttgatgtcatgacggtgaggtaactctgagt  II\n",
    "          tgaggacggatgcccttgatgtcatgacggtgaggtaactctgagt  III\n"
   ]
  },
  {
   "cell_type": "code",
   "execution_count": null,
   "metadata": {},
   "outputs": [],
   "source": []
  },
  {
   "cell_type": "markdown",
   "metadata": {},
   "source": [
    "## Separare ognuna delle traduzioni per stop codon\n",
    "\n",
    "        REDGCP*CHDGEVTLS\t\n",
    "        VRTDALDVMTVR*L*\t\t\n",
    "        *GRMPLMS*R*GNSE\t\t\n",
    "        \n",
    "Separazione per carattere `*`\n",
    "\n",
    "        REDGCP   CHDGEVTLS\t\n",
    "        VRTDALDVMTVR   L\t\t\n",
    "        GRMPLMS  R  GNSE\t\n"
   ]
  },
  {
   "cell_type": "code",
   "execution_count": null,
   "metadata": {},
   "outputs": [],
   "source": []
  },
  {
   "cell_type": "markdown",
   "metadata": {},
   "source": [
    "## Estrarre da ogni stringa i suffissi più lunghi di 1000 che iniziano con `M` \n",
    "\n",
    "\n",
    "        REDGCP   CHDGEVTLS\t\n",
    "        VRTDALDVMTVR   L\t\t\n",
    "        GRMPLMS  R  GNSE\t\n",
    "        \n",
    "Suffissi che iniziano con `M`\n",
    "        \n",
    "        MTVR   MPLMS   MS"
   ]
  },
  {
   "cell_type": "markdown",
   "metadata": {},
   "source": [
    "Importiamo il modulo re per usare le espressioni regolari."
   ]
  },
  {
   "cell_type": "code",
   "execution_count": 12,
   "metadata": {},
   "outputs": [],
   "source": []
  },
  {
   "cell_type": "markdown",
   "metadata": {},
   "source": [
    "Estraiamo tutti i suffissi che iniziano con `M` dai chunk dei tre frame di lettura"
   ]
  },
  {
   "cell_type": "code",
   "execution_count": null,
   "metadata": {},
   "outputs": [],
   "source": []
  },
  {
   "cell_type": "code",
   "execution_count": null,
   "metadata": {},
   "outputs": [],
   "source": [
    "candidate_proteins"
   ]
  },
  {
   "cell_type": "markdown",
   "metadata": {},
   "source": [
    "### Per ognuna delle proteine candidate risaliamo al relativo Open Reading Frame (ORF) sul trascritto"
   ]
  },
  {
   "cell_type": "code",
   "execution_count": null,
   "metadata": {},
   "outputs": [],
   "source": []
  },
  {
   "cell_type": "markdown",
   "metadata": {},
   "source": [
    "### Proteina espressa dal trascritto secondo l'annotazione"
   ]
  },
  {
   "cell_type": "raw",
   "metadata": {},
   "source": [
    ">M10051 139..4287\n",
    "MGTGGRRGAAAAPLLVAVAALLLGAAGHLYPGEVCPGMDIRNNLTRLHELENCSVIEGHL\n",
    "QILLMFKTRPEDFRDLSFPKLIMITDYLLLFRVYGLESLKDLFPNLTVIRGSRLFFNYAL\n",
    "VIFEMVHLKELGLYNLMNITRGSVRIEKNNELCYLATIDWSRILDSVEDNHIVLNKDDNE\n",
    "ECGDICPGTAKGKTNCPATVINGQFVERCWTHSHCQKVCPTICKSHGCTAEGLCCHSECL\n",
    "GNCSQPDDPTKCVACRNFYLDGRCVETCPPPYYHFQDWRCVNFSFCQDLHHKCKNSRRQG\n",
    "CHQYVIHNNKCIPECPSGYTMNSSNLLCTPCLGPCPKVCHLLEGEKTIDSVTSAQELRGC\n",
    "TVINGSLIINIRGGNNLAAELEANLGLIEEISGYLKIRRSYALVSLSFFRKLRLIRGETL\n",
    "EIGNYSFYALDNQNLRQLWDWSKHNLTTTQGKLFFHYNPKLCLSEIHKMEEVSGTKGRQE\n",
    "RNDIALKTNGDKASCENELLKFSYIRTSFDKILLRWEPYWPPDFRDLLGFMLFYKEAPYQ\n",
    "NVTEFDGQDACGSNSWTVVDIDPPLRSNDPKSQNHPGWLMRGLKPWTQYAIFVKTLVTFS\n",
    "DERRTYGAKSDIIYVQTDATNPSVPLDPISVSNSSSQIILKWKPPSDPNGNITHYLVFWE\n",
    "RQAEDSELFELDYCLKGLKLPSRTWSPPFESEDSQKHNQSEYEDSAGECCSCPKTDSQIL\n",
    "KELEESSFRKTFEDYLHNVVFVPRKTSSGTGAEDPRPSRKRRSLGDVGNVTVAVPTVAAF\n",
    "PNTSSTSVPTSPEEHRPFEKVVNKESLVISGLRHFTGYRIELQACNQDTPEERCSVAAYV\n",
    "SARTMPEAKADDIVGPVTHEIFENNVVHLMWQEPKEPNGLIVLYEVSYRRYGDEELHLCV\n",
    "SRKHFALERGCRLRGLSPGNYSVRIRATSLAGNGSWTEPTYFYVTDYLDVPSNIAKIIIG\n",
    "PLIFVFLFSVVIGSIYLFLRKRQPDGPLGPLYASSNPEYLSASDVFPCSVYVPDEWEVSR\n",
    "EKITLLRELGQGSFGMVYEGNARDIIKGEAETRVAVKTVNESASLRERIEFLNEASVMKG\n",
    "FTCHHVVRLLGVVSKGQPTLVVMELMAHGDLKSYLRSLRPEAENNPGRPPPTLQEMIQMA\n",
    "AEIADGMAYLNAKKFVHRDLAARNCMVAHDFTVKIGDFGMTRDIYETDYYRKGGKGLLPV\n",
    "RWMAPESLKDGVFTTSSDMWSFGVVLWEITSLAEQPYQGLSNEQVLKFVMDGGYLDQPDN\n",
    "CPERVTDLMRMCWQFNPKMRPTFLEIVNLLKDDLHPSFPEVSFFHSEENKAPESEELEME\n",
    "FEDMENVPLDRSSHCQREEAGGRDGGSSLGFKRSYEEHIPYTHMNGGKKNGRILTLPRSN\n",
    "PS"
   ]
  }
 ],
 "metadata": {
  "kernelspec": {
   "display_name": "Python 3 (ipykernel)",
   "language": "python",
   "name": "python3"
  },
  "language_info": {
   "codemirror_mode": {
    "name": "ipython",
    "version": 3
   },
   "file_extension": ".py",
   "mimetype": "text/x-python",
   "name": "python",
   "nbconvert_exporter": "python",
   "pygments_lexer": "ipython3",
   "version": "3.9.15"
  }
 },
 "nbformat": 4,
 "nbformat_minor": 2
}
