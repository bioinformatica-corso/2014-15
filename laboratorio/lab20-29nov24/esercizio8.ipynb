{
 "cells": [
  {
   "cell_type": "markdown",
   "metadata": {},
   "source": [
    "# Esercizio 8"
   ]
  },
  {
   "cell_type": "markdown",
   "metadata": {},
   "source": [
    "Prendere in input il file `embl` `M10051.txt`, contenente un mRNA (cioé il trascritto espresso da un gene) e determinare tutte le proteine più lunghe di 1000 amminoacidi che il trascritto può esprimere. Per ognuna di esse determinare lo start e l'end del relativo Open Reading Frame.\n",
    "\n",
    "Un Open Reading Frame (ORF) una sottostringa dell'mRNA, con lunghezza multiplo di 3, che inizia con lo start codon `atg`, finisce con uno stop codon (`taa`, `tag`, `tga`) e non contiene al suo interno uno stop codon, cioè non contiene una sottostringa, uguale a `taa`, `tag` oppure `tga`, che sia in *frame* con lo start codon `atg`.\n",
    "\n",
    "---"
   ]
  },
  {
   "cell_type": "code",
   "execution_count": null,
   "metadata": {},
   "outputs": [],
   "source": [
    "import Bio"
   ]
  },
  {
   "cell_type": "markdown",
   "metadata": {},
   "source": [
    "## Leggere la sequenza del trascritto"
   ]
  },
  {
   "cell_type": "code",
   "execution_count": null,
   "metadata": {},
   "outputs": [],
   "source": [
    "from Bio import SeqIO"
   ]
  },
  {
   "cell_type": "code",
   "execution_count": null,
   "metadata": {},
   "outputs": [],
   "source": [
    "transcript_sequence = SeqIO.read('./M10051.txt', 'embl').seq"
   ]
  },
  {
   "cell_type": "markdown",
   "metadata": {},
   "source": [
    "## Eseguire la traduzione di ognuno dei tre frame di lettura del trascritto\n",
    "\n",
    "- Primo frame di lettura --> tutto il trascritto\n",
    "- Secondo frame di lettura --> tutto il trascritto tranne la prima base\n",
    "- Terzo frame di lettura --> tutto il trascritto tranne le prime due basi\n",
    "\n",
    "Esempio di trascritto:\n",
    "\n",
    "        cgtgaggacggatgcccttgatgtcatgacggtgaggtaactctgagt\n",
    "\n",
    "Frame di lettura:\n",
    "\n",
    "        cgtgaggacggatgcccttgatgtcatgacggtgaggtaactctgagt  I\n",
    "         gtgaggacggatgcccttgatgtcatgacggtgaggtaactctgagt  II\n",
    "          tgaggacggatgcccttgatgtcatgacggtgaggtaactctgagt  III\n"
   ]
  },
  {
   "cell_type": "code",
   "execution_count": null,
   "metadata": {},
   "outputs": [],
   "source": [
    "frame_translations = [transcript_sequence[i:].translate() for i in {0,1,2}]"
   ]
  },
  {
   "cell_type": "code",
   "execution_count": null,
   "metadata": {},
   "outputs": [],
   "source": [
    "frame_translations"
   ]
  },
  {
   "cell_type": "markdown",
   "metadata": {},
   "source": [
    "## Separare ognuna delle traduzioni per stop codon\n",
    "\n",
    "        REDGCP*CHDGEVTLS\t\n",
    "        VRTDALDVMTVR*L*\t\t\n",
    "        *GRMPLMS*R*GNSE\t\t\n",
    "        \n",
    "Separazione per carattere `*`\n",
    "\n",
    "        REDGCP   CHDGEVTLS\t\n",
    "        VRTDALDVMTVR   L\t\t\n",
    "        GRMPLMS  R  GNSE\t\n"
   ]
  },
  {
   "cell_type": "code",
   "execution_count": null,
   "metadata": {},
   "outputs": [],
   "source": [
    "chunk_list = [frame.split('*') for frame in frame_translations]"
   ]
  },
  {
   "cell_type": "code",
   "execution_count": null,
   "metadata": {},
   "outputs": [],
   "source": [
    "chunk_list"
   ]
  },
  {
   "cell_type": "markdown",
   "metadata": {},
   "source": [
    "## Estrarre da ogni stringa i suffissi lunghi almeno 1000 caratteri che iniziano con `M` \n",
    "\n",
    "\n",
    "        REDGCP   CHDGEVTLS\t\n",
    "        VRTDALDVMTVR   L\t\t\n",
    "        GRMPLMS  R  GNSE\t\n",
    "        \n",
    "Suffissi che iniziano con `M`\n",
    "        \n",
    "        MTVR   MPLMS   MS"
   ]
  },
  {
   "cell_type": "markdown",
   "metadata": {},
   "source": [
    "Importiamo il modulo re per usare le espressioni regolari."
   ]
  },
  {
   "cell_type": "code",
   "execution_count": null,
   "metadata": {},
   "outputs": [],
   "source": [
    "import re"
   ]
  },
  {
   "cell_type": "markdown",
   "metadata": {},
   "source": [
    "Estraiamo tutti i suffissi (lunghi almeno 1000 caratteri) che iniziano con `M` dai chunk dei tre frame di lettura"
   ]
  },
  {
   "cell_type": "code",
   "execution_count": null,
   "metadata": {},
   "outputs": [],
   "source": [
    "candidate_proteins = []\n",
    "\n",
    "for (f, chunk_list_for_a_frame) in enumerate(chunk_list):\n",
    "    offset = 0\n",
    "    for chunk in chunk_list_for_a_frame:\n",
    "        #print(chunk)\n",
    "        occ_list = list(re.finditer('M', str(chunk)))\n",
    "        for occ in occ_list:\n",
    "            protein = chunk[occ.start():]\n",
    "            if len(protein) >= 1000:\n",
    "                candidate_proteins.append([protein, f, offset, occ.start()])\n",
    "                \n",
    "        offset = offset + len(chunk) + 1"
   ]
  },
  {
   "cell_type": "code",
   "execution_count": null,
   "metadata": {},
   "outputs": [],
   "source": [
    "candidate_proteins"
   ]
  },
  {
   "cell_type": "markdown",
   "metadata": {},
   "source": [
    "### Per ognuna delle proteine candidate risaliamo al relativo Open Reading Frame (ORF) sul trascritto"
   ]
  },
  {
   "cell_type": "code",
   "execution_count": null,
   "metadata": {},
   "outputs": [],
   "source": [
    "for cp in candidate_proteins:\n",
    "    protein = cp[0]\n",
    "    f = cp[1]\n",
    "    offset = cp[2]\n",
    "    p_start = cp[3]\n",
    "    \n",
    "    orf_start = f + (offset + p_start)*3 + 1\n",
    "    orf_end = orf_start + len(protein)*3 + 2\n",
    "    print(protein)\n",
    "    print(orf_start, orf_end)\n",
    "    print('************************')"
   ]
  },
  {
   "cell_type": "markdown",
   "metadata": {},
   "source": [
    "### Proteina espressa dal trascritto secondo l'annotazione"
   ]
  },
  {
   "cell_type": "raw",
   "metadata": {},
   "source": [
    ">M10051 139..4287\n",
    "MGTGGRRGAAAAPLLVAVAALLLGAAGHLYPGEVCPGMDIRNNLTRLHELENCSVIEGHL\n",
    "QILLMFKTRPEDFRDLSFPKLIMITDYLLLFRVYGLESLKDLFPNLTVIRGSRLFFNYAL\n",
    "VIFEMVHLKELGLYNLMNITRGSVRIEKNNELCYLATIDWSRILDSVEDNHIVLNKDDNE\n",
    "ECGDICPGTAKGKTNCPATVINGQFVERCWTHSHCQKVCPTICKSHGCTAEGLCCHSECL\n",
    "GNCSQPDDPTKCVACRNFYLDGRCVETCPPPYYHFQDWRCVNFSFCQDLHHKCKNSRRQG\n",
    "CHQYVIHNNKCIPECPSGYTMNSSNLLCTPCLGPCPKVCHLLEGEKTIDSVTSAQELRGC\n",
    "TVINGSLIINIRGGNNLAAELEANLGLIEEISGYLKIRRSYALVSLSFFRKLRLIRGETL\n",
    "EIGNYSFYALDNQNLRQLWDWSKHNLTTTQGKLFFHYNPKLCLSEIHKMEEVSGTKGRQE\n",
    "RNDIALKTNGDKASCENELLKFSYIRTSFDKILLRWEPYWPPDFRDLLGFMLFYKEAPYQ\n",
    "NVTEFDGQDACGSNSWTVVDIDPPLRSNDPKSQNHPGWLMRGLKPWTQYAIFVKTLVTFS\n",
    "DERRTYGAKSDIIYVQTDATNPSVPLDPISVSNSSSQIILKWKPPSDPNGNITHYLVFWE\n",
    "RQAEDSELFELDYCLKGLKLPSRTWSPPFESEDSQKHNQSEYEDSAGECCSCPKTDSQIL\n",
    "KELEESSFRKTFEDYLHNVVFVPRKTSSGTGAEDPRPSRKRRSLGDVGNVTVAVPTVAAF\n",
    "PNTSSTSVPTSPEEHRPFEKVVNKESLVISGLRHFTGYRIELQACNQDTPEERCSVAAYV\n",
    "SARTMPEAKADDIVGPVTHEIFENNVVHLMWQEPKEPNGLIVLYEVSYRRYGDEELHLCV\n",
    "SRKHFALERGCRLRGLSPGNYSVRIRATSLAGNGSWTEPTYFYVTDYLDVPSNIAKIIIG\n",
    "PLIFVFLFSVVIGSIYLFLRKRQPDGPLGPLYASSNPEYLSASDVFPCSVYVPDEWEVSR\n",
    "EKITLLRELGQGSFGMVYEGNARDIIKGEAETRVAVKTVNESASLRERIEFLNEASVMKG\n",
    "FTCHHVVRLLGVVSKGQPTLVVMELMAHGDLKSYLRSLRPEAENNPGRPPPTLQEMIQMA\n",
    "AEIADGMAYLNAKKFVHRDLAARNCMVAHDFTVKIGDFGMTRDIYETDYYRKGGKGLLPV\n",
    "RWMAPESLKDGVFTTSSDMWSFGVVLWEITSLAEQPYQGLSNEQVLKFVMDGGYLDQPDN\n",
    "CPERVTDLMRMCWQFNPKMRPTFLEIVNLLKDDLHPSFPEVSFFHSEENKAPESEELEME\n",
    "FEDMENVPLDRSSHCQREEAGGRDGGSSLGFKRSYEEHIPYTHMNGGKKNGRILTLPRSN\n",
    "PS"
   ]
  }
 ],
 "metadata": {
  "kernelspec": {
   "display_name": "Python 3 (ipykernel)",
   "language": "python",
   "name": "python3"
  },
  "language_info": {
   "codemirror_mode": {
    "name": "ipython",
    "version": 3
   },
   "file_extension": ".py",
   "mimetype": "text/x-python",
   "name": "python",
   "nbconvert_exporter": "python",
   "pygments_lexer": "ipython3",
   "version": "3.9.15"
  }
 },
 "nbformat": 4,
 "nbformat_minor": 2
}
