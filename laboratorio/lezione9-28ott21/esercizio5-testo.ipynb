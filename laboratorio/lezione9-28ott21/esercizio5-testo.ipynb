{
 "cells": [
  {
   "cell_type": "markdown",
   "metadata": {},
   "source": [
    "# Esercizio 5\n",
    "\n",
    "Prendere in input un file in formato `GTF` (Gene Transfer Format), che annota un set di geni su una genomica di riferimento, insieme al file `FASTA` della genomica di riferimento e produrre:\n",
    "\n",
    "- le sequenze dei trascritti oppure le sequenze delle coding sequences (CDS) per i geni annotati in formato `FASTA`, a seconda della scelta dell'utente\n",
    "- il set degli HUGO NAMES dei geni per cui è stata prodotta una sequenza (trascritto oppure CDS) al punto precedente\n",
    "\n",
    "L'*header* `FASTA` di ogni sequenza prodotta deve contenere:\n",
    "\n",
    "- lo HUGO name del gene di riferimento\n",
    "- l’identificatore del trascritto di riferimento\n",
    "- la lunghezza della sequenza prodotta\n",
    "- il tipo di sequenza (trascritto o CDS)\n",
    "- lo strand del gene\n",
    "    \n",
    "Esempio di *header* per un trascritto:\n",
    "         \n",
    "    >ARHGAP4; U52112.4-003; len=3235 type=transcript; strand=-\n",
    "\n",
    "Esempio di *header* per una CDS:\n",
    "\n",
    "    >AVPR2; U52112.2-003; len=642; type=cds; strand=+\n",
    "   \n",
    "***\n",
    "\n",
    "Parametri in input:\n",
    "\n",
    "- file in formato `GTF`\n",
    "- file della genomica di riferimento in formato `FASTA`\n",
    "- *feature* della sequenza da ricostruire: `exon` se si vogliono ricostruire i trascritti o `CDS` se si vogliono ricostruire le coding sequences\n",
    "\n",
    "***\n",
    "\n",
    "Requisiti:\n",
    "\n",
    "- deve essere definita una funzione `format_fasta()` che prenda come argomenti un header `FASTA` e una sequenza, e restituisca la sequenza in formato FASTA separata in righe di 80 caratteri.\n",
    "\n",
    "- deve essere definita una funzione `reverse_complement()` che prenda come argomento una sequenza nucleotidica e ne restituisca il reverse&complement.\n",
    "\n",
    "- deve essere definita una funzione `compose_feature()` che prenda come argomenti una lista di features come tuple *(start, end)*) di *features*, la genomica di riferimento, lo strand del gene di riferimento ed effettui la concatenazione delle sequenze delle *features*, eventualmente operando il reverse&complement se lo strand è `-`.\n",
    "\n",
    "**NOTA BENE**: gli attributi del nono campo del file `GTF` non sono ad ordine fisso all'interno del campo. Per estrarre quindi un determinato attributo si deve usare un'espressione regolare e non il metodo `split()`."
   ]
  },
  {
   "cell_type": "markdown",
   "metadata": {},
   "source": [
    "***"
   ]
  }
 ],
 "metadata": {
  "kernelspec": {
   "display_name": "Python 3",
   "language": "python",
   "name": "python3"
  },
  "language_info": {
   "codemirror_mode": {
    "name": "ipython",
    "version": 3
   },
   "file_extension": ".py",
   "mimetype": "text/x-python",
   "name": "python",
   "nbconvert_exporter": "python",
   "pygments_lexer": "ipython3",
   "version": "3.7.1"
  }
 },
 "nbformat": 4,
 "nbformat_minor": 2
}
