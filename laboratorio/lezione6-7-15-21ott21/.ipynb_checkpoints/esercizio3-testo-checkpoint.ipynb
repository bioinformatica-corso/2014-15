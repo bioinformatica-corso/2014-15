{
 "cells": [
  {
   "cell_type": "markdown",
   "metadata": {},
   "source": [
    "# Esercizio 3\n",
    "\n",
    "EMBL (http://www.ebi.ac.uk/cgi-bin/sva/sva.pl/) è una banca di sequenze nucleotidiche sviluppata da EMBL-EBI (European Bioinformatics Institute, European Molecular Biology Laboratory), in cui ogni sequenza nucleotidica viene memorizzata, con altre informazioni, in un file di puro testo (*EMBL entry*) in un formato che prende il nome di `EMBL`.\n",
    "\n",
    "**Il formato `EMBL`** è composto da *record* che iniziano con un codice a due lettere maisucole che ne indica il contenuto. I soli *record* che non iniziano con un codice a due lettere sono quelli (nella parte finale) contenenti la sequenza nucleotidica.\n",
    "Il record `//` segnala la fine del file.\n",
    "\n",
    "L'esercizio richiede di scaricare (in formato `EMBL`) la sequenza nucleotidica con identificatore `M10051`, contenente un mRNA (cioé un trascritto espresso da un gene), e scrivere un notebook che ottenga da tale *entry*:\n",
    "\n",
    "- la sequenza nucleotidica in formato `FASTA`\n",
    "- la sequenza della corrispondente proteina in formato `FASTA`\n",
    "\n",
    "---\n",
    "\n",
    "Requisiti:\n",
    "\n",
    "- nell’*header* `FASTA` della sequenza nucleotidica devono comparire l’identificatore univoco della sequenza e l’organismo a cui si riferisce, nel seguente formato:\n",
    "\n",
    "        >M10051-HUM\n",
    "        \n",
    "- la sequenza nucleotidica deve essere prodotta su alfabeto `{a,c,g,u}`\n",
    "        \n",
    "- nell’*header* `FASTA` della sequenza della proteina devono comparire l’identificatore univoco della sequenza, l’organismo e la lunghezza della proteina, nel seguente formato:\n",
    "\n",
    "        >M10051-HUM; len = 1382\n",
    "        \n",
    "- le sequenze nucleotidiche devono essere prodotte in record di 80 caratteri (e non su unica riga)\n",
    "\n",
    "- deve essere definita una funzione `format_fasta()` che prenda come argomenti una stringa contenente l'intestazione `FASTA` e una sequenza nucleotidica (o una proteina) e restituisca la sequenza in formato `FASTA` con la sequenza separata in righe di 80 caratteri.\n",
    "\n",
    "- usare solo espressioni regolari per estrarre le informazioni\n",
    "\n",
    "***\n",
    "\n",
    "Produrre i due output in due oggetti di tipo stringa.\n",
    "\n",
    "***\n",
    "\n",
    "Record da considerare per l'esercizio:\n",
    "\n",
    "- Il record che inizia con `ID`:\n",
    " \n",
    "       ID   M10051; SV 1; linear; mRNA; STD; HUM; 4723 BP.\n",
    "\n",
    "contiene l'identificatore univoco della sequenza (M10051) e l'organismo (HUM). Il fatto che il file si riferisca alla sequenza nucleotidica di un gene è indicato dalla presenza della parola `mRNA`.\n",
    "\n",
    "- L'insieme di tutti i record che iniziano con `FT` contengono le *features* annotate sulla sequenza nucleotidica. In particolare tutti i record della sezione:\n",
    "\n",
    "       FT                   /translation=\"MGTGGRRGAAAAPLLVAVAALLLGAAGHLYPGEVCPGMDIRNNLT\n",
    "       FT                   RLHELENCSVIEGHLQILLMFKTRPEDFRDLSFPKLIMITDYLLLFRVYGLESLKDLFP\n",
    "       FT                   NLTVIRGSRLFFNYALVIFEMVHLKELGLYNLMNITRGSVRIEKNNELCYLATIDWSRI\n",
    "       FT                   LDSVEDNHIVLNKDDNEECGDICPGTAKGKTNCPATVINGQFVERCWTHSHCQKVCPTI\n",
    "       FT                   [...]\n",
    "       FT                   DGGSSLGFKRSYEEHIPYTHMNGGKKNGRILTLPRSNPS\"\n",
    "        \n",
    "contengono la sequenza della proteina che corrisponde alla sequenza di mRNA in questione.\n",
    "\n",
    "- Il record che inizia con `SQ`:\n",
    "\n",
    "        SQ   Sequence 4723 BP; 1068 A; 1298 C; 1311 G; 1046 T; 0 other;\n",
    "        \n",
    "introduce la sezione della sequenza nucleotidica e fornisce la sua composizione nucleotidica oltre che la sua lunghezza. \n",
    "La sezione termina con il record `//` (segnale di fine del file).\n",
    "La sequenza nucleotidica viene rappresentata tramite una serie di record che iniziano con degli spazi, e ogni record contiene un pezzo di sequenza lungo 60 basi. Ogni pezzo di 60 basi è a sua volta separato in pezzi di 10 basi.\n",
    "Il numero intero alla fine di un *record* di sequenza fornisce la lunghezza totale della sequenza fino a questo punto.\n",
    "\n",
    "    SQ   Sequence 4723 BP; 1068 A; 1298 C; 1311 G; 1046 T; 0 other;\n",
    "         ggggggctgc gcggccgggt cggtgcgcac acgagaagga cgcgcggccc ccagcgctct        60\n",
    "         tgggggccgc ctcggagcat gacccccgcg ggccagcgcc gcgcgcctga tccgaggaga       120\n",
    "         ccccgcgctc ccgcagccat gggcaccggg ggccggcggg gggcggcggc cgcgccgctg       180\n",
    "         ctggtggcgg tggccgcgct gctactgggc gccgcgggcc acctgtaccc cggagaggtg       240\n",
    "         tgtcccggca tggatatccg gaacaacctc actaggttgc atgagctgga gaattgctct       300\n",
    "         gtcatcgaag gacacttgca gatactcttg atgttcaaaa cgaggcccga agatttccga       360\n",
    "         gacctcagtt tccccaaact catcatgatc actgattact tgctgctctt ccgggtctat       420\n",
    "         gggctcgaga gcctgaagga cctgttcccc aacctcacgg tcatccgggg atcacgactg       480\n",
    "         [...]\n",
    "         tttttcgttc cccccacccg cccccagcag atggaaagaa agcacctgtt tttacaaatt      4620\n",
    "         cttttttttt tttttttttt tttttttttg ctggtgtctg agcttcagta taaaagacaa      4680\n",
    "         aacttcctgt ttgtggaaca aaatttcgaa agaaaaaacc aaa                        4723\n",
    "    //\n",
    "    \n",
    "**NOTA BENE**:\n",
    "- l'alfabeto degli amminoacidi è {ACDEFGHIKLMNPQRSTVWY}\n",
    "- la sequenza nucleotidica riportata nell'*entry* `EMBL` è su alfabeto `{a,c,g,t}` nonostante rappresenti la sequenza primaria di un mRNA. Per ottenere la sequenza su alfabeto `{a,c,g,u}` basta operare una sostituzione di tutti i simboli `t` con simboli `u`.\n",
    "\n",
    "***"
   ]
  },
  {
   "cell_type": "markdown",
   "metadata": {},
   "source": [
    "### Come leggere un file in input in un'unica stringa\n",
    "\n",
    "Lo *statement*\n",
    "\n",
    "    with open(input_file_name, ’r’) as input_file:\n",
    "        file_str = input_file.read()\n",
    "        \n",
    "permette di ottenere l'*handle* in lettura `input_file` del file `input_file_name` e di assegnare il suo contenuto alla stringa `file_str`. Al termine, l'*handle* viene chiuso e lo script può processare la stringa `file_str`."
   ]
  },
  {
   "cell_type": "markdown",
   "metadata": {},
   "source": [
    "### Operazioni di ricerca in stringhe contenenti il simbolo `\\n`\n",
    "\n",
    "Invocando `re.search()` o `re.findall` con un terzo argomento uguale al flag `re.M` si forza a interpretare su più righe la stringa `my_string`. "
   ]
  },
  {
   "cell_type": "markdown",
   "metadata": {},
   "source": [
    "### Funzioni/Metodi suggeriti"
   ]
  },
  {
   "cell_type": "markdown",
   "metadata": {},
   "source": [
    "- Il metodo `join()` degli oggetti di tipo `str` restituisce la concatenazione degli elementi della lista passata come argomento usando la stringa invocante come separatore."
   ]
  },
  {
   "cell_type": "code",
   "execution_count": 5,
   "metadata": {},
   "outputs": [
    {
     "data": {
      "text/plain": [
       "'aa+aa+aa'"
      ]
     },
     "execution_count": 5,
     "metadata": {},
     "output_type": "execute_result"
    }
   ],
   "source": [
    "'+'.join(['aa','aa','aa'])"
   ]
  }
 ],
 "metadata": {
  "kernelspec": {
   "display_name": "Python 3",
   "language": "python",
   "name": "python3"
  },
  "language_info": {
   "codemirror_mode": {
    "name": "ipython",
    "version": 3
   },
   "file_extension": ".py",
   "mimetype": "text/x-python",
   "name": "python",
   "nbconvert_exporter": "python",
   "pygments_lexer": "ipython3",
   "version": "3.7.1"
  }
 },
 "nbformat": 4,
 "nbformat_minor": 2
}
