{
 "cells": [
  {
   "cell_type": "markdown",
   "metadata": {},
   "source": [
    "# Esercizio 5\n",
    "\n",
    "Prendere in input un file in formato `GTF` (Gene Transfer Format), che annota un set di geni su una genomica di riferimento, insieme al file `FASTA` della genomica di riferimento e produrre:\n",
    "\n",
    "- le sequenze dei trascritti oppure le sequenze delle coding sequences (CDS) per i geni annotati in formato `FASTA`, a seconda della scelta dell'utente\n",
    "- il set degli HUGO NAMES dei geni per cui è stata prodotta una sequenza (trascritto oppure CDS) al punto precedente\n",
    "\n",
    "L'*header* `FASTA` di ogni sequenza prodotta deve contenere:\n",
    "\n",
    "- lo HUGO name del gene di riferimento\n",
    "- l’identificatore del trascritto di riferimento\n",
    "- la lunghezza della sequenza prodotta\n",
    "- il tipo di sequenza (trascritto o CDS)\n",
    "- lo strand del gene\n",
    "    \n",
    "Esempio di *header* per un trascritto:\n",
    "         \n",
    "    >ARHGAP4; U52112.4-003; len=3235 type=transcript; strand=-\n",
    "\n",
    "Esempio di *header* per una CDS:\n",
    "\n",
    "    >AVPR2; U52112.2-003; len=642; type=cds; strand=+\n",
    "   \n",
    "***\n",
    "\n",
    "Parametri in input:\n",
    "\n",
    "- file in formato `GTF`\n",
    "- file della genomica di riferimento in formato `FASTA`\n",
    "- *feature* della sequenza da ricostruire: `exon` se si vogliono ricostruire i trascritti o `CDS` se si vogliono ricostruire le coding sequences\n",
    "\n",
    "***\n",
    "\n",
    "Requisiti:\n",
    "\n",
    "- deve essere definita una funzione `format_fasta()` che prenda come argomenti un header `FASTA` e una sequenza, e restituisca la sequenza in formato FASTA separata in righe di 80 caratteri.\n",
    "\n",
    "- deve essere definita una funzione `reverse_complement()` che prenda come argomento una sequenza nucleotidica e ne restituisca il reverse&complement.\n",
    "\n",
    "- deve essere definita una funzione `compose_feature()` che prenda come argomenti una lista di features come tuple *(start, end)*) di *features*, la genomica di riferimento, lo strand del gene di riferimento ed effettui la concatenazione delle sequenze delle *features*, eventualmente operando il reverse&complement se lo strand è `-`.\n",
    "\n",
    "**NOTA BENE**: gli attributi del nono campo del file `GTF` non sono ad ordine fisso all'interno del campo. Per estrarre quindi un determinato attributo si deve usare un'espressione regolare e non il metodo `split()`."
   ]
  },
  {
   "cell_type": "markdown",
   "metadata": {},
   "source": [
    "***"
   ]
  },
  {
   "cell_type": "markdown",
   "metadata": {},
   "source": [
    "## Soluzione"
   ]
  },
  {
   "cell_type": "markdown",
   "metadata": {},
   "source": [
    "Importare il modulo `re` per usare le espressioni regolari."
   ]
  },
  {
   "cell_type": "code",
   "execution_count": null,
   "metadata": {},
   "outputs": [],
   "source": [
    "import re"
   ]
  },
  {
   "cell_type": "markdown",
   "metadata": {},
   "source": [
    "### Definizione della funzione `format_fasta()`\n",
    "\n",
    "La funzione prende come argomento una stringa contenente un *header* `FASTA` e una sequenza (nucleotidica o di proteina) e restituisce la sequenza in formato `FASTA` separata in righe di 80 caratteri."
   ]
  },
  {
   "cell_type": "code",
   "execution_count": null,
   "metadata": {},
   "outputs": [],
   "source": [
    "def format_fasta(header, sequence):\n",
    "    return header + '\\n' + '\\n'.join(re.findall('\\w{1,80}', sequence))"
   ]
  },
  {
   "cell_type": "markdown",
   "metadata": {},
   "source": [
    "**NOTA BENE**: supporre che l'*header* in input alla funzione abbia già il simbolo `>` all'inizio, ma non il simbolo `\\n` alla fine."
   ]
  },
  {
   "cell_type": "markdown",
   "metadata": {},
   "source": [
    "### Definizione della funzione `reverse_complement()`\n",
    "\n",
    "La funzione prende come argomento una stringa contenente una sequenza nucleotidica e restituisce la versione *reverse and complement* della sequenza."
   ]
  },
  {
   "cell_type": "code",
   "execution_count": null,
   "metadata": {},
   "outputs": [],
   "source": [
    "def reverse_complement(sequence):\n",
    "    sequence = sequence.lower()\n",
    "    sequence = sequence[::-1]\n",
    "    complement = {'a':'t', 't':'a', 'c':'g', 'g':'c'}\n",
    "    return ''.join([complement[c] for c in sequence])\n",
    "\n",
    "reverse_complement('aaattt')"
   ]
  },
  {
   "cell_type": "markdown",
   "metadata": {},
   "source": [
    "**NOTA BENE**: fare in modo che la funzione sia indipendente dal caso della sequenza in input (maiuscolo o minuscolo)."
   ]
  },
  {
   "cell_type": "markdown",
   "metadata": {},
   "source": [
    "### Definizione della funzione `compose_feature()`\n",
    "\n",
    "La funzione prende come argomenti una lista di features come tuple *(start, end)*, la genomica di riferimento, lo strand del gene, ed effettua la concatenazione delle sequenze delle *features*, ed eventualmente il reverse&complement se lo strand del gene è `-`."
   ]
  },
  {
   "cell_type": "code",
   "execution_count": null,
   "metadata": {},
   "outputs": [],
   "source": [
    "def compose_feature(feature_list, reference_sequence, strand):\n",
    "    reconstructed_sequence = ''.join(reference_sequence[f[0]-1:f[1]] for f in sorted(feature_list))\n",
    "    \n",
    "    if strand == '-':\n",
    "        reconstructed_sequence = reverse_complement(reconstructed_sequence)\n",
    "        \n",
    "    return reconstructed_sequence"
   ]
  },
  {
   "cell_type": "markdown",
   "metadata": {},
   "source": [
    "**NOTA BENE**: concatenare le sequenze delle *features* sempre per coordinate crescenti."
   ]
  },
  {
   "cell_type": "markdown",
   "metadata": {},
   "source": [
    "### Parametri in input"
   ]
  },
  {
   "cell_type": "code",
   "execution_count": null,
   "metadata": {},
   "outputs": [],
   "source": [
    "gtf_file_name = './input.gtf'\n",
    "reference_file_name = './ENm006.fa'\n",
    "feature_name = 'CDS'"
   ]
  },
  {
   "cell_type": "markdown",
   "metadata": {},
   "source": [
    "### Lettura del file `FASTA` della genomica di riferimento"
   ]
  },
  {
   "cell_type": "markdown",
   "metadata": {},
   "source": [
    "Lettura del file della genomica di riferimento nella lista di righe `reference_file_rows`"
   ]
  },
  {
   "cell_type": "code",
   "execution_count": null,
   "metadata": {},
   "outputs": [],
   "source": [
    "with open(reference_file_name, 'r') as input_file:\n",
    "    reference_file_rows = input_file.readlines()"
   ]
  },
  {
   "cell_type": "code",
   "execution_count": null,
   "metadata": {},
   "outputs": [],
   "source": [
    "reference_file_rows"
   ]
  },
  {
   "cell_type": "markdown",
   "metadata": {},
   "source": [
    "Determinazione della sequenza di riferimento in un'unica stringa."
   ]
  },
  {
   "cell_type": "code",
   "execution_count": null,
   "metadata": {},
   "outputs": [],
   "source": [
    "genomic_reference = ''.join(reference_file_rows[1:]).rstrip().replace('\\n', '')"
   ]
  },
  {
   "cell_type": "code",
   "execution_count": null,
   "metadata": {},
   "outputs": [],
   "source": [
    "genomic_reference"
   ]
  },
  {
   "cell_type": "markdown",
   "metadata": {},
   "source": [
    "Lettura del file della genomica di riferimento nella stringa `reference_file_string`"
   ]
  },
  {
   "cell_type": "code",
   "execution_count": null,
   "metadata": {},
   "outputs": [],
   "source": [
    "with open(reference_file_name, 'r') as input_file:\n",
    "    reference_file_string = input_file.read()\n",
    "\n",
    "reference_file_string"
   ]
  },
  {
   "cell_type": "markdown",
   "metadata": {},
   "source": [
    "Determinazione della sequenza di riferimento in un'unica stringa."
   ]
  },
  {
   "cell_type": "code",
   "execution_count": null,
   "metadata": {},
   "outputs": [],
   "source": [
    "genomic_reference2 = ''.join(re.findall('\\n(\\w+)', reference_file_string))"
   ]
  },
  {
   "cell_type": "code",
   "execution_count": null,
   "metadata": {},
   "outputs": [],
   "source": [
    "genomic_reference2"
   ]
  },
  {
   "cell_type": "code",
   "execution_count": null,
   "metadata": {},
   "outputs": [],
   "source": [
    "genomic_reference2 == genomic_reference"
   ]
  },
  {
   "cell_type": "markdown",
   "metadata": {},
   "source": [
    "### Lettura dei *record* del file `GTF`"
   ]
  },
  {
   "cell_type": "markdown",
   "metadata": {},
   "source": [
    "Lettura dei *record* del file `GTF` nella lista di righe `gtf_file_rows`"
   ]
  },
  {
   "cell_type": "code",
   "execution_count": null,
   "metadata": {},
   "outputs": [],
   "source": [
    "with open(gtf_file_name, 'r') as input_file:\n",
    "    gtf_file_rows = input_file.readlines()"
   ]
  },
  {
   "cell_type": "code",
   "execution_count": null,
   "metadata": {
    "scrolled": false
   },
   "outputs": [],
   "source": [
    "gtf_file_rows"
   ]
  },
  {
   "cell_type": "markdown",
   "metadata": {},
   "source": [
    "### Filtraggio dei *record* `GTF` che occorrono per ricostruire le sequenze del tipo scelto"
   ]
  },
  {
   "cell_type": "markdown",
   "metadata": {},
   "source": [
    "Eliminare dalla lista `gtf_file_rows` i *record* `GTF` che non corrispondono al tipo di *feature* che compone la sequenza che si è scelto di ricostruire, cioé per i quali il terzo campo non è uguale al valore della variabile `feature_name` (`exon` se si è scelto di ricostruire i trascritti full-length e `CDS` se si è scelto di ricostruire le coding sequences)."
   ]
  },
  {
   "cell_type": "code",
   "execution_count": null,
   "metadata": {},
   "outputs": [],
   "source": [
    "gtf_file_rows = [row for row in gtf_file_rows if row.rstrip().split()[2] == feature_name]"
   ]
  },
  {
   "cell_type": "code",
   "execution_count": null,
   "metadata": {},
   "outputs": [],
   "source": [
    "gtf_file_rows"
   ]
  },
  {
   "cell_type": "markdown",
   "metadata": {},
   "source": [
    "### Costruzione del dizionario degli *strand* e del set dei geni annotati\n",
    "\n",
    "A partire dalla lista precedente, costruire:\n",
    "- il dizionario degli *strand*:\n",
    "    - *chiave*: HUGO name del gene\n",
    "    - *valore*: strand del gene (`+` o `-`)\n",
    "    \n",
    "- il set dei geni annotati relativamente al tipo di sequenza che si vuole ricostruire\n",
    "\n",
    "**NOTA BENE**: il valore dello *strand* (settimo campo del *record* `GTF`) è costante per un determinato gene.\n",
    "\n",
    "Inizializzazione del dizionario vuoto."
   ]
  },
  {
   "cell_type": "code",
   "execution_count": null,
   "metadata": {},
   "outputs": [],
   "source": [
    "strand_dict = {}"
   ]
  },
  {
   "cell_type": "markdown",
   "metadata": {},
   "source": [
    "Attraversare la lista dei record di tipo uguale a `feature_name` e riempire il dizionario."
   ]
  },
  {
   "cell_type": "code",
   "execution_count": null,
   "metadata": {},
   "outputs": [],
   "source": [
    "for row in gtf_file_rows:\n",
    "    strand = row.rstrip().split('\\t')[6]\n",
    "    #hugo_name = re.search('[\\w\\s;]+gene_id\\s\"(\\w+)', row.rstrip().split('\\t')[8]).group(1)\n",
    "    hugo_name = re.search('gene_id\\s\"(\\w+)\";', row).group(1)\n",
    "    strand_dict[hugo_name] = strand"
   ]
  },
  {
   "cell_type": "code",
   "execution_count": null,
   "metadata": {},
   "outputs": [],
   "source": [
    "strand_dict"
   ]
  },
  {
   "cell_type": "markdown",
   "metadata": {},
   "source": [
    "Estrarre dal dizionario il set dei geni annotati."
   ]
  },
  {
   "cell_type": "code",
   "execution_count": null,
   "metadata": {},
   "outputs": [],
   "source": [
    "gene_set = set(strand_dict)"
   ]
  },
  {
   "cell_type": "code",
   "execution_count": null,
   "metadata": {},
   "outputs": [],
   "source": [
    "gene_set"
   ]
  },
  {
   "cell_type": "markdown",
   "metadata": {},
   "source": [
    "### Ricostruzione delle sequenze\n",
    "\n",
    "Costruire:\n",
    "\n",
    "- il dizionario degli ID dei trascritti:\n",
    "    - *chiave*: HUGO name del gene\n",
    "    - *valore*: set dei `transcript_id` coinvolti in record di tipo `exon` (se si vogliono ricostruire i trascritti) oppure in record di tipo `CDS` (se si vogliono ricostruire le coding sequence)\n",
    "    \n",
    "    \n",
    "- il dizionario delle composizioni in features:\n",
    "    - *chiave*: identificatore del trascritto\n",
    "    - *valore*: lista delle tuple *(start, end)* delle features (records) che compongono la sequenza da ricostruire (trascritto oppure coding sequence) per il trascritto"
   ]
  },
  {
   "cell_type": "markdown",
   "metadata": {},
   "source": [
    "Inizializzare i dizionari vuoti."
   ]
  },
  {
   "cell_type": "code",
   "execution_count": null,
   "metadata": {},
   "outputs": [],
   "source": [
    "id_dict = {}\n",
    "composition_dict = {}"
   ]
  },
  {
   "cell_type": "markdown",
   "metadata": {},
   "source": [
    "Attraversare la lista `gtf_file_rows` e riempire i due dizionari."
   ]
  },
  {
   "cell_type": "code",
   "execution_count": null,
   "metadata": {},
   "outputs": [],
   "source": [
    "for row in gtf_file_rows:\n",
    "    hugo_name = re.search('gene_id\\s\"(\\w+)\";', row).group(1)\n",
    "    transcript_id = re.search('transcript_id\\s\"([^\"]+)\";', row).group(1)\n",
    "    \n",
    "    feature_start = row.rstrip().split('\\t')[3]\n",
    "    feature_end = row.rstrip().split('\\t')[4]\n",
    "    \n",
    "    id_dict_value = id_dict.get(hugo_name, set())\n",
    "    id_dict_value.add(transcript_id)\n",
    "    id_dict.update([(hugo_name, id_dict_value)])\n",
    "    \n",
    "    composition_dict_value = composition_dict.get(transcript_id, list())\n",
    "    composition_dict_value.append((int(feature_start), int(feature_end)))\n",
    "    composition_dict.update([(transcript_id, composition_dict_value)])"
   ]
  },
  {
   "cell_type": "markdown",
   "metadata": {},
   "source": [
    "**NOTA BENE**: un'espressione regolare simile a quella usata per estrarre lo HUGO NAME, cioé `'transcript_id\\s+\"(\\w+)\";'` non può funzionare per estrarre dal *record* l'ID del trascritto in quanto in tale ID è presente anche il simbolo di punto `.` che non fa parte della classe dei simboli di parola rappresentata da `\\w`. Quindi è meglio usare l'espressione regolare `'transcript_id\\s+\"([^\"]+)\";'`."
   ]
  },
  {
   "cell_type": "code",
   "execution_count": null,
   "metadata": {},
   "outputs": [],
   "source": [
    "id_dict"
   ]
  },
  {
   "cell_type": "code",
   "execution_count": null,
   "metadata": {},
   "outputs": [],
   "source": [
    "composition_dict"
   ]
  },
  {
   "cell_type": "markdown",
   "metadata": {},
   "source": [
    "A partire dai dizionari precedenti, costruire la lista di tuple *(header, sequenza)* in cui il primo elemento è l'*header* `FASTA` e il secondo elemento è la sequenza ricostruita.\n",
    "\n",
    "L'*header* deve essere del tipo:\n",
    "\n",
    "    >ARHGAP4; U52112.4-003; len=3235; type=transcript; strand=-\n",
    "    \n",
    "se si è scelto di ricostruire i trascritti full-length, e:\n",
    "\n",
    "    >ARHGAP4; U52112.4-005; len=642; type=cds; strand=-\n",
    "    \n",
    "se si è scelto di ricostruire le coding sequences (CDS)."
   ]
  },
  {
   "cell_type": "code",
   "execution_count": null,
   "metadata": {},
   "outputs": [],
   "source": [
    "sequence_fasta_list = []\n",
    "\n",
    "sequence_type = {'exon' : 'transcript', 'CDS' : 'cds'}\n",
    "\n",
    "for hugo_name in id_dict:\n",
    "    for transcript_id in id_dict[hugo_name]:\n",
    "        r_sequence = compose_feature(composition_dict[transcript_id], genomic_reference, strand_dict[hugo_name])\n",
    "        header = '>' + hugo_name + '; ' + transcript_id + '; len=' + str(len(r_sequence)) + '; type=' + sequence_type[feature_name] + '; strand=' + strand_dict[hugo_name]\n",
    "        sequence_fasta_list.append((header, r_sequence))"
   ]
  },
  {
   "cell_type": "code",
   "execution_count": null,
   "metadata": {},
   "outputs": [],
   "source": [
    "sequence_fasta_list"
   ]
  },
  {
   "cell_type": "markdown",
   "metadata": {},
   "source": [
    "Trasformare la lista di tuple in una lista di sequenze in formato `FASTA`."
   ]
  },
  {
   "cell_type": "code",
   "execution_count": null,
   "metadata": {},
   "outputs": [],
   "source": [
    "sequence_fasta_list = [format_fasta(t[0], t[1]) for t in sequence_fasta_list]"
   ]
  },
  {
   "cell_type": "code",
   "execution_count": null,
   "metadata": {
    "scrolled": true
   },
   "outputs": [],
   "source": [
    "for seq in sequence_fasta_list:\n",
    "    print(seq)"
   ]
  },
  {
   "cell_type": "code",
   "execution_count": null,
   "metadata": {},
   "outputs": [],
   "source": []
  }
 ],
 "metadata": {
  "kernelspec": {
   "display_name": "Python 3",
   "language": "python",
   "name": "python3"
  },
  "language_info": {
   "codemirror_mode": {
    "name": "ipython",
    "version": 3
   },
   "file_extension": ".py",
   "mimetype": "text/x-python",
   "name": "python",
   "nbconvert_exporter": "python",
   "pygments_lexer": "ipython3",
   "version": "3.7.1"
  }
 },
 "nbformat": 4,
 "nbformat_minor": 2
}
