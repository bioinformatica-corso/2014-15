{
 "cells": [
  {
   "cell_type": "markdown",
   "metadata": {},
   "source": [
    "# Esercizio 3\n",
    "\n",
    "EMBL (http://www.ebi.ac.uk/cgi-bin/sva/sva.pl/) è una banca di sequenze nucleotidiche sviluppata da EMBL-EBI (European Bioinformatics Institute, European Molecular Biology Laboratory), in cui ogni sequenza nucleotidica viene memorizzata, con altre informazioni, in un file di puro testo (*entry*) in un formato che prende il nome di `EMBL`.\n",
    "\n",
    "**Il formato `EMBL`** è composto da una serie di *record* che iniziano con un codice a due lettere (maisucole) indicante il suo contenuto. I soli *record* che non iniziano con un codice a due lettere sono quelli contenenti la sequenza nucleotidica.\n",
    "\n",
    "L'esercizio richiede di scaricare (in formato `EMBL`) la sequenza nucleotidica con identificatore `M10051`, contenente un mRNA (cioé un trascritto espresso da un gene), e scrivere un notebook che ottenga da tale *entry*:\n",
    "\n",
    "- la sequenza nucleotidica in formato `FASTA`\n",
    "- la sequenza della corrispondente proteina in formato `FASTA`\n",
    "\n",
    "***\n",
    "\n",
    "Record da considerare per l'esercizio:\n",
    "\n",
    "- Il record che inizia con `ID`:\n",
    " \n",
    "       ID   M10051; SV 1; linear; mRNA; STD; HUM; 4723 BP.\n",
    "\n",
    "contiene l'identificatore univoco della sequenza (M10051) e l'organismo (HUM). Il fatto che il file si riferisca alla sequenza nucleotidica di un gene è indicato dalla presenza della parola `mRNA`.\n",
    "\n",
    "- L'insieme dei record che iniziano con `FT` contengono le *features* annotate sulla sequenza nucleotidica. In particolare tutti i record della sezione:\n",
    "\n",
    "       FT                   /translation=\"MGTGGRRGAAAAPLLVAVAALLLGAAGHLYPGEVCPGMDIRNNLT\n",
    "       FT                   RLHELENCSVIEGHLQILLMFKTRPEDFRDLSFPKLIMITDYLLLFRVYGLESLKDLFP\n",
    "       FT                   NLTVIRGSRLFFNYALVIFEMVHLKELGLYNLMNITRGSVRIEKNNELCYLATIDWSRI\n",
    "       FT                   LDSVEDNHIVLNKDDNEECGDICPGTAKGKTNCPATVINGQFVERCWTHSHCQKVCPTI\n",
    "       FT                   [...]\n",
    "       FT                   DGGSSLGFKRSYEEHIPYTHMNGGKKNGRILTLPRSNPS\"\n",
    "        \n",
    "contengono la sequenza della proteina che corrisponde alla sequenza in questione (che è un mRNA).\n",
    "\n",
    "- Il record che inizia con `SQ`:\n",
    "\n",
    "        SQ   Sequence 4723 BP; 1068 A; 1298 C; 1311 G; 1046 T; 0 other;\n",
    "        \n",
    "introduce la sezione della sequenza nucleotidica e fornisce la sua composizione nucleotidica oltre che la sua lunghezza. \n",
    "La sezione termina con il record `//` (fine del file).\n",
    "La sequenza nucleotidica viene rappresentata tramite una serie di record che iniziano con degli spazi, e ogni reacord contiene un pezzo della sequenza lungo 60 basi. Ogni pezzo di 60 basi è a sua volta separato in pezzi di 10 basi.\n",
    "Il numero intero alla fine di un *record* di sequenza fornisce la lunghezza totale della sequenza fino a questo punto.\n",
    "\n",
    "    SQ   Sequence 4723 BP; 1068 A; 1298 C; 1311 G; 1046 T; 0 other;\n",
    "         ggggggctgc gcggccgggt cggtgcgcac acgagaagga cgcgcggccc ccagcgctct        60\n",
    "         tgggggccgc ctcggagcat gacccccgcg ggccagcgcc gcgcgcctga tccgaggaga       120\n",
    "         ccccgcgctc ccgcagccat gggcaccggg ggccggcggg gggcggcggc cgcgccgctg       180\n",
    "         ctggtggcgg tggccgcgct gctactgggc gccgcgggcc acctgtaccc cggagaggtg       240\n",
    "         tgtcccggca tggatatccg gaacaacctc actaggttgc atgagctgga gaattgctct       300\n",
    "         gtcatcgaag gacacttgca gatactcttg atgttcaaaa cgaggcccga agatttccga       360\n",
    "         gacctcagtt tccccaaact catcatgatc actgattact tgctgctctt ccgggtctat       420\n",
    "         gggctcgaga gcctgaagga cctgttcccc aacctcacgg tcatccgggg atcacgactg       480\n",
    "         [...]\n",
    "         tttttcgttc cccccacccg cccccagcag atggaaagaa agcacctgtt tttacaaatt      4620\n",
    "         cttttttttt tttttttttt tttttttttg ctggtgtctg agcttcagta taaaagacaa      4680\n",
    "         aacttcctgt ttgtggaaca aaatttcgaa agaaaaaacc aaa                        4723\n",
    "    //\n",
    "    \n",
    "**NOTA BENE**:\n",
    "- l'alfabeto degli amminoacidi è {ACDEFGHIKLMNPQRSTVWY}\n",
    "- la sequenza nucleotidica riportata nell'*entry* `EMBL` è su alfabeto {a,c,g,t} nonostante rappresenti la sequenza primaria di un mRNA. Per ottenere la sequenza su alfabeto {a,c,g,u} basta operare una sostituzione di tutti i simboli `t` con simboli `u`.\n",
    "\n",
    "***\n",
    "\n",
    "Requisiti dell'output:\n",
    "\n",
    "- nell’*header* della sequenza nucleotidica in formato `FASTA` devono comparire l’identificatore univoco della sequenza e l’organismo a cui si riferisce, nel seguente formato:\n",
    "\n",
    "        >M10051-HUM\n",
    "        \n",
    "- la sequenza nucleotidica deve essere prodotta su alfabeto {a,c,g,u}\n",
    "        \n",
    "- nell’*header* della sequenza della proteina in formato `FASTA` devono comparire l’identificatore univoco della sequenza, l’organismo e la lunghezza della proteina, nel seguente formato:\n",
    "\n",
    "        >M10051-HUM; len = 1427\n",
    "        \n",
    "- le sequenze in formato `FASTA` devono essere prodotte in righe di 80 caratteri\n",
    "\n",
    "- deve essere definita una funzione `format_fasta()` che prenda come argomenti una stringa contenente l'intestazione `FASTA`, una sequenza nucleotidica/proteica, e restituisca la sequenza in formato `FASTA` con la sequenza nucleotidica separata in righe di 80 caratteri.\n",
    "\n",
    "- usare solo espressioni regolari per estrarre le informazioni\n",
    "\n",
    "***\n",
    "\n",
    "Variabili di output:\n",
    "- `nucleotide_sequence_fasta`: sequenza nucleotidica in formato`FASTA`\n",
    "- `protein_sequence_fasta`: sequenza della proteina in formato `FASTA`\n",
    "\n",
    "***"
   ]
  },
  {
   "cell_type": "markdown",
   "metadata": {},
   "source": [
    "## Soluzione"
   ]
  },
  {
   "cell_type": "markdown",
   "metadata": {},
   "source": [
    "### Definizione della funzione `format_fasta()`\n",
    "\n",
    "La funzione prende come argomento una stringa contenente un *header* `FASTA` e una sequenza (nucleotidica o proteica) e restituisce la sequenza in formato `FASTA`."
   ]
  },
  {
   "cell_type": "code",
   "execution_count": 1,
   "metadata": {},
   "outputs": [],
   "source": []
  },
  {
   "cell_type": "markdown",
   "metadata": {},
   "source": [
    "**NOTA BENE**: supporre che l'*header* in input alla funzione abbia già il simbolo `>` all'inizio, ma non il simbolo `\\n` alla fine."
   ]
  },
  {
   "cell_type": "markdown",
   "metadata": {},
   "source": [
    "### Parametri in input"
   ]
  },
  {
   "cell_type": "code",
   "execution_count": 2,
   "metadata": {},
   "outputs": [],
   "source": [
    "input_file_name = './M10051.txt'"
   ]
  },
  {
   "cell_type": "markdown",
   "metadata": {},
   "source": [
    "Importare il modulo `re` per utilizzare le espressioni regolari."
   ]
  },
  {
   "cell_type": "code",
   "execution_count": 3,
   "metadata": {},
   "outputs": [],
   "source": [
    "import re"
   ]
  },
  {
   "cell_type": "markdown",
   "metadata": {},
   "source": [
    "### Lettura del file `EMBL` nell'unica stringa `file_str`"
   ]
  },
  {
   "cell_type": "code",
   "execution_count": 4,
   "metadata": {},
   "outputs": [],
   "source": []
  },
  {
   "cell_type": "code",
   "execution_count": 5,
   "metadata": {},
   "outputs": [
    {
     "data": {
      "text/plain": [
       "'ID   M10051; SV 1; linear; mRNA; STD; HUM; 4723 BP.\\nXX\\nAC   M10051;\\nXX\\nDT   02-JUL-1986 (Rel. 09, Created)\\nDT   14-NOV-2006 (Rel. 89, Last updated, Version 7)\\nXX\\nDE   Human insulin receptor mRNA, complete cds.\\nXX\\nKW   insulin receptor; tyrosine kinase.\\nXX\\nOS   Homo sapiens (human)\\nOC   Eukaryota; Metazoa; Chordata; Craniata; Vertebrata; Euteleostomi; Mammalia;\\nOC   Eutheria; Euarchontoglires; Primates; Haplorrhini; Catarrhini; Hominidae;\\nOC   Homo.\\nXX\\nRN   [1]\\nRP   1-4723\\nRX   DOI; 10.1016/0092-8674(85)90334-4.\\nRX   PUBMED; 2859121.\\nRA   Ebina Y., Ellis L., Jarnagin K., Edery M., Graf L., Clauser E., Ou J.-H.,\\nRA   Masiarz F., Kan Y.W., Goldfine I.D., Roth R.A., Rutter W.J.;\\nRT   \"The human insulin receptor cDNA: the structural basis for\\nRT   hormone-activated transmembrane signalling\";\\nRL   Cell 40(4):747-758(1985).\\nXX\\nDR   MD5; e4e6ebf2e723a500c1dd62385c279351.\\nDR   Ensembl-Gn; ENSG00000171105; homo_sapiens.\\nDR   Ensembl-Tr; ENST00000302850; homo_sapiens.\\nDR   Ensembl-Tr; ENST00000341500; homo_sapiens.\\nDR   EuropePMC; PMC2739203; 19682364.\\nDR   EuropePMC; PMC3164640; 21909271.\\nDR   EuropePMC; PMC452597; 15146055.\\nXX\\nCC   [1] suggests that the insulin receptor may be the cellular homolog\\nCC   of the v-ros transforming (oncogene) protein.  [1] notes\\nCC   similarities between the insulin receptor and several growth factor\\nCC   receptors and oncogenes.  Insulin receptor is a heterodimer\\nCC   consisting of 2 alpha and 2 beta subunits.  Beta-prime may be a\\nCC   cleavage product produced upon binding of insulin.  [1] suggests\\nCC   that translation may begin at the \\'atg\\' start codon at positions\\nCC   79-81 with protein cleavage occurring after position 120 to yield\\nCC   the signal peptide.  [1] gives illustrations of the various domains\\nCC   present in the protein.  A draft entry and sequence for [1] in\\nCC   computer-readable form were kindly provided by K. Jarnagin\\nCC   (30-JUL-1985).\\nXX\\nFH   Key             Location/Qualifiers\\nFH\\nFT   source          1..4723\\nFT                   /organism=\"Homo sapiens\"\\nFT                   /map=\"19p13.3-p13.2\"\\nFT                   /mol_type=\"mRNA\"\\nFT                   /db_xref=\"taxon:9606\"\\nFT   sig_peptide     137..219\\nFT                   /note=\"insulin receptor signal peptide\"\\nFT   CDS             139..4287\\nFT                   /codon_start=1\\nFT                   /gene=\"INSR\"\\nFT                   /note=\"insulin receptor precursor\"\\nFT                   /db_xref=\"GOA:P06213\"\\nFT                   /db_xref=\"H-InvDB:HIT000194074.15\"\\nFT                   /db_xref=\"HGNC:HGNC:6091\"\\nFT                   /db_xref=\"InterPro:IPR000494\"\\nFT                   /db_xref=\"InterPro:IPR000719\"\\nFT                   /db_xref=\"InterPro:IPR001245\"\\nFT                   /db_xref=\"InterPro:IPR002011\"\\nFT                   /db_xref=\"InterPro:IPR003961\"\\nFT                   /db_xref=\"InterPro:IPR006211\"\\nFT                   /db_xref=\"InterPro:IPR006212\"\\nFT                   /db_xref=\"InterPro:IPR008266\"\\nFT                   /db_xref=\"InterPro:IPR009030\"\\nFT                   /db_xref=\"InterPro:IPR011009\"\\nFT                   /db_xref=\"InterPro:IPR013783\"\\nFT                   /db_xref=\"InterPro:IPR016246\"\\nFT                   /db_xref=\"InterPro:IPR017441\"\\nFT                   /db_xref=\"InterPro:IPR020635\"\\nFT                   /db_xref=\"InterPro:IPR032675\"\\nFT                   /db_xref=\"PDB:1GAG\"\\nFT                   /db_xref=\"PDB:1I44\"\\nFT                   /db_xref=\"PDB:1IR3\"\\nFT                   /db_xref=\"PDB:1IRK\"\\nFT                   /db_xref=\"PDB:1P14\"\\nFT                   /db_xref=\"PDB:1RQQ\"\\nFT                   /db_xref=\"PDB:2AUH\"\\nFT                   /db_xref=\"PDB:2B4S\"\\nFT                   /db_xref=\"PDB:2HR7\"\\nFT                   /db_xref=\"PDB:2MFR\"\\nFT                   /db_xref=\"PDB:2Z8C\"\\nFT                   /db_xref=\"PDB:3BU3\"\\nFT                   /db_xref=\"PDB:3BU5\"\\nFT                   /db_xref=\"PDB:3BU6\"\\nFT                   /db_xref=\"PDB:3EKK\"\\nFT                   /db_xref=\"PDB:3EKN\"\\nFT                   /db_xref=\"PDB:3ETA\"\\nFT                   /db_xref=\"PDB:3W11\"\\nFT                   /db_xref=\"PDB:3W12\"\\nFT                   /db_xref=\"PDB:3W13\"\\nFT                   /db_xref=\"PDB:3W14\"\\nFT                   /db_xref=\"PDB:4IBM\"\\nFT                   /db_xref=\"PDB:4OGA\"\\nFT                   /db_xref=\"PDB:4XLV\"\\nFT                   /db_xref=\"PDB:4XSS\"\\nFT                   /db_xref=\"PDB:4XST\"\\nFT                   /db_xref=\"PDB:4ZXB\"\\nFT                   /db_xref=\"PDB:5E1S\"\\nFT                   /db_xref=\"PDB:5HHW\"\\nFT                   /db_xref=\"UniProtKB/Swiss-Prot:P06213\"\\nFT                   /protein_id=\"AAA59174.1\"\\nFT                   /translation=\"MGTGGRRGAAAAPLLVAVAALLLGAAGHLYPGEVCPGMDIRNNLT\\nFT                   RLHELENCSVIEGHLQILLMFKTRPEDFRDLSFPKLIMITDYLLLFRVYGLESLKDLFP\\nFT                   NLTVIRGSRLFFNYALVIFEMVHLKELGLYNLMNITRGSVRIEKNNELCYLATIDWSRI\\nFT                   LDSVEDNHIVLNKDDNEECGDICPGTAKGKTNCPATVINGQFVERCWTHSHCQKVCPTI\\nFT                   CKSHGCTAEGLCCHSECLGNCSQPDDPTKCVACRNFYLDGRCVETCPPPYYHFQDWRCV\\nFT                   NFSFCQDLHHKCKNSRRQGCHQYVIHNNKCIPECPSGYTMNSSNLLCTPCLGPCPKVCH\\nFT                   LLEGEKTIDSVTSAQELRGCTVINGSLIINIRGGNNLAAELEANLGLIEEISGYLKIRR\\nFT                   SYALVSLSFFRKLRLIRGETLEIGNYSFYALDNQNLRQLWDWSKHNLTTTQGKLFFHYN\\nFT                   PKLCLSEIHKMEEVSGTKGRQERNDIALKTNGDKASCENELLKFSYIRTSFDKILLRWE\\nFT                   PYWPPDFRDLLGFMLFYKEAPYQNVTEFDGQDACGSNSWTVVDIDPPLRSNDPKSQNHP\\nFT                   GWLMRGLKPWTQYAIFVKTLVTFSDERRTYGAKSDIIYVQTDATNPSVPLDPISVSNSS\\nFT                   SQIILKWKPPSDPNGNITHYLVFWERQAEDSELFELDYCLKGLKLPSRTWSPPFESEDS\\nFT                   QKHNQSEYEDSAGECCSCPKTDSQILKELEESSFRKTFEDYLHNVVFVPRKTSSGTGAE\\nFT                   DPRPSRKRRSLGDVGNVTVAVPTVAAFPNTSSTSVPTSPEEHRPFEKVVNKESLVISGL\\nFT                   RHFTGYRIELQACNQDTPEERCSVAAYVSARTMPEAKADDIVGPVTHEIFENNVVHLMW\\nFT                   QEPKEPNGLIVLYEVSYRRYGDEELHLCVSRKHFALERGCRLRGLSPGNYSVRIRATSL\\nFT                   AGNGSWTEPTYFYVTDYLDVPSNIAKIIIGPLIFVFLFSVVIGSIYLFLRKRQPDGPLG\\nFT                   PLYASSNPEYLSASDVFPCSVYVPDEWEVSREKITLLRELGQGSFGMVYEGNARDIIKG\\nFT                   EAETRVAVKTVNESASLRERIEFLNEASVMKGFTCHHVVRLLGVVSKGQPTLVVMELMA\\nFT                   HGDLKSYLRSLRPEAENNPGRPPPTLQEMIQMAAEIADGMAYLNAKKFVHRDLAARNCM\\nFT                   VAHDFTVKIGDFGMTRDIYETDYYRKGGKGLLPVRWMAPESLKDGVFTTSSDMWSFGVV\\nFT                   LWEITSLAEQPYQGLSNEQVLKFVMDGGYLDQPDNCPERVTDLMRMCWQFNPKMRPTFL\\nFT                   EIVNLLKDDLHPSFPEVSFFHSEENKAPESEELEMEFEDMENVPLDRSSHCQREEAGGR\\nFT                   DGGSSLGFKRSYEEHIPYTHMNGGKKNGRILTLPRSNPS\"\\nFT   mat_peptide     220..2424\\nFT                   /gene=\"INSR\"\\nFT                   /note=\"insulin receptor alpha subunit\"\\nFT   mat_peptide     2425..4284\\nFT                   /gene=\"INSR\"\\nFT                   /note=\"insulin receptor beta subunit\"\\nFT   mat_peptide     2425..2469\\nFT                   /partial\\nFT                   /gene=\"INSR\"\\nFT                   /note=\"insulin receptor beta-prime subunit\"\\nXX\\nSQ   Sequence 4723 BP; 1068 A; 1298 C; 1311 G; 1046 T; 0 other;\\n     ggggggctgc gcggccgggt cggtgcgcac acgagaagga cgcgcggccc ccagcgctct        60\\n     tgggggccgc ctcggagcat gacccccgcg ggccagcgcc gcgcgcctga tccgaggaga       120\\n     ccccgcgctc ccgcagccat gggcaccggg ggccggcggg gggcggcggc cgcgccgctg       180\\n     ctggtggcgg tggccgcgct gctactgggc gccgcgggcc acctgtaccc cggagaggtg       240\\n     tgtcccggca tggatatccg gaacaacctc actaggttgc atgagctgga gaattgctct       300\\n     gtcatcgaag gacacttgca gatactcttg atgttcaaaa cgaggcccga agatttccga       360\\n     gacctcagtt tccccaaact catcatgatc actgattact tgctgctctt ccgggtctat       420\\n     gggctcgaga gcctgaagga cctgttcccc aacctcacgg tcatccgggg atcacgactg       480\\n     ttctttaact acgcgctggt catcttcgag atggttcacc tcaaggaact cggcctctac       540\\n     aacctgatga acatcacccg gggttctgtc cgcatcgaga agaacaatga gctctgttac       600\\n     ttggccacta tcgactggtc ccgtatcctg gattccgtgg aggataatca catcgtgttg       660\\n     aacaaagatg acaacgagga gtgtggagac atctgtccgg gtaccgcgaa gggcaagacc       720\\n     aactgccccg ccaccgtcat caacgggcag tttgtcgaac gatgttggac tcatagtcac       780\\n     tgccagaaag tttgcccgac catctgtaag tcacacggct gcaccgccga aggcctctgt       840\\n     tgccacagcg agtgcctggg caactgttct cagcccgacg accccaccaa gtgcgtggcc       900\\n     tgccgcaact tctacctgga cggcaggtgt gtggagacct gcccgccccc gtactaccac       960\\n     ttccaggact ggcgctgtgt gaacttcagc ttctgccagg acctgcacca caaatgcaag      1020\\n     aactcgcgga ggcagggctg ccaccaatac gtcattcaca acaacaagtg catccctgag      1080\\n     tgtccctccg ggtacacgat gaattccagc aacttgctgt gcaccccatg cctgggtccc      1140\\n     tgtcccaagg tgtgccacct cctagaaggc gagaagacca tcgactcggt gacgtctgcc      1200\\n     caggagctcc gaggatgcac cgtcatcaac gggagtctga tcatcaacat tcgaggaggc      1260\\n     aacaatctgg cagctgagct agaagccaac ctcggcctca ttgaagaaat ttcagggtat      1320\\n     ctaaaaatcc gccgatccta cgctctggtg tcactttcct tcttccggaa gttacgtctg      1380\\n     attcgaggag agaccttgga aattgggaac tactccttct atgccttgga caaccagaac      1440\\n     ctaaggcagc tctgggactg gagcaaacac aacctcacca ccactcaggg gaaactcttc      1500\\n     ttccactata accccaaact ctgcttgtca gaaatccaca agatggaaga agtttcagga      1560\\n     accaaggggc gccaggagag aaacgacatt gccctgaaga ccaatgggga caaggcatcc      1620\\n     tgtgaaaatg agttacttaa attttcttac attcggacat cttttgacaa gatcttgctg      1680\\n     agatgggagc cgtactggcc ccccgacttc cgagacctct tggggttcat gctgttctac      1740\\n     aaagaggccc cttatcagaa tgtgacggag ttcgatgggc aggatgcgtg tggttccaac      1800\\n     agttggacgg tggtagacat tgacccaccc ctgaggtcca acgaccccaa atcacagaac      1860\\n     cacccagggt ggctgatgcg gggtctcaag ccctggaccc agtatgccat ctttgtgaag      1920\\n     accctggtca ccttttcgga tgaacgccgg acctatgggg ccaagagtga catcatttat      1980\\n     gtccagacag atgccaccaa cccctctgtg cccctggatc caatctcagt gtctaactca      2040\\n     tcatcccaga ttattctgaa gtggaaacca ccctccgacc ccaatggcaa catcacccac      2100\\n     tacctggttt tctgggagag gcaggcggaa gacagtgagc tgttcgagct ggattattgc      2160\\n     ctcaaagggc tgaagctgcc ctcgaggacc tggtctccac cattcgagtc tgaagattct      2220\\n     cagaagcaca accagagtga gtatgaggat tcggccggcg aatgctgctc ctgtccaaag      2280\\n     acagactctc agatcctgaa ggagctggag gagtcctcgt ttaggaagac gtttgaggat      2340\\n     tacctgcaca acgtggtttt cgtccccaga aaaacctctt caggcactgg tgccgaggac      2400\\n     cctaggccat ctcggaaacg caggtccctt ggcgatgttg ggaatgtgac ggtggccgtg      2460\\n     cccacggtgg cagctttccc caacacttcc tcgaccagcg tgcccacgag tccggaggag      2520\\n     cacaggcctt ttgagaaggt ggtgaacaag gagtcgctgg tcatctccgg cttgcgacac      2580\\n     ttcacgggct atcgcatcga gctgcaggct tgcaaccagg acacccctga ggaacggtgc      2640\\n     agtgtggcag cctacgtcag tgcgaggacc atgcctgaag ccaaggctga tgacattgtt      2700\\n     ggccctgtga cgcatgaaat ctttgagaac aacgtcgtcc acttgatgtg gcaggagccg      2760\\n     aaggagccca atggtctgat cgtgctgtat gaagtgagtt atcggcgata tggtgatgag      2820\\n     gagctgcatc tctgcgtctc ccgcaagcac ttcgctctgg aacggggctg caggctgcgt      2880\\n     gggctgtcac cggggaacta cagcgtgcga atccgggcca cctcccttgc gggcaacggc      2940\\n     tcttggacgg aacccaccta tttctacgtg acagactatt tagacgtccc gtcaaatatt      3000\\n     gcaaaaatta tcatcggccc cctcatcttt gtctttctct tcagtgttgt gattggaagt      3060\\n     atttatctat tcctgagaaa gaggcagcca gatgggccgc tgggaccgct ttacgcttct      3120\\n     tcaaaccctg agtatctcag tgccagtgat gtgtttccat gctctgtgta cgtgccggac      3180\\n     gagtgggagg tgtctcgaga gaagatcacc ctccttcgag agctggggca gggctccttc      3240\\n     ggcatggtgt atgagggcaa tgccagggac atcatcaagg gtgaggcaga gacccgcgtg      3300\\n     gcggtgaaga cggtcaacga gtcagccagt ctccgagagc ggattgagtt cctcaatgag      3360\\n     gcctcggtca tgaagggctt cacctgccat cacgtggtgc gcctcctggg agtggtgtcc      3420\\n     aagggccagc ccacgctggt ggtgatggag ctgatggctc acggagacct gaagagctac      3480\\n     ctccgttctc tgcggccaga ggctgagaat aatcctggcc gccctccccc tacccttcaa      3540\\n     gagatgattc agatggcggc agagattgct gacgggatgg cctacctgaa cgccaagaag      3600\\n     tttgtgcatc gggacctggc agcgagaaac tgcatggtcg cccatgattt tactgtcaaa      3660\\n     attggagact ttggaatgac cagagacatc tatgaaacgg attactaccg gaaagggggc      3720\\n     aagggtctgc tccctgtacg gtggatggca ccggagtccc tgaaggatgg ggtcttcacc      3780\\n     acttcttctg acatgtggtc ctttggcgtg gtcctttggg aaatcaccag cttggcagaa      3840\\n     cagccttacc aaggcctgtc taatgaacag gtgttgaaat ttgtcatgga tggagggtat      3900\\n     ctggatcaac ccgacaactg tccagagaga gtcactgacc tcatgcgcat gtgctggcaa      3960\\n     ttcaacccca agatgaggcc aaccttcctg gagattgtca acctgctcaa ggacgacctg      4020\\n     caccccagct ttccagaggt gtcgttcttc cacagcgagg agaacaaggc tcccgagagt      4080\\n     gaggagctgg agatggagtt tgaggacatg gagaatgtgc ccctggaccg ttcctcgcac      4140\\n     tgtcagaggg aggaggcggg gggccgggat ggagggtcct cgctgggttt caagcggagc      4200\\n     tacgaggaac acatccctta cacacacatg aacggaggca agaaaaacgg gcggattctg      4260\\n     accttgcctc ggtccaatcc ttcctaacag tgcctaccgt ggcgggggcg ggcaggggtt      4320\\n     cccattttcg ctttcctctg gtttgaaagc ctctggaaaa ctcaggattc tcacgactct      4380\\n     accatgtcca gtggagttca gagatcgttc ctatacattt ctgttcatct taaggtggac      4440\\n     tcgtttggtt accaatttaa ctagtcctgc agaggattta actgtgaacc tggagggcaa      4500\\n     ggggtttcca cagttgctgc tcctttgggg caacgacggt ttcaaaccag gattttgtgt      4560\\n     tttttcgttc cccccacccg cccccagcag atggaaagaa agcacctgtt tttacaaatt      4620\\n     cttttttttt tttttttttt tttttttttg ctggtgtctg agcttcagta taaaagacaa      4680\\n     aacttcctgt ttgtggaaca aaatttcgaa agaaaaaacc aaa                        4723\\n//\\n'"
      ]
     },
     "execution_count": 5,
     "metadata": {},
     "output_type": "execute_result"
    }
   ],
   "source": [
    "file_str"
   ]
  },
  {
   "cell_type": "markdown",
   "metadata": {},
   "source": [
    "### Estrazione dell'identificatore univoco e dell'organismo relativo all'entry."
   ]
  },
  {
   "cell_type": "markdown",
   "metadata": {},
   "source": [
    "Estrarre dal *record* `ID`:\n",
    "\n",
    "    ID   M10051; SV 1; linear; mRNA; STD; HUM; 4723 BP.\n",
    "    \n",
    "l'identificatore univoco e l'organismo e assegnarli alle variabili `identifier` e `organism`.\n",
    "    \n",
    "Estrazione dell'organismo."
   ]
  },
  {
   "cell_type": "code",
   "execution_count": 6,
   "metadata": {},
   "outputs": [],
   "source": []
  },
  {
   "cell_type": "code",
   "execution_count": 7,
   "metadata": {},
   "outputs": [
    {
     "data": {
      "text/plain": [
       "'HUM'"
      ]
     },
     "execution_count": 7,
     "metadata": {},
     "output_type": "execute_result"
    }
   ],
   "source": [
    "organism"
   ]
  },
  {
   "cell_type": "markdown",
   "metadata": {},
   "source": [
    "Estrazione dell'identificatore."
   ]
  },
  {
   "cell_type": "code",
   "execution_count": 8,
   "metadata": {},
   "outputs": [],
   "source": []
  },
  {
   "cell_type": "code",
   "execution_count": 9,
   "metadata": {},
   "outputs": [
    {
     "data": {
      "text/plain": [
       "'M10051'"
      ]
     },
     "execution_count": 9,
     "metadata": {},
     "output_type": "execute_result"
    }
   ],
   "source": [
    "identifier"
   ]
  },
  {
   "cell_type": "markdown",
   "metadata": {},
   "source": [
    "### Output della sequenza nucleotidica in formato `FASTA`"
   ]
  },
  {
   "cell_type": "markdown",
   "metadata": {},
   "source": [
    "Estrarre nella lista `seq_row_list` i *record*: \n",
    "\n",
    "    tgggggccgc ctcggagcat gacccccgcg ggccagcgcc gcgcgcctga tccgaggaga       120\n",
    "    \n",
    "della sequenza nucleotidica escludendo l'intero finale e mantenendo gli spazi iniziali e gli spazi prima dell'intero."
   ]
  },
  {
   "cell_type": "code",
   "execution_count": 10,
   "metadata": {},
   "outputs": [],
   "source": []
  },
  {
   "cell_type": "code",
   "execution_count": 11,
   "metadata": {},
   "outputs": [
    {
     "data": {
      "text/plain": [
       "['   ggggggctgc gcggccgggt cggtgcgcac acgagaagga cgcgcggccc ccagcgctct        ',\n",
       " '   tgggggccgc ctcggagcat gacccccgcg ggccagcgcc gcgcgcctga tccgaggaga       ',\n",
       " '   ccccgcgctc ccgcagccat gggcaccggg ggccggcggg gggcggcggc cgcgccgctg       ',\n",
       " '   ctggtggcgg tggccgcgct gctactgggc gccgcgggcc acctgtaccc cggagaggtg       ',\n",
       " '   tgtcccggca tggatatccg gaacaacctc actaggttgc atgagctgga gaattgctct       ',\n",
       " '   gtcatcgaag gacacttgca gatactcttg atgttcaaaa cgaggcccga agatttccga       ',\n",
       " '   gacctcagtt tccccaaact catcatgatc actgattact tgctgctctt ccgggtctat       ',\n",
       " '   gggctcgaga gcctgaagga cctgttcccc aacctcacgg tcatccgggg atcacgactg       ',\n",
       " '   ttctttaact acgcgctggt catcttcgag atggttcacc tcaaggaact cggcctctac       ',\n",
       " '   aacctgatga acatcacccg gggttctgtc cgcatcgaga agaacaatga gctctgttac       ',\n",
       " '   ttggccacta tcgactggtc ccgtatcctg gattccgtgg aggataatca catcgtgttg       ',\n",
       " '   aacaaagatg acaacgagga gtgtggagac atctgtccgg gtaccgcgaa gggcaagacc       ',\n",
       " '   aactgccccg ccaccgtcat caacgggcag tttgtcgaac gatgttggac tcatagtcac       ',\n",
       " '   tgccagaaag tttgcccgac catctgtaag tcacacggct gcaccgccga aggcctctgt       ',\n",
       " '   tgccacagcg agtgcctggg caactgttct cagcccgacg accccaccaa gtgcgtggcc       ',\n",
       " '   tgccgcaact tctacctgga cggcaggtgt gtggagacct gcccgccccc gtactaccac       ',\n",
       " '   ttccaggact ggcgctgtgt gaacttcagc ttctgccagg acctgcacca caaatgcaag      ',\n",
       " '   aactcgcgga ggcagggctg ccaccaatac gtcattcaca acaacaagtg catccctgag      ',\n",
       " '   tgtccctccg ggtacacgat gaattccagc aacttgctgt gcaccccatg cctgggtccc      ',\n",
       " '   tgtcccaagg tgtgccacct cctagaaggc gagaagacca tcgactcggt gacgtctgcc      ',\n",
       " '   caggagctcc gaggatgcac cgtcatcaac gggagtctga tcatcaacat tcgaggaggc      ',\n",
       " '   aacaatctgg cagctgagct agaagccaac ctcggcctca ttgaagaaat ttcagggtat      ',\n",
       " '   ctaaaaatcc gccgatccta cgctctggtg tcactttcct tcttccggaa gttacgtctg      ',\n",
       " '   attcgaggag agaccttgga aattgggaac tactccttct atgccttgga caaccagaac      ',\n",
       " '   ctaaggcagc tctgggactg gagcaaacac aacctcacca ccactcaggg gaaactcttc      ',\n",
       " '   ttccactata accccaaact ctgcttgtca gaaatccaca agatggaaga agtttcagga      ',\n",
       " '   accaaggggc gccaggagag aaacgacatt gccctgaaga ccaatgggga caaggcatcc      ',\n",
       " '   tgtgaaaatg agttacttaa attttcttac attcggacat cttttgacaa gatcttgctg      ',\n",
       " '   agatgggagc cgtactggcc ccccgacttc cgagacctct tggggttcat gctgttctac      ',\n",
       " '   aaagaggccc cttatcagaa tgtgacggag ttcgatgggc aggatgcgtg tggttccaac      ',\n",
       " '   agttggacgg tggtagacat tgacccaccc ctgaggtcca acgaccccaa atcacagaac      ',\n",
       " '   cacccagggt ggctgatgcg gggtctcaag ccctggaccc agtatgccat ctttgtgaag      ',\n",
       " '   accctggtca ccttttcgga tgaacgccgg acctatgggg ccaagagtga catcatttat      ',\n",
       " '   gtccagacag atgccaccaa cccctctgtg cccctggatc caatctcagt gtctaactca      ',\n",
       " '   tcatcccaga ttattctgaa gtggaaacca ccctccgacc ccaatggcaa catcacccac      ',\n",
       " '   tacctggttt tctgggagag gcaggcggaa gacagtgagc tgttcgagct ggattattgc      ',\n",
       " '   ctcaaagggc tgaagctgcc ctcgaggacc tggtctccac cattcgagtc tgaagattct      ',\n",
       " '   cagaagcaca accagagtga gtatgaggat tcggccggcg aatgctgctc ctgtccaaag      ',\n",
       " '   acagactctc agatcctgaa ggagctggag gagtcctcgt ttaggaagac gtttgaggat      ',\n",
       " '   tacctgcaca acgtggtttt cgtccccaga aaaacctctt caggcactgg tgccgaggac      ',\n",
       " '   cctaggccat ctcggaaacg caggtccctt ggcgatgttg ggaatgtgac ggtggccgtg      ',\n",
       " '   cccacggtgg cagctttccc caacacttcc tcgaccagcg tgcccacgag tccggaggag      ',\n",
       " '   cacaggcctt ttgagaaggt ggtgaacaag gagtcgctgg tcatctccgg cttgcgacac      ',\n",
       " '   ttcacgggct atcgcatcga gctgcaggct tgcaaccagg acacccctga ggaacggtgc      ',\n",
       " '   agtgtggcag cctacgtcag tgcgaggacc atgcctgaag ccaaggctga tgacattgtt      ',\n",
       " '   ggccctgtga cgcatgaaat ctttgagaac aacgtcgtcc acttgatgtg gcaggagccg      ',\n",
       " '   aaggagccca atggtctgat cgtgctgtat gaagtgagtt atcggcgata tggtgatgag      ',\n",
       " '   gagctgcatc tctgcgtctc ccgcaagcac ttcgctctgg aacggggctg caggctgcgt      ',\n",
       " '   gggctgtcac cggggaacta cagcgtgcga atccgggcca cctcccttgc gggcaacggc      ',\n",
       " '   tcttggacgg aacccaccta tttctacgtg acagactatt tagacgtccc gtcaaatatt      ',\n",
       " '   gcaaaaatta tcatcggccc cctcatcttt gtctttctct tcagtgttgt gattggaagt      ',\n",
       " '   atttatctat tcctgagaaa gaggcagcca gatgggccgc tgggaccgct ttacgcttct      ',\n",
       " '   tcaaaccctg agtatctcag tgccagtgat gtgtttccat gctctgtgta cgtgccggac      ',\n",
       " '   gagtgggagg tgtctcgaga gaagatcacc ctccttcgag agctggggca gggctccttc      ',\n",
       " '   ggcatggtgt atgagggcaa tgccagggac atcatcaagg gtgaggcaga gacccgcgtg      ',\n",
       " '   gcggtgaaga cggtcaacga gtcagccagt ctccgagagc ggattgagtt cctcaatgag      ',\n",
       " '   gcctcggtca tgaagggctt cacctgccat cacgtggtgc gcctcctggg agtggtgtcc      ',\n",
       " '   aagggccagc ccacgctggt ggtgatggag ctgatggctc acggagacct gaagagctac      ',\n",
       " '   ctccgttctc tgcggccaga ggctgagaat aatcctggcc gccctccccc tacccttcaa      ',\n",
       " '   gagatgattc agatggcggc agagattgct gacgggatgg cctacctgaa cgccaagaag      ',\n",
       " '   tttgtgcatc gggacctggc agcgagaaac tgcatggtcg cccatgattt tactgtcaaa      ',\n",
       " '   attggagact ttggaatgac cagagacatc tatgaaacgg attactaccg gaaagggggc      ',\n",
       " '   aagggtctgc tccctgtacg gtggatggca ccggagtccc tgaaggatgg ggtcttcacc      ',\n",
       " '   acttcttctg acatgtggtc ctttggcgtg gtcctttggg aaatcaccag cttggcagaa      ',\n",
       " '   cagccttacc aaggcctgtc taatgaacag gtgttgaaat ttgtcatgga tggagggtat      ',\n",
       " '   ctggatcaac ccgacaactg tccagagaga gtcactgacc tcatgcgcat gtgctggcaa      ',\n",
       " '   ttcaacccca agatgaggcc aaccttcctg gagattgtca acctgctcaa ggacgacctg      ',\n",
       " '   caccccagct ttccagaggt gtcgttcttc cacagcgagg agaacaaggc tcccgagagt      ',\n",
       " '   gaggagctgg agatggagtt tgaggacatg gagaatgtgc ccctggaccg ttcctcgcac      ',\n",
       " '   tgtcagaggg aggaggcggg gggccgggat ggagggtcct cgctgggttt caagcggagc      ',\n",
       " '   tacgaggaac acatccctta cacacacatg aacggaggca agaaaaacgg gcggattctg      ',\n",
       " '   accttgcctc ggtccaatcc ttcctaacag tgcctaccgt ggcgggggcg ggcaggggtt      ',\n",
       " '   cccattttcg ctttcctctg gtttgaaagc ctctggaaaa ctcaggattc tcacgactct      ',\n",
       " '   accatgtcca gtggagttca gagatcgttc ctatacattt ctgttcatct taaggtggac      ',\n",
       " '   tcgtttggtt accaatttaa ctagtcctgc agaggattta actgtgaacc tggagggcaa      ',\n",
       " '   ggggtttcca cagttgctgc tcctttgggg caacgacggt ttcaaaccag gattttgtgt      ',\n",
       " '   tttttcgttc cccccacccg cccccagcag atggaaagaa agcacctgtt tttacaaatt      ',\n",
       " '   cttttttttt tttttttttt tttttttttg ctggtgtctg agcttcagta taaaagacaa      ',\n",
       " '   aacttcctgt ttgtggaaca aaatttcgaa agaaaaaacc aaa                        ']"
      ]
     },
     "execution_count": 11,
     "metadata": {},
     "output_type": "execute_result"
    }
   ],
   "source": [
    "seq_row_list"
   ]
  },
  {
   "cell_type": "markdown",
   "metadata": {},
   "source": [
    "Estrarre da `seq_row_list` la lista `seq_chunk_list` contenente i pezzi di lunghezza 10 della sequenza nucleotidica in modo tale che l'elemento `seq_chunk_list[i]` sia una lista annidata contenente i sei pezzi di sequenza relativi all'i-esimo *record* di `seq_row_list`.\n",
    "\n",
    "**NOTA BENE**: fare attenzione al fatto che l'ultimo pezzo potrebbe essere più corto di 10 basi."
   ]
  },
  {
   "cell_type": "code",
   "execution_count": 12,
   "metadata": {},
   "outputs": [],
   "source": []
  },
  {
   "cell_type": "code",
   "execution_count": 13,
   "metadata": {},
   "outputs": [
    {
     "data": {
      "text/plain": [
       "[['ggggggctgc',\n",
       "  'gcggccgggt',\n",
       "  'cggtgcgcac',\n",
       "  'acgagaagga',\n",
       "  'cgcgcggccc',\n",
       "  'ccagcgctct'],\n",
       " ['tgggggccgc',\n",
       "  'ctcggagcat',\n",
       "  'gacccccgcg',\n",
       "  'ggccagcgcc',\n",
       "  'gcgcgcctga',\n",
       "  'tccgaggaga'],\n",
       " ['ccccgcgctc',\n",
       "  'ccgcagccat',\n",
       "  'gggcaccggg',\n",
       "  'ggccggcggg',\n",
       "  'gggcggcggc',\n",
       "  'cgcgccgctg'],\n",
       " ['ctggtggcgg',\n",
       "  'tggccgcgct',\n",
       "  'gctactgggc',\n",
       "  'gccgcgggcc',\n",
       "  'acctgtaccc',\n",
       "  'cggagaggtg'],\n",
       " ['tgtcccggca',\n",
       "  'tggatatccg',\n",
       "  'gaacaacctc',\n",
       "  'actaggttgc',\n",
       "  'atgagctgga',\n",
       "  'gaattgctct'],\n",
       " ['gtcatcgaag',\n",
       "  'gacacttgca',\n",
       "  'gatactcttg',\n",
       "  'atgttcaaaa',\n",
       "  'cgaggcccga',\n",
       "  'agatttccga'],\n",
       " ['gacctcagtt',\n",
       "  'tccccaaact',\n",
       "  'catcatgatc',\n",
       "  'actgattact',\n",
       "  'tgctgctctt',\n",
       "  'ccgggtctat'],\n",
       " ['gggctcgaga',\n",
       "  'gcctgaagga',\n",
       "  'cctgttcccc',\n",
       "  'aacctcacgg',\n",
       "  'tcatccgggg',\n",
       "  'atcacgactg'],\n",
       " ['ttctttaact',\n",
       "  'acgcgctggt',\n",
       "  'catcttcgag',\n",
       "  'atggttcacc',\n",
       "  'tcaaggaact',\n",
       "  'cggcctctac'],\n",
       " ['aacctgatga',\n",
       "  'acatcacccg',\n",
       "  'gggttctgtc',\n",
       "  'cgcatcgaga',\n",
       "  'agaacaatga',\n",
       "  'gctctgttac'],\n",
       " ['ttggccacta',\n",
       "  'tcgactggtc',\n",
       "  'ccgtatcctg',\n",
       "  'gattccgtgg',\n",
       "  'aggataatca',\n",
       "  'catcgtgttg'],\n",
       " ['aacaaagatg',\n",
       "  'acaacgagga',\n",
       "  'gtgtggagac',\n",
       "  'atctgtccgg',\n",
       "  'gtaccgcgaa',\n",
       "  'gggcaagacc'],\n",
       " ['aactgccccg',\n",
       "  'ccaccgtcat',\n",
       "  'caacgggcag',\n",
       "  'tttgtcgaac',\n",
       "  'gatgttggac',\n",
       "  'tcatagtcac'],\n",
       " ['tgccagaaag',\n",
       "  'tttgcccgac',\n",
       "  'catctgtaag',\n",
       "  'tcacacggct',\n",
       "  'gcaccgccga',\n",
       "  'aggcctctgt'],\n",
       " ['tgccacagcg',\n",
       "  'agtgcctggg',\n",
       "  'caactgttct',\n",
       "  'cagcccgacg',\n",
       "  'accccaccaa',\n",
       "  'gtgcgtggcc'],\n",
       " ['tgccgcaact',\n",
       "  'tctacctgga',\n",
       "  'cggcaggtgt',\n",
       "  'gtggagacct',\n",
       "  'gcccgccccc',\n",
       "  'gtactaccac'],\n",
       " ['ttccaggact',\n",
       "  'ggcgctgtgt',\n",
       "  'gaacttcagc',\n",
       "  'ttctgccagg',\n",
       "  'acctgcacca',\n",
       "  'caaatgcaag'],\n",
       " ['aactcgcgga',\n",
       "  'ggcagggctg',\n",
       "  'ccaccaatac',\n",
       "  'gtcattcaca',\n",
       "  'acaacaagtg',\n",
       "  'catccctgag'],\n",
       " ['tgtccctccg',\n",
       "  'ggtacacgat',\n",
       "  'gaattccagc',\n",
       "  'aacttgctgt',\n",
       "  'gcaccccatg',\n",
       "  'cctgggtccc'],\n",
       " ['tgtcccaagg',\n",
       "  'tgtgccacct',\n",
       "  'cctagaaggc',\n",
       "  'gagaagacca',\n",
       "  'tcgactcggt',\n",
       "  'gacgtctgcc'],\n",
       " ['caggagctcc',\n",
       "  'gaggatgcac',\n",
       "  'cgtcatcaac',\n",
       "  'gggagtctga',\n",
       "  'tcatcaacat',\n",
       "  'tcgaggaggc'],\n",
       " ['aacaatctgg',\n",
       "  'cagctgagct',\n",
       "  'agaagccaac',\n",
       "  'ctcggcctca',\n",
       "  'ttgaagaaat',\n",
       "  'ttcagggtat'],\n",
       " ['ctaaaaatcc',\n",
       "  'gccgatccta',\n",
       "  'cgctctggtg',\n",
       "  'tcactttcct',\n",
       "  'tcttccggaa',\n",
       "  'gttacgtctg'],\n",
       " ['attcgaggag',\n",
       "  'agaccttgga',\n",
       "  'aattgggaac',\n",
       "  'tactccttct',\n",
       "  'atgccttgga',\n",
       "  'caaccagaac'],\n",
       " ['ctaaggcagc',\n",
       "  'tctgggactg',\n",
       "  'gagcaaacac',\n",
       "  'aacctcacca',\n",
       "  'ccactcaggg',\n",
       "  'gaaactcttc'],\n",
       " ['ttccactata',\n",
       "  'accccaaact',\n",
       "  'ctgcttgtca',\n",
       "  'gaaatccaca',\n",
       "  'agatggaaga',\n",
       "  'agtttcagga'],\n",
       " ['accaaggggc',\n",
       "  'gccaggagag',\n",
       "  'aaacgacatt',\n",
       "  'gccctgaaga',\n",
       "  'ccaatgggga',\n",
       "  'caaggcatcc'],\n",
       " ['tgtgaaaatg',\n",
       "  'agttacttaa',\n",
       "  'attttcttac',\n",
       "  'attcggacat',\n",
       "  'cttttgacaa',\n",
       "  'gatcttgctg'],\n",
       " ['agatgggagc',\n",
       "  'cgtactggcc',\n",
       "  'ccccgacttc',\n",
       "  'cgagacctct',\n",
       "  'tggggttcat',\n",
       "  'gctgttctac'],\n",
       " ['aaagaggccc',\n",
       "  'cttatcagaa',\n",
       "  'tgtgacggag',\n",
       "  'ttcgatgggc',\n",
       "  'aggatgcgtg',\n",
       "  'tggttccaac'],\n",
       " ['agttggacgg',\n",
       "  'tggtagacat',\n",
       "  'tgacccaccc',\n",
       "  'ctgaggtcca',\n",
       "  'acgaccccaa',\n",
       "  'atcacagaac'],\n",
       " ['cacccagggt',\n",
       "  'ggctgatgcg',\n",
       "  'gggtctcaag',\n",
       "  'ccctggaccc',\n",
       "  'agtatgccat',\n",
       "  'ctttgtgaag'],\n",
       " ['accctggtca',\n",
       "  'ccttttcgga',\n",
       "  'tgaacgccgg',\n",
       "  'acctatgggg',\n",
       "  'ccaagagtga',\n",
       "  'catcatttat'],\n",
       " ['gtccagacag',\n",
       "  'atgccaccaa',\n",
       "  'cccctctgtg',\n",
       "  'cccctggatc',\n",
       "  'caatctcagt',\n",
       "  'gtctaactca'],\n",
       " ['tcatcccaga',\n",
       "  'ttattctgaa',\n",
       "  'gtggaaacca',\n",
       "  'ccctccgacc',\n",
       "  'ccaatggcaa',\n",
       "  'catcacccac'],\n",
       " ['tacctggttt',\n",
       "  'tctgggagag',\n",
       "  'gcaggcggaa',\n",
       "  'gacagtgagc',\n",
       "  'tgttcgagct',\n",
       "  'ggattattgc'],\n",
       " ['ctcaaagggc',\n",
       "  'tgaagctgcc',\n",
       "  'ctcgaggacc',\n",
       "  'tggtctccac',\n",
       "  'cattcgagtc',\n",
       "  'tgaagattct'],\n",
       " ['cagaagcaca',\n",
       "  'accagagtga',\n",
       "  'gtatgaggat',\n",
       "  'tcggccggcg',\n",
       "  'aatgctgctc',\n",
       "  'ctgtccaaag'],\n",
       " ['acagactctc',\n",
       "  'agatcctgaa',\n",
       "  'ggagctggag',\n",
       "  'gagtcctcgt',\n",
       "  'ttaggaagac',\n",
       "  'gtttgaggat'],\n",
       " ['tacctgcaca',\n",
       "  'acgtggtttt',\n",
       "  'cgtccccaga',\n",
       "  'aaaacctctt',\n",
       "  'caggcactgg',\n",
       "  'tgccgaggac'],\n",
       " ['cctaggccat',\n",
       "  'ctcggaaacg',\n",
       "  'caggtccctt',\n",
       "  'ggcgatgttg',\n",
       "  'ggaatgtgac',\n",
       "  'ggtggccgtg'],\n",
       " ['cccacggtgg',\n",
       "  'cagctttccc',\n",
       "  'caacacttcc',\n",
       "  'tcgaccagcg',\n",
       "  'tgcccacgag',\n",
       "  'tccggaggag'],\n",
       " ['cacaggcctt',\n",
       "  'ttgagaaggt',\n",
       "  'ggtgaacaag',\n",
       "  'gagtcgctgg',\n",
       "  'tcatctccgg',\n",
       "  'cttgcgacac'],\n",
       " ['ttcacgggct',\n",
       "  'atcgcatcga',\n",
       "  'gctgcaggct',\n",
       "  'tgcaaccagg',\n",
       "  'acacccctga',\n",
       "  'ggaacggtgc'],\n",
       " ['agtgtggcag',\n",
       "  'cctacgtcag',\n",
       "  'tgcgaggacc',\n",
       "  'atgcctgaag',\n",
       "  'ccaaggctga',\n",
       "  'tgacattgtt'],\n",
       " ['ggccctgtga',\n",
       "  'cgcatgaaat',\n",
       "  'ctttgagaac',\n",
       "  'aacgtcgtcc',\n",
       "  'acttgatgtg',\n",
       "  'gcaggagccg'],\n",
       " ['aaggagccca',\n",
       "  'atggtctgat',\n",
       "  'cgtgctgtat',\n",
       "  'gaagtgagtt',\n",
       "  'atcggcgata',\n",
       "  'tggtgatgag'],\n",
       " ['gagctgcatc',\n",
       "  'tctgcgtctc',\n",
       "  'ccgcaagcac',\n",
       "  'ttcgctctgg',\n",
       "  'aacggggctg',\n",
       "  'caggctgcgt'],\n",
       " ['gggctgtcac',\n",
       "  'cggggaacta',\n",
       "  'cagcgtgcga',\n",
       "  'atccgggcca',\n",
       "  'cctcccttgc',\n",
       "  'gggcaacggc'],\n",
       " ['tcttggacgg',\n",
       "  'aacccaccta',\n",
       "  'tttctacgtg',\n",
       "  'acagactatt',\n",
       "  'tagacgtccc',\n",
       "  'gtcaaatatt'],\n",
       " ['gcaaaaatta',\n",
       "  'tcatcggccc',\n",
       "  'cctcatcttt',\n",
       "  'gtctttctct',\n",
       "  'tcagtgttgt',\n",
       "  'gattggaagt'],\n",
       " ['atttatctat',\n",
       "  'tcctgagaaa',\n",
       "  'gaggcagcca',\n",
       "  'gatgggccgc',\n",
       "  'tgggaccgct',\n",
       "  'ttacgcttct'],\n",
       " ['tcaaaccctg',\n",
       "  'agtatctcag',\n",
       "  'tgccagtgat',\n",
       "  'gtgtttccat',\n",
       "  'gctctgtgta',\n",
       "  'cgtgccggac'],\n",
       " ['gagtgggagg',\n",
       "  'tgtctcgaga',\n",
       "  'gaagatcacc',\n",
       "  'ctccttcgag',\n",
       "  'agctggggca',\n",
       "  'gggctccttc'],\n",
       " ['ggcatggtgt',\n",
       "  'atgagggcaa',\n",
       "  'tgccagggac',\n",
       "  'atcatcaagg',\n",
       "  'gtgaggcaga',\n",
       "  'gacccgcgtg'],\n",
       " ['gcggtgaaga',\n",
       "  'cggtcaacga',\n",
       "  'gtcagccagt',\n",
       "  'ctccgagagc',\n",
       "  'ggattgagtt',\n",
       "  'cctcaatgag'],\n",
       " ['gcctcggtca',\n",
       "  'tgaagggctt',\n",
       "  'cacctgccat',\n",
       "  'cacgtggtgc',\n",
       "  'gcctcctggg',\n",
       "  'agtggtgtcc'],\n",
       " ['aagggccagc',\n",
       "  'ccacgctggt',\n",
       "  'ggtgatggag',\n",
       "  'ctgatggctc',\n",
       "  'acggagacct',\n",
       "  'gaagagctac'],\n",
       " ['ctccgttctc',\n",
       "  'tgcggccaga',\n",
       "  'ggctgagaat',\n",
       "  'aatcctggcc',\n",
       "  'gccctccccc',\n",
       "  'tacccttcaa'],\n",
       " ['gagatgattc',\n",
       "  'agatggcggc',\n",
       "  'agagattgct',\n",
       "  'gacgggatgg',\n",
       "  'cctacctgaa',\n",
       "  'cgccaagaag'],\n",
       " ['tttgtgcatc',\n",
       "  'gggacctggc',\n",
       "  'agcgagaaac',\n",
       "  'tgcatggtcg',\n",
       "  'cccatgattt',\n",
       "  'tactgtcaaa'],\n",
       " ['attggagact',\n",
       "  'ttggaatgac',\n",
       "  'cagagacatc',\n",
       "  'tatgaaacgg',\n",
       "  'attactaccg',\n",
       "  'gaaagggggc'],\n",
       " ['aagggtctgc',\n",
       "  'tccctgtacg',\n",
       "  'gtggatggca',\n",
       "  'ccggagtccc',\n",
       "  'tgaaggatgg',\n",
       "  'ggtcttcacc'],\n",
       " ['acttcttctg',\n",
       "  'acatgtggtc',\n",
       "  'ctttggcgtg',\n",
       "  'gtcctttggg',\n",
       "  'aaatcaccag',\n",
       "  'cttggcagaa'],\n",
       " ['cagccttacc',\n",
       "  'aaggcctgtc',\n",
       "  'taatgaacag',\n",
       "  'gtgttgaaat',\n",
       "  'ttgtcatgga',\n",
       "  'tggagggtat'],\n",
       " ['ctggatcaac',\n",
       "  'ccgacaactg',\n",
       "  'tccagagaga',\n",
       "  'gtcactgacc',\n",
       "  'tcatgcgcat',\n",
       "  'gtgctggcaa'],\n",
       " ['ttcaacccca',\n",
       "  'agatgaggcc',\n",
       "  'aaccttcctg',\n",
       "  'gagattgtca',\n",
       "  'acctgctcaa',\n",
       "  'ggacgacctg'],\n",
       " ['caccccagct',\n",
       "  'ttccagaggt',\n",
       "  'gtcgttcttc',\n",
       "  'cacagcgagg',\n",
       "  'agaacaaggc',\n",
       "  'tcccgagagt'],\n",
       " ['gaggagctgg',\n",
       "  'agatggagtt',\n",
       "  'tgaggacatg',\n",
       "  'gagaatgtgc',\n",
       "  'ccctggaccg',\n",
       "  'ttcctcgcac'],\n",
       " ['tgtcagaggg',\n",
       "  'aggaggcggg',\n",
       "  'gggccgggat',\n",
       "  'ggagggtcct',\n",
       "  'cgctgggttt',\n",
       "  'caagcggagc'],\n",
       " ['tacgaggaac',\n",
       "  'acatccctta',\n",
       "  'cacacacatg',\n",
       "  'aacggaggca',\n",
       "  'agaaaaacgg',\n",
       "  'gcggattctg'],\n",
       " ['accttgcctc',\n",
       "  'ggtccaatcc',\n",
       "  'ttcctaacag',\n",
       "  'tgcctaccgt',\n",
       "  'ggcgggggcg',\n",
       "  'ggcaggggtt'],\n",
       " ['cccattttcg',\n",
       "  'ctttcctctg',\n",
       "  'gtttgaaagc',\n",
       "  'ctctggaaaa',\n",
       "  'ctcaggattc',\n",
       "  'tcacgactct'],\n",
       " ['accatgtcca',\n",
       "  'gtggagttca',\n",
       "  'gagatcgttc',\n",
       "  'ctatacattt',\n",
       "  'ctgttcatct',\n",
       "  'taaggtggac'],\n",
       " ['tcgtttggtt',\n",
       "  'accaatttaa',\n",
       "  'ctagtcctgc',\n",
       "  'agaggattta',\n",
       "  'actgtgaacc',\n",
       "  'tggagggcaa'],\n",
       " ['ggggtttcca',\n",
       "  'cagttgctgc',\n",
       "  'tcctttgggg',\n",
       "  'caacgacggt',\n",
       "  'ttcaaaccag',\n",
       "  'gattttgtgt'],\n",
       " ['tttttcgttc',\n",
       "  'cccccacccg',\n",
       "  'cccccagcag',\n",
       "  'atggaaagaa',\n",
       "  'agcacctgtt',\n",
       "  'tttacaaatt'],\n",
       " ['cttttttttt',\n",
       "  'tttttttttt',\n",
       "  'tttttttttg',\n",
       "  'ctggtgtctg',\n",
       "  'agcttcagta',\n",
       "  'taaaagacaa'],\n",
       " ['aacttcctgt', 'ttgtggaaca', 'aaatttcgaa', 'agaaaaaacc', 'aaa']]"
      ]
     },
     "execution_count": 13,
     "metadata": {},
     "output_type": "execute_result"
    }
   ],
   "source": [
    "seq_chunk_list"
   ]
  },
  {
   "cell_type": "markdown",
   "metadata": {},
   "source": [
    "Concatenare i pezzi della lista `seq_chunk_list` in un'unica sequenza nucleotidica e assegnarla alla variabile `nucleotide_sequence`."
   ]
  },
  {
   "cell_type": "code",
   "execution_count": 14,
   "metadata": {},
   "outputs": [],
   "source": []
  },
  {
   "cell_type": "markdown",
   "metadata": {},
   "source": [
    "Sostituire in `nucleotide_sequence` tutti i simboli `t` con simboli `u`."
   ]
  },
  {
   "cell_type": "code",
   "execution_count": 15,
   "metadata": {},
   "outputs": [],
   "source": []
  },
  {
   "cell_type": "code",
   "execution_count": 16,
   "metadata": {},
   "outputs": [
    {
     "data": {
      "text/plain": [
       "'ggggggcugcgcggccgggucggugcgcacacgagaaggacgcgcggcccccagcgcucuugggggccgccucggagcaugacccccgcgggccagcgccgcgcgccugauccgaggagaccccgcgcucccgcagccaugggcaccgggggccggcggggggcggcggccgcgccgcugcugguggcgguggccgcgcugcuacugggcgccgcgggccaccuguaccccggagaggugugucccggcauggauauccggaacaaccucacuagguugcaugagcuggagaauugcucugucaucgaaggacacuugcagauacucuugauguucaaaacgaggcccgaagauuuccgagaccucaguuuccccaaacucaucaugaucacugauuacuugcugcucuuccgggucuaugggcucgagagccugaaggaccuguuccccaaccucacggucauccggggaucacgacuguucuuuaacuacgcgcuggucaucuucgagaugguucaccucaaggaacucggccucuacaaccugaugaacaucacccgggguucuguccgcaucgagaagaacaaugagcucuguuacuuggccacuaucgacuggucccguauccuggauuccguggaggauaaucacaucguguugaacaaagaugacaacgaggaguguggagacaucuguccggguaccgcgaagggcaagaccaacugccccgccaccgucaucaacgggcaguuugucgaacgauguuggacucauagucacugccagaaaguuugcccgaccaucuguaagucacacggcugcaccgccgaaggccucuguugccacagcgagugccugggcaacuguucucagcccgacgaccccaccaagugcguggccugccgcaacuucuaccuggacggcagguguguggagaccugcccgcccccguacuaccacuuccaggacuggcgcugugugaacuucagcuucugccaggaccugcaccacaaaugcaagaacucgcggaggcagggcugccaccaauacgucauucacaacaacaagugcaucccugagugucccuccggguacacgaugaauuccagcaacuugcugugcaccccaugccugggucccugucccaaggugugccaccuccuagaaggcgagaagaccaucgacucggugacgucugcccaggagcuccgaggaugcaccgucaucaacgggagucugaucaucaacauucgaggaggcaacaaucuggcagcugagcuagaagccaaccucggccucauugaagaaauuucaggguaucuaaaaauccgccgauccuacgcucuggugucacuuuccuucuuccggaaguuacgucugauucgaggagagaccuuggaaauugggaacuacuccuucuaugccuuggacaaccagaaccuaaggcagcucugggacuggagcaaacacaaccucaccaccacucaggggaaacucuucuuccacuauaaccccaaacucugcuugucagaaauccacaagauggaagaaguuucaggaaccaaggggcgccaggagagaaacgacauugcccugaagaccaauggggacaaggcauccugugaaaaugaguuacuuaaauuuucuuacauucggacaucuuuugacaagaucuugcugagaugggagccguacuggccccccgacuuccgagaccucuugggguucaugcuguucuacaaagaggccccuuaucagaaugugacggaguucgaugggcaggaugcgugugguuccaacaguuggacggugguagacauugacccaccccugagguccaacgaccccaaaucacagaaccacccaggguggcugaugcggggucucaagcccuggacccaguaugccaucuuugugaagacccuggucaccuuuucggaugaacgccggaccuauggggccaagagugacaucauuuauguccagacagaugccaccaaccccucugugccccuggauccaaucucagugucuaacucaucaucccagauuauucugaaguggaaaccacccuccgaccccaauggcaacaucacccacuaccugguuuucugggagaggcaggcggaagacagugagcuguucgagcuggauuauugccucaaagggcugaagcugcccucgaggaccuggucuccaccauucgagucugaagauucucagaagcacaaccagagugaguaugaggauucggccggcgaaugcugcuccuguccaaagacagacucucagauccugaaggagcuggaggaguccucguuuaggaagacguuugaggauuaccugcacaacgugguuuucguccccagaaaaaccucuucaggcacuggugccgaggacccuaggccaucucggaaacgcaggucccuuggcgauguugggaaugugacgguggccgugcccacgguggcagcuuuccccaacacuuccucgaccagcgugcccacgaguccggaggagcacaggccuuuugagaagguggugaacaaggagucgcuggucaucuccggcuugcgacacuucacgggcuaucgcaucgagcugcaggcuugcaaccaggacaccccugaggaacggugcaguguggcagccuacgucagugcgaggaccaugccugaagccaaggcugaugacauuguuggcccugugacgcaugaaaucuuugagaacaacgucguccacuugauguggcaggagccgaaggagcccaauggucugaucgugcuguaugaagugaguuaucggcgauauggugaugaggagcugcaucucugcgucucccgcaagcacuucgcucuggaacggggcugcaggcugcgugggcugucaccggggaacuacagcgugcgaauccgggccaccucccuugcgggcaacggcucuuggacggaacccaccuauuucuacgugacagacuauuuagacgucccgucaaauauugcaaaaauuaucaucggcccccucaucuuugucuuucucuucaguguugugauuggaaguauuuaucuauuccugagaaagaggcagccagaugggccgcugggaccgcuuuacgcuucuucaaacccugaguaucucagugccagugauguguuuccaugcucuguguacgugccggacgagugggaggugucucgagagaagaucacccuccuucgagagcuggggcagggcuccuucggcaugguguaugagggcaaugccagggacaucaucaagggugaggcagagacccgcguggcggugaagacggucaacgagucagccagucuccgagagcggauugaguuccucaaugaggccucggucaugaagggcuucaccugccaucacguggugcgccuccugggagugguguccaagggccagcccacgcugguggugauggagcugauggcucacggagaccugaagagcuaccuccguucucugcggccagaggcugagaauaauccuggccgcccucccccuacccuucaagagaugauucagauggcggcagagauugcugacgggauggccuaccugaacgccaagaaguuugugcaucgggaccuggcagcgagaaacugcauggucgcccaugauuuuacugucaaaauuggagacuuuggaaugaccagagacaucuaugaaacggauuacuaccggaaagggggcaagggucugcucccuguacgguggauggcaccggagucccugaaggauggggucuucaccacuucuucugacaugugguccuuuggcgugguccuuugggaaaucaccagcuuggcagaacagccuuaccaaggccugucuaaugaacagguguugaaauuugucauggauggaggguaucuggaucaacccgacaacuguccagagagagucacugaccucaugcgcaugugcuggcaauucaaccccaagaugaggccaaccuuccuggagauugucaaccugcucaaggacgaccugcaccccagcuuuccagaggugucguucuuccacagcgaggagaacaaggcucccgagagugaggagcuggagauggaguuugaggacauggagaaugugccccuggaccguuccucgcacugucagagggaggaggcggggggccgggauggaggguccucgcuggguuucaagcggagcuacgaggaacacaucccuuacacacacaugaacggaggcaagaaaaacgggcggauucugaccuugccucgguccaauccuuccuaacagugccuaccguggcgggggcgggcagggguucccauuuucgcuuuccucugguuugaaagccucuggaaaacucaggauucucacgacucuaccauguccaguggaguucagagaucguuccuauacauuucuguucaucuuaagguggacucguuugguuaccaauuuaacuaguccugcagaggauuuaacugugaaccuggagggcaagggguuuccacaguugcugcuccuuuggggcaacgacgguuucaaaccaggauuuuguguuuuuucguuccccccacccgcccccagcagauggaaagaaagcaccuguuuuuacaaauucuuuuuuuuuuuuuuuuuuuuuuuuuuuugcuggugucugagcuucaguauaaaagacaaaacuuccuguuuguggaacaaaauuucgaaagaaaaaaccaaa'"
      ]
     },
     "execution_count": 16,
     "metadata": {},
     "output_type": "execute_result"
    }
   ],
   "source": [
    "nucleotide_sequence"
   ]
  },
  {
   "cell_type": "markdown",
   "metadata": {},
   "source": [
    "Produrre la sequenza nucleotidica in formato `FASTA' con il seguente *header*:\n",
    "\n",
    "    >M10051-HUM\n",
    "    \n",
    "e assegnarla alla variabile `nucleotide_fasta_sequence`."
   ]
  },
  {
   "cell_type": "code",
   "execution_count": 17,
   "metadata": {},
   "outputs": [],
   "source": []
  },
  {
   "cell_type": "code",
   "execution_count": 18,
   "metadata": {},
   "outputs": [
    {
     "name": "stdout",
     "output_type": "stream",
     "text": [
      ">M10051-HUM\n",
      "ggggggcugcgcggccgggucggugcgcacacgagaaggacgcgcggcccccagcgcucuugggggccgccucggagcau\n",
      "gacccccgcgggccagcgccgcgcgccugauccgaggagaccccgcgcucccgcagccaugggcaccgggggccggcggg\n",
      "gggcggcggccgcgccgcugcugguggcgguggccgcgcugcuacugggcgccgcgggccaccuguaccccggagaggug\n",
      "ugucccggcauggauauccggaacaaccucacuagguugcaugagcuggagaauugcucugucaucgaaggacacuugca\n",
      "gauacucuugauguucaaaacgaggcccgaagauuuccgagaccucaguuuccccaaacucaucaugaucacugauuacu\n",
      "ugcugcucuuccgggucuaugggcucgagagccugaaggaccuguuccccaaccucacggucauccggggaucacgacug\n",
      "uucuuuaacuacgcgcuggucaucuucgagaugguucaccucaaggaacucggccucuacaaccugaugaacaucacccg\n",
      "ggguucuguccgcaucgagaagaacaaugagcucuguuacuuggccacuaucgacuggucccguauccuggauuccgugg\n",
      "aggauaaucacaucguguugaacaaagaugacaacgaggaguguggagacaucuguccggguaccgcgaagggcaagacc\n",
      "aacugccccgccaccgucaucaacgggcaguuugucgaacgauguuggacucauagucacugccagaaaguuugcccgac\n",
      "caucuguaagucacacggcugcaccgccgaaggccucuguugccacagcgagugccugggcaacuguucucagcccgacg\n",
      "accccaccaagugcguggccugccgcaacuucuaccuggacggcagguguguggagaccugcccgcccccguacuaccac\n",
      "uuccaggacuggcgcugugugaacuucagcuucugccaggaccugcaccacaaaugcaagaacucgcggaggcagggcug\n",
      "ccaccaauacgucauucacaacaacaagugcaucccugagugucccuccggguacacgaugaauuccagcaacuugcugu\n",
      "gcaccccaugccugggucccugucccaaggugugccaccuccuagaaggcgagaagaccaucgacucggugacgucugcc\n",
      "caggagcuccgaggaugcaccgucaucaacgggagucugaucaucaacauucgaggaggcaacaaucuggcagcugagcu\n",
      "agaagccaaccucggccucauugaagaaauuucaggguaucuaaaaauccgccgauccuacgcucuggugucacuuuccu\n",
      "ucuuccggaaguuacgucugauucgaggagagaccuuggaaauugggaacuacuccuucuaugccuuggacaaccagaac\n",
      "cuaaggcagcucugggacuggagcaaacacaaccucaccaccacucaggggaaacucuucuuccacuauaaccccaaacu\n",
      "cugcuugucagaaauccacaagauggaagaaguuucaggaaccaaggggcgccaggagagaaacgacauugcccugaaga\n",
      "ccaauggggacaaggcauccugugaaaaugaguuacuuaaauuuucuuacauucggacaucuuuugacaagaucuugcug\n",
      "agaugggagccguacuggccccccgacuuccgagaccucuugggguucaugcuguucuacaaagaggccccuuaucagaa\n",
      "ugugacggaguucgaugggcaggaugcgugugguuccaacaguuggacggugguagacauugacccaccccugaggucca\n",
      "acgaccccaaaucacagaaccacccaggguggcugaugcggggucucaagcccuggacccaguaugccaucuuugugaag\n",
      "acccuggucaccuuuucggaugaacgccggaccuauggggccaagagugacaucauuuauguccagacagaugccaccaa\n",
      "ccccucugugccccuggauccaaucucagugucuaacucaucaucccagauuauucugaaguggaaaccacccuccgacc\n",
      "ccaauggcaacaucacccacuaccugguuuucugggagaggcaggcggaagacagugagcuguucgagcuggauuauugc\n",
      "cucaaagggcugaagcugcccucgaggaccuggucuccaccauucgagucugaagauucucagaagcacaaccagaguga\n",
      "guaugaggauucggccggcgaaugcugcuccuguccaaagacagacucucagauccugaaggagcuggaggaguccucgu\n",
      "uuaggaagacguuugaggauuaccugcacaacgugguuuucguccccagaaaaaccucuucaggcacuggugccgaggac\n",
      "ccuaggccaucucggaaacgcaggucccuuggcgauguugggaaugugacgguggccgugcccacgguggcagcuuuccc\n",
      "caacacuuccucgaccagcgugcccacgaguccggaggagcacaggccuuuugagaagguggugaacaaggagucgcugg\n",
      "ucaucuccggcuugcgacacuucacgggcuaucgcaucgagcugcaggcuugcaaccaggacaccccugaggaacggugc\n",
      "aguguggcagccuacgucagugcgaggaccaugccugaagccaaggcugaugacauuguuggcccugugacgcaugaaau\n",
      "cuuugagaacaacgucguccacuugauguggcaggagccgaaggagcccaauggucugaucgugcuguaugaagugaguu\n",
      "aucggcgauauggugaugaggagcugcaucucugcgucucccgcaagcacuucgcucuggaacggggcugcaggcugcgu\n",
      "gggcugucaccggggaacuacagcgugcgaauccgggccaccucccuugcgggcaacggcucuuggacggaacccaccua\n",
      "uuucuacgugacagacuauuuagacgucccgucaaauauugcaaaaauuaucaucggcccccucaucuuugucuuucucu\n",
      "ucaguguugugauuggaaguauuuaucuauuccugagaaagaggcagccagaugggccgcugggaccgcuuuacgcuucu\n",
      "ucaaacccugaguaucucagugccagugauguguuuccaugcucuguguacgugccggacgagugggaggugucucgaga\n",
      "gaagaucacccuccuucgagagcuggggcagggcuccuucggcaugguguaugagggcaaugccagggacaucaucaagg\n",
      "gugaggcagagacccgcguggcggugaagacggucaacgagucagccagucuccgagagcggauugaguuccucaaugag\n",
      "gccucggucaugaagggcuucaccugccaucacguggugcgccuccugggagugguguccaagggccagcccacgcuggu\n",
      "ggugauggagcugauggcucacggagaccugaagagcuaccuccguucucugcggccagaggcugagaauaauccuggcc\n",
      "gcccucccccuacccuucaagagaugauucagauggcggcagagauugcugacgggauggccuaccugaacgccaagaag\n",
      "uuugugcaucgggaccuggcagcgagaaacugcauggucgcccaugauuuuacugucaaaauuggagacuuuggaaugac\n",
      "cagagacaucuaugaaacggauuacuaccggaaagggggcaagggucugcucccuguacgguggauggcaccggaguccc\n",
      "ugaaggauggggucuucaccacuucuucugacaugugguccuuuggcgugguccuuugggaaaucaccagcuuggcagaa\n",
      "cagccuuaccaaggccugucuaaugaacagguguugaaauuugucauggauggaggguaucuggaucaacccgacaacug\n",
      "uccagagagagucacugaccucaugcgcaugugcuggcaauucaaccccaagaugaggccaaccuuccuggagauuguca\n",
      "accugcucaaggacgaccugcaccccagcuuuccagaggugucguucuuccacagcgaggagaacaaggcucccgagagu\n",
      "gaggagcuggagauggaguuugaggacauggagaaugugccccuggaccguuccucgcacugucagagggaggaggcggg\n",
      "gggccgggauggaggguccucgcuggguuucaagcggagcuacgaggaacacaucccuuacacacacaugaacggaggca\n",
      "agaaaaacgggcggauucugaccuugccucgguccaauccuuccuaacagugccuaccguggcgggggcgggcagggguu\n",
      "cccauuuucgcuuuccucugguuugaaagccucuggaaaacucaggauucucacgacucuaccauguccaguggaguuca\n",
      "gagaucguuccuauacauuucuguucaucuuaagguggacucguuugguuaccaauuuaacuaguccugcagaggauuua\n",
      "acugugaaccuggagggcaagggguuuccacaguugcugcuccuuuggggcaacgacgguuucaaaccaggauuuugugu\n",
      "uuuuucguuccccccacccgcccccagcagauggaaagaaagcaccuguuuuuacaaauucuuuuuuuuuuuuuuuuuuu\n",
      "uuuuuuuuugcuggugucugagcuucaguauaaaagacaaaacuuccuguuuguggaacaaaauuucgaaagaaaaaacc\n",
      "aaa\n"
     ]
    }
   ],
   "source": [
    "print(nucleotide_fasta_sequence)"
   ]
  },
  {
   "cell_type": "markdown",
   "metadata": {},
   "source": [
    "### Output della sequenza della proteina in formato `FASTA`"
   ]
  },
  {
   "cell_type": "markdown",
   "metadata": {},
   "source": [
    "Estrarre il prefisso della proteina contenuto nel *record*:\n",
    "\n",
    "    FT                   /translation=\"MGTGGRRGAAAAPLLVAVAALLLGAAGHLYPGEVCPGMDIRNNLT\n",
    "    \n",
    "e assegnarlo alla variabile `protein_prefix`."
   ]
  },
  {
   "cell_type": "code",
   "execution_count": 19,
   "metadata": {},
   "outputs": [],
   "source": []
  },
  {
   "cell_type": "code",
   "execution_count": 20,
   "metadata": {},
   "outputs": [
    {
     "data": {
      "text/plain": [
       "'MGTGGRRGAAAAPLLVAVAALLLGAAGHLYPGEVCPGMDIRNNLT'"
      ]
     },
     "execution_count": 20,
     "metadata": {},
     "output_type": "execute_result"
    }
   ],
   "source": [
    "protein_prefix"
   ]
  },
  {
   "cell_type": "markdown",
   "metadata": {},
   "source": [
    "Estrarre gli altri *record*:\n",
    "\n",
    "    FT                   RLHELENCSVIEGHLQILLMFKTRPEDFRDLSFPKLIMITDYLLLFRVYGLESLKDLFP\n",
    "    \n",
    "che contengono la sequenza della proteina e aggiungerli alla lista `protein_row_list`.\n",
    "    \n",
    "**NOTA BENE**: attenzione all'ultimo:\n",
    "\n",
    "    FT                   DGGSSLGFKRSYEEHIPYTHMNGGKKNGRILTLPRSNPS\"\n",
    "\n",
    "che contiene alla fine dei doppi apici `\"`."
   ]
  },
  {
   "cell_type": "code",
   "execution_count": 21,
   "metadata": {},
   "outputs": [],
   "source": []
  },
  {
   "cell_type": "code",
   "execution_count": 22,
   "metadata": {},
   "outputs": [
    {
     "data": {
      "text/plain": [
       "['RLHELENCSVIEGHLQILLMFKTRPEDFRDLSFPKLIMITDYLLLFRVYGLESLKDLFP',\n",
       " 'NLTVIRGSRLFFNYALVIFEMVHLKELGLYNLMNITRGSVRIEKNNELCYLATIDWSRI',\n",
       " 'LDSVEDNHIVLNKDDNEECGDICPGTAKGKTNCPATVINGQFVERCWTHSHCQKVCPTI',\n",
       " 'CKSHGCTAEGLCCHSECLGNCSQPDDPTKCVACRNFYLDGRCVETCPPPYYHFQDWRCV',\n",
       " 'NFSFCQDLHHKCKNSRRQGCHQYVIHNNKCIPECPSGYTMNSSNLLCTPCLGPCPKVCH',\n",
       " 'LLEGEKTIDSVTSAQELRGCTVINGSLIINIRGGNNLAAELEANLGLIEEISGYLKIRR',\n",
       " 'SYALVSLSFFRKLRLIRGETLEIGNYSFYALDNQNLRQLWDWSKHNLTTTQGKLFFHYN',\n",
       " 'PKLCLSEIHKMEEVSGTKGRQERNDIALKTNGDKASCENELLKFSYIRTSFDKILLRWE',\n",
       " 'PYWPPDFRDLLGFMLFYKEAPYQNVTEFDGQDACGSNSWTVVDIDPPLRSNDPKSQNHP',\n",
       " 'GWLMRGLKPWTQYAIFVKTLVTFSDERRTYGAKSDIIYVQTDATNPSVPLDPISVSNSS',\n",
       " 'SQIILKWKPPSDPNGNITHYLVFWERQAEDSELFELDYCLKGLKLPSRTWSPPFESEDS',\n",
       " 'QKHNQSEYEDSAGECCSCPKTDSQILKELEESSFRKTFEDYLHNVVFVPRKTSSGTGAE',\n",
       " 'DPRPSRKRRSLGDVGNVTVAVPTVAAFPNTSSTSVPTSPEEHRPFEKVVNKESLVISGL',\n",
       " 'RHFTGYRIELQACNQDTPEERCSVAAYVSARTMPEAKADDIVGPVTHEIFENNVVHLMW',\n",
       " 'QEPKEPNGLIVLYEVSYRRYGDEELHLCVSRKHFALERGCRLRGLSPGNYSVRIRATSL',\n",
       " 'AGNGSWTEPTYFYVTDYLDVPSNIAKIIIGPLIFVFLFSVVIGSIYLFLRKRQPDGPLG',\n",
       " 'PLYASSNPEYLSASDVFPCSVYVPDEWEVSREKITLLRELGQGSFGMVYEGNARDIIKG',\n",
       " 'EAETRVAVKTVNESASLRERIEFLNEASVMKGFTCHHVVRLLGVVSKGQPTLVVMELMA',\n",
       " 'HGDLKSYLRSLRPEAENNPGRPPPTLQEMIQMAAEIADGMAYLNAKKFVHRDLAARNCM',\n",
       " 'VAHDFTVKIGDFGMTRDIYETDYYRKGGKGLLPVRWMAPESLKDGVFTTSSDMWSFGVV',\n",
       " 'LWEITSLAEQPYQGLSNEQVLKFVMDGGYLDQPDNCPERVTDLMRMCWQFNPKMRPTFL',\n",
       " 'EIVNLLKDDLHPSFPEVSFFHSEENKAPESEELEMEFEDMENVPLDRSSHCQREEAGGR',\n",
       " 'DGGSSLGFKRSYEEHIPYTHMNGGKKNGRILTLPRSNPS']"
      ]
     },
     "execution_count": 22,
     "metadata": {},
     "output_type": "execute_result"
    }
   ],
   "source": [
    "protein_row_list"
   ]
  },
  {
   "cell_type": "markdown",
   "metadata": {},
   "source": [
    "Aggiungere in testa alla lista `protein_row_list` il prefisso trovato prima e concatenare tutti i pezzi della lista `protein_row_list` per ottenere la sequenza della proteina. Assegnare la sequenza della proteina alla variabile `protein_sequence`."
   ]
  },
  {
   "cell_type": "code",
   "execution_count": 23,
   "metadata": {},
   "outputs": [],
   "source": []
  },
  {
   "cell_type": "code",
   "execution_count": 24,
   "metadata": {},
   "outputs": [
    {
     "data": {
      "text/plain": [
       "'MGTGGRRGAAAAPLLVAVAALLLGAAGHLYPGEVCPGMDIRNNLTRLHELENCSVIEGHLQILLMFKTRPEDFRDLSFPKLIMITDYLLLFRVYGLESLKDLFPNLTVIRGSRLFFNYALVIFEMVHLKELGLYNLMNITRGSVRIEKNNELCYLATIDWSRILDSVEDNHIVLNKDDNEECGDICPGTAKGKTNCPATVINGQFVERCWTHSHCQKVCPTICKSHGCTAEGLCCHSECLGNCSQPDDPTKCVACRNFYLDGRCVETCPPPYYHFQDWRCVNFSFCQDLHHKCKNSRRQGCHQYVIHNNKCIPECPSGYTMNSSNLLCTPCLGPCPKVCHLLEGEKTIDSVTSAQELRGCTVINGSLIINIRGGNNLAAELEANLGLIEEISGYLKIRRSYALVSLSFFRKLRLIRGETLEIGNYSFYALDNQNLRQLWDWSKHNLTTTQGKLFFHYNPKLCLSEIHKMEEVSGTKGRQERNDIALKTNGDKASCENELLKFSYIRTSFDKILLRWEPYWPPDFRDLLGFMLFYKEAPYQNVTEFDGQDACGSNSWTVVDIDPPLRSNDPKSQNHPGWLMRGLKPWTQYAIFVKTLVTFSDERRTYGAKSDIIYVQTDATNPSVPLDPISVSNSSSQIILKWKPPSDPNGNITHYLVFWERQAEDSELFELDYCLKGLKLPSRTWSPPFESEDSQKHNQSEYEDSAGECCSCPKTDSQILKELEESSFRKTFEDYLHNVVFVPRKTSSGTGAEDPRPSRKRRSLGDVGNVTVAVPTVAAFPNTSSTSVPTSPEEHRPFEKVVNKESLVISGLRHFTGYRIELQACNQDTPEERCSVAAYVSARTMPEAKADDIVGPVTHEIFENNVVHLMWQEPKEPNGLIVLYEVSYRRYGDEELHLCVSRKHFALERGCRLRGLSPGNYSVRIRATSLAGNGSWTEPTYFYVTDYLDVPSNIAKIIIGPLIFVFLFSVVIGSIYLFLRKRQPDGPLGPLYASSNPEYLSASDVFPCSVYVPDEWEVSREKITLLRELGQGSFGMVYEGNARDIIKGEAETRVAVKTVNESASLRERIEFLNEASVMKGFTCHHVVRLLGVVSKGQPTLVVMELMAHGDLKSYLRSLRPEAENNPGRPPPTLQEMIQMAAEIADGMAYLNAKKFVHRDLAARNCMVAHDFTVKIGDFGMTRDIYETDYYRKGGKGLLPVRWMAPESLKDGVFTTSSDMWSFGVVLWEITSLAEQPYQGLSNEQVLKFVMDGGYLDQPDNCPERVTDLMRMCWQFNPKMRPTFLEIVNLLKDDLHPSFPEVSFFHSEENKAPESEELEMEFEDMENVPLDRSSHCQREEAGGRDGGSSLGFKRSYEEHIPYTHMNGGKKNGRILTLPRSNPS'"
      ]
     },
     "execution_count": 24,
     "metadata": {},
     "output_type": "execute_result"
    }
   ],
   "source": [
    "protein_sequence"
   ]
  },
  {
   "cell_type": "markdown",
   "metadata": {},
   "source": [
    "Produrre la sequenza della proteina in formato `FASTA` con il seguente *header*:\n",
    "\n",
    "    >M10051-HUM; len = 1382\n",
    "    \n",
    "e assegnarla alla variabile `protein_fasta_sequence`."
   ]
  },
  {
   "cell_type": "code",
   "execution_count": 25,
   "metadata": {},
   "outputs": [],
   "source": []
  },
  {
   "cell_type": "code",
   "execution_count": 26,
   "metadata": {},
   "outputs": [
    {
     "name": "stdout",
     "output_type": "stream",
     "text": [
      ">M10051-HUM; len = 1382\n",
      "MGTGGRRGAAAAPLLVAVAALLLGAAGHLYPGEVCPGMDIRNNLTRLHELENCSVIEGHLQILLMFKTRPEDFRDLSFPK\n",
      "LIMITDYLLLFRVYGLESLKDLFPNLTVIRGSRLFFNYALVIFEMVHLKELGLYNLMNITRGSVRIEKNNELCYLATIDW\n",
      "SRILDSVEDNHIVLNKDDNEECGDICPGTAKGKTNCPATVINGQFVERCWTHSHCQKVCPTICKSHGCTAEGLCCHSECL\n",
      "GNCSQPDDPTKCVACRNFYLDGRCVETCPPPYYHFQDWRCVNFSFCQDLHHKCKNSRRQGCHQYVIHNNKCIPECPSGYT\n",
      "MNSSNLLCTPCLGPCPKVCHLLEGEKTIDSVTSAQELRGCTVINGSLIINIRGGNNLAAELEANLGLIEEISGYLKIRRS\n",
      "YALVSLSFFRKLRLIRGETLEIGNYSFYALDNQNLRQLWDWSKHNLTTTQGKLFFHYNPKLCLSEIHKMEEVSGTKGRQE\n",
      "RNDIALKTNGDKASCENELLKFSYIRTSFDKILLRWEPYWPPDFRDLLGFMLFYKEAPYQNVTEFDGQDACGSNSWTVVD\n",
      "IDPPLRSNDPKSQNHPGWLMRGLKPWTQYAIFVKTLVTFSDERRTYGAKSDIIYVQTDATNPSVPLDPISVSNSSSQIIL\n",
      "KWKPPSDPNGNITHYLVFWERQAEDSELFELDYCLKGLKLPSRTWSPPFESEDSQKHNQSEYEDSAGECCSCPKTDSQIL\n",
      "KELEESSFRKTFEDYLHNVVFVPRKTSSGTGAEDPRPSRKRRSLGDVGNVTVAVPTVAAFPNTSSTSVPTSPEEHRPFEK\n",
      "VVNKESLVISGLRHFTGYRIELQACNQDTPEERCSVAAYVSARTMPEAKADDIVGPVTHEIFENNVVHLMWQEPKEPNGL\n",
      "IVLYEVSYRRYGDEELHLCVSRKHFALERGCRLRGLSPGNYSVRIRATSLAGNGSWTEPTYFYVTDYLDVPSNIAKIIIG\n",
      "PLIFVFLFSVVIGSIYLFLRKRQPDGPLGPLYASSNPEYLSASDVFPCSVYVPDEWEVSREKITLLRELGQGSFGMVYEG\n",
      "NARDIIKGEAETRVAVKTVNESASLRERIEFLNEASVMKGFTCHHVVRLLGVVSKGQPTLVVMELMAHGDLKSYLRSLRP\n",
      "EAENNPGRPPPTLQEMIQMAAEIADGMAYLNAKKFVHRDLAARNCMVAHDFTVKIGDFGMTRDIYETDYYRKGGKGLLPV\n",
      "RWMAPESLKDGVFTTSSDMWSFGVVLWEITSLAEQPYQGLSNEQVLKFVMDGGYLDQPDNCPERVTDLMRMCWQFNPKMR\n",
      "PTFLEIVNLLKDDLHPSFPEVSFFHSEENKAPESEELEMEFEDMENVPLDRSSHCQREEAGGRDGGSSLGFKRSYEEHIP\n",
      "YTHMNGGKKNGRILTLPRSNPS\n"
     ]
    }
   ],
   "source": [
    "print(protein_fasta_sequence)"
   ]
  }
 ],
 "metadata": {
  "kernelspec": {
   "display_name": "Python 3",
   "language": "python",
   "name": "python3"
  },
  "language_info": {
   "codemirror_mode": {
    "name": "ipython",
    "version": 3
   },
   "file_extension": ".py",
   "mimetype": "text/x-python",
   "name": "python",
   "nbconvert_exporter": "python",
   "pygments_lexer": "ipython3",
   "version": "3.7.1"
  }
 },
 "nbformat": 4,
 "nbformat_minor": 2
}
