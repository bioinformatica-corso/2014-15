{
 "cells": [
  {
   "cell_type": "markdown",
   "metadata": {},
   "source": [
    "# Espressioni regolari\n",
    "\n",
    "> # Indice\n",
    ">>> ### Definizione di espressione regolare\n",
    ">>> ### Operazione di *matching*\n",
    ">>> ### Operazione di *searching*\n",
    ">>> ### Accesso alla *matching*/*searching occurrence*\n",
    ">>> ### Come scrivere un'espressione regolare\n",
    ">>> ### Due esempi di *matching*\n",
    ">>> ### Tre esempi di *searching*\n",
    ">>> ### *Backreference* esterno\n",
    ">>> ### *Backreference* interno\n",
    ">>> ### La funzione `findall()` per trovare tutte le occorrenze\n",
    ">>> ### La funzione `sub()` per effettuare sostituzioni"
   ]
  },
  {
   "cell_type": "markdown",
   "metadata": {},
   "source": [
    "## Definizione di espressione regolare\n",
    "\n",
    "Un'*espressione regolare* *RE* è una stringa di simboli che non rappresenta se stessa ma un linguaggio (cioé un insieme di stringhe).\n",
    "\n",
    "Ad esempio `ca?t` se intesa come *RE* rappresenta l'insieme delle due stringhe {`ct`, `cat`}, ma non la stringa `ca?t`. Oppure, `ca*t` se intesa come *RE* rappresenta l'insieme di tutte le stringhe composte dal simbolo `c` seguito da 0 o più simboli `a`, seguiti dal simbolo `t`. Invece `ca+t` rappresenta tutte le stringhe di `ca*t` tranne `ct`. La *RE* `cat` rappresenta l'unica stringa `cat` (cioé la *RE* rappresenta in questo caso particolare se stessa). \n",
    "\n",
    "Un'*espressione regolare* viene utilizzata in Python per compiere operazioni di:\n",
    "\n",
    "- *matching*\n",
    "- *searching*\n",
    "- *sostituzione*\n",
    "\n",
    "Per utilizzare un'*espressione regolare* si deve importare il modulo `re`\n",
    "\n",
    "        import re"
   ]
  },
  {
   "cell_type": "code",
   "execution_count": 1,
   "metadata": {},
   "outputs": [],
   "source": [
    "import re"
   ]
  },
  {
   "cell_type": "markdown",
   "metadata": {},
   "source": [
    "## Operazione di *matching*"
   ]
  },
  {
   "cell_type": "markdown",
   "metadata": {},
   "source": [
    "### Definizione\n",
    "\n",
    "Data una stringa S e un'espressione regolare *RE*, l'operazione di *matching* verifica se S inizia o coincide con una delle stringhe rappresentate da *RE*.\n",
    "\n",
    "### *Matching occurrence*\n",
    "\n",
    "L'operazione di *matching* ha un funzionamento *greedy*: considera infatti tutti i prefissi di S, a partire da quello di lunghezza massima (che coincide con S) e via via considerando quelli di lunghezza decrescente. La *matching occurrence* è il primo prefisso incontrato che appartiene al linguaggio di *RE*.\n",
    "\n",
    "### Funzione `re.match()`\n",
    "\n",
    "    re.match(my_expr, my_string)\n",
    "    \n",
    "restituisce un oggetto di tipo `re.Match` che contiene tutte le informazioni relative all'operazione di *matching* tra la *RE* `my_expr` e la stringa `my_string`.\n",
    "\n",
    "Ad esempio:"
   ]
  },
  {
   "cell_type": "code",
   "execution_count": 2,
   "metadata": {},
   "outputs": [
    {
     "name": "stdout",
     "output_type": "stream",
     "text": [
      "None\n"
     ]
    }
   ],
   "source": [
    "m = re.match('cat', 'dog and cat')\n",
    "print(m)"
   ]
  },
  {
   "cell_type": "markdown",
   "metadata": {},
   "source": [
    "restituisce l'oggetto nullo perché `cat` compare in `dog and cat` solo come suffisso (non è la sua parte iniziale).\n",
    "\n",
    "Negli esempi successivi invece l'oggetto restituito dall'operazione di *matching* non è nullo."
   ]
  },
  {
   "cell_type": "code",
   "execution_count": 3,
   "metadata": {},
   "outputs": [
    {
     "data": {
      "text/plain": [
       "<re.Match object; span=(0, 3), match='cat'>"
      ]
     },
     "execution_count": 3,
     "metadata": {},
     "output_type": "execute_result"
    }
   ],
   "source": [
    "re.match('cat', 'cat and dog')"
   ]
  },
  {
   "cell_type": "code",
   "execution_count": 4,
   "metadata": {},
   "outputs": [
    {
     "data": {
      "text/plain": [
       "<re.Match object; span=(0, 3), match='cat'>"
      ]
     },
     "execution_count": 4,
     "metadata": {},
     "output_type": "execute_result"
    }
   ],
   "source": [
    "re.match('cat', 'cat')"
   ]
  },
  {
   "cell_type": "markdown",
   "metadata": {},
   "source": [
    "## Operazione di *searching*"
   ]
  },
  {
   "cell_type": "markdown",
   "metadata": {},
   "source": [
    "### Definizione\n",
    "\n",
    "Data una stringa S e un'espressione regolare *RE*, l'operazione di *searching* verifica se in S esiste un'occorrenza di una delle stringhe del linguaggio di *RE*.\n",
    "\n",
    "### *Searching occurrence*\n",
    "\n",
    "L'operazione di *searching* ha un funzionamento *greedy*: la stringa S viene scandita da sinistra a destra (dal primo all’ultimo carattere). Per ogni posizione, vengono considerate tutte le sottostringhe che iniziano in quella posizione, a partire da quella di lunghezza massima (cioè si parte da un suffisso di S). La *searching occurrence* è la prima sottostringa incontrata che appartiene al linguaggio di *RE*.\n",
    "\n",
    "### Funzione `re.search()`\n",
    "\n",
    "    re.search(my_expr, my_string)\n",
    "    \n",
    "restituisce un oggetto di tipo `re.Match` che contiene tutte le informazioni relative all'operazione di *searching* della *RE* `my_expr` nella stringa `my_string`."
   ]
  },
  {
   "cell_type": "code",
   "execution_count": 5,
   "metadata": {},
   "outputs": [
    {
     "data": {
      "text/plain": [
       "<re.Match object; span=(8, 11), match='cat'>"
      ]
     },
     "execution_count": 5,
     "metadata": {},
     "output_type": "execute_result"
    }
   ],
   "source": [
    "re.search('cat', 'dog and cat')"
   ]
  },
  {
   "cell_type": "code",
   "execution_count": 6,
   "metadata": {},
   "outputs": [
    {
     "data": {
      "text/plain": [
       "<re.Match object; span=(0, 3), match='cat'>"
      ]
     },
     "execution_count": 6,
     "metadata": {},
     "output_type": "execute_result"
    }
   ],
   "source": [
    "re.search('cat', 'cat and dog')"
   ]
  },
  {
   "cell_type": "code",
   "execution_count": 7,
   "metadata": {},
   "outputs": [
    {
     "data": {
      "text/plain": [
       "<re.Match object; span=(0, 3), match='cat'>"
      ]
     },
     "execution_count": 7,
     "metadata": {},
     "output_type": "execute_result"
    }
   ],
   "source": [
    "re.search('cat', 'cat')"
   ]
  },
  {
   "cell_type": "markdown",
   "metadata": {},
   "source": [
    "## Accesso alla *matching*/*searching occurrence*"
   ]
  },
  {
   "cell_type": "markdown",
   "metadata": {},
   "source": [
    "L'oggetto di tipo `re.Match` restituito da un'operazione di *matching*/*searching* mette a disposizione due metodi che permettono di ottenere la *matching*/*searching occurrence*:"
   ]
  },
  {
   "cell_type": "markdown",
   "metadata": {},
   "source": [
    "- Il metodo `start()` restituisce la posizione (0-based) di inizio della *matching/searching occurrence*.\n",
    "\n",
    "- Il metodo `end()` restituisce la posizione (0-based) successiva a quella di fine della *matching/searching occurrence*.\n",
    "\n",
    "**NOTA BENE**: in un'operazione di *matching*, `start()` restituisce sempre 0."
   ]
  },
  {
   "cell_type": "code",
   "execution_count": 8,
   "metadata": {},
   "outputs": [],
   "source": [
    "s = re.search('cat', 'dog and cat and rat')"
   ]
  },
  {
   "cell_type": "code",
   "execution_count": 9,
   "metadata": {},
   "outputs": [
    {
     "data": {
      "text/plain": [
       "8"
      ]
     },
     "execution_count": 9,
     "metadata": {},
     "output_type": "execute_result"
    }
   ],
   "source": [
    "s.start()"
   ]
  },
  {
   "cell_type": "code",
   "execution_count": 10,
   "metadata": {},
   "outputs": [
    {
     "data": {
      "text/plain": [
       "11"
      ]
     },
     "execution_count": 10,
     "metadata": {},
     "output_type": "execute_result"
    }
   ],
   "source": [
    "s.end()"
   ]
  },
  {
   "cell_type": "markdown",
   "metadata": {},
   "source": [
    "Per ottenere la *matching occurrence* basta a questo punto accedere alla stringa `dog and cat and rat`."
   ]
  },
  {
   "cell_type": "code",
   "execution_count": 11,
   "metadata": {},
   "outputs": [
    {
     "data": {
      "text/plain": [
       "'cat'"
      ]
     },
     "execution_count": 11,
     "metadata": {},
     "output_type": "execute_result"
    }
   ],
   "source": [
    "'dog and cat and rat'[s.start():s.end()]"
   ]
  },
  {
   "cell_type": "markdown",
   "metadata": {},
   "source": [
    "## Come scrivere un'espressione regolare"
   ]
  },
  {
   "cell_type": "markdown",
   "metadata": {},
   "source": [
    "- I simboli `. | ( ) [ ] { } + \\ ^ $ * ?` nelle *RE* sono *metasimboli* e rappresentano qualcosa di diverso da se stessi. Per fare in modo che rappresentino se stessi occorre anteporre un carattere di *backslash* `\\`. Ad esempio `\\?` rappresenta il punto di domanda, e quindi la *RE* `ca\\?t` rappresenta l'unica stringa `ca?t.`\n",
    "\n",
    "- Tutti i simboli diversi dai *metasimboli* rappresentano se stessi. Diventano *metasimboli* se gli si antepone un `\\`. Ad esempio `\\A` è il *metasimbolo* che specifica l'inizio di stringa (cioé l'elemento di dimensione nulla prima del primo carattere della stringa).\n",
    "\n",
    "I *metasimboli* permettono di specificare i seguenti elementi:\n",
    "\n",
    "- ancore\n",
    "- classi\n",
    "- quantificatori\n",
    "- alternative\n",
    "- raggruppamenti\n",
    "- backreference interni\n",
    "\n",
    "***\n",
    "\n",
    "### Ancora\n",
    "\n",
    "L'*ancora* è un elemento di dimensione nulla che può rappresentare:\n",
    "\n",
    "- **inizio riga** `^`\n",
    "\n",
    "*Es*: la *RE* `^cat` rappresenta l'unica stringa `cat` con il vincolo che sia a inizio riga, e quindi occorre nelle stringhe `cataaaa` e `aaaa\\ncataaaa` ma non in `aaacataaa`, `aaacat` e `aaaacat\\naaaa`.\n",
    "\n",
    "- **fine riga** `$`\n",
    "\n",
    "*Es*: la *RE* `cat$` rappresenta l'unica stringa `cat` con il vincolo che sia a fine riga, e quindi occorre nelle stringhe `aaacat` e `aaaacat\\naaaa` ma non in `aaacataaa`, `cataaa` e `aaaa\\ncataaaa`.\n",
    "\n",
    "- **inizio stringa** `\\A`\n",
    "\n",
    "*Es*: la *RE* `\\Acat` rappresenta l'unica stringa `cat` con il vincolo che sia a inizio stringa, e quindi occorre nella stringa `cataaaa` ma non in `aaaa\\ncataaaa`.\n",
    "\n",
    "- **fine stringa** `\\z`\n",
    "\n",
    "*Es*: la *RE* `cat\\z` rappresenta l'unica stringa `cat` con il vincolo che sia a fine stringa, e quindi occorre nella stringa `aaaacat` ma non in `aaaacat\\naaaa` e `aaaa\\naaaacat\\n`.\n",
    "\n",
    "- **fine stringa** `\\Z` (eventualmente prima di `\\n`)\n",
    "\n",
    "*Es*: la *RE* `cat\\Z` rappresenta l'unica stringa `cat` con il vincolo che sia a fine stringa (anche prima di `\\n`), e quindi occorre nella stringa `aaaa\\naaaacat\\n` oltre che nella stringa `aaaacat`.\n",
    "\n",
    "- **confine di parola** `\\b`\n",
    "\n",
    "Un *simbolo di parola* è un una lettera minuscola da `a` a `z`, oppure una lettera maiuscola da `A` a `Z`, oppure una cifra da `0` a `9` oppure il simbolo di *underscore* `_`.\n",
    "\n",
    "- *confine di parola*: elemento di dimensione nulla tra un simbolo di parola e un simbolo non di parola. \n",
    "\n",
    "*Es*: la *RE* `\\bis` rappresenta l'unica stringa `is` con il vincolo che prima di `i` non ci sia un simbolo di parola, e quindi occorre nella stringa `It is a cat` ma non in `This cat`.\n",
    "\n",
    "- **non confine di parola** `\\B` (che è la negazione di `\\b`)\n",
    "\n",
    "*Es*: la *RE* `\\Bis` rappresenta l'unica stringa `is` con il vincolo che prima di `i` ci sia un simbolo di parola, e quindi occorre nella stringa `This cat` ma non in `It is a cat`.\n",
    "\n",
    "***\n",
    "\n",
    "### Classe\n",
    "\n",
    "Una *classe* è un insieme di caratteri. Viene specificata tramite parentesi quadre `[]` in uno dei seguenti modi:\n",
    "\n",
    "- elencando ogni carattere appartenente alla classe \n",
    "\n",
    "*Es*: `[aeiou]` rappresenta la classe delle vocali minuscole. `[.;:,]` rappresenta la classe dei simboli di punteggiatura (in questo caso il simbolo `.` non è un *metasimbolo*). `[?\\b]` rappresenta la classe dei due simboli `?` e *backspace*.\n",
    "\n",
    "- specificando intervalli tramite il simbolo `-`.\n",
    "\n",
    "*Es*: `[a-z]` è la classe delle lettere minuscole. `[a-zA-Z]` è la classe di tutte le lettere. `[a-zA-Z0-9_]` è la classe di tutti i simboli di parola.\n",
    "\n",
    "**NOTA BENE**: `[a\\-z]` è la classe dei tre simboli `a`, `-` e `z`.\n",
    "\n",
    "Il simbolo `^` messo subito dopo la prima parentesi `[` permette di effettuare la **negazione** di ciò che viene specificato dopo.\n",
    "\n",
    "*Es*: `[^aeiou]` è la classe di tutto ciò che non è vocale minuscola. `[^a-zA-Z0-9_]` è la classe di tutti i simboli che non sono di parola.\n",
    "\n",
    "**NOTA BENE**: `[ae^iou]` è la classe delle vocali minuscole e del simbolo `^`.\n",
    "\n",
    "Una classe rappresenta ognuno dei simboli che le appartengono.\n",
    "\n",
    "*Es*: la *RE* `[A-Z]at` rappresenta ad esempio le stringhe `Cat`, `Rat` e `Bat` (e non solo) ma non le stringhe `cat`, `rat` e `bat` (che invece sono rappresentate ad esempio dalle *RE* `[a-z]at` oppure `[a-zA-Z]at`.\n",
    "\n",
    "Per alcune classi esiste un *metasimbolo* scorciatoia:\n",
    "\n",
    "- `\\d` equivalente alla classe `[0-9]` (cifra decimale)\n",
    "- `\\D` equivalente alla classe per`[^0-9]` (negazione di `\\d`)\n",
    "- `\\w` equivalente alla classe `[a-zA-Z0-9_]` (simbolo di parola)\n",
    "- `\\W` equivalente alla classe `[^a-zA-Z0-9_]` (negazione di `\\w`)\n",
    "- `\\h` equivalente alla classe `[0-9a-fA-F]` (cifra esadecimale)\n",
    "- `\\H` equivalente alla classe `[^0-9a-fA-F]` (negazione di `\\h`)\n",
    "- `\\s` equivalente alla classe `[␣\\t\\r\\n\\f]` (tutto ciò che è spazio)\n",
    "- `\\S` equivalente alla classe `[^␣\\t\\r\\n\\f]` (negazione di `\\s`)\n",
    "- `.` equivalente alla classe `[^\\n]` (qualsiasi carattere eccetto `\\n`)\n",
    "\n",
    "### Raggruppamento\n",
    "\n",
    "Un *raggruppamento* è una parte di *RE* specificato tra parentesi tonde `()` che può:\n",
    "\n",
    "- essere sottoposto a quantificazione\n",
    "- essere sottoposto a *backreference* esterno in operazioni di *matching*, *searching* o sostituzione\n",
    "- variare la precedenza delle alternative\n",
    "\n",
    "*Es*: la *RE* `a(bc)d` contiene il raggruppamento `(bc)`.\n",
    "\n",
    "***\n",
    "\n",
    "### Quantificatore\n",
    "\n",
    "Un *quantificatore* specifica il numero di volte con cui il carattere, la classe o il raggruppamento che lo precedono possono manifestarsi all'interno del stringa con cui la *RE* viene confrontata. Un *quantificatore* può specificare:\n",
    "\n",
    "- **zero o più ripetizioni** `*`\n",
    "\n",
    "*Es*: la *RE* `ca*t` rappresenta le stringhe `ct` e `cat`, `caat`, `caaat`, etc., cioé le stringhe composte da `c`, seguita da zero o più simboli `a`, seguiti da `t`. \n",
    "\n",
    "- **una o più ripetizioni** `+`\n",
    "\n",
    "*Es*: la *RE* `ca+t` rappresenta le stringhe `cat`, `caat`, `caaat`, etc., ma non `ct`, cioé le stringhe composte da `c`, seguita da uno o più simboli `a`, seguiti da `t`.\n",
    "\n",
    "*Es*: La *RE* `c[ab]+t` rappresenta tutte le stringhe composte da un simbolo `c` seguito da una o più ripetizioni del simbolo `a` oppure `b` seguite dal simbolo `t`. Quindi ad esempio la stringa `caabbbabababbat` appartiene al linguaggio della *RE*.\n",
    "\n",
    "*Es*: La *RE* `c(ab)+t` rappresenta le stringhe `cabt`, `cababt`, `cabababt`, etc., cioé le stringhe composte da `c`, seguita da una o più ripetizioni di `ab`, seguite da `t`.\n",
    "\n",
    "- **zero o una ripetizione** `?`\n",
    "\n",
    "*Es*: la *RE* `ca?t` rappresenta le sole stringhe `ct` e `cat`.\n",
    "\n",
    "- **da `m` a `n` ripetizioni** `{m,n}`\n",
    "\n",
    "*Es*: la *RE* `ca{2,5}t` rappresenta le sole stringhe `caat`, `caaat`, `caaaat` e `caaaaat`, composte da `c`, seguita da due, o tre, o quattro, o cinque simboli `a`, seguiti da `t`.\n",
    "\n",
    "- **almeno `m` ripetizioni** `{m,}`\n",
    "\n",
    "*Es*: la *RE* `ca{2,}t` rappresenta le stringhe `caat`, `caaat`, `caaaat`, `caaaaat`, etc., composte da `c`, seguita da almeno due `a`, seguiti da `t`.\n",
    "\n",
    "- **al più `n` ripetizioni** `{,n}`\n",
    "\n",
    "*Es*: la *RE* `ca{,5}t` rappresenta le sole stringhe `ct`, `cat`, `caat` `caaat`, `caaaat` e `caaaaat`, composte da `c`, seguita da al più cinque simboli `a`, seguiti da `t`.\n",
    "\n",
    "- **esattamente `m` ripetizioni** `{m}`\n",
    "\n",
    "*Es*: la *RE* `ca{5}t` rappresenta la sola stringa `caaaaat`, composte da `c`, seguita da cinque simboli `a`, seguiti da `t`.\n",
    "\n",
    "***\n",
    "\n",
    "### Alternativa\n",
    "\n",
    "Per specificare un'*alternativa* tra due parti della *RE* si usa il *metasimbolo* `|`.\n",
    "\n",
    "*Es*: la *RE* `ab|cd` rappresenta il linguaggio {`ab`, `cd`}.\n",
    "\n",
    "**NOTA BENE**: il simbolo `|` viene valutato per ultimo e quindi la *RE* `cane nero|bianco` corrisponde al linguaggio {`cane nero`, `bianco`} e non al linguaggio {`cane nero`, `cane bianco`} . La *RE* che corrisponde al linguaggio {`cane nero`, `cane bianco`} è invece `cane (nero|bianco)`.\n",
    "\n",
    "***\n",
    "\n",
    "### *Backreference* interno\n",
    "\n",
    "Il *backreference* interno crea la connessione tra diverse parti della *RE*.\n",
    "\n",
    "I *metasimboli* `\\\\1`, `\\\\2`, `\\\\3` etc., specificano una connessione con i raggruppamenti presenti nella *RE* da usare in operazioni di *matching*, *searching* o sostituzione. Precisamente `\\\\1` si riferisce al primo raggruppamento a partire da sinistra, `\\\\2` si riferisce al secondo, etc.\n",
    "\n",
    "*Es*: nella *RE* `(\\w+)\\s\\\\1` il *metasimbolo* `\\\\1` si riferisce all'unico raggruppamento presente."
   ]
  },
  {
   "cell_type": "markdown",
   "metadata": {},
   "source": [
    "## Due esempi di *searching*"
   ]
  },
  {
   "cell_type": "markdown",
   "metadata": {},
   "source": [
    "### Esempio 1"
   ]
  },
  {
   "cell_type": "markdown",
   "metadata": {},
   "source": [
    "Si consideri la stringa:"
   ]
  },
  {
   "cell_type": "code",
   "execution_count": 12,
   "metadata": {},
   "outputs": [],
   "source": [
    "stringa = '***hello world***'"
   ]
  },
  {
   "cell_type": "markdown",
   "metadata": {},
   "source": [
    "Si effettui il searching della *RE* `\\w+` che rappresenta tutte le stringhe composte da uno o più simboli di parola."
   ]
  },
  {
   "cell_type": "code",
   "execution_count": 13,
   "metadata": {},
   "outputs": [],
   "source": [
    "s = re.search('\\w+', stringa)"
   ]
  },
  {
   "cell_type": "markdown",
   "metadata": {},
   "source": [
    "La *searching occurrence* è:"
   ]
  },
  {
   "cell_type": "code",
   "execution_count": 14,
   "metadata": {},
   "outputs": [
    {
     "data": {
      "text/plain": [
       "'hello'"
      ]
     },
     "execution_count": 14,
     "metadata": {},
     "output_type": "execute_result"
    }
   ],
   "source": [
    "stringa[s.start():s.end()]"
   ]
  },
  {
   "cell_type": "markdown",
   "metadata": {},
   "source": [
    "Se si vuole fare in modo che la *searching occurrence* sia `hello world` si deve operare il *searching* con la *RE* `\\w+\\s\\w+` che rappresenta tutte le stringhe composte da uno o più simboli di parola seguiti da uno spazio e poi ancora da uno o più simboli di parola."
   ]
  },
  {
   "cell_type": "code",
   "execution_count": 15,
   "metadata": {},
   "outputs": [],
   "source": [
    "s = re.search('\\w+\\s\\w+', stringa)"
   ]
  },
  {
   "cell_type": "markdown",
   "metadata": {},
   "source": [
    "La *searching occurrence* è ora:"
   ]
  },
  {
   "cell_type": "code",
   "execution_count": 16,
   "metadata": {},
   "outputs": [
    {
     "data": {
      "text/plain": [
       "'hello world'"
      ]
     },
     "execution_count": 16,
     "metadata": {},
     "output_type": "execute_result"
    }
   ],
   "source": [
    "stringa[s.start():s.end()]"
   ]
  },
  {
   "cell_type": "markdown",
   "metadata": {},
   "source": [
    "Si cambi ora la stringa in `***hello     world***` mantenendo la stessa *RE*."
   ]
  },
  {
   "cell_type": "code",
   "execution_count": 17,
   "metadata": {},
   "outputs": [],
   "source": [
    "stringa = '***hello     world***'\n",
    "s = re.search('\\w+\\s\\w+', stringa)"
   ]
  },
  {
   "cell_type": "markdown",
   "metadata": {},
   "source": [
    "L'operazione di *searching* restituisce ora un oggetto nullo."
   ]
  },
  {
   "cell_type": "code",
   "execution_count": 18,
   "metadata": {},
   "outputs": [
    {
     "ename": "AttributeError",
     "evalue": "'NoneType' object has no attribute 'start'",
     "output_type": "error",
     "traceback": [
      "\u001b[0;31m---------------------------------------------------------------------------\u001b[0m",
      "\u001b[0;31mAttributeError\u001b[0m                            Traceback (most recent call last)",
      "\u001b[0;32m<ipython-input-18-2bc36a8634ed>\u001b[0m in \u001b[0;36m<module>\u001b[0;34m\u001b[0m\n\u001b[0;32m----> 1\u001b[0;31m \u001b[0mstringa\u001b[0m\u001b[0;34m[\u001b[0m\u001b[0ms\u001b[0m\u001b[0;34m.\u001b[0m\u001b[0mstart\u001b[0m\u001b[0;34m(\u001b[0m\u001b[0;34m)\u001b[0m\u001b[0;34m:\u001b[0m\u001b[0ms\u001b[0m\u001b[0;34m.\u001b[0m\u001b[0mend\u001b[0m\u001b[0;34m(\u001b[0m\u001b[0;34m)\u001b[0m\u001b[0;34m]\u001b[0m\u001b[0;34m\u001b[0m\u001b[0;34m\u001b[0m\u001b[0m\n\u001b[0m",
      "\u001b[0;31mAttributeError\u001b[0m: 'NoneType' object has no attribute 'start'"
     ]
    }
   ],
   "source": [
    "stringa[s.start():s.end()]"
   ]
  },
  {
   "cell_type": "markdown",
   "metadata": {},
   "source": [
    "La *RE* che permette di catturare `hello     world` (con un qualsiasi numero di spazi tra `hello` e `world`) è `\\w+\\s+\\w+`."
   ]
  },
  {
   "cell_type": "code",
   "execution_count": 29,
   "metadata": {},
   "outputs": [],
   "source": [
    "s = re.search('\\w+\\s+\\w+', stringa)"
   ]
  },
  {
   "cell_type": "markdown",
   "metadata": {},
   "source": [
    "La *searching occurrence* è infatti:"
   ]
  },
  {
   "cell_type": "code",
   "execution_count": 30,
   "metadata": {},
   "outputs": [
    {
     "data": {
      "text/plain": [
       "'hello     world'"
      ]
     },
     "execution_count": 30,
     "metadata": {},
     "output_type": "execute_result"
    }
   ],
   "source": [
    "stringa[s.start():s.end()]"
   ]
  },
  {
   "cell_type": "markdown",
   "metadata": {},
   "source": [
    "Si provi ora a usare la *RE* `.+` che rappresenta tutte le stringhe di uno o più caratteri qualsiasi (tranne il *newline* `\\n`)."
   ]
  },
  {
   "cell_type": "code",
   "execution_count": 31,
   "metadata": {},
   "outputs": [],
   "source": [
    "s = re.search('.+', stringa)"
   ]
  },
  {
   "cell_type": "markdown",
   "metadata": {},
   "source": [
    "La *searching occurrence* è ora l'intera stringa."
   ]
  },
  {
   "cell_type": "code",
   "execution_count": 32,
   "metadata": {},
   "outputs": [
    {
     "data": {
      "text/plain": [
       "'***hello     world***'"
      ]
     },
     "execution_count": 32,
     "metadata": {},
     "output_type": "execute_result"
    }
   ],
   "source": [
    "stringa[s.start():s.end()]"
   ]
  },
  {
   "cell_type": "markdown",
   "metadata": {},
   "source": [
    "A questo punto si inserisca nella stringa un carattere di *newline* `\\n` dopo `hello` e si operi il *searching* della *RE* `.+`."
   ]
  },
  {
   "cell_type": "code",
   "execution_count": 33,
   "metadata": {},
   "outputs": [],
   "source": [
    "stringa = '***hello\\n     world***'\n",
    "s = re.search('.+', stringa)"
   ]
  },
  {
   "cell_type": "markdown",
   "metadata": {},
   "source": [
    "La *searching occurrence* diventa:"
   ]
  },
  {
   "cell_type": "code",
   "execution_count": 34,
   "metadata": {},
   "outputs": [
    {
     "data": {
      "text/plain": [
       "'***hello'"
      ]
     },
     "execution_count": 34,
     "metadata": {},
     "output_type": "execute_result"
    }
   ],
   "source": [
    "stringa[s.start():s.end()]"
   ]
  },
  {
   "cell_type": "markdown",
   "metadata": {},
   "source": [
    "in quanto il simbolo `\\n` non appartiene alla classe rappresentata dal *metasimbolo* `.`."
   ]
  },
  {
   "cell_type": "markdown",
   "metadata": {},
   "source": [
    "### Esempio2"
   ]
  },
  {
   "cell_type": "markdown",
   "metadata": {},
   "source": [
    "Si consideri la stringa:"
   ]
  },
  {
   "cell_type": "code",
   "execution_count": 36,
   "metadata": {},
   "outputs": [],
   "source": [
    "stringa = 'bbbcaaaaaaaatcaaaat'"
   ]
  },
  {
   "cell_type": "markdown",
   "metadata": {},
   "source": [
    "Si effettui il *searching* della *RE* `(ca)+` che rappresenta tutte le stringhe composte da `ca` ripetuto almeno una volta."
   ]
  },
  {
   "cell_type": "code",
   "execution_count": 37,
   "metadata": {},
   "outputs": [],
   "source": [
    "s = re.search('(ca)+', stringa)"
   ]
  },
  {
   "cell_type": "markdown",
   "metadata": {},
   "source": [
    "La *searching occurrence* è:"
   ]
  },
  {
   "cell_type": "code",
   "execution_count": 38,
   "metadata": {},
   "outputs": [
    {
     "data": {
      "text/plain": [
       "'ca'"
      ]
     },
     "execution_count": 38,
     "metadata": {},
     "output_type": "execute_result"
    }
   ],
   "source": [
    "stringa[s.start():s.end()]"
   ]
  },
  {
   "cell_type": "markdown",
   "metadata": {},
   "source": [
    "che inizia in posizione:"
   ]
  },
  {
   "cell_type": "code",
   "execution_count": 39,
   "metadata": {},
   "outputs": [
    {
     "data": {
      "text/plain": [
       "3"
      ]
     },
     "execution_count": 39,
     "metadata": {},
     "output_type": "execute_result"
    }
   ],
   "source": [
    "s.start()"
   ]
  },
  {
   "cell_type": "markdown",
   "metadata": {},
   "source": [
    "e finisce in posizione:"
   ]
  },
  {
   "cell_type": "code",
   "execution_count": 40,
   "metadata": {},
   "outputs": [
    {
     "data": {
      "text/plain": [
       "5"
      ]
     },
     "execution_count": 40,
     "metadata": {},
     "output_type": "execute_result"
    }
   ],
   "source": [
    "s.end()"
   ]
  },
  {
   "cell_type": "markdown",
   "metadata": {},
   "source": [
    "Si tolgano ora le parentesi tonde `()` e si effettui il *searching* della *RE* `ca+` che rappresenta tutte le stringhe composte da `c` seguita da una o più `a`."
   ]
  },
  {
   "cell_type": "code",
   "execution_count": 41,
   "metadata": {},
   "outputs": [],
   "source": [
    "s = re.search('ca+', stringa)"
   ]
  },
  {
   "cell_type": "markdown",
   "metadata": {},
   "source": [
    "La *searching occurrence* è:"
   ]
  },
  {
   "cell_type": "code",
   "execution_count": 42,
   "metadata": {},
   "outputs": [
    {
     "data": {
      "text/plain": [
       "'caaaaaaaa'"
      ]
     },
     "execution_count": 42,
     "metadata": {},
     "output_type": "execute_result"
    }
   ],
   "source": [
    "stringa[s.start():s.end()]"
   ]
  },
  {
   "cell_type": "markdown",
   "metadata": {},
   "source": [
    "che inizia in posizione:"
   ]
  },
  {
   "cell_type": "code",
   "execution_count": 43,
   "metadata": {},
   "outputs": [
    {
     "data": {
      "text/plain": [
       "3"
      ]
     },
     "execution_count": 43,
     "metadata": {},
     "output_type": "execute_result"
    }
   ],
   "source": [
    "s.start()"
   ]
  },
  {
   "cell_type": "markdown",
   "metadata": {},
   "source": [
    "e finisce in posizione:"
   ]
  },
  {
   "cell_type": "code",
   "execution_count": 44,
   "metadata": {},
   "outputs": [
    {
     "data": {
      "text/plain": [
       "12"
      ]
     },
     "execution_count": 44,
     "metadata": {},
     "output_type": "execute_result"
    }
   ],
   "source": [
    "s.end()"
   ]
  },
  {
   "cell_type": "markdown",
   "metadata": {},
   "source": [
    "La *searching occurrence*, a causa del comportamento *greedy* dell'operazione, si estende il più a destra possibile. Per annullare questo comportamento e limitare al minimo la lunghezza, basta inserire il *metasimbolo* `?` subito dopo il *quantificatore* `+`."
   ]
  },
  {
   "cell_type": "code",
   "execution_count": 45,
   "metadata": {},
   "outputs": [],
   "source": [
    "s = re.search('ca+?', stringa)"
   ]
  },
  {
   "cell_type": "markdown",
   "metadata": {},
   "source": [
    "La *searching occurrence* è ora:"
   ]
  },
  {
   "cell_type": "code",
   "execution_count": 46,
   "metadata": {},
   "outputs": [
    {
     "data": {
      "text/plain": [
       "'ca'"
      ]
     },
     "execution_count": 46,
     "metadata": {},
     "output_type": "execute_result"
    }
   ],
   "source": [
    "stringa[s.start():s.end()]"
   ]
  },
  {
   "cell_type": "markdown",
   "metadata": {},
   "source": [
    "Si provi ora a sostituire il *quantificatore* `+` con `*` e a usare quindi la *RE* `ca*` che rappresenta tutte le stringhe composte da `c` seguita da zero o più `a`."
   ]
  },
  {
   "cell_type": "code",
   "execution_count": 47,
   "metadata": {},
   "outputs": [],
   "source": [
    "s = re.search('ca*', stringa)"
   ]
  },
  {
   "cell_type": "markdown",
   "metadata": {},
   "source": [
    "La *searching occurrence* è:"
   ]
  },
  {
   "cell_type": "code",
   "execution_count": 48,
   "metadata": {},
   "outputs": [
    {
     "data": {
      "text/plain": [
       "'caaaaaaaa'"
      ]
     },
     "execution_count": 48,
     "metadata": {},
     "output_type": "execute_result"
    }
   ],
   "source": [
    "stringa[s.start():s.end()]"
   ]
  },
  {
   "cell_type": "markdown",
   "metadata": {},
   "source": [
    "Si aggiunga un `?` subito dopo il quantificatore `*`."
   ]
  },
  {
   "cell_type": "code",
   "execution_count": 49,
   "metadata": {},
   "outputs": [],
   "source": [
    "s = re.search('ca*?', stringa)"
   ]
  },
  {
   "cell_type": "markdown",
   "metadata": {},
   "source": [
    "La *searching occurrence* diventa:"
   ]
  },
  {
   "cell_type": "code",
   "execution_count": 50,
   "metadata": {},
   "outputs": [
    {
     "data": {
      "text/plain": [
       "'c'"
      ]
     },
     "execution_count": 50,
     "metadata": {},
     "output_type": "execute_result"
    }
   ],
   "source": [
    "stringa[s.start():s.end()]"
   ]
  },
  {
   "cell_type": "markdown",
   "metadata": {},
   "source": [
    "## *Backreference* esterno\n",
    "\n",
    "Il meccanismo di *backreference* esterno permette di catturare parti della *searching*/*matching occurrence* e di usarle all'esterno dell'operazione di *matching*/*searching*.\n",
    "\n",
    "**Requisito**: la *RE* deve contenere i raggruppamenti delle parti da catturare. I raggruppamenti sono indicizzati da sinistra a destra a partire da 1 (0 è l’indice di *default* dell’intera *matching*/*searching occurrence*).\n",
    "\n",
    "il metodo **`group()`** degli oggetti di tipo `re.Match` restituisce la parte di *matching*/*searching occurrence* relativa al raggruppamento il cui indice viene specificato come argomento. Se `group()` viene invocato senza argomento, allora assume che l’indice sia 0 (quello di *default*) e quindi restituisce l'intera *matching*/*searching occurrence*.\n",
    "\n",
    "**NOTA BENE**: anche i metodi `start()` ed `end()` possono prendere come argomento l'indice di un raggruppamento, e in tale caso restituiscono lo start e l'end della parte catturata.\n",
    "\n",
    "La *RE* dell'esempio seguente contiene due raggruppamenti."
   ]
  },
  {
   "cell_type": "code",
   "execution_count": 51,
   "metadata": {},
   "outputs": [],
   "source": [
    "s = re.search('(\\w+)\\s+(\\w+)', 'gatto cane')"
   ]
  },
  {
   "cell_type": "markdown",
   "metadata": {},
   "source": [
    "La *searching occurrence* è:"
   ]
  },
  {
   "cell_type": "code",
   "execution_count": 52,
   "metadata": {},
   "outputs": [
    {
     "data": {
      "text/plain": [
       "'gatto cane'"
      ]
     },
     "execution_count": 52,
     "metadata": {},
     "output_type": "execute_result"
    }
   ],
   "source": [
    "s.group()"
   ]
  },
  {
   "cell_type": "markdown",
   "metadata": {},
   "source": [
    "La parte catturata dal primo raggruppamento è:"
   ]
  },
  {
   "cell_type": "code",
   "execution_count": 53,
   "metadata": {},
   "outputs": [
    {
     "data": {
      "text/plain": [
       "'gatto'"
      ]
     },
     "execution_count": 53,
     "metadata": {},
     "output_type": "execute_result"
    }
   ],
   "source": [
    "s.group(1)"
   ]
  },
  {
   "cell_type": "markdown",
   "metadata": {},
   "source": [
    "e inizia in posizione:"
   ]
  },
  {
   "cell_type": "code",
   "execution_count": 54,
   "metadata": {},
   "outputs": [
    {
     "data": {
      "text/plain": [
       "0"
      ]
     },
     "execution_count": 54,
     "metadata": {},
     "output_type": "execute_result"
    }
   ],
   "source": [
    "s.start(1)"
   ]
  },
  {
   "cell_type": "markdown",
   "metadata": {},
   "source": [
    "La parte catturata dal secondo raggruppamento è:"
   ]
  },
  {
   "cell_type": "code",
   "execution_count": 55,
   "metadata": {},
   "outputs": [
    {
     "data": {
      "text/plain": [
       "'cane'"
      ]
     },
     "execution_count": 55,
     "metadata": {},
     "output_type": "execute_result"
    }
   ],
   "source": [
    "s.group(2)"
   ]
  },
  {
   "cell_type": "markdown",
   "metadata": {},
   "source": [
    "e inizia in posizione:"
   ]
  },
  {
   "cell_type": "code",
   "execution_count": 56,
   "metadata": {},
   "outputs": [
    {
     "data": {
      "text/plain": [
       "6"
      ]
     },
     "execution_count": 56,
     "metadata": {},
     "output_type": "execute_result"
    }
   ],
   "source": [
    "s.start(2)"
   ]
  },
  {
   "cell_type": "markdown",
   "metadata": {},
   "source": [
    "## *Backreference* interno\n",
    "\n",
    "Il meccanismo di *backreference* interno permette di creare un riferimento interno ai raggruppamenti della *RE* tramite i metasimboli `\\\\1`, `\\\\2`, `\\\\3`etc., dove `\\\\i`si riferisce all'i-esimo raggruppamento a partire da sinistra."
   ]
  },
  {
   "cell_type": "markdown",
   "metadata": {},
   "source": [
    "Ad esempio la *RE* `(\\w+)\\s+\\\\1` rappresenta tutte le stringhe composte da uno o più caratteri di parola, seguiti da uno o più spazi, seguiti dalla stessa stringa che il primo raggruppamento cattura nell'operazione di *searching*. Quindi `(\\w+)\\s+\\\\1` occorre nella stringa `gatto gatto` ma non nella stringa `gatto cane`:"
   ]
  },
  {
   "cell_type": "code",
   "execution_count": 57,
   "metadata": {},
   "outputs": [],
   "source": [
    "s = re.search('(\\w+)\\s+\\\\1', 'gatto gatto')"
   ]
  },
  {
   "cell_type": "markdown",
   "metadata": {},
   "source": [
    "La *searching occurrence* è:"
   ]
  },
  {
   "cell_type": "code",
   "execution_count": 58,
   "metadata": {},
   "outputs": [
    {
     "data": {
      "text/plain": [
       "'gatto'"
      ]
     },
     "execution_count": 58,
     "metadata": {},
     "output_type": "execute_result"
    }
   ],
   "source": [
    "s.group(1)"
   ]
  },
  {
   "cell_type": "markdown",
   "metadata": {},
   "source": [
    "Se invece si usa la stringa `gatto cane`:"
   ]
  },
  {
   "cell_type": "code",
   "execution_count": 59,
   "metadata": {},
   "outputs": [],
   "source": [
    "s = re.search('(\\w+)\\s+\\\\1', 'gatto cane')"
   ]
  },
  {
   "cell_type": "code",
   "execution_count": 60,
   "metadata": {},
   "outputs": [
    {
     "ename": "AttributeError",
     "evalue": "'NoneType' object has no attribute 'group'",
     "output_type": "error",
     "traceback": [
      "\u001b[0;31m---------------------------------------------------------------------------\u001b[0m",
      "\u001b[0;31mAttributeError\u001b[0m                            Traceback (most recent call last)",
      "\u001b[0;32m<ipython-input-60-7add5676537c>\u001b[0m in \u001b[0;36m<module>\u001b[0;34m\u001b[0m\n\u001b[0;32m----> 1\u001b[0;31m \u001b[0ms\u001b[0m\u001b[0;34m.\u001b[0m\u001b[0mgroup\u001b[0m\u001b[0;34m(\u001b[0m\u001b[0;36m1\u001b[0m\u001b[0;34m)\u001b[0m\u001b[0;34m\u001b[0m\u001b[0;34m\u001b[0m\u001b[0m\n\u001b[0m",
      "\u001b[0;31mAttributeError\u001b[0m: 'NoneType' object has no attribute 'group'"
     ]
    }
   ],
   "source": [
    "s.group(1)"
   ]
  },
  {
   "cell_type": "markdown",
   "metadata": {},
   "source": [
    "Altro esempio:"
   ]
  },
  {
   "cell_type": "code",
   "execution_count": 61,
   "metadata": {},
   "outputs": [],
   "source": [
    "s = re.search('(\\w+)\\\\1', 'Mississippi')"
   ]
  },
  {
   "cell_type": "markdown",
   "metadata": {},
   "source": [
    "La *searching occurrence* è:"
   ]
  },
  {
   "cell_type": "code",
   "execution_count": 62,
   "metadata": {},
   "outputs": [
    {
     "data": {
      "text/plain": [
       "'ississ'"
      ]
     },
     "execution_count": 62,
     "metadata": {},
     "output_type": "execute_result"
    }
   ],
   "source": [
    "s.group()"
   ]
  },
  {
   "cell_type": "markdown",
   "metadata": {},
   "source": [
    "## La funzione `findall()` per trovare tutte le occorrenze"
   ]
  },
  {
   "cell_type": "markdown",
   "metadata": {},
   "source": [
    "La funzione:\n",
    "\n",
    "    findall(my_expr, my_string)\n",
    "\n",
    "del modulo `re` trova tutte le occorrenze non sovrapposte della *RE* `my_expr` nella stringa `my_string`, e restituisce:\n",
    "    \n",
    "- la lista delle occorrenze elencate da sinistra a destra, se nella *RE* non sono presenti raggruppamenti\n",
    "- la lista delle occorrenze catturate da un raggruppamento, se nella *RE* è presente un solo raggruppamento\n",
    "- la lista delle occorrenze catturate dai raggruppamenti, organizzati in tuple, se nella *RE* sono presenti più raggruppamenti (anche annidati)"
   ]
  },
  {
   "cell_type": "code",
   "execution_count": 63,
   "metadata": {},
   "outputs": [
    {
     "data": {
      "text/plain": [
       "['ab', 'cd', 'ef', 'gh']"
      ]
     },
     "execution_count": 63,
     "metadata": {},
     "output_type": "execute_result"
    }
   ],
   "source": [
    "re.findall('\\w\\w', 'abcdefgh')"
   ]
  },
  {
   "cell_type": "code",
   "execution_count": 64,
   "metadata": {},
   "outputs": [
    {
     "data": {
      "text/plain": [
       "['a', 'c', 'e', 'g']"
      ]
     },
     "execution_count": 64,
     "metadata": {},
     "output_type": "execute_result"
    }
   ],
   "source": [
    "re.findall('(\\w)\\w', 'abcdefgh')"
   ]
  },
  {
   "cell_type": "code",
   "execution_count": 65,
   "metadata": {},
   "outputs": [
    {
     "data": {
      "text/plain": [
       "[('a', 'b'), ('c', 'd'), ('e', 'f'), ('g', 'h')]"
      ]
     },
     "execution_count": 65,
     "metadata": {},
     "output_type": "execute_result"
    }
   ],
   "source": [
    "re.findall('(\\w)(\\w)', 'abcdefgh')"
   ]
  },
  {
   "cell_type": "code",
   "execution_count": 66,
   "metadata": {},
   "outputs": [
    {
     "data": {
      "text/plain": [
       "[('ab', 'a', 'b'), ('cd', 'c', 'd'), ('ef', 'e', 'f'), ('gh', 'g', 'h')]"
      ]
     },
     "execution_count": 66,
     "metadata": {},
     "output_type": "execute_result"
    }
   ],
   "source": [
    "re.findall('((\\w)(\\w))', 'abcdefgh')"
   ]
  },
  {
   "cell_type": "markdown",
   "metadata": {},
   "source": [
    "Il seguente esempio mostra come separare una stringa usando come delimitatore tutto ciò che non è simbolo di parola."
   ]
  },
  {
   "cell_type": "code",
   "execution_count": 67,
   "metadata": {},
   "outputs": [
    {
     "data": {
      "text/plain": [
       "['cat', 'dog', 'mouse', 'pig']"
      ]
     },
     "execution_count": 67,
     "metadata": {},
     "output_type": "execute_result"
    }
   ],
   "source": [
    "re.findall('\\w+', 'cat dog mouse pig')"
   ]
  },
  {
   "cell_type": "markdown",
   "metadata": {},
   "source": [
    "Il seguente esempio mostra come separare una stringa usando come delimitatore tutto ciò che non è simbolo di parola e ammettendo uno spazio tra due parole."
   ]
  },
  {
   "cell_type": "code",
   "execution_count": 68,
   "metadata": {},
   "outputs": [
    {
     "data": {
      "text/plain": [
       "['cat dog', 'mouse pig']"
      ]
     },
     "execution_count": 68,
     "metadata": {},
     "output_type": "execute_result"
    }
   ],
   "source": [
    "re.findall('\\w+\\s+\\w+', 'cat dog mouse pig')"
   ]
  },
  {
   "cell_type": "markdown",
   "metadata": {},
   "source": [
    "Si aggiungano ora dei raggruppamenti."
   ]
  },
  {
   "cell_type": "code",
   "execution_count": 69,
   "metadata": {},
   "outputs": [
    {
     "data": {
      "text/plain": [
       "['cat', 'mouse']"
      ]
     },
     "execution_count": 69,
     "metadata": {},
     "output_type": "execute_result"
    }
   ],
   "source": [
    "re.findall('(\\w+)\\s+\\w+', 'cat dog mouse pig')"
   ]
  },
  {
   "cell_type": "code",
   "execution_count": 70,
   "metadata": {},
   "outputs": [
    {
     "data": {
      "text/plain": [
       "[('cat', 'dog'), ('mouse', 'pig')]"
      ]
     },
     "execution_count": 70,
     "metadata": {},
     "output_type": "execute_result"
    }
   ],
   "source": [
    "re.findall('(\\w+)\\s+(\\w+)', 'cat dog mouse pig')"
   ]
  },
  {
   "cell_type": "markdown",
   "metadata": {},
   "source": [
    "## La funzione `sub()` per effettuare sostituzioni"
   ]
  },
  {
   "cell_type": "markdown",
   "metadata": {},
   "source": [
    "La funzione:\n",
    "\n",
    "    re.sub(my_expr, r_string, my_string)\n",
    "\n",
    "del modulo `re` restituisce la stringa ottenuta sostituendo con `r_string` tutte le occorrenze non sovrapposte di `my_expr` in `my_string`."
   ]
  },
  {
   "cell_type": "code",
   "execution_count": 71,
   "metadata": {},
   "outputs": [
    {
     "data": {
      "text/plain": [
       "'goose goose'"
      ]
     },
     "execution_count": 71,
     "metadata": {},
     "output_type": "execute_result"
    }
   ],
   "source": [
    "re.sub('\\w+\\s\\w+', 'goose', 'cat dog mouse pig')"
   ]
  }
 ],
 "metadata": {
  "kernelspec": {
   "display_name": "Python 3",
   "language": "python",
   "name": "python3"
  },
  "language_info": {
   "codemirror_mode": {
    "name": "ipython",
    "version": 3
   },
   "file_extension": ".py",
   "mimetype": "text/x-python",
   "name": "python",
   "nbconvert_exporter": "python",
   "pygments_lexer": "ipython3",
   "version": "3.7.1"
  }
 },
 "nbformat": 4,
 "nbformat_minor": 2
}
