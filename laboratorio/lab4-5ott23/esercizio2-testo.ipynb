{
 "cells": [
  {
   "cell_type": "markdown",
   "metadata": {},
   "source": [
    "# Esercizio2\n",
    "\n",
    "Considerare il file `movies.csv` estratto dal dataset KAGGLE scaricabile all'indirizzo https://www.kaggle.com/rounakbanik/the-movies-dataset#movies_metadata.csv.\n",
    "Tale file è in formato `csv` e contiene le informazioni su 1000 film in *record* di 7 campi separati da virgola.\n",
    "Il primo record è l'intestazione dei campi, che sono:\n",
    "1. id (indice progressivo)\n",
    "1. genres (letterale di una lista di dizionari)\n",
    "\n",
    "        [{'id': 16, 'name': 'Animation'}, {'id': 35, 'name': 'Comedy'}]\n",
    "1. original_title (stringa)\n",
    "1. popularity (decimale)\n",
    "1. tagline (stringa)\n",
    "1. original_language\n",
    "1. production_countries (letterale di una lista di dizionari)\n",
    "\n",
    "        [{'iso_3166_1': 'DE', 'name': 'Germany'}, {'iso_3166_1': 'US', 'name': 'United States of America'}]"
   ]
  },
  {
   "cell_type": "markdown",
   "metadata": {},
   "source": [
    "Si richiede di:\n",
    "- elencare i 10 paesi che hanno prodotto più film, ordinandoli per numero decrescente di film prodotti e specificando tale numero\n",
    "- trovare, per ogni genere presente nel dataset, il film più popolare (associato a tale genere)\n",
    "\n",
    "---"
   ]
  },
  {
   "cell_type": "markdown",
   "metadata": {},
   "source": [
    "## Come leggere un file csv?\n",
    "\n",
    "Il modulo `pandas` mette a disposizione la funzione `read_csv()` per leggere un file in formato `csv` (anche zippato):\n",
    "\n",
    "    import pandas as pd\n",
    "    df = pd.read_csv(input_file_name)\n",
    "\n",
    "L'oggetto restituito è di tipo `DataFrame`, cioé una tabella organizzata in righe (*record*) e colonne intestate."
   ]
  },
  {
   "cell_type": "code",
   "execution_count": null,
   "metadata": {},
   "outputs": [],
   "source": []
  },
  {
   "cell_type": "markdown",
   "metadata": {},
   "source": [
    "Per iterare lungo i record del *data frame* basta invocare il metodo `iterrows()` che restituisce un oggetto di tipo `generator` da usare in un ciclo `for` di scansione.\n",
    "\n",
    "    for (index, record) in df.iterrows():\n",
    "        do_something\n",
    "\n",
    "Ogni elemento fornito dell'iteratore è una tupla di due elementi:\n",
    "- `index`: indice progressivo del record (valore intero)\n",
    "- `record`: oggetto di tipo `Series` che contiene i campi del *record*\n",
    "\n",
    "L'accesso al campo relativo alla colonna con nome `column_name` del *record* `record` avviene usando la seguente sintassi:\n",
    "\n",
    "    record[column_name]\n",
    "    \n",
    "**NOTA BENE**: il valore restituito da `record[column_name]` rispetta il tipo della colonna `column_name` nel file csv in input. Ad esempio se il campo nel dataset csv è un valore decimale allora il valore restituito da `record[column_name]` sarà di tipo `float`."
   ]
  },
  {
   "cell_type": "code",
   "execution_count": null,
   "metadata": {},
   "outputs": [],
   "source": []
  }
 ],
 "metadata": {
  "kernelspec": {
   "display_name": "Python 3 (ipykernel)",
   "language": "python",
   "name": "python3"
  },
  "language_info": {
   "codemirror_mode": {
    "name": "ipython",
    "version": 3
   },
   "file_extension": ".py",
   "mimetype": "text/x-python",
   "name": "python",
   "nbconvert_exporter": "python",
   "pygments_lexer": "ipython3",
   "version": "3.9.15"
  }
 },
 "nbformat": 4,
 "nbformat_minor": 2
}
