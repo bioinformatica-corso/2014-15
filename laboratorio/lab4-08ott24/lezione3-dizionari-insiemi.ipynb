{
 "cells": [
  {
   "cell_type": "markdown",
   "metadata": {},
   "source": [
    "# Python - Dizionari e insiemi"
   ]
  },
  {
   "cell_type": "markdown",
   "metadata": {},
   "source": [
    "## Definizione di dizionario\n",
    "\n",
    "**Dizionario**: collezione di valori indicizzati tramite chiave\n",
    "\n",
    "- classe: `dict`\n",
    "- oggetto ___mutabile___"
   ]
  },
  {
   "cell_type": "markdown",
   "metadata": {},
   "source": [
    "**COSTRUZIONE TRAMITE LETTERALE**"
   ]
  },
  {
   "cell_type": "code",
   "execution_count": null,
   "metadata": {},
   "outputs": [],
   "source": []
  },
  {
   "cell_type": "markdown",
   "metadata": {},
   "source": [
    "**COSTRUZIONE CON LA FUNZIONE `dict()`**"
   ]
  },
  {
   "cell_type": "code",
   "execution_count": null,
   "metadata": {},
   "outputs": [],
   "source": []
  },
  {
   "cell_type": "markdown",
   "metadata": {},
   "source": [
    "## Dimensione di un dizionario"
   ]
  },
  {
   "cell_type": "code",
   "execution_count": null,
   "metadata": {},
   "outputs": [],
   "source": []
  },
  {
   "cell_type": "markdown",
   "metadata": {},
   "source": [
    "## Accesso ai *valori* di un dizionario"
   ]
  },
  {
   "cell_type": "markdown",
   "metadata": {},
   "source": [
    "\n",
    "    dictionary[key]\n",
    "    \n",
    "restituisce il *valore* del dizionario `dictionary` che ha *chiave* `key`."
   ]
  },
  {
   "cell_type": "code",
   "execution_count": null,
   "metadata": {},
   "outputs": [],
   "source": []
  },
  {
   "cell_type": "markdown",
   "metadata": {},
   "source": [
    "I metodi `get(key, default_value)` e `setdefault(key, default_value)` restituiscono il valore corrispondente a `key` oppure restituiscono `default_value` se la chiave non esiste.\n",
    "\n",
    "`setdefault(key, default_value)` aggiunge al dizionario la coppia `(key, default_value)`."
   ]
  },
  {
   "cell_type": "code",
   "execution_count": null,
   "metadata": {},
   "outputs": [],
   "source": []
  },
  {
   "cell_type": "markdown",
   "metadata": {},
   "source": [
    "Il metodo `pop(key, [default_value])` restituisce e rimuove dal dizionario invocante il *valore* associato alla *chiave* `key` passata come argomento. Se la chiave non è presente, restituisce `default_value` (se è specificato)."
   ]
  },
  {
   "cell_type": "code",
   "execution_count": null,
   "metadata": {},
   "outputs": [],
   "source": []
  },
  {
   "cell_type": "markdown",
   "metadata": {},
   "source": [
    "## Aggiornamento di valori di un dizionario"
   ]
  },
  {
   "cell_type": "markdown",
   "metadata": {},
   "source": [
    "\n",
    "    dictionary[key] = new_value\n",
    "    \n",
    "aggiorna il *valore* del dizionario `dictionary`, che corrisponde alla *chiave* `key`, con il nuovo valore `new_value`."
   ]
  },
  {
   "cell_type": "code",
   "execution_count": null,
   "metadata": {},
   "outputs": [],
   "source": []
  },
  {
   "cell_type": "markdown",
   "metadata": {},
   "source": [
    "#### Aggiornamento di un dizionario con il metodo `update()`"
   ]
  },
  {
   "cell_type": "code",
   "execution_count": null,
   "metadata": {},
   "outputs": [],
   "source": []
  },
  {
   "cell_type": "markdown",
   "metadata": {},
   "source": [
    "## Cancellazione di valori di un dizionario"
   ]
  },
  {
   "cell_type": "markdown",
   "metadata": {},
   "source": [
    "\n",
    "    del dictionary[key]\n",
    "\n",
    "rimuove dal dizionario `dictionary` il *valore* con *chiave* `key`."
   ]
  },
  {
   "cell_type": "code",
   "execution_count": null,
   "metadata": {},
   "outputs": [],
   "source": []
  },
  {
   "cell_type": "markdown",
   "metadata": {},
   "source": [
    "## Cancellazione di tutti gli elementi"
   ]
  },
  {
   "cell_type": "code",
   "execution_count": null,
   "metadata": {},
   "outputs": [],
   "source": []
  },
  {
   "cell_type": "markdown",
   "metadata": {},
   "source": [
    "## Iterazione sui valori di un dizionario"
   ]
  },
  {
   "cell_type": "markdown",
   "metadata": {},
   "source": [
    "### Operatore `in`"
   ]
  },
  {
   "cell_type": "markdown",
   "metadata": {},
   "source": [
    "\n",
    "    key in dictionary\n",
    "    \n",
    "restituisce il valore `True` se la *chiave* `key` è presente nel dizionario `dictionary`."
   ]
  },
  {
   "cell_type": "code",
   "execution_count": null,
   "metadata": {},
   "outputs": [],
   "source": []
  },
  {
   "cell_type": "markdown",
   "metadata": {},
   "source": [
    "### Iterazione con operatore `in`"
   ]
  },
  {
   "cell_type": "markdown",
   "metadata": {},
   "source": [
    "\n",
    "    for key in dictionary:\n",
    "        do_something\n"
   ]
  },
  {
   "cell_type": "code",
   "execution_count": null,
   "metadata": {},
   "outputs": [],
   "source": []
  },
  {
   "cell_type": "markdown",
   "metadata": {},
   "source": [
    "## Altri metodi dei dizionari"
   ]
  },
  {
   "cell_type": "markdown",
   "metadata": {},
   "source": [
    "- il metodo `values()` restituisce la lista dei *valori* del dizionario invocante (oggetto di tipo `dict_values`)."
   ]
  },
  {
   "cell_type": "code",
   "execution_count": null,
   "metadata": {},
   "outputs": [],
   "source": []
  },
  {
   "cell_type": "markdown",
   "metadata": {},
   "source": [
    "- il metodo `keys()` restituisce la lista delle *chiavi* del dizionario invocante (oggetto di tipo `dict_keys`)."
   ]
  },
  {
   "cell_type": "code",
   "execution_count": null,
   "metadata": {},
   "outputs": [],
   "source": []
  },
  {
   "cell_type": "markdown",
   "metadata": {},
   "source": [
    "- il metodo `items()` restituisce la lista delle tuple chiave-valore del dizionario invocante (oggetto di tipo `dict_items`)."
   ]
  },
  {
   "cell_type": "code",
   "execution_count": null,
   "metadata": {},
   "outputs": [],
   "source": []
  },
  {
   "cell_type": "markdown",
   "metadata": {},
   "source": [
    "- il metodo `popitem()` restituisce e rimuove l'ultima coppia inserita."
   ]
  },
  {
   "cell_type": "code",
   "execution_count": null,
   "metadata": {},
   "outputs": [],
   "source": []
  },
  {
   "cell_type": "markdown",
   "metadata": {},
   "source": [
    "## Un dizionario particolare: il contatore"
   ]
  },
  {
   "cell_type": "markdown",
   "metadata": {},
   "source": [
    "Un contatore è un oggetto della classe `Counter` (del modulo `collections`), costruito su una *sequenza*.\n",
    "\n",
    "    Counter(sequenza)\n",
    "\n",
    "che è fondamentalmente un dizionario in cui le *chiavi* sono gli elementi distinti della *sequenza* e i *valori* esprimono il numero delle loro occorrenze nella *sequenza*."
   ]
  },
  {
   "cell_type": "code",
   "execution_count": null,
   "metadata": {},
   "outputs": [],
   "source": []
  },
  {
   "cell_type": "markdown",
   "metadata": {},
   "source": [
    "Creare il contatore per la stringa `abbcdaddb`:"
   ]
  },
  {
   "cell_type": "code",
   "execution_count": null,
   "metadata": {},
   "outputs": [],
   "source": []
  },
  {
   "cell_type": "markdown",
   "metadata": {},
   "source": [
    "Contatore per la lista `[100,100,500,200,200,500,600,700,700]`:"
   ]
  },
  {
   "cell_type": "code",
   "execution_count": null,
   "metadata": {},
   "outputs": [],
   "source": []
  },
  {
   "cell_type": "markdown",
   "metadata": {},
   "source": [
    "Contatore per la lista `[[1,2], [1,2], [2,3], [2,3], [3,4]]`:"
   ]
  },
  {
   "cell_type": "code",
   "execution_count": null,
   "metadata": {},
   "outputs": [],
   "source": []
  },
  {
   "cell_type": "markdown",
   "metadata": {},
   "source": [
    "### Il metodo `most_common()`"
   ]
  },
  {
   "cell_type": "markdown",
   "metadata": {},
   "source": [
    "Il metodo `most_common()` restituisce una lista di tuple di dimensione due, contenenti le coppie *(chiave,  valore)* ordinate per conteggio decrescente."
   ]
  },
  {
   "cell_type": "code",
   "execution_count": null,
   "metadata": {},
   "outputs": [],
   "source": [
    "count_char = Counter('aabbbcdaddddddbaa')"
   ]
  },
  {
   "cell_type": "code",
   "execution_count": null,
   "metadata": {},
   "outputs": [],
   "source": []
  },
  {
   "cell_type": "markdown",
   "metadata": {},
   "source": [
    "---\n",
    "\n",
    "## Definizione di insieme\n",
    "\n",
    "**Insieme**: collezione di valori distinti\n",
    "\n",
    "- Classe: `set`\n",
    "- oggetto ***mutabile***"
   ]
  },
  {
   "cell_type": "markdown",
   "metadata": {},
   "source": [
    "## Costruzione di un insieme tramite la funzione `set()`"
   ]
  },
  {
   "cell_type": "code",
   "execution_count": null,
   "metadata": {},
   "outputs": [],
   "source": []
  },
  {
   "cell_type": "markdown",
   "metadata": {},
   "source": [
    "Insieme dei caratteri della stringa `aabbbcdaddddddbaa`:"
   ]
  },
  {
   "cell_type": "code",
   "execution_count": null,
   "metadata": {},
   "outputs": [],
   "source": []
  },
  {
   "cell_type": "markdown",
   "metadata": {},
   "source": [
    "Insieme dei valori della lista `[1,1,1,2,2,5,6,7,1]`:"
   ]
  },
  {
   "cell_type": "code",
   "execution_count": null,
   "metadata": {},
   "outputs": [],
   "source": []
  },
  {
   "cell_type": "markdown",
   "metadata": {},
   "source": [
    "Insieme di distinti della lista `[True, True, 1, 2, 1, 2, 'a', 'b', 'a']`:"
   ]
  },
  {
   "cell_type": "code",
   "execution_count": null,
   "metadata": {},
   "outputs": [],
   "source": []
  },
  {
   "cell_type": "markdown",
   "metadata": {},
   "source": [
    "## Dimensione di un insieme"
   ]
  },
  {
   "cell_type": "code",
   "execution_count": null,
   "metadata": {},
   "outputs": [],
   "source": []
  },
  {
   "cell_type": "markdown",
   "metadata": {},
   "source": [
    "## Iterazione sugli elementi di un insieme"
   ]
  },
  {
   "cell_type": "markdown",
   "metadata": {},
   "source": [
    "### Operatore `in`"
   ]
  },
  {
   "cell_type": "markdown",
   "metadata": {},
   "source": [
    "\n",
    "    value in my_set\n",
    "    \n",
    "restituisce il valore `True` se il valore `value` è presente nell'insieme `my_set`."
   ]
  },
  {
   "cell_type": "markdown",
   "metadata": {},
   "source": [
    "### Iterazione sui valori con l'operatore `in`"
   ]
  },
  {
   "cell_type": "markdown",
   "metadata": {},
   "source": [
    "**Sintassi di iterazione di un insieme**:\n",
    "\n",
    "    for value in my_set:\n",
    "        do_something"
   ]
  },
  {
   "cell_type": "code",
   "execution_count": 2,
   "metadata": {},
   "outputs": [],
   "source": [
    "insieme = set('aabbbcdaddddddbaa')\n"
   ]
  },
  {
   "cell_type": "markdown",
   "metadata": {},
   "source": [
    "## Operatori di confronto tra insiemi"
   ]
  },
  {
   "cell_type": "markdown",
   "metadata": {},
   "source": [
    "\n",
    "    my_set1 == my_set2\n",
    "    my_set1 < my_set2\n",
    "    my_set1 > my_set2\n",
    "   \n",
    "restituiscono `True` se (rispettivamente):\n",
    "- l'insieme `my_set1` coincide con `my_set2`\n",
    "- l'insieme `my_set1` è un sottoinsieme di `my_set2`\n",
    "- l'insieme `my_set1` è un superinsieme di `my_set2`"
   ]
  },
  {
   "cell_type": "code",
   "execution_count": 5,
   "metadata": {},
   "outputs": [],
   "source": [
    "insieme1 = set('aabbbdcadbaa')\n",
    "insieme2 = set('aabbbcabaaaaaacbbb')\n"
   ]
  },
  {
   "cell_type": "code",
   "execution_count": null,
   "metadata": {},
   "outputs": [],
   "source": []
  },
  {
   "cell_type": "markdown",
   "metadata": {},
   "source": [
    "## Metodi per le operazioni su insiemi"
   ]
  },
  {
   "cell_type": "markdown",
   "metadata": {},
   "source": [
    "- il metodo `add()` aggiunge all'insieme invocante il valore passato come argomento"
   ]
  },
  {
   "cell_type": "code",
   "execution_count": null,
   "metadata": {},
   "outputs": [],
   "source": []
  },
  {
   "cell_type": "markdown",
   "metadata": {},
   "source": [
    "- i metodi `discard()/remove()` rimuovono dall'insieme invocante il valore passato come argomento"
   ]
  },
  {
   "cell_type": "code",
   "execution_count": null,
   "metadata": {},
   "outputs": [],
   "source": []
  },
  {
   "cell_type": "markdown",
   "metadata": {},
   "source": [
    "- il metodo `union()` restituisce l'unione tra l'insieme invocante e l'insieme passato come argomento"
   ]
  },
  {
   "cell_type": "code",
   "execution_count": 17,
   "metadata": {},
   "outputs": [],
   "source": [
    "insieme1 = set('abbbaaccccaaaddddeee')\n",
    "insieme2 = set('0156787733abbabbbcccc')\n"
   ]
  },
  {
   "cell_type": "markdown",
   "metadata": {},
   "source": [
    "- il metodo `intersection()` restituisce l'intersezione tra l'insieme invocante e l'insieme passato come argomento"
   ]
  },
  {
   "cell_type": "code",
   "execution_count": null,
   "metadata": {},
   "outputs": [],
   "source": []
  },
  {
   "cell_type": "markdown",
   "metadata": {},
   "source": [
    "- il metodo `difference()` restituisce la differenza tra l'insieme invocante e l'insieme passato come argomento."
   ]
  },
  {
   "cell_type": "code",
   "execution_count": null,
   "metadata": {},
   "outputs": [],
   "source": []
  },
  {
   "cell_type": "markdown",
   "metadata": {},
   "source": [
    "- il metodo `clear()` svuota l'insieme invocante"
   ]
  },
  {
   "cell_type": "code",
   "execution_count": null,
   "metadata": {},
   "outputs": [],
   "source": []
  }
 ],
 "metadata": {
  "kernelspec": {
   "display_name": "Python 3 (ipykernel)",
   "language": "python",
   "name": "python3"
  },
  "language_info": {
   "codemirror_mode": {
    "name": "ipython",
    "version": 3
   },
   "file_extension": ".py",
   "mimetype": "text/x-python",
   "name": "python",
   "nbconvert_exporter": "python",
   "pygments_lexer": "ipython3",
   "version": "3.9.15"
  }
 },
 "nbformat": 4,
 "nbformat_minor": 2
}
