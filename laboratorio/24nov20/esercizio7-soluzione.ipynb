{
 "cells": [
  {
   "cell_type": "markdown",
   "metadata": {},
   "source": [
    "# Esercizio 7\n",
    "\n",
    "Filtrare da un file in formato `FASTQ` i reads che hanno una percentuale P di basi con qualità almeno Q. Per ognuno di essi effettuare il *trimming* (ottenendo la più lungha sottostringa in cui tutte le basi hanno qualità almeno Q) e produrlo in output (in formato `FASTQ`) solo se la porzione rimasta è lunga almeno L basi.\n",
    "\n",
    "***\n",
    "\n",
    "Parametri in input:\n",
    "\n",
    "- nome del file in formato `FASTQ`\n",
    "- soglia minima di qualità Q\n",
    "- percentuale minima P (numero compreso tra 0 e 1) delle basi con qualità almeno Q\n",
    "- lunghezza minima L per tenere un read dopo il *trimming*\n",
    "\n",
    "***\n",
    "\n",
    "Requisiti:\n",
    "- deve essere definita la funzione `ascii_to_quality()` che prende come argomento un carattere ASCII e restituisce il corrispondente Phred Value q.\n",
    "- deve essere definita la funzione `get_quality_percentage()` che prende in input una stringa di qualità (cioé una stringa di caratteri ASCII che codificano Phred Values) e una soglia minima, e restituisce la percentuale di caratteri che codificano una qualità pari ad almeno la soglia minima.\n",
    "- deve essere definita la funzione `get_trimming_interval()` che prende in input una stringa di qualità e una soglia minima, e restituisce il più lungo intervallo di posizioni contenente solo caratteri che codificano qualità almeno pari alla soglia minima.\n",
    "- deve essere definita la funzione `get_trimmed_read()` che prende in input una soglia minima di qualità e un read in  formato `FASTQ` inteso come lista dei suoi quattro *record* `FASTQ`, ed effettua il *trimming*, cioé trova la più lunga sottostringa del read le cui basi hanno una qualità pari ad almeno la soglia passata come argomento. La funzione deve restituire la lista dei quattro *record* `FASTQ` del *trimmed* read (NB: anche la stringa di qualità deve quindi essere opportunamente sottoposta a *trimming* prima di produrre in output il read). Tale funzione dovrà invocare la precedente `get_trimming_interval()`\n",
    "\n",
    "\n",
    "**Esempio:** Q=58.\n",
    "\n",
    "Read prima del *trimming*:\n",
    "\n",
    "        @HWUSI-EAS522:8:5:662:692#0/1\n",
    "        TATGGAGGCCCAACTTCTTGTATTCACAGGTTCTGC\n",
    "        +HWUSI-EAS522:8:5:662:692#0/1\n",
    "        aaaa`aa`aa`]__`aa`_U[_a`^\\\\UTWZ`X^QX\n",
    "        \n",
    "Read dopo il *trimming*:\n",
    "\n",
    "        @HWUSI-EAS522:8:5:662:692#0/1\n",
    "        TATGGAGGCCCAACTTCTT\n",
    "        +HWUSI-EAS522:8:5:662:692#0/1,\n",
    "        aaaa`aa`aa`]__`aa`_\n",
    "        \n",
    "in cui viene tenuto un prefisso.\n",
    "\n",
    "***\n",
    "\n",
    "Variabili di output:\n",
    "- `output_list`, lista dei reads prodotti in formato `FASTQ`. Ogni elemento (read) della lista è una lista annidata contenente i quattro *record* del formato `FASTQ`."
   ]
  },
  {
   "cell_type": "markdown",
   "metadata": {},
   "source": [
    "***"
   ]
  },
  {
   "cell_type": "markdown",
   "metadata": {},
   "source": [
    "## Soluzione"
   ]
  },
  {
   "cell_type": "markdown",
   "metadata": {},
   "source": [
    "### Parametri in input"
   ]
  },
  {
   "cell_type": "code",
   "execution_count": 1,
   "metadata": {},
   "outputs": [],
   "source": [
    "fastq_file_name = './input.fq'"
   ]
  },
  {
   "cell_type": "markdown",
   "metadata": {},
   "source": [
    "Soglia minima di qualità Q:"
   ]
  },
  {
   "cell_type": "code",
   "execution_count": 2,
   "metadata": {},
   "outputs": [],
   "source": [
    "quality_threshold = 58"
   ]
  },
  {
   "cell_type": "markdown",
   "metadata": {},
   "source": [
    "Minima percentuale P di basi aventi qualità minima Q:"
   ]
  },
  {
   "cell_type": "code",
   "execution_count": 3,
   "metadata": {},
   "outputs": [],
   "source": [
    "min_percentage = 0.7"
   ]
  },
  {
   "cell_type": "markdown",
   "metadata": {},
   "source": [
    "Lunghezza minima L"
   ]
  },
  {
   "cell_type": "code",
   "execution_count": 4,
   "metadata": {},
   "outputs": [],
   "source": [
    "min_length = 20"
   ]
  },
  {
   "cell_type": "markdown",
   "metadata": {},
   "source": [
    "### Definizione della funzione `ascii_to_quality()`\n",
    "\n",
    "L'argomento è un carattere ASCII che codifica un Phred Value. La funzione restituisce la qualità codificata dal carattere."
   ]
  },
  {
   "cell_type": "code",
   "execution_count": 5,
   "metadata": {},
   "outputs": [],
   "source": [
    "def ascii_to_quality(c):\n",
    "    return ord(c)-33"
   ]
  },
  {
   "cell_type": "markdown",
   "metadata": {},
   "source": [
    "### Definizione della funzione `get_quality_percentage()`\n",
    "\n",
    "Il primo argomento della funzione è una stringa di qualità, mentre il secondo argomento è una soglia di qualità. La funzione restituisce la percentuale (numero compreso tra 0 e 1) di caratteri che codificando una qualità almeno pari alla soglia."
   ]
  },
  {
   "cell_type": "code",
   "execution_count": 6,
   "metadata": {},
   "outputs": [],
   "source": [
    "def get_quality_percentage(quality_string, quality_threshold):\n",
    "    return len([c for c in quality_string if ascii_to_quality(c) >= quality_threshold])/len(quality_string) "
   ]
  },
  {
   "cell_type": "markdown",
   "metadata": {},
   "source": [
    "**NOTA BENE**: supporre che il carattere `\\n` sia già stato rimosso dalla fine della stringa `quality_string` passata come argomento."
   ]
  },
  {
   "cell_type": "markdown",
   "metadata": {},
   "source": [
    "### Definizione della funzione `get_trimming_interval()`\n",
    "\n",
    "Il primo argomento della funzione è la stringa di qualità, mentre il secondo argomento è soglia di qualità. La funzione restituisce le posizioni di inizio e fine del *trimming interval* sulla stringa di qualità, cioé della più lunga sottostringa composta solo di caratteri che codificano una qualità almeno pari alla soglia."
   ]
  },
  {
   "cell_type": "code",
   "execution_count": 7,
   "metadata": {},
   "outputs": [],
   "source": [
    "def get_trimming_interval(quality_string, quality_threshold):\n",
    "    bool_list = [(ascii_to_quality(c) >= quality_threshold) for c in quality_string]\n",
    "    \n",
    "    start_list = []\n",
    "    for i in range(len(bool_list))[1:]:\n",
    "        if bool_list[i] == True and bool_list[i-1] == False:\n",
    "            start_list.append(i)\n",
    "        \n",
    "    if bool_list[0] == True:\n",
    "        start_list[:0] = [0]\n",
    "        \n",
    "    start_list[:0] = [1]\n",
    "    \n",
    "    end_list = []\n",
    "    for j in range(len(bool_list))[:-1]:\n",
    "        if bool_list[j] == True and bool_list[j+1] == False:\n",
    "            end_list.append(j)\n",
    "        \n",
    "    if bool_list[-1] == True:\n",
    "        end_list[len(bool_list):] = [len(bool_list)-1]\n",
    "        \n",
    "    end_list[:0] = [0]\n",
    "    \n",
    "    interval_lengths = [end_list[i]-start_list[i]+1 for i in range(len(start_list))]\n",
    "    \n",
    "    trimming_index = interval_lengths.index(max(interval_lengths))\n",
    "    interval_start = start_list[trimming_index]\n",
    "    interval_end = end_list[trimming_index]\n",
    "    \n",
    "    return [interval_start, interval_end+1]"
   ]
  },
  {
   "cell_type": "markdown",
   "metadata": {},
   "source": [
    "**NOTA BENE**: supporre che il carattere `\\n` sia già stato rimosso dalla fine della stringa `quality_string` passata come argomento."
   ]
  },
  {
   "cell_type": "markdown",
   "metadata": {},
   "source": [
    "#### Spiegazione della funzione `get_trimming_interval()`\n",
    "\n",
    "Si consideri la seguente stringa di qualità (primo argomento della funzione):"
   ]
  },
  {
   "cell_type": "code",
   "execution_count": 8,
   "metadata": {},
   "outputs": [],
   "source": [
    "quality_string = 'aaaa`aa`aa`]__`aa`_U[_a`^\\\\\\\\UTWZ`X^QX'"
   ]
  },
  {
   "cell_type": "markdown",
   "metadata": {},
   "source": [
    "La soglia di qualità minima (secondo argomento della funzione) è quella scelta sopra."
   ]
  },
  {
   "cell_type": "code",
   "execution_count": 9,
   "metadata": {},
   "outputs": [
    {
     "data": {
      "text/plain": [
       "58"
      ]
     },
     "execution_count": 9,
     "metadata": {},
     "output_type": "execute_result"
    }
   ],
   "source": [
    "quality_threshold"
   ]
  },
  {
   "cell_type": "markdown",
   "metadata": {},
   "source": [
    "Si costruisca la lista `bool_list` di valori di tipo `bool` lunga come la stringa di qualità, tale per cui il valore i-esimo è `True` se il carattere i-esimo della stringa di qualità codifica un Phred Value almeno pari alla soglia `quality_threshold`."
   ]
  },
  {
   "cell_type": "code",
   "execution_count": 10,
   "metadata": {},
   "outputs": [],
   "source": [
    "bool_list = [(ascii_to_quality(c) >= quality_threshold) for c in quality_string]"
   ]
  },
  {
   "cell_type": "code",
   "execution_count": 11,
   "metadata": {},
   "outputs": [
    {
     "data": {
      "text/plain": [
       "[True,\n",
       " True,\n",
       " True,\n",
       " True,\n",
       " True,\n",
       " True,\n",
       " True,\n",
       " True,\n",
       " True,\n",
       " True,\n",
       " True,\n",
       " True,\n",
       " True,\n",
       " True,\n",
       " True,\n",
       " True,\n",
       " True,\n",
       " True,\n",
       " True,\n",
       " False,\n",
       " True,\n",
       " True,\n",
       " True,\n",
       " True,\n",
       " True,\n",
       " True,\n",
       " True,\n",
       " False,\n",
       " False,\n",
       " False,\n",
       " False,\n",
       " True,\n",
       " False,\n",
       " True,\n",
       " False,\n",
       " False]"
      ]
     },
     "execution_count": 11,
     "metadata": {},
     "output_type": "execute_result"
    }
   ],
   "source": [
    "bool_list"
   ]
  },
  {
   "cell_type": "markdown",
   "metadata": {},
   "source": [
    "Basta a questo punto trovare e restituire il più lungo intervallo di posizioni nella lista `bool_list` che contenga solo valori `True`.\n",
    "    \n",
    "Costruire quindi la lista `start_list` di tutte le posizioni di inizio di un intervallo di valori `True` lungo `bool_list`, elencate da sinistra a destra lungo `bool_list`.\n",
    "\n",
    "Una posizione `i>0` è di inizio di un intervallo di valori `True` (anche di ampiezza 1) se `bool_list[i]` è uguale a `True` e `bool_list[i-1]` è uguale a `False`.\n",
    "\n",
    "In particolare, la posizione `i=0` è una posizione di inizio di un intervallo di valori `True` se `bool_list[i]` è uguale a `True`."
   ]
  },
  {
   "cell_type": "code",
   "execution_count": 12,
   "metadata": {},
   "outputs": [],
   "source": [
    "start_list = []\n",
    "for i in range(len(bool_list))[1:]:\n",
    "    if bool_list[i] == True and bool_list[i-1] == False:\n",
    "        start_list.append(i)\n",
    "        \n",
    "if bool_list[0] == True:\n",
    "    start_list[:0] = [0]"
   ]
  },
  {
   "cell_type": "code",
   "execution_count": 13,
   "metadata": {},
   "outputs": [
    {
     "data": {
      "text/plain": [
       "[0, 20, 31, 33]"
      ]
     },
     "execution_count": 13,
     "metadata": {},
     "output_type": "execute_result"
    }
   ],
   "source": [
    "start_list"
   ]
  },
  {
   "cell_type": "markdown",
   "metadata": {},
   "source": [
    "Aggiungere all'inizio di `start_list` una *fake position* pari a 1, per gestire il caso in cui tutti i valori in `bool_list` siano uguali a `False` (tutti i caratteri della stringa di qualità codificano valori di qualità al di sotto della soglia minima)."
   ]
  },
  {
   "cell_type": "code",
   "execution_count": 14,
   "metadata": {},
   "outputs": [],
   "source": [
    "start_list[:0] = [1]"
   ]
  },
  {
   "cell_type": "code",
   "execution_count": 15,
   "metadata": {},
   "outputs": [
    {
     "data": {
      "text/plain": [
       "[1, 0, 20, 31, 33]"
      ]
     },
     "execution_count": 15,
     "metadata": {},
     "output_type": "execute_result"
    }
   ],
   "source": [
    "start_list"
   ]
  },
  {
   "cell_type": "markdown",
   "metadata": {},
   "source": [
    "Costruire in modo analogo la lista `end_list` di tutte le posizioni di fine di un intervallo di valori `True` lungo `bool_list`, elencate da sinistra a destra lungo `bool_list`.\n",
    "\n",
    "Una posizione `j < len(bool_list)-1` è di fine di un intervallo di valori `True` (anche di ampiezza 1) se `bool_list[j]` è uguale a `True` e `bool_list[j+1]` è uguale a `False`.\n",
    "\n",
    "In particolare, la posizione `j = len(bool_list)-1` è una posizione di fine di un intervallo di valori `True` se `bool_list[len(bool_list)-1]` è uguale a `True`."
   ]
  },
  {
   "cell_type": "code",
   "execution_count": 16,
   "metadata": {},
   "outputs": [],
   "source": [
    "end_list = []\n",
    "for j in range(len(bool_list))[:-1]:\n",
    "    if bool_list[j] == True and bool_list[j+1] == False:\n",
    "        end_list.append(j)\n",
    "        \n",
    "if bool_list[-1] == True:\n",
    "    end_list[len(bool_list):] = [len(bool_list)-1]"
   ]
  },
  {
   "cell_type": "code",
   "execution_count": 17,
   "metadata": {},
   "outputs": [
    {
     "data": {
      "text/plain": [
       "[18, 26, 31, 33]"
      ]
     },
     "execution_count": 17,
     "metadata": {},
     "output_type": "execute_result"
    }
   ],
   "source": [
    "end_list"
   ]
  },
  {
   "cell_type": "markdown",
   "metadata": {},
   "source": [
    "Aggiungere all'inizio di `end_list` una *fake position* pari a 0, per gestire il caso in cui tutti i valori in `bool_list` siano uguali a `False` (tutti i caratteri della stringa di qualità codificano valori di qualità al di sotto della soglia minima)."
   ]
  },
  {
   "cell_type": "code",
   "execution_count": 18,
   "metadata": {},
   "outputs": [],
   "source": [
    "end_list[:0] = [0]"
   ]
  },
  {
   "cell_type": "code",
   "execution_count": 19,
   "metadata": {},
   "outputs": [
    {
     "data": {
      "text/plain": [
       "[0, 18, 26, 31, 33]"
      ]
     },
     "execution_count": 19,
     "metadata": {},
     "output_type": "execute_result"
    }
   ],
   "source": [
    "end_list"
   ]
  },
  {
   "cell_type": "markdown",
   "metadata": {},
   "source": [
    "`start_list[p]` ed `end_list[p]` (per una data posizione p) sono le due posizioni di inizio e di fine sulla lista `bool_list` di un intervallo di soli valori `True`. Quindi `end_list[p]-start_list[p]+1` è la lunghezza del p-esimo intervallo a partire da sinistra.\n",
    "\n",
    "Per `p=0` si ha `start_list[0]=1` e `end_list[0]=0`, che sono le posizioni di inizio e fine del *fake interval* che ha lunghezza 0.\n",
    "\n",
    "A questo punto basta determinare l'intervallo più lungo.\n",
    "\n",
    "Costruire quindi la lista `interval_lengths` delle lunghezza degli intervalli."
   ]
  },
  {
   "cell_type": "code",
   "execution_count": 20,
   "metadata": {},
   "outputs": [],
   "source": [
    "interval_lengths = [end_list[i]-start_list[i]+1 for i in range(len(start_list))]"
   ]
  },
  {
   "cell_type": "code",
   "execution_count": 21,
   "metadata": {},
   "outputs": [
    {
     "data": {
      "text/plain": [
       "[0, 19, 7, 1, 1]"
      ]
     },
     "execution_count": 21,
     "metadata": {},
     "output_type": "execute_result"
    }
   ],
   "source": [
    "interval_lengths"
   ]
  },
  {
   "cell_type": "markdown",
   "metadata": {},
   "source": [
    "Estrarre l'inizio e la fine dell'intervallo di lunghezza massima (che sarà il *trimming interval*)."
   ]
  },
  {
   "cell_type": "code",
   "execution_count": 22,
   "metadata": {},
   "outputs": [],
   "source": [
    "trimming_index = interval_lengths.index(max(interval_lengths))\n",
    "interval_start = start_list[trimming_index]\n",
    "interval_end = end_list[trimming_index]"
   ]
  },
  {
   "cell_type": "code",
   "execution_count": 23,
   "metadata": {},
   "outputs": [
    {
     "data": {
      "text/plain": [
       "0"
      ]
     },
     "execution_count": 23,
     "metadata": {},
     "output_type": "execute_result"
    }
   ],
   "source": [
    "interval_start"
   ]
  },
  {
   "cell_type": "code",
   "execution_count": 24,
   "metadata": {},
   "outputs": [
    {
     "data": {
      "text/plain": [
       "18"
      ]
     },
     "execution_count": 24,
     "metadata": {},
     "output_type": "execute_result"
    }
   ],
   "source": [
    "interval_end"
   ]
  },
  {
   "cell_type": "markdown",
   "metadata": {},
   "source": [
    "Si faccia in modo che la funzione `get_trimming_interval()` restituisca la lista dei due elementi `[interval_start, interval_end+1]` che rappresenta il *trimming interval*.\n",
    "\n",
    "Il fatto di sommare 1 a `interval_end` prima di restituirlo è per rendere l'intervallo subito pronto per effettuare l'operazione di *slicing* (trimming) della stringa di qualità e del relativo read."
   ]
  },
  {
   "cell_type": "markdown",
   "metadata": {},
   "source": [
    "**NOTA BENE**: se viene restituito il *fake interval* `[1,1]` allora significa che tutti i valori in `bool_list` sono uguali a `False` (cioé nella stringa di qualità tutti i valori sono al di sotto della soglia minima), e il trimming restituirà una stringa vuota."
   ]
  },
  {
   "cell_type": "markdown",
   "metadata": {},
   "source": [
    "### Definizione della funzione `get_trimmed_read()`\n",
    "\n",
    "Il primo argomento della funzione è una soglia minima di qualità, mentre il secondo argomento è una lista dei quattro *record* di un read in formato `FASTQ`. I *record* prodotti in output devono avere il il carattere `\\n` alla fine.\n",
    "\n",
    "**NOTA BENE:** supporre che il carattere `\\n` non sia ancora stato tolto dalla fine di ognuno dei quattro *record*."
   ]
  },
  {
   "cell_type": "code",
   "execution_count": 25,
   "metadata": {},
   "outputs": [],
   "source": [
    "def get_trimmed_read(quality_threshold, fastq_read):\n",
    "    trimming_interval = get_trimming_interval(fastq_read[3].rstrip(), quality_threshold)\n",
    "    trimmed_read_sequence = fastq_read[1].rstrip()[trimming_interval[0]:trimming_interval[1]]\n",
    "    trimmed_quality_string = fastq_read[3].rstrip()[trimming_interval[0]:trimming_interval[1]]\n",
    "    return [fastq_read[0], trimmed_read_sequence+'\\n', fastq_read[2], trimmed_quality_string+'\\n']"
   ]
  },
  {
   "cell_type": "markdown",
   "metadata": {},
   "source": [
    "---"
   ]
  },
  {
   "cell_type": "markdown",
   "metadata": {},
   "source": [
    "### Lettura del file in formato `FASTQ`"
   ]
  },
  {
   "cell_type": "markdown",
   "metadata": {},
   "source": [
    "Lettura del file `FASTQ` in input nella lista `fastq_file_rows`"
   ]
  },
  {
   "cell_type": "code",
   "execution_count": 26,
   "metadata": {},
   "outputs": [],
   "source": [
    "with open(fastq_file_name, 'r') as fastq_input_file:\n",
    "    fastq_file_rows = fastq_input_file.readlines()"
   ]
  },
  {
   "cell_type": "code",
   "execution_count": 27,
   "metadata": {},
   "outputs": [
    {
     "data": {
      "text/plain": [
       "['@HWUSI-EAS522:8:5:662:692#0/1\\n',\n",
       " 'TATGGAGGCCCAACTTCTTGTATTCACAGGTTCTGC\\n',\n",
       " '+HWUSI-EAS522:8:5:662:692#0/1\\n',\n",
       " 'aaaa`aa`aa`]__`aa`_U[_a`^\\\\\\\\UTWZ`X^QX\\n',\n",
       " '@HWUSI-EAS522:8:5:662:693#0/1\\n',\n",
       " 'TCTGCCAACTTCTTATGGAGGCCTGTATTCACAGGT\\n',\n",
       " '+HWUSI-EAS522:8:5:662:693#0/1\\n',\n",
       " 'Aaaa`aa`aa`]__`:a`_U;_A`^\\\\\\\\UTWZ`X^QX\\n',\n",
       " '@HWUSI-EAS522:8:5:662:694#0/1\\n',\n",
       " 'TCTGCCAGAGGCCTGTATTCACAGGTACTTCTTATG\\n',\n",
       " '+HWUSI-EAS522:8:5:662:694#0/1\\n',\n",
       " 'aaaa`aa`aa`]__`aa`_u[_a`^\\\\\\\\utwz`x^QX\\n',\n",
       " '@HWUSI-EAS522:8:5:662:695#0/1\\n',\n",
       " 'TCGCCTGTATTCACAGGTTGCCAACTTCTTATGGAG\\n',\n",
       " '+HWUSI-EAS522:8:5:662:695#0/1\\n',\n",
       " 'AaaA`aa`aa`]__`:A`_U;_A`^\\\\\\\\UTWZ`X^QX\\n']"
      ]
     },
     "execution_count": 27,
     "metadata": {},
     "output_type": "execute_result"
    }
   ],
   "source": [
    "fastq_file_rows"
   ]
  },
  {
   "cell_type": "markdown",
   "metadata": {},
   "source": [
    "Costruire la lista `read_header_pos` degli indici 0-based di posizione dei *record* di intestazione dei read (quelli che iniziano con il carattere `@`) all'interno della lista `fastq_file_rows`."
   ]
  },
  {
   "cell_type": "code",
   "execution_count": 28,
   "metadata": {},
   "outputs": [],
   "source": [
    "read_header_pos = [fastq_file_rows.index(row) for row in fastq_file_rows if row[0] == '@']"
   ]
  },
  {
   "cell_type": "code",
   "execution_count": 29,
   "metadata": {},
   "outputs": [
    {
     "data": {
      "text/plain": [
       "[0, 4, 8, 12]"
      ]
     },
     "execution_count": 29,
     "metadata": {},
     "output_type": "execute_result"
    }
   ],
   "source": [
    "read_header_pos"
   ]
  },
  {
   "cell_type": "markdown",
   "metadata": {},
   "source": [
    "Usare la lista `read_header_pos` per raggruppare i *record* della lista `fastq_file_rows` per read (cioé gruppi di quattro *record* ciascuno), e inserire tali raggruppamenti nella lista `output_list`."
   ]
  },
  {
   "cell_type": "code",
   "execution_count": 30,
   "metadata": {},
   "outputs": [],
   "source": [
    "output_list = [fastq_file_rows[i:i+4] for i in read_header_pos]"
   ]
  },
  {
   "cell_type": "code",
   "execution_count": 31,
   "metadata": {},
   "outputs": [
    {
     "data": {
      "text/plain": [
       "[['@HWUSI-EAS522:8:5:662:692#0/1\\n',\n",
       "  'TATGGAGGCCCAACTTCTTGTATTCACAGGTTCTGC\\n',\n",
       "  '+HWUSI-EAS522:8:5:662:692#0/1\\n',\n",
       "  'aaaa`aa`aa`]__`aa`_U[_a`^\\\\\\\\UTWZ`X^QX\\n'],\n",
       " ['@HWUSI-EAS522:8:5:662:693#0/1\\n',\n",
       "  'TCTGCCAACTTCTTATGGAGGCCTGTATTCACAGGT\\n',\n",
       "  '+HWUSI-EAS522:8:5:662:693#0/1\\n',\n",
       "  'Aaaa`aa`aa`]__`:a`_U;_A`^\\\\\\\\UTWZ`X^QX\\n'],\n",
       " ['@HWUSI-EAS522:8:5:662:694#0/1\\n',\n",
       "  'TCTGCCAGAGGCCTGTATTCACAGGTACTTCTTATG\\n',\n",
       "  '+HWUSI-EAS522:8:5:662:694#0/1\\n',\n",
       "  'aaaa`aa`aa`]__`aa`_u[_a`^\\\\\\\\utwz`x^QX\\n'],\n",
       " ['@HWUSI-EAS522:8:5:662:695#0/1\\n',\n",
       "  'TCGCCTGTATTCACAGGTTGCCAACTTCTTATGGAG\\n',\n",
       "  '+HWUSI-EAS522:8:5:662:695#0/1\\n',\n",
       "  'AaaA`aa`aa`]__`:A`_U;_A`^\\\\\\\\UTWZ`X^QX\\n']]"
      ]
     },
     "execution_count": 31,
     "metadata": {},
     "output_type": "execute_result"
    }
   ],
   "source": [
    "output_list"
   ]
  },
  {
   "cell_type": "markdown",
   "metadata": {},
   "source": [
    "Eliminare da `output_list` i read la cui percentuale di basi con qualità almeno pari alla soglia minima (parametro `quality_threshold`) è inferiore al parametro `min_percentage`."
   ]
  },
  {
   "cell_type": "code",
   "execution_count": 32,
   "metadata": {},
   "outputs": [],
   "source": [
    "output_list = [read for read in output_list if get_quality_percentage(read[3].rstrip(), quality_threshold) >= min_percentage]"
   ]
  },
  {
   "cell_type": "code",
   "execution_count": 33,
   "metadata": {},
   "outputs": [
    {
     "data": {
      "text/plain": [
       "[['@HWUSI-EAS522:8:5:662:692#0/1\\n',\n",
       "  'TATGGAGGCCCAACTTCTTGTATTCACAGGTTCTGC\\n',\n",
       "  '+HWUSI-EAS522:8:5:662:692#0/1\\n',\n",
       "  'aaaa`aa`aa`]__`aa`_U[_a`^\\\\\\\\UTWZ`X^QX\\n'],\n",
       " ['@HWUSI-EAS522:8:5:662:694#0/1\\n',\n",
       "  'TCTGCCAGAGGCCTGTATTCACAGGTACTTCTTATG\\n',\n",
       "  '+HWUSI-EAS522:8:5:662:694#0/1\\n',\n",
       "  'aaaa`aa`aa`]__`aa`_u[_a`^\\\\\\\\utwz`x^QX\\n']]"
      ]
     },
     "execution_count": 33,
     "metadata": {},
     "output_type": "execute_result"
    }
   ],
   "source": [
    "output_list"
   ]
  },
  {
   "cell_type": "markdown",
   "metadata": {},
   "source": [
    "Effettuare il *trimming* dei reads rimasti in `output_list`."
   ]
  },
  {
   "cell_type": "code",
   "execution_count": 34,
   "metadata": {},
   "outputs": [],
   "source": [
    "output_list = [get_trimmed_read(quality_threshold, read) for read in output_list]"
   ]
  },
  {
   "cell_type": "code",
   "execution_count": 35,
   "metadata": {},
   "outputs": [
    {
     "data": {
      "text/plain": [
       "[['@HWUSI-EAS522:8:5:662:692#0/1\\n',\n",
       "  'TATGGAGGCCCAACTTCTT\\n',\n",
       "  '+HWUSI-EAS522:8:5:662:692#0/1\\n',\n",
       "  'aaaa`aa`aa`]__`aa`_\\n'],\n",
       " ['@HWUSI-EAS522:8:5:662:694#0/1\\n',\n",
       "  'TCTGCCAGAGGCCTGTATTCACAGGTACTTCTTA\\n',\n",
       "  '+HWUSI-EAS522:8:5:662:694#0/1\\n',\n",
       "  'aaaa`aa`aa`]__`aa`_u[_a`^\\\\\\\\utwz`x^\\n']]"
      ]
     },
     "execution_count": 35,
     "metadata": {},
     "output_type": "execute_result"
    }
   ],
   "source": [
    "output_list"
   ]
  },
  {
   "cell_type": "markdown",
   "metadata": {},
   "source": [
    "Eliminare da `output_list` i reads troppo corti."
   ]
  },
  {
   "cell_type": "code",
   "execution_count": 36,
   "metadata": {},
   "outputs": [],
   "source": [
    "output_list = [read for read in output_list if len(read[1].rstrip()) >= min_length]"
   ]
  },
  {
   "cell_type": "code",
   "execution_count": 37,
   "metadata": {},
   "outputs": [
    {
     "data": {
      "text/plain": [
       "[['@HWUSI-EAS522:8:5:662:694#0/1\\n',\n",
       "  'TCTGCCAGAGGCCTGTATTCACAGGTACTTCTTA\\n',\n",
       "  '+HWUSI-EAS522:8:5:662:694#0/1\\n',\n",
       "  'aaaa`aa`aa`]__`aa`_u[_a`^\\\\\\\\utwz`x^\\n']]"
      ]
     },
     "execution_count": 37,
     "metadata": {},
     "output_type": "execute_result"
    }
   ],
   "source": [
    "output_list"
   ]
  }
 ],
 "metadata": {
  "kernelspec": {
   "display_name": "Python 3",
   "language": "python",
   "name": "python3"
  },
  "language_info": {
   "codemirror_mode": {
    "name": "ipython",
    "version": 3
   },
   "file_extension": ".py",
   "mimetype": "text/x-python",
   "name": "python",
   "nbconvert_exporter": "python",
   "pygments_lexer": "ipython3",
   "version": "3.7.1"
  }
 },
 "nbformat": 4,
 "nbformat_minor": 2
}
