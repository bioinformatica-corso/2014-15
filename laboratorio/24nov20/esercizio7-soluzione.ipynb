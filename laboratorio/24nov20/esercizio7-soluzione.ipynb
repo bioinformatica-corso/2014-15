{
 "cells": [
  {
   "cell_type": "markdown",
   "metadata": {},
   "source": [
    "# Esercizio 7\n",
    "\n",
    "Filtrare da un file in formato `FASTQ` i reads che hanno una percentuale di basi con qualità almeno Q che risulta essere almeno P. Per ognuno di essi effettuare il *trimming* (ottenendo la più lungha sottostringa in cui tutte le basi hanno qualità almeno Q) e produrlo in output (in formato `FASTQ`) solo se la porzione rimasta è lunga almeno L basi.\n",
    "\n",
    "***\n",
    "\n",
    "Parametri in input:\n",
    "\n",
    "- nome del file in formato `FASTQ`\n",
    "- soglia minima di qualità Q\n",
    "- percentuale minima P (numero compreso tra 0 e 1) delle basi con qualità almeno Q\n",
    "- lunghezza minima L per tenere un read dopo il *trimming*\n",
    "\n",
    "***\n",
    "\n",
    "Requisiti:\n",
    "- deve essere definita la funzione `ascii_to_quality()` che prende come argomento un carattere ASCII e restituisce il corrispondente Phred Value q.\n",
    "- deve essere definita la funzione `get_quality_percentage()` che prende in input una stringa di qualità (cioé una stringa di caratteri ASCII che codificano Phred Values) e una soglia minima, e restituisce la percentuale di caratteri che codificano una qualità pari ad almeno la soglia minima.\n",
    "- deve essere definita la funzione `get_trimming_interval()` che prende in input una stringa di qualità e una soglia minima, e restituisce il più lungo intervallo di posizioni contenente solo caratteri che codificano qualità almeno pari alla soglia minima.\n",
    "- deve essere definita la funzione `get_trimmed_read()` che prende in input una soglia minima di qualità e un read in  formato `FASTQ` inteso come lista dei suoi quattro *record* `FASTQ`, ed effettua il *trimming*, cioé trova la più lunga sottostringa del read le cui basi hanno una qualità pari ad almeno la soglia passata come argomento. La funzione deve restituire la lista dei quattro *record* `FASTQ` del *trimmed* read (NB: anche la stringa di qualità deve quindi essere opportunamente sottoposta a *trimming* prima di produrre in output il read). Tale funzione dovrà invocare la precedente `get_trimming_interval()`\n",
    "\n",
    "\n",
    "**Esempio:** Q=58.\n",
    "\n",
    "Read prima del *trimming*:\n",
    "\n",
    "        @HWUSI-EAS522:8:5:662:692#0/1\n",
    "        TATGGAGGCCCAACTTCTTGTATTCACAGGTTCTGC\n",
    "        +HWUSI-EAS522:8:5:662:692#0/1\n",
    "        aaaa`aa`aa`]__`aa`_U[_a`^\\\\UTWZ`X^QX\n",
    "        \n",
    "Read dopo il *trimming*:\n",
    "\n",
    "        @HWUSI-EAS522:8:5:662:692#0/1\n",
    "        TATGGAGGCCCAACTTCTT\n",
    "        +HWUSI-EAS522:8:5:662:692#0/1,\n",
    "        aaaa`aa`aa`]__`aa`_\n",
    "        \n",
    "in cui viene tenuto un prefisso.\n",
    "\n",
    "***\n",
    "\n",
    "Variabili di output:\n",
    "- `output_list`, lista dei reads prodotti in formato `FASTQ`. Ogni elemento (read) della lista è una lista annidata contenente i quattro *record* del formato `FASTQ`."
   ]
  },
  {
   "cell_type": "markdown",
   "metadata": {},
   "source": [
    "***"
   ]
  },
  {
   "cell_type": "markdown",
   "metadata": {},
   "source": [
    "## Soluzione"
   ]
  },
  {
   "cell_type": "markdown",
   "metadata": {},
   "source": [
    "### Parametri in input"
   ]
  },
  {
   "cell_type": "code",
   "execution_count": 60,
   "metadata": {},
   "outputs": [],
   "source": [
    "fastq_file_name = './input.fq'"
   ]
  },
  {
   "cell_type": "markdown",
   "metadata": {},
   "source": [
    "Soglia minima di qualità Q:"
   ]
  },
  {
   "cell_type": "code",
   "execution_count": 61,
   "metadata": {},
   "outputs": [],
   "source": [
    "quality_threshold = 58"
   ]
  },
  {
   "cell_type": "markdown",
   "metadata": {},
   "source": [
    "Minima percentuale P di basi aventi qualità minima Q:"
   ]
  },
  {
   "cell_type": "code",
   "execution_count": 62,
   "metadata": {},
   "outputs": [],
   "source": [
    "min_percentage = 0.7"
   ]
  },
  {
   "cell_type": "markdown",
   "metadata": {},
   "source": [
    "Lunghezza minima L"
   ]
  },
  {
   "cell_type": "code",
   "execution_count": 63,
   "metadata": {},
   "outputs": [],
   "source": [
    "min_length = 20"
   ]
  },
  {
   "cell_type": "markdown",
   "metadata": {},
   "source": [
    "### Definizione della funzione `ascii_to_quality()`\n",
    "\n",
    "L'argomento è un carattere ASCII che codifica un Phred Value. La funzione restituisce la qualità codificata dal carattere."
   ]
  },
  {
   "cell_type": "code",
   "execution_count": 64,
   "metadata": {},
   "outputs": [],
   "source": []
  },
  {
   "cell_type": "markdown",
   "metadata": {},
   "source": [
    "### Definizione della funzione `get_quality_percentage()`\n",
    "\n",
    "Il primo argomento della funzione è una stringa di qualità, mentre il secondo argomento è una soglia di qualità. La funzione restituisce la percentuale (numero compreso tra 0 e 1) di caratteri che codificando una qualità almeno pari alla soglia."
   ]
  },
  {
   "cell_type": "code",
   "execution_count": 65,
   "metadata": {},
   "outputs": [],
   "source": []
  },
  {
   "cell_type": "markdown",
   "metadata": {},
   "source": [
    "**NOTA BENE**: supporre che il carattere `\\n` sia già stato rimosso dalla fine della stringa `quality_string` passata come argomento."
   ]
  },
  {
   "cell_type": "markdown",
   "metadata": {},
   "source": [
    "### Definizione della funzione `get_trimming_interval()`\n",
    "\n",
    "Il primo argomento della funzione è la stringa di qualità, mentre il secondo argomento è soglia di qualità. La funzione restituisce le posizioni di inizio e fine del *trimming interval* sulla stringa di qualità, cioé della più lunga sottostringa composta solo di caratteri che codificano una qualità almeno pari alla soglia."
   ]
  },
  {
   "cell_type": "code",
   "execution_count": 66,
   "metadata": {},
   "outputs": [],
   "source": []
  },
  {
   "cell_type": "markdown",
   "metadata": {},
   "source": [
    "**NOTA BENE**: supporre che il carattere `\\n` sia già stato rimosso dalla fine della stringa `quality_string` passata come argomento."
   ]
  },
  {
   "cell_type": "markdown",
   "metadata": {},
   "source": [
    "#### Spiegazione della funzione `get_trimming_interval()`\n",
    "\n",
    "Si consideri la seguente stringa di qualità (primo argomento della funzione):"
   ]
  },
  {
   "cell_type": "code",
   "execution_count": 67,
   "metadata": {},
   "outputs": [],
   "source": [
    "quality_string = 'aaaa`aa`aa`]__`aa`_U[_a`^\\\\\\\\UTWZ`X^QX'"
   ]
  },
  {
   "cell_type": "markdown",
   "metadata": {},
   "source": [
    "La soglia di qualità minima (secondo argomento della funzione) è quella scelta sopra."
   ]
  },
  {
   "cell_type": "code",
   "execution_count": 68,
   "metadata": {},
   "outputs": [
    {
     "data": {
      "text/plain": [
       "58"
      ]
     },
     "execution_count": 68,
     "metadata": {},
     "output_type": "execute_result"
    }
   ],
   "source": [
    "quality_threshold"
   ]
  },
  {
   "cell_type": "markdown",
   "metadata": {},
   "source": [
    "Si costruisca la lista `bool_list` di valori di tipo `bool` lunga come la stringa di qualità, tale per cui il valore i-esimo è `True` se il carattere i-esimo della stringa di qualità codifica un Phred Value almeno pari alla soglia `quality_threshold`."
   ]
  },
  {
   "cell_type": "code",
   "execution_count": 69,
   "metadata": {},
   "outputs": [],
   "source": []
  },
  {
   "cell_type": "code",
   "execution_count": 70,
   "metadata": {},
   "outputs": [
    {
     "data": {
      "text/plain": [
       "[True,\n",
       " True,\n",
       " True,\n",
       " True,\n",
       " True,\n",
       " True,\n",
       " True,\n",
       " True,\n",
       " True,\n",
       " True,\n",
       " True,\n",
       " True,\n",
       " True,\n",
       " True,\n",
       " True,\n",
       " True,\n",
       " True,\n",
       " True,\n",
       " True,\n",
       " False,\n",
       " True,\n",
       " True,\n",
       " True,\n",
       " True,\n",
       " True,\n",
       " True,\n",
       " True,\n",
       " False,\n",
       " False,\n",
       " False,\n",
       " False,\n",
       " True,\n",
       " False,\n",
       " True,\n",
       " False,\n",
       " False]"
      ]
     },
     "execution_count": 70,
     "metadata": {},
     "output_type": "execute_result"
    }
   ],
   "source": [
    "bool_list"
   ]
  },
  {
   "cell_type": "markdown",
   "metadata": {},
   "source": [
    "Basta a questo punto trovare e restituire il più lungo intervallo di posizioni nella lista `bool_list` che contenga solo valori `True`.\n",
    "    \n",
    "Costruire quindi la lista `start_list` di tutte le posizioni di inizio di un intervallo di valori `True` lungo `bool_list`, elencate da sinistra a destra lungo `bool_list`.\n",
    "\n",
    "Una posizione `i>0` è di inizio di un intervallo di valori `True` (anche di ampiezza 1) se `bool_list[i]` è uguale a `True` e `bool_list[i-1]` è uguale a `False`.\n",
    "\n",
    "In particolare, la posizione `i=0` è una posizione di inizio di un intervallo di valori `True` se `bool_list[i]` è uguale a `True`."
   ]
  },
  {
   "cell_type": "code",
   "execution_count": 71,
   "metadata": {},
   "outputs": [],
   "source": []
  },
  {
   "cell_type": "code",
   "execution_count": 72,
   "metadata": {},
   "outputs": [
    {
     "data": {
      "text/plain": [
       "[0, 20, 31, 33]"
      ]
     },
     "execution_count": 72,
     "metadata": {},
     "output_type": "execute_result"
    }
   ],
   "source": [
    "start_list"
   ]
  },
  {
   "cell_type": "markdown",
   "metadata": {},
   "source": [
    "Aggiungere all'inizio di `start_list` una *fake position* pari a 1, per gestire il caso in cui tutti i valori in `bool_list` siano uguali a `False` (tutti i caratteri della stringa di qualità codificano valori di qualità al di sotto della soglia minima)."
   ]
  },
  {
   "cell_type": "code",
   "execution_count": 73,
   "metadata": {},
   "outputs": [],
   "source": []
  },
  {
   "cell_type": "code",
   "execution_count": 74,
   "metadata": {},
   "outputs": [
    {
     "data": {
      "text/plain": [
       "[1, 0, 20, 31, 33]"
      ]
     },
     "execution_count": 74,
     "metadata": {},
     "output_type": "execute_result"
    }
   ],
   "source": [
    "start_list"
   ]
  },
  {
   "cell_type": "markdown",
   "metadata": {},
   "source": [
    "Costruire in modo analogo la lista `end_list` di tutte le posizioni di fine di un intervallo di valori `True` lungo `bool_list`, elencate da sinistra a destra lungo `bool_list`.\n",
    "\n",
    "Una posizione `j < len(bool_list)-1` è di fine di un intervallo di valori `True` (anche di ampiezza 1) se `bool_list[j]` è uguale a `True` e `bool_list[j+1]` è uguale a `False`.\n",
    "\n",
    "In particolare, la posizione `j = len(bool_list)-1` è una posizione di fine di un intervallo di valori `True` se `bool_list[len(bool_list)-1]` è uguale a `True`."
   ]
  },
  {
   "cell_type": "code",
   "execution_count": 75,
   "metadata": {},
   "outputs": [],
   "source": []
  },
  {
   "cell_type": "code",
   "execution_count": 76,
   "metadata": {},
   "outputs": [
    {
     "data": {
      "text/plain": [
       "[18, 26, 31, 33]"
      ]
     },
     "execution_count": 76,
     "metadata": {},
     "output_type": "execute_result"
    }
   ],
   "source": [
    "end_list"
   ]
  },
  {
   "cell_type": "markdown",
   "metadata": {},
   "source": [
    "Aggiungere all'inizio di `end_list` una *fake position* pari a 0, per gestire il caso in cui tutti i valori in `bool_list` siano uguali a `False` (tutti i caratteri della stringa di qualità codificano valori di qualità al di sotto della soglia minima)."
   ]
  },
  {
   "cell_type": "code",
   "execution_count": 77,
   "metadata": {},
   "outputs": [],
   "source": []
  },
  {
   "cell_type": "code",
   "execution_count": 78,
   "metadata": {},
   "outputs": [
    {
     "data": {
      "text/plain": [
       "[0, 18, 26, 31, 33]"
      ]
     },
     "execution_count": 78,
     "metadata": {},
     "output_type": "execute_result"
    }
   ],
   "source": [
    "end_list"
   ]
  },
  {
   "cell_type": "markdown",
   "metadata": {},
   "source": [
    "`start_list[p]` ed `end_list[p]` (per una data posizione p) sono le due posizioni di inizio e di fine sulla lista `bool_list` di un intervallo di soli valori `True`. Quindi `end_list[p]-start_list[p]+1` è la lunghezza del p-esimo intervallo a partire da sinistra.\n",
    "\n",
    "Per `p=0` si ha `start_list[0]=1` e `end_list[0]=0`, che sono le posizioni di inizio e fine del *fake interval* che ha lunghezza 0.\n",
    "\n",
    "A questo punto basta determinare l'intervallo più lungo.\n",
    "\n",
    "Costruire quindi la lista `interval_lengths` delle lunghezza degli intervalli."
   ]
  },
  {
   "cell_type": "code",
   "execution_count": 79,
   "metadata": {},
   "outputs": [],
   "source": []
  },
  {
   "cell_type": "code",
   "execution_count": 80,
   "metadata": {},
   "outputs": [
    {
     "data": {
      "text/plain": [
       "[0, 19, 7, 1, 1]"
      ]
     },
     "execution_count": 80,
     "metadata": {},
     "output_type": "execute_result"
    }
   ],
   "source": [
    "interval_lengths"
   ]
  },
  {
   "cell_type": "markdown",
   "metadata": {},
   "source": [
    "Estrarre l'inizio e la fine dell'intervallo di lunghezza massima (che sarà il *trimming interval*)."
   ]
  },
  {
   "cell_type": "code",
   "execution_count": 81,
   "metadata": {},
   "outputs": [],
   "source": []
  },
  {
   "cell_type": "code",
   "execution_count": 82,
   "metadata": {},
   "outputs": [
    {
     "data": {
      "text/plain": [
       "0"
      ]
     },
     "execution_count": 82,
     "metadata": {},
     "output_type": "execute_result"
    }
   ],
   "source": [
    "start_interval"
   ]
  },
  {
   "cell_type": "code",
   "execution_count": 83,
   "metadata": {},
   "outputs": [
    {
     "data": {
      "text/plain": [
       "18"
      ]
     },
     "execution_count": 83,
     "metadata": {},
     "output_type": "execute_result"
    }
   ],
   "source": [
    "end_interval"
   ]
  },
  {
   "cell_type": "markdown",
   "metadata": {},
   "source": [
    "Si faccia in modo che la funzione `get_trimming_interval()` restituisca la lista dei due elementi `[start_interval, end_interval+1]` che rappresenta il *trimming interval*.\n",
    "\n",
    "Il fatto di sommare 1 a `end_interval` prima di restituirlo è per rendere l'intervallo subito pronto per effettuare l'operazione di *slicing* (trimming) della stringa di qualità e del relativo read."
   ]
  },
  {
   "cell_type": "markdown",
   "metadata": {},
   "source": [
    "**NOTA BENE**: se viene restituito il *fake interval* `[1,1]` allora significa che tutti i valori in `bool_list` sono uguali a `False` (cioé nella stringa di qualità tutti i valori sono al di sotto della soglia minima), e il trimming restituirà una stringa vuota."
   ]
  },
  {
   "cell_type": "markdown",
   "metadata": {},
   "source": [
    "### Definizione della funzione `get_trimmed_read()`\n",
    "\n",
    "Il primo argomento della funzione è una soglia minima di qualità, mentre il secondo argomento è una lista dei quattro *record* di un read in formato `FASTQ`. I *record* prodotti in output devono avere il il carattere `\\n` alla fine.\n",
    "\n",
    "**NOTA BENE:** supporre che il carattere `\\n` non sia ancora stato tolto dalla fine di ognuno dei quattro *record*."
   ]
  },
  {
   "cell_type": "code",
   "execution_count": 84,
   "metadata": {},
   "outputs": [],
   "source": []
  },
  {
   "cell_type": "markdown",
   "metadata": {},
   "source": [
    "---"
   ]
  },
  {
   "cell_type": "markdown",
   "metadata": {},
   "source": [
    "### Lettura del file in formato `FASTQ`"
   ]
  },
  {
   "cell_type": "markdown",
   "metadata": {},
   "source": [
    "Lettura del file `FASTQ` in input nella lista `fastq_file_rows`"
   ]
  },
  {
   "cell_type": "code",
   "execution_count": 85,
   "metadata": {},
   "outputs": [],
   "source": []
  },
  {
   "cell_type": "code",
   "execution_count": 86,
   "metadata": {},
   "outputs": [
    {
     "data": {
      "text/plain": [
       "['@HWUSI-EAS522:8:5:662:692#0/1\\n',\n",
       " 'TATGGAGGCCCAACTTCTTGTATTCACAGGTTCTGC\\n',\n",
       " '+HWUSI-EAS522:8:5:662:692#0/1\\n',\n",
       " 'aaaa`aa`aa`]__`aa`_U[_a`^\\\\\\\\UTWZ`X^QX\\n',\n",
       " '@HWUSI-EAS522:8:5:662:693#0/1\\n',\n",
       " 'TCTGCCAACTTCTTATGGAGGCCTGTATTCACAGGT\\n',\n",
       " '+HWUSI-EAS522:8:5:662:693#0/1\\n',\n",
       " 'Aaaa`aa`aa`]__`:a`_U;_A`^\\\\\\\\UTWZ`X^QX\\n',\n",
       " '@HWUSI-EAS522:8:5:662:694#0/1\\n',\n",
       " 'TCTGCCAGAGGCCTGTATTCACAGGTACTTCTTATG\\n',\n",
       " '+HWUSI-EAS522:8:5:662:694#0/1\\n',\n",
       " 'aaaa`aa`aa`]__`aa`_u[_a`^\\\\\\\\utwz`x^QX\\n',\n",
       " '@HWUSI-EAS522:8:5:662:695#0/1\\n',\n",
       " 'TCGCCTGTATTCACAGGTTGCCAACTTCTTATGGAG\\n',\n",
       " '+HWUSI-EAS522:8:5:662:695#0/1\\n',\n",
       " 'AaaA`aa`aa`]__`:A`_U;_A`^\\\\\\\\UTWZ`X^QX\\n']"
      ]
     },
     "execution_count": 86,
     "metadata": {},
     "output_type": "execute_result"
    }
   ],
   "source": [
    "fastq_file_rows"
   ]
  },
  {
   "cell_type": "markdown",
   "metadata": {},
   "source": [
    "Costruire la lista `read_header_pos` degli indici 0-based di posizione dei *record* di intestazione dei read (quelli che iniziano con il carattere `@`) all'interno della lista `fastq_file_rows`."
   ]
  },
  {
   "cell_type": "code",
   "execution_count": 88,
   "metadata": {},
   "outputs": [],
   "source": []
  },
  {
   "cell_type": "markdown",
   "metadata": {},
   "source": [
    "Usare la lista `read_header_pos` per raggruppare i *record* della lista `fastq_file_rows` per read (cioé gruppi di quattro *record* ciascuno), e inserire tali raggruppamenti nella lista `output_list`."
   ]
  },
  {
   "cell_type": "code",
   "execution_count": 89,
   "metadata": {},
   "outputs": [],
   "source": []
  },
  {
   "cell_type": "code",
   "execution_count": 90,
   "metadata": {},
   "outputs": [
    {
     "data": {
      "text/plain": [
       "[['@HWUSI-EAS522:8:5:662:692#0/1\\n',\n",
       "  'TATGGAGGCCCAACTTCTTGTATTCACAGGTTCTGC\\n',\n",
       "  '+HWUSI-EAS522:8:5:662:692#0/1\\n',\n",
       "  'aaaa`aa`aa`]__`aa`_U[_a`^\\\\\\\\UTWZ`X^QX\\n'],\n",
       " ['@HWUSI-EAS522:8:5:662:693#0/1\\n',\n",
       "  'TCTGCCAACTTCTTATGGAGGCCTGTATTCACAGGT\\n',\n",
       "  '+HWUSI-EAS522:8:5:662:693#0/1\\n',\n",
       "  'Aaaa`aa`aa`]__`:a`_U;_A`^\\\\\\\\UTWZ`X^QX\\n'],\n",
       " ['@HWUSI-EAS522:8:5:662:694#0/1\\n',\n",
       "  'TCTGCCAGAGGCCTGTATTCACAGGTACTTCTTATG\\n',\n",
       "  '+HWUSI-EAS522:8:5:662:694#0/1\\n',\n",
       "  'aaaa`aa`aa`]__`aa`_u[_a`^\\\\\\\\utwz`x^QX\\n'],\n",
       " ['@HWUSI-EAS522:8:5:662:695#0/1\\n',\n",
       "  'TCGCCTGTATTCACAGGTTGCCAACTTCTTATGGAG\\n',\n",
       "  '+HWUSI-EAS522:8:5:662:695#0/1\\n',\n",
       "  'AaaA`aa`aa`]__`:A`_U;_A`^\\\\\\\\UTWZ`X^QX\\n']]"
      ]
     },
     "execution_count": 90,
     "metadata": {},
     "output_type": "execute_result"
    }
   ],
   "source": [
    "output_list"
   ]
  },
  {
   "cell_type": "markdown",
   "metadata": {},
   "source": [
    "Eliminare da `output_list` i read la cui percentuale di basi con qualità almeno pari alla soglia minima (parametro `quality_threshold`) è inferiore al parametro `min_percentage`."
   ]
  },
  {
   "cell_type": "code",
   "execution_count": 91,
   "metadata": {},
   "outputs": [],
   "source": []
  },
  {
   "cell_type": "code",
   "execution_count": 92,
   "metadata": {},
   "outputs": [
    {
     "data": {
      "text/plain": [
       "[['@HWUSI-EAS522:8:5:662:692#0/1\\n',\n",
       "  'TATGGAGGCCCAACTTCTTGTATTCACAGGTTCTGC\\n',\n",
       "  '+HWUSI-EAS522:8:5:662:692#0/1\\n',\n",
       "  'aaaa`aa`aa`]__`aa`_U[_a`^\\\\\\\\UTWZ`X^QX\\n'],\n",
       " ['@HWUSI-EAS522:8:5:662:694#0/1\\n',\n",
       "  'TCTGCCAGAGGCCTGTATTCACAGGTACTTCTTATG\\n',\n",
       "  '+HWUSI-EAS522:8:5:662:694#0/1\\n',\n",
       "  'aaaa`aa`aa`]__`aa`_u[_a`^\\\\\\\\utwz`x^QX\\n']]"
      ]
     },
     "execution_count": 92,
     "metadata": {},
     "output_type": "execute_result"
    }
   ],
   "source": [
    "output_list"
   ]
  },
  {
   "cell_type": "markdown",
   "metadata": {},
   "source": [
    "Effettuare il *trimming* dei reads rimasti in `output_list`."
   ]
  },
  {
   "cell_type": "code",
   "execution_count": 96,
   "metadata": {},
   "outputs": [],
   "source": []
  },
  {
   "cell_type": "code",
   "execution_count": 97,
   "metadata": {},
   "outputs": [
    {
     "data": {
      "text/plain": [
       "[['@HWUSI-EAS522:8:5:662:692#0/1\\n',\n",
       "  'TATGGAGGCCCAACTTCTT\\n',\n",
       "  '+HWUSI-EAS522:8:5:662:692#0/1\\n',\n",
       "  'aaaa`aa`aa`]__`aa`_\\n'],\n",
       " ['@HWUSI-EAS522:8:5:662:694#0/1\\n',\n",
       "  'TCTGCCAGAGGCCTGTATTCACAGGTACTTCTTA\\n',\n",
       "  '+HWUSI-EAS522:8:5:662:694#0/1\\n',\n",
       "  'aaaa`aa`aa`]__`aa`_u[_a`^\\\\\\\\utwz`x^\\n']]"
      ]
     },
     "execution_count": 97,
     "metadata": {},
     "output_type": "execute_result"
    }
   ],
   "source": [
    "output_list"
   ]
  },
  {
   "cell_type": "markdown",
   "metadata": {},
   "source": [
    "Eliminare da `output_list` i reads troppo corti."
   ]
  },
  {
   "cell_type": "code",
   "execution_count": 98,
   "metadata": {},
   "outputs": [],
   "source": []
  },
  {
   "cell_type": "code",
   "execution_count": 99,
   "metadata": {},
   "outputs": [
    {
     "data": {
      "text/plain": [
       "[['@HWUSI-EAS522:8:5:662:694#0/1\\n',\n",
       "  'TCTGCCAGAGGCCTGTATTCACAGGTACTTCTTA\\n',\n",
       "  '+HWUSI-EAS522:8:5:662:694#0/1\\n',\n",
       "  'aaaa`aa`aa`]__`aa`_u[_a`^\\\\\\\\utwz`x^\\n']]"
      ]
     },
     "execution_count": 99,
     "metadata": {},
     "output_type": "execute_result"
    }
   ],
   "source": [
    "output_list"
   ]
  }
 ],
 "metadata": {
  "kernelspec": {
   "display_name": "Python 3",
   "language": "python",
   "name": "python3"
  },
  "language_info": {
   "codemirror_mode": {
    "name": "ipython",
    "version": 3
   },
   "file_extension": ".py",
   "mimetype": "text/x-python",
   "name": "python",
   "nbconvert_exporter": "python",
   "pygments_lexer": "ipython3",
   "version": "3.7.1"
  }
 },
 "nbformat": 4,
 "nbformat_minor": 2
}
