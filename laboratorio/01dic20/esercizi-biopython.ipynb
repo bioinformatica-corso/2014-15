{
 "cells": [
  {
   "cell_type": "markdown",
   "metadata": {},
   "source": [
    "# Biopython\n",
    "\n",
    "Biopython è un open-source package che mette a disposizione i package che contengono i moduli per usare Python in applicazioni bioinformatiche."
   ]
  },
  {
   "cell_type": "markdown",
   "metadata": {},
   "source": [
    "Package principale di Biopython: `Bio`\n",
    "\n",
    "Installare il package `Bio`."
   ]
  },
  {
   "cell_type": "code",
   "execution_count": null,
   "metadata": {},
   "outputs": [],
   "source": [
    "!conda install -y -c conda-forge biopython"
   ]
  },
  {
   "cell_type": "markdown",
   "metadata": {},
   "source": [
    "Importare il package `Bio`."
   ]
  },
  {
   "cell_type": "code",
   "execution_count": null,
   "metadata": {},
   "outputs": [],
   "source": []
  },
  {
   "cell_type": "markdown",
   "metadata": {},
   "source": [
    "Per vedere cosa contiene basta usare la funzione `help()` e passare come argomento il nome del package."
   ]
  },
  {
   "cell_type": "code",
   "execution_count": null,
   "metadata": {},
   "outputs": [],
   "source": []
  },
  {
   "cell_type": "markdown",
   "metadata": {},
   "source": [
    "## Cosa vedremo\n",
    "\n",
    "- gli oggetti di tipo `Seq` e `MutableSeq` che rappresentano una sequenza biologica (DNA, RNA o proteina)\n",
    "- l'oggetto di tipo `SeqRecord` che rappresenta una sequenza biologica annotata\n",
    "- il package `Bio.SeqIO` che mette a disposizione l'interfaccia di input/output per una serie di formati standard (`EMBL`, `FASTA`, `FASTQ`, etc.)"
   ]
  },
  {
   "cell_type": "markdown",
   "metadata": {},
   "source": [
    "## Gli oggetti di tipo  `Seq` e `MutableSeq`"
   ]
  },
  {
   "cell_type": "markdown",
   "metadata": {},
   "source": [
    "Le classi `Seq` e `MutableSeq` appartengono al modulo `Seq` (del package `Bio`) che è il modulo che definisce le classi per manipolare sequenze biologiche."
   ]
  },
  {
   "cell_type": "markdown",
   "metadata": {},
   "source": [
    "Importare il package `Seq`."
   ]
  },
  {
   "cell_type": "code",
   "execution_count": 6,
   "metadata": {},
   "outputs": [],
   "source": [
    "from Bio import Seq"
   ]
  },
  {
   "cell_type": "markdown",
   "metadata": {},
   "source": [
    "Per vedere cosa contiene basta usare la funzione `help()` e passare come argomento il nome del package."
   ]
  },
  {
   "cell_type": "code",
   "execution_count": null,
   "metadata": {},
   "outputs": [],
   "source": []
  },
  {
   "cell_type": "markdown",
   "metadata": {},
   "source": [
    "Importare le due classi `Seq` e `MutableSeq`."
   ]
  },
  {
   "cell_type": "code",
   "execution_count": null,
   "metadata": {},
   "outputs": [],
   "source": []
  },
  {
   "cell_type": "markdown",
   "metadata": {},
   "source": [
    "Per vedere cosa contengono basta usare la funzione `help()` e passare come argomento il nome delle classi."
   ]
  },
  {
   "cell_type": "code",
   "execution_count": null,
   "metadata": {},
   "outputs": [],
   "source": []
  },
  {
   "cell_type": "markdown",
   "metadata": {},
   "source": [
    "Gli oggetti di tipo `Seq` sono immutabili, mentre quelli di tipo `MutableSeq` sono mutabili."
   ]
  },
  {
   "cell_type": "markdown",
   "metadata": {},
   "source": [
    "### Costruzione di un oggetto di tipo `Seq`"
   ]
  },
  {
   "cell_type": "markdown",
   "metadata": {},
   "source": [
    "Il costruttore `Seq()` prende come argomento la stringa di una sequenza primaria (oggetto `str`):\n",
    "    \n",
    "       Seq(primary_string)\n",
    "     \n",
    "e restituisce l'oggetto che rappresenta la sequenza biologica che ha `primary_string` come sequenza primaria.\n",
    "\n",
    "**ESERCIZIO**: costruire l'oggetto sequenza `my_seq1` che ha sequenza primaria `GTGGATTGCCGGAAATTT`."
   ]
  },
  {
   "cell_type": "code",
   "execution_count": null,
   "metadata": {},
   "outputs": [],
   "source": []
  },
  {
   "cell_type": "markdown",
   "metadata": {},
   "source": [
    "Si stampi con la funzione `print()` la sequenza primaria."
   ]
  },
  {
   "cell_type": "code",
   "execution_count": null,
   "metadata": {},
   "outputs": [],
   "source": []
  },
  {
   "cell_type": "markdown",
   "metadata": {},
   "source": [
    "Per convertire l'oggetto di tipo `Seq` in un oggetto di tipo `str` basta invocare la funzione `str()` con `my_seq1` come argomento."
   ]
  },
  {
   "cell_type": "code",
   "execution_count": null,
   "metadata": {},
   "outputs": [],
   "source": []
  },
  {
   "cell_type": "markdown",
   "metadata": {},
   "source": [
    "### Lunghezza di una sequenza"
   ]
  },
  {
   "cell_type": "markdown",
   "metadata": {},
   "source": [
    "La funzione `len()` restituisce la lunghezza della sequenza passata come argomento.\n",
    "\n",
    "**ESERCIZIO**: ottenere la lunghezza della sequenza `my_seq1`"
   ]
  },
  {
   "cell_type": "code",
   "execution_count": null,
   "metadata": {},
   "outputs": [],
   "source": []
  },
  {
   "cell_type": "markdown",
   "metadata": {},
   "source": [
    "### Qualche metodo degli oggetti di tipo `Seq`"
   ]
  },
  {
   "cell_type": "markdown",
   "metadata": {},
   "source": [
    "- I metodi `lower()` e `upper()` restituiscono la versione in minuscolo e in maiuscolo della sequenza invocante."
   ]
  },
  {
   "cell_type": "markdown",
   "metadata": {},
   "source": [
    "**ESERCIZIO**: ottenere la versione in minuscolo della sequenza `my_seq1`."
   ]
  },
  {
   "cell_type": "code",
   "execution_count": null,
   "metadata": {},
   "outputs": [],
   "source": []
  },
  {
   "cell_type": "markdown",
   "metadata": {},
   "source": [
    "- Il metodo `find()` restituisce la prima occorrenza di una data sottostringa nella sequenza invocante."
   ]
  },
  {
   "cell_type": "markdown",
   "metadata": {},
   "source": [
    "**ESERCIZIO**: produrre la prima occorrenza di `GATT` nella sequenza `my_seq1`."
   ]
  },
  {
   "cell_type": "code",
   "execution_count": null,
   "metadata": {},
   "outputs": [],
   "source": []
  },
  {
   "cell_type": "markdown",
   "metadata": {},
   "source": [
    "- Il metodo `count()` restituisce il numero di occorrenze non sovrapposte di una data sottostringa nella sequenza invocante."
   ]
  },
  {
   "cell_type": "markdown",
   "metadata": {},
   "source": [
    "**ESERCIZIO**: creare la sequenza `AAAAAA` nella variablile `my_seq2` e contare il numero di occorrenze non sovrapposte di `AAA`."
   ]
  },
  {
   "cell_type": "code",
   "execution_count": null,
   "metadata": {},
   "outputs": [],
   "source": []
  },
  {
   "cell_type": "markdown",
   "metadata": {},
   "source": [
    "**NB**: il metodo `count` degli oggetti `Seq` ha lo stesso comportamento del metodo `count` degli oggetti `str`."
   ]
  },
  {
   "cell_type": "markdown",
   "metadata": {},
   "source": [
    "- Il metodo `count_overlap()` restituisce il numero di occorrenze sovrapposte di una data sottostringa nella sequenza invocante."
   ]
  },
  {
   "cell_type": "markdown",
   "metadata": {},
   "source": [
    "**ESERCIZIO**: contare il numero di occorrenze sovrapposte di `AAA` nella sequenza `my_seq2`."
   ]
  },
  {
   "cell_type": "code",
   "execution_count": null,
   "metadata": {},
   "outputs": [],
   "source": []
  },
  {
   "cell_type": "markdown",
   "metadata": {},
   "source": [
    "- Il metodo `tomutable()` restituisce una copia mutabile (oggetto di tipo `MutableSeq`) della sequenza invocante."
   ]
  },
  {
   "cell_type": "markdown",
   "metadata": {},
   "source": [
    "**ESERCIZIO**: creare nella variabile `my_m_seq` una sequenza mutabile a partire dalla sequenza immutabile che ha sequenza primaria `ACTTTGAAAG`."
   ]
  },
  {
   "cell_type": "code",
   "execution_count": null,
   "metadata": {},
   "outputs": [],
   "source": []
  },
  {
   "cell_type": "markdown",
   "metadata": {},
   "source": [
    "### Accesso alla sequenza"
   ]
  },
  {
   "cell_type": "markdown",
   "metadata": {},
   "source": [
    "L'espressione:\n",
    "\n",
    "    my_seq[index]\n",
    "    \n",
    "restituisce il carattere alla posizione di indice `index` della sequenza `my_seq`. L'oggetto restituito è di tipo `str`.\n",
    "\n",
    "**ESERCIZIO**: accedere al quarto carattere della sequenza `my_seq1` dopo averla stampata con la funzione `print()`."
   ]
  },
  {
   "cell_type": "code",
   "execution_count": null,
   "metadata": {},
   "outputs": [],
   "source": []
  },
  {
   "cell_type": "markdown",
   "metadata": {},
   "source": [
    "L'espressione di *slicing*:\n",
    "\n",
    "    my_seq[start:end:step]\n",
    "    \n",
    "restituisce i caratteri della sequenza `my_seq` a partire dalla posizione di indice `start` fino alla posizione immediatamente prima a quella di indice `end`, con un passo `step`. L'oggetto restituito è in questo caso di tipo `Seq`.\n",
    "\n",
    "**ESERCIZIO**: accedere alla sottosequenza di `my_seq1` che va dal quinto al decimo carattere."
   ]
  },
  {
   "cell_type": "code",
   "execution_count": null,
   "metadata": {},
   "outputs": [],
   "source": []
  },
  {
   "cell_type": "markdown",
   "metadata": {},
   "source": [
    "**ESERCIZIO**: ottenere tramite un'operazione di *slicing* il reverse di `my_seq1`."
   ]
  },
  {
   "cell_type": "code",
   "execution_count": null,
   "metadata": {},
   "outputs": [],
   "source": []
  },
  {
   "cell_type": "markdown",
   "metadata": {},
   "source": [
    "### Verifica della presenza di una sottostringa in una sequenza\n",
    "\n",
    "L'espressione:\n",
    "\n",
    "    my_str in my_seq\n",
    "\n",
    "restituisce `True` se la stringa `my_str` occorre nella sequenza `my_seq`\n",
    "\n",
    "**ESERCIZIO**: verificare la presenza della stringa `CC` nella sequenza `my_seq1` dopo averla stampata con la funzione `print()`."
   ]
  },
  {
   "cell_type": "code",
   "execution_count": null,
   "metadata": {},
   "outputs": [],
   "source": []
  },
  {
   "cell_type": "markdown",
   "metadata": {},
   "source": [
    "### Attraversamento di una sequenza\n",
    "\n",
    "L'operatore `in` può essere utilizzato per attraversare i caratteri di una sequenza, nel seguente modo:\n",
    "\n",
    "    for my_char in my_seq:\n",
    "        do_something    \n",
    "\n",
    "**ESERCIZIO**: attraversare la sequenza `my_seq1` e stampare ogni singolo carattere."
   ]
  },
  {
   "cell_type": "code",
   "execution_count": null,
   "metadata": {},
   "outputs": [],
   "source": []
  },
  {
   "cell_type": "markdown",
   "metadata": {},
   "source": [
    "### Concatenazione di sequenze\n",
    "\n",
    "L'operatore `+` permette di concatenare sequenze.\n",
    "\n",
    "**ESERCIZIO**: concatenare due sequenze di DNA uguali a `ACGT`."
   ]
  },
  {
   "cell_type": "code",
   "execution_count": null,
   "metadata": {},
   "outputs": [],
   "source": []
  },
  {
   "cell_type": "markdown",
   "metadata": {},
   "source": [
    "### Ripetizione di sequenze\n",
    "\n",
    "L'operatore `*` permette di ripetere sequenze.\n",
    "\n",
    "**ESERCIZIO**: ripetere due sequenze di DNA uguali a `ACGT`."
   ]
  },
  {
   "cell_type": "code",
   "execution_count": null,
   "metadata": {},
   "outputs": [],
   "source": []
  },
  {
   "cell_type": "markdown",
   "metadata": {},
   "source": [
    "### Confronto tra sequenze\n",
    "\n",
    "L'espressione:\n",
    "\n",
    "    my_seq1 == my_seq2\n",
    "    \n",
    "restituisce `True` se la sequenza primaria di `my_seq1` è uguale a quella di `my_seq2`.\n",
    "\n",
    "**ESERCIZIO**: confrontare due sequenze con sequenza primaria `ACGT`."
   ]
  },
  {
   "cell_type": "code",
   "execution_count": null,
   "metadata": {},
   "outputs": [],
   "source": []
  },
  {
   "cell_type": "markdown",
   "metadata": {},
   "source": [
    "### Complement e Reverse&Complement di una sequenza di DNA o di RNA\n",
    "\n",
    "- Il metodo `complement()` restituisce il complemento della sequenza invocante, e tiene conto dell'alfabeto ambiguo di DNA e di RNA (IUPAC CODE).\n",
    "\n",
    "L'alfabeto ambiguo di DNA o di RNA è `{G,A,T|U,C,R,Y,W,S,M,K,H,B,V,D,N}` con `T` se DNA e `U` se RNA. Cioè è l'estensione dell'alfabeto dei quattro nucleoitidi con lettere che rappresentano ambiguità tra nucleotidi.\n",
    "Precisamente:\n",
    "\n",
    "    \n",
    "    R \tA or G\n",
    "    Y \tC or T|U\n",
    "    S \tG or C\n",
    "    W \tA or T|U\n",
    "    K \tG or T|U\n",
    "    M \tA or C\n",
    "    B \tC or G or T|U\n",
    "    D \tA or G or T|\n",
    "    H \tA or C or T|U\n",
    "    V \tA or C or G\n",
    "    N \tany base\n",
    "\n",
    "**ESERCIZIO**: costruire nella variabile `my_seq3` la sequenza `ACGTGAGGACCCTTT`, e ottenere il suo complement."
   ]
  },
  {
   "cell_type": "code",
   "execution_count": null,
   "metadata": {},
   "outputs": [],
   "source": []
  },
  {
   "cell_type": "markdown",
   "metadata": {},
   "source": [
    "**ESERCIZIO**: costruire nella variabile `my_seq4` la sequenza `BBBB`, e ottenere il suo complement."
   ]
  },
  {
   "cell_type": "code",
   "execution_count": null,
   "metadata": {},
   "outputs": [],
   "source": []
  },
  {
   "cell_type": "markdown",
   "metadata": {},
   "source": [
    "**NOTA BENE:** il complemento della sequenza `BBBB` è `VVVV` in quanto il carattere `B` nello IUPAC CODE codifica l'ambiguità tra `C`, `G` e `T|U`. Di conseguenza il suo complemento sarà l'ambiguità tra `G`, `C` e `A` codificata dal carattere `V`."
   ]
  },
  {
   "cell_type": "markdown",
   "metadata": {},
   "source": [
    "- Il metodo `reverse_complement()` restituisce il reverse&complement della sequenza invocante."
   ]
  },
  {
   "cell_type": "markdown",
   "metadata": {},
   "source": [
    "**ESERCIZIO**: costruire nella variabile `my_seq5` la sequenza `AAACCCTTTGGG`, e ottenere il suo reverse&complement."
   ]
  },
  {
   "cell_type": "code",
   "execution_count": null,
   "metadata": {},
   "outputs": [],
   "source": []
  },
  {
   "cell_type": "markdown",
   "metadata": {},
   "source": [
    "### Trascrizione di una sequenza di DNA\n",
    "\n",
    "- Il metodo `transcribe()` restituisce il risultato della trascrizione della sequenza di DNA invocante, intesa come sostituzione di tutti i caratteri `T` con caratteri `U`.\n",
    "\n",
    "**ESERCIZIO**: costruire nella variabile `my_seq6` la sequenza `ACGTGAGGACCCTTT`, e ottenere la sua trascrizione."
   ]
  },
  {
   "cell_type": "code",
   "execution_count": null,
   "metadata": {},
   "outputs": [],
   "source": []
  },
  {
   "cell_type": "markdown",
   "metadata": {},
   "source": [
    "- Il metodo `back_transcribe()` restituisce il risultato della retrotrascrizione della sequenza di RNA invocante, intesa come sostituzione di tutti i caratteri `U` con caratteri `T`.\n",
    "\n",
    "**ESERCIZIO**: costruire nella variabile `my_seq7` la sequenza `ACGUGAGGACCCUUU`, e ottenere la sua retrotrascrizione."
   ]
  },
  {
   "cell_type": "code",
   "execution_count": null,
   "metadata": {},
   "outputs": [],
   "source": []
  },
  {
   "cell_type": "markdown",
   "metadata": {},
   "source": [
    "### Traduzione di una sequenza di DNA o di RNA\n",
    "\n",
    "- Il metodo `translate()` restituisce il risultato della traduzione della sequenza di DNA o di RNA invocante secondo il codice genetico. La lunghezza della sequenza invocante deve essere un multiplo di tre.\n",
    "\n",
    "**ESERCIZIO**: ottenere la traduzione della sequenza `my_seq7` dopo averla stampata con la funzione `print()`. "
   ]
  },
  {
   "cell_type": "code",
   "execution_count": null,
   "metadata": {},
   "outputs": [],
   "source": []
  },
  {
   "cell_type": "markdown",
   "metadata": {},
   "source": [
    "**NOTA BENE**: il simbolo `*` indica che il secondo codone è uno stop codon."
   ]
  },
  {
   "cell_type": "markdown",
   "metadata": {},
   "source": [
    "**ESERCIZIO**: costruire nella variabile `my_seq8` la sequenza `ATGGCCATTGTAATGGGCCGCTGAAAGGGTGCCCGATAG`, e ottenere la sua traduzione."
   ]
  },
  {
   "cell_type": "code",
   "execution_count": null,
   "metadata": {},
   "outputs": [],
   "source": []
  },
  {
   "cell_type": "markdown",
   "metadata": {},
   "source": [
    "Passando al metodo `translate()` l'attributo `to_stop` uguale a `True` (di *default* il metodo assume che l'attributo `to_stop` sia `False`), la traduzione viene fermata al primo codone di stop incontrato."
   ]
  },
  {
   "cell_type": "markdown",
   "metadata": {},
   "source": [
    "**ESERCIZIO**: ottenere la traduzione di `my_seq8` fino al primo codone di stop."
   ]
  },
  {
   "cell_type": "code",
   "execution_count": null,
   "metadata": {},
   "outputs": [],
   "source": []
  },
  {
   "cell_type": "markdown",
   "metadata": {},
   "source": [
    "Il metodo `translate()` usa di *default* il codice genetico standard.\n",
    "\n",
    "Se si vogliono usare codici differenti allora deve essere specificato il valore dell'attributo `table` che può essere scelto tra uno degli indici interi definiti da NCBI (https://www.ncbi.nlm.nih.gov/Taxonomy/Utils/wprintgc.cgi) che identifica un codice genetico tra quelli disponibili. L'indice 1 (valore di *default*) è relativo al codice standard.\n",
    "\n",
    "**ESERCIZIO**: ottenere la traduzione della sequenza `my_seq8` sulla base del codice genetico mitocondriale (`table=2`)."
   ]
  },
  {
   "cell_type": "code",
   "execution_count": null,
   "metadata": {},
   "outputs": [],
   "source": []
  },
  {
   "cell_type": "markdown",
   "metadata": {},
   "source": [
    "### Sequenze mutabili\n",
    "\n",
    "Le sequenze mutabili sono oggetti di tipo `MutableSeq`."
   ]
  },
  {
   "cell_type": "markdown",
   "metadata": {},
   "source": [
    "**ESERCIZIO**: creare la sequenza mutabile `my_m_seq` con sequenza primaria `ACTTTGAAAG`, stamparla, cambiare il primo carattere in una `T` e stamparla di nuovo."
   ]
  },
  {
   "cell_type": "code",
   "execution_count": null,
   "metadata": {},
   "outputs": [],
   "source": []
  },
  {
   "cell_type": "markdown",
   "metadata": {},
   "source": [
    "### Qualche metodo degli oggetti di tipo `MutableSeq`"
   ]
  },
  {
   "cell_type": "markdown",
   "metadata": {},
   "source": [
    "- Il metodo `remove()` rimuove dalla sequenza invocante la prima occorrenza del carattere passato come argomento."
   ]
  },
  {
   "cell_type": "markdown",
   "metadata": {},
   "source": [
    "**ESERCIZIO**: rimuovere da `my_m_seq` la prima occorrenza di `C`."
   ]
  },
  {
   "cell_type": "code",
   "execution_count": null,
   "metadata": {},
   "outputs": [],
   "source": []
  },
  {
   "cell_type": "markdown",
   "metadata": {},
   "source": [
    "- Il metodo `reverse()` opera il reverse sulla sequenza invocante."
   ]
  },
  {
   "cell_type": "markdown",
   "metadata": {},
   "source": [
    "**ESERCIZIO**: operare il reverse su `my_m_seq`."
   ]
  },
  {
   "cell_type": "code",
   "execution_count": null,
   "metadata": {},
   "outputs": [],
   "source": []
  },
  {
   "cell_type": "markdown",
   "metadata": {},
   "source": [
    "- Il metodo `complement()` opera il complement sulla sequenza invocante."
   ]
  },
  {
   "cell_type": "markdown",
   "metadata": {},
   "source": [
    "**ESERCIZIO**: operare il complement su `my_m_seq`."
   ]
  },
  {
   "cell_type": "code",
   "execution_count": null,
   "metadata": {},
   "outputs": [],
   "source": []
  },
  {
   "cell_type": "markdown",
   "metadata": {},
   "source": [
    "- Il metodo `reverse_complement()` opera il reverse&complement sulla sequenza invocante."
   ]
  },
  {
   "cell_type": "markdown",
   "metadata": {},
   "source": [
    "**ESERCIZIO**: operare il reverse&complement su `my_m_seq`."
   ]
  },
  {
   "cell_type": "code",
   "execution_count": null,
   "metadata": {},
   "outputs": [],
   "source": []
  },
  {
   "cell_type": "markdown",
   "metadata": {},
   "source": [
    "- Il metodo `toseq()` restituisce una copia immutabile (oggetto di tipo `Seq`) della sequenza invocante."
   ]
  },
  {
   "cell_type": "markdown",
   "metadata": {},
   "source": [
    "**ESERCIZIO**: ottenere da `my_m_seq` un oggetto di tipo `Seq`."
   ]
  },
  {
   "cell_type": "code",
   "execution_count": null,
   "metadata": {},
   "outputs": [],
   "source": []
  },
  {
   "cell_type": "markdown",
   "metadata": {},
   "source": [
    "## L'oggetto di tipo `SeqRecord`"
   ]
  },
  {
   "cell_type": "markdown",
   "metadata": {},
   "source": [
    "La classe `SeqRecord` appartiene al modulo `SeqRecord` (del package `Bio`) ed è la classe che permette di rappresentare e manipolare sequenze annotate.\n",
    "\n",
    "Importare il package `SeqRecord`."
   ]
  },
  {
   "cell_type": "code",
   "execution_count": null,
   "metadata": {},
   "outputs": [],
   "source": []
  },
  {
   "cell_type": "markdown",
   "metadata": {},
   "source": [
    "Per vedere cosa contiene basta invocare la funzione `help()` passando come argomento il nome del package."
   ]
  },
  {
   "cell_type": "code",
   "execution_count": null,
   "metadata": {},
   "outputs": [],
   "source": []
  },
  {
   "cell_type": "markdown",
   "metadata": {},
   "source": [
    "La classe `SeqRecord` rappresenta una sequenza annotata, cioè un oggetto di tipo `Seq` con l'aggiunta di informazioni.\n",
    "\n",
    "Importare la classe `SeqRecord`."
   ]
  },
  {
   "cell_type": "code",
   "execution_count": null,
   "metadata": {},
   "outputs": [],
   "source": []
  },
  {
   "cell_type": "markdown",
   "metadata": {},
   "source": [
    "Per vedere cosa contiene basta invocare la funzione `help()` passando come argomento il nome della classe."
   ]
  },
  {
   "cell_type": "code",
   "execution_count": null,
   "metadata": {},
   "outputs": [],
   "source": []
  },
  {
   "cell_type": "markdown",
   "metadata": {},
   "source": [
    "Gli oggetti di tipo `SeqRecord` contengono i seguenti attributi:\n",
    "\n",
    "- `seq`: oggetto di tipo `Seq` che rappresenta la sequenza biologica\n",
    "- `id`: oggetto di tipo `str` che fornisce l'identificatore univoco (*Accession Number*)\n",
    "- `name`: oggetto di tipo `str` che fornisce il nome della sequenza (può anche essere l'*Accession Number* stesso)\n",
    "- `description`: oggetto di tipo `str` che fornisce la descrizione della sequenza\n",
    "- `annotations`: oggetto di tipo `dict` che fornisce le informazioni sulla sequenza. Le chiavi sono i nomi delle informazioni e i valori sono le informazioni associate\n",
    "- `letter_annotations`: oggetto di tipo `dict` che annota la sequenza lettera per lettera. Le chiavi sono i nomi delle informazioni e i valori sono liste che forniscono le informazioni per ognuna delle lettere della sequenza\n",
    "- `features`: oggetto di tipo `list` che contiene oggetti di tipo `SeqFeature` che forniscono le *features* annotate sulla sequenza\n",
    "- `dbxrefs`: oggetto di tipo `list` che contiene oggetti di tipo `str` che forniscono le cross-references alle banche dati in cui è memorizzata la sequenza\n",
    "\n",
    "La classe `SeqRecord` è il tipo di oggetto che viene manipolato dalle funzioni di input/output contenute nel modulo `SeqIO` in relazione ai vari formati standard supportati (`EMBL`,`FASTA`, `FASTQ`, etc.), ."
   ]
  },
  {
   "cell_type": "markdown",
   "metadata": {},
   "source": [
    "### Costruzione di una sequenza annotata *from scratch*"
   ]
  },
  {
   "cell_type": "markdown",
   "metadata": {},
   "source": [
    "Di solito gli oggetti di tipo `SeqRecord` vengono ottenuti dalla lettura di un file in uno dei formati standard della Bioinformatica, ma una sequenza annotata può anche essere costruita da zero tramite il suo costruttore `SeqREcord()`, a cui può essere passato come argomento un oggetto di tipo `Seq`.\n",
    "\n",
    "**ESERCIZIO**: costruire la sequenza annotata `annotated_sequence` con sequenza primaria `AGCCGTTTTAAAAAGCCGTTTTAAAAAGCCGTTTTAAAAAGCCGTTTTAAAAAGCCGTTTTAAAA`."
   ]
  },
  {
   "cell_type": "code",
   "execution_count": null,
   "metadata": {},
   "outputs": [],
   "source": []
  },
  {
   "cell_type": "markdown",
   "metadata": {},
   "source": [
    "Si stampi l'oggetto usando la funzione `print()`"
   ]
  },
  {
   "cell_type": "code",
   "execution_count": null,
   "metadata": {},
   "outputs": [],
   "source": []
  },
  {
   "cell_type": "markdown",
   "metadata": {},
   "source": [
    "**NOTA BENE**: solo l'attributo `seq` non è *unknown* e contiene la sequenza (oggetto `Seq`) passata come argomento.\n",
    "\n",
    "L'attributo `annotations` contiene un dizionario delle annotazioni vuoto."
   ]
  },
  {
   "cell_type": "code",
   "execution_count": null,
   "metadata": {},
   "outputs": [],
   "source": []
  },
  {
   "cell_type": "markdown",
   "metadata": {},
   "source": [
    "L'attributo `letter_annotations` contiene un dizionario delle annotazioni per lettera vuoto."
   ]
  },
  {
   "cell_type": "code",
   "execution_count": null,
   "metadata": {},
   "outputs": [],
   "source": []
  },
  {
   "cell_type": "markdown",
   "metadata": {},
   "source": [
    "L'attributo `features` contiene una lista delle features vuota."
   ]
  },
  {
   "cell_type": "code",
   "execution_count": null,
   "metadata": {},
   "outputs": [],
   "source": []
  },
  {
   "cell_type": "markdown",
   "metadata": {},
   "source": [
    "Si associ a questo punto alla sequenza annotata l'identificatore univoco `AA00000` e il nome `AA00000`,"
   ]
  },
  {
   "cell_type": "code",
   "execution_count": null,
   "metadata": {},
   "outputs": [],
   "source": []
  },
  {
   "cell_type": "markdown",
   "metadata": {},
   "source": [
    "e la descrizione `Questa e' una sequenza annotata di prova`."
   ]
  },
  {
   "cell_type": "code",
   "execution_count": null,
   "metadata": {},
   "outputs": [],
   "source": []
  },
  {
   "cell_type": "markdown",
   "metadata": {},
   "source": [
    "Si ottenga la sequenza primaria della sequenza annotata come oggetto di tipo `str`."
   ]
  },
  {
   "cell_type": "code",
   "execution_count": null,
   "metadata": {},
   "outputs": [],
   "source": []
  },
  {
   "cell_type": "markdown",
   "metadata": {},
   "source": [
    "### Formattazione di una sequenza annotata"
   ]
  },
  {
   "cell_type": "markdown",
   "metadata": {},
   "source": [
    "Il metodo `format()` degli oggetti di tipo `SeqRecord` restituisce la stringa ottenuta formattando la sequenza annotata invocante nel formato specificato dalla stringa passata come argomento.\n",
    "\n",
    "**ESERCIZIO**: formattare in `FASTA` la sequenza annotata `annotated_sequence` dopo averla stampata con la funzione `print()`."
   ]
  },
  {
   "cell_type": "code",
   "execution_count": null,
   "metadata": {},
   "outputs": [],
   "source": []
  },
  {
   "cell_type": "markdown",
   "metadata": {},
   "source": [
    "Stampare la sequenza formattata usando la funzione `print()`."
   ]
  },
  {
   "cell_type": "code",
   "execution_count": null,
   "metadata": {},
   "outputs": [],
   "source": []
  },
  {
   "cell_type": "markdown",
   "metadata": {},
   "source": [
    "## Il package `SeqIO`"
   ]
  },
  {
   "cell_type": "markdown",
   "metadata": {},
   "source": [
    "`SeqIO` è il package per leggere/scrivere un file in un uno dei formati standard (`EMBL`, `FASTA`, `FASTQ`, etc.).\n",
    "\n",
    "Importare il package `SeqIO`."
   ]
  },
  {
   "cell_type": "code",
   "execution_count": 16,
   "metadata": {},
   "outputs": [],
   "source": []
  },
  {
   "cell_type": "markdown",
   "metadata": {},
   "source": [
    "Per vedere cosa contiene basta invocare la funzione `help()` passando come argomento il nome del package."
   ]
  },
  {
   "cell_type": "code",
   "execution_count": null,
   "metadata": {},
   "outputs": [],
   "source": []
  },
  {
   "cell_type": "markdown",
   "metadata": {},
   "source": [
    "- La funzione `read()` permette di leggere un file in un certo formato e composto da un solo *record* (ad esempio una sola sequenza nel caso di `FASTA`). Il nome del file viene passato come primo argomento e il formato viene passato come secondo argomento (oggetto di tipo `str`). Viene restituito un oggetto di tipo `SeqRecord`.\n",
    "\n",
    "- La funzione `parse()` permette di leggere un file in un certo formato e composto da più *record* (ad esempio più sequenze nela caso di `FASTA`. Il nome del file viene passato come primo argomento e il formato viene passato come secondo argomento (oggetto di tipo `str`). La Viene restituito un generatore di oggetti di tipo `SeqRecord`."
   ]
  },
  {
   "cell_type": "markdown",
   "metadata": {},
   "source": [
    "**ESERCIZIO**: leggere nella variabile `fasta_record` l'unico *record* del file `ENm006.fa` che contiene una sequenza genomica di riferimento. Stamparlo con la funzione `print()`."
   ]
  },
  {
   "cell_type": "code",
   "execution_count": null,
   "metadata": {},
   "outputs": [],
   "source": []
  },
  {
   "cell_type": "markdown",
   "metadata": {},
   "source": [
    "Stampare l'attributo `seq` dell'oggetto `fasta_record` che contiene il riferimento alla sequenza (oggetto di tipo `Seq`) contenuta nel *record*."
   ]
  },
  {
   "cell_type": "code",
   "execution_count": null,
   "metadata": {},
   "outputs": [],
   "source": []
  },
  {
   "cell_type": "markdown",
   "metadata": {},
   "source": [
    "Per recuperare la sequenza primaria (come oggetto di tipo `str`) basta invocare la funzione `str()` passando l'attributo `seq` di `fasta_record` come argomento."
   ]
  },
  {
   "cell_type": "code",
   "execution_count": null,
   "metadata": {},
   "outputs": [],
   "source": []
  },
  {
   "cell_type": "markdown",
   "metadata": {},
   "source": [
    "Gli attributi dell'oggetto di `fasta_record` sono:\n",
    "\n",
    "    id"
   ]
  },
  {
   "cell_type": "code",
   "execution_count": null,
   "metadata": {},
   "outputs": [],
   "source": []
  },
  {
   "cell_type": "markdown",
   "metadata": {},
   "source": [
    "    name"
   ]
  },
  {
   "cell_type": "code",
   "execution_count": null,
   "metadata": {},
   "outputs": [],
   "source": []
  },
  {
   "cell_type": "markdown",
   "metadata": {},
   "source": [
    "    description"
   ]
  },
  {
   "cell_type": "code",
   "execution_count": null,
   "metadata": {},
   "outputs": [],
   "source": []
  },
  {
   "cell_type": "markdown",
   "metadata": {},
   "source": [
    "    annotations"
   ]
  },
  {
   "cell_type": "code",
   "execution_count": null,
   "metadata": {},
   "outputs": [],
   "source": []
  },
  {
   "cell_type": "markdown",
   "metadata": {},
   "source": [
    "    letter_annotations"
   ]
  },
  {
   "cell_type": "code",
   "execution_count": null,
   "metadata": {},
   "outputs": [],
   "source": []
  },
  {
   "cell_type": "markdown",
   "metadata": {},
   "source": [
    "    features"
   ]
  },
  {
   "cell_type": "code",
   "execution_count": null,
   "metadata": {},
   "outputs": [],
   "source": []
  },
  {
   "cell_type": "markdown",
   "metadata": {},
   "source": [
    "    dbxrefs"
   ]
  },
  {
   "cell_type": "code",
   "execution_count": null,
   "metadata": {},
   "outputs": [],
   "source": []
  },
  {
   "cell_type": "markdown",
   "metadata": {},
   "source": [
    "**ESERCIZIO**: leggere nella variabile `fasta_records` i *record* del file `ests.fa` contenente frammenti di trascritto (ESTs) relativi a un gene umano."
   ]
  },
  {
   "cell_type": "code",
   "execution_count": null,
   "metadata": {},
   "outputs": [],
   "source": []
  },
  {
   "cell_type": "markdown",
   "metadata": {},
   "source": [
    "I *record* (oggetti `SeqRecord`) possono essere estratti uno alla volta dal generatore `fasta_records` mediante scansione con un ciclo `for`."
   ]
  },
  {
   "cell_type": "markdown",
   "metadata": {},
   "source": [
    "Stampare uno dopo l'altro i *record* in `fasta_records` separandoli con la stringa `//`."
   ]
  },
  {
   "cell_type": "code",
   "execution_count": null,
   "metadata": {},
   "outputs": [],
   "source": []
  },
  {
   "cell_type": "markdown",
   "metadata": {},
   "source": [
    "In alternativa, i *record* possono essere estratti in una volta sola in una lista (da processare in seguito) invocando la funzione `list()` e passando come argomento il generatore stesso.\n",
    "\n",
    "**NOTA BENE**: una volta che il generatore è stato *consumato*, esso risulta vuoto. Quindi prima di costruire la lista occorre invocare di nuovo il metodo `parse()` per ricostituirlo."
   ]
  },
  {
   "cell_type": "markdown",
   "metadata": {},
   "source": [
    "Costruire la lista `fasta_record_list` (oggetto di tipo `list`) dei *record* (oggetti di tipo `SeqRecord`) del generatore `fasta_records`."
   ]
  },
  {
   "cell_type": "code",
   "execution_count": null,
   "metadata": {},
   "outputs": [],
   "source": []
  },
  {
   "cell_type": "markdown",
   "metadata": {},
   "source": [
    "Il numero dei *record* (numero degli ESTs) contenuti nel file `ests.fa` è:"
   ]
  },
  {
   "cell_type": "code",
   "execution_count": null,
   "metadata": {},
   "outputs": [],
   "source": []
  },
  {
   "cell_type": "markdown",
   "metadata": {},
   "source": [
    "A questo punto, estrarre per il primo EST:\n",
    "\n",
    "- la sequenza primaria (come oggetto di tipo `str`)"
   ]
  },
  {
   "cell_type": "code",
   "execution_count": null,
   "metadata": {},
   "outputs": [],
   "source": []
  },
  {
   "cell_type": "markdown",
   "metadata": {},
   "source": [
    "- l'identificatore univoco (in un oggetto di tipo `str`)"
   ]
  },
  {
   "cell_type": "code",
   "execution_count": null,
   "metadata": {},
   "outputs": [],
   "source": []
  },
  {
   "cell_type": "markdown",
   "metadata": {},
   "source": [
    "- il nome (in un oggetto di tipo `str`)"
   ]
  },
  {
   "cell_type": "code",
   "execution_count": null,
   "metadata": {},
   "outputs": [],
   "source": []
  },
  {
   "cell_type": "markdown",
   "metadata": {},
   "source": [
    "- la descrizione (in un oggetto di tipo `str`)"
   ]
  },
  {
   "cell_type": "code",
   "execution_count": null,
   "metadata": {},
   "outputs": [],
   "source": []
  },
  {
   "cell_type": "markdown",
   "metadata": {},
   "source": [
    "Ottenere la formattazione `FASTA` del primo EST e stamparla con la funzione `print()`."
   ]
  },
  {
   "cell_type": "code",
   "execution_count": null,
   "metadata": {},
   "outputs": [],
   "source": []
  },
  {
   "cell_type": "markdown",
   "metadata": {},
   "source": [
    "**ESERCIZIO**: leggere nella variabile `fastq_records` il file `input.fq` che contiene quattro reads in formato `FASTQ`."
   ]
  },
  {
   "cell_type": "code",
   "execution_count": null,
   "metadata": {},
   "outputs": [],
   "source": []
  },
  {
   "cell_type": "markdown",
   "metadata": {},
   "source": [
    "Ottenere la lista `fastq_record_list` dei *records* (oggetto di tipo `list`)."
   ]
  },
  {
   "cell_type": "code",
   "execution_count": null,
   "metadata": {},
   "outputs": [],
   "source": []
  },
  {
   "cell_type": "markdown",
   "metadata": {},
   "source": [
    "La sequenza primaria (oggetto di tipo `str`) del primo *record* (read) è:"
   ]
  },
  {
   "cell_type": "code",
   "execution_count": null,
   "metadata": {},
   "outputs": [],
   "source": []
  },
  {
   "cell_type": "markdown",
   "metadata": {},
   "source": [
    "L'identificatore del primo *record* è:"
   ]
  },
  {
   "cell_type": "code",
   "execution_count": null,
   "metadata": {},
   "outputs": [],
   "source": []
  },
  {
   "cell_type": "markdown",
   "metadata": {},
   "source": [
    "Accedere al dizionario delle annotazioni per lettera del primo *record*."
   ]
  },
  {
   "cell_type": "code",
   "execution_count": null,
   "metadata": {},
   "outputs": [],
   "source": []
  },
  {
   "cell_type": "markdown",
   "metadata": {},
   "source": [
    "Ottenere la formattazione in `FASTQ` del primo *record* e stamparla con la funzione `print()`."
   ]
  },
  {
   "cell_type": "code",
   "execution_count": null,
   "metadata": {},
   "outputs": [],
   "source": []
  },
  {
   "cell_type": "markdown",
   "metadata": {},
   "source": [
    "Ottenere la formattazione in `FASTA` del primo *record* (accettando di perdere la stringa di qualità) e stamparla con la funzione `print()`."
   ]
  },
  {
   "cell_type": "code",
   "execution_count": null,
   "metadata": {},
   "outputs": [],
   "source": []
  },
  {
   "cell_type": "markdown",
   "metadata": {},
   "source": [
    "**ESERCIZIO**: leggere nella variabile `embl_record` l'unico record del file `M10051.txt` che contiene una sequenza di mRNA in formato `EMBL`."
   ]
  },
  {
   "cell_type": "code",
   "execution_count": null,
   "metadata": {},
   "outputs": [],
   "source": []
  },
  {
   "cell_type": "markdown",
   "metadata": {},
   "source": [
    "L'attributo `seq` dell'oggetto `embl_record` contiene il riferimento alla sequenza (oggetto di tipo `Seq`)."
   ]
  },
  {
   "cell_type": "code",
   "execution_count": null,
   "metadata": {},
   "outputs": [],
   "source": []
  },
  {
   "cell_type": "markdown",
   "metadata": {},
   "source": [
    "La sequenza primaria (oggetto di tipo `str`) del *record* è:"
   ]
  },
  {
   "cell_type": "code",
   "execution_count": null,
   "metadata": {},
   "outputs": [],
   "source": []
  },
  {
   "cell_type": "markdown",
   "metadata": {},
   "source": [
    "Gli attributi del *record* sono:"
   ]
  },
  {
   "cell_type": "code",
   "execution_count": null,
   "metadata": {},
   "outputs": [],
   "source": []
  },
  {
   "cell_type": "markdown",
   "metadata": {},
   "source": [
    "L'attributo `features` fornisce in questo caso una lista di oggetti di tipo `SeqFeature` che rappresentano le *features* del *record*.\n",
    "\n",
    "Un oggetto di tipo `SeqFeature` possiede i seguenti attributi:\n",
    "- `type`: stringa che definisce il tipo di *feature* rappresentata\n",
    "- `location`: oggetto di tipo `FeatureLocation` che fornisce la localizzazione della *feature* sulla sequenza cui si fa riferimento\n",
    "\n",
    "Un oggetto di tipo `FeatureLocation` possiede a sua volta i seguenti attributi:\n",
    "- `start`: oggetto di tipo `ExactPosition` che fornisce lo start della localizzazione\n",
    "- `end`: oggetto di tipo `ExactPosition` che fornisce l'end della localizzazione\n",
    "\n",
    "La *feature* con attributo `type` uguale a `CDS` rappresenta la coding sequence della sequenza (terzo oggetto nella lista delle *features*). \n",
    "\n",
    "Accedere quindi al terzo oggetto della lista delle *features* (cioé la coding sequence della sequenza che è un mRNA), recuperare il suo start e il suo end come valori interi e produrre la sequenza della coding sequence in formato `FASTA`. Stampare lo start e l'end trovati"
   ]
  },
  {
   "cell_type": "code",
   "execution_count": null,
   "metadata": {},
   "outputs": [],
   "source": []
  },
  {
   "cell_type": "markdown",
   "metadata": {},
   "source": [
    "Lo start viene fornito 0-based mentre l'end viene fornito 1-based in maniera che siano già pronti per effettuare lo *slicing* della sequenza annotata `embl_record` (oggetto `SeqRecord`) e ottenere così la sequenza annotata (oggetto `SeqRecord`) della coding sequence."
   ]
  },
  {
   "cell_type": "code",
   "execution_count": null,
   "metadata": {},
   "outputs": [],
   "source": []
  },
  {
   "cell_type": "markdown",
   "metadata": {},
   "source": [
    "A questo punto la coding sequence può essere formattata in `FASTA` e stampata."
   ]
  },
  {
   "cell_type": "code",
   "execution_count": null,
   "metadata": {},
   "outputs": [],
   "source": []
  }
 ],
 "metadata": {
  "kernelspec": {
   "display_name": "Python 3",
   "language": "python",
   "name": "python3"
  },
  "language_info": {
   "codemirror_mode": {
    "name": "ipython",
    "version": 3
   },
   "file_extension": ".py",
   "mimetype": "text/x-python",
   "name": "python",
   "nbconvert_exporter": "python",
   "pygments_lexer": "ipython3",
   "version": "3.7.1"
  }
 },
 "nbformat": 4,
 "nbformat_minor": 2
}
