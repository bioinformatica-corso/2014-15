{
 "cells": [
  {
   "cell_type": "markdown",
   "metadata": {},
   "source": [
    "# Python - Sequenze (Stringhe, Liste e Tuple)"
   ]
  },
  {
   "cell_type": "markdown",
   "metadata": {},
   "source": [
    "## Definizione di *sequenza*\n",
    "\n",
    "**Sequenza**: collezione di oggetti su cui è possibile iterare e che sono indicizzati per posizione.\n",
    "\n",
    "**Stringa**: sequenza di caratteri\n",
    "- Classe: `str`\n",
    "- oggetto ___immutabile___\n",
    "\n",
    "**Lista**: sequenza di valori anche di tipo diverso\n",
    "- Classe: `list`\n",
    "- oggetto ***mutabile***\n",
    "\n",
    "**Tupla**: sequenza di valori anche di tipo diverso\n",
    "- Classe: `tuple`\n",
    "- oggetto ***immutabile***"
   ]
  },
  {
   "cell_type": "markdown",
   "metadata": {},
   "source": [
    "## Costruzione di una *sequenza*"
   ]
  },
  {
   "cell_type": "markdown",
   "metadata": {},
   "source": [
    "### Costruzione di una stringa"
   ]
  },
  {
   "cell_type": "markdown",
   "metadata": {},
   "source": [
    "**COSTRUZIONE TRAMITE LETTERALE**"
   ]
  },
  {
   "cell_type": "code",
   "execution_count": null,
   "metadata": {},
   "outputs": [],
   "source": [
    "\"ciao\""
   ]
  },
  {
   "cell_type": "code",
   "execution_count": null,
   "metadata": {},
   "outputs": [],
   "source": [
    "'ciao'"
   ]
  },
  {
   "cell_type": "markdown",
   "metadata": {},
   "source": [
    "Stringa vuota:"
   ]
  },
  {
   "cell_type": "code",
   "execution_count": null,
   "metadata": {},
   "outputs": [],
   "source": [
    "''"
   ]
  },
  {
   "cell_type": "markdown",
   "metadata": {},
   "source": [
    "Se uso i doppi apici posso usare i singoli apici come caratteri della stringa (e viceversa)."
   ]
  },
  {
   "cell_type": "code",
   "execution_count": null,
   "metadata": {},
   "outputs": [],
   "source": [
    "print(\"'ciao'\")"
   ]
  },
  {
   "cell_type": "code",
   "execution_count": null,
   "metadata": {},
   "outputs": [],
   "source": [
    "print('\"ciao\"')"
   ]
  },
  {
   "cell_type": "markdown",
   "metadata": {},
   "source": [
    "**COSTRUZIONE CON LA FUNZIONE `str()`**"
   ]
  },
  {
   "cell_type": "markdown",
   "metadata": {},
   "source": [
    "Stringa vuota:"
   ]
  },
  {
   "cell_type": "code",
   "execution_count": null,
   "metadata": {},
   "outputs": [],
   "source": [
    "str()"
   ]
  },
  {
   "cell_type": "markdown",
   "metadata": {},
   "source": [
    "Costruzione con letterale stringa:"
   ]
  },
  {
   "cell_type": "code",
   "execution_count": null,
   "metadata": {},
   "outputs": [],
   "source": [
    "str(\"ciao\")"
   ]
  },
  {
   "cell_type": "markdown",
   "metadata": {},
   "source": [
    "Costruzione con espressione aritmetica:"
   ]
  },
  {
   "cell_type": "code",
   "execution_count": null,
   "metadata": {},
   "outputs": [],
   "source": [
    "str(3+4)"
   ]
  },
  {
   "cell_type": "markdown",
   "metadata": {},
   "source": [
    "Costruzione con espressione di confronto:"
   ]
  },
  {
   "cell_type": "code",
   "execution_count": null,
   "metadata": {},
   "outputs": [],
   "source": [
    "str(34 > 0)"
   ]
  },
  {
   "cell_type": "markdown",
   "metadata": {},
   "source": [
    "### Costruzione di una lista"
   ]
  },
  {
   "cell_type": "markdown",
   "metadata": {},
   "source": [
    "**COSTRUZIONE TRAMITE LETTERALE**"
   ]
  },
  {
   "cell_type": "markdown",
   "metadata": {},
   "source": [
    "Lista vuota:"
   ]
  },
  {
   "cell_type": "code",
   "execution_count": null,
   "metadata": {},
   "outputs": [],
   "source": [
    "[]"
   ]
  },
  {
   "cell_type": "markdown",
   "metadata": {},
   "source": [
    "Lista di un solo valore:"
   ]
  },
  {
   "cell_type": "code",
   "execution_count": null,
   "metadata": {},
   "outputs": [],
   "source": [
    "[4]"
   ]
  },
  {
   "cell_type": "markdown",
   "metadata": {},
   "source": [
    "Lista di tre valori dello stesso tipo:"
   ]
  },
  {
   "cell_type": "code",
   "execution_count": null,
   "metadata": {},
   "outputs": [],
   "source": [
    "[1,2,3]"
   ]
  },
  {
   "cell_type": "markdown",
   "metadata": {},
   "source": [
    "Lista di tre valori di tipo diverso:"
   ]
  },
  {
   "cell_type": "code",
   "execution_count": null,
   "metadata": {},
   "outputs": [],
   "source": [
    "[10, 7.8, \"ab\"]"
   ]
  },
  {
   "cell_type": "markdown",
   "metadata": {},
   "source": [
    "Lista di tre valori di tipo diverso di cui il terzo di tipo `list` (lista annidata):"
   ]
  },
  {
   "cell_type": "code",
   "execution_count": null,
   "metadata": {},
   "outputs": [],
   "source": [
    "[10, 7.8, [True, \"ab\"]]"
   ]
  },
  {
   "cell_type": "markdown",
   "metadata": {},
   "source": [
    "**COSTRUZIONE CON LA FUNZIONE `list()`**"
   ]
  },
  {
   "cell_type": "markdown",
   "metadata": {},
   "source": [
    "Lista vuota:"
   ]
  },
  {
   "cell_type": "code",
   "execution_count": null,
   "metadata": {},
   "outputs": [],
   "source": [
    "list()"
   ]
  },
  {
   "cell_type": "markdown",
   "metadata": {},
   "source": [
    "Costruzione con stringa:"
   ]
  },
  {
   "cell_type": "code",
   "execution_count": null,
   "metadata": {},
   "outputs": [],
   "source": [
    "list(\"abcde\")"
   ]
  },
  {
   "cell_type": "markdown",
   "metadata": {},
   "source": [
    "Costruzione con lista:"
   ]
  },
  {
   "cell_type": "code",
   "execution_count": null,
   "metadata": {},
   "outputs": [],
   "source": [
    "list([1,2,3,4])"
   ]
  },
  {
   "cell_type": "markdown",
   "metadata": {},
   "source": [
    "### Costruzione di una tupla"
   ]
  },
  {
   "cell_type": "markdown",
   "metadata": {},
   "source": [
    "**COSTRUZIONE TRAMITE LETTERALE**"
   ]
  },
  {
   "cell_type": "markdown",
   "metadata": {},
   "source": [
    "Tupla vuota:"
   ]
  },
  {
   "cell_type": "code",
   "execution_count": null,
   "metadata": {},
   "outputs": [],
   "source": [
    "()"
   ]
  },
  {
   "cell_type": "markdown",
   "metadata": {},
   "source": [
    "Tupla di un solo valore:"
   ]
  },
  {
   "cell_type": "code",
   "execution_count": null,
   "metadata": {},
   "outputs": [],
   "source": [
    "(4,)"
   ]
  },
  {
   "cell_type": "markdown",
   "metadata": {},
   "source": [
    "Tupla di tre valori dello stesso tipo:"
   ]
  },
  {
   "cell_type": "code",
   "execution_count": null,
   "metadata": {},
   "outputs": [],
   "source": [
    "(1,2,3)"
   ]
  },
  {
   "cell_type": "markdown",
   "metadata": {},
   "source": [
    "Tupla di quattro valori di tipo diverso di cui il terzo di tipo `list` (lista annidata) e il quarto di tipo `tuple` (tupla annidata):"
   ]
  },
  {
   "cell_type": "code",
   "execution_count": null,
   "metadata": {},
   "outputs": [],
   "source": [
    "(10, 7.8, [1,2], (3,4))"
   ]
  },
  {
   "cell_type": "markdown",
   "metadata": {},
   "source": [
    "**NOTA BENE**: le parentesi tonde sono opzionali."
   ]
  },
  {
   "cell_type": "code",
   "execution_count": null,
   "metadata": {},
   "outputs": [],
   "source": [
    "10, 7.8, [1,2], (3,4)"
   ]
  },
  {
   "cell_type": "markdown",
   "metadata": {},
   "source": [
    "**COSTRUZIONE CON LA FUNZIONE `tuple()`**"
   ]
  },
  {
   "cell_type": "markdown",
   "metadata": {},
   "source": [
    "Tupla vuota:"
   ]
  },
  {
   "cell_type": "code",
   "execution_count": null,
   "metadata": {},
   "outputs": [],
   "source": [
    "tuple()"
   ]
  },
  {
   "cell_type": "markdown",
   "metadata": {},
   "source": [
    "Costruzione con stringa:"
   ]
  },
  {
   "cell_type": "code",
   "execution_count": null,
   "metadata": {},
   "outputs": [],
   "source": [
    "tuple(\"abcde\")"
   ]
  },
  {
   "cell_type": "markdown",
   "metadata": {},
   "source": [
    "Costruzione con lista:"
   ]
  },
  {
   "cell_type": "code",
   "execution_count": null,
   "metadata": {},
   "outputs": [],
   "source": [
    "tuple([1,2,3])"
   ]
  },
  {
   "cell_type": "markdown",
   "metadata": {},
   "source": [
    "## Dimensione di una *sequenza*"
   ]
  },
  {
   "cell_type": "markdown",
   "metadata": {},
   "source": [
    "Dimensione di una stringa (numero di caratteri):"
   ]
  },
  {
   "cell_type": "code",
   "execution_count": null,
   "metadata": {},
   "outputs": [],
   "source": [
    "len(\"abcde\")"
   ]
  },
  {
   "cell_type": "markdown",
   "metadata": {},
   "source": [
    "Dimensione di una lista (numero di elementi):"
   ]
  },
  {
   "cell_type": "code",
   "execution_count": null,
   "metadata": {},
   "outputs": [],
   "source": [
    "len([1,2,3,4])"
   ]
  },
  {
   "cell_type": "markdown",
   "metadata": {},
   "source": [
    "Dimensione di una tupla (numero di elementi):"
   ]
  },
  {
   "cell_type": "code",
   "execution_count": null,
   "metadata": {},
   "outputs": [],
   "source": [
    "len((1,2,3,4,5))"
   ]
  },
  {
   "cell_type": "markdown",
   "metadata": {},
   "source": [
    "## Accesso agli elementi di una *sequenza*"
   ]
  },
  {
   "cell_type": "markdown",
   "metadata": {},
   "source": [
    "Le posizioni degli elementi all'interno di una *sequenza* sono indicate tramite:\n",
    "\n",
    "Indici di posizione **positivi**:\n",
    "\n",
    "- `0`: posizione del primo elemento\n",
    "- `1`: posizione del secondo elemento\n",
    "- ...\n",
    "- `len(sequence)-1`: posizione dell'ultimo elemento\n",
    "    \n",
    "Indici di posizione **negativi**:\n",
    "\n",
    "- `-1`: posizione dell'ultimo elemento\n",
    "- `2`: posizione del penultimo elemento\n",
    "- ...\n",
    "- `-len(sequence)`: posizione del primo elemento"
   ]
  },
  {
   "cell_type": "markdown",
   "metadata": {},
   "source": [
    "### Accesso al singolo elemento"
   ]
  },
  {
   "cell_type": "markdown",
   "metadata": {},
   "source": [
    "L'espressione:\n",
    "\n",
    "    sequence[index]\n",
    "    \n",
    "restituisce l'elemento della *sequenza* `sequence` in posizione `index`."
   ]
  },
  {
   "cell_type": "markdown",
   "metadata": {},
   "source": [
    "**Accesso a un carattere di una stringa**"
   ]
  },
  {
   "cell_type": "markdown",
   "metadata": {},
   "source": [
    "Accesso al quinto carattere tramite indice positivo:"
   ]
  },
  {
   "cell_type": "code",
   "execution_count": null,
   "metadata": {},
   "outputs": [],
   "source": [
    "stringa = 'Hello world!'\n",
    "stringa[4]"
   ]
  },
  {
   "cell_type": "markdown",
   "metadata": {},
   "source": [
    "**NOTA BENE**: `stringa[4]` restituisce un oggetto di tipo `str`."
   ]
  },
  {
   "cell_type": "markdown",
   "metadata": {},
   "source": [
    "Accesso all'ultimo carattere:"
   ]
  },
  {
   "cell_type": "code",
   "execution_count": null,
   "metadata": {},
   "outputs": [],
   "source": [
    "stringa = 'Hello world!'\n",
    "stringa[len(stringa)-1]\n",
    "stringa[-1]"
   ]
  },
  {
   "cell_type": "markdown",
   "metadata": {},
   "source": [
    "**Accesso a un elemento di una lista**"
   ]
  },
  {
   "cell_type": "markdown",
   "metadata": {},
   "source": [
    "Accesso al quarto elemento tramite indice positivo e poi al primo elemento della lista annidata:"
   ]
  },
  {
   "cell_type": "code",
   "execution_count": null,
   "metadata": {},
   "outputs": [],
   "source": [
    "lista = [1, 2, 3, [4, 5]]\n",
    "lista[3]\n",
    "lista[3][0]"
   ]
  },
  {
   "cell_type": "markdown",
   "metadata": {},
   "source": [
    "**Accesso a un elemento di una tupla**"
   ]
  },
  {
   "cell_type": "markdown",
   "metadata": {},
   "source": [
    "Accesso al terzo elemento tramite indice positivo:"
   ]
  },
  {
   "cell_type": "code",
   "execution_count": null,
   "metadata": {},
   "outputs": [],
   "source": [
    "tupla = (1, 2, 3, 4)\n",
    "tupla[2]"
   ]
  },
  {
   "cell_type": "markdown",
   "metadata": {},
   "source": [
    "Accesso all'ultimo elemento tramite indice negativo:"
   ]
  },
  {
   "cell_type": "code",
   "execution_count": null,
   "metadata": {},
   "outputs": [],
   "source": [
    "tupla = (1, 2, 3, 4)\n",
    "tupla[-1]"
   ]
  },
  {
   "cell_type": "markdown",
   "metadata": {},
   "source": [
    "### Accesso a elementi consecutivi di una *sequenza* (operazione di *Slicing*)"
   ]
  },
  {
   "cell_type": "markdown",
   "metadata": {},
   "source": [
    "L'epressione:\n",
    "\n",
    "    sequence[start_index:end_index]\n",
    "    \n",
    "restituisce gli elementi della *sequenza* `sequence` da quello in posizione `start_index` fino a quello in posizione `end_index-1`."
   ]
  },
  {
   "cell_type": "markdown",
   "metadata": {},
   "source": [
    "**Accesso a sottostringa**\n",
    "\n",
    "Accesso alla sottostringa dal terzo al settimo carattere tramite indici positivi:"
   ]
  },
  {
   "cell_type": "code",
   "execution_count": null,
   "metadata": {},
   "outputs": [],
   "source": [
    "stringa = 'Hello world!'\n",
    "stringa[2:7]"
   ]
  },
  {
   "cell_type": "markdown",
   "metadata": {},
   "source": [
    "Accesso al prefisso dei primi tre caratteri tramite indici positivi:"
   ]
  },
  {
   "cell_type": "code",
   "execution_count": null,
   "metadata": {},
   "outputs": [],
   "source": [
    "stringa = 'Hello world!'\n",
    "stringa[0:3]\n",
    "stringa[:3]"
   ]
  },
  {
   "cell_type": "markdown",
   "metadata": {},
   "source": [
    "Accesso al suffisso che parte dal nono carattere tramite indici positivi:"
   ]
  },
  {
   "cell_type": "code",
   "execution_count": null,
   "metadata": {},
   "outputs": [],
   "source": [
    "stringa = 'Hello world!'\n",
    "stringa[8:len(stringa)]\n",
    "stringa[8:]"
   ]
  },
  {
   "cell_type": "markdown",
   "metadata": {},
   "source": [
    "Ottenere una copia della stringa:"
   ]
  },
  {
   "cell_type": "code",
   "execution_count": null,
   "metadata": {},
   "outputs": [],
   "source": [
    "stringa[0:len(stringa)]\n",
    "stringa[:]"
   ]
  },
  {
   "cell_type": "markdown",
   "metadata": {},
   "source": [
    "**Accesso a elementi consecutivi di una lista/tupla (sottolista/sottotupla)**"
   ]
  },
  {
   "cell_type": "markdown",
   "metadata": {},
   "source": [
    "Accesso alla sottolista dal terzo al quarto elemento:"
   ]
  },
  {
   "cell_type": "code",
   "execution_count": null,
   "metadata": {},
   "outputs": [],
   "source": [
    "lista = [1, 2, 3, 4, 5, 6]\n",
    "lista[2:4]"
   ]
  },
  {
   "cell_type": "markdown",
   "metadata": {},
   "source": [
    "Accesso al suffisso di lista che parte dal terzo elemento:"
   ]
  },
  {
   "cell_type": "code",
   "execution_count": null,
   "metadata": {},
   "outputs": [],
   "source": [
    "lista = [1, 2, 3, 4, 5, 6]\n",
    "lista[2:]"
   ]
  },
  {
   "cell_type": "markdown",
   "metadata": {},
   "source": [
    "Accesso al suffisso di lista di lunghezza 3:"
   ]
  },
  {
   "cell_type": "code",
   "execution_count": null,
   "metadata": {},
   "outputs": [],
   "source": [
    "lista = [1, 2, 3, 4, 5, 6]\n",
    "lista[-3:]"
   ]
  },
  {
   "cell_type": "markdown",
   "metadata": {},
   "source": [
    "Ottenere una copia della lista:"
   ]
  },
  {
   "cell_type": "code",
   "execution_count": 1,
   "metadata": {},
   "outputs": [
    {
     "data": {
      "text/plain": [
       "[1, 2, 3, 4, 5, 6]"
      ]
     },
     "execution_count": 1,
     "metadata": {},
     "output_type": "execute_result"
    }
   ],
   "source": [
    "lista = [1, 2, 3, 4, 5, 6]\n",
    "lista[:]"
   ]
  },
  {
   "cell_type": "markdown",
   "metadata": {},
   "source": [
    "Accesso al prefisso di tupla dei primi quattro elementi tramite indici positivi:"
   ]
  },
  {
   "cell_type": "code",
   "execution_count": null,
   "metadata": {},
   "outputs": [],
   "source": [
    "tupla = (1, 2, 3, 4, 5, 6)\n",
    "tupla[:4]"
   ]
  },
  {
   "cell_type": "markdown",
   "metadata": {},
   "source": [
    "### Accesso a elementi non consecutivi di una *sequenza*"
   ]
  },
  {
   "cell_type": "markdown",
   "metadata": {},
   "source": [
    "L'epressione:\n",
    "\n",
    "    my_sequence[start_index:end_index:step]\n",
    "    \n",
    "equivale a considerare la sottosequenza di elementi consecutivi `sequence[start_index:end_index]` e a restituire gli elementi a partire dal primo (in posizione `start_index`), saltando ogni volta `step-1` elementi\n",
    "\n",
    "---\n",
    "\n",
    "**Accesso a caratteri non consecutivi di una stringa**\n",
    "\n",
    "Accesso ai caratteri a partire dal secondo, saltando ogni volta due caratteri e terminando non oltre il settimo:"
   ]
  },
  {
   "cell_type": "code",
   "execution_count": null,
   "metadata": {},
   "outputs": [],
   "source": [
    "stringa = 'xAxxBxxCxx'\n",
    "stringa[1:8:3]"
   ]
  },
  {
   "cell_type": "markdown",
   "metadata": {},
   "source": [
    "Lo *slicing* con passo può essere utilizzato per invertire una sequenza:"
   ]
  },
  {
   "cell_type": "code",
   "execution_count": null,
   "metadata": {},
   "outputs": [],
   "source": [
    "stringa = 'Hello world!'\n",
    "stringa[::-1]"
   ]
  },
  {
   "cell_type": "code",
   "execution_count": null,
   "metadata": {},
   "outputs": [],
   "source": [
    "lista = [1, 2, 3, 4, 5, 6, 7, 8, 9]\n",
    "lista[::-1]"
   ]
  },
  {
   "cell_type": "markdown",
   "metadata": {},
   "source": [
    "## Concatenazione di *sequenze*\n",
    "\n",
    "L'espressione:\n",
    "\n",
    "    sequence1 + sequence2 + ... + sequenceN\n",
    "   \n",
    "restituisce la concatenazione di N sequenze dello stesso tipo."
   ]
  },
  {
   "cell_type": "code",
   "execution_count": null,
   "metadata": {},
   "outputs": [],
   "source": [
    "\"ciao \" + \"mondo\""
   ]
  },
  {
   "cell_type": "code",
   "execution_count": null,
   "metadata": {},
   "outputs": [],
   "source": [
    "[1,2] + [3,4,5]"
   ]
  },
  {
   "cell_type": "code",
   "execution_count": null,
   "metadata": {},
   "outputs": [],
   "source": [
    "(1,2) + (3,4,5)"
   ]
  },
  {
   "cell_type": "markdown",
   "metadata": {},
   "source": [
    "## Ripetizione di una *sequenza*\n",
    "\n",
    "L'espressione:\n",
    "\n",
    "    sequence * times\n",
    "   \n",
    "restituisce la ripetizione di `sequence` per `times` volte."
   ]
  },
  {
   "cell_type": "code",
   "execution_count": null,
   "metadata": {},
   "outputs": [],
   "source": [
    "'ciao ' * 4"
   ]
  },
  {
   "cell_type": "code",
   "execution_count": null,
   "metadata": {},
   "outputs": [],
   "source": [
    "[1,2] * 4"
   ]
  },
  {
   "cell_type": "code",
   "execution_count": null,
   "metadata": {},
   "outputs": [],
   "source": [
    "(1,2) * 4"
   ]
  },
  {
   "cell_type": "markdown",
   "metadata": {},
   "source": [
    "## Scansione degli elementi una *sequenza*"
   ]
  },
  {
   "cell_type": "markdown",
   "metadata": {},
   "source": [
    "### Operatore `in`"
   ]
  },
  {
   "cell_type": "markdown",
   "metadata": {},
   "source": [
    "L'espressione:\n",
    "\n",
    "    value in sequence\n",
    "    \n",
    "restituisce `True` se `value` è presente in `sequence`, altrimenti restituisce `False`\n",
    "\n",
    "---"
   ]
  },
  {
   "cell_type": "markdown",
   "metadata": {},
   "source": [
    "Controllo della presenza del carattere `h` nella stringa `Hello!`:"
   ]
  },
  {
   "cell_type": "code",
   "execution_count": null,
   "metadata": {},
   "outputs": [],
   "source": [
    "stringa = 'Hello!'\n",
    "'h' in stringa"
   ]
  },
  {
   "cell_type": "markdown",
   "metadata": {},
   "source": [
    "Controllo della presenza della sottostringa `llo` nella stringa `Hello!`:"
   ]
  },
  {
   "cell_type": "code",
   "execution_count": null,
   "metadata": {},
   "outputs": [],
   "source": [
    "stringa = 'Hello!'\n",
    "'llo' in stringa"
   ]
  },
  {
   "cell_type": "markdown",
   "metadata": {},
   "source": [
    "Controllo della presenza della stringa `ca` nella lista `[1, 2, 'acaa', 10.5]`:"
   ]
  },
  {
   "cell_type": "code",
   "execution_count": null,
   "metadata": {},
   "outputs": [],
   "source": [
    "lista = [1, 2, 'acaa', 10.5]\n",
    "'ca' in lista"
   ]
  },
  {
   "cell_type": "markdown",
   "metadata": {},
   "source": [
    "Controllo della presenza della lista `[1,2]` nella lista `[1, 2, 'acaa', 10.5]`:"
   ]
  },
  {
   "cell_type": "code",
   "execution_count": null,
   "metadata": {},
   "outputs": [],
   "source": [
    "lista = [1, 2, 'acaa', 10.5]\n",
    "[1,2] in lista"
   ]
  },
  {
   "cell_type": "markdown",
   "metadata": {},
   "source": [
    "### Scansione con operatore `in`"
   ]
  },
  {
   "cell_type": "markdown",
   "metadata": {},
   "source": [
    "**Sintassi di scansione di una *sequenza***:\n",
    "\n",
    "    for value in sequence:\n",
    "        do_something\n",
    "        \n",
    "- `sequence`: *sequenza* i cui valori (elementi) sono da scandire da sinistra a destra\n",
    "- `value`: variabile di scansione\n",
    "- `do_something`: blocco di istruzioni da eseguire per ogni valore considerato\n",
    "        \n",
    "**NOTA BENE:** le istruzioni in `do_something` devono essere indentate 4 volte rispetto alla riga di intestazione\n",
    "\n",
    "---\n",
    "\n",
    "Scansione e stampa dei caratteri di una stringa:"
   ]
  },
  {
   "cell_type": "code",
   "execution_count": null,
   "metadata": {},
   "outputs": [],
   "source": [
    "stringa = 'world'\n",
    "for c in stringa:\n",
    "    print(c)"
   ]
  },
  {
   "cell_type": "markdown",
   "metadata": {},
   "source": [
    "Scansione e stampa dei valori (elementi) di una lista:"
   ]
  },
  {
   "cell_type": "code",
   "execution_count": null,
   "metadata": {},
   "outputs": [],
   "source": [
    "lista = [3, 45.6, 'ciao']\n",
    "for value in lista:\n",
    "    print(value)"
   ]
  },
  {
   "cell_type": "markdown",
   "metadata": {},
   "source": [
    "Scansione e stampa a video degli elementi della tupla:"
   ]
  },
  {
   "cell_type": "code",
   "execution_count": null,
   "metadata": {},
   "outputs": [],
   "source": [
    "tupla = 3, 45.6, 'ciao'\n",
    "for value in tupla:\n",
    "    print(value)"
   ]
  },
  {
   "cell_type": "markdown",
   "metadata": {},
   "source": [
    "## Aggiornamento di una lista"
   ]
  },
  {
   "cell_type": "markdown",
   "metadata": {},
   "source": [
    "### Aggiornamento di un singolo elemento"
   ]
  },
  {
   "cell_type": "markdown",
   "metadata": {},
   "source": [
    "L'istruzione di assegnamento:\n",
    "\n",
    "    list[index] = new_value\n",
    "    \n",
    "sostituisce l'elemento della lista `list` in posizione `index` con il nuovo valore `new_value`.\n",
    "\n",
    "---\n",
    "\n",
    "Sostituire il quarto elemento con il valore 0:"
   ]
  },
  {
   "cell_type": "code",
   "execution_count": null,
   "metadata": {},
   "outputs": [],
   "source": [
    "lista = [1, 1, 1, 1, 1, 1, 1]\n",
    "lista[3] = -100\n",
    "lista"
   ]
  },
  {
   "cell_type": "markdown",
   "metadata": {},
   "source": [
    "Che differenza c'è tra le seguenti istruzioni di assegnamento?"
   ]
  },
  {
   "cell_type": "code",
   "execution_count": null,
   "metadata": {},
   "outputs": [],
   "source": [
    "lista = [1, 1, 1, 1, 1, 1, 1]\n",
    "\n",
    "lista2 = lista\n",
    "lista3 = lista[:]"
   ]
  },
  {
   "cell_type": "markdown",
   "metadata": {},
   "source": [
    "### Aggiornamento di più elementi di una lista"
   ]
  },
  {
   "cell_type": "markdown",
   "metadata": {},
   "source": [
    "Le due istruzioni di assegnamento:\n",
    "\n",
    "    my_list[start_index:end_index] = new_list\n",
    "    my_list[start_index:end_index:step] = new_list\n",
    "    \n",
    "sostituiscono la sottolista di `my_list` ottenuta tramite *slicing* con la lista `new_list`."
   ]
  },
  {
   "cell_type": "markdown",
   "metadata": {},
   "source": [
    "Sostituire i tre elementi consecutivi dal quarto al sesto con tre asterischi:"
   ]
  },
  {
   "cell_type": "code",
   "execution_count": 2,
   "metadata": {},
   "outputs": [
    {
     "data": {
      "text/plain": [
       "[1, 2, 3, '*', '*', '*', 7, 8, 9, 10, 11, 12]"
      ]
     },
     "execution_count": 2,
     "metadata": {},
     "output_type": "execute_result"
    }
   ],
   "source": [
    "lista = [1, 2, 3, 4, 5, 6, 7, 8, 9, 10, 11, 12]\n",
    "lista[3:6] = \"***\"\n",
    "lista"
   ]
  },
  {
   "cell_type": "markdown",
   "metadata": {},
   "source": [
    "Cancellare i tre elementi consecutivi dal quarto al sesto:"
   ]
  },
  {
   "cell_type": "code",
   "execution_count": null,
   "metadata": {},
   "outputs": [],
   "source": [
    "lista = [1, 2, 3, 4, 5, 6, 7, 8, 9, 10, 11, 12]\n",
    "lista[3:6] = []\n",
    "lista"
   ]
  },
  {
   "cell_type": "markdown",
   "metadata": {},
   "source": [
    "Inserire tre asterischi dopo il primo elemento:"
   ]
  },
  {
   "cell_type": "code",
   "execution_count": null,
   "metadata": {},
   "outputs": [],
   "source": [
    "lista = [1, 2, 3, 4, 5, 6, 7, 8, 9, 10, 11, 12]\n",
    "lista[1:1] = ['*', '*', '*']\n",
    "lista"
   ]
  },
  {
   "cell_type": "markdown",
   "metadata": {},
   "source": [
    "Aggiungere in coda tre asterischi:"
   ]
  },
  {
   "cell_type": "code",
   "execution_count": null,
   "metadata": {},
   "outputs": [],
   "source": [
    "lista = [1, 2, 3, 4, 5, 6, 7, 8, 9, 10, 11, 12]\n",
    "#lista[len(lista):len(lista)] = ['*', '*', '*']\n",
    "lista[len(lista):] = ['*', '*', '*']\n",
    "lista"
   ]
  },
  {
   "cell_type": "markdown",
   "metadata": {},
   "source": [
    "Aggiungere in testa tre asterischi:"
   ]
  },
  {
   "cell_type": "code",
   "execution_count": null,
   "metadata": {},
   "outputs": [],
   "source": [
    "lista = [1, 2, 3, 4, 5, 6, 7, 8, 9, 10, 11, 12]\n",
    "lista[:0] = ['*', '*', '*']\n",
    "lista"
   ]
  },
  {
   "cell_type": "markdown",
   "metadata": {},
   "source": [
    "Aggiornare gli elementi in posizione di indice pari con il valore 0:"
   ]
  },
  {
   "cell_type": "code",
   "execution_count": null,
   "metadata": {},
   "outputs": [],
   "source": [
    "lista = [1, 2, 3, 4, 5, 6, 7, 8, 9, 10, 11, 12]\n",
    "lista[::2] = [0, 0, 0, 0, 0, 0]\n",
    "lista"
   ]
  },
  {
   "cell_type": "markdown",
   "metadata": {},
   "source": [
    "### Cancellazione di un elemento con l'operatore `del` "
   ]
  },
  {
   "cell_type": "markdown",
   "metadata": {},
   "source": [
    "L'istruzione:\n",
    "\n",
    "    del my_list[index]\n",
    "\n",
    " rimuove dalla lista `my_list` l'elemento in posizione di indice `index`.\n",
    " \n",
    " ---\n",
    " \n",
    " Cancellare il terzo elemento:"
   ]
  },
  {
   "cell_type": "code",
   "execution_count": null,
   "metadata": {},
   "outputs": [],
   "source": [
    "lista = [1, 2, 3, 4]\n",
    "del lista[2]\n",
    "lista"
   ]
  },
  {
   "cell_type": "markdown",
   "metadata": {},
   "source": [
    "### Cancellazione di più elementi di una lista con l'operatore `del` "
   ]
  },
  {
   "cell_type": "markdown",
   "metadata": {},
   "source": [
    "Le istruzioni:\n",
    "\n",
    "    del my_list[start_index:end_index]\n",
    "    del my_list[start_index:end_index:step]\n",
    "\n",
    "rimuovono dalla lista `my_list` gli elementi prodotti dall'operazione di *slicing*.\n",
    "\n",
    "---\n",
    "\n",
    "Cancellare gli elementi dal terzo al quinto:"
   ]
  },
  {
   "cell_type": "code",
   "execution_count": null,
   "metadata": {},
   "outputs": [],
   "source": [
    "lista = [1, 2, 3, 4, 5, 6, 7, 8]\n",
    "del lista[2:5]\n",
    "lista"
   ]
  },
  {
   "cell_type": "markdown",
   "metadata": {},
   "source": [
    "Cancellare gli elementi in posizione di indice dispari:"
   ]
  },
  {
   "cell_type": "code",
   "execution_count": null,
   "metadata": {},
   "outputs": [],
   "source": [
    "lista = [0, 1, 2, 3, 4, 5, 6, 7]\n",
    "del lista[1::2]\n",
    "lista"
   ]
  },
  {
   "cell_type": "markdown",
   "metadata": {},
   "source": [
    "##  Assegnamento multiplo"
   ]
  },
  {
   "cell_type": "markdown",
   "metadata": {},
   "source": [
    "L'istruzione di assegnamento:\n",
    "\n",
    "    (my_var1, my_var2, ..., my_varN) = sequence\n",
    "    \n",
    "assegna alle N variabili specificate nella tupla a sinistra i valori della *sequenza* `sequence` specificata a destra.\n",
    "\n",
    "Le parentesi sono opzionali:\n",
    "\n",
    "    my_var1, my_var2, ..., my_varN = sequence\n",
    "\n",
    "**NOTA BENE**: `sequence` deve avere dimensione pari a N.\n",
    "\n",
    "---\n",
    "\n",
    "Assegnare le cifre della stringa \"1234\" a quattro variabili diverse:"
   ]
  },
  {
   "cell_type": "code",
   "execution_count": null,
   "metadata": {},
   "outputs": [],
   "source": [
    "v1, v2, v3, v4 = \"1234\""
   ]
  },
  {
   "cell_type": "markdown",
   "metadata": {},
   "source": [
    "Assegnare i quattro elementi della lista `[1,2,3,4]` a quattro variabili diverse:"
   ]
  },
  {
   "cell_type": "code",
   "execution_count": null,
   "metadata": {},
   "outputs": [],
   "source": [
    "v1, v2, v3, v4 = [1,2,3,4]"
   ]
  },
  {
   "cell_type": "markdown",
   "metadata": {},
   "source": [
    "Assegnare i quattro elementi della tupla `(1,2,3,4)` a quattro variabili diverse:"
   ]
  },
  {
   "cell_type": "code",
   "execution_count": null,
   "metadata": {},
   "outputs": [],
   "source": [
    "v1, v2, v3, v4 = 1,2,3,4"
   ]
  },
  {
   "cell_type": "markdown",
   "metadata": {},
   "source": [
    "Scambiare il valore tra due delle variabili precedenti:"
   ]
  },
  {
   "cell_type": "code",
   "execution_count": null,
   "metadata": {},
   "outputs": [],
   "source": [
    "v1,v2 = v2,v1"
   ]
  },
  {
   "cell_type": "code",
   "execution_count": null,
   "metadata": {},
   "outputs": [],
   "source": [
    "v1"
   ]
  },
  {
   "cell_type": "code",
   "execution_count": null,
   "metadata": {},
   "outputs": [],
   "source": [
    "v2"
   ]
  },
  {
   "cell_type": "markdown",
   "metadata": {},
   "source": [
    "Scandire una lista di tuple di due elementi stampando gli elementi separatamente:"
   ]
  },
  {
   "cell_type": "code",
   "execution_count": 3,
   "metadata": {},
   "outputs": [
    {
     "name": "stdout",
     "output_type": "stream",
     "text": [
      "1\n",
      "2\n",
      "3\n",
      "4\n",
      "5\n",
      "6\n"
     ]
    }
   ],
   "source": [
    "lista = [(1, 2), (3, 4), (5, 6)]\n",
    "for t in lista:\n",
    "    print(t[0])\n",
    "    print(t[1])"
   ]
  },
  {
   "cell_type": "markdown",
   "metadata": {},
   "source": [
    "Oppure..."
   ]
  },
  {
   "cell_type": "code",
   "execution_count": 4,
   "metadata": {},
   "outputs": [
    {
     "name": "stdout",
     "output_type": "stream",
     "text": [
      "1\n",
      "2\n",
      "3\n",
      "4\n",
      "5\n",
      "6\n"
     ]
    }
   ],
   "source": [
    "lista = [(1, 2), (3, 4), (5, 6)]\n",
    "for (a,b) in lista:\n",
    "    print(a)\n",
    "    print(b)"
   ]
  },
  {
   "cell_type": "markdown",
   "metadata": {},
   "source": [
    "## List comprehension"
   ]
  },
  {
   "cell_type": "markdown",
   "metadata": {},
   "source": [
    "L'istruzione:\n",
    "\n",
    "    [expression for value in sequence if condition]\n",
    "    \n",
    "equivale a scrivere:\n",
    "\n",
    "    for value in sequence:\n",
    "        if condition:\n",
    "            expression\n",
    "            \n",
    "con la differenza che i valori restituiti da `expression` vengono restituiti tutti in un oggetto di tipo `list`.\n",
    "\n",
    "**NB**: la clausola if è opzionale."
   ]
  },
  {
   "cell_type": "markdown",
   "metadata": {},
   "source": [
    "Ho una lista e ne voglio creare un'altra contenente unicamente i valori pari moltiplicati per 5."
   ]
  },
  {
   "cell_type": "code",
   "execution_count": 5,
   "metadata": {},
   "outputs": [
    {
     "data": {
      "text/plain": [
       "[10, 20, 30, 40, 50]"
      ]
     },
     "execution_count": 5,
     "metadata": {},
     "output_type": "execute_result"
    }
   ],
   "source": [
    "lista1 = [1, 2, 3, 4, 5, 6, 7, 8, 9, 10]\n",
    "lista2 = []\n",
    "for v in lista1:\n",
    "    if v % 2 == 0:\n",
    "        lista2.append(v*5)\n",
    "        \n",
    "lista2"
   ]
  },
  {
   "cell_type": "markdown",
   "metadata": {},
   "source": [
    "Tradotto in list comprehension..."
   ]
  },
  {
   "cell_type": "code",
   "execution_count": null,
   "metadata": {},
   "outputs": [],
   "source": [
    "lista2 = [v*5 for v in lista1 if v % 2 == 0]\n",
    "lista2"
   ]
  },
  {
   "cell_type": "markdown",
   "metadata": {},
   "source": [
    "Scrivere la list comprehension che produce la lista dei caratteri separati concatenati alla cifra 1."
   ]
  },
  {
   "cell_type": "code",
   "execution_count": null,
   "metadata": {},
   "outputs": [],
   "source": [
    "stringa = 'ciao'\n",
    "[c+\"1\" for c in stringa]"
   ]
  },
  {
   "cell_type": "markdown",
   "metadata": {},
   "source": [
    "La list comprehension nella sua sintassi più generale:\n",
    "\n",
    "    [expression for v1 in seq1 for v2 in seq2 ... for vN in seqN if condition]\n",
    "    \n",
    "equivale a scrivere:\n",
    "\n",
    "    for v1 in seq1:\n",
    "        for v2 in seq2:\n",
    "            ...\n",
    "                for vN in seqN:\n",
    "                    if condition:\n",
    "                        expression"
   ]
  },
  {
   "cell_type": "markdown",
   "metadata": {},
   "source": [
    "Scrivere la list comprehension che produce la lista delle stringhe ottenute combinando tra di loro in tutti i modi possibili i caratteri della stringa, gli elementi della lista e gli elementi della tupla:"
   ]
  },
  {
   "cell_type": "code",
   "execution_count": null,
   "metadata": {},
   "outputs": [],
   "source": [
    "stringa = 'ciao'\n",
    "lista = [1, 2, 3, 4]\n",
    "tupla = ('a', 'b', 'c')\n",
    "[c1+str(n)+c2 for c1 in stringa for n in lista for c2 in tupla]"
   ]
  },
  {
   "cell_type": "markdown",
   "metadata": {},
   "source": [
    "## La funzione `enumerate()`\n",
    "\n",
    "La funzione `enumerate()`:\n",
    "\n",
    "    enumerate(sequence, start)\n",
    "    \n",
    "restituisce gli elementi della sequenza `sequence` in tuple di dimensione due, dove il primo elemento è un indice progressivo e il secondo è l'elemento della sequenza.\n",
    "\n",
    "`start` è l'offset opzionale per gli indici progressivi.  \n",
    "\n",
    "L'oggetto restituito è di tipo `enumerate`."
   ]
  },
  {
   "cell_type": "code",
   "execution_count": null,
   "metadata": {},
   "outputs": [],
   "source": [
    "enum = enumerate('ciao')\n",
    "enum"
   ]
  },
  {
   "cell_type": "markdown",
   "metadata": {},
   "source": [
    "Proviamo a fare la scansione dei suoi elementi per vedere cosa contiene."
   ]
  },
  {
   "cell_type": "code",
   "execution_count": null,
   "metadata": {},
   "outputs": [],
   "source": [
    "for x in enum:\n",
    "    print(x)"
   ]
  },
  {
   "cell_type": "markdown",
   "metadata": {},
   "source": [
    "Effettuiamo di nuovo la scansione."
   ]
  },
  {
   "cell_type": "code",
   "execution_count": null,
   "metadata": {},
   "outputs": [],
   "source": [
    "for x in enum:\n",
    "    print(x)"
   ]
  },
  {
   "cell_type": "markdown",
   "metadata": {},
   "source": [
    "Ricostruiamo l'oggetto con `start = 1`."
   ]
  },
  {
   "cell_type": "code",
   "execution_count": null,
   "metadata": {},
   "outputs": [],
   "source": [
    "enum = enumerate('ciao', 1)"
   ]
  },
  {
   "cell_type": "markdown",
   "metadata": {},
   "source": [
    "Trasformare in lista con una list comprehension."
   ]
  },
  {
   "cell_type": "code",
   "execution_count": null,
   "metadata": {},
   "outputs": [],
   "source": [
    "[t for t in enum]"
   ]
  },
  {
   "cell_type": "markdown",
   "metadata": {},
   "source": [
    "Trasformare in lista con la funzione `list()`."
   ]
  },
  {
   "cell_type": "code",
   "execution_count": null,
   "metadata": {},
   "outputs": [],
   "source": [
    "list(enumerate('ciao'))"
   ]
  },
  {
   "cell_type": "markdown",
   "metadata": {},
   "source": [
    "Estrarre la lista dei soli caratteri."
   ]
  },
  {
   "cell_type": "code",
   "execution_count": null,
   "metadata": {},
   "outputs": [],
   "source": [
    "[c for (i,c) in enum]"
   ]
  }
 ],
 "metadata": {
  "kernelspec": {
   "display_name": "Python 3 (ipykernel)",
   "language": "python",
   "name": "python3"
  },
  "language_info": {
   "codemirror_mode": {
    "name": "ipython",
    "version": 3
   },
   "file_extension": ".py",
   "mimetype": "text/x-python",
   "name": "python",
   "nbconvert_exporter": "python",
   "pygments_lexer": "ipython3",
   "version": "3.9.15"
  }
 },
 "nbformat": 4,
 "nbformat_minor": 2
}
