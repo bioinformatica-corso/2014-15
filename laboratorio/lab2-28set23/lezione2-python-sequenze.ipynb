{
 "cells": [
  {
   "cell_type": "markdown",
   "metadata": {},
   "source": [
    "# Python - Sequenze (Stringhe, Liste e Tuple)"
   ]
  },
  {
   "cell_type": "markdown",
   "metadata": {},
   "source": [
    "**Stringa**: sequenza di caratteri\n",
    "- Classe: `str`\n",
    "- oggetto ___immutabile___\n",
    "\n",
    "**Lista**: sequenza di valori anche di tipo diverso\n",
    "- Classe: `list`\n",
    "- oggetto ***mutabile***\n",
    "\n",
    "**Tupla**: sequenza di valori anche di tipo diverso\n",
    "- Classe: `tuple`\n",
    "- oggetto ***immutabile***"
   ]
  },
  {
   "cell_type": "markdown",
   "metadata": {},
   "source": [
    "## Costruzione di una stringa"
   ]
  },
  {
   "cell_type": "markdown",
   "metadata": {},
   "source": [
    "**COSTRUZIONE TRAMITE LETTERALE**"
   ]
  },
  {
   "cell_type": "code",
   "execution_count": null,
   "metadata": {},
   "outputs": [],
   "source": []
  },
  {
   "cell_type": "markdown",
   "metadata": {},
   "source": [
    "**COSTRUZIONE CON LA FUNZIONE `str()`**"
   ]
  },
  {
   "cell_type": "code",
   "execution_count": null,
   "metadata": {},
   "outputs": [],
   "source": []
  },
  {
   "cell_type": "markdown",
   "metadata": {},
   "source": [
    "## Costruzione di una lista"
   ]
  },
  {
   "cell_type": "markdown",
   "metadata": {},
   "source": [
    "**COSTRUZIONE TRAMITE LETTERALE**"
   ]
  },
  {
   "cell_type": "code",
   "execution_count": null,
   "metadata": {},
   "outputs": [],
   "source": []
  },
  {
   "cell_type": "markdown",
   "metadata": {},
   "source": [
    "**COSTRUZIONE CON LA FUNZIONE `list()`**"
   ]
  },
  {
   "cell_type": "code",
   "execution_count": null,
   "metadata": {},
   "outputs": [],
   "source": []
  },
  {
   "cell_type": "markdown",
   "metadata": {},
   "source": [
    "## Costruzione di una tupla"
   ]
  },
  {
   "cell_type": "markdown",
   "metadata": {},
   "source": [
    "**COSTRUZIONE TRAMITE LETTERALE**"
   ]
  },
  {
   "cell_type": "code",
   "execution_count": null,
   "metadata": {},
   "outputs": [],
   "source": []
  },
  {
   "cell_type": "markdown",
   "metadata": {},
   "source": [
    "**COSTRUZIONE CON LA FUNZIONE `tuple()`**"
   ]
  },
  {
   "cell_type": "code",
   "execution_count": null,
   "metadata": {},
   "outputs": [],
   "source": []
  },
  {
   "cell_type": "markdown",
   "metadata": {},
   "source": [
    "## Dimensione di una *sequenza*"
   ]
  },
  {
   "cell_type": "code",
   "execution_count": null,
   "metadata": {},
   "outputs": [],
   "source": []
  },
  {
   "cell_type": "markdown",
   "metadata": {},
   "source": [
    "## Accesso agli elementi di una *sequenza*"
   ]
  },
  {
   "cell_type": "markdown",
   "metadata": {},
   "source": [
    "Le posizioni degli elementi all'interno di una *sequenza* sono indicate tramite:\n",
    "\n",
    "Indici di posizione **positivi**:\n",
    "\n",
    "- `0`: posizione del primo elemento\n",
    "- `1`: posizione del secondo elemento\n",
    "- ...\n",
    "- `len(sequence)-1`: posizione dell'ultimo elemento\n",
    "    \n",
    "Indici di posizione **negativi**:\n",
    "\n",
    "- `-1`: posizione dell'ultimo elemento\n",
    "- `2`: posizione del penultimo elemento\n",
    "- ...\n",
    "- `-len(sequence)`: posizione del primo elemento"
   ]
  },
  {
   "cell_type": "markdown",
   "metadata": {},
   "source": [
    "### Accesso al singolo elemento"
   ]
  },
  {
   "cell_type": "markdown",
   "metadata": {},
   "source": [
    "**Accesso a un carattere di una stringa**"
   ]
  },
  {
   "cell_type": "code",
   "execution_count": null,
   "metadata": {},
   "outputs": [],
   "source": [
    "stringa = 'Hello world!'\n"
   ]
  },
  {
   "cell_type": "markdown",
   "metadata": {},
   "source": [
    "**Accesso a un elemento di una lista**"
   ]
  },
  {
   "cell_type": "code",
   "execution_count": null,
   "metadata": {},
   "outputs": [],
   "source": [
    "lista = [1, 2, 3, [4, 5]]\n"
   ]
  },
  {
   "cell_type": "markdown",
   "metadata": {},
   "source": [
    "**Accesso a un elemento di una tupla**"
   ]
  },
  {
   "cell_type": "code",
   "execution_count": null,
   "metadata": {},
   "outputs": [],
   "source": [
    "tupla = (1, 2, 3, 4)\n",
    "tupla[2]"
   ]
  },
  {
   "cell_type": "markdown",
   "metadata": {},
   "source": [
    "### Accesso a elementi consecutivi di una *sequenza* (operazione di *slicing*)"
   ]
  },
  {
   "cell_type": "markdown",
   "metadata": {},
   "source": [
    "**Accesso a sottostringa**"
   ]
  },
  {
   "cell_type": "code",
   "execution_count": null,
   "metadata": {},
   "outputs": [],
   "source": [
    "stringa = 'Hello world!'\n"
   ]
  },
  {
   "cell_type": "markdown",
   "metadata": {},
   "source": [
    "**Accesso a elementi consecutivi di una lista/tupla (sottolista/sottotupla)**"
   ]
  },
  {
   "cell_type": "code",
   "execution_count": null,
   "metadata": {},
   "outputs": [],
   "source": [
    "lista = [1, 2, 3, 4, 5, 6]\n"
   ]
  },
  {
   "cell_type": "markdown",
   "metadata": {},
   "source": [
    "### Accesso a elementi non consecutivi di una *sequenza*"
   ]
  },
  {
   "cell_type": "markdown",
   "metadata": {},
   "source": [
    "**Accesso a caratteri non consecutivi di una stringa**"
   ]
  },
  {
   "cell_type": "code",
   "execution_count": null,
   "metadata": {},
   "outputs": [],
   "source": [
    "stringa = 'xAxxBxxCxx'\n"
   ]
  },
  {
   "cell_type": "markdown",
   "metadata": {},
   "source": [
    "## Concatenazione di *sequenze*\n",
    "\n",
    "L'espressione:\n",
    "\n",
    "    sequence1 + sequence2 + ... + sequenceN\n",
    "   \n",
    "restituisce la concatenazione di N sequenze dello stesso tipo."
   ]
  },
  {
   "cell_type": "code",
   "execution_count": null,
   "metadata": {},
   "outputs": [],
   "source": []
  },
  {
   "cell_type": "markdown",
   "metadata": {},
   "source": [
    "## Ripetizione di una *sequenza*\n",
    "\n",
    "L'espressione:\n",
    "\n",
    "    sequence * times\n",
    "   \n",
    "restituisce la ripetizione di `sequence` per `times` volte."
   ]
  },
  {
   "cell_type": "code",
   "execution_count": null,
   "metadata": {},
   "outputs": [],
   "source": []
  },
  {
   "cell_type": "markdown",
   "metadata": {},
   "source": [
    "## Scansione degli elementi una *sequenza*"
   ]
  },
  {
   "cell_type": "markdown",
   "metadata": {},
   "source": [
    "### Operatore `in`"
   ]
  },
  {
   "cell_type": "code",
   "execution_count": null,
   "metadata": {},
   "outputs": [],
   "source": [
    "stringa = 'Hello!'\n"
   ]
  },
  {
   "cell_type": "markdown",
   "metadata": {},
   "source": [
    "### Scansione con operatore `in`"
   ]
  },
  {
   "cell_type": "markdown",
   "metadata": {},
   "source": [
    "**Sintassi di scansione di una *sequenza***:\n",
    "\n",
    "    for value in sequence:\n",
    "        do_something"
   ]
  },
  {
   "cell_type": "code",
   "execution_count": null,
   "metadata": {},
   "outputs": [],
   "source": [
    "stringa = 'world'\n"
   ]
  },
  {
   "cell_type": "markdown",
   "metadata": {},
   "source": [
    "## Aggiornamento di una lista"
   ]
  },
  {
   "cell_type": "markdown",
   "metadata": {},
   "source": [
    "### Aggiornamento di un singolo elemento"
   ]
  },
  {
   "cell_type": "markdown",
   "metadata": {},
   "source": [
    "L'istruzione di assegnamento:\n",
    "\n",
    "    list[index] = new_value\n",
    "    \n",
    "sostituisce l'elemento della lista `list` in posizione `index` con il nuovo valore `new_value`."
   ]
  },
  {
   "cell_type": "code",
   "execution_count": null,
   "metadata": {},
   "outputs": [],
   "source": [
    "lista = [1, 1, 1, 1, 1, 1, 1]\n"
   ]
  },
  {
   "cell_type": "markdown",
   "metadata": {},
   "source": [
    "### Aggiornamento di più elementi di una lista"
   ]
  },
  {
   "cell_type": "markdown",
   "metadata": {},
   "source": [
    "Le due istruzioni di assegnamento:\n",
    "\n",
    "    my_list[start_index:end_index] = new_list\n",
    "    my_list[start_index:end_index:step] = new_list\n",
    "    \n",
    "sostituiscono la sottolista di `my_list` ottenuta tramite *slicing* con la lista `new_list`."
   ]
  },
  {
   "cell_type": "code",
   "execution_count": null,
   "metadata": {},
   "outputs": [],
   "source": [
    "lista = [1, 2, 3, 4, 5, 6, 7, 8, 9, 10, 11, 12]\n"
   ]
  },
  {
   "cell_type": "markdown",
   "metadata": {},
   "source": [
    "### Cancellazione di un elemento con l'operatore `del` "
   ]
  },
  {
   "cell_type": "markdown",
   "metadata": {},
   "source": [
    "L'istruzione:\n",
    "\n",
    "    del my_list[index]\n",
    "\n",
    " rimuove dalla lista `my_list` l'elemento in posizione di indice `index`."
   ]
  },
  {
   "cell_type": "code",
   "execution_count": null,
   "metadata": {},
   "outputs": [],
   "source": [
    "lista = [1, 2, 3, 4]\n"
   ]
  },
  {
   "cell_type": "markdown",
   "metadata": {},
   "source": [
    "### Cancellazione di più elementi di una lista con l'operatore `del` "
   ]
  },
  {
   "cell_type": "markdown",
   "metadata": {},
   "source": [
    "Le istruzioni:\n",
    "\n",
    "    del my_list[start_index:end_index]\n",
    "    del my_list[start_index:end_index:step]\n",
    "\n",
    "rimuovono dalla lista `my_list` gli elementi prodotti dall'operazione di *slicing*."
   ]
  },
  {
   "cell_type": "code",
   "execution_count": null,
   "metadata": {},
   "outputs": [],
   "source": [
    "lista = [1, 2, 3, 4, 5, 6, 7, 8]\n"
   ]
  },
  {
   "cell_type": "markdown",
   "metadata": {},
   "source": [
    "##  Assegnamento multiplo"
   ]
  },
  {
   "cell_type": "markdown",
   "metadata": {},
   "source": [
    "L'istruzione di assegnamento:\n",
    "\n",
    "    (my_var1, my_var2, ..., my_varN) = sequence\n",
    "    \n",
    "assegna alle N variabili specificate nella tupla a sinistra i valori della *sequenza* `sequence` specificata a destra.\n",
    "\n",
    "Le parentesi sono opzionali:\n",
    "\n",
    "    my_var1, my_var2, ..., my_varN = sequence\n",
    "\n",
    "**NOTA BENE**: `sequence` deve avere dimensione pari a N."
   ]
  },
  {
   "cell_type": "code",
   "execution_count": null,
   "metadata": {},
   "outputs": [],
   "source": []
  },
  {
   "cell_type": "markdown",
   "metadata": {},
   "source": [
    "## List comprehension"
   ]
  },
  {
   "cell_type": "markdown",
   "metadata": {},
   "source": [
    "L'istruzione:\n",
    "\n",
    "    [expression for value in sequence if condition]\n",
    "    \n",
    "equivale a scrivere:\n",
    "\n",
    "    for value in sequence:\n",
    "        if condition:\n",
    "            expression\n",
    "            \n",
    "con la differenza che i valori restituiti da `expression` vengono restituiti tutti in un oggetto di tipo `list`.\n",
    "\n",
    "**NB**: la clausola if è opzionale."
   ]
  },
  {
   "cell_type": "code",
   "execution_count": null,
   "metadata": {},
   "outputs": [],
   "source": []
  },
  {
   "cell_type": "markdown",
   "metadata": {},
   "source": [
    "La list comprehension nella sua sintassi più generale:\n",
    "\n",
    "    [expression for v1 in seq1 for v2 in seq2 ... for vN in seqN if condition]\n",
    "    \n",
    "equivale a scrivere:\n",
    "\n",
    "    for v1 in seq1:\n",
    "        for v2 in seq2:\n",
    "            ...\n",
    "                for vN in seqN:\n",
    "                    if condition:\n",
    "                        expression"
   ]
  },
  {
   "cell_type": "markdown",
   "metadata": {},
   "source": [
    "## La funzione `enumerate()`\n",
    "\n",
    "La funzione `enumerate()`:\n",
    "\n",
    "    enumerate(sequence, start)\n",
    "    \n",
    "restituisce gli elementi della sequenza `sequence` in tuple di dimensione due, dove il primo elemento è un indice progressivo e il secondo è l'elemento della sequenza.\n",
    "\n",
    "`start` è l'offset opzionale per gli indici progressivi.  \n",
    "\n",
    "L'oggetto restituito è di tipo `enumerate`."
   ]
  },
  {
   "cell_type": "code",
   "execution_count": null,
   "metadata": {},
   "outputs": [],
   "source": []
  }
 ],
 "metadata": {
  "kernelspec": {
   "display_name": "Python 3 (ipykernel)",
   "language": "python",
   "name": "python3"
  },
  "language_info": {
   "codemirror_mode": {
    "name": "ipython",
    "version": 3
   },
   "file_extension": ".py",
   "mimetype": "text/x-python",
   "name": "python",
   "nbconvert_exporter": "python",
   "pygments_lexer": "ipython3",
   "version": "3.9.15"
  }
 },
 "nbformat": 4,
 "nbformat_minor": 2
}
