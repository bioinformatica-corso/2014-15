{
 "cells": [
  {
   "cell_type": "markdown",
   "metadata": {},
   "source": [
    "# Pysam\n",
    "\n",
    "Pysam è un package che mette a disposizione le funzionalità per manipolare file in formato SAM/BAM."
   ]
  },
  {
   "cell_type": "raw",
   "metadata": {},
   "source": [
    "!conda install -y -c bioconda pysam"
   ]
  },
  {
   "cell_type": "markdown",
   "metadata": {},
   "source": [
    "Importare il modulo `pysam`"
   ]
  },
  {
   "cell_type": "code",
   "execution_count": 2,
   "metadata": {},
   "outputs": [],
   "source": [
    "import pysam"
   ]
  },
  {
   "cell_type": "markdown",
   "metadata": {},
   "source": [
    "## Come leggere gli allineamenti da un file `BAM`\n",
    "\n",
    "`AlignmentFile` è la classe che rappresenta un set di allineamenti.\n",
    "\n",
    "Un oggetto di tipo `AlignmentFile` può essere costruito a partire da un file SAM/BAM nel seguente modo: \n",
    "\n",
    "    samfile = pysam.AlignmentFile(sam_file_name, 'r')\n",
    "    bamfile = pysam.AlignmentFile(bam_file_name, 'rb')"
   ]
  },
  {
   "cell_type": "markdown",
   "metadata": {},
   "source": [
    "Importare la classe `AlignmentFile`."
   ]
  },
  {
   "cell_type": "code",
   "execution_count": 3,
   "metadata": {},
   "outputs": [],
   "source": [
    "from pysam import AlignmentFile"
   ]
  },
  {
   "cell_type": "code",
   "execution_count": 4,
   "metadata": {},
   "outputs": [
    {
     "name": "stdout",
     "output_type": "stream",
     "text": [
      "Help on class AlignmentFile in module pysam.libcalignmentfile:\n",
      "\n",
      "class AlignmentFile(pysam.libchtslib.HTSFile)\n",
      " |  AlignmentFile(filepath_or_object, mode=None, template=None,\n",
      " |  reference_names=None, reference_lengths=None, text=NULL,\n",
      " |  header=None, add_sq_text=False, check_header=True, check_sq=True,\n",
      " |  reference_filename=None, filename=None, index_filename=None,\n",
      " |  filepath_index=None, require_index=False, duplicate_filehandle=True,\n",
      " |  ignore_truncation=False, threads=1)\n",
      " |  \n",
      " |  A :term:`SAM`/:term:`BAM`/:term:`CRAM` formatted file.\n",
      " |  \n",
      " |  If `filepath_or_object` is a string, the file is automatically\n",
      " |  opened. If `filepath_or_object` is a python File object, the\n",
      " |  already opened file will be used.\n",
      " |  \n",
      " |  If the file is opened for reading and an index exists (if file is BAM, a\n",
      " |  .bai file or if CRAM a .crai file), it will be opened automatically.\n",
      " |  `index_filename` may be specified explicitly. If the index is not named\n",
      " |  in the standard manner, not located in the same directory as the\n",
      " |  BAM/CRAM file, or is remote.  Without an index, random access via\n",
      " |  :meth:`~pysam.AlignmentFile.fetch` and :meth:`~pysam.AlignmentFile.pileup`\n",
      " |  is disabled.\n",
      " |  \n",
      " |  For writing, the header of a :term:`SAM` file/:term:`BAM` file can\n",
      " |  be constituted from several sources (see also the samtools format\n",
      " |  specification):\n",
      " |  \n",
      " |      1. If `template` is given, the header is copied from a another\n",
      " |         `AlignmentFile` (`template` must be a\n",
      " |         :class:`~pysam.AlignmentFile`).\n",
      " |  \n",
      " |      2. If `header` is given, the header is built from a\n",
      " |         multi-level dictionary.\n",
      " |  \n",
      " |      3. If `text` is given, new header text is copied from raw\n",
      " |         text.\n",
      " |  \n",
      " |      4. The names (`reference_names`) and lengths\n",
      " |         (`reference_lengths`) are supplied directly as lists.\n",
      " |  \n",
      " |  When reading or writing a CRAM file, the filename of a FASTA-formatted\n",
      " |  reference can be specified with `reference_filename`.\n",
      " |  \n",
      " |  By default, if a file is opened in mode 'r', it is checked\n",
      " |  for a valid header (`check_header` = True) and a definition of\n",
      " |  chromosome names (`check_sq` = True).\n",
      " |  \n",
      " |  Parameters\n",
      " |  ----------\n",
      " |  mode : string\n",
      " |      `mode` should be ``r`` for reading or ``w`` for writing. The\n",
      " |      default is text mode (:term:`SAM`). For binary (:term:`BAM`)\n",
      " |      I/O you should append ``b`` for compressed or ``u`` for\n",
      " |      uncompressed :term:`BAM` output.  Use ``h`` to output header\n",
      " |      information in text (:term:`TAM`) mode. Use ``c`` for\n",
      " |      :term:`CRAM` formatted files.\n",
      " |  \n",
      " |      If ``b`` is present, it must immediately follow ``r`` or\n",
      " |      ``w``.  Valid modes are ``r``, ``w``, ``wh``, ``rb``, ``wb``,\n",
      " |      ``wbu``, ``wb0``, ``rc`` and ``wc``. For instance, to open a\n",
      " |      :term:`BAM` formatted file for reading, type::\n",
      " |  \n",
      " |         f = pysam.AlignmentFile('ex1.bam','rb')\n",
      " |  \n",
      " |      If mode is not specified, the method will try to auto-detect\n",
      " |      in the order 'rb', 'r', thus both the following should work::\n",
      " |  \n",
      " |          f1 = pysam.AlignmentFile('ex1.bam')\n",
      " |          f2 = pysam.AlignmentFile('ex1.sam')\n",
      " |  \n",
      " |  template : AlignmentFile\n",
      " |      when writing, copy header from file `template`.\n",
      " |  \n",
      " |  header :  dict or AlignmentHeader\n",
      " |      when writing, build header from a multi-level dictionary. The\n",
      " |      first level are the four types ('HD', 'SQ', ...). The second\n",
      " |      level are a list of lines, with each line being a list of\n",
      " |      tag-value pairs. The header is constructed first from all the\n",
      " |      defined fields, followed by user tags in alphabetical\n",
      " |      order. Alternatively, an :class:`~pysam.AlignmentHeader`\n",
      " |      object can be passed directly.\n",
      " |  \n",
      " |  text : string\n",
      " |      when writing, use the string provided as the header\n",
      " |  \n",
      " |  reference_names : list\n",
      " |      see reference_lengths\n",
      " |  \n",
      " |  reference_lengths : list\n",
      " |      when writing or opening a SAM file without header build header\n",
      " |      from list of chromosome names and lengths.  By default, 'SQ'\n",
      " |      and 'LN' tags will be added to the header text. This option\n",
      " |      can be changed by unsetting the flag `add_sq_text`.\n",
      " |  \n",
      " |  add_sq_text : bool\n",
      " |      do not add 'SQ' and 'LN' tags to header. This option permits\n",
      " |      construction :term:`SAM` formatted files without a header.\n",
      " |  \n",
      " |  add_sam_header : bool\n",
      " |      when outputting SAM the default is to output a header. This is\n",
      " |      equivalent to opening the file in 'wh' mode. If this option is\n",
      " |      set to False, no header will be output. To read such a file,\n",
      " |      set `check_header=False`.\n",
      " |  \n",
      " |  check_header : bool\n",
      " |      obsolete: when reading a SAM file, check if header is present\n",
      " |      (default=True)\n",
      " |  \n",
      " |  check_sq : bool\n",
      " |      when reading, check if SQ entries are present in header\n",
      " |      (default=True)\n",
      " |  \n",
      " |  reference_filename : string\n",
      " |      Path to a FASTA-formatted reference file. Valid only for CRAM files.\n",
      " |      When reading a CRAM file, this overrides both ``$REF_PATH`` and the URL\n",
      " |      specified in the header (``UR`` tag), which are normally used to find\n",
      " |      the reference.\n",
      " |  \n",
      " |  index_filename : string\n",
      " |      Explicit path to the index file.  Only needed if the index is not\n",
      " |      named in the standard manner, not located in the same directory as\n",
      " |      the BAM/CRAM file, or is remote.  An IOError is raised if the index\n",
      " |      cannot be found or is invalid.\n",
      " |  \n",
      " |  filepath_index : string\n",
      " |      Alias for `index_filename`.\n",
      " |  \n",
      " |  require_index : bool\n",
      " |      When reading, require that an index file is present and is valid or\n",
      " |      raise an IOError.  (default=False)\n",
      " |  \n",
      " |  filename : string\n",
      " |      Alternative to filepath_or_object. Filename of the file\n",
      " |      to be opened.\n",
      " |  \n",
      " |  duplicate_filehandle: bool\n",
      " |      By default, file handles passed either directly or through\n",
      " |      File-like objects will be duplicated before passing them to\n",
      " |      htslib. The duplication prevents issues where the same stream\n",
      " |      will be closed by htslib and through destruction of the\n",
      " |      high-level python object. Set to False to turn off\n",
      " |      duplication.\n",
      " |  \n",
      " |  ignore_truncation: bool\n",
      " |      Issue a warning, instead of raising an error if the current file\n",
      " |      appears to be truncated due to a missing EOF marker.  Only applies\n",
      " |      to bgzipped formats. (Default=False)\n",
      " |  \n",
      " |  format_options: list\n",
      " |      A list of key=value strings, as accepted by --input-fmt-option and\n",
      " |      --output-fmt-option in samtools.\n",
      " |  threads: integer\n",
      " |      Number of threads to use for compressing/decompressing BAM/CRAM files.\n",
      " |      Setting threads to > 1 cannot be combined with `ignore_truncation`.\n",
      " |      (Default=1)\n",
      " |  \n",
      " |  Method resolution order:\n",
      " |      AlignmentFile\n",
      " |      pysam.libchtslib.HTSFile\n",
      " |      builtins.object\n",
      " |  \n",
      " |  Methods defined here:\n",
      " |  \n",
      " |  __enter__(...)\n",
      " |      AlignmentFile.__enter__(self)\n",
      " |  \n",
      " |  __exit__(...)\n",
      " |      AlignmentFile.__exit__(self, exc_type, exc_value, traceback)\n",
      " |  \n",
      " |  __iter__(self, /)\n",
      " |      Implement iter(self).\n",
      " |  \n",
      " |  __next__(...)\n",
      " |  \n",
      " |  __reduce__ = __reduce_cython__(...)\n",
      " |      AlignmentFile.__reduce_cython__(self)\n",
      " |  \n",
      " |  __setstate__ = __setstate_cython__(...)\n",
      " |      AlignmentFile.__setstate_cython__(self, __pyx_state)\n",
      " |  \n",
      " |  check_index(...)\n",
      " |      AlignmentFile.check_index(self)\n",
      " |      return True if index is present.\n",
      " |      \n",
      " |              Raises\n",
      " |              ------\n",
      " |      \n",
      " |              AttributeError\n",
      " |                  if htsfile is :term:`SAM` formatted and thus has no index.\n",
      " |      \n",
      " |              ValueError\n",
      " |                  if htsfile is closed or index could not be opened.\n",
      " |  \n",
      " |  close(...)\n",
      " |      AlignmentFile.close(self)\n",
      " |      closes the :class:`pysam.AlignmentFile`.\n",
      " |  \n",
      " |  count(...)\n",
      " |      AlignmentFile.count(self, contig=None, start=None, stop=None, region=None, until_eof=False, read_callback='nofilter', reference=None, end=None)\n",
      " |      count the number of reads in :term:`region`\n",
      " |      \n",
      " |              The region is specified by :term:`contig`, `start` and `stop`.\n",
      " |              :term:`reference` and `end` are also accepted for backward\n",
      " |              compatiblity as synonyms for :term:`contig` and `stop`,\n",
      " |              respectively.  Alternatively, a :term:`samtools` :term:`region`\n",
      " |              string can be supplied.\n",
      " |      \n",
      " |              A :term:`SAM` file does not allow random access and if\n",
      " |              `region` or `contig` are given, an exception is raised.\n",
      " |      \n",
      " |              Parameters\n",
      " |              ----------\n",
      " |      \n",
      " |              contig : string\n",
      " |                  reference_name of the genomic region (chromosome)\n",
      " |      \n",
      " |              start : int\n",
      " |                  start of the genomic region (0-based inclusive)\n",
      " |      \n",
      " |              stop : int\n",
      " |                  end of the genomic region (0-based exclusive)\n",
      " |      \n",
      " |              region : string\n",
      " |                  a region string in samtools format.\n",
      " |      \n",
      " |              until_eof : bool\n",
      " |                  count until the end of the file, possibly including\n",
      " |                  unmapped reads as well.\n",
      " |      \n",
      " |              read_callback: string or function\n",
      " |      \n",
      " |                  select a call-back to ignore reads when counting. It can\n",
      " |                  be either a string with the following values:\n",
      " |      \n",
      " |                  ``all``\n",
      " |                      skip reads in which any of the following\n",
      " |                      flags are set: BAM_FUNMAP, BAM_FSECONDARY, BAM_FQCFAIL,\n",
      " |                      BAM_FDUP\n",
      " |      \n",
      " |                  ``nofilter``\n",
      " |                      uses every single read\n",
      " |      \n",
      " |                  Alternatively, `read_callback` can be a function\n",
      " |                  ``check_read(read)`` that should return True only for\n",
      " |                  those reads that shall be included in the counting.\n",
      " |      \n",
      " |              reference : string\n",
      " |                  backward compatible synonym for `contig`\n",
      " |      \n",
      " |              end : int\n",
      " |                  backward compatible synonym for `stop`\n",
      " |      \n",
      " |              Raises\n",
      " |              ------\n",
      " |      \n",
      " |              ValueError\n",
      " |                  if the genomic coordinates are out of range or invalid.\n",
      " |  \n",
      " |  count_coverage(...)\n",
      " |      AlignmentFile.count_coverage(self, contig, start=None, stop=None, region=None, quality_threshold=15, read_callback='all', reference=None, end=None)\n",
      " |      count the coverage of genomic positions by reads in :term:`region`.\n",
      " |      \n",
      " |              The region is specified by :term:`contig`, `start` and `stop`.\n",
      " |              :term:`reference` and `end` are also accepted for backward\n",
      " |              compatiblity as synonyms for :term:`contig` and `stop`,\n",
      " |              respectively.  Alternatively, a :term:`samtools` :term:`region`\n",
      " |              string can be supplied.  The coverage is computed per-base [ACGT].\n",
      " |      \n",
      " |              Parameters\n",
      " |              ----------\n",
      " |      \n",
      " |              contig : string\n",
      " |                  reference_name of the genomic region (chromosome)\n",
      " |      \n",
      " |              start : int\n",
      " |                  start of the genomic region (0-based inclusive). If not\n",
      " |                  given, count from the start of the chromosome.\n",
      " |      \n",
      " |              stop : int\n",
      " |                  end of the genomic region (0-based exclusive). If not given,\n",
      " |                  count to the end of the chromosome.\n",
      " |      \n",
      " |              region : int\n",
      " |                  a region string.\n",
      " |      \n",
      " |              quality_threshold : int\n",
      " |                  quality_threshold is the minimum quality score (in phred) a\n",
      " |                  base has to reach to be counted.\n",
      " |      \n",
      " |              read_callback: string or function\n",
      " |      \n",
      " |                  select a call-back to ignore reads when counting. It can\n",
      " |                  be either a string with the following values:\n",
      " |      \n",
      " |                  ``all``\n",
      " |                      skip reads in which any of the following\n",
      " |                      flags are set: BAM_FUNMAP, BAM_FSECONDARY, BAM_FQCFAIL,\n",
      " |                      BAM_FDUP\n",
      " |      \n",
      " |                  ``nofilter``\n",
      " |                      uses every single read\n",
      " |      \n",
      " |                  Alternatively, `read_callback` can be a function\n",
      " |                  ``check_read(read)`` that should return True only for\n",
      " |                  those reads that shall be included in the counting.\n",
      " |      \n",
      " |              reference : string\n",
      " |                  backward compatible synonym for `contig`\n",
      " |      \n",
      " |              end : int\n",
      " |                  backward compatible synonym for `stop`\n",
      " |      \n",
      " |              Raises\n",
      " |              ------\n",
      " |      \n",
      " |              ValueError\n",
      " |                  if the genomic coordinates are out of range or invalid.\n",
      " |      \n",
      " |              Returns\n",
      " |              -------\n",
      " |      \n",
      " |              four array.arrays of the same length in order A C G T : tuple\n",
      " |  \n",
      " |  fetch(...)\n",
      " |      AlignmentFile.fetch(self, contig=None, start=None, stop=None, region=None, tid=None, until_eof=False, multiple_iterators=False, reference=None, end=None)\n",
      " |      fetch reads aligned in a :term:`region`.\n",
      " |      \n",
      " |              See :meth:`~pysam.HTSFile.parse_region` for more information\n",
      " |              on how genomic regions can be specified. :term:`reference` and\n",
      " |              `end` are also accepted for backward compatiblity as synonyms\n",
      " |              for :term:`contig` and `stop`, respectively.\n",
      " |      \n",
      " |              Without a `contig` or `region` all mapped reads in the file\n",
      " |              will be fetched. The reads will be returned ordered by reference\n",
      " |              sequence, which will not necessarily be the order within the\n",
      " |              file. This mode of iteration still requires an index. If there is\n",
      " |              no index, use `until_eof=True`.\n",
      " |      \n",
      " |              If only `contig` is set, all reads aligned to `contig`\n",
      " |              will be fetched.\n",
      " |      \n",
      " |              A :term:`SAM` file does not allow random access. If `region`\n",
      " |              or `contig` are given, an exception is raised.\n",
      " |      \n",
      " |              Parameters\n",
      " |              ----------\n",
      " |      \n",
      " |              until_eof : bool\n",
      " |      \n",
      " |                 If `until_eof` is True, all reads from the current file\n",
      " |                 position will be returned in order as they are within the\n",
      " |                 file. Using this option will also fetch unmapped reads.\n",
      " |      \n",
      " |              multiple_iterators : bool\n",
      " |      \n",
      " |                 If `multiple_iterators` is True, multiple\n",
      " |                 iterators on the same file can be used at the same time. The\n",
      " |                 iterator returned will receive its own copy of a filehandle to\n",
      " |                 the file effectively re-opening the file. Re-opening a file\n",
      " |                 creates some overhead, so beware.\n",
      " |      \n",
      " |              Returns\n",
      " |              -------\n",
      " |      \n",
      " |              An iterator over a collection of reads.\n",
      " |      \n",
      " |              Raises\n",
      " |              ------\n",
      " |      \n",
      " |              ValueError\n",
      " |                  if the genomic coordinates are out of range or invalid or the\n",
      " |                  file does not permit random access to genomic coordinates.\n",
      " |  \n",
      " |  find_introns(...)\n",
      " |      AlignmentFile.find_introns(self, read_iterator)\n",
      " |      Return a dictionary {(start, stop): count}\n",
      " |              Listing the intronic sites in the reads (identified by 'N' in the cigar strings),\n",
      " |              and their support ( = number of reads ).\n",
      " |      \n",
      " |              read_iterator can be the result of a .fetch(...) call.\n",
      " |              Or it can be a generator filtering such reads. Example\n",
      " |              samfile.find_introns((read for read in samfile.fetch(...) if read.is_reverse)\n",
      " |  \n",
      " |  find_introns_slow(...)\n",
      " |      AlignmentFile.find_introns_slow(self, read_iterator)\n",
      " |      Return a dictionary {(start, stop): count}\n",
      " |              Listing the intronic sites in the reads (identified by 'N' in the cigar strings),\n",
      " |              and their support ( = number of reads ).\n",
      " |      \n",
      " |              read_iterator can be the result of a .fetch(...) call.\n",
      " |              Or it can be a generator filtering such reads. Example\n",
      " |              samfile.find_introns((read for read in samfile.fetch(...) if read.is_reverse)\n",
      " |  \n",
      " |  get_index_statistics(...)\n",
      " |      AlignmentFile.get_index_statistics(self)\n",
      " |      return statistics about mapped/unmapped reads per chromosome as\n",
      " |              they are stored in the index.\n",
      " |      \n",
      " |              Returns\n",
      " |              -------\n",
      " |              list : a list of records for each chromosome. Each record has the attributes 'contig',\n",
      " |                     'mapped', 'unmapped' and 'total'.\n",
      " |  \n",
      " |  get_reference_length(...)\n",
      " |      AlignmentFile.get_reference_length(self, reference)\n",
      " |      \n",
      " |      return :term:`reference` name corresponding to numerical :term:`tid`\n",
      " |  \n",
      " |  get_reference_name(...)\n",
      " |      AlignmentFile.get_reference_name(self, tid)\n",
      " |      \n",
      " |      return :term:`reference` name corresponding to numerical :term:`tid`\n",
      " |  \n",
      " |  get_tid(...)\n",
      " |      AlignmentFile.get_tid(self, reference)\n",
      " |      \n",
      " |      return the numerical :term:`tid` corresponding to\n",
      " |      :term:`reference`\n",
      " |      \n",
      " |      returns -1 if reference is not known.\n",
      " |  \n",
      " |  getrname(...)\n",
      " |      AlignmentFile.getrname(self, tid)\n",
      " |      deprecated, use get_reference_name() instead\n",
      " |  \n",
      " |  gettid(...)\n",
      " |      AlignmentFile.gettid(self, reference)\n",
      " |      deprecated, use get_tid() instead\n",
      " |  \n",
      " |  has_index(...)\n",
      " |      AlignmentFile.has_index(self)\n",
      " |      return true if htsfile has an existing (and opened) index.\n",
      " |  \n",
      " |  head(...)\n",
      " |      AlignmentFile.head(self, n, multiple_iterators=True)\n",
      " |      return an iterator over the first n alignments.\n",
      " |      \n",
      " |              This iterator is is useful for inspecting the bam-file.\n",
      " |      \n",
      " |              Parameters\n",
      " |              ----------\n",
      " |      \n",
      " |              multiple_iterators : bool\n",
      " |      \n",
      " |                  is set to True by default in order to\n",
      " |                  avoid changing the current file position.\n",
      " |      \n",
      " |              Returns\n",
      " |              -------\n",
      " |      \n",
      " |              an iterator over a collection of reads\n",
      " |  \n",
      " |  is_valid_tid(...)\n",
      " |      AlignmentFile.is_valid_tid(self, int tid)\n",
      " |      \n",
      " |      return True if the numerical :term:`tid` is valid; False otherwise.\n",
      " |      \n",
      " |      Note that the unmapped tid code (-1) counts as an invalid.\n",
      " |  \n",
      " |  mate(...)\n",
      " |      AlignmentFile.mate(self, AlignedSegment read)\n",
      " |      return the mate of :class:`~pysam.AlignedSegment` `read`.\n",
      " |      \n",
      " |              .. note::\n",
      " |      \n",
      " |                  Calling this method will change the file position.\n",
      " |                  This might interfere with any iterators that have\n",
      " |                  not re-opened the file.\n",
      " |      \n",
      " |              .. note::\n",
      " |      \n",
      " |                 This method is too slow for high-throughput processing.\n",
      " |                 If a read needs to be processed with its mate, work\n",
      " |                 from a read name sorted file or, better, cache reads.\n",
      " |      \n",
      " |              Returns\n",
      " |              -------\n",
      " |      \n",
      " |              :class:`~pysam.AlignedSegment` : the mate\n",
      " |      \n",
      " |              Raises\n",
      " |              ------\n",
      " |      \n",
      " |              ValueError\n",
      " |                  if the read is unpaired or the mate is unmapped\n",
      " |  \n",
      " |  pileup(...)\n",
      " |      AlignmentFile.pileup(self, contig=None, start=None, stop=None, region=None, reference=None, end=None, **kwargs)\n",
      " |      perform a :term:`pileup` within a :term:`region`. The region is\n",
      " |              specified by :term:`contig`, `start` and `stop` (using\n",
      " |              0-based indexing).  :term:`reference` and `end` are also accepted for\n",
      " |              backward compatiblity as synonyms for :term:`contig` and `stop`,\n",
      " |              respectively.  Alternatively, a samtools 'region' string\n",
      " |              can be supplied.\n",
      " |      \n",
      " |              Without 'contig' or 'region' all reads will be used for the\n",
      " |              pileup. The reads will be returned ordered by\n",
      " |              :term:`contig` sequence, which will not necessarily be the\n",
      " |              order within the file.\n",
      " |      \n",
      " |              Note that :term:`SAM` formatted files do not allow random\n",
      " |              access.  In these files, if a 'region' or 'contig' are\n",
      " |              given an exception is raised.\n",
      " |      \n",
      " |              .. note::\n",
      " |      \n",
      " |                  'all' reads which overlap the region are returned. The\n",
      " |                  first base returned will be the first base of the first\n",
      " |                  read 'not' necessarily the first base of the region used\n",
      " |                  in the query.\n",
      " |      \n",
      " |              Parameters\n",
      " |              ----------\n",
      " |      \n",
      " |              truncate : bool\n",
      " |      \n",
      " |                 By default, the samtools pileup engine outputs all reads\n",
      " |                 overlapping a region. If truncate is True and a region is\n",
      " |                 given, only columns in the exact region specificied are\n",
      " |                 returned.\n",
      " |      \n",
      " |              max_depth : int\n",
      " |                 Maximum read depth permitted. The default limit is '8000'.\n",
      " |      \n",
      " |              stepper : string\n",
      " |                 The stepper controls how the iterator advances.\n",
      " |                 Possible options for the stepper are\n",
      " |      \n",
      " |                 ``all``\n",
      " |                    skip reads in which any of the following flags are set:\n",
      " |                    BAM_FUNMAP, BAM_FSECONDARY, BAM_FQCFAIL, BAM_FDUP\n",
      " |      \n",
      " |                 ``nofilter``\n",
      " |                    uses every single read turning off any filtering.\n",
      " |      \n",
      " |                 ``samtools``\n",
      " |                    same filter and read processing as in :term:`csamtools`\n",
      " |                    pileup. For full compatibility, this requires a\n",
      " |                    'fastafile' to be given. The following options all pertain\n",
      " |                    to filtering of the ``samtools`` stepper.\n",
      " |      \n",
      " |              fastafile : :class:`~pysam.FastaFile` object.\n",
      " |      \n",
      " |                 This is required for some of the steppers.\n",
      " |      \n",
      " |              ignore_overlaps: bool\n",
      " |      \n",
      " |                 If set to True, detect if read pairs overlap and only take\n",
      " |                 the higher quality base. This is the default.\n",
      " |      \n",
      " |              flag_filter : int\n",
      " |      \n",
      " |                 ignore reads where any of the bits in the flag are set. The default is\n",
      " |                 BAM_FUNMAP | BAM_FSECONDARY | BAM_FQCFAIL | BAM_FDUP.\n",
      " |      \n",
      " |              flag_require : int\n",
      " |      \n",
      " |                 only use reads where certain flags are set. The default is 0.\n",
      " |      \n",
      " |              ignore_orphans: bool\n",
      " |      \n",
      " |                  ignore orphans (paired reads that are not in a proper pair).\n",
      " |                  The default is to ignore orphans.\n",
      " |         \n",
      " |              min_base_quality: int\n",
      " |      \n",
      " |                 Minimum base quality. Bases below the minimum quality will\n",
      " |                 not be output.\n",
      " |      \n",
      " |              adjust_capq_threshold: int\n",
      " |      \n",
      " |                 adjust mapping quality. The default is 0 for no\n",
      " |                 adjustment. The recommended value for adjustment is 50.\n",
      " |      \n",
      " |              min_mapping_quality : int\n",
      " |      \n",
      " |                 only use reads above a minimum mapping quality. The default is 0.\n",
      " |      \n",
      " |              compute_baq: bool\n",
      " |      \n",
      " |                 re-alignment computing per-Base Alignment Qualities (BAQ). The\n",
      " |                 default is to do re-alignment. Realignment requires a reference\n",
      " |                 sequence. If none is present, no realignment will be performed.\n",
      " |      \n",
      " |              redo_baq: bool\n",
      " |      \n",
      " |                 recompute per-Base Alignment Quality on the fly ignoring\n",
      " |                 existing base qualities. The default is False (use existing\n",
      " |                 base qualities).\n",
      " |      \n",
      " |              adjust_capq_threshold: int\n",
      " |      \n",
      " |                  adjust mapping quality. The default is 0 for no\n",
      " |                  adjustment. The recommended value for adjustment is 50.\n",
      " |      \n",
      " |              Returns\n",
      " |              -------\n",
      " |      \n",
      " |              an iterator over genomic positions.\n",
      " |  \n",
      " |  write(...)\n",
      " |      AlignmentFile.write(self, AlignedSegment read) -> int\n",
      " |      \n",
      " |      write a single :class:`pysam.AlignedSegment` to disk.\n",
      " |      \n",
      " |      Raises\n",
      " |      ------\n",
      " |      ValueError\n",
      " |          if the writing failed\n",
      " |      \n",
      " |      Returns\n",
      " |      -------\n",
      " |      \n",
      " |      int : the number of bytes written. If the file is closed,\n",
      " |            this will be 0.\n",
      " |  \n",
      " |  ----------------------------------------------------------------------\n",
      " |  Static methods defined here:\n",
      " |  \n",
      " |  __new__(*args, **kwargs) from builtins.type\n",
      " |      Create and return a new object.  See help(type) for accurate signature.\n",
      " |  \n",
      " |  ----------------------------------------------------------------------\n",
      " |  Data descriptors defined here:\n",
      " |  \n",
      " |  header\n",
      " |  \n",
      " |  lengths\n",
      " |      tuple of the lengths of the :term:`reference` sequences. This is a\n",
      " |      read-only attribute. The lengths are in the same order as\n",
      " |      :attr:`pysam.AlignmentFile.references`\n",
      " |  \n",
      " |  mapped\n",
      " |      int with total number of mapped alignments according to the\n",
      " |      statistics recorded in the index. This is a read-only\n",
      " |      attribute.\n",
      " |  \n",
      " |  nocoordinate\n",
      " |      int with total number of reads without coordinates according to the\n",
      " |      statistics recorded in the index. This is a read-only attribute.\n",
      " |  \n",
      " |  nreferences\n",
      " |      int with the number of :term:`reference` sequences in the file.\n",
      " |      This is a read-only attribute.\n",
      " |  \n",
      " |  reference_filename\n",
      " |  \n",
      " |  references\n",
      " |      tuple with the names of :term:`reference` sequences. This is a\n",
      " |      read-only attribute\n",
      " |  \n",
      " |  text\n",
      " |      deprecated, use .header directly\n",
      " |  \n",
      " |  unmapped\n",
      " |      int with total number of unmapped reads according to the statistics\n",
      " |      recorded in the index. This number of reads includes the number of reads\n",
      " |      without coordinates. This is a read-only attribute.\n",
      " |  \n",
      " |  ----------------------------------------------------------------------\n",
      " |  Data and other attributes defined here:\n",
      " |  \n",
      " |  __pyx_vtable__ = <capsule object NULL>\n",
      " |  \n",
      " |  ----------------------------------------------------------------------\n",
      " |  Methods inherited from pysam.libchtslib.HTSFile:\n",
      " |  \n",
      " |  add_hts_options(...)\n",
      " |      HTSFile.add_hts_options(self, format_options=None)\n",
      " |      Given a list of key=value format option strings, add them to an open htsFile\n",
      " |  \n",
      " |  check_truncation(...)\n",
      " |      HTSFile.check_truncation(self, ignore_truncation=False)\n",
      " |      Check if file is truncated.\n",
      " |  \n",
      " |  is_valid_reference_name(...)\n",
      " |      HTSFile.is_valid_reference_name(self, contig)\n",
      " |      \n",
      " |      return True if the contig name :term:`contig` is valid; False otherwise.\n",
      " |  \n",
      " |  parse_region(...)\n",
      " |      HTSFile.parse_region(self, contig=None, start=None, stop=None, region=None, tid=None, reference=None, end=None)\n",
      " |      parse alternative ways to specify a genomic region. A region can\n",
      " |              either be specified by :term:`contig`, `start` and\n",
      " |              `stop`. `start` and `stop` denote 0-based, half-open\n",
      " |              intervals. :term:`reference` and `end` are also accepted for\n",
      " |              backward compatiblity as synonyms for :term:`contig` and\n",
      " |              `stop`, respectively.\n",
      " |      \n",
      " |              Alternatively, a samtools :term:`region` string can be\n",
      " |              supplied.\n",
      " |      \n",
      " |              If any of the coordinates are missing they will be replaced by\n",
      " |              the minimum (`start`) or maximum (`stop`) coordinate.\n",
      " |      \n",
      " |              Note that region strings are 1-based inclusive, while `start`\n",
      " |              and `stop` denote an interval in 0-based, half-open\n",
      " |              coordinates (like BED files and Python slices).\n",
      " |      \n",
      " |              If `contig` or `region` or are ``*``, unmapped reads at the end\n",
      " |              of a BAM file will be returned. Setting either to ``.`` will\n",
      " |              iterate from the beginning of the file.\n",
      " |      \n",
      " |              Returns\n",
      " |              -------\n",
      " |      \n",
      " |              tuple : a tuple of `flag`, :term:`tid`, `start` and\n",
      " |              `stop`. The flag indicates whether no coordinates were\n",
      " |              supplied and the genomic region is the complete genomic space.\n",
      " |      \n",
      " |              Raises\n",
      " |              ------\n",
      " |      \n",
      " |              ValueError\n",
      " |                 for invalid or out of bounds regions.\n",
      " |  \n",
      " |  reset(...)\n",
      " |      HTSFile.reset(self)\n",
      " |      reset file position to beginning of file just after the header.\n",
      " |      \n",
      " |              Returns\n",
      " |              -------\n",
      " |      \n",
      " |              The file position after moving the file pointer.\n",
      " |  \n",
      " |  seek(...)\n",
      " |      HTSFile.seek(self, uint64_t offset)\n",
      " |      move file pointer to position *offset*, see :meth:`pysam.HTSFile.tell`.\n",
      " |  \n",
      " |  tell(...)\n",
      " |      HTSFile.tell(self)\n",
      " |      return current file position, see :meth:`pysam.HTSFile.seek`.\n",
      " |  \n",
      " |  ----------------------------------------------------------------------\n",
      " |  Data descriptors inherited from pysam.libchtslib.HTSFile:\n",
      " |  \n",
      " |  category\n",
      " |      General file format category.  One of UNKNOWN, ALIGNMENTS,\n",
      " |      VARIANTS, INDEX, REGIONS\n",
      " |  \n",
      " |  closed\n",
      " |      return True if HTSFile is closed.\n",
      " |  \n",
      " |  compression\n",
      " |      File compression.\n",
      " |      \n",
      " |      One of NONE, GZIP, BGZF, CUSTOM.\n",
      " |  \n",
      " |  description\n",
      " |      Vaguely human readable description of the file format\n",
      " |  \n",
      " |  duplicate_filehandle\n",
      " |  \n",
      " |  filename\n",
      " |  \n",
      " |  format\n",
      " |      File format.\n",
      " |      \n",
      " |      One of UNKNOWN, BINARY_FORMAT, TEXT_FORMAT, SAM, BAM,\n",
      " |      BAI, CRAM, CRAI, VCF, BCF, CSI, GZI, TBI, BED.\n",
      " |  \n",
      " |  index_filename\n",
      " |  \n",
      " |  is_bam\n",
      " |      return True if HTSFile is reading or writing a BAM alignment file\n",
      " |  \n",
      " |  is_bcf\n",
      " |      return True if HTSFile is reading or writing a BCF variant file\n",
      " |  \n",
      " |  is_closed\n",
      " |      return True if HTSFile is closed.\n",
      " |  \n",
      " |  is_cram\n",
      " |      return True if HTSFile is reading or writing a BAM alignment file\n",
      " |  \n",
      " |  is_open\n",
      " |      return True if HTSFile is open and in a valid state.\n",
      " |  \n",
      " |  is_read\n",
      " |      return True if HTSFile is open for reading\n",
      " |  \n",
      " |  is_remote\n",
      " |  \n",
      " |  is_sam\n",
      " |      return True if HTSFile is reading or writing a SAM alignment file\n",
      " |  \n",
      " |  is_stream\n",
      " |  \n",
      " |  is_vcf\n",
      " |      return True if HTSFile is reading or writing a VCF variant file\n",
      " |  \n",
      " |  is_write\n",
      " |      return True if HTSFile is open for writing\n",
      " |  \n",
      " |  mode\n",
      " |  \n",
      " |  threads\n",
      " |  \n",
      " |  version\n",
      " |      Tuple of file format version numbers (major, minor)\n",
      "\n"
     ]
    }
   ],
   "source": [
    "help(AlignmentFile)"
   ]
  },
  {
   "cell_type": "markdown",
   "metadata": {},
   "source": [
    "### Costruire l'oggetto `AlignmentFile` a partire dal file `sample.bam`\n",
    "\n",
    "Indicizzare il file `sample.bam` tramite la funzione `index()`."
   ]
  },
  {
   "cell_type": "code",
   "execution_count": 5,
   "metadata": {},
   "outputs": [
    {
     "data": {
      "text/plain": [
       "''"
      ]
     },
     "execution_count": 5,
     "metadata": {},
     "output_type": "execute_result"
    }
   ],
   "source": [
    "pysam.index('./sample.bam')"
   ]
  },
  {
   "cell_type": "markdown",
   "metadata": {},
   "source": [
    "Costruire l'oggetto `AlignmentFile`."
   ]
  },
  {
   "cell_type": "code",
   "execution_count": 6,
   "metadata": {},
   "outputs": [],
   "source": [
    "bamfile = AlignmentFile('./sample.bam', 'rb')"
   ]
  },
  {
   "cell_type": "markdown",
   "metadata": {},
   "source": [
    "Il metodo `get_index_statistics()` fornisce qualche informazione generale."
   ]
  },
  {
   "cell_type": "code",
   "execution_count": 7,
   "metadata": {},
   "outputs": [
    {
     "data": {
      "text/plain": [
       "[IndexStats(contig='X', mapped=25008, unmapped=0, total=25008)]"
      ]
     },
     "execution_count": 7,
     "metadata": {},
     "output_type": "execute_result"
    }
   ],
   "source": [
    "bamfile.get_index_statistics()"
   ]
  },
  {
   "cell_type": "markdown",
   "metadata": {},
   "source": [
    "Il numero di reads mappati e non mappati si ottiene accedendo a `mapped` e `unmapped`:"
   ]
  },
  {
   "cell_type": "code",
   "execution_count": 8,
   "metadata": {},
   "outputs": [
    {
     "data": {
      "text/plain": [
       "25008"
      ]
     },
     "execution_count": 8,
     "metadata": {},
     "output_type": "execute_result"
    }
   ],
   "source": [
    "bamfile.mapped"
   ]
  },
  {
   "cell_type": "code",
   "execution_count": 9,
   "metadata": {},
   "outputs": [
    {
     "data": {
      "text/plain": [
       "0"
      ]
     },
     "execution_count": 9,
     "metadata": {},
     "output_type": "execute_result"
    }
   ],
   "source": [
    "bamfile.unmapped"
   ]
  },
  {
   "cell_type": "markdown",
   "metadata": {},
   "source": [
    "Per ottenere le references coinvolte nel file BAM:"
   ]
  },
  {
   "cell_type": "code",
   "execution_count": 10,
   "metadata": {},
   "outputs": [
    {
     "data": {
      "text/plain": [
       "('X',)"
      ]
     },
     "execution_count": 10,
     "metadata": {},
     "output_type": "execute_result"
    }
   ],
   "source": [
    "bamfile.references"
   ]
  },
  {
   "cell_type": "markdown",
   "metadata": {},
   "source": [
    "Per ottenere il numero di references coinvolte nel file:"
   ]
  },
  {
   "cell_type": "code",
   "execution_count": 11,
   "metadata": {},
   "outputs": [
    {
     "data": {
      "text/plain": [
       "1"
      ]
     },
     "execution_count": 11,
     "metadata": {},
     "output_type": "execute_result"
    }
   ],
   "source": [
    "bamfile.nreferences"
   ]
  },
  {
   "cell_type": "markdown",
   "metadata": {},
   "source": [
    "Per ottenere le lunghezze delle references coinvolte nel file:"
   ]
  },
  {
   "cell_type": "code",
   "execution_count": 12,
   "metadata": {},
   "outputs": [
    {
     "data": {
      "text/plain": [
       "(23542271,)"
      ]
     },
     "execution_count": 12,
     "metadata": {},
     "output_type": "execute_result"
    }
   ],
   "source": [
    "bamfile.lengths"
   ]
  },
  {
   "cell_type": "markdown",
   "metadata": {},
   "source": [
    "Per ottenere la lunghezza di una reference:"
   ]
  },
  {
   "cell_type": "code",
   "execution_count": 14,
   "metadata": {},
   "outputs": [
    {
     "data": {
      "text/plain": [
       "23542271"
      ]
     },
     "execution_count": 14,
     "metadata": {},
     "output_type": "execute_result"
    }
   ],
   "source": [
    "bamfile.get_reference_length('X')"
   ]
  },
  {
   "cell_type": "markdown",
   "metadata": {},
   "source": [
    "Per ottenere il numero di reads mappati a una determinata regione della reference:"
   ]
  },
  {
   "cell_type": "code",
   "execution_count": 15,
   "metadata": {},
   "outputs": [
    {
     "data": {
      "text/plain": [
       "25008"
      ]
     },
     "execution_count": 15,
     "metadata": {},
     "output_type": "execute_result"
    }
   ],
   "source": [
    "bamfile.count('X', 280000, 300000)"
   ]
  },
  {
   "cell_type": "markdown",
   "metadata": {},
   "source": [
    "## Come ottenere gli allineamenti dall'oggetto `AlignmentFile`\n",
    "\n",
    "Le istruzioni: \n",
    "\n",
    "    bamfile.fetch()\n",
    "    bamfile.fetch(ref_name)\n",
    "    bamfile.fetch(ref_name, start_region, end_region)\n",
    "    \n",
    "restituiscono (rispettivamente) un iteratore contenente:\n",
    "- tutti gli allineamenti del BAM file\n",
    "- tutti gli allineamenti che si riferiscono alla reference `ref_name`\n",
    "- tutti gli allineamenti che si riferiscono alla sottoregione tra le posizioni `start_region` e `end_region`della reference `ref_name`.\n",
    "\n",
    "Un singolo allineamento tra query e reference è un oggetto di tipo `AlignedSegment`.\n",
    "\n",
    "---\n",
    "    \n",
    "Si estraggano tutti gli allineamenti del BAM file."
   ]
  },
  {
   "cell_type": "code",
   "execution_count": 16,
   "metadata": {},
   "outputs": [],
   "source": [
    "all_alignments = bamfile.fetch()"
   ]
  },
  {
   "cell_type": "markdown",
   "metadata": {},
   "source": [
    "Il numero di allineamenti estratti è:"
   ]
  },
  {
   "cell_type": "code",
   "execution_count": 17,
   "metadata": {},
   "outputs": [
    {
     "data": {
      "text/plain": [
       "25008"
      ]
     },
     "execution_count": 17,
     "metadata": {},
     "output_type": "execute_result"
    }
   ],
   "source": [
    "len(list(all_alignments))"
   ]
  },
  {
   "cell_type": "markdown",
   "metadata": {
    "scrolled": true
   },
   "source": [
    "Si estraggano ora tutti gli allineamenti relativa alla reference `X`."
   ]
  },
  {
   "cell_type": "code",
   "execution_count": 18,
   "metadata": {},
   "outputs": [],
   "source": [
    "all_alignments = bamfile.fetch('X')"
   ]
  },
  {
   "cell_type": "code",
   "execution_count": 19,
   "metadata": {},
   "outputs": [
    {
     "data": {
      "text/plain": [
       "25008"
      ]
     },
     "execution_count": 19,
     "metadata": {},
     "output_type": "execute_result"
    }
   ],
   "source": [
    "len(list(all_alignments))"
   ]
  },
  {
   "cell_type": "markdown",
   "metadata": {},
   "source": [
    "Si estraggano infine tutti gli allineamenti relativa alla reference `X` che cadono nella regione tra le posizioni `280000` e `285000`."
   ]
  },
  {
   "cell_type": "code",
   "execution_count": 20,
   "metadata": {},
   "outputs": [],
   "source": [
    "all_alignments = bamfile.fetch('X', 280000, 285000)"
   ]
  },
  {
   "cell_type": "code",
   "execution_count": 21,
   "metadata": {},
   "outputs": [
    {
     "data": {
      "text/plain": [
       "3170"
      ]
     },
     "execution_count": 21,
     "metadata": {},
     "output_type": "execute_result"
    }
   ],
   "source": [
    "len(list(all_alignments))"
   ]
  },
  {
   "cell_type": "markdown",
   "metadata": {},
   "source": [
    "L'istruzione:\n",
    "\n",
    "    bamfile.head(n)\n",
    "\n",
    "restituisce i primi `n` allineamenti del BAM file.\n",
    "\n",
    "---\n",
    "\n",
    "Si estraggano i primi 1000 allineamenti."
   ]
  },
  {
   "cell_type": "code",
   "execution_count": 22,
   "metadata": {},
   "outputs": [],
   "source": [
    "first_alignment = bamfile.head(1000)"
   ]
  },
  {
   "cell_type": "code",
   "execution_count": 24,
   "metadata": {},
   "outputs": [
    {
     "data": {
      "text/plain": [
       "1000"
      ]
     },
     "execution_count": 24,
     "metadata": {},
     "output_type": "execute_result"
    }
   ],
   "source": [
    "len(list(first_alignment))"
   ]
  },
  {
   "cell_type": "markdown",
   "metadata": {},
   "source": [
    "### Come manipolare gli allineamenti"
   ]
  },
  {
   "cell_type": "code",
   "execution_count": 25,
   "metadata": {},
   "outputs": [],
   "source": [
    "all_alignments = bamfile.fetch()\n",
    "all_alignments = list(all_alignments)"
   ]
  },
  {
   "cell_type": "code",
   "execution_count": 26,
   "metadata": {},
   "outputs": [
    {
     "name": "stdout",
     "output_type": "stream",
     "text": [
      "Help on class AlignedSegment in module pysam.libcalignedsegment:\n",
      "\n",
      "class AlignedSegment(builtins.object)\n",
      " |  AlignedSegment(AlignmentHeader header=None)\n",
      " |  Class representing an aligned segment.\n",
      " |  \n",
      " |      This class stores a handle to the samtools C-structure representing\n",
      " |      an aligned read. Member read access is forwarded to the C-structure\n",
      " |      and converted into python objects. This implementation should be fast,\n",
      " |      as only the data needed is converted.\n",
      " |  \n",
      " |      For write access, the C-structure is updated in-place. This is\n",
      " |      not the most efficient way to build BAM entries, as the variable\n",
      " |      length data is concatenated and thus needs to be resized if\n",
      " |      a field is updated. Furthermore, the BAM entry might be\n",
      " |      in an inconsistent state.\n",
      " |  \n",
      " |      One issue to look out for is that the sequence should always\n",
      " |      be set *before* the quality scores. Setting the sequence will\n",
      " |      also erase any quality scores that were set previously.\n",
      " |  \n",
      " |      Parameters\n",
      " |      ----------\n",
      " |  \n",
      " |      header -- :class:`~pysam.AlignmentHeader` object to map numerical\n",
      " |                identifiers to chromosome names. If not given, an empty\n",
      " |                header is created.\n",
      " |  \n",
      " |  Methods defined here:\n",
      " |  \n",
      " |  __copy__(...)\n",
      " |      AlignedSegment.__copy__(self)\n",
      " |  \n",
      " |  __deepcopy__(...)\n",
      " |      AlignedSegment.__deepcopy__(self, memo)\n",
      " |  \n",
      " |  __eq__(self, value, /)\n",
      " |      Return self==value.\n",
      " |  \n",
      " |  __ge__(self, value, /)\n",
      " |      Return self>=value.\n",
      " |  \n",
      " |  __gt__(self, value, /)\n",
      " |      Return self>value.\n",
      " |  \n",
      " |  __hash__(self, /)\n",
      " |      Return hash(self).\n",
      " |  \n",
      " |  __init__(self, /, *args, **kwargs)\n",
      " |      Initialize self.  See help(type(self)) for accurate signature.\n",
      " |  \n",
      " |  __le__(self, value, /)\n",
      " |      Return self<=value.\n",
      " |  \n",
      " |  __lt__(self, value, /)\n",
      " |      Return self<value.\n",
      " |  \n",
      " |  __ne__(self, value, /)\n",
      " |      Return self!=value.\n",
      " |  \n",
      " |  __reduce__ = __reduce_cython__(...)\n",
      " |      AlignedSegment.__reduce_cython__(self)\n",
      " |  \n",
      " |  __setstate__ = __setstate_cython__(...)\n",
      " |      AlignedSegment.__setstate_cython__(self, __pyx_state)\n",
      " |  \n",
      " |  __str__(...)\n",
      " |      return string representation of alignment.\n",
      " |      \n",
      " |      The representation is an approximate :term:`SAM` format, because\n",
      " |      an aligned read might not be associated with a :term:`AlignmentFile`.\n",
      " |      As a result :term:`tid` is shown instead of the reference name.\n",
      " |      Similarly, the tags field is returned in its parsed state.\n",
      " |      \n",
      " |      To get a valid SAM record, use :meth:`to_string`.\n",
      " |  \n",
      " |  compare(...)\n",
      " |      AlignedSegment.compare(self, AlignedSegment other)\n",
      " |      return -1,0,1, if contents in this are binary\n",
      " |              <,=,> to *other*\n",
      " |  \n",
      " |  get_aligned_pairs(...)\n",
      " |      AlignedSegment.get_aligned_pairs(self, matches_only=False, with_seq=False)\n",
      " |      a list of aligned read (query) and reference positions.\n",
      " |      \n",
      " |              For inserts, deletions, skipping either query or reference\n",
      " |              position may be None.\n",
      " |      \n",
      " |              Padding is currently not supported and leads to an exception.\n",
      " |      \n",
      " |              Parameters\n",
      " |              ----------\n",
      " |      \n",
      " |              matches_only : bool\n",
      " |                If True, only matched bases are returned - no None on either\n",
      " |                side.\n",
      " |              with_seq : bool\n",
      " |                If True, return a third element in the tuple containing the\n",
      " |                reference sequence. Substitutions are lower-case. This option\n",
      " |                requires an MD tag to be present.\n",
      " |      \n",
      " |              Returns\n",
      " |              -------\n",
      " |      \n",
      " |              aligned_pairs : list of tuples\n",
      " |  \n",
      " |  get_blocks(...)\n",
      " |      AlignedSegment.get_blocks(self)\n",
      " |      a list of start and end positions of\n",
      " |             aligned gapless blocks.\n",
      " |      \n",
      " |             The start and end positions are in genomic\n",
      " |             coordinates.\n",
      " |      \n",
      " |             Blocks are not normalized, i.e. two blocks\n",
      " |             might be directly adjacent. This happens if\n",
      " |             the two blocks are separated by an insertion\n",
      " |             in the read.\n",
      " |  \n",
      " |  get_cigar_stats(...)\n",
      " |      AlignedSegment.get_cigar_stats(self)\n",
      " |      summary of operations in cigar string.\n",
      " |      \n",
      " |              The output order in the array is \"MIDNSHP=X\" followed by a\n",
      " |              field for the NM tag. If the NM tag is not present, this\n",
      " |              field will always be 0.\n",
      " |      \n",
      " |              +-----+--------------+-----+\n",
      " |              |M    |BAM_CMATCH    |0    |\n",
      " |              +-----+--------------+-----+\n",
      " |              |I    |BAM_CINS      |1    |\n",
      " |              +-----+--------------+-----+\n",
      " |              |D    |BAM_CDEL      |2    |\n",
      " |              +-----+--------------+-----+\n",
      " |              |N    |BAM_CREF_SKIP |3    |\n",
      " |              +-----+--------------+-----+\n",
      " |              |S    |BAM_CSOFT_CLIP|4    |\n",
      " |              +-----+--------------+-----+\n",
      " |              |H    |BAM_CHARD_CLIP|5    |\n",
      " |              +-----+--------------+-----+\n",
      " |              |P    |BAM_CPAD      |6    |\n",
      " |              +-----+--------------+-----+\n",
      " |              |=    |BAM_CEQUAL    |7    |\n",
      " |              +-----+--------------+-----+\n",
      " |              |X    |BAM_CDIFF     |8    |\n",
      " |              +-----+--------------+-----+\n",
      " |              |B    |BAM_CBACK     |9    |\n",
      " |              +-----+--------------+-----+\n",
      " |              |NM   |NM tag        |10   |\n",
      " |              +-----+--------------+-----+\n",
      " |      \n",
      " |              If no cigar string is present, empty arrays will be returned.\n",
      " |      \n",
      " |              Parameters\n",
      " |              ----------\n",
      " |      \n",
      " |              Returns\n",
      " |              -------\n",
      " |      \n",
      " |              arrays : two arrays. The first contains the nucleotide counts within\n",
      " |                 each cigar operation, the second contains the number of blocks for\n",
      " |                 each cigar operation.\n",
      " |  \n",
      " |  get_forward_qualities(...)\n",
      " |      AlignedSegment.get_forward_qualities(self)\n",
      " |      return base qualities of the read sequence.\n",
      " |              \n",
      " |              Reads mapping to the reverse strand will be reversed.\n",
      " |  \n",
      " |  get_forward_sequence(...)\n",
      " |      AlignedSegment.get_forward_sequence(self)\n",
      " |      return the original read sequence.\n",
      " |              \n",
      " |              Reads mapping to the reverse strand will be reverse\n",
      " |              complemented.\n",
      " |      \n",
      " |              Returns None if the record has no query sequence.\n",
      " |  \n",
      " |  get_overlap(...)\n",
      " |      AlignedSegment.get_overlap(self, uint32_t start, uint32_t end)\n",
      " |      return number of aligned bases of read overlapping the interval\n",
      " |              *start* and *end* on the reference sequence.\n",
      " |      \n",
      " |              Return None if cigar alignment is not available.\n",
      " |  \n",
      " |  get_reference_positions(...)\n",
      " |      AlignedSegment.get_reference_positions(self, full_length=False)\n",
      " |      a list of reference positions that this read aligns to.\n",
      " |      \n",
      " |              By default, this method only returns positions in the\n",
      " |              reference that are within the alignment. If *full_length* is\n",
      " |              set, None values will be included for any soft-clipped or\n",
      " |              unaligned positions within the read. The returned list will\n",
      " |              thus be of the same length as the read.\n",
      " |  \n",
      " |  get_reference_sequence(...)\n",
      " |      AlignedSegment.get_reference_sequence(self)\n",
      " |      return the reference sequence in the region that is covered by the\n",
      " |              alignment of the read to the reference.\n",
      " |      \n",
      " |              This method requires the MD tag to be set.\n",
      " |  \n",
      " |  get_tag(...)\n",
      " |      AlignedSegment.get_tag(self, tag, with_value_type=False)\n",
      " |      \n",
      " |      retrieves data from the optional alignment section\n",
      " |      given a two-letter *tag* denoting the field.\n",
      " |      \n",
      " |      The returned value is cast into an appropriate python type.\n",
      " |      \n",
      " |      This method is the fastest way to access the optional\n",
      " |      alignment section if only few tags need to be retrieved.\n",
      " |      \n",
      " |      Possible value types are \"AcCsSiIfZHB\" (see BAM format\n",
      " |      specification) as well as additional value type 'd' as\n",
      " |      implemented in htslib.\n",
      " |      \n",
      " |      Parameters\n",
      " |      ----------\n",
      " |      \n",
      " |      tag :\n",
      " |          data tag.\n",
      " |      \n",
      " |      with_value_type : Optional[bool]\n",
      " |          if set to True, the return value is a tuple of (tag value, type code).\n",
      " |          (default False)\n",
      " |      \n",
      " |      Returns\n",
      " |      -------\n",
      " |      \n",
      " |      A python object with the value of the `tag`. The type of the\n",
      " |      object depends on the data type in the data record.\n",
      " |      \n",
      " |      Raises\n",
      " |      ------\n",
      " |      \n",
      " |      KeyError\n",
      " |          If `tag` is not present, a KeyError is raised.\n",
      " |  \n",
      " |  get_tags(...)\n",
      " |      AlignedSegment.get_tags(self, with_value_type=False)\n",
      " |      the fields in the optional aligment section.\n",
      " |      \n",
      " |              Returns a list of all fields in the optional\n",
      " |              alignment section. Values are converted to appropriate python\n",
      " |              values. For example:\n",
      " |      \n",
      " |              [(NM, 2), (RG, \"GJP00TM04\")]\n",
      " |      \n",
      " |              If *with_value_type* is set, the value type as encode in\n",
      " |              the AlignedSegment record will be returned as well:\n",
      " |      \n",
      " |              [(NM, 2, \"i\"), (RG, \"GJP00TM04\", \"Z\")]\n",
      " |      \n",
      " |              This method will convert all values in the optional alignment\n",
      " |              section. When getting only one or few tags, please see\n",
      " |              :meth:`get_tag` for a quicker way to achieve this.\n",
      " |  \n",
      " |  has_tag(...)\n",
      " |      AlignedSegment.has_tag(self, tag)\n",
      " |      returns true if the optional alignment section\n",
      " |              contains a given *tag*.\n",
      " |  \n",
      " |  infer_query_length(...)\n",
      " |      AlignedSegment.infer_query_length(self, always=False)\n",
      " |      infer query length from CIGAR alignment.\n",
      " |      \n",
      " |              This method deduces the query length from the CIGAR alignment\n",
      " |              but does not include hard-clipped bases.\n",
      " |      \n",
      " |              Returns None if CIGAR alignment is not present.\n",
      " |      \n",
      " |              If *always* is set to True, `infer_read_length` is used instead.\n",
      " |              This is deprecated and only present for backward compatibility.\n",
      " |  \n",
      " |  infer_read_length(...)\n",
      " |      AlignedSegment.infer_read_length(self)\n",
      " |      infer read length from CIGAR alignment.\n",
      " |      \n",
      " |              This method deduces the read length from the CIGAR alignment\n",
      " |              including hard-clipped bases.\n",
      " |      \n",
      " |              Returns None if CIGAR alignment is not present.\n",
      " |  \n",
      " |  opt(...)\n",
      " |      AlignedSegment.opt(self, tag)\n",
      " |      deprecated, use get_tag() instead\n",
      " |  \n",
      " |  overlap(...)\n",
      " |      AlignedSegment.overlap(self)\n",
      " |      deprecated, use get_overlap() instead\n",
      " |  \n",
      " |  setTag(...)\n",
      " |      AlignedSegment.setTag(self, tag, value, value_type=None, replace=True)\n",
      " |      deprecated, use set_tag() instead\n",
      " |  \n",
      " |  set_tag(...)\n",
      " |      AlignedSegment.set_tag(self, tag, value, value_type=None, replace=True)\n",
      " |      sets a particular field *tag* to *value* in the optional alignment\n",
      " |              section.\n",
      " |      \n",
      " |              *value_type* describes the type of *value* that is to entered\n",
      " |              into the alignment record. It can be set explicitly to one of\n",
      " |              the valid one-letter type codes. If unset, an appropriate type\n",
      " |              will be chosen automatically based on the python type of\n",
      " |              *value*.\n",
      " |      \n",
      " |              An existing value of the same *tag* will be overwritten unless\n",
      " |              *replace* is set to False. This is usually not recommened as a\n",
      " |              tag may only appear once in the optional alignment section.\n",
      " |      \n",
      " |              If *value* is None, the tag will be deleted.\n",
      " |      \n",
      " |              This method accepts valid SAM specification value types, which\n",
      " |              are::\n",
      " |              \n",
      " |                 A: printable char\n",
      " |                 i: signed int\n",
      " |                 f: float\n",
      " |                 Z: printable string\n",
      " |                 H: Byte array in hex format\n",
      " |                 B: Integer or numeric array\n",
      " |      \n",
      " |              Additionally, it will accept the integer BAM types ('cCsSI')\n",
      " |      \n",
      " |              For htslib compatibility, 'a' is synonymous with 'A' and the\n",
      " |              method accepts a 'd' type code for a double precision float.\n",
      " |      \n",
      " |              When deducing the type code by the python type of *value*, the\n",
      " |              following mapping is applied::\n",
      " |              \n",
      " |                  i: python int\n",
      " |                  f: python float\n",
      " |                  Z: python str or bytes\n",
      " |                  B: python array.array, list or tuple\n",
      " |                  \n",
      " |              Note that a single character string will be output as 'Z' and\n",
      " |              not 'A' as the former is the more general type.\n",
      " |  \n",
      " |  set_tags(...)\n",
      " |      AlignedSegment.set_tags(self, tags)\n",
      " |      sets the fields in the optional alignment section with\n",
      " |              a list of (tag, value) tuples.\n",
      " |      \n",
      " |              The :term:`value type` of the values is determined from the\n",
      " |              python type. Optionally, a type may be given explicitly as\n",
      " |              a third value in the tuple, For example:\n",
      " |      \n",
      " |              x.set_tags([(NM, 2, \"i\"), (RG, \"GJP00TM04\", \"Z\")]\n",
      " |      \n",
      " |              This method will not enforce the rule that the same tag may appear\n",
      " |              only once in the optional alignment section.\n",
      " |  \n",
      " |  to_dict(...)\n",
      " |      AlignedSegment.to_dict(self)\n",
      " |      returns a json representation of the aligned segment.\n",
      " |      \n",
      " |              Field names are abbreviated versions of the class attributes.\n",
      " |  \n",
      " |  to_string(...)\n",
      " |      AlignedSegment.to_string(self)\n",
      " |      returns a string representation of the aligned segment.\n",
      " |      \n",
      " |              The output format is valid SAM format if a header is associated\n",
      " |              with the AlignedSegment.\n",
      " |  \n",
      " |  tostring(...)\n",
      " |      AlignedSegment.tostring(self, htsfile=None)\n",
      " |      deprecated, use :meth:`to_string()` instead.\n",
      " |      \n",
      " |              Parameters\n",
      " |              ----------\n",
      " |      \n",
      " |              htsfile -- (deprecated) AlignmentFile object to map numerical\n",
      " |                         identifiers to chromosome names. This parameter is present\n",
      " |                         for backwards compatibility and ignored.\n",
      " |  \n",
      " |  ----------------------------------------------------------------------\n",
      " |  Class methods defined here:\n",
      " |  \n",
      " |  from_dict(...) from builtins.type\n",
      " |      AlignedSegment.from_dict(type cls, sam_dict, AlignmentHeader header)\n",
      " |      parses a dictionary representation of the aligned segment.\n",
      " |      \n",
      " |              Parameters\n",
      " |              ----------\n",
      " |              sam_dict -- dictionary of alignment values, keys corresponding to output from\n",
      " |                          :meth:`todict()`.\n",
      " |  \n",
      " |  fromstring(...) from builtins.type\n",
      " |      AlignedSegment.fromstring(type cls, sam, AlignmentHeader header)\n",
      " |      parses a string representation of the aligned segment.\n",
      " |      \n",
      " |              The input format should be valid SAM format.\n",
      " |      \n",
      " |              Parameters\n",
      " |              ----------\n",
      " |              sam -- :term:`SAM` formatted string\n",
      " |  \n",
      " |  ----------------------------------------------------------------------\n",
      " |  Static methods defined here:\n",
      " |  \n",
      " |  __new__(*args, **kwargs) from builtins.type\n",
      " |      Create and return a new object.  See help(type) for accurate signature.\n",
      " |  \n",
      " |  ----------------------------------------------------------------------\n",
      " |  Data descriptors defined here:\n",
      " |  \n",
      " |  aend\n",
      " |      deprecated, reference_end instead\n",
      " |  \n",
      " |  alen\n",
      " |      deprecated, reference_length instead\n",
      " |  \n",
      " |  aligned_pairs\n",
      " |      deprecated, use get_aligned_pairs() instead\n",
      " |  \n",
      " |  bin\n",
      " |      properties bin\n",
      " |  \n",
      " |  blocks\n",
      " |      deprecated, use get_blocks() instead\n",
      " |  \n",
      " |  cigar\n",
      " |      deprecated, use cigartuples instead\n",
      " |  \n",
      " |  cigarstring\n",
      " |      the :term:`cigar` alignment as a string.\n",
      " |      \n",
      " |      The cigar string is a string of alternating integers\n",
      " |      and characters denoting the length and the type of\n",
      " |      an operation.\n",
      " |      \n",
      " |      .. note::\n",
      " |          The order length,operation is specified in the\n",
      " |          SAM format. It is different from the order of\n",
      " |          the :attr:`cigar` property.\n",
      " |      \n",
      " |      Returns None if not present.\n",
      " |      \n",
      " |      To unset the cigarstring, assign None or the\n",
      " |      empty string.\n",
      " |  \n",
      " |  cigartuples\n",
      " |      the :term:`cigar` alignment. The alignment\n",
      " |      is returned as a list of tuples of (operation, length).\n",
      " |      \n",
      " |      If the alignment is not present, None is returned.\n",
      " |      \n",
      " |      The operations are:\n",
      " |      \n",
      " |      +-----+--------------+-----+\n",
      " |      |M    |BAM_CMATCH    |0    |\n",
      " |      +-----+--------------+-----+\n",
      " |      |I    |BAM_CINS      |1    |\n",
      " |      +-----+--------------+-----+\n",
      " |      |D    |BAM_CDEL      |2    |\n",
      " |      +-----+--------------+-----+\n",
      " |      |N    |BAM_CREF_SKIP |3    |\n",
      " |      +-----+--------------+-----+\n",
      " |      |S    |BAM_CSOFT_CLIP|4    |\n",
      " |      +-----+--------------+-----+\n",
      " |      |H    |BAM_CHARD_CLIP|5    |\n",
      " |      +-----+--------------+-----+\n",
      " |      |P    |BAM_CPAD      |6    |\n",
      " |      +-----+--------------+-----+\n",
      " |      |=    |BAM_CEQUAL    |7    |\n",
      " |      +-----+--------------+-----+\n",
      " |      |X    |BAM_CDIFF     |8    |\n",
      " |      +-----+--------------+-----+\n",
      " |      |B    |BAM_CBACK     |9    |\n",
      " |      +-----+--------------+-----+\n",
      " |      \n",
      " |      .. note::\n",
      " |          The output is a list of (operation, length) tuples, such as\n",
      " |          ``[(0, 30)]``.\n",
      " |          This is different from the SAM specification and\n",
      " |          the :attr:`cigarstring` property, which uses a\n",
      " |          (length, operation) order, for example: ``30M``.\n",
      " |      \n",
      " |      To unset the cigar property, assign an empty list\n",
      " |      or None.\n",
      " |  \n",
      " |  flag\n",
      " |      properties flag\n",
      " |  \n",
      " |  header\n",
      " |  \n",
      " |  inferred_length\n",
      " |      deprecated, use infer_query_length() instead\n",
      " |  \n",
      " |  is_duplicate\n",
      " |      true if optical or PCR duplicate\n",
      " |  \n",
      " |  is_paired\n",
      " |      true if read is paired in sequencing\n",
      " |  \n",
      " |  is_proper_pair\n",
      " |      true if read is mapped in a proper pair\n",
      " |  \n",
      " |  is_qcfail\n",
      " |      true if QC failure\n",
      " |  \n",
      " |  is_read1\n",
      " |      true if this is read1\n",
      " |  \n",
      " |  is_read2\n",
      " |      true if this is read2\n",
      " |  \n",
      " |  is_reverse\n",
      " |      true if read is mapped to reverse strand\n",
      " |  \n",
      " |  is_secondary\n",
      " |      true if not primary alignment\n",
      " |  \n",
      " |  is_supplementary\n",
      " |      true if this is a supplementary alignment\n",
      " |  \n",
      " |  is_unmapped\n",
      " |      true if read itself is unmapped\n",
      " |  \n",
      " |  isize\n",
      " |      deprecated, use template_length instead\n",
      " |  \n",
      " |  mapping_quality\n",
      " |      mapping quality\n",
      " |  \n",
      " |  mapq\n",
      " |      deprecated, use mapping_quality instead\n",
      " |  \n",
      " |  mate_is_reverse\n",
      " |      true is read is mapped to reverse strand\n",
      " |  \n",
      " |  mate_is_unmapped\n",
      " |      true if the mate is unmapped\n",
      " |  \n",
      " |  mpos\n",
      " |      deprecated, use next_reference_start instead\n",
      " |  \n",
      " |  mrnm\n",
      " |      deprecated, use next_reference_id instead\n",
      " |  \n",
      " |  next_reference_id\n",
      " |      the :term:`reference` id of the mate/next read.\n",
      " |  \n",
      " |  next_reference_name\n",
      " |      :term:`reference` name of the mate/next read (None if no\n",
      " |      AlignmentFile is associated)\n",
      " |  \n",
      " |  next_reference_start\n",
      " |      the position of the mate/next read.\n",
      " |  \n",
      " |  pnext\n",
      " |      deprecated, use next_reference_start instead\n",
      " |  \n",
      " |  pos\n",
      " |      deprecated, use reference_start instead\n",
      " |  \n",
      " |  positions\n",
      " |      deprecated, use get_reference_positions() instead\n",
      " |  \n",
      " |  qend\n",
      " |      deprecated, use query_alignment_end instead\n",
      " |  \n",
      " |  qlen\n",
      " |      deprecated, use query_alignment_length instead\n",
      " |  \n",
      " |  qname\n",
      " |      deprecated, use query_name instead\n",
      " |  \n",
      " |  qqual\n",
      " |      deprecated, query_alignment_qualities instead\n",
      " |  \n",
      " |  qstart\n",
      " |      deprecated, use query_alignment_start instead\n",
      " |  \n",
      " |  qual\n",
      " |      deprecated, query_qualities instead\n",
      " |  \n",
      " |  query\n",
      " |      deprecated, query_alignment_sequence instead\n",
      " |  \n",
      " |  query_alignment_end\n",
      " |      end index of the aligned query portion of the sequence (0-based,\n",
      " |      exclusive)\n",
      " |      \n",
      " |      This the index just past the last base in :attr:`seq` that is not\n",
      " |      soft-clipped.\n",
      " |  \n",
      " |  query_alignment_length\n",
      " |      length of the aligned query sequence.\n",
      " |      \n",
      " |      This is equal to :attr:`qend` - :attr:`qstart`\n",
      " |  \n",
      " |  query_alignment_qualities\n",
      " |      aligned query sequence quality values (None if not present). These\n",
      " |      are the quality values that correspond to :attr:`query`, that\n",
      " |      is, they exclude qualities of :term:`soft clipped` bases. This\n",
      " |      is equal to ``qual[qstart:qend]``.\n",
      " |      \n",
      " |      Quality scores are returned as a python array of unsigned\n",
      " |      chars. Note that this is not the ASCII-encoded value typically\n",
      " |      seen in FASTQ or SAM formatted files. Thus, no offset of 33\n",
      " |      needs to be subtracted.\n",
      " |      \n",
      " |      This property is read-only.\n",
      " |  \n",
      " |  query_alignment_sequence\n",
      " |      aligned portion of the read.\n",
      " |      \n",
      " |      This is a substring of :attr:`seq` that excludes flanking\n",
      " |      bases that were :term:`soft clipped` (None if not present). It\n",
      " |      is equal to ``seq[qstart:qend]``.\n",
      " |      \n",
      " |      SAM/BAM files may include extra flanking bases that are not\n",
      " |      part of the alignment.  These bases may be the result of the\n",
      " |      Smith-Waterman or other algorithms, which may not require\n",
      " |      alignments that begin at the first residue or end at the last.\n",
      " |      In addition, extra sequencing adapters, multiplex identifiers,\n",
      " |      and low-quality bases that were not considered for alignment\n",
      " |      may have been retained.\n",
      " |  \n",
      " |  query_alignment_start\n",
      " |      start index of the aligned query portion of the sequence (0-based,\n",
      " |      inclusive).\n",
      " |      \n",
      " |      This the index of the first base in :attr:`seq` that is not\n",
      " |      soft-clipped.\n",
      " |  \n",
      " |  query_length\n",
      " |      the length of the query/read.\n",
      " |      \n",
      " |      This value corresponds to the length of the sequence supplied\n",
      " |      in the BAM/SAM file. The length of a query is 0 if there is no\n",
      " |      sequence in the BAM/SAM file. In those cases, the read length\n",
      " |      can be inferred from the CIGAR alignment, see\n",
      " |      :meth:`pysam.AlignedSegment.infer_query_length`.\n",
      " |      \n",
      " |      The length includes soft-clipped bases and is equal to\n",
      " |      ``len(query_sequence)``.\n",
      " |      \n",
      " |      This property is read-only but can be set by providing a\n",
      " |      sequence.\n",
      " |      \n",
      " |      Returns 0 if not available.\n",
      " |  \n",
      " |  query_name\n",
      " |      the query template name (None if not present)\n",
      " |  \n",
      " |  query_qualities\n",
      " |      read sequence base qualities, including :term:`soft\n",
      " |      clipped` bases (None if not present).\n",
      " |      \n",
      " |      Quality scores are returned as a python array of unsigned\n",
      " |      chars. Note that this is not the ASCII-encoded value typically\n",
      " |      seen in FASTQ or SAM formatted files. Thus, no offset of 33\n",
      " |      needs to be subtracted.\n",
      " |      \n",
      " |      Note that to set quality scores the sequence has to be set\n",
      " |      beforehand as this will determine the expected length of the\n",
      " |      quality score array.\n",
      " |      \n",
      " |      This method raises a ValueError if the length of the\n",
      " |      quality scores and the sequence are not the same.\n",
      " |  \n",
      " |  query_sequence\n",
      " |      read sequence bases, including :term:`soft clipped` bases\n",
      " |      (None if not present).\n",
      " |      \n",
      " |      Note that assigning to seq will invalidate any quality scores.\n",
      " |      Thus, to in-place edit the sequence and quality scores, copies of\n",
      " |      the quality scores need to be taken. Consider trimming for example::\n",
      " |      \n",
      " |         q = read.query_qualities\n",
      " |         read.query_squence = read.query_sequence[5:10]\n",
      " |         read.query_qualities = q[5:10]\n",
      " |      \n",
      " |      The sequence is returned as it is stored in the BAM file. Some mappers\n",
      " |      might have stored a reverse complement of the original read\n",
      " |      sequence.\n",
      " |  \n",
      " |  reference_end\n",
      " |      aligned reference position of the read on the reference genome.\n",
      " |      \n",
      " |      reference_end points to one past the last aligned residue.\n",
      " |      Returns None if not available (read is unmapped or no cigar\n",
      " |      alignment present).\n",
      " |  \n",
      " |  reference_id\n",
      " |      :term:`reference` ID\n",
      " |      \n",
      " |      .. note::\n",
      " |      \n",
      " |          This field contains the index of the reference sequence in\n",
      " |          the sequence dictionary. To obtain the name of the\n",
      " |          reference sequence, use :meth:`get_reference_name()`\n",
      " |  \n",
      " |  reference_length\n",
      " |      aligned length of the read on the reference genome.\n",
      " |      \n",
      " |      This is equal to `aend - pos`. Returns None if not available.\n",
      " |  \n",
      " |  reference_name\n",
      " |      :term:`reference` name\n",
      " |  \n",
      " |  reference_start\n",
      " |      0-based leftmost coordinate\n",
      " |  \n",
      " |  rlen\n",
      " |      deprecated, query_length instead\n",
      " |  \n",
      " |  rname\n",
      " |      deprecated, use reference_id instead\n",
      " |  \n",
      " |  rnext\n",
      " |      deprecated, use next_reference_id instead\n",
      " |  \n",
      " |  seq\n",
      " |      deprecated, use query_sequence instead\n",
      " |  \n",
      " |  tags\n",
      " |      deprecated, use get_tags() instead\n",
      " |  \n",
      " |  template_length\n",
      " |      the observed query template length\n",
      " |  \n",
      " |  tid\n",
      " |      deprecated, use reference_id instead\n",
      " |  \n",
      " |  tlen\n",
      " |      deprecated, use template_length instead\n",
      " |  \n",
      " |  ----------------------------------------------------------------------\n",
      " |  Data and other attributes defined here:\n",
      " |  \n",
      " |  __pyx_vtable__ = <capsule object NULL>\n",
      "\n"
     ]
    }
   ],
   "source": [
    "help(pysam.libcalignedsegment.AlignedSegment)"
   ]
  },
  {
   "cell_type": "markdown",
   "metadata": {},
   "source": [
    "Recuperare il primo allineamento della lista."
   ]
  },
  {
   "cell_type": "code",
   "execution_count": 27,
   "metadata": {},
   "outputs": [],
   "source": [
    "first_alignment = all_alignments[0]"
   ]
  },
  {
   "cell_type": "markdown",
   "metadata": {},
   "source": [
    "Gli oggetti `AlignedSegment` hanno una serie di attributi che descrivono l'allineamento."
   ]
  },
  {
   "cell_type": "code",
   "execution_count": 28,
   "metadata": {},
   "outputs": [
    {
     "data": {
      "text/plain": [
       "'100M'"
      ]
     },
     "execution_count": 28,
     "metadata": {},
     "output_type": "execute_result"
    }
   ],
   "source": [
    "first_alignment.cigarstring"
   ]
  },
  {
   "cell_type": "code",
   "execution_count": 29,
   "metadata": {},
   "outputs": [
    {
     "data": {
      "text/plain": [
       "[(0, 100)]"
      ]
     },
     "execution_count": 29,
     "metadata": {},
     "output_type": "execute_result"
    }
   ],
   "source": [
    "first_alignment.cigartuples"
   ]
  },
  {
   "cell_type": "code",
   "execution_count": 30,
   "metadata": {},
   "outputs": [
    {
     "data": {
      "text/plain": [
       "0"
      ]
     },
     "execution_count": 30,
     "metadata": {},
     "output_type": "execute_result"
    }
   ],
   "source": [
    "first_alignment.flag"
   ]
  },
  {
   "cell_type": "code",
   "execution_count": 31,
   "metadata": {},
   "outputs": [
    {
     "data": {
      "text/plain": [
       "False"
      ]
     },
     "execution_count": 31,
     "metadata": {},
     "output_type": "execute_result"
    }
   ],
   "source": [
    "first_alignment.is_paired"
   ]
  },
  {
   "cell_type": "code",
   "execution_count": 32,
   "metadata": {},
   "outputs": [
    {
     "data": {
      "text/plain": [
       "False"
      ]
     },
     "execution_count": 32,
     "metadata": {},
     "output_type": "execute_result"
    }
   ],
   "source": [
    "first_alignment.is_reverse"
   ]
  },
  {
   "cell_type": "code",
   "execution_count": 33,
   "metadata": {},
   "outputs": [
    {
     "data": {
      "text/plain": [
       "False"
      ]
     },
     "execution_count": 33,
     "metadata": {},
     "output_type": "execute_result"
    }
   ],
   "source": [
    "first_alignment.is_secondary"
   ]
  },
  {
   "cell_type": "code",
   "execution_count": 34,
   "metadata": {},
   "outputs": [
    {
     "data": {
      "text/plain": [
       "255"
      ]
     },
     "execution_count": 34,
     "metadata": {},
     "output_type": "execute_result"
    }
   ],
   "source": [
    "first_alignment.mapping_quality"
   ]
  },
  {
   "cell_type": "code",
   "execution_count": 35,
   "metadata": {},
   "outputs": [
    {
     "data": {
      "text/plain": [
       "283185"
      ]
     },
     "execution_count": 35,
     "metadata": {},
     "output_type": "execute_result"
    }
   ],
   "source": [
    "first_alignment.reference_start"
   ]
  },
  {
   "cell_type": "code",
   "execution_count": 36,
   "metadata": {},
   "outputs": [
    {
     "data": {
      "text/plain": [
       "'FBtr0300326_e_2967_X_283185'"
      ]
     },
     "execution_count": 36,
     "metadata": {},
     "output_type": "execute_result"
    }
   ],
   "source": [
    "first_alignment.query_name"
   ]
  },
  {
   "cell_type": "code",
   "execution_count": 37,
   "metadata": {},
   "outputs": [
    {
     "data": {
      "text/plain": [
       "array('B', [2, 2, 2, 2, 2, 2, 2, 2, 2, 2, 2, 2, 2, 2, 2, 2, 2, 2, 2, 2, 2, 2, 2, 2, 2, 2, 2, 2, 2, 2, 2, 2, 2, 2, 2, 2, 2, 2, 2, 2, 2, 2, 2, 2, 2, 2, 2, 2, 2, 2, 2, 2, 2, 2, 2, 2, 2, 2, 2, 2, 2, 2, 2, 2, 2, 2, 2, 2, 2, 2, 2, 2, 2, 2, 2, 2, 2, 2, 2, 2, 2, 2, 2, 2, 2, 2, 2, 2, 2, 2, 2, 2, 2, 2, 2, 2, 2, 2, 2, 2])"
      ]
     },
     "execution_count": 37,
     "metadata": {},
     "output_type": "execute_result"
    }
   ],
   "source": [
    "first_alignment.query_qualities"
   ]
  },
  {
   "cell_type": "code",
   "execution_count": 38,
   "metadata": {},
   "outputs": [
    {
     "data": {
      "text/plain": [
       "'GCCCTTGCATTTATTTCCAGTTTTGGTTTTTTTTTTGTATTTATCAATTACATTTATAATTAATTATACACCATGTATATATATGTATTTATATACTATA'"
      ]
     },
     "execution_count": 38,
     "metadata": {},
     "output_type": "execute_result"
    }
   ],
   "source": [
    "first_alignment.query_alignment_sequence"
   ]
  },
  {
   "cell_type": "markdown",
   "metadata": {},
   "source": [
    "Gli oggetti `AlignedSegment` hanno una serie di metodi tra i quali:"
   ]
  },
  {
   "cell_type": "code",
   "execution_count": 39,
   "metadata": {},
   "outputs": [
    {
     "data": {
      "text/plain": [
       "[('NH', 1), ('HI', 1), ('AS', 98), ('nM', 0)]"
      ]
     },
     "execution_count": 39,
     "metadata": {},
     "output_type": "execute_result"
    }
   ],
   "source": [
    "first_alignment.get_tags()"
   ]
  },
  {
   "cell_type": "code",
   "execution_count": 40,
   "metadata": {},
   "outputs": [
    {
     "data": {
      "text/plain": [
       "'GCCCTTGCATTTATTTCCAGTTTTGGTTTTTTTTTTGTATTTATCAATTACATTTATAATTAATTATACACCATGTATATATATGTATTTATATACTATA'"
      ]
     },
     "execution_count": 40,
     "metadata": {},
     "output_type": "execute_result"
    }
   ],
   "source": [
    "first_alignment.get_forward_sequence()"
   ]
  },
  {
   "cell_type": "code",
   "execution_count": 68,
   "metadata": {},
   "outputs": [],
   "source": [
    "#first_alignment.get_reference_sequence()"
   ]
  },
  {
   "cell_type": "code",
   "execution_count": 41,
   "metadata": {},
   "outputs": [
    {
     "data": {
      "text/plain": [
       "{'name': 'FBtr0300326_e_2967_X_283185',\n",
       " 'flag': '0',\n",
       " 'ref_name': 'X',\n",
       " 'ref_pos': '283186',\n",
       " 'map_quality': '255',\n",
       " 'cigar': '100M',\n",
       " 'next_ref_name': '*',\n",
       " 'next_ref_pos': '0',\n",
       " 'length': '0',\n",
       " 'seq': 'GCCCTTGCATTTATTTCCAGTTTTGGTTTTTTTTTTGTATTTATCAATTACATTTATAATTAATTATACACCATGTATATATATGTATTTATATACTATA',\n",
       " 'qual': '####################################################################################################',\n",
       " 'tags': ['NH:i:1', 'HI:i:1', 'AS:i:98', 'nM:i:0']}"
      ]
     },
     "execution_count": 41,
     "metadata": {},
     "output_type": "execute_result"
    }
   ],
   "source": [
    "first_alignment.to_dict()"
   ]
  },
  {
   "cell_type": "code",
   "execution_count": 43,
   "metadata": {},
   "outputs": [
    {
     "name": "stdout",
     "output_type": "stream",
     "text": [
      "FBtr0300326_e_2967_X_283185\t0\tX\t283186\t255\t100M\t*\t0\t0\tGCCCTTGCATTTATTTCCAGTTTTGGTTTTTTTTTTGTATTTATCAATTACATTTATAATTAATTATACACCATGTATATATATGTATTTATATACTATA\t####################################################################################################\tNH:i:1\tHI:i:1\tAS:i:98\tnM:i:0\n"
     ]
    }
   ],
   "source": [
    "print(first_alignment.to_string())"
   ]
  },
  {
   "cell_type": "markdown",
   "metadata": {},
   "source": [
    "## Qualche metodo di `AlignmentFile`\n",
    "\n",
    "- `find_introns()` restituisce in un oggetto `Counter` gli introni e il loro supporto in termini di reads allineati\n",
    "\n",
    "       bamfile.find_introns(alignment_iterator)"
   ]
  },
  {
   "cell_type": "markdown",
   "metadata": {},
   "source": [
    "Per trovare tutti gli introni supportati dagli allineamenti del file in input basta scrivere:"
   ]
  },
  {
   "cell_type": "code",
   "execution_count": 44,
   "metadata": {},
   "outputs": [
    {
     "data": {
      "text/plain": [
       "Counter({(286891, 286948): 1255,\n",
       "         (287041, 287328): 794,\n",
       "         (287041, 289040): 468,\n",
       "         (287526, 289040): 707,\n",
       "         (289272, 289870): 530,\n",
       "         (289272, 290252): 730,\n",
       "         (289943, 290252): 593,\n",
       "         (290596, 294712): 741,\n",
       "         (290596, 294822): 586})"
      ]
     },
     "execution_count": 44,
     "metadata": {},
     "output_type": "execute_result"
    }
   ],
   "source": [
    "bamfile.find_introns(bamfile.fetch())"
   ]
  },
  {
   "cell_type": "markdown",
   "metadata": {},
   "source": [
    "- `pileup()`, restituisce un iteratore contenente un oggetto `PileupColumn` per ognuna delle basi coperte dagli allineamenti che cadono nella regione specificata come *argomento*.\n",
    "\n",
    "       bamfile.pileup()\n",
    "       bamfile.pileup(ref_name)\n",
    "       bamfile.pileup(ref_name, start_region, end_region)\n",
    "\n",
    "Ogni base della reference coperta da allineamenti viene chiamata *pileup column*.\n",
    "\n",
    "---\n",
    "\n",
    "Trovare tutte le basi della reference coperte dagli allineamenti presenti nel BAM file."
   ]
  },
  {
   "cell_type": "code",
   "execution_count": 72,
   "metadata": {},
   "outputs": [],
   "source": [
    "#help(pysam.libcalignedsegment.PileupColumn)"
   ]
  },
  {
   "cell_type": "code",
   "execution_count": 45,
   "metadata": {},
   "outputs": [],
   "source": [
    "pileup_iter = bamfile.pileup()"
   ]
  },
  {
   "cell_type": "code",
   "execution_count": 46,
   "metadata": {},
   "outputs": [],
   "source": [
    "pileup_columns = list(pileup_iter)"
   ]
  },
  {
   "cell_type": "markdown",
   "metadata": {},
   "source": [
    "Gli allineamenti presenti nel BAM file coprono un totale di:"
   ]
  },
  {
   "cell_type": "code",
   "execution_count": 47,
   "metadata": {},
   "outputs": [
    {
     "data": {
      "text/plain": [
       "11777"
      ]
     },
     "execution_count": 47,
     "metadata": {},
     "output_type": "execute_result"
    }
   ],
   "source": [
    "len(pileup_columns)"
   ]
  },
  {
   "cell_type": "markdown",
   "metadata": {},
   "source": [
    "Accedere alla 1000-esima colonna di *pileup* (base della reference) e:\n",
    "\n",
    "- settare la qualità minima a 0"
   ]
  },
  {
   "cell_type": "code",
   "execution_count": 49,
   "metadata": {},
   "outputs": [],
   "source": [
    "pileup_columns[999].set_min_base_quality(0)"
   ]
  },
  {
   "cell_type": "markdown",
   "metadata": {},
   "source": [
    "- accedere alla posizione sulla reference"
   ]
  },
  {
   "cell_type": "code",
   "execution_count": 50,
   "metadata": {},
   "outputs": [
    {
     "data": {
      "text/plain": [
       "284184"
      ]
     },
     "execution_count": 50,
     "metadata": {},
     "output_type": "execute_result"
    }
   ],
   "source": [
    "pileup_columns[999].pos"
   ]
  },
  {
   "cell_type": "markdown",
   "metadata": {},
   "source": [
    "- recuperare il numero di allineamenti (segmenti) che coprono la base."
   ]
  },
  {
   "cell_type": "code",
   "execution_count": 51,
   "metadata": {},
   "outputs": [
    {
     "data": {
      "text/plain": [
       "180"
      ]
     },
     "execution_count": 51,
     "metadata": {},
     "output_type": "execute_result"
    }
   ],
   "source": [
    "pileup_columns[999].nsegments"
   ]
  },
  {
   "cell_type": "code",
   "execution_count": 52,
   "metadata": {},
   "outputs": [
    {
     "data": {
      "text/plain": [
       "180"
      ]
     },
     "execution_count": 52,
     "metadata": {},
     "output_type": "execute_result"
    }
   ],
   "source": [
    "pileup_columns[999].get_num_aligned()"
   ]
  },
  {
   "cell_type": "markdown",
   "metadata": {},
   "source": [
    "- ottenere gli identificatori dei reads (queries) che coprono la base."
   ]
  },
  {
   "cell_type": "code",
   "execution_count": 53,
   "metadata": {},
   "outputs": [
    {
     "data": {
      "text/plain": [
       "['FBtr0342963_e_4202_X_294862',\n",
       " 'FBtr0342963_e_6192_X_294862',\n",
       " 'FBtr0342963_e_7396_X_294862',\n",
       " 'FBtr0070103_e_4896_X_294862',\n",
       " 'FBtr0342963_e_1514_X_294862',\n",
       " 'FBtr0342963_e_4365_X_294862',\n",
       " 'FBtr0070103_e_1858_X_294862',\n",
       " 'FBtr0070103_e_2397_X_294862',\n",
       " 'FBtr0070103_e_5063_X_294862',\n",
       " 'FBtr0300326_e_4543_X_294861',\n",
       " 'FBtr0070103_e_519_X_294861',\n",
       " 'FBtr0070103_e_7416_X_294861',\n",
       " 'FBtr0342963_e_2335_X_294861',\n",
       " 'FBtr0342963_e_4019_X_294861',\n",
       " 'FBtr0342963_e_4425_X_294861',\n",
       " 'FBtr0342963_e_4688_X_294861',\n",
       " 'FBtr0300326_e_2872_X_294861',\n",
       " 'FBtr0070103_e_1324_X_294861',\n",
       " 'FBtr0070103_e_4777_X_294861',\n",
       " 'FBtr0070103_e_6318_X_294861',\n",
       " 'FBtr0070103_e_8286_X_294861',\n",
       " 'FBtr0342963_e_4202_X_294862',\n",
       " 'FBtr0342963_e_6192_X_294862',\n",
       " 'FBtr0342963_e_7396_X_294862',\n",
       " 'FBtr0070103_e_4896_X_294862',\n",
       " 'FBtr0342963_e_1514_X_294862',\n",
       " 'FBtr0342963_e_4365_X_294862',\n",
       " 'FBtr0070103_e_1858_X_294862',\n",
       " 'FBtr0070103_e_2397_X_294862',\n",
       " 'FBtr0070103_e_5063_X_294862',\n",
       " 'FBtr0342963_e_4688_X_294861',\n",
       " 'FBtr0300326_e_2872_X_294861',\n",
       " 'FBtr0070103_e_1324_X_294861',\n",
       " 'FBtr0070103_e_4777_X_294861',\n",
       " 'FBtr0070103_e_6318_X_294861',\n",
       " 'FBtr0070103_e_8286_X_294861',\n",
       " 'FBtr0342963_e_4202_X_294862',\n",
       " 'FBtr0342963_e_6192_X_294862',\n",
       " 'FBtr0342963_e_7396_X_294862',\n",
       " 'FBtr0070103_e_4896_X_294862',\n",
       " 'FBtr0342963_e_1514_X_294862',\n",
       " 'FBtr0342963_e_4365_X_294862',\n",
       " 'FBtr0070103_e_1858_X_294862',\n",
       " 'FBtr0070103_e_2397_X_294862',\n",
       " 'FBtr0070103_e_5063_X_294862',\n",
       " 'FBtr0342963_e_4688_X_294861',\n",
       " 'FBtr0300326_e_2872_X_294861',\n",
       " 'FBtr0070103_e_1324_X_294861',\n",
       " 'FBtr0070103_e_4777_X_294861',\n",
       " 'FBtr0070103_e_6318_X_294861',\n",
       " 'FBtr0070103_e_8286_X_294861',\n",
       " 'FBtr0342963_e_4202_X_294862',\n",
       " 'FBtr0342963_e_6192_X_294862',\n",
       " 'FBtr0342963_e_7396_X_294862',\n",
       " 'FBtr0070103_e_4896_X_294862',\n",
       " 'FBtr0342963_e_1514_X_294862',\n",
       " 'FBtr0342963_e_4365_X_294862',\n",
       " 'FBtr0070103_e_1858_X_294862',\n",
       " 'FBtr0070103_e_2397_X_294862',\n",
       " 'FBtr0070103_e_5063_X_294862',\n",
       " 'FBtr0070103_e_4777_X_294861',\n",
       " 'FBtr0070103_e_6318_X_294861',\n",
       " 'FBtr0070103_e_8286_X_294861',\n",
       " 'FBtr0342963_e_4202_X_294862',\n",
       " 'FBtr0342963_e_6192_X_294862',\n",
       " 'FBtr0342963_e_7396_X_294862',\n",
       " 'FBtr0070103_e_4896_X_294862',\n",
       " 'FBtr0342963_e_1514_X_294862',\n",
       " 'FBtr0342963_e_4365_X_294862',\n",
       " 'FBtr0070103_e_1858_X_294862',\n",
       " 'FBtr0070103_e_2397_X_294862',\n",
       " 'FBtr0070103_e_5063_X_294862',\n",
       " 'FBtr0070103_e_1324_X_294861',\n",
       " 'FBtr0070103_e_4777_X_294861',\n",
       " 'FBtr0070103_e_6318_X_294861',\n",
       " 'FBtr0070103_e_8286_X_294861',\n",
       " 'FBtr0342963_e_4202_X_294862',\n",
       " 'FBtr0342963_e_6192_X_294862',\n",
       " 'FBtr0342963_e_7396_X_294862',\n",
       " 'FBtr0070103_e_4896_X_294862',\n",
       " 'FBtr0342963_e_1514_X_294862',\n",
       " 'FBtr0342963_e_4365_X_294862',\n",
       " 'FBtr0070103_e_1858_X_294862',\n",
       " 'FBtr0070103_e_2397_X_294862',\n",
       " 'FBtr0070103_e_5063_X_294862',\n",
       " 'FBtr0070103_e_6318_X_294861',\n",
       " 'FBtr0070103_e_8286_X_294861',\n",
       " 'FBtr0342963_e_4202_X_294862',\n",
       " 'FBtr0342963_e_6192_X_294862',\n",
       " 'FBtr0342963_e_7396_X_294862',\n",
       " 'FBtr0070103_e_4896_X_294862',\n",
       " 'FBtr0342963_e_1514_X_294862',\n",
       " 'FBtr0342963_e_4365_X_294862',\n",
       " 'FBtr0070103_e_1858_X_294862',\n",
       " 'FBtr0070103_e_2397_X_294862',\n",
       " 'FBtr0070103_e_5063_X_294862',\n",
       " 'FBtr0342963_e_4202_X_294862',\n",
       " 'FBtr0342963_e_6192_X_294862',\n",
       " 'FBtr0342963_e_7396_X_294862',\n",
       " 'FBtr0070103_e_4896_X_294862',\n",
       " 'FBtr0342963_e_1514_X_294862',\n",
       " 'FBtr0342963_e_4365_X_294862',\n",
       " 'FBtr0070103_e_1858_X_294862',\n",
       " 'FBtr0070103_e_2397_X_294862',\n",
       " 'FBtr0070103_e_5063_X_294862',\n",
       " 'FBtr0070103_e_6318_X_294861',\n",
       " 'FBtr0070103_e_8286_X_294861',\n",
       " 'FBtr0342963_e_4202_X_294862',\n",
       " 'FBtr0342963_e_6192_X_294862',\n",
       " 'FBtr0342963_e_7396_X_294862',\n",
       " 'FBtr0070103_e_4896_X_294862',\n",
       " 'FBtr0342963_e_1514_X_294862',\n",
       " 'FBtr0342963_e_4365_X_294862',\n",
       " 'FBtr0070103_e_1858_X_294862',\n",
       " 'FBtr0070103_e_2397_X_294862',\n",
       " 'FBtr0070103_e_5063_X_294862',\n",
       " 'FBtr0342963_e_6570_X_294861',\n",
       " 'FBtr0342963_e_7440_X_294861',\n",
       " 'FBtr0300326_e_3787_X_294861',\n",
       " 'FBtr0300326_e_4543_X_294861',\n",
       " 'FBtr0070103_e_519_X_294861',\n",
       " 'FBtr0070103_e_7416_X_294861',\n",
       " 'FBtr0342963_e_2335_X_294861',\n",
       " 'FBtr0342963_e_4019_X_294861',\n",
       " 'FBtr0342963_e_4425_X_294861',\n",
       " 'FBtr0342963_e_4688_X_294861',\n",
       " 'FBtr0300326_e_2872_X_294861',\n",
       " 'FBtr0070103_e_1324_X_294861',\n",
       " 'FBtr0070103_e_4777_X_294861',\n",
       " 'FBtr0070103_e_6318_X_294861',\n",
       " 'FBtr0070103_e_8286_X_294861',\n",
       " 'FBtr0342963_e_4202_X_294862',\n",
       " 'FBtr0342963_e_6192_X_294862',\n",
       " 'FBtr0342963_e_7396_X_294862',\n",
       " 'FBtr0070103_e_4896_X_294862',\n",
       " 'FBtr0342963_e_1514_X_294862',\n",
       " 'FBtr0342963_e_4365_X_294862',\n",
       " 'FBtr0070103_e_1858_X_294862',\n",
       " 'FBtr0070103_e_2397_X_294862',\n",
       " 'FBtr0070103_e_5063_X_294862',\n",
       " 'FBtr0070103_e_519_X_294861',\n",
       " 'FBtr0070103_e_7416_X_294861',\n",
       " 'FBtr0342963_e_2335_X_294861',\n",
       " 'FBtr0342963_e_4019_X_294861',\n",
       " 'FBtr0342963_e_4425_X_294861',\n",
       " 'FBtr0342963_e_4688_X_294861',\n",
       " 'FBtr0300326_e_2872_X_294861',\n",
       " 'FBtr0070103_e_1324_X_294861',\n",
       " 'FBtr0070103_e_4777_X_294861',\n",
       " 'FBtr0070103_e_6318_X_294861',\n",
       " 'FBtr0070103_e_8286_X_294861',\n",
       " 'FBtr0342963_e_4202_X_294862',\n",
       " 'FBtr0342963_e_6192_X_294862',\n",
       " 'FBtr0342963_e_7396_X_294862',\n",
       " 'FBtr0070103_e_4896_X_294862',\n",
       " 'FBtr0342963_e_1514_X_294862',\n",
       " 'FBtr0342963_e_4365_X_294862',\n",
       " 'FBtr0070103_e_1858_X_294862',\n",
       " 'FBtr0070103_e_2397_X_294862',\n",
       " 'FBtr0070103_e_5063_X_294862',\n",
       " 'FBtr0070103_e_519_X_294861',\n",
       " 'FBtr0070103_e_7416_X_294861',\n",
       " 'FBtr0342963_e_2335_X_294861',\n",
       " 'FBtr0342963_e_4019_X_294861',\n",
       " 'FBtr0342963_e_4425_X_294861',\n",
       " 'FBtr0342963_e_4688_X_294861',\n",
       " 'FBtr0300326_e_2872_X_294861',\n",
       " 'FBtr0070103_e_1324_X_294861',\n",
       " 'FBtr0070103_e_4777_X_294861',\n",
       " 'FBtr0070103_e_6318_X_294861',\n",
       " 'FBtr0070103_e_8286_X_294861',\n",
       " 'FBtr0342963_e_4202_X_294862',\n",
       " 'FBtr0342963_e_6192_X_294862',\n",
       " 'FBtr0342963_e_7396_X_294862',\n",
       " 'FBtr0070103_e_4896_X_294862',\n",
       " 'FBtr0342963_e_1514_X_294862',\n",
       " 'FBtr0342963_e_4365_X_294862',\n",
       " 'FBtr0070103_e_1858_X_294862',\n",
       " 'FBtr0070103_e_2397_X_294862',\n",
       " 'FBtr0070103_e_5063_X_294862']"
      ]
     },
     "execution_count": 53,
     "metadata": {},
     "output_type": "execute_result"
    }
   ],
   "source": [
    "pileup_columns[999].get_query_names()"
   ]
  },
  {
   "cell_type": "markdown",
   "metadata": {},
   "source": [
    "- ottenere la lista degli allineamenti che coprono la base."
   ]
  },
  {
   "cell_type": "code",
   "execution_count": 54,
   "metadata": {},
   "outputs": [
    {
     "data": {
      "text/plain": [
       "[<pysam.libcalignedsegment.PileupRead at 0x107b345f0>,\n",
       " <pysam.libcalignedsegment.PileupRead at 0x107e4d0b0>,\n",
       " <pysam.libcalignedsegment.PileupRead at 0x107e4d230>,\n",
       " <pysam.libcalignedsegment.PileupRead at 0x107e4d290>,\n",
       " <pysam.libcalignedsegment.PileupRead at 0x107e4d2f0>,\n",
       " <pysam.libcalignedsegment.PileupRead at 0x107e4d350>,\n",
       " <pysam.libcalignedsegment.PileupRead at 0x107e4d3b0>,\n",
       " <pysam.libcalignedsegment.PileupRead at 0x107e4d410>,\n",
       " <pysam.libcalignedsegment.PileupRead at 0x107e4d470>,\n",
       " <pysam.libcalignedsegment.PileupRead at 0x107e4d4d0>,\n",
       " <pysam.libcalignedsegment.PileupRead at 0x107e4d530>,\n",
       " <pysam.libcalignedsegment.PileupRead at 0x107e4d590>,\n",
       " <pysam.libcalignedsegment.PileupRead at 0x107e4d5f0>,\n",
       " <pysam.libcalignedsegment.PileupRead at 0x107e4d650>,\n",
       " <pysam.libcalignedsegment.PileupRead at 0x107e4d6b0>,\n",
       " <pysam.libcalignedsegment.PileupRead at 0x107e4d710>,\n",
       " <pysam.libcalignedsegment.PileupRead at 0x107e4d770>,\n",
       " <pysam.libcalignedsegment.PileupRead at 0x107e4d7d0>,\n",
       " <pysam.libcalignedsegment.PileupRead at 0x107e4d830>,\n",
       " <pysam.libcalignedsegment.PileupRead at 0x107e4d890>,\n",
       " <pysam.libcalignedsegment.PileupRead at 0x107e4d8f0>,\n",
       " <pysam.libcalignedsegment.PileupRead at 0x107e4d950>,\n",
       " <pysam.libcalignedsegment.PileupRead at 0x107e4d9b0>,\n",
       " <pysam.libcalignedsegment.PileupRead at 0x107e4da10>,\n",
       " <pysam.libcalignedsegment.PileupRead at 0x107e4da70>,\n",
       " <pysam.libcalignedsegment.PileupRead at 0x107e4dad0>,\n",
       " <pysam.libcalignedsegment.PileupRead at 0x107e4db30>,\n",
       " <pysam.libcalignedsegment.PileupRead at 0x107e4db90>,\n",
       " <pysam.libcalignedsegment.PileupRead at 0x107e4dbf0>,\n",
       " <pysam.libcalignedsegment.PileupRead at 0x107e4dc50>,\n",
       " <pysam.libcalignedsegment.PileupRead at 0x107e4dcb0>,\n",
       " <pysam.libcalignedsegment.PileupRead at 0x107e4dd10>,\n",
       " <pysam.libcalignedsegment.PileupRead at 0x107e4dd70>,\n",
       " <pysam.libcalignedsegment.PileupRead at 0x107e4ddd0>,\n",
       " <pysam.libcalignedsegment.PileupRead at 0x107e4de30>,\n",
       " <pysam.libcalignedsegment.PileupRead at 0x107e4de90>,\n",
       " <pysam.libcalignedsegment.PileupRead at 0x107e4def0>,\n",
       " <pysam.libcalignedsegment.PileupRead at 0x107e4df50>,\n",
       " <pysam.libcalignedsegment.PileupRead at 0x107e4dfb0>,\n",
       " <pysam.libcalignedsegment.PileupRead at 0x107e51050>,\n",
       " <pysam.libcalignedsegment.PileupRead at 0x107e510b0>,\n",
       " <pysam.libcalignedsegment.PileupRead at 0x107e51110>,\n",
       " <pysam.libcalignedsegment.PileupRead at 0x107e51170>,\n",
       " <pysam.libcalignedsegment.PileupRead at 0x107e511d0>,\n",
       " <pysam.libcalignedsegment.PileupRead at 0x107e51230>,\n",
       " <pysam.libcalignedsegment.PileupRead at 0x107e51290>,\n",
       " <pysam.libcalignedsegment.PileupRead at 0x107e512f0>,\n",
       " <pysam.libcalignedsegment.PileupRead at 0x107e51350>,\n",
       " <pysam.libcalignedsegment.PileupRead at 0x107e513b0>,\n",
       " <pysam.libcalignedsegment.PileupRead at 0x107e51410>,\n",
       " <pysam.libcalignedsegment.PileupRead at 0x107e51470>,\n",
       " <pysam.libcalignedsegment.PileupRead at 0x107e514d0>,\n",
       " <pysam.libcalignedsegment.PileupRead at 0x107e51530>,\n",
       " <pysam.libcalignedsegment.PileupRead at 0x107e51590>,\n",
       " <pysam.libcalignedsegment.PileupRead at 0x107e515f0>,\n",
       " <pysam.libcalignedsegment.PileupRead at 0x107e51650>,\n",
       " <pysam.libcalignedsegment.PileupRead at 0x107e516b0>,\n",
       " <pysam.libcalignedsegment.PileupRead at 0x107e51710>,\n",
       " <pysam.libcalignedsegment.PileupRead at 0x107e51770>,\n",
       " <pysam.libcalignedsegment.PileupRead at 0x107e517d0>,\n",
       " <pysam.libcalignedsegment.PileupRead at 0x107e51830>,\n",
       " <pysam.libcalignedsegment.PileupRead at 0x107e51890>,\n",
       " <pysam.libcalignedsegment.PileupRead at 0x107e518f0>,\n",
       " <pysam.libcalignedsegment.PileupRead at 0x107e51950>,\n",
       " <pysam.libcalignedsegment.PileupRead at 0x107e519b0>,\n",
       " <pysam.libcalignedsegment.PileupRead at 0x107e51a10>,\n",
       " <pysam.libcalignedsegment.PileupRead at 0x107e51a70>,\n",
       " <pysam.libcalignedsegment.PileupRead at 0x107e51ad0>,\n",
       " <pysam.libcalignedsegment.PileupRead at 0x107e51b30>,\n",
       " <pysam.libcalignedsegment.PileupRead at 0x107e51b90>,\n",
       " <pysam.libcalignedsegment.PileupRead at 0x107e51bf0>,\n",
       " <pysam.libcalignedsegment.PileupRead at 0x107e51c50>,\n",
       " <pysam.libcalignedsegment.PileupRead at 0x107e51cb0>,\n",
       " <pysam.libcalignedsegment.PileupRead at 0x107e51d10>,\n",
       " <pysam.libcalignedsegment.PileupRead at 0x107e51d70>,\n",
       " <pysam.libcalignedsegment.PileupRead at 0x107e51dd0>,\n",
       " <pysam.libcalignedsegment.PileupRead at 0x107e51e30>,\n",
       " <pysam.libcalignedsegment.PileupRead at 0x107e51e90>,\n",
       " <pysam.libcalignedsegment.PileupRead at 0x107e51ef0>,\n",
       " <pysam.libcalignedsegment.PileupRead at 0x107e51f50>,\n",
       " <pysam.libcalignedsegment.PileupRead at 0x107e51fb0>,\n",
       " <pysam.libcalignedsegment.PileupRead at 0x107e54050>,\n",
       " <pysam.libcalignedsegment.PileupRead at 0x107e540b0>,\n",
       " <pysam.libcalignedsegment.PileupRead at 0x107e54110>,\n",
       " <pysam.libcalignedsegment.PileupRead at 0x107e54170>,\n",
       " <pysam.libcalignedsegment.PileupRead at 0x107e541d0>,\n",
       " <pysam.libcalignedsegment.PileupRead at 0x107e54230>,\n",
       " <pysam.libcalignedsegment.PileupRead at 0x107e54290>,\n",
       " <pysam.libcalignedsegment.PileupRead at 0x107e542f0>,\n",
       " <pysam.libcalignedsegment.PileupRead at 0x107e54350>,\n",
       " <pysam.libcalignedsegment.PileupRead at 0x107e543b0>,\n",
       " <pysam.libcalignedsegment.PileupRead at 0x107e54410>,\n",
       " <pysam.libcalignedsegment.PileupRead at 0x107e54470>,\n",
       " <pysam.libcalignedsegment.PileupRead at 0x107e544d0>,\n",
       " <pysam.libcalignedsegment.PileupRead at 0x107e54530>,\n",
       " <pysam.libcalignedsegment.PileupRead at 0x107e54590>,\n",
       " <pysam.libcalignedsegment.PileupRead at 0x107e545f0>,\n",
       " <pysam.libcalignedsegment.PileupRead at 0x107e54650>,\n",
       " <pysam.libcalignedsegment.PileupRead at 0x107e546b0>,\n",
       " <pysam.libcalignedsegment.PileupRead at 0x107e54710>,\n",
       " <pysam.libcalignedsegment.PileupRead at 0x107e54770>,\n",
       " <pysam.libcalignedsegment.PileupRead at 0x107e547d0>,\n",
       " <pysam.libcalignedsegment.PileupRead at 0x107e54830>,\n",
       " <pysam.libcalignedsegment.PileupRead at 0x107e54890>,\n",
       " <pysam.libcalignedsegment.PileupRead at 0x107e548f0>,\n",
       " <pysam.libcalignedsegment.PileupRead at 0x107e54950>,\n",
       " <pysam.libcalignedsegment.PileupRead at 0x107e549b0>,\n",
       " <pysam.libcalignedsegment.PileupRead at 0x107e54a10>,\n",
       " <pysam.libcalignedsegment.PileupRead at 0x107e54a70>,\n",
       " <pysam.libcalignedsegment.PileupRead at 0x107e54ad0>,\n",
       " <pysam.libcalignedsegment.PileupRead at 0x107e54b30>,\n",
       " <pysam.libcalignedsegment.PileupRead at 0x107e54b90>,\n",
       " <pysam.libcalignedsegment.PileupRead at 0x107e54bf0>,\n",
       " <pysam.libcalignedsegment.PileupRead at 0x107e54c50>,\n",
       " <pysam.libcalignedsegment.PileupRead at 0x107e54cb0>,\n",
       " <pysam.libcalignedsegment.PileupRead at 0x107e54d10>,\n",
       " <pysam.libcalignedsegment.PileupRead at 0x107e54d70>,\n",
       " <pysam.libcalignedsegment.PileupRead at 0x107e54dd0>,\n",
       " <pysam.libcalignedsegment.PileupRead at 0x107e54e30>,\n",
       " <pysam.libcalignedsegment.PileupRead at 0x107e54e90>,\n",
       " <pysam.libcalignedsegment.PileupRead at 0x107e54ef0>,\n",
       " <pysam.libcalignedsegment.PileupRead at 0x107e54f50>,\n",
       " <pysam.libcalignedsegment.PileupRead at 0x107e54fb0>,\n",
       " <pysam.libcalignedsegment.PileupRead at 0x107e56050>,\n",
       " <pysam.libcalignedsegment.PileupRead at 0x107e560b0>,\n",
       " <pysam.libcalignedsegment.PileupRead at 0x107e56110>,\n",
       " <pysam.libcalignedsegment.PileupRead at 0x107e56170>,\n",
       " <pysam.libcalignedsegment.PileupRead at 0x107e561d0>,\n",
       " <pysam.libcalignedsegment.PileupRead at 0x107e56230>,\n",
       " <pysam.libcalignedsegment.PileupRead at 0x107e56290>,\n",
       " <pysam.libcalignedsegment.PileupRead at 0x107e562f0>,\n",
       " <pysam.libcalignedsegment.PileupRead at 0x107e56350>,\n",
       " <pysam.libcalignedsegment.PileupRead at 0x107e563b0>,\n",
       " <pysam.libcalignedsegment.PileupRead at 0x107e56410>,\n",
       " <pysam.libcalignedsegment.PileupRead at 0x107e56470>,\n",
       " <pysam.libcalignedsegment.PileupRead at 0x107e564d0>,\n",
       " <pysam.libcalignedsegment.PileupRead at 0x107e56530>,\n",
       " <pysam.libcalignedsegment.PileupRead at 0x107e56590>,\n",
       " <pysam.libcalignedsegment.PileupRead at 0x107e565f0>,\n",
       " <pysam.libcalignedsegment.PileupRead at 0x107e56650>,\n",
       " <pysam.libcalignedsegment.PileupRead at 0x107e566b0>,\n",
       " <pysam.libcalignedsegment.PileupRead at 0x107e56710>,\n",
       " <pysam.libcalignedsegment.PileupRead at 0x107e56770>,\n",
       " <pysam.libcalignedsegment.PileupRead at 0x107e567d0>,\n",
       " <pysam.libcalignedsegment.PileupRead at 0x107e56830>,\n",
       " <pysam.libcalignedsegment.PileupRead at 0x107e56890>,\n",
       " <pysam.libcalignedsegment.PileupRead at 0x107e568f0>,\n",
       " <pysam.libcalignedsegment.PileupRead at 0x107e56950>,\n",
       " <pysam.libcalignedsegment.PileupRead at 0x107e569b0>,\n",
       " <pysam.libcalignedsegment.PileupRead at 0x107e56a10>,\n",
       " <pysam.libcalignedsegment.PileupRead at 0x107e56a70>,\n",
       " <pysam.libcalignedsegment.PileupRead at 0x107e56ad0>,\n",
       " <pysam.libcalignedsegment.PileupRead at 0x107e56b30>,\n",
       " <pysam.libcalignedsegment.PileupRead at 0x107e56b90>,\n",
       " <pysam.libcalignedsegment.PileupRead at 0x107e56bf0>,\n",
       " <pysam.libcalignedsegment.PileupRead at 0x107e56c50>,\n",
       " <pysam.libcalignedsegment.PileupRead at 0x107e56cb0>,\n",
       " <pysam.libcalignedsegment.PileupRead at 0x107e56d10>,\n",
       " <pysam.libcalignedsegment.PileupRead at 0x107e56d70>,\n",
       " <pysam.libcalignedsegment.PileupRead at 0x107e56dd0>,\n",
       " <pysam.libcalignedsegment.PileupRead at 0x107e56e30>,\n",
       " <pysam.libcalignedsegment.PileupRead at 0x107e56e90>,\n",
       " <pysam.libcalignedsegment.PileupRead at 0x107e56ef0>,\n",
       " <pysam.libcalignedsegment.PileupRead at 0x107e56f50>,\n",
       " <pysam.libcalignedsegment.PileupRead at 0x107e56fb0>,\n",
       " <pysam.libcalignedsegment.PileupRead at 0x107e58050>,\n",
       " <pysam.libcalignedsegment.PileupRead at 0x107e580b0>,\n",
       " <pysam.libcalignedsegment.PileupRead at 0x107e58110>,\n",
       " <pysam.libcalignedsegment.PileupRead at 0x107e58170>,\n",
       " <pysam.libcalignedsegment.PileupRead at 0x107e581d0>,\n",
       " <pysam.libcalignedsegment.PileupRead at 0x107e58230>,\n",
       " <pysam.libcalignedsegment.PileupRead at 0x107e58290>,\n",
       " <pysam.libcalignedsegment.PileupRead at 0x107e582f0>,\n",
       " <pysam.libcalignedsegment.PileupRead at 0x107e58350>,\n",
       " <pysam.libcalignedsegment.PileupRead at 0x107e583b0>,\n",
       " <pysam.libcalignedsegment.PileupRead at 0x107e58410>,\n",
       " <pysam.libcalignedsegment.PileupRead at 0x107e58470>,\n",
       " <pysam.libcalignedsegment.PileupRead at 0x107e584d0>,\n",
       " <pysam.libcalignedsegment.PileupRead at 0x107e58530>,\n",
       " <pysam.libcalignedsegment.PileupRead at 0x107e58590>]"
      ]
     },
     "execution_count": 54,
     "metadata": {},
     "output_type": "execute_result"
    }
   ],
   "source": [
    "pileup_columns[999].pileups"
   ]
  },
  {
   "cell_type": "markdown",
   "metadata": {},
   "source": [
    "Per il primo oggetto `PileupRead`, accedere alla posizione sul read che corrisponde alla base di pileup sulla *reference*."
   ]
  },
  {
   "cell_type": "code",
   "execution_count": 55,
   "metadata": {},
   "outputs": [
    {
     "data": {
      "text/plain": [
       "99"
      ]
     },
     "execution_count": 55,
     "metadata": {},
     "output_type": "execute_result"
    }
   ],
   "source": [
    "pileup_columns[999].pileups[0].query_position"
   ]
  },
  {
   "cell_type": "markdown",
   "metadata": {},
   "source": [
    "L'allineamento del primo read \"impilato\" è:"
   ]
  },
  {
   "cell_type": "code",
   "execution_count": 56,
   "metadata": {},
   "outputs": [
    {
     "data": {
      "text/plain": [
       "<pysam.libcalignedsegment.AlignedSegment at 0x107b301a0>"
      ]
     },
     "execution_count": 56,
     "metadata": {},
     "output_type": "execute_result"
    }
   ],
   "source": [
    "pileup_columns[999].pileups[0].alignment"
   ]
  },
  {
   "cell_type": "code",
   "execution_count": null,
   "metadata": {},
   "outputs": [],
   "source": []
  }
 ],
 "metadata": {
  "kernelspec": {
   "display_name": "Python 3 (ipykernel)",
   "language": "python",
   "name": "python3"
  },
  "language_info": {
   "codemirror_mode": {
    "name": "ipython",
    "version": 3
   },
   "file_extension": ".py",
   "mimetype": "text/x-python",
   "name": "python",
   "nbconvert_exporter": "python",
   "pygments_lexer": "ipython3",
   "version": "3.7.6"
  }
 },
 "nbformat": 4,
 "nbformat_minor": 4
}
