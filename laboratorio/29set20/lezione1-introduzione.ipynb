{
 "cells": [
  {
   "cell_type": "markdown",
   "metadata": {},
   "source": [
    "# Introduzione a Python\n",
    "\n",
    "> # Indice\n",
    ">>> ### I tipi standard\n",
    ">>> ### Operatori numerici\n",
    ">>> ### Operatori di confronto\n",
    ">>> ### Operatori logici\n",
    ">>> ### La funzione\n",
    ">>> ### Il modulo\n",
    ">>> ### Una funzione utile: `print()`"
   ]
  },
  {
   "cell_type": "markdown",
   "metadata": {},
   "source": [
    "Python è un linguaggio orientato agli oggetti e tutto ciò che viene manipolato o restituito è un riferimento a un oggetto.\n",
    "Quindi il contenuto di una variabile è sempre un riferimento a un oggetto.\n",
    "\n",
    "I commenti iniziano con il simbolo `#` e terminano alla fine della riga.\n",
    "\n",
    "Le parentesi tonde che racchiudono i parametri attuali di un metodo o di una funzione sono opzionali (tranne quando servono per disambiguare invocazioni annidate).\n",
    "\n",
    "l simbolo `;` alla fine di un’istruzione è opzionale.\n",
    "\n",
    "I nomi di variabile possono contenere solo cifre, lettere e il simbolo `_`. Non possono iniziare con una cifra e in genere sono in minuscolo.\n",
    "\n",
    "Python è *case sensitive*.\n",
    "\n",
    "Le variabili non vengono dichiarate e incominciano ad esistere nel momento in cui viene assegnato loro un valore. Il loro tipo viene determinato in questo momento."
   ]
  },
  {
   "cell_type": "markdown",
   "metadata": {},
   "source": [
    "La seguente istruzione di assegnamento crea la variabile `x` di tipo intero:"
   ]
  },
  {
   "cell_type": "code",
   "execution_count": 1,
   "metadata": {},
   "outputs": [],
   "source": [
    "x = 1245"
   ]
  },
  {
   "cell_type": "markdown",
   "metadata": {},
   "source": [
    "**NOTA BENE**: attenzione alle indentazioni!\n",
    "Ad esempio il codice seguente non funziona:"
   ]
  },
  {
   "cell_type": "code",
   "execution_count": 3,
   "metadata": {
    "scrolled": true
   },
   "outputs": [
    {
     "ename": "IndentationError",
     "evalue": "unexpected indent (<ipython-input-3-13a076db0f32>, line 2)",
     "output_type": "error",
     "traceback": [
      "\u001b[0;36m  File \u001b[0;32m\"<ipython-input-3-13a076db0f32>\"\u001b[0;36m, line \u001b[0;32m2\u001b[0m\n\u001b[0;31m    y = 11\u001b[0m\n\u001b[0m    ^\u001b[0m\n\u001b[0;31mIndentationError\u001b[0m\u001b[0;31m:\u001b[0m unexpected indent\n"
     ]
    }
   ],
   "source": [
    "x = 10\n",
    "    y = 11"
   ]
  },
  {
   "cell_type": "markdown",
   "metadata": {},
   "source": [
    "## I tipi standard\n",
    "\n",
    "**Valori booleani**:\n",
    "- tipo dell'oggetto: `bool`\n",
    "- valori possibili: `True` e `False`"
   ]
  },
  {
   "cell_type": "code",
   "execution_count": null,
   "metadata": {},
   "outputs": [],
   "source": [
    "x = True\n",
    "y = False"
   ]
  },
  {
   "cell_type": "markdown",
   "metadata": {},
   "source": [
    "**Numeri interi**:\n",
    "- tipo dell'oggetto: `int`\n",
    "- valori possibili: numeri interi positivi e negativi"
   ]
  },
  {
   "cell_type": "code",
   "execution_count": 4,
   "metadata": {},
   "outputs": [],
   "source": [
    "x = 1301\n",
    "y = -1301"
   ]
  },
  {
   "cell_type": "markdown",
   "metadata": {},
   "source": [
    "**Numeri decimali**:\n",
    "- tipo dell'oggetto: `float`\n",
    "- valori possibili: numeri decimali positivi e negativi"
   ]
  },
  {
   "cell_type": "code",
   "execution_count": 5,
   "metadata": {},
   "outputs": [],
   "source": [
    "x = 1301.15\n",
    "y = -1301.15"
   ]
  },
  {
   "cell_type": "markdown",
   "metadata": {},
   "source": [
    "**Stringhe di caratteri**:\n",
    "- tipo dell'oggetto: `str`\n",
    "- valori possibili: tutte le possibili stringhe di caratteri\n",
    "    \n",
    "Il letterale per definire una stringa è la sequenza dei caratteri racchiusa tra singoli apici `'` oppure doppi apici `\"`."
   ]
  },
  {
   "cell_type": "code",
   "execution_count": 6,
   "metadata": {},
   "outputs": [],
   "source": [
    "s1 = 'Ciao'\n",
    "s2 = \"Ciao\""
   ]
  },
  {
   "cell_type": "markdown",
   "metadata": {},
   "source": [
    "## Operatori numerici\n",
    "\n",
    "- somma\n",
    "    - operatore: `+`\n",
    "- sottrazione\n",
    "    - operatore: `-`\n",
    "- moltiplicazione\n",
    "    - operatore: `*`\n",
    "- divisione\n",
    "    - operatore: `/`\n",
    "- divisione intera\n",
    "    - operatore: `//`\n",
    "- elevamento a potenza\n",
    "    - operatore: `**`\n",
    "- resto della divisione intera\n",
    "    - operatore: `%`\n",
    "- negazione aritmetica\n",
    "    - operatore: `-`"
   ]
  },
  {
   "cell_type": "code",
   "execution_count": 7,
   "metadata": {},
   "outputs": [
    {
     "data": {
      "text/plain": [
       "90.5"
      ]
     },
     "execution_count": 7,
     "metadata": {},
     "output_type": "execute_result"
    }
   ],
   "source": [
    "34 + 56.5"
   ]
  },
  {
   "cell_type": "code",
   "execution_count": 8,
   "metadata": {},
   "outputs": [
    {
     "data": {
      "text/plain": [
       "-22"
      ]
     },
     "execution_count": 8,
     "metadata": {},
     "output_type": "execute_result"
    }
   ],
   "source": [
    "34 - 56"
   ]
  },
  {
   "cell_type": "code",
   "execution_count": 9,
   "metadata": {},
   "outputs": [
    {
     "data": {
      "text/plain": [
       "14.0"
      ]
     },
     "execution_count": 9,
     "metadata": {},
     "output_type": "execute_result"
    }
   ],
   "source": [
    "3.5 * 4"
   ]
  },
  {
   "cell_type": "code",
   "execution_count": 10,
   "metadata": {
    "scrolled": true
   },
   "outputs": [
    {
     "data": {
      "text/plain": [
       "3.25"
      ]
     },
     "execution_count": 10,
     "metadata": {},
     "output_type": "execute_result"
    }
   ],
   "source": [
    "13 / 4"
   ]
  },
  {
   "cell_type": "code",
   "execution_count": 11,
   "metadata": {},
   "outputs": [
    {
     "data": {
      "text/plain": [
       "3.0"
      ]
     },
     "execution_count": 11,
     "metadata": {},
     "output_type": "execute_result"
    }
   ],
   "source": [
    "13.0 // 4"
   ]
  },
  {
   "cell_type": "code",
   "execution_count": 12,
   "metadata": {},
   "outputs": [
    {
     "data": {
      "text/plain": [
       "4"
      ]
     },
     "execution_count": 12,
     "metadata": {},
     "output_type": "execute_result"
    }
   ],
   "source": [
    "2 ** 2"
   ]
  },
  {
   "cell_type": "code",
   "execution_count": 13,
   "metadata": {},
   "outputs": [
    {
     "data": {
      "text/plain": [
       "1.0"
      ]
     },
     "execution_count": 13,
     "metadata": {},
     "output_type": "execute_result"
    }
   ],
   "source": [
    "13.0 % 4"
   ]
  },
  {
   "cell_type": "code",
   "execution_count": 14,
   "metadata": {},
   "outputs": [
    {
     "data": {
      "text/plain": [
       "-13.0"
      ]
     },
     "execution_count": 14,
     "metadata": {},
     "output_type": "execute_result"
    }
   ],
   "source": [
    "-13.0"
   ]
  },
  {
   "cell_type": "markdown",
   "metadata": {},
   "source": [
    "## Operatori di confronto\n",
    "\n",
    "- uguale a\n",
    "    - operatore: `==`\n",
    "- diverso da \n",
    "    - operatore: `!=`\n",
    "- minore di \n",
    "    - operatore: `<`\n",
    "- maggiore di \n",
    "    - operatore: `>`\n",
    "- minore o uguale a \n",
    "    - operatore: `<=`\n",
    "- maggiore o uguale a \n",
    "    - operatore: `>=`\n",
    "\n",
    "Un'operazione di confronto restituisce sempre un valore di tipo `bool`: `True` o `False`."
   ]
  },
  {
   "cell_type": "code",
   "execution_count": 15,
   "metadata": {},
   "outputs": [
    {
     "data": {
      "text/plain": [
       "True"
      ]
     },
     "execution_count": 15,
     "metadata": {},
     "output_type": "execute_result"
    }
   ],
   "source": [
    "34.0 == 34"
   ]
  },
  {
   "cell_type": "code",
   "execution_count": 16,
   "metadata": {},
   "outputs": [
    {
     "data": {
      "text/plain": [
       "True"
      ]
     },
     "execution_count": 16,
     "metadata": {},
     "output_type": "execute_result"
    }
   ],
   "source": [
    "34 != 56"
   ]
  },
  {
   "cell_type": "code",
   "execution_count": 17,
   "metadata": {},
   "outputs": [
    {
     "data": {
      "text/plain": [
       "True"
      ]
     },
     "execution_count": 17,
     "metadata": {},
     "output_type": "execute_result"
    }
   ],
   "source": [
    "34 < 56"
   ]
  },
  {
   "cell_type": "code",
   "execution_count": 18,
   "metadata": {},
   "outputs": [
    {
     "data": {
      "text/plain": [
       "False"
      ]
     },
     "execution_count": 18,
     "metadata": {},
     "output_type": "execute_result"
    }
   ],
   "source": [
    "34 > 56"
   ]
  },
  {
   "cell_type": "code",
   "execution_count": 19,
   "metadata": {},
   "outputs": [
    {
     "data": {
      "text/plain": [
       "True"
      ]
     },
     "execution_count": 19,
     "metadata": {},
     "output_type": "execute_result"
    }
   ],
   "source": [
    "56 <= 56"
   ]
  },
  {
   "cell_type": "code",
   "execution_count": 20,
   "metadata": {},
   "outputs": [
    {
     "data": {
      "text/plain": [
       "True"
      ]
     },
     "execution_count": 20,
     "metadata": {},
     "output_type": "execute_result"
    }
   ],
   "source": [
    "56 >= 56"
   ]
  },
  {
   "cell_type": "markdown",
   "metadata": {},
   "source": [
    "## Operatori logici\n",
    "\n",
    "Tutto è considerato vero tranne il valore intero 0 e il valore decimale 0.0 (la stringa composta unicamente dal simbolo di cifra 0 è considerata un valore vero).\n",
    "\n",
    "- congiunzione\n",
    "    - operatore: `and`\n",
    "    - *valore restituito*: il primo operando se esso è falso, altrimenti il secondo operando\n",
    "- disgiunzione \n",
    "    - operatore: `or`\n",
    "    - *valore restituito*: il primo operando se esso è vero, altrimenti il secondo operando\n",
    "- negazione\n",
    "    - operatore: `not`\n",
    "    - *valore restituito*: `True` se l'operando è falso, altrimenti `False` (valori di tipo `bool`)\n",
    "\n",
    "**NOTA BENE:** non è detto che il valore restituito da un'espressione di congiunzione o disgiunzione logica sia `True` o `False` (cioé un valore di tipo `bool`).\n",
    "\n",
    "**Esempi**"
   ]
  },
  {
   "cell_type": "code",
   "execution_count": 21,
   "metadata": {},
   "outputs": [
    {
     "data": {
      "text/plain": [
       "False"
      ]
     },
     "execution_count": 21,
     "metadata": {},
     "output_type": "execute_result"
    }
   ],
   "source": [
    "34 < 56 and 34 < 0"
   ]
  },
  {
   "cell_type": "code",
   "execution_count": 22,
   "metadata": {},
   "outputs": [
    {
     "data": {
      "text/plain": [
       "True"
      ]
     },
     "execution_count": 22,
     "metadata": {},
     "output_type": "execute_result"
    }
   ],
   "source": [
    "34 < 56 or 34 < 0"
   ]
  },
  {
   "cell_type": "code",
   "execution_count": 23,
   "metadata": {},
   "outputs": [
    {
     "data": {
      "text/plain": [
       "True"
      ]
     },
     "execution_count": 23,
     "metadata": {},
     "output_type": "execute_result"
    }
   ],
   "source": [
    "not 34 < 0"
   ]
  },
  {
   "cell_type": "code",
   "execution_count": 24,
   "metadata": {},
   "outputs": [
    {
     "data": {
      "text/plain": [
       "0"
      ]
     },
     "execution_count": 24,
     "metadata": {},
     "output_type": "execute_result"
    }
   ],
   "source": [
    "42 and 0"
   ]
  },
  {
   "cell_type": "code",
   "execution_count": 25,
   "metadata": {},
   "outputs": [
    {
     "data": {
      "text/plain": [
       "0"
      ]
     },
     "execution_count": 25,
     "metadata": {},
     "output_type": "execute_result"
    }
   ],
   "source": [
    "0 and 36"
   ]
  },
  {
   "cell_type": "code",
   "execution_count": 26,
   "metadata": {},
   "outputs": [
    {
     "data": {
      "text/plain": [
       "36"
      ]
     },
     "execution_count": 26,
     "metadata": {},
     "output_type": "execute_result"
    }
   ],
   "source": [
    "42 and 36"
   ]
  },
  {
   "cell_type": "code",
   "execution_count": 27,
   "metadata": {},
   "outputs": [
    {
     "data": {
      "text/plain": [
       "36"
      ]
     },
     "execution_count": 27,
     "metadata": {},
     "output_type": "execute_result"
    }
   ],
   "source": [
    "\"0\" and 36"
   ]
  },
  {
   "cell_type": "code",
   "execution_count": 28,
   "metadata": {},
   "outputs": [
    {
     "data": {
      "text/plain": [
       "42"
      ]
     },
     "execution_count": 28,
     "metadata": {},
     "output_type": "execute_result"
    }
   ],
   "source": [
    "42 or 0"
   ]
  },
  {
   "cell_type": "code",
   "execution_count": 29,
   "metadata": {},
   "outputs": [
    {
     "data": {
      "text/plain": [
       "36"
      ]
     },
     "execution_count": 29,
     "metadata": {},
     "output_type": "execute_result"
    }
   ],
   "source": [
    "0 or 36"
   ]
  },
  {
   "cell_type": "code",
   "execution_count": 30,
   "metadata": {},
   "outputs": [
    {
     "data": {
      "text/plain": [
       "0.0"
      ]
     },
     "execution_count": 30,
     "metadata": {},
     "output_type": "execute_result"
    }
   ],
   "source": [
    "0 or 0.0"
   ]
  },
  {
   "cell_type": "code",
   "execution_count": 31,
   "metadata": {},
   "outputs": [
    {
     "data": {
      "text/plain": [
       "False"
      ]
     },
     "execution_count": 31,
     "metadata": {},
     "output_type": "execute_result"
    }
   ],
   "source": [
    "not \"0\""
   ]
  },
  {
   "cell_type": "code",
   "execution_count": 32,
   "metadata": {},
   "outputs": [
    {
     "data": {
      "text/plain": [
       "True"
      ]
     },
     "execution_count": 32,
     "metadata": {},
     "output_type": "execute_result"
    }
   ],
   "source": [
    "not 0.0"
   ]
  },
  {
   "cell_type": "code",
   "execution_count": 33,
   "metadata": {},
   "outputs": [
    {
     "data": {
      "text/plain": [
       "True"
      ]
     },
     "execution_count": 33,
     "metadata": {},
     "output_type": "execute_result"
    }
   ],
   "source": [
    "not 0"
   ]
  },
  {
   "cell_type": "markdown",
   "metadata": {},
   "source": [
    "## La funzione\n",
    "\n",
    "**Funzione** = sequenza di istruzioni a cui viene assegnato un nome\n",
    "\n",
    "**Sintassi di definizione**:\n",
    "\n",
    "    def function_name(argument_list):\n",
    "        function_body\n",
    "        \n",
    "dove:\n",
    "- `function_name`: il nome associato alla funzione\n",
    "- `argument_list`: la lista degli argomenti\n",
    "- `function_body`: il corpo della funzione (sequenza di istruzioni)\n",
    "\n",
    "**Regole**:\n",
    "\n",
    "- prima di usare una funzione essa va definita:\n",
    "    - il corpo della funzione deve essere indentato 4 volte rispetto alla riga di intestazione\n",
    "    - una riga vuota è necessaria dopo l'ultima istruzione\n",
    "- gli argomenti di una funzione non sono tipizzati (un dato argomento può assumere un valore di qualsiasi tipo)\n",
    "- gli argomenti e le variabili all’interno del corpo della funzione sono locali alla funzione\n",
    "- una funzione può anche non avere l'istruzione `return` e in tale caso restituisce il valore `None` di tipo `NoneType`"
   ]
  },
  {
   "cell_type": "code",
   "execution_count": 2,
   "metadata": {},
   "outputs": [],
   "source": [
    "def somma1(x,y):\n",
    "    return x+y"
   ]
  },
  {
   "cell_type": "code",
   "execution_count": 35,
   "metadata": {},
   "outputs": [
    {
     "data": {
      "text/plain": [
       "9"
      ]
     },
     "execution_count": 35,
     "metadata": {},
     "output_type": "execute_result"
    }
   ],
   "source": [
    "somma1(5,4)"
   ]
  },
  {
   "cell_type": "code",
   "execution_count": 36,
   "metadata": {},
   "outputs": [
    {
     "data": {
      "text/plain": [
       "'Ciao mondo'"
      ]
     },
     "execution_count": 36,
     "metadata": {},
     "output_type": "execute_result"
    }
   ],
   "source": [
    "somma1(\"Ciao\", \" mondo\")"
   ]
  },
  {
   "cell_type": "code",
   "execution_count": 37,
   "metadata": {},
   "outputs": [],
   "source": [
    "def somma2(x,y):\n",
    "    x+y"
   ]
  },
  {
   "cell_type": "code",
   "execution_count": 38,
   "metadata": {},
   "outputs": [],
   "source": [
    "somma2(5,4)"
   ]
  },
  {
   "cell_type": "markdown",
   "metadata": {},
   "source": [
    "## Il modulo\n",
    "\n",
    "**Modulo** = file contenente definizioni e istruzioni che può essere importato in uno script.\n",
    "\n",
    "**Sintassi di importazione**:\n",
    "\n",
    "    import module_name as new_name\n",
    "    \n",
    "`new_name` è il nuovo nome (opzionale) che si può associare per comodità al modulo."
   ]
  },
  {
   "cell_type": "markdown",
   "metadata": {},
   "source": [
    "#### Esempio di importazione del modulo `math` (contenente funzioni matematiche) e uso della funzione `sqrt` per il calcolo della radice quadrata di un numero"
   ]
  },
  {
   "cell_type": "code",
   "execution_count": 39,
   "metadata": {},
   "outputs": [],
   "source": [
    "import math"
   ]
  },
  {
   "cell_type": "code",
   "execution_count": 40,
   "metadata": {},
   "outputs": [
    {
     "data": {
      "text/plain": [
       "5.0"
      ]
     },
     "execution_count": 40,
     "metadata": {},
     "output_type": "execute_result"
    }
   ],
   "source": [
    "math.sqrt(25)"
   ]
  },
  {
   "cell_type": "markdown",
   "metadata": {},
   "source": [
    "## Una funzione utile: `print()`\n",
    "\n",
    "La funzione `print` produce in standard output l’argomento passato e stampa un carattere di *newline* alla fine.\n",
    "\n",
    "    print(argument)\n",
    "\n",
    "dove `arguments` sono gli argomenti della funzione."
   ]
  },
  {
   "cell_type": "code",
   "execution_count": 3,
   "metadata": {},
   "outputs": [
    {
     "name": "stdout",
     "output_type": "stream",
     "text": [
      "Ciao mondo!\n",
      "Ciao mondo!Hello world!\n",
      "4\n"
     ]
    }
   ],
   "source": [
    "print('Ciao mondo!')\n",
    "print('Ciao mondo!'+'Hello world!')\n",
    "print(1+3)"
   ]
  },
  {
   "cell_type": "markdown",
   "metadata": {},
   "source": [
    "**NOTA BENE**: la funzione `print()` può essere usata come la `printf()` del linguaggio C."
   ]
  },
  {
   "cell_type": "code",
   "execution_count": 42,
   "metadata": {},
   "outputs": [
    {
     "name": "stdout",
     "output_type": "stream",
     "text": [
      "10.68\n"
     ]
    }
   ],
   "source": [
    "print('%.2f' %10.6777)"
   ]
  }
 ],
 "metadata": {
  "kernelspec": {
   "display_name": "Python 3",
   "language": "python",
   "name": "python3"
  },
  "language_info": {
   "codemirror_mode": {
    "name": "ipython",
    "version": 3
   },
   "file_extension": ".py",
   "mimetype": "text/x-python",
   "name": "python",
   "nbconvert_exporter": "python",
   "pygments_lexer": "ipython3",
   "version": "3.7.1"
  }
 },
 "nbformat": 4,
 "nbformat_minor": 2
}
