{
 "cells": [
  {
   "cell_type": "markdown",
   "metadata": {},
   "source": [
    "# Esercizio 1\n",
    "\n",
    "Si consideri in input il dataset delle precipitazioni piovose mensili (mm) in periodo di N anni, nel seguente formato:"
   ]
  },
  {
   "cell_type": "raw",
   "metadata": {},
   "source": [
    "                2009\t2010\t2011\t2012\t2013\t2014\t2015\n",
    "    Gennaio\t\t75\t\t63\t\t65\t\t50\t\t77\t\t66\t\t69\n",
    "    Febbraio\t64\t\t65\t\t65\t\t67\t\t50\t\t54\t\t58\n",
    "    Marzo\t\t81\t\t77\t\t73\t\t80\t\t83\t\t89\t\t100\n",
    "    Aprile\t\t89\t\t90\t\t85\t\t90\t\t90\t\t84\t\t90\n",
    "    Maggio\t\t120\t\t129\t\t113\t\t120\t\t135\t\t117\t\t130\n",
    "    Giugno\t\t113\t\t99\t\t116\t\t114\t\t111\t\t119\t\t100\n",
    "    Luglio\t\t111\t\t105\t\t98\t\t112\t\t113\t\t102\t\t100\n",
    "    Agosto\t\t129\t\t131\t\t120\t\t111\t\t141\t\t130\t\t126\n",
    "    Settembre\t90\t\t85\t\t101\t\t88\t\t89\t\t94\t\t91\n",
    "    Ottobre\t\t109\t\t122\t\t103\t\t119\t\t98\t\t101\t\t107\n",
    "    Novembre\t111\t\t121\t\t101\t\t104\t\t121\t\t115\t\t104\n",
    "    Dicembre\t56\t\t67\t\t44\t\t58\t\t61\t\t64\t\t58"
   ]
  },
  {
   "cell_type": "markdown",
   "metadata": {},
   "source": [
    "La specifica del formato di input è la seguente: 13 record di campi separati da tabulazione di cui il primo è il record di intestazione degli anni (composto da N campi) e gli altri 12 sono i record delle piogge mensili (uno per ciascun mese) composti da N+1 campi (di cui il primo è il nome del mese) e i rimanenti N sono le piogge del mese lungo gli N anni.\n",
    "\n",
    "Si richiede di calcolare:\n",
    "\n",
    "- per ognuno dei mesi, la precipitazione media lungo gli anni \n",
    "- per ognuno degli anni considerati, la precipitazione totale \n",
    "- per ognuno degli anni considerati, il numero di mesi con almeno p mm di pioggia\n",
    "\n",
    "***\n",
    "\n",
    "Parametri di input:\n",
    "- dataset delle precipitazioni\n",
    "- soglia p\n",
    "\n",
    "***\n",
    "\n",
    "Requisiti generali:\n",
    "- il calcolo deve essere generico rispetto dataset di input\n",
    "- si richiede la definizione della funzione `compute_mean()` per calcolare la media di una lista di numeri\n",
    "- si richiede la definizione della funzione `count_elements_greater_than()` per contare il numero di valori che sono almeno una certa soglia\n",
    "\n",
    "***\n",
    "\n",
    "Variabili di output:\n",
    "\n",
    "- lista `means_per_month_tuples` di 12 tuple delle precipitazioni medie mensili, in cui ogni tupla contiene le prime tre lettere del nome del mese in maiuscolo come primo elemento e la media lungo gli anni come secondo elemento\n",
    "- lista `tot_per_year_tuples` di N tuple delle precipitazioni totali annue, in cui ogni tupla contiene l'anno come primo elemento e la precipitazione totale come secondo elemento\n",
    "- lista `count_per_year_tuples` di N tuple del numero di mesi con almeno p mm di pioggia (per anno), in cui ogni tupla contiene l'anno come primo elemento e il numero di mesi con almeno p mm di pioggia come secondo elemento\n",
    "\n",
    "***"
   ]
  },
  {
   "cell_type": "markdown",
   "metadata": {},
   "source": [
    "## Soluzione"
   ]
  },
  {
   "cell_type": "markdown",
   "metadata": {},
   "source": [
    "Importare il modulo `numpy` come `np` per costruire e gestire matrici."
   ]
  },
  {
   "cell_type": "code",
   "execution_count": 1,
   "metadata": {},
   "outputs": [],
   "source": [
    "import numpy as np"
   ]
  },
  {
   "cell_type": "markdown",
   "metadata": {},
   "source": [
    "### Definizione delle funzioni\n",
    "\n",
    "- `compute_mean()`, calcolo della media di una lista di valori numerici"
   ]
  },
  {
   "cell_type": "code",
   "execution_count": 1,
   "metadata": {},
   "outputs": [],
   "source": [
    "def compute_mean(list_of_numbers):\n",
    "    return float(sum(list_of_numbers))/len(list_of_numbers)"
   ]
  },
  {
   "cell_type": "markdown",
   "metadata": {},
   "source": [
    "- `count_elements_greater_than()`, conteggio del numero di valori di una lista sono che almeno uguali a una certa soglia"
   ]
  },
  {
   "cell_type": "code",
   "execution_count": 3,
   "metadata": {},
   "outputs": [],
   "source": [
    "def count_elements_greater_than(list_of_numbers, threshold):\n",
    "    b_list = [number >= threshold for number in list_of_numbers]\n",
    "    return b_list.count(True)"
   ]
  },
  {
   "cell_type": "markdown",
   "metadata": {},
   "source": [
    "### Dataset e parametri in input"
   ]
  },
  {
   "cell_type": "code",
   "execution_count": 4,
   "metadata": {},
   "outputs": [],
   "source": [
    "input_file_name = './input-precipitazioni.txt'\n",
    "p = 100"
   ]
  },
  {
   "cell_type": "markdown",
   "metadata": {},
   "source": [
    "### Lettura delle righe del dataset in input nella lista `file_rows`"
   ]
  },
  {
   "cell_type": "code",
   "execution_count": 5,
   "metadata": {},
   "outputs": [],
   "source": [
    "with open(input_file_name, 'r') as input_file:\n",
    "    file_rows = input_file.readlines()"
   ]
  },
  {
   "cell_type": "code",
   "execution_count": 6,
   "metadata": {},
   "outputs": [
    {
     "data": {
      "text/plain": [
       "['\\t\\t\\t2009\\t2010\\t2011\\t2012\\t2013\\t2014\\t2015\\n',\n",
       " 'Gennaio\\t\\t75\\t\\t63\\t\\t65\\t\\t50\\t\\t77\\t\\t66\\t\\t69\\n',\n",
       " 'Febbraio\\t64\\t\\t65\\t\\t65\\t\\t67\\t\\t50\\t\\t54\\t\\t58\\n',\n",
       " 'Marzo\\t\\t81\\t\\t77\\t\\t73\\t\\t80\\t\\t83\\t\\t89\\t\\t100\\n',\n",
       " 'Aprile\\t\\t89\\t\\t90\\t\\t85\\t\\t90\\t\\t90\\t\\t84\\t\\t90\\n',\n",
       " 'Maggio\\t\\t120\\t\\t129\\t\\t113\\t\\t120\\t\\t135\\t\\t117\\t\\t130\\n',\n",
       " 'Giugno\\t\\t113\\t\\t99\\t\\t116\\t\\t114\\t\\t111\\t\\t119\\t\\t100\\n',\n",
       " 'Luglio\\t\\t111\\t\\t105\\t\\t98\\t\\t112\\t\\t113\\t\\t102\\t\\t100\\n',\n",
       " 'Agosto\\t\\t129\\t\\t131\\t\\t120\\t\\t111\\t\\t141\\t\\t130\\t\\t126\\n',\n",
       " 'Settembre\\t90\\t\\t85\\t\\t101\\t\\t88\\t\\t89\\t\\t94\\t\\t91\\n',\n",
       " 'Ottobre\\t\\t109\\t\\t122\\t\\t103\\t\\t119\\t\\t98\\t\\t101\\t\\t107\\n',\n",
       " 'Novembre\\t111\\t\\t121\\t\\t101\\t\\t104\\t\\t121\\t\\t115\\t\\t104\\n',\n",
       " 'Dicembre\\t56\\t\\t67\\t\\t44\\t\\t58\\t\\t61\\t\\t64\\t\\t58']"
      ]
     },
     "execution_count": 6,
     "metadata": {},
     "output_type": "execute_result"
    }
   ],
   "source": [
    "file_rows"
   ]
  },
  {
   "cell_type": "markdown",
   "metadata": {},
   "source": [
    "### Estrazione della lista `years` degli anni rilevati"
   ]
  },
  {
   "cell_type": "code",
   "execution_count": 7,
   "metadata": {},
   "outputs": [],
   "source": [
    "years = file_rows.pop(0).rstrip().split()"
   ]
  },
  {
   "cell_type": "code",
   "execution_count": 8,
   "metadata": {},
   "outputs": [
    {
     "data": {
      "text/plain": [
       "['2009', '2010', '2011', '2012', '2013', '2014', '2015']"
      ]
     },
     "execution_count": 8,
     "metadata": {},
     "output_type": "execute_result"
    }
   ],
   "source": [
    "years"
   ]
  },
  {
   "cell_type": "markdown",
   "metadata": {},
   "source": [
    "**NOTA BENE**: a questo punto la riga di intestazione del dataset in input non deve più essere presente nella lista `file_rows`."
   ]
  },
  {
   "cell_type": "code",
   "execution_count": 9,
   "metadata": {},
   "outputs": [
    {
     "data": {
      "text/plain": [
       "['Gennaio\\t\\t75\\t\\t63\\t\\t65\\t\\t50\\t\\t77\\t\\t66\\t\\t69\\n',\n",
       " 'Febbraio\\t64\\t\\t65\\t\\t65\\t\\t67\\t\\t50\\t\\t54\\t\\t58\\n',\n",
       " 'Marzo\\t\\t81\\t\\t77\\t\\t73\\t\\t80\\t\\t83\\t\\t89\\t\\t100\\n',\n",
       " 'Aprile\\t\\t89\\t\\t90\\t\\t85\\t\\t90\\t\\t90\\t\\t84\\t\\t90\\n',\n",
       " 'Maggio\\t\\t120\\t\\t129\\t\\t113\\t\\t120\\t\\t135\\t\\t117\\t\\t130\\n',\n",
       " 'Giugno\\t\\t113\\t\\t99\\t\\t116\\t\\t114\\t\\t111\\t\\t119\\t\\t100\\n',\n",
       " 'Luglio\\t\\t111\\t\\t105\\t\\t98\\t\\t112\\t\\t113\\t\\t102\\t\\t100\\n',\n",
       " 'Agosto\\t\\t129\\t\\t131\\t\\t120\\t\\t111\\t\\t141\\t\\t130\\t\\t126\\n',\n",
       " 'Settembre\\t90\\t\\t85\\t\\t101\\t\\t88\\t\\t89\\t\\t94\\t\\t91\\n',\n",
       " 'Ottobre\\t\\t109\\t\\t122\\t\\t103\\t\\t119\\t\\t98\\t\\t101\\t\\t107\\n',\n",
       " 'Novembre\\t111\\t\\t121\\t\\t101\\t\\t104\\t\\t121\\t\\t115\\t\\t104\\n',\n",
       " 'Dicembre\\t56\\t\\t67\\t\\t44\\t\\t58\\t\\t61\\t\\t64\\t\\t58']"
      ]
     },
     "execution_count": 9,
     "metadata": {},
     "output_type": "execute_result"
    }
   ],
   "source": [
    "file_rows"
   ]
  },
  {
   "cell_type": "markdown",
   "metadata": {},
   "source": [
    "### Estrazione della lista `months` dei nomi dei mesi"
   ]
  },
  {
   "cell_type": "code",
   "execution_count": 10,
   "metadata": {},
   "outputs": [],
   "source": [
    "months = [row.rstrip().split()[0] for row in file_rows]"
   ]
  },
  {
   "cell_type": "code",
   "execution_count": 11,
   "metadata": {},
   "outputs": [
    {
     "data": {
      "text/plain": [
       "['Gennaio',\n",
       " 'Febbraio',\n",
       " 'Marzo',\n",
       " 'Aprile',\n",
       " 'Maggio',\n",
       " 'Giugno',\n",
       " 'Luglio',\n",
       " 'Agosto',\n",
       " 'Settembre',\n",
       " 'Ottobre',\n",
       " 'Novembre',\n",
       " 'Dicembre']"
      ]
     },
     "execution_count": 11,
     "metadata": {},
     "output_type": "execute_result"
    }
   ],
   "source": [
    "months"
   ]
  },
  {
   "cell_type": "markdown",
   "metadata": {},
   "source": [
    "### Costruzione della matrice `rains_per_months` delle piogge mensili"
   ]
  },
  {
   "cell_type": "markdown",
   "metadata": {},
   "source": [
    "**NOTA BENE**: ogni riga della matrice `rains_per_month` deve contenere le piogge di un dato mese (lungo gli anni) come valori di tipo `int`."
   ]
  },
  {
   "cell_type": "markdown",
   "metadata": {},
   "source": [
    "Costruire la lista `list_rains_per_months_str` in cui il singolo elemento è la lista delle piogge in un dato mese, come valori di tipo `str`"
   ]
  },
  {
   "cell_type": "code",
   "execution_count": 12,
   "metadata": {},
   "outputs": [],
   "source": [
    "list_rains_per_months_str = [row.rstrip().split()[1:] for row in file_rows]"
   ]
  },
  {
   "cell_type": "code",
   "execution_count": 13,
   "metadata": {},
   "outputs": [
    {
     "data": {
      "text/plain": [
       "[['75', '63', '65', '50', '77', '66', '69'],\n",
       " ['64', '65', '65', '67', '50', '54', '58'],\n",
       " ['81', '77', '73', '80', '83', '89', '100'],\n",
       " ['89', '90', '85', '90', '90', '84', '90'],\n",
       " ['120', '129', '113', '120', '135', '117', '130'],\n",
       " ['113', '99', '116', '114', '111', '119', '100'],\n",
       " ['111', '105', '98', '112', '113', '102', '100'],\n",
       " ['129', '131', '120', '111', '141', '130', '126'],\n",
       " ['90', '85', '101', '88', '89', '94', '91'],\n",
       " ['109', '122', '103', '119', '98', '101', '107'],\n",
       " ['111', '121', '101', '104', '121', '115', '104'],\n",
       " ['56', '67', '44', '58', '61', '64', '58']]"
      ]
     },
     "execution_count": 13,
     "metadata": {},
     "output_type": "execute_result"
    }
   ],
   "source": [
    "list_rains_per_months_str"
   ]
  },
  {
   "cell_type": "markdown",
   "metadata": {},
   "source": [
    "Convertire la lista `list_rains_per_months_str` in una lista `list_rains_per_months_int` di oggetti di tipo `int`."
   ]
  },
  {
   "cell_type": "code",
   "execution_count": 14,
   "metadata": {},
   "outputs": [],
   "source": [
    "list_rains_per_months_int = [[int(rain) for rain in rains] for rains in list_rains_per_months_str]"
   ]
  },
  {
   "cell_type": "code",
   "execution_count": 15,
   "metadata": {},
   "outputs": [
    {
     "data": {
      "text/plain": [
       "[[75, 63, 65, 50, 77, 66, 69],\n",
       " [64, 65, 65, 67, 50, 54, 58],\n",
       " [81, 77, 73, 80, 83, 89, 100],\n",
       " [89, 90, 85, 90, 90, 84, 90],\n",
       " [120, 129, 113, 120, 135, 117, 130],\n",
       " [113, 99, 116, 114, 111, 119, 100],\n",
       " [111, 105, 98, 112, 113, 102, 100],\n",
       " [129, 131, 120, 111, 141, 130, 126],\n",
       " [90, 85, 101, 88, 89, 94, 91],\n",
       " [109, 122, 103, 119, 98, 101, 107],\n",
       " [111, 121, 101, 104, 121, 115, 104],\n",
       " [56, 67, 44, 58, 61, 64, 58]]"
      ]
     },
     "execution_count": 15,
     "metadata": {},
     "output_type": "execute_result"
    }
   ],
   "source": [
    "list_rains_per_months_int"
   ]
  },
  {
   "cell_type": "markdown",
   "metadata": {},
   "source": [
    "Ottenere dalla lista `list_rains_per_months_int` la matrice `rains_per_month`."
   ]
  },
  {
   "cell_type": "code",
   "execution_count": 16,
   "metadata": {},
   "outputs": [],
   "source": [
    "rains_per_month = np.array(list_rains_per_months_int)"
   ]
  },
  {
   "cell_type": "code",
   "execution_count": 17,
   "metadata": {},
   "outputs": [
    {
     "data": {
      "text/plain": [
       "array([[ 75,  63,  65,  50,  77,  66,  69],\n",
       "       [ 64,  65,  65,  67,  50,  54,  58],\n",
       "       [ 81,  77,  73,  80,  83,  89, 100],\n",
       "       [ 89,  90,  85,  90,  90,  84,  90],\n",
       "       [120, 129, 113, 120, 135, 117, 130],\n",
       "       [113,  99, 116, 114, 111, 119, 100],\n",
       "       [111, 105,  98, 112, 113, 102, 100],\n",
       "       [129, 131, 120, 111, 141, 130, 126],\n",
       "       [ 90,  85, 101,  88,  89,  94,  91],\n",
       "       [109, 122, 103, 119,  98, 101, 107],\n",
       "       [111, 121, 101, 104, 121, 115, 104],\n",
       "       [ 56,  67,  44,  58,  61,  64,  58]])"
      ]
     },
     "execution_count": 17,
     "metadata": {},
     "output_type": "execute_result"
    }
   ],
   "source": [
    "rains_per_month"
   ]
  },
  {
   "cell_type": "markdown",
   "metadata": {},
   "source": [
    "### Costruzione della matrice `rains_per_year` delle piogge annue"
   ]
  },
  {
   "cell_type": "markdown",
   "metadata": {},
   "source": [
    "**NOTA BENE**: ogni riga della matrice `rains_per_year` deve contenere le piogge di un dato anno (lungo i mesi) come valori di tipo `int`"
   ]
  },
  {
   "cell_type": "code",
   "execution_count": 18,
   "metadata": {},
   "outputs": [],
   "source": [
    "rains_per_year = rains_per_month.transpose()"
   ]
  },
  {
   "cell_type": "code",
   "execution_count": 19,
   "metadata": {},
   "outputs": [
    {
     "data": {
      "text/plain": [
       "array([[ 75,  64,  81,  89, 120, 113, 111, 129,  90, 109, 111,  56],\n",
       "       [ 63,  65,  77,  90, 129,  99, 105, 131,  85, 122, 121,  67],\n",
       "       [ 65,  65,  73,  85, 113, 116,  98, 120, 101, 103, 101,  44],\n",
       "       [ 50,  67,  80,  90, 120, 114, 112, 111,  88, 119, 104,  58],\n",
       "       [ 77,  50,  83,  90, 135, 111, 113, 141,  89,  98, 121,  61],\n",
       "       [ 66,  54,  89,  84, 117, 119, 102, 130,  94, 101, 115,  64],\n",
       "       [ 69,  58, 100,  90, 130, 100, 100, 126,  91, 107, 104,  58]])"
      ]
     },
     "execution_count": 19,
     "metadata": {},
     "output_type": "execute_result"
    }
   ],
   "source": [
    "rains_per_year"
   ]
  },
  {
   "cell_type": "markdown",
   "metadata": {},
   "source": [
    "### Calcolo della precipitazione media mensile (lungo gli anni) "
   ]
  },
  {
   "cell_type": "markdown",
   "metadata": {},
   "source": [
    "Calcolare la lista `means_per_month` delle precipitazioni medie di ogni mese."
   ]
  },
  {
   "cell_type": "markdown",
   "metadata": {},
   "source": [
    "**NOTA BENE**: `means_per_month[i]` è la media relativa al mese `months[i]`."
   ]
  },
  {
   "cell_type": "code",
   "execution_count": 20,
   "metadata": {},
   "outputs": [],
   "source": [
    "means_per_month = [compute_mean(rains_of_a_month) for rains_of_a_month in rains_per_month]"
   ]
  },
  {
   "cell_type": "code",
   "execution_count": 21,
   "metadata": {},
   "outputs": [
    {
     "data": {
      "text/plain": [
       "[66.42857142857143,\n",
       " 60.42857142857143,\n",
       " 83.28571428571429,\n",
       " 88.28571428571429,\n",
       " 123.42857142857143,\n",
       " 110.28571428571429,\n",
       " 105.85714285714286,\n",
       " 126.85714285714286,\n",
       " 91.14285714285714,\n",
       " 108.42857142857143,\n",
       " 111.0,\n",
       " 58.285714285714285]"
      ]
     },
     "execution_count": 21,
     "metadata": {},
     "output_type": "execute_result"
    }
   ],
   "source": [
    "means_per_month"
   ]
  },
  {
   "cell_type": "markdown",
   "metadata": {},
   "source": [
    "Costruire la lista `means_per_month_tuples` di 12 tuple di dimensione 2 in cui ogni tupla contiene le prime tre lettere del nome del mese in maiuscolo come primo elemento e la relativa media lungo gli anni come secondo elemento."
   ]
  },
  {
   "cell_type": "code",
   "execution_count": 22,
   "metadata": {},
   "outputs": [],
   "source": [
    "means_per_month_tuples = [(months[i][0:3].upper(), means_per_month[i]) for i in range(len(months))]"
   ]
  },
  {
   "cell_type": "code",
   "execution_count": 23,
   "metadata": {},
   "outputs": [
    {
     "data": {
      "text/plain": [
       "[('GEN', 66.42857142857143),\n",
       " ('FEB', 60.42857142857143),\n",
       " ('MAR', 83.28571428571429),\n",
       " ('APR', 88.28571428571429),\n",
       " ('MAG', 123.42857142857143),\n",
       " ('GIU', 110.28571428571429),\n",
       " ('LUG', 105.85714285714286),\n",
       " ('AGO', 126.85714285714286),\n",
       " ('SET', 91.14285714285714),\n",
       " ('OTT', 108.42857142857143),\n",
       " ('NOV', 111.0),\n",
       " ('DIC', 58.285714285714285)]"
      ]
     },
     "execution_count": 23,
     "metadata": {},
     "output_type": "execute_result"
    }
   ],
   "source": [
    "means_per_month_tuples"
   ]
  },
  {
   "cell_type": "markdown",
   "metadata": {},
   "source": [
    "### Calcolo della precipitazione totale per ognuno degli anni considerati"
   ]
  },
  {
   "cell_type": "markdown",
   "metadata": {},
   "source": [
    "Calcolare la lista `tot_per_year` delle piogge totali di ogni anno."
   ]
  },
  {
   "cell_type": "markdown",
   "metadata": {},
   "source": [
    "**NOTA BENE**: `tot_per_year[i]` è la media relativa al mese `years[i]`."
   ]
  },
  {
   "cell_type": "code",
   "execution_count": 24,
   "metadata": {},
   "outputs": [],
   "source": [
    "tot_per_year = [sum(rains_of_a_year) for rains_of_a_year in rains_per_year]"
   ]
  },
  {
   "cell_type": "code",
   "execution_count": 25,
   "metadata": {},
   "outputs": [
    {
     "data": {
      "text/plain": [
       "[1148, 1154, 1084, 1113, 1169, 1135, 1133]"
      ]
     },
     "execution_count": 25,
     "metadata": {},
     "output_type": "execute_result"
    }
   ],
   "source": [
    "tot_per_year"
   ]
  },
  {
   "cell_type": "markdown",
   "metadata": {},
   "source": [
    "Costruire la lista `tot_per_year_tuples` di N tuple di dimensione 2 in cui ogni tupla contiene l'anno come primo elemento e la relativa precipitazione totale come secondo elemento."
   ]
  },
  {
   "cell_type": "code",
   "execution_count": 26,
   "metadata": {},
   "outputs": [],
   "source": [
    "tot_per_year_tuples = [(years[i], tot_per_year[i]) for i in range(len(years))]"
   ]
  },
  {
   "cell_type": "code",
   "execution_count": 27,
   "metadata": {},
   "outputs": [
    {
     "data": {
      "text/plain": [
       "[('2009', 1148),\n",
       " ('2010', 1154),\n",
       " ('2011', 1084),\n",
       " ('2012', 1113),\n",
       " ('2013', 1169),\n",
       " ('2014', 1135),\n",
       " ('2015', 1133)]"
      ]
     },
     "execution_count": 27,
     "metadata": {},
     "output_type": "execute_result"
    }
   ],
   "source": [
    "tot_per_year_tuples"
   ]
  },
  {
   "cell_type": "markdown",
   "metadata": {},
   "source": [
    "### Calcolo del numero di mesi con almeno p mm di pioggia per ognuno degli anni considerati"
   ]
  },
  {
   "cell_type": "markdown",
   "metadata": {},
   "source": [
    "Calcolare la lista `count_per_year` del numero di mesi con almeno p mm di pioggia."
   ]
  },
  {
   "cell_type": "markdown",
   "metadata": {},
   "source": [
    "**NOTA BENE**: `count_per_year[i]` è numero di mesi con pioggia almeno p mm relativo all'anno `year[i]`."
   ]
  },
  {
   "cell_type": "code",
   "execution_count": 28,
   "metadata": {},
   "outputs": [],
   "source": [
    "count_per_year = [count_elements_greater_than(rains_per_year[i], p) for i in range(len(rains_per_year))]"
   ]
  },
  {
   "cell_type": "code",
   "execution_count": 29,
   "metadata": {},
   "outputs": [
    {
     "data": {
      "text/plain": [
       "[6, 5, 6, 6, 5, 6, 7]"
      ]
     },
     "execution_count": 29,
     "metadata": {},
     "output_type": "execute_result"
    }
   ],
   "source": [
    "count_per_year"
   ]
  },
  {
   "cell_type": "markdown",
   "metadata": {},
   "source": [
    "Costruire la lista `count_per_year_tuples` di N tuple di dimensione 2 in cui ogni tupla contiene l'anno come primo elemento e il relativo numero di mesi con almeno p mm di pioggia come secondo elemento."
   ]
  },
  {
   "cell_type": "code",
   "execution_count": 30,
   "metadata": {},
   "outputs": [],
   "source": [
    "count_per_year_tuples = [(years[i], count_per_year[i]) for i in range(len(years))]"
   ]
  },
  {
   "cell_type": "code",
   "execution_count": 31,
   "metadata": {},
   "outputs": [
    {
     "data": {
      "text/plain": [
       "[('2009', 6),\n",
       " ('2010', 5),\n",
       " ('2011', 6),\n",
       " ('2012', 6),\n",
       " ('2013', 5),\n",
       " ('2014', 6),\n",
       " ('2015', 7)]"
      ]
     },
     "execution_count": 31,
     "metadata": {},
     "output_type": "execute_result"
    }
   ],
   "source": [
    "count_per_year_tuples"
   ]
  }
 ],
 "metadata": {
  "kernelspec": {
   "display_name": "Python 3",
   "language": "python",
   "name": "python3"
  },
  "language_info": {
   "codemirror_mode": {
    "name": "ipython",
    "version": 3
   },
   "file_extension": ".py",
   "mimetype": "text/x-python",
   "name": "python",
   "nbconvert_exporter": "python",
   "pygments_lexer": "ipython3",
   "version": "3.7.1"
  }
 },
 "nbformat": 4,
 "nbformat_minor": 2
}
