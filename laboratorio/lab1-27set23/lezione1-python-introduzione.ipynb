{
 "cells": [
  {
   "cell_type": "markdown",
   "metadata": {},
   "source": [
    "# Introduzione a Python\n",
    "\n",
    "> ### Variabili\n",
    "> ### Tipi predefiniti semplici (booleani, interi e decimali)\n",
    "> ### Espressioni (aritmetiche, logiche e di confronto)\n",
    "> ### Funzioni e metodi\n",
    "> ### Moduli\n",
    "> ### La funzione `print()`"
   ]
  },
  {
   "cell_type": "markdown",
   "metadata": {},
   "source": [
    "---\n",
    "\n",
    "I **commenti** sono su singola riga iniziano con il simbolo `#`."
   ]
  },
  {
   "cell_type": "code",
   "execution_count": null,
   "metadata": {},
   "outputs": [],
   "source": []
  },
  {
   "cell_type": "markdown",
   "metadata": {},
   "source": [
    "---\n",
    "\n",
    "Il simbolo `;` alla **fine di un’istruzione** è opzionale, a meno che non si scrivano più istruzioni sulla stessa riga."
   ]
  },
  {
   "cell_type": "code",
   "execution_count": null,
   "metadata": {},
   "outputs": [],
   "source": []
  },
  {
   "cell_type": "code",
   "execution_count": null,
   "metadata": {},
   "outputs": [],
   "source": []
  },
  {
   "cell_type": "markdown",
   "metadata": {},
   "source": [
    "---\n",
    "\n",
    "Le **variabili non vengono dichiarate**:\n",
    "\n",
    "- una variabile inizia ad esistere nel momento in cui le viene assegnato un valore\n",
    "- il suo tipo viene determinato in fase di assegnamento\n",
    "- è sempre un riferimento a oggetto"
   ]
  },
  {
   "cell_type": "code",
   "execution_count": null,
   "metadata": {},
   "outputs": [],
   "source": []
  },
  {
   "cell_type": "markdown",
   "metadata": {},
   "source": [
    "Stampo il contenuto."
   ]
  },
  {
   "cell_type": "code",
   "execution_count": null,
   "metadata": {},
   "outputs": [],
   "source": []
  },
  {
   "cell_type": "markdown",
   "metadata": {},
   "source": [
    "**NOTA BENE**: una cella del notebook restituisce sempre il valore della sua ultima istruzione/espressione."
   ]
  },
  {
   "cell_type": "code",
   "execution_count": null,
   "metadata": {},
   "outputs": [],
   "source": []
  },
  {
   "cell_type": "code",
   "execution_count": null,
   "metadata": {},
   "outputs": [],
   "source": []
  },
  {
   "cell_type": "markdown",
   "metadata": {},
   "source": [
    "---\n",
    "\n",
    "Tipo di dato contenuto in `a`."
   ]
  },
  {
   "cell_type": "code",
   "execution_count": null,
   "metadata": {},
   "outputs": [],
   "source": []
  },
  {
   "cell_type": "markdown",
   "metadata": {},
   "source": [
    "Assegnamento successivo di un tipo diverso."
   ]
  },
  {
   "cell_type": "code",
   "execution_count": null,
   "metadata": {},
   "outputs": [],
   "source": []
  },
  {
   "cell_type": "code",
   "execution_count": null,
   "metadata": {},
   "outputs": [],
   "source": []
  },
  {
   "cell_type": "markdown",
   "metadata": {},
   "source": [
    "---\n",
    "\n",
    "Regole dei **nomi di variabile**:\n",
    "- possono contenere solo simboli di cifre da `0` a `9`, lettere maiuscole o minuscole e simbolo `_`\n",
    "- non possono iniziare con simbolo di una cifra\n",
    "\n",
    "E' buona norma scegliere nomi di variabile contenenti lettere minuscole."
   ]
  },
  {
   "cell_type": "markdown",
   "metadata": {},
   "source": [
    "---\n",
    "\n",
    "**NOTA BENE**: attenzione alle indentazioni!"
   ]
  },
  {
   "cell_type": "code",
   "execution_count": null,
   "metadata": {
    "scrolled": true
   },
   "outputs": [],
   "source": []
  },
  {
   "cell_type": "markdown",
   "metadata": {},
   "source": [
    "# Tipi predefiniti semplici\n",
    "\n",
    "---\n",
    "\n",
    "**Valori booleani**:\n",
    "\n",
    "- parola chiave: `bool`\n",
    "- valori possibili: `True` e `False`"
   ]
  },
  {
   "cell_type": "code",
   "execution_count": null,
   "metadata": {},
   "outputs": [],
   "source": []
  },
  {
   "cell_type": "markdown",
   "metadata": {},
   "source": [
    "---\n",
    "\n",
    "**Numeri interi**:\n",
    "\n",
    "- parola chiave: `int`\n",
    "- valori possibili: numeri interi positivi e negativi"
   ]
  },
  {
   "cell_type": "code",
   "execution_count": null,
   "metadata": {},
   "outputs": [],
   "source": []
  },
  {
   "cell_type": "markdown",
   "metadata": {},
   "source": [
    "---\n",
    "\n",
    "**Numeri decimali**:\n",
    "\n",
    "- parola chiave: `float`\n",
    "- valori possibili: numeri decimali positivi e negativi"
   ]
  },
  {
   "cell_type": "code",
   "execution_count": null,
   "metadata": {},
   "outputs": [],
   "source": []
  },
  {
   "cell_type": "markdown",
   "metadata": {},
   "source": [
    "---\n",
    "\n",
    "# Espressioni\n",
    "\n",
    "**ESPRESSIONE**: combinazione di **operazioni** che restituisce un risultato di un certo tipo (che dipende dal tipo di espressione).\n",
    "\n",
    "\n",
    "## Espressioni aritmetiche\n",
    "\n",
    "**ESPRESSIONE ARITMETICA**: combinazione di **operazioni aritmetiche** che restituisce un risultato numerico di tipo `int` oppure `float`.\n",
    "\n",
    "### Operazioni aritmetiche\n",
    "\n",
    "- somma `+`"
   ]
  },
  {
   "cell_type": "code",
   "execution_count": null,
   "metadata": {},
   "outputs": [],
   "source": []
  },
  {
   "cell_type": "markdown",
   "metadata": {},
   "source": [
    "restituisce un valore decimale di tipo float perché il secondo operando è decimale."
   ]
  },
  {
   "cell_type": "code",
   "execution_count": null,
   "metadata": {},
   "outputs": [],
   "source": []
  },
  {
   "cell_type": "markdown",
   "metadata": {},
   "source": [
    "ottengo lo stesso valore ma di tipo intero."
   ]
  },
  {
   "cell_type": "markdown",
   "metadata": {},
   "source": [
    "- sottrazione `-`"
   ]
  },
  {
   "cell_type": "code",
   "execution_count": null,
   "metadata": {},
   "outputs": [],
   "source": []
  },
  {
   "cell_type": "markdown",
   "metadata": {},
   "source": [
    "- moltiplicazione `*`"
   ]
  },
  {
   "cell_type": "code",
   "execution_count": null,
   "metadata": {},
   "outputs": [],
   "source": []
  },
  {
   "cell_type": "markdown",
   "metadata": {},
   "source": [
    "- divisione `/`"
   ]
  },
  {
   "cell_type": "code",
   "execution_count": null,
   "metadata": {
    "scrolled": true
   },
   "outputs": [],
   "source": []
  },
  {
   "cell_type": "markdown",
   "metadata": {},
   "source": [
    "- divisione intera `//`"
   ]
  },
  {
   "cell_type": "code",
   "execution_count": null,
   "metadata": {},
   "outputs": [],
   "source": []
  },
  {
   "cell_type": "markdown",
   "metadata": {},
   "source": [
    "- elevamento a potenza `**`"
   ]
  },
  {
   "cell_type": "code",
   "execution_count": null,
   "metadata": {},
   "outputs": [],
   "source": []
  },
  {
   "cell_type": "markdown",
   "metadata": {},
   "source": [
    "- resto della divisione intera `%`"
   ]
  },
  {
   "cell_type": "code",
   "execution_count": null,
   "metadata": {},
   "outputs": [],
   "source": []
  },
  {
   "cell_type": "markdown",
   "metadata": {},
   "source": [
    "- negazione aritmetica `-`"
   ]
  },
  {
   "cell_type": "code",
   "execution_count": null,
   "metadata": {},
   "outputs": [],
   "source": []
  },
  {
   "cell_type": "markdown",
   "metadata": {},
   "source": [
    "## Espressioni di confronto\n",
    "\n",
    "**ESPRESSIONE DI CONFRONTO**: combinazione **operazioni di confronto** che restituisce un valore booleano di tipo `bool` (`True` o `False`).\n",
    "\n",
    "### Operazioni di confronto\n",
    "\n",
    "- uguale a `==`\n"
   ]
  },
  {
   "cell_type": "code",
   "execution_count": null,
   "metadata": {},
   "outputs": [],
   "source": []
  },
  {
   "cell_type": "markdown",
   "metadata": {},
   "source": [
    "- diverso da `!=`"
   ]
  },
  {
   "cell_type": "code",
   "execution_count": null,
   "metadata": {},
   "outputs": [],
   "source": []
  },
  {
   "cell_type": "markdown",
   "metadata": {},
   "source": [
    "- minore di `<` o minore o uguale a `<=`"
   ]
  },
  {
   "cell_type": "code",
   "execution_count": null,
   "metadata": {},
   "outputs": [],
   "source": []
  },
  {
   "cell_type": "markdown",
   "metadata": {},
   "source": [
    "- maggiore di `>` o maggiore o uguale a `>=`"
   ]
  },
  {
   "cell_type": "code",
   "execution_count": null,
   "metadata": {},
   "outputs": [],
   "source": []
  },
  {
   "cell_type": "markdown",
   "metadata": {},
   "source": [
    "## Espressioni logiche\n",
    "\n",
    "**ESPRESSIONE LOGICA**: combinazione di **operazioni logiche** che restituisce un risultato booleano.\n",
    "\n",
    "**REGOLA**: tutto in Python è valutato come VERO tranne il valore intero `0` e il valore decimale `0.0`.\n",
    "\n",
    "### Operazioni logiche\n",
    "\n",
    "- congiunzione logica: `and`\n",
    "\n",
    "  **Risultato della congiunzione logica in generale**: VERO se entrambi gli operandi sono VERI, altrimenti FALSO    \n",
    "  **Risultato di Python**: il primo operando incontrato da sinistra che viene valutato come falso, altrimenti il secondo operando"
   ]
  },
  {
   "cell_type": "code",
   "execution_count": null,
   "metadata": {},
   "outputs": [],
   "source": []
  },
  {
   "cell_type": "markdown",
   "metadata": {},
   "source": [
    "---\n",
    "\n",
    "- disgiunzione inclusiva: `or`\n",
    "\n",
    "  **Risultato della disgiunzione logica in generale**: FALSO se entrambi gli operandi sono FALSI, altrimenti VERO    \n",
    "  **Risultato di Python**: il primo operando incontrato da sinistra che viene valutato come vero, altrimenti il secondo operando"
   ]
  },
  {
   "cell_type": "code",
   "execution_count": null,
   "metadata": {},
   "outputs": [],
   "source": []
  },
  {
   "cell_type": "markdown",
   "metadata": {},
   "source": [
    "---\n",
    "\n",
    "- negazione `not`\n",
    "\n",
    "  **Risultato della negazione logica in generale**: VERO se l'operando è FALSO, altrimenti VERO    \n",
    "  \n",
    "  **Risultato di Python**: il valore `True` (di tipo `bool`) se l'operando è valutato come falso, altrimenti il valore `False` (di tipo `bool`)"
   ]
  },
  {
   "cell_type": "code",
   "execution_count": null,
   "metadata": {},
   "outputs": [],
   "source": []
  },
  {
   "cell_type": "markdown",
   "metadata": {},
   "source": [
    "---\n",
    "\n",
    "# Funzioni e metodi\n",
    "\n",
    "**FUNZIONE**: blocco di istruzioni a cui viene assegnato un nome\n",
    "\n",
    "**METODO**: funzione definita all'interno di una classe da invocare attraverso un istanza di quella classe\n",
    "\n",
    "--- \n",
    "\n",
    "## Definizione di una funzione\n",
    "\n",
    "    def function_name(argument_list):\n",
    "        function_body\n",
    "        \n",
    "- `function_name`: nome della funzione\n",
    "- `argument_list`: lista degli argomenti della funzione\n",
    "- `function_body`: corpo della funzione\n",
    "\n",
    "Il corpo della funzione deve essere **indentato 4 volte** rispetto alla riga di intestazione."
   ]
  },
  {
   "cell_type": "markdown",
   "metadata": {},
   "source": [
    "Prima di usare una funzione occorre definirla."
   ]
  },
  {
   "cell_type": "code",
   "execution_count": null,
   "metadata": {},
   "outputs": [],
   "source": []
  },
  {
   "cell_type": "markdown",
   "metadata": {},
   "source": [
    "La funzione non è stata ancora definita."
   ]
  },
  {
   "cell_type": "code",
   "execution_count": null,
   "metadata": {},
   "outputs": [],
   "source": []
  },
  {
   "cell_type": "markdown",
   "metadata": {},
   "source": [
    "Ora è definita e la posso invocare."
   ]
  },
  {
   "cell_type": "code",
   "execution_count": null,
   "metadata": {},
   "outputs": [],
   "source": []
  },
  {
   "cell_type": "markdown",
   "metadata": {},
   "source": [
    "Gli **argomenti** di una funzione sono **locali** alla funzione così come le variabili utilizzate all'interno."
   ]
  },
  {
   "cell_type": "code",
   "execution_count": null,
   "metadata": {},
   "outputs": [],
   "source": []
  },
  {
   "cell_type": "markdown",
   "metadata": {},
   "source": [
    "Le due variabili `x` e `y` definite prima dell'invocazione di `somma1` sono diverse dai due parametri della funzione."
   ]
  },
  {
   "cell_type": "markdown",
   "metadata": {},
   "source": [
    "Gli argomenti di una funzione non sono tipizzati (un dato argomento può assumere un valore di qualsiasi tipo)."
   ]
  },
  {
   "cell_type": "code",
   "execution_count": null,
   "metadata": {},
   "outputs": [],
   "source": []
  },
  {
   "cell_type": "markdown",
   "metadata": {},
   "source": [
    "Una funzione può anche non avere l'istruzione `return` e in tale caso restituisce il valore `None` di tipo `NoneType`."
   ]
  },
  {
   "cell_type": "code",
   "execution_count": null,
   "metadata": {},
   "outputs": [],
   "source": []
  },
  {
   "cell_type": "markdown",
   "metadata": {},
   "source": [
    "### Argomenti di una funzione\n",
    "\n",
    "- argomenti posizionali\n",
    "- keywords (argomenti con nome)\n",
    "\n",
    "\n",
    "        def function_name(arg1, arg2, ..., argN, k1 = def1, k2 = def2, ..., kN = defN):\n",
    "            function_body"
   ]
  },
  {
   "cell_type": "markdown",
   "metadata": {},
   "source": [
    "Gli argomenti posizionali devono venire prima delle keywords nella definizione della funzione e devono ricevere un valore durante l'invocazione della funzione.\n",
    "\n",
    "Per una keyword si deve specificare un valore di default nella definizione della funzione, va specificata tramite il suo nome durante l'invocazione della funzione. Se non specificata, assume il valore di default."
   ]
  },
  {
   "cell_type": "code",
   "execution_count": null,
   "metadata": {},
   "outputs": [],
   "source": []
  },
  {
   "cell_type": "markdown",
   "metadata": {},
   "source": [
    "Una keyword non può venire prima di un parametro posizionale."
   ]
  },
  {
   "cell_type": "code",
   "execution_count": null,
   "metadata": {},
   "outputs": [],
   "source": []
  },
  {
   "cell_type": "markdown",
   "metadata": {},
   "source": [
    "---\n",
    "\n",
    "## Invocazione di un metodo\n",
    "\n",
    "    obj_name.method_name(argument_list)\n",
    "    \n",
    "**Esempio**: il metodo `is_integer()` degli oggetti di tipo `float` restituisce `True` se il decimale non ha una parte decimale e `False`altrimenti."
   ]
  },
  {
   "cell_type": "code",
   "execution_count": null,
   "metadata": {},
   "outputs": [],
   "source": []
  },
  {
   "cell_type": "markdown",
   "metadata": {},
   "source": [
    "---\n",
    "\n",
    "# Moduli\n",
    "\n",
    "**Modulo**: file contenente definizioni e istruzioni che può essere importato in uno script.\n",
    "\n",
    "**Sintassi di importazione**:\n",
    "\n",
    "    import module_name as new_name\n",
    "    \n",
    "`new_name` è il nuovo nome (opzionale) che si può associare per comodità al modulo."
   ]
  },
  {
   "cell_type": "markdown",
   "metadata": {},
   "source": [
    "**Esempio**: importazione del modulo `math` (contenente funzioni matematiche)."
   ]
  },
  {
   "cell_type": "code",
   "execution_count": null,
   "metadata": {},
   "outputs": [],
   "source": []
  },
  {
   "cell_type": "markdown",
   "metadata": {},
   "source": [
    "`math.` seguito da una tabulazione fornisce il menu delle funzioni contenute nel modulo."
   ]
  },
  {
   "cell_type": "code",
   "execution_count": null,
   "metadata": {},
   "outputs": [],
   "source": []
  },
  {
   "cell_type": "markdown",
   "metadata": {},
   "source": [
    "Funzione `help()`."
   ]
  },
  {
   "cell_type": "code",
   "execution_count": null,
   "metadata": {},
   "outputs": [],
   "source": []
  },
  {
   "cell_type": "markdown",
   "metadata": {},
   "source": [
    "**Esempio**: funzione `sqrt()` per il calcolo della radice quadrata di un numero."
   ]
  },
  {
   "cell_type": "code",
   "execution_count": null,
   "metadata": {},
   "outputs": [],
   "source": []
  },
  {
   "cell_type": "markdown",
   "metadata": {},
   "source": [
    "--- \n",
    "\n",
    "# La funzione `print()`\n",
    "\n",
    "La funzione `print()` produce in output i valori passati come argomento."
   ]
  },
  {
   "cell_type": "code",
   "execution_count": null,
   "metadata": {},
   "outputs": [],
   "source": []
  }
 ],
 "metadata": {
  "kernelspec": {
   "display_name": "Python 3 (ipykernel)",
   "language": "python",
   "name": "python3"
  },
  "language_info": {
   "codemirror_mode": {
    "name": "ipython",
    "version": 3
   },
   "file_extension": ".py",
   "mimetype": "text/x-python",
   "name": "python",
   "nbconvert_exporter": "python",
   "pygments_lexer": "ipython3",
   "version": "3.9.15"
  }
 },
 "nbformat": 4,
 "nbformat_minor": 2
}
