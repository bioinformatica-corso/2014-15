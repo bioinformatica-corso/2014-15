{
 "cells": [
  {
   "cell_type": "markdown",
   "metadata": {},
   "source": [
    "# Introduzione a Python\n",
    "\n",
    "> ### Tipi predefiniti semplici (booleani, interi e decimali)\n",
    "> ### Espressioni (aritmetiche, logiche e di confronto)\n",
    "> ### Funzioni e metodi\n",
    "> ### Moduli\n",
    "> ### Una funzione utile: `print()`"
   ]
  },
  {
   "cell_type": "markdown",
   "metadata": {},
   "source": [
    "Python è un linguaggio **orientato agli oggetti** e tutto ciò che viene manipolato o restituito è un riferimento a un oggetto. Quindi il contenuto di una variabile è sempre un riferimento a un oggetto che mette a disposizione metodi. In questo corso non definiremo classi ma useremo quelle predefinite di Python oppure quelle delle librerie Python.\n",
    "\n",
    "I **commenti** iniziano con il simbolo `#` e terminano alla fine della riga.\n",
    "\n",
    "l simbolo `;` alla **fine di un’istruzione** è opzionale, a meno che non si scrivano più istruzioni sulla stessa riga.\n",
    "\n",
    "I **nomi di variabile** possono contenere solo cifre, lettere e il simbolo `_`. Non possono iniziare con una cifra e in genere sono in minuscolo.\n",
    "\n",
    "Python è *case sensitive*.\n",
    "\n",
    "Le **variabili non vengono dichiarate** e incominciano ad esistere nel momento in cui viene assegnato loro un valore. Il loro tipo viene determinato in questo momento. E attenzione è possibile l'assegnamento successivo di un tipo diverso."
   ]
  },
  {
   "cell_type": "markdown",
   "metadata": {},
   "source": [
    "La seguente istruzione di assegnamento crea la variabile `x` di tipo intero:"
   ]
  },
  {
   "cell_type": "code",
   "execution_count": 64,
   "metadata": {},
   "outputs": [
    {
     "name": "stdout",
     "output_type": "stream",
     "text": [
      "1245\n"
     ]
    }
   ],
   "source": [
    "x = 1245\n",
    "print(x)"
   ]
  },
  {
   "cell_type": "markdown",
   "metadata": {},
   "source": [
    "Togliamo la funzione."
   ]
  },
  {
   "cell_type": "code",
   "execution_count": 65,
   "metadata": {},
   "outputs": [
    {
     "data": {
      "text/plain": [
       "1245"
      ]
     },
     "execution_count": 65,
     "metadata": {},
     "output_type": "execute_result"
    }
   ],
   "source": [
    "x = 1245\n",
    "x"
   ]
  },
  {
   "cell_type": "markdown",
   "metadata": {},
   "source": [
    "Una cella restituisce sempre il valore della sua ultima istruzione. Uno script classico eseguirebbe questa espressione ma poi perderebbe il valore restituito in quanto non assegnato ad alcuna variabile.\n",
    "\n",
    "**NOTA BENE**: attenzione alle indentazioni!\n",
    "Ad esempio il codice seguente non funziona:"
   ]
  },
  {
   "cell_type": "code",
   "execution_count": 66,
   "metadata": {
    "scrolled": true
   },
   "outputs": [
    {
     "ename": "IndentationError",
     "evalue": "unexpected indent (<ipython-input-66-13a076db0f32>, line 2)",
     "output_type": "error",
     "traceback": [
      "\u001b[0;36m  File \u001b[0;32m\"<ipython-input-66-13a076db0f32>\"\u001b[0;36m, line \u001b[0;32m2\u001b[0m\n\u001b[0;31m    y = 11\u001b[0m\n\u001b[0m    ^\u001b[0m\n\u001b[0;31mIndentationError\u001b[0m\u001b[0;31m:\u001b[0m unexpected indent\n"
     ]
    }
   ],
   "source": [
    "x = 10\n",
    "    y = 11"
   ]
  },
  {
   "cell_type": "markdown",
   "metadata": {},
   "source": [
    "## Tipi predefiniti semplici\n",
    "\n",
    "**Valori booleani**:\n",
    "- tipo dell'oggetto: `bool`\n",
    "- valori possibili: `True` e `False`"
   ]
  },
  {
   "cell_type": "code",
   "execution_count": 67,
   "metadata": {},
   "outputs": [],
   "source": [
    "x = True\n",
    "y = False"
   ]
  },
  {
   "cell_type": "markdown",
   "metadata": {},
   "source": [
    "**Numeri interi**:\n",
    "- tipo dell'oggetto: `int`\n",
    "- valori possibili: numeri interi positivi e negativi"
   ]
  },
  {
   "cell_type": "code",
   "execution_count": 68,
   "metadata": {},
   "outputs": [],
   "source": [
    "x = 1301\n",
    "y = -1301"
   ]
  },
  {
   "cell_type": "markdown",
   "metadata": {},
   "source": [
    "**Numeri decimali**:\n",
    "- tipo dell'oggetto: `float`\n",
    "- valori possibili: numeri decimali positivi e negativi"
   ]
  },
  {
   "cell_type": "code",
   "execution_count": 69,
   "metadata": {},
   "outputs": [],
   "source": [
    "x = 1301.15\n",
    "y = -1301.15"
   ]
  },
  {
   "cell_type": "markdown",
   "metadata": {},
   "source": [
    "## Espressioni aritmetiche\n",
    "\n",
    "**Espressione aritmetica**: combinazione di numeri e **operatori aritmetici** che restituisce un valore numerico (intero o decimale)\n",
    "\n",
    "Gli ingredienti di base sono le singole operazioni che potete combinare in espressioni complesse.\n",
    "\n",
    "### Operatori aritmetici\n",
    "\n",
    "- somma `+`"
   ]
  },
  {
   "cell_type": "code",
   "execution_count": 70,
   "metadata": {},
   "outputs": [
    {
     "data": {
      "text/plain": [
       "68.0"
      ]
     },
     "execution_count": 70,
     "metadata": {},
     "output_type": "execute_result"
    }
   ],
   "source": [
    "11 + 57.0"
   ]
  },
  {
   "cell_type": "markdown",
   "metadata": {},
   "source": [
    "restituisce un valore decimale di tipo float perché il secondo operando è decimale.\n",
    "Invece:"
   ]
  },
  {
   "cell_type": "code",
   "execution_count": 71,
   "metadata": {},
   "outputs": [
    {
     "data": {
      "text/plain": [
       "68"
      ]
     },
     "execution_count": 71,
     "metadata": {},
     "output_type": "execute_result"
    }
   ],
   "source": [
    "11 + 57"
   ]
  },
  {
   "cell_type": "markdown",
   "metadata": {},
   "source": [
    "ottengo lo stesso valore ma di tipo intero."
   ]
  },
  {
   "cell_type": "markdown",
   "metadata": {},
   "source": [
    "- sottrazione `-`"
   ]
  },
  {
   "cell_type": "code",
   "execution_count": 23,
   "metadata": {},
   "outputs": [
    {
     "data": {
      "text/plain": [
       "-22.5"
      ]
     },
     "execution_count": 23,
     "metadata": {},
     "output_type": "execute_result"
    }
   ],
   "source": [
    "34 - 56.5"
   ]
  },
  {
   "cell_type": "markdown",
   "metadata": {},
   "source": [
    "- moltiplicazione `*`"
   ]
  },
  {
   "cell_type": "code",
   "execution_count": 24,
   "metadata": {},
   "outputs": [
    {
     "data": {
      "text/plain": [
       "14.0"
      ]
     },
     "execution_count": 24,
     "metadata": {},
     "output_type": "execute_result"
    }
   ],
   "source": [
    "3.5 * 4"
   ]
  },
  {
   "cell_type": "code",
   "execution_count": 25,
   "metadata": {},
   "outputs": [
    {
     "data": {
      "text/plain": [
       "12"
      ]
     },
     "execution_count": 25,
     "metadata": {},
     "output_type": "execute_result"
    }
   ],
   "source": [
    "3 * 4"
   ]
  },
  {
   "cell_type": "markdown",
   "metadata": {},
   "source": [
    "- divisione `/`"
   ]
  },
  {
   "cell_type": "code",
   "execution_count": 10,
   "metadata": {
    "scrolled": true
   },
   "outputs": [
    {
     "data": {
      "text/plain": [
       "3.25"
      ]
     },
     "execution_count": 10,
     "metadata": {},
     "output_type": "execute_result"
    }
   ],
   "source": [
    "13 / 4"
   ]
  },
  {
   "cell_type": "markdown",
   "metadata": {},
   "source": [
    "restituisce un decimale perché la divisione tiene la parte decimale.\n",
    "\n",
    "- divisione intera `//`"
   ]
  },
  {
   "cell_type": "code",
   "execution_count": 11,
   "metadata": {},
   "outputs": [
    {
     "data": {
      "text/plain": [
       "3.0"
      ]
     },
     "execution_count": 11,
     "metadata": {},
     "output_type": "execute_result"
    }
   ],
   "source": [
    "13.0 // 4"
   ]
  },
  {
   "cell_type": "markdown",
   "metadata": {},
   "source": [
    "restituisce 3.0 perché toglie la parte decimale ma il primo operando è decimale. Invece:"
   ]
  },
  {
   "cell_type": "code",
   "execution_count": 26,
   "metadata": {},
   "outputs": [
    {
     "data": {
      "text/plain": [
       "3"
      ]
     },
     "execution_count": 26,
     "metadata": {},
     "output_type": "execute_result"
    }
   ],
   "source": [
    "13 // 4"
   ]
  },
  {
   "cell_type": "markdown",
   "metadata": {},
   "source": [
    "restituisce un intero.\n",
    "\n",
    "- elevamento a potenza `**`"
   ]
  },
  {
   "cell_type": "code",
   "execution_count": 27,
   "metadata": {},
   "outputs": [
    {
     "data": {
      "text/plain": [
       "4.0"
      ]
     },
     "execution_count": 27,
     "metadata": {},
     "output_type": "execute_result"
    }
   ],
   "source": [
    "2.0 ** 2"
   ]
  },
  {
   "cell_type": "code",
   "execution_count": 28,
   "metadata": {},
   "outputs": [
    {
     "data": {
      "text/plain": [
       "4"
      ]
     },
     "execution_count": 28,
     "metadata": {},
     "output_type": "execute_result"
    }
   ],
   "source": [
    "2 ** 2"
   ]
  },
  {
   "cell_type": "markdown",
   "metadata": {},
   "source": [
    "- resto della divisione intera `%`"
   ]
  },
  {
   "cell_type": "code",
   "execution_count": 13,
   "metadata": {},
   "outputs": [
    {
     "data": {
      "text/plain": [
       "1.0"
      ]
     },
     "execution_count": 13,
     "metadata": {},
     "output_type": "execute_result"
    }
   ],
   "source": [
    "13.0 % 4"
   ]
  },
  {
   "cell_type": "code",
   "execution_count": 29,
   "metadata": {},
   "outputs": [
    {
     "data": {
      "text/plain": [
       "1"
      ]
     },
     "execution_count": 29,
     "metadata": {},
     "output_type": "execute_result"
    }
   ],
   "source": [
    "13 % 4"
   ]
  },
  {
   "cell_type": "markdown",
   "metadata": {},
   "source": [
    "- negazione aritmetica `-`"
   ]
  },
  {
   "cell_type": "code",
   "execution_count": 30,
   "metadata": {},
   "outputs": [
    {
     "data": {
      "text/plain": [
       "-13.0"
      ]
     },
     "execution_count": 30,
     "metadata": {},
     "output_type": "execute_result"
    }
   ],
   "source": [
    "-13.0"
   ]
  },
  {
   "cell_type": "markdown",
   "metadata": {},
   "source": [
    "## Espressioni di confronto\n",
    "\n",
    "**Espressione di confronto**: combinazione di operandi, operatori aritmetici e **operatori di confronto** che restituisce un valore di tipo `bool` (`True` o `False`)\n",
    "\n",
    "Vediamo quali sono i singoli operatori di confronto.\n",
    "\n",
    "### Operatori di confronto\n",
    "\n",
    "- uguale a `==`\n"
   ]
  },
  {
   "cell_type": "code",
   "execution_count": 32,
   "metadata": {},
   "outputs": [
    {
     "data": {
      "text/plain": [
       "True"
      ]
     },
     "execution_count": 32,
     "metadata": {},
     "output_type": "execute_result"
    }
   ],
   "source": [
    "34.0 == 34"
   ]
  },
  {
   "cell_type": "markdown",
   "metadata": {},
   "source": [
    "- diverso da `!=`"
   ]
  },
  {
   "cell_type": "code",
   "execution_count": 33,
   "metadata": {},
   "outputs": [
    {
     "data": {
      "text/plain": [
       "True"
      ]
     },
     "execution_count": 33,
     "metadata": {},
     "output_type": "execute_result"
    }
   ],
   "source": [
    "34 != 56"
   ]
  },
  {
   "cell_type": "markdown",
   "metadata": {},
   "source": [
    "- minore di `<` o minore o uguale a `<=`"
   ]
  },
  {
   "cell_type": "code",
   "execution_count": 37,
   "metadata": {},
   "outputs": [
    {
     "data": {
      "text/plain": [
       "True"
      ]
     },
     "execution_count": 37,
     "metadata": {},
     "output_type": "execute_result"
    }
   ],
   "source": [
    "56 <= 56"
   ]
  },
  {
   "cell_type": "markdown",
   "metadata": {},
   "source": [
    "- maggiore di `>` o maggiore o uguale a `>=`"
   ]
  },
  {
   "cell_type": "code",
   "execution_count": 39,
   "metadata": {},
   "outputs": [
    {
     "data": {
      "text/plain": [
       "True"
      ]
     },
     "execution_count": 39,
     "metadata": {},
     "output_type": "execute_result"
    }
   ],
   "source": [
    "56 >= 56"
   ]
  },
  {
   "cell_type": "markdown",
   "metadata": {},
   "source": [
    "## Espressioni logiche\n",
    "\n",
    "**Espressione logica**: combinazione di operandi, operatori aritmetici, operatori di confronto e **operatori logiche** che restituisce un valore non necessariamente di tipo `bool`.\n",
    "\n",
    "Tutto è valutato come VERO tranne il valore intero 0 e il valore decimale 0.0.\n",
    "\n",
    "### Operatori logici\n",
    "\n",
    "- congiunzione `and`\n",
    "\n",
    "  **valore restituito**: il primo operando valutato come falso, altrimenti il secondo operando"
   ]
  },
  {
   "cell_type": "code",
   "execution_count": 42,
   "metadata": {},
   "outputs": [
    {
     "data": {
      "text/plain": [
       "0"
      ]
     },
     "execution_count": 42,
     "metadata": {},
     "output_type": "execute_result"
    }
   ],
   "source": [
    "42 and 0"
   ]
  },
  {
   "cell_type": "code",
   "execution_count": 43,
   "metadata": {},
   "outputs": [
    {
     "data": {
      "text/plain": [
       "0"
      ]
     },
     "execution_count": 43,
     "metadata": {},
     "output_type": "execute_result"
    }
   ],
   "source": [
    "0 and 36"
   ]
  },
  {
   "cell_type": "code",
   "execution_count": 44,
   "metadata": {},
   "outputs": [
    {
     "data": {
      "text/plain": [
       "36"
      ]
     },
     "execution_count": 44,
     "metadata": {},
     "output_type": "execute_result"
    }
   ],
   "source": [
    "42 and 36"
   ]
  },
  {
   "cell_type": "code",
   "execution_count": 45,
   "metadata": {},
   "outputs": [
    {
     "data": {
      "text/plain": [
       "36"
      ]
     },
     "execution_count": 45,
     "metadata": {},
     "output_type": "execute_result"
    }
   ],
   "source": [
    "\"0\" and 36"
   ]
  },
  {
   "cell_type": "code",
   "execution_count": 46,
   "metadata": {},
   "outputs": [
    {
     "data": {
      "text/plain": [
       "False"
      ]
     },
     "execution_count": 46,
     "metadata": {},
     "output_type": "execute_result"
    }
   ],
   "source": [
    "34 < 56 and 34 < 0"
   ]
  },
  {
   "cell_type": "markdown",
   "metadata": {},
   "source": [
    "- disgiunzione `or`\n",
    "  \n",
    "  **valore restituito**: il primo operando valutato come vero, altrimenti il secondo operando"
   ]
  },
  {
   "cell_type": "code",
   "execution_count": 28,
   "metadata": {},
   "outputs": [
    {
     "data": {
      "text/plain": [
       "42"
      ]
     },
     "execution_count": 28,
     "metadata": {},
     "output_type": "execute_result"
    }
   ],
   "source": [
    "42 or 0"
   ]
  },
  {
   "cell_type": "code",
   "execution_count": 29,
   "metadata": {},
   "outputs": [
    {
     "data": {
      "text/plain": [
       "36"
      ]
     },
     "execution_count": 29,
     "metadata": {},
     "output_type": "execute_result"
    }
   ],
   "source": [
    "0 or 36"
   ]
  },
  {
   "cell_type": "code",
   "execution_count": 30,
   "metadata": {},
   "outputs": [
    {
     "data": {
      "text/plain": [
       "0.0"
      ]
     },
     "execution_count": 30,
     "metadata": {},
     "output_type": "execute_result"
    }
   ],
   "source": [
    "0 or 0.0"
   ]
  },
  {
   "cell_type": "code",
   "execution_count": 40,
   "metadata": {},
   "outputs": [
    {
     "data": {
      "text/plain": [
       "True"
      ]
     },
     "execution_count": 40,
     "metadata": {},
     "output_type": "execute_result"
    }
   ],
   "source": [
    "34 < 56 or 34 < 0"
   ]
  },
  {
   "cell_type": "markdown",
   "metadata": {},
   "source": [
    "- negazione `not`\n",
    "  \n",
    "  **valore restituito**: `True` se l'operando è valutato come falso, altrimenti `False`"
   ]
  },
  {
   "cell_type": "code",
   "execution_count": 23,
   "metadata": {},
   "outputs": [
    {
     "data": {
      "text/plain": [
       "True"
      ]
     },
     "execution_count": 23,
     "metadata": {},
     "output_type": "execute_result"
    }
   ],
   "source": [
    "not 34 < 0"
   ]
  },
  {
   "cell_type": "code",
   "execution_count": 31,
   "metadata": {},
   "outputs": [
    {
     "data": {
      "text/plain": [
       "False"
      ]
     },
     "execution_count": 31,
     "metadata": {},
     "output_type": "execute_result"
    }
   ],
   "source": [
    "not \"0\""
   ]
  },
  {
   "cell_type": "code",
   "execution_count": 47,
   "metadata": {},
   "outputs": [
    {
     "data": {
      "text/plain": [
       "True"
      ]
     },
     "execution_count": 47,
     "metadata": {},
     "output_type": "execute_result"
    }
   ],
   "source": [
    "not 0.0"
   ]
  },
  {
   "cell_type": "code",
   "execution_count": 48,
   "metadata": {},
   "outputs": [
    {
     "data": {
      "text/plain": [
       "True"
      ]
     },
     "execution_count": 48,
     "metadata": {},
     "output_type": "execute_result"
    }
   ],
   "source": [
    "not 0"
   ]
  },
  {
   "cell_type": "markdown",
   "metadata": {},
   "source": [
    "## Funzioni e metodi\n",
    "\n",
    "**Funzione** = sequenza di istruzioni a cui viene assegnato un nome\n",
    "\n",
    "**Metodo** = funzione definita in una classe che deve essere invocata attraverso l'istanza di quella classe\n",
    "\n",
    "### Definizione di una funzione\n",
    "\n",
    "    def function_name(argument_list):\n",
    "        function_block\n",
    "        \n",
    "dove:\n",
    "- `function_name`: nome della funzione\n",
    "- `argument_list`: lista dei parametri formali della funzione\n",
    "- `function_block`: corpo della funzione\n",
    "\n",
    "**Regole**:\n",
    "\n",
    "- prima di usare una funzione essa va definita:\n",
    "    - il corpo della funzione deve essere indentato 4 volte rispetto alla riga di intestazione\n",
    "- gli argomenti di una funzione non sono tipizzati (un dato argomento può assumere un valore di qualsiasi tipo)\n",
    "- gli argomenti e le variabili all’interno del corpo della funzione sono locali alla funzione\n",
    "- una funzione può anche non avere l'istruzione `return` e in tale caso restituisce il valore `None` di tipo `NoneType`"
   ]
  },
  {
   "cell_type": "code",
   "execution_count": 51,
   "metadata": {},
   "outputs": [],
   "source": [
    "def somma1(x,y):\n",
    "    return x+y"
   ]
  },
  {
   "cell_type": "code",
   "execution_count": 52,
   "metadata": {},
   "outputs": [
    {
     "data": {
      "text/plain": [
       "9"
      ]
     },
     "execution_count": 52,
     "metadata": {},
     "output_type": "execute_result"
    }
   ],
   "source": [
    "somma1(5,4)"
   ]
  },
  {
   "cell_type": "code",
   "execution_count": 53,
   "metadata": {},
   "outputs": [
    {
     "data": {
      "text/plain": [
       "'Ciao mondo'"
      ]
     },
     "execution_count": 53,
     "metadata": {},
     "output_type": "execute_result"
    }
   ],
   "source": [
    "somma1(\"Ciao\", \" mondo\")"
   ]
  },
  {
   "cell_type": "code",
   "execution_count": 54,
   "metadata": {},
   "outputs": [],
   "source": [
    "def somma2(x,y):\n",
    "    x+y"
   ]
  },
  {
   "cell_type": "code",
   "execution_count": 57,
   "metadata": {},
   "outputs": [],
   "source": [
    "valore = somma2(5,4)\n",
    "valore"
   ]
  },
  {
   "cell_type": "markdown",
   "metadata": {},
   "source": [
    "### Invocazione di un metodo\n",
    "\n",
    "    obj_name.method_name(argument_list)\n",
    "    \n",
    "**Esempio**: metodo `is_integer()` degli oggetti di tipo `float` che restituisce `True` se il decimale non ha una parte decimale e `False`altrimenti."
   ]
  },
  {
   "cell_type": "code",
   "execution_count": 60,
   "metadata": {},
   "outputs": [
    {
     "data": {
      "text/plain": [
       "True"
      ]
     },
     "execution_count": 60,
     "metadata": {},
     "output_type": "execute_result"
    }
   ],
   "source": [
    "d = 10.00\n",
    "d.is_integer()"
   ]
  },
  {
   "cell_type": "markdown",
   "metadata": {},
   "source": [
    "## Moduli\n",
    "\n",
    "**Modulo** = file contenente definizioni e istruzioni che può essere importato in uno script.\n",
    "\n",
    "**Sintassi di importazione**:\n",
    "\n",
    "    import module_name as new_name\n",
    "    \n",
    "`new_name` è il nuovo nome (opzionale) che si può associare per comodità al modulo."
   ]
  },
  {
   "cell_type": "markdown",
   "metadata": {},
   "source": [
    "**Esempio**: modulo `math` (contenente funzioni matematiche) e funzione `sqrt()` per il calcolo della radice quadrata di un numero."
   ]
  },
  {
   "cell_type": "code",
   "execution_count": 62,
   "metadata": {},
   "outputs": [
    {
     "data": {
      "text/plain": [
       "5.0"
      ]
     },
     "execution_count": 62,
     "metadata": {},
     "output_type": "execute_result"
    }
   ],
   "source": [
    "import math\n",
    "math.sqrt(25)"
   ]
  },
  {
   "cell_type": "markdown",
   "metadata": {},
   "source": [
    "math. e poi TAB fornisce il menu delle funzioni contenute nel modulo."
   ]
  },
  {
   "cell_type": "markdown",
   "metadata": {},
   "source": [
    "## Una funzione utile: `print()`\n",
    "\n",
    "La funzione `print()` produce in standard output la stringa passata come argomento aggiungendo un carattere di *newline* alla fine."
   ]
  },
  {
   "cell_type": "code",
   "execution_count": 63,
   "metadata": {},
   "outputs": [
    {
     "name": "stdout",
     "output_type": "stream",
     "text": [
      "Ciao mondo!\n",
      "Ciao mondo!Hello world!\n",
      "4\n",
      "False\n"
     ]
    }
   ],
   "source": [
    "print('Ciao mondo!')\n",
    "print('Ciao mondo!'+'Hello world!')\n",
    "print(1+3)\n",
    "print(34 < 0)"
   ]
  }
 ],
 "metadata": {
  "kernelspec": {
   "display_name": "Python 3",
   "language": "python",
   "name": "python3"
  },
  "language_info": {
   "codemirror_mode": {
    "name": "ipython",
    "version": 3
   },
   "file_extension": ".py",
   "mimetype": "text/x-python",
   "name": "python",
   "nbconvert_exporter": "python",
   "pygments_lexer": "ipython3",
   "version": "3.7.1"
  }
 },
 "nbformat": 4,
 "nbformat_minor": 2
}
