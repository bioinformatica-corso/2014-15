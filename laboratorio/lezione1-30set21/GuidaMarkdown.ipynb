{
 "cells": [
  {
   "cell_type": "markdown",
   "metadata": {},
   "source": [
    "# Esempi di celle in linguaggio Markdown"
   ]
  },
  {
   "cell_type": "markdown",
   "metadata": {},
   "source": [
    "Testo semplice"
   ]
  },
  {
   "cell_type": "markdown",
   "metadata": {},
   "source": [
    "# Titolo di primo livello\n",
    "## Titolo di secondo livello\n",
    "### Titolo di terzo livello"
   ]
  },
  {
   "cell_type": "markdown",
   "metadata": {},
   "source": [
    "**Testo in grassetto**\n",
    "\n",
    "*testo in corsivo*\n",
    "\n",
    "***Testo in grassetto e corsivo***\n",
    "\n",
    "~~testo barrato~~"
   ]
  },
  {
   "cell_type": "markdown",
   "metadata": {},
   "source": [
    "<font color=\"red\">testo in rosso</font>\n",
    "\n",
    "<font color=\"blue\">testo in blu</font>"
   ]
  },
  {
   "cell_type": "markdown",
   "metadata": {},
   "source": [
    "`codice`"
   ]
  },
  {
   "cell_type": "markdown",
   "metadata": {},
   "source": [
    "```\n",
    "codice su\n",
    "più\n",
    "righe\n",
    "```"
   ]
  },
  {
   "cell_type": "markdown",
   "metadata": {},
   "source": [
    "> testo indentato una volta\n",
    ">> testo indentato due volte\n",
    ">>> testo indentato tre volte"
   ]
  },
  {
   "cell_type": "markdown",
   "metadata": {},
   "source": [
    "> # Titolo indentato una volta\n",
    ">> ## Titolo indentato due volte\n",
    ">>> ### Titolo indentato tre volte"
   ]
  },
  {
   "cell_type": "markdown",
   "metadata": {},
   "source": [
    "Elenco puntato\n",
    "\n",
    "- elemento 1\n",
    "- elemento 2\n",
    "- elemento 3"
   ]
  },
  {
   "cell_type": "markdown",
   "metadata": {},
   "source": [
    "Elenco puntato annidato\n",
    "\n",
    "- elemento 1\n",
    "    - elemento 1.1\n",
    "    - elemento 1.2\n",
    "- elemento 2"
   ]
  },
  {
   "cell_type": "markdown",
   "metadata": {},
   "source": [
    "Elemento puntato con indentazione interna\n",
    "\n",
    "- elemento 1\n",
    "> indentazione\n",
    "- elemento 2"
   ]
  },
  {
   "cell_type": "markdown",
   "metadata": {},
   "source": [
    "Elemento puntato con codice interno\n",
    "\n",
    "- elemento 1\n",
    "        codice\n",
    "- elemento 2"
   ]
  },
  {
   "cell_type": "markdown",
   "metadata": {},
   "source": [
    "Elenco numerato\n",
    "\n",
    "1. elemento 1\n",
    "2. elemento 2\n",
    "3. elemento 3"
   ]
  },
  {
   "cell_type": "markdown",
   "metadata": {},
   "source": [
    "Formula matematica $a^2 = b^2 + c^2$"
   ]
  },
  {
   "cell_type": "markdown",
   "metadata": {},
   "source": [
    "Formula matematica a capo e centrata $$a^2 = b^2 + c^2$$"
   ]
  },
  {
   "cell_type": "markdown",
   "metadata": {},
   "source": [
    "Riga orizzontale (almeno tre asterischi)\n",
    "\n",
    "***"
   ]
  },
  {
   "cell_type": "markdown",
   "metadata": {},
   "source": [
    "Link esterno\n",
    "\n",
    "[Introduzione a Python](https://www.federica.eu/c/introduzione_a_python_per_la_data_science/)"
   ]
  },
  {
   "cell_type": "markdown",
   "metadata": {},
   "source": [
    "Tabella\n",
    "\n",
    "| Colonna 1 | Colonna 2 |\n",
    "|    :--    |    --:    |\n",
    "|  testo 1  |  testo 2  |\n",
    "[Caption tabella][identificativo]"
   ]
  },
  {
   "cell_type": "markdown",
   "metadata": {},
   "source": [
    "Immagine\n",
    "\n",
    "![Jupyter logo](img/500px-Jupyter_logo.svg.png)"
   ]
  },
  {
   "cell_type": "markdown",
   "metadata": {},
   "source": [
    "Immagine ridimensionata\n",
    "\n",
    "<img src=\"img/500px-Jupyter_logo.svg.png\" height=\"200\" width=\"200\"/>"
   ]
  },
  {
   "cell_type": "markdown",
   "metadata": {},
   "source": [
    "Video (Credits: https://pixabay.com/it/videos/)\n",
    "\n",
    "<video src=\"video/Ink - 21536.mp4\" height=\"300\" width=\"500\" controls/>"
   ]
  },
  {
   "cell_type": "markdown",
   "metadata": {},
   "source": [
    "Audio (Music: Music: https://www.bensound.com)\n",
    "\n",
    "<audio src=\"audio/bensound-jazzyfrenchy.mp3\" height=\"300\" width=\"500\" controls/>"
   ]
  }
 ],
 "metadata": {
  "kernelspec": {
   "display_name": "Python 3",
   "language": "python",
   "name": "python3"
  },
  "language_info": {
   "codemirror_mode": {
    "name": "ipython",
    "version": 3
   },
   "file_extension": ".py",
   "mimetype": "text/x-python",
   "name": "python",
   "nbconvert_exporter": "python",
   "pygments_lexer": "ipython3",
   "version": "3.7.1"
  }
 },
 "nbformat": 4,
 "nbformat_minor": 2
}
