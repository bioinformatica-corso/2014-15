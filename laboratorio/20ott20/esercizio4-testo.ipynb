{
 "cells": [
  {
   "cell_type": "markdown",
   "metadata": {},
   "source": [
    "# Esercizio 4\n",
    "\n",
    "EMBL (http://www.ebi.ac.uk/cgi-bin/sva/sva.pl/) è una banca di sequenze nucleotidiche sviluppata da EMBL-EBI (European Bioinformatics Institute, European Molecular Biology Laboratory), in cui ogni sequenza nucleotidica viene memorizzata, con altre informazioni, in un file di puro testo (*entry*) in un formato che prende il nome di `EMBL`.\n",
    "\n",
    "**Il formato `EMBL`** è composto da una serie di *record* che iniziano con un codice a due lettere (maisucole) indicante il suo contenuto. I soli *record* che non iniziano con un codice a due lettere sono quelli contenenti la sequenza nucleotidica.\n",
    "\n",
    "L'esercizio richiede di scaricare (in formato `EMBL`) la sequenza nucleotidica con identificatore `M10051`, contenente un mRNA (cioé un trascritto espresso da un gene), e scrivere un notebook che ottenga da tale *entry*:\n",
    "\n",
    "- la sequenza (nucleotidica) della CDS in formato `FASTA`\n",
    "- le frequenze dei codoni presenti nella CDS (stop codon escluso) elencate secondo un ordine decrescente\n",
    "- le frequenze degli amminoacidi presenti nella relativa proteina elencate secondo un ordine decrescente\n",
    "\n",
    "Inoltre, preso in input anche un file contenente il codice genetico:\n",
    "\n",
    "- effettuare la validazione della proteina specificata nel file `EMBL` rispetto alla traduzione (tramite codice genetico) della sequenza CDS ottenuta sopra.\n",
    "\n",
    "***\n",
    "\n",
    "Record `EMBL` da considerare per l'esercizio:\n",
    "\n",
    "- Il record che inizia con `ID`:\n",
    " \n",
    "       ID   M10051; SV 1; linear; mRNA; STD; HUM; 4723 BP.\n",
    "\n",
    "contiene l'identificatore univoco della sequenza (M10051) e l'organismo (HUM). Il fatto che il file si riferisca alla sequenza nucleotidica di un gene è indicato dalla presenza della parola `mRNA`.\n",
    "\n",
    "- L'insieme dei record che iniziano con `FT` contengono le *features* annotate sulla sequenza nucleotidica. In particolare tutti i record della sezione:\n",
    "\n",
    "       FT                   /translation=\"MGTGGRRGAAAAPLLVAVAALLLGAAGHLYPGEVCPGMDIRNNLT\n",
    "       FT                   RLHELENCSVIEGHLQILLMFKTRPEDFRDLSFPKLIMITDYLLLFRVYGLESLKDLFP\n",
    "       FT                   NLTVIRGSRLFFNYALVIFEMVHLKELGLYNLMNITRGSVRIEKNNELCYLATIDWSRI\n",
    "       FT                   LDSVEDNHIVLNKDDNEECGDICPGTAKGKTNCPATVINGQFVERCWTHSHCQKVCPTI\n",
    "       FT                   [...]\n",
    "       FT                   DGGSSLGFKRSYEEHIPYTHMNGGKKNGRILTLPRSNPS\"\n",
    "        \n",
    "contengono la sequenza della proteina che corrisponde alla sequenza in questione (che è un mRNA).\n",
    "\n",
    "- Il record che inizia con `SQ`:\n",
    "\n",
    "        SQ   Sequence 4723 BP; 1068 A; 1298 C; 1311 G; 1046 T; 0 other;\n",
    "        \n",
    "introduce la sezione della sequenza nucleotidica e fornisce la sua composizione nucleotidica oltre che la sua lunghezza. \n",
    "La sezione termina con il record `//` (fine del file).\n",
    "La sequenza nucleotidica viene rappresentata tramite una serie di record che iniziano con degli spazi, e ogni reacord contiene un pezzo della sequenza lungo 60 basi. Ogni pezzo di 60 basi è a sua volta separato in pezzi di 10 basi.\n",
    "Il numero intero alla fine di un *record* di sequenza fornisce la lunghezza totale della sequenza fino a questo punto.\n",
    "\n",
    "    SQ   Sequence 4723 BP; 1068 A; 1298 C; 1311 G; 1046 T; 0 other;\n",
    "         ggggggctgc gcggccgggt cggtgcgcac acgagaagga cgcgcggccc ccagcgctct        60\n",
    "         tgggggccgc ctcggagcat gacccccgcg ggccagcgcc gcgcgcctga tccgaggaga       120\n",
    "         ccccgcgctc ccgcagccat gggcaccggg ggccggcggg gggcggcggc cgcgccgctg       180\n",
    "         ctggtggcgg tggccgcgct gctactgggc gccgcgggcc acctgtaccc cggagaggtg       240\n",
    "         tgtcccggca tggatatccg gaacaacctc actaggttgc atgagctgga gaattgctct       300\n",
    "         gtcatcgaag gacacttgca gatactcttg atgttcaaaa cgaggcccga agatttccga       360\n",
    "         gacctcagtt tccccaaact catcatgatc actgattact tgctgctctt ccgggtctat       420\n",
    "         gggctcgaga gcctgaagga cctgttcccc aacctcacgg tcatccgggg atcacgactg       480\n",
    "         [...]\n",
    "         tttttcgttc cccccacccg cccccagcag atggaaagaa agcacctgtt tttacaaatt      4620\n",
    "         cttttttttt tttttttttt tttttttttg ctggtgtctg agcttcagta taaaagacaa      4680\n",
    "         aacttcctgt ttgtggaaca aaatttcgaa agaaaaaacc aaa                        4723\n",
    "    //\n",
    "    \n",
    "**NOTA BENE**:\n",
    "- l'alfabeto degli amminoacidi è {ACDEFGHIKLMNPQRSTVWY}\n",
    "- la sequenza nucleotidica riportata nell'*entry* `EMBL` è su alfabeto {a,c,g,t} nonostante rappresenti la sequenza primaria di un mRNA. Per ottenere la sequenza su alfabeto {a,c,g,u} basta operare una sostituzione di tutti i simboli `t` con simboli `u`.\n",
    "\n",
    "***\n",
    "\n",
    "Il file del codice genetico è strutturato in record di campi separati da `,`, di cui il primo è il simbolo di un amminoacido e i restanti campi sono i codoni che codificano tale amminoacido. L'ultimo record fornisce gli stop codon.\n",
    "\n",
    "    A,gct,gcc,gca,gcg\n",
    "    C,tgt,tgc\n",
    "    D,gat,gac\n",
    "    E,gaa,gag\n",
    "    F,ttt,ttc\n",
    "    G,ggt,ggc,gga,ggg\n",
    "    H,cat,cac\n",
    "    I,att,atc,ata\n",
    "    K,aaa,aag\n",
    "    L,tta,ttg,ctt,ctc,cta,ctg\n",
    "    M,atg\n",
    "    N,aat,aac\n",
    "    P,cct,ccc,cca,ccg\n",
    "    Q,caa,cag\n",
    "    R,cgt,cgc,cga,cgg,aga,agg\n",
    "    S,tct,tcc,tca,tcg,agt,agc\n",
    "    T,act,acc,aca,acg\n",
    "    V,gtt,gtc,gta,gtg\n",
    "    W,tgg\n",
    "    Y,tat,tac\n",
    "    s,tga,taa,tag\n",
    "    \n",
    "***\n",
    "\n",
    "Requisiti:\n",
    "\n",
    "- nell’*header* della sequenza della CDS in formato `FASTA` devono comparire, nel seguente formato, l’identificatore univoco della sequenza, l’organismo a cui si riferisce, la lunghezza della CDS e se la CDS inizia con lo start codon e finisce con lo stop codon: \n",
    "\n",
    "        >M10051-HUM; len=4149; start = yes; end = yes;\n",
    "        \n",
    "- le sequenze in formato `FASTA` devono essere prodotte in righe di 80 caratteri\n",
    "\n",
    "- non deve essere effettuata la sostituzione da `t` a `u`.\n",
    "\n",
    "- deve essere definita una funzione `format_fasta()` che prenda come argomenti una stringa contenente l'intestazione `FASTA`, una sequenza nucleotidica/proteica, e restituisca la sequenza in formato `FASTA` con la sequenza nucleotidica separata in righe di 80 caratteri.\n",
    "\n",
    "- usare solo espressioni regolari per estrarre le informazioni (tranne che per estrarre le informazioni dal file del codice genetico)\n",
    "\n",
    "***\n",
    "\n",
    "Variabili di output:\n",
    "- `cds_sequence_fasta`: sequenza nucleotidica in formato `FASTA`\n",
    "- `codon_frequency`: lista di tuple *(codon, frequency)* elencate per frequenza decrescente\n",
    "- `ammino_frequency`: lista di tuple *(amminoacid, frequency)* elencate per frequenza decrescente"
   ]
  },
  {
   "cell_type": "markdown",
   "metadata": {},
   "source": [
    "***"
   ]
  },
  {
   "cell_type": "markdown",
   "metadata": {},
   "source": [
    "### Come leggere un file in input\n",
    "\n",
    "Lo *statement*\n",
    "\n",
    "    with open(input_file_name, ’r’) as input_file:\n",
    "        file_str = input_file.read()\n",
    "        \n",
    "permette di ottenere l'*handle* in lettura `input_file` del file `input_file_name` e di assegnare il suo contenuto alla stringa `file_str`. Al termine, l'*handle* viene chiuso e lo script può processare la stringa `file_str`.\n",
    "\n",
    "Lo *statement*\n",
    "\n",
    "    with open(input_file_name, ’r’) as input_file:\n",
    "        file_str_list = input_file.readlines()\n",
    "        \n",
    "permette di ottenere l'*handle* in lettura `input_file` del file `input_file_name` e di assegnare le sue righe alla lista `file_str_list`. Al termine, l'*handle* viene chiuso e lo script può processare la lista `file_str_list`."
   ]
  },
  {
   "cell_type": "markdown",
   "metadata": {},
   "source": [
    "### Operazioni di *searching* in stringhe contenenti il simbolo `\\n`\n",
    "\n",
    "Invocando `re.search()` con un terzo argomento uguale al flag `re.M`\n",
    "\n",
    "    re.search(my_expr, my_string, re.M)\n",
    "        \n",
    "si forza a interpretare su più righe la stringa `my_string`. "
   ]
  },
  {
   "cell_type": "markdown",
   "metadata": {},
   "source": [
    "### Funzioni/Metodi suggeriti"
   ]
  },
  {
   "cell_type": "markdown",
   "metadata": {},
   "source": [
    "- Il metodo `join()` degli oggetti di tipo `str` restituisce la concatenazione degli elementi della lista passata come argomento usando la stringa invocante come separatore."
   ]
  },
  {
   "cell_type": "code",
   "execution_count": 5,
   "metadata": {},
   "outputs": [
    {
     "data": {
      "text/plain": [
       "'aa+aa+aa'"
      ]
     },
     "execution_count": 5,
     "metadata": {},
     "output_type": "execute_result"
    }
   ],
   "source": [
    "'+'.join(['aa','aa','aa'])"
   ]
  }
 ],
 "metadata": {
  "kernelspec": {
   "display_name": "Python 3",
   "language": "python",
   "name": "python3"
  },
  "language_info": {
   "codemirror_mode": {
    "name": "ipython",
    "version": 3
   },
   "file_extension": ".py",
   "mimetype": "text/x-python",
   "name": "python",
   "nbconvert_exporter": "python",
   "pygments_lexer": "ipython3",
   "version": "3.7.1"
  }
 },
 "nbformat": 4,
 "nbformat_minor": 2
}
