{
 "cells": [
  {
   "cell_type": "markdown",
   "metadata": {},
   "source": [
    "# Esercizio 7\n",
    "\n",
    "Estrarre da un file in formato `FASTQ` i reads che hanno una percentuale almeno P di basi con qualità almeno Q (P e Q sono parametri in input). Per ognuno di tali reads produrre in output (in formato FASTQ) la più lunga sottostringa in cui tutte le basi hanno qualità almeno Q, ma solo se la sua lunghezza supera una soglia minima L (altrimenti il read deve essere scartato).\n",
    "\n",
    "***\n",
    "\n",
    "Parametri in input:\n",
    "\n",
    "- percentuale minima P (numero compreso tra 0 e 1)\n",
    "- soglia minima di qualità Q\n",
    "- lunghezza minima L\n",
    "\n",
    "***\n",
    "\n",
    "Requisiti:\n",
    "\n",
    "- deve essere definita la funzione `ascii_to_quality()` che prende come argomento un carattere ASCII e restituisce il corrispondente Phred Value q.\n",
    "- deve essere definita la funzione `get_quality_percentage()` che prende in input una stringa di qualità (cioé una stringa di caratteri ASCII che codificano Phred Values) e una soglia minima, e restituisce la percentuale di caratteri che codificano una qualità pari ad almeno la soglia minima.\n",
    "- deve essere definita la funzione `get_trimming_interval()` che prende in input una stringa di qualità e una soglia minima, e restituisce il più lungo intervallo di posizioni contenente solo caratteri che codificano qualità almeno pari alla soglia minima.\n",
    "- deve essere definita la funzione `get_trimmed_read()` che prende in input una soglia minima di qualità e un read in  formato `FASTQ` inteso come lista dei suoi quattro *record* `FASTQ`, ed effettua il *trimming*, cioé trova la più lunga sottostringa del read le cui basi hanno una qualità pari ad almeno la soglia passata come argomento. La funzione deve restituire la lista dei quattro *record* `FASTQ` del *trimmed* read.\n",
    "\n",
    "\n",
    "**Esempio:** per Q=58.\n",
    "\n",
    "Read prima del *trimming*:\n",
    "\n",
    "        @HWUSI-EAS522:8:5:662:692#0/1\n",
    "        TATGGAGGCCCAACTTCTTGTATTCACAGGTTCTGC\n",
    "        +HWUSI-EAS522:8:5:662:692#0/1\n",
    "        aaaa`aa`aa`]__`aa`_U[_a`^\\\\UTWZ`X^QX\n",
    "        \n",
    "Read dopo il *trimming*:\n",
    "\n",
    "        @HWUSI-EAS522:8:5:662:692#0/1\n",
    "        TATGGAGGCCCAACTTCTT\n",
    "        +HWUSI-EAS522:8:5:662:692#0/1,\n",
    "        aaaa`aa`aa`]__`aa`_\n",
    "        \n",
    "***"
   ]
  },
  {
   "cell_type": "markdown",
   "metadata": {},
   "source": [
    "***"
   ]
  },
  {
   "cell_type": "markdown",
   "metadata": {},
   "source": [
    "## Soluzione"
   ]
  },
  {
   "cell_type": "markdown",
   "metadata": {},
   "source": [
    "### Parametri in input"
   ]
  },
  {
   "cell_type": "code",
   "execution_count": 1,
   "metadata": {},
   "outputs": [],
   "source": [
    "fastq_file_name = './input.fq'"
   ]
  },
  {
   "cell_type": "markdown",
   "metadata": {},
   "source": [
    "Soglia minima di qualità (parametro Q):"
   ]
  },
  {
   "cell_type": "code",
   "execution_count": 2,
   "metadata": {},
   "outputs": [],
   "source": [
    "quality_threshold = 58"
   ]
  },
  {
   "cell_type": "markdown",
   "metadata": {},
   "source": [
    "Minima percentuale di basi aventi qualità minima Q (parametro P):"
   ]
  },
  {
   "cell_type": "code",
   "execution_count": 3,
   "metadata": {},
   "outputs": [],
   "source": [
    "min_percentage = 0.7"
   ]
  },
  {
   "cell_type": "markdown",
   "metadata": {},
   "source": [
    "Lunghezza minima della parte rimasta dopo il trimming (paramtero L):"
   ]
  },
  {
   "cell_type": "code",
   "execution_count": 4,
   "metadata": {},
   "outputs": [],
   "source": [
    "min_length = 20"
   ]
  },
  {
   "cell_type": "markdown",
   "metadata": {},
   "source": [
    "### Definizione della funzione `ascii_to_quality()`\n",
    "\n",
    "La funzione prende come argomento un carattere `c` e restituisce il valore di qualit `q` da esso codificato secondo la codifica di Illumina:\n",
    "\n",
    "    q = ASCII(min(93,c)-33)"
   ]
  },
  {
   "cell_type": "code",
   "execution_count": 5,
   "metadata": {},
   "outputs": [],
   "source": []
  },
  {
   "cell_type": "markdown",
   "metadata": {},
   "source": [
    "### Definizione della funzione `get_quality_percentage()`\n",
    "\n",
    "La funzione prende come argomento una stringa di valori di qualità, codificati in caratteri ASCII, e una soglia minima di qualità e restituisce la percentuale (come valore numero tra 0 e 1) di caratteri che codificando una qualità maggiore o uguale alla soglia minima."
   ]
  },
  {
   "cell_type": "code",
   "execution_count": 6,
   "metadata": {},
   "outputs": [],
   "source": []
  },
  {
   "cell_type": "markdown",
   "metadata": {},
   "source": [
    "### Definizione della funzione `get_trimming_interval()`\n",
    "\n",
    "La funzione prende come argomento una stringa di valori di qualità, codificati in caratteri ASCII, e soglia minima di qualità e il più lungo intervallo di posizioni contenente solo caratteri che codificano qualità almeno pari alla soglia minima."
   ]
  },
  {
   "cell_type": "code",
   "execution_count": 7,
   "metadata": {},
   "outputs": [],
   "source": []
  },
  {
   "cell_type": "markdown",
   "metadata": {},
   "source": [
    "#### Spiegazione della funzione `get_trimming_interval()`\n",
    "\n",
    "Primo argomento:"
   ]
  },
  {
   "cell_type": "code",
   "execution_count": 17,
   "metadata": {},
   "outputs": [],
   "source": [
    "quality_string = 'aaaa`aa`aa`]__`aa`_U[_a`^\\\\\\\\UTWZ`X^QX'"
   ]
  },
  {
   "cell_type": "markdown",
   "metadata": {},
   "source": [
    "Secondo argomento:"
   ]
  },
  {
   "cell_type": "code",
   "execution_count": 23,
   "metadata": {},
   "outputs": [
    {
     "data": {
      "text/plain": [
       "58"
      ]
     },
     "execution_count": 23,
     "metadata": {},
     "output_type": "execute_result"
    }
   ],
   "source": [
    "quality_threshold"
   ]
  },
  {
   "cell_type": "markdown",
   "metadata": {},
   "source": [
    "**Determinare il più lungo intervallo di posizioni che contiene solo indici di qualità che superano la soglia minima**\n",
    "    \n",
    "Determinare la lista di tutte le posizioni di inizio di un intervallo massimale contenente indici di qualità pari ad almeno la soglia minima.\n",
    "\n",
    "Una posizione `i` nella stringa `quality_string` è di inizio di un intervallo massimale di valori di qualità pari ad almeno la soglia minima se l'indice di qualità alla posizione `i` e almeno pari a `quality_threshold` e quello alla posizione `i-1` è al di sotto.\n",
    "\n",
    "`i=0` è una posizione di inizio di un intervallo massimale se l'indice qualità alla posizione 0 è pari ad almeno la soglia minima."
   ]
  },
  {
   "cell_type": "code",
   "execution_count": 78,
   "metadata": {},
   "outputs": [],
   "source": []
  },
  {
   "cell_type": "code",
   "execution_count": 79,
   "metadata": {},
   "outputs": [
    {
     "data": {
      "text/plain": [
       "[0, 20, 31, 33]"
      ]
     },
     "execution_count": 79,
     "metadata": {},
     "output_type": "execute_result"
    }
   ],
   "source": [
    "start_list"
   ]
  },
  {
   "cell_type": "markdown",
   "metadata": {},
   "source": [
    "Aggiungere come primo elemento della lista una *fake position* pari a 1, per gestire il caso in cui tutti i valori di qualità sono al di sotto della soglia minima."
   ]
  },
  {
   "cell_type": "code",
   "execution_count": 80,
   "metadata": {},
   "outputs": [],
   "source": []
  },
  {
   "cell_type": "code",
   "execution_count": 81,
   "metadata": {},
   "outputs": [
    {
     "data": {
      "text/plain": [
       "[1, 0, 20, 31, 33]"
      ]
     },
     "execution_count": 81,
     "metadata": {},
     "output_type": "execute_result"
    }
   ],
   "source": [
    "start_list"
   ]
  },
  {
   "cell_type": "markdown",
   "metadata": {},
   "source": [
    "Costruire in modo analogo la lista di tutte le posizioni di fine di un intervallo massimale.\n",
    "\n",
    "Una posizione `j` nella stringa `quality_string` è di fine di un intervallo massimale di valori di qualità pari ad almeno la soglia minima se l'indice di qualità alla posizione `j` e almeno pari a `quality_threshold` e quello alla posizione `j+1` è al di sotto.\n",
    "\n",
    "`j=len(quality_string)` è una posizione di fine di un intervallo massimale se l'indice qualità alla posizione `len(quality_string)` è pari ad almeno la soglia minima."
   ]
  },
  {
   "cell_type": "code",
   "execution_count": 89,
   "metadata": {},
   "outputs": [],
   "source": []
  },
  {
   "cell_type": "code",
   "execution_count": 90,
   "metadata": {},
   "outputs": [
    {
     "data": {
      "text/plain": [
       "[18, 26, 31, 33]"
      ]
     },
     "execution_count": 90,
     "metadata": {},
     "output_type": "execute_result"
    }
   ],
   "source": [
    "end_list"
   ]
  },
  {
   "cell_type": "markdown",
   "metadata": {},
   "source": [
    "Aggiungere come primo elemento una *fake position* pari a 0, per gestire il caso in cui tutti i valori di qualità sono al di sotto della soglia minima."
   ]
  },
  {
   "cell_type": "code",
   "execution_count": 91,
   "metadata": {},
   "outputs": [],
   "source": []
  },
  {
   "cell_type": "code",
   "execution_count": 92,
   "metadata": {},
   "outputs": [
    {
     "data": {
      "text/plain": [
       "[0, 18, 26, 31, 33]"
      ]
     },
     "execution_count": 92,
     "metadata": {},
     "output_type": "execute_result"
    }
   ],
   "source": [
    "end_list"
   ]
  },
  {
   "cell_type": "markdown",
   "metadata": {},
   "source": [
    "`start_list[p]` ed `end_list[p]` sono le due posizioni di inizio e di fine sulla stringa di qualità di un intervallo massimale di soli indici di qualità pari ad almeno la soglia minima. Quindi `end_list[p]-start_list[p]+1` è la lunghezza del p-esimo intervallo massimale a partire da sinistra.\n",
    "\n",
    "Per `p=0` si ha `start_list[0]=-1` e `end_list[0]=-2`, che sono le posizioni di inizio e fine del *fake interval* che avrà lunghezza 0.\n",
    "\n",
    "A questo punto basta determinare l'intervallo più lungo.\n",
    "\n",
    "Costruire quindi la lista delle lunghezza degli intervalli massimali trovati."
   ]
  },
  {
   "cell_type": "code",
   "execution_count": 93,
   "metadata": {},
   "outputs": [],
   "source": []
  },
  {
   "cell_type": "code",
   "execution_count": 94,
   "metadata": {},
   "outputs": [
    {
     "data": {
      "text/plain": [
       "[0, 19, 7, 1, 1]"
      ]
     },
     "execution_count": 94,
     "metadata": {},
     "output_type": "execute_result"
    }
   ],
   "source": [
    "interval_lengths"
   ]
  },
  {
   "cell_type": "markdown",
   "metadata": {},
   "source": [
    "Estrarre l'inizio e la fine dell'intervallo di lunghezza massima (che sarà quindi il *trimming interval*)."
   ]
  },
  {
   "cell_type": "code",
   "execution_count": 95,
   "metadata": {},
   "outputs": [],
   "source": []
  },
  {
   "cell_type": "code",
   "execution_count": 96,
   "metadata": {},
   "outputs": [
    {
     "data": {
      "text/plain": [
       "0"
      ]
     },
     "execution_count": 96,
     "metadata": {},
     "output_type": "execute_result"
    }
   ],
   "source": [
    "interval_start"
   ]
  },
  {
   "cell_type": "code",
   "execution_count": 97,
   "metadata": {},
   "outputs": [
    {
     "data": {
      "text/plain": [
       "18"
      ]
     },
     "execution_count": 97,
     "metadata": {},
     "output_type": "execute_result"
    }
   ],
   "source": [
    "interval_end"
   ]
  },
  {
   "cell_type": "markdown",
   "metadata": {},
   "source": [
    "Si faccia in modo che la funzione `get_trimming_interval()` restituisca la lista dei due elementi `[interval_start, interval_end+1]` che rappresenta il *trimming interval*.\n",
    "\n",
    "Il fatto di sommare 1 a `interval_end` prima di restituirlo è per rendere l'intervallo subito pronto per effettuare l'operazione di *slicing* (trimming) della stringa di qualità e del read."
   ]
  },
  {
   "cell_type": "markdown",
   "metadata": {},
   "source": [
    "**NB**: se viene restituito il *fake interval* `[1,1]` allora significa che tutti i valori in `bool_list` sono uguali a `False` (cioé nella stringa di qualità tutti i valori sono al di sotto della soglia minima), e il trimming restituirà una stringa vuota."
   ]
  },
  {
   "cell_type": "markdown",
   "metadata": {},
   "source": [
    "### Definizione della funzione `get_trimmed_read()`\n",
    "\n",
    "La funzione prende come primo argomento una soglia minima di qualità e come argomento la lista dei quattro *record* di un read in formato `FASTQ` e restituisce la lista dei *record* `FASTQ` del read dopo essere stato sottoposto a trimming."
   ]
  },
  {
   "cell_type": "code",
   "execution_count": 99,
   "metadata": {},
   "outputs": [],
   "source": []
  },
  {
   "cell_type": "markdown",
   "metadata": {},
   "source": [
    "---"
   ]
  },
  {
   "cell_type": "markdown",
   "metadata": {},
   "source": [
    "### Lettura del file in formato `FASTQ`"
   ]
  },
  {
   "cell_type": "markdown",
   "metadata": {},
   "source": [
    "Lettura del file `FASTQ` in input."
   ]
  },
  {
   "cell_type": "code",
   "execution_count": 100,
   "metadata": {},
   "outputs": [],
   "source": []
  },
  {
   "cell_type": "code",
   "execution_count": 101,
   "metadata": {},
   "outputs": [
    {
     "data": {
      "text/plain": [
       "['@HWUSI-EAS522:8:5:662:692#0/1\\n',\n",
       " 'TATGGAGGCCCAACTTCTTGTATTCACAGGTTCTGC\\n',\n",
       " '+HWUSI-EAS522:8:5:662:692#0/1\\n',\n",
       " 'aaaa`aa`aa`]__`aa`_U[_a`^\\\\\\\\UTWZ`X^QX\\n',\n",
       " '@HWUSI-EAS522:8:5:662:693#0/1\\n',\n",
       " 'TCTGCCAACTTCTTATGGAGGCCTGTATTCACAGGT\\n',\n",
       " '+HWUSI-EAS522:8:5:662:693#0/1\\n',\n",
       " 'Aaaa`aa`aa`]__`:a`_U;_A`^\\\\\\\\UTWZ`X^QX\\n',\n",
       " '@HWUSI-EAS522:8:5:662:694#0/1\\n',\n",
       " 'TCTGCCAGAGGCCTGTATTCACAGGTACTTCTTATG\\n',\n",
       " '+HWUSI-EAS522:8:5:662:694#0/1\\n',\n",
       " 'aaaa`aa`aa`]__`aa`_u[_a`^\\\\\\\\utwz`x^QX\\n',\n",
       " '@HWUSI-EAS522:8:5:662:695#0/1\\n',\n",
       " 'TCGCCTGTATTCACAGGTTGCCAACTTCTTATGGAG\\n',\n",
       " '+HWUSI-EAS522:8:5:662:695#0/1\\n',\n",
       " 'AaaA`aa`aa`]__`:A`_U;_A`^\\\\\\\\UTWZ`X^QX\\n']"
      ]
     },
     "execution_count": 101,
     "metadata": {},
     "output_type": "execute_result"
    }
   ],
   "source": [
    "input_file_rows"
   ]
  },
  {
   "cell_type": "markdown",
   "metadata": {},
   "source": [
    "Raggruppare i *record* per read (cioé a gruppi di quattro) e inserirli in una lista di liste, in modo tale che ogni lista interna contenga le quattro stringhe del record FASTQ."
   ]
  },
  {
   "cell_type": "code",
   "execution_count": 102,
   "metadata": {},
   "outputs": [],
   "source": []
  },
  {
   "cell_type": "code",
   "execution_count": 103,
   "metadata": {},
   "outputs": [
    {
     "data": {
      "text/plain": [
       "[['@HWUSI-EAS522:8:5:662:692#0/1\\n',\n",
       "  'TATGGAGGCCCAACTTCTTGTATTCACAGGTTCTGC\\n',\n",
       "  '+HWUSI-EAS522:8:5:662:692#0/1\\n',\n",
       "  'aaaa`aa`aa`]__`aa`_U[_a`^\\\\\\\\UTWZ`X^QX\\n'],\n",
       " ['@HWUSI-EAS522:8:5:662:693#0/1\\n',\n",
       "  'TCTGCCAACTTCTTATGGAGGCCTGTATTCACAGGT\\n',\n",
       "  '+HWUSI-EAS522:8:5:662:693#0/1\\n',\n",
       "  'Aaaa`aa`aa`]__`:a`_U;_A`^\\\\\\\\UTWZ`X^QX\\n'],\n",
       " ['@HWUSI-EAS522:8:5:662:694#0/1\\n',\n",
       "  'TCTGCCAGAGGCCTGTATTCACAGGTACTTCTTATG\\n',\n",
       "  '+HWUSI-EAS522:8:5:662:694#0/1\\n',\n",
       "  'aaaa`aa`aa`]__`aa`_u[_a`^\\\\\\\\utwz`x^QX\\n'],\n",
       " ['@HWUSI-EAS522:8:5:662:695#0/1\\n',\n",
       "  'TCGCCTGTATTCACAGGTTGCCAACTTCTTATGGAG\\n',\n",
       "  '+HWUSI-EAS522:8:5:662:695#0/1\\n',\n",
       "  'AaaA`aa`aa`]__`:A`_U;_A`^\\\\\\\\UTWZ`X^QX\\n']]"
      ]
     },
     "execution_count": 103,
     "metadata": {},
     "output_type": "execute_result"
    }
   ],
   "source": [
    "fastq_read_list"
   ]
  },
  {
   "cell_type": "markdown",
   "metadata": {},
   "source": [
    "Eliminare dalla lista i read in cui la percentuale di basi con qualità almeno pari alla soglia minima (parametro `quality_threshold`) è inferiore al parametro `min_percentage`."
   ]
  },
  {
   "cell_type": "code",
   "execution_count": 104,
   "metadata": {},
   "outputs": [],
   "source": []
  },
  {
   "cell_type": "code",
   "execution_count": 105,
   "metadata": {},
   "outputs": [
    {
     "data": {
      "text/plain": [
       "[['@HWUSI-EAS522:8:5:662:692#0/1\\n',\n",
       "  'TATGGAGGCCCAACTTCTTGTATTCACAGGTTCTGC\\n',\n",
       "  '+HWUSI-EAS522:8:5:662:692#0/1\\n',\n",
       "  'aaaa`aa`aa`]__`aa`_U[_a`^\\\\\\\\UTWZ`X^QX\\n'],\n",
       " ['@HWUSI-EAS522:8:5:662:694#0/1\\n',\n",
       "  'TCTGCCAGAGGCCTGTATTCACAGGTACTTCTTATG\\n',\n",
       "  '+HWUSI-EAS522:8:5:662:694#0/1\\n',\n",
       "  'aaaa`aa`aa`]__`aa`_u[_a`^\\\\\\\\utwz`x^QX\\n']]"
      ]
     },
     "execution_count": 105,
     "metadata": {},
     "output_type": "execute_result"
    }
   ],
   "source": [
    "fastq_read_list"
   ]
  },
  {
   "cell_type": "markdown",
   "metadata": {},
   "source": [
    "Effettuare il *trimming* dei reads rimasti."
   ]
  },
  {
   "cell_type": "code",
   "execution_count": 106,
   "metadata": {},
   "outputs": [],
   "source": []
  },
  {
   "cell_type": "code",
   "execution_count": 107,
   "metadata": {},
   "outputs": [
    {
     "data": {
      "text/plain": [
       "[['@HWUSI-EAS522:8:5:662:692#0/1\\n',\n",
       "  'TATGGAGGCCCAACTTCTT\\n',\n",
       "  '+HWUSI-EAS522:8:5:662:692#0/1\\n',\n",
       "  'aaaa`aa`aa`]__`aa`_\\n'],\n",
       " ['@HWUSI-EAS522:8:5:662:694#0/1\\n',\n",
       "  'TCTGCCAGAGGCCTGTATTCACAGGTACTTCTTA\\n',\n",
       "  '+HWUSI-EAS522:8:5:662:694#0/1\\n',\n",
       "  'aaaa`aa`aa`]__`aa`_u[_a`^\\\\\\\\utwz`x^\\n']]"
      ]
     },
     "execution_count": 107,
     "metadata": {},
     "output_type": "execute_result"
    }
   ],
   "source": [
    "fastq_read_list"
   ]
  },
  {
   "cell_type": "markdown",
   "metadata": {},
   "source": [
    "Eliminare i reads troppo corti."
   ]
  },
  {
   "cell_type": "code",
   "execution_count": 108,
   "metadata": {},
   "outputs": [],
   "source": []
  },
  {
   "cell_type": "code",
   "execution_count": 109,
   "metadata": {},
   "outputs": [
    {
     "data": {
      "text/plain": [
       "[['@HWUSI-EAS522:8:5:662:694#0/1\\n',\n",
       "  'TCTGCCAGAGGCCTGTATTCACAGGTACTTCTTA\\n',\n",
       "  '+HWUSI-EAS522:8:5:662:694#0/1\\n',\n",
       "  'aaaa`aa`aa`]__`aa`_u[_a`^\\\\\\\\utwz`x^\\n']]"
      ]
     },
     "execution_count": 109,
     "metadata": {},
     "output_type": "execute_result"
    }
   ],
   "source": [
    "fastq_read_list"
   ]
  }
 ],
 "metadata": {
  "kernelspec": {
   "display_name": "Python 3",
   "language": "python",
   "name": "python3"
  },
  "language_info": {
   "codemirror_mode": {
    "name": "ipython",
    "version": 3
   },
   "file_extension": ".py",
   "mimetype": "text/x-python",
   "name": "python",
   "nbconvert_exporter": "python",
   "pygments_lexer": "ipython3",
   "version": "3.7.1"
  }
 },
 "nbformat": 4,
 "nbformat_minor": 2
}
