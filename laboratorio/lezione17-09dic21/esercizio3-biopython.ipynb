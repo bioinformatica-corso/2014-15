{
 "cells": [
  {
   "cell_type": "markdown",
   "metadata": {},
   "source": [
    "# Biopython - Esercizio3"
   ]
  },
  {
   "cell_type": "markdown",
   "metadata": {},
   "source": [
    "La classe `PairwiseAligner` del package `Align` implementa algoritmi di allineamento di due sequenze (globale, locale, etc.). "
   ]
  },
  {
   "cell_type": "markdown",
   "metadata": {},
   "source": [
    "Installare il package `Bio` di Biopython."
   ]
  },
  {
   "cell_type": "raw",
   "metadata": {},
   "source": [
    "!conda install -y -c conda-forge biopython"
   ]
  },
  {
   "cell_type": "markdown",
   "metadata": {},
   "source": [
    "Importare il package `Bio`."
   ]
  },
  {
   "cell_type": "code",
   "execution_count": 1,
   "metadata": {},
   "outputs": [],
   "source": [
    "import Bio"
   ]
  },
  {
   "cell_type": "markdown",
   "metadata": {},
   "source": [
    "Importare il package `Align`."
   ]
  },
  {
   "cell_type": "code",
   "execution_count": 2,
   "metadata": {},
   "outputs": [],
   "source": [
    "from Bio import Align"
   ]
  },
  {
   "cell_type": "markdown",
   "metadata": {},
   "source": [
    "Costruire un oggetto di tipo `PairwiseAligner`."
   ]
  },
  {
   "cell_type": "code",
   "execution_count": 6,
   "metadata": {},
   "outputs": [],
   "source": [
    "from Bio.Align import PairwiseAligner\n",
    "\n",
    "aligner = PairwiseAligner()\n",
    "#help(Align.PairwiseAligner)"
   ]
  },
  {
   "cell_type": "markdown",
   "metadata": {},
   "source": [
    "L'algoritmo corrente è: "
   ]
  },
  {
   "cell_type": "code",
   "execution_count": 8,
   "metadata": {},
   "outputs": [
    {
     "data": {
      "text/plain": [
       "'Needleman-Wunsch'"
      ]
     },
     "execution_count": 8,
     "metadata": {},
     "output_type": "execute_result"
    }
   ],
   "source": [
    "aligner.algorithm"
   ]
  },
  {
   "cell_type": "markdown",
   "metadata": {},
   "source": [
    "Si assegnino gli score di allineamento. "
   ]
  },
  {
   "cell_type": "code",
   "execution_count": 10,
   "metadata": {},
   "outputs": [],
   "source": [
    "aligner.match_score = 1.0\n",
    "aligner.mismatch_score = -1.0\n",
    "aligner.gap_score = -1.0"
   ]
  },
  {
   "cell_type": "markdown",
   "metadata": {},
   "source": [
    "Si considerino le due sequenze:"
   ]
  },
  {
   "cell_type": "code",
   "execution_count": 12,
   "metadata": {},
   "outputs": [],
   "source": [
    "sequence1 = 'GATAATAATGCGAGGG'\n",
    "sequence2 = 'GAAATAACTGCGAGG'"
   ]
  },
  {
   "cell_type": "markdown",
   "metadata": {},
   "source": [
    "Il loro score di allineamento è:"
   ]
  },
  {
   "cell_type": "code",
   "execution_count": 13,
   "metadata": {},
   "outputs": [
    {
     "data": {
      "text/plain": [
       "11.0"
      ]
     },
     "execution_count": 13,
     "metadata": {},
     "output_type": "execute_result"
    }
   ],
   "source": [
    "aligner.score(sequence1, sequence2)"
   ]
  },
  {
   "cell_type": "markdown",
   "metadata": {},
   "source": [
    "Si determinino tutti gli allineamenti delle due sequenze:"
   ]
  },
  {
   "cell_type": "code",
   "execution_count": 15,
   "metadata": {},
   "outputs": [
    {
     "data": {
      "text/plain": [
       "Bio.Align.PairwiseAlignments"
      ]
     },
     "execution_count": 15,
     "metadata": {},
     "output_type": "execute_result"
    }
   ],
   "source": [
    "alignments = aligner.align(sequence1, sequence2)\n",
    "type(alignments)"
   ]
  },
  {
   "cell_type": "markdown",
   "metadata": {},
   "source": [
    "Si stampino uno dopo l'altro gli allineamenti."
   ]
  },
  {
   "cell_type": "code",
   "execution_count": 177,
   "metadata": {},
   "outputs": [
    {
     "name": "stdout",
     "output_type": "stream",
     "text": [
      "GATAATAA-TGCGAGGG\n",
      "||-|||||-|||||||-\n",
      "GA-AATAACTGCGAGG-\n",
      "\n",
      "GATAATAA-TGCGAGGG\n",
      "||-|||||-||||||-|\n",
      "GA-AATAACTGCGAG-G\n",
      "\n",
      "GATAATAA-TGCGAGGG\n",
      "||-|||||-|||||-||\n",
      "GA-AATAACTGCGA-GG\n",
      "\n"
     ]
    }
   ],
   "source": [
    "for align in alignments:\n",
    "    print(align)"
   ]
  },
  {
   "cell_type": "markdown",
   "metadata": {},
   "source": [
    "Si considerino ora queste due sequenze:"
   ]
  },
  {
   "cell_type": "code",
   "execution_count": 18,
   "metadata": {},
   "outputs": [],
   "source": [
    "sequence1 = 'AGAAGGGGGGAAGAA'\n",
    "sequence2 = 'GGGGGG'"
   ]
  },
  {
   "cell_type": "markdown",
   "metadata": {},
   "source": [
    "Si determinino tutti gli allineamenti delle due sequenze:"
   ]
  },
  {
   "cell_type": "code",
   "execution_count": 19,
   "metadata": {},
   "outputs": [],
   "source": [
    "alignments = aligner.align(sequence1, sequence2)"
   ]
  },
  {
   "cell_type": "markdown",
   "metadata": {},
   "source": [
    "Si stampino uno dopo l'altro gli allineamenti."
   ]
  },
  {
   "cell_type": "code",
   "execution_count": 20,
   "metadata": {},
   "outputs": [
    {
     "name": "stdout",
     "output_type": "stream",
     "text": [
      "AGAAGGGGGGAAGAA\n",
      "-|--|||||------\n",
      "-G--GGGGG------\n",
      "\n",
      "AGAAGGGGGGAAGAA\n",
      "-|--||||-|-----\n",
      "-G--GGGG-G-----\n",
      "\n",
      "AGAAGGGGGGAAGAA\n",
      "-|--|||-||-----\n",
      "-G--GGG-GG-----\n",
      "\n",
      "AGAAGGGGGGAAGAA\n",
      "-|--||-|||-----\n",
      "-G--GG-GGG-----\n",
      "\n",
      "AGAAGGGGGGAAGAA\n",
      "-|--|-||||-----\n",
      "-G--G-GGGG-----\n",
      "\n",
      "AGAAGGGGGGAAGAA\n",
      "-|---|||||-----\n",
      "-G---GGGGG-----\n",
      "\n",
      "AGAAGGGGGGAAGAA\n",
      "----||||||-----\n",
      "----GGGGGG-----\n",
      "\n",
      "AGAAGGGGGGAAGAA\n",
      "-|--||||----|--\n",
      "-G--GGGG----G--\n",
      "\n",
      "AGAAGGGGGGAAGAA\n",
      "-|--|||-|---|--\n",
      "-G--GGG-G---G--\n",
      "\n",
      "AGAAGGGGGGAAGAA\n",
      "-|--||-||---|--\n",
      "-G--GG-GG---G--\n",
      "\n",
      "AGAAGGGGGGAAGAA\n",
      "-|--|-|||---|--\n",
      "-G--G-GGG---G--\n",
      "\n",
      "AGAAGGGGGGAAGAA\n",
      "-|---||||---|--\n",
      "-G---GGGG---G--\n",
      "\n",
      "AGAAGGGGGGAAGAA\n",
      "----|||||---|--\n",
      "----GGGGG---G--\n",
      "\n",
      "AGAAGGGGGGAAGAA\n",
      "-|--|||--|--|--\n",
      "-G--GGG--G--G--\n",
      "\n",
      "AGAAGGGGGGAAGAA\n",
      "-|--||-|-|--|--\n",
      "-G--GG-G-G--G--\n",
      "\n",
      "AGAAGGGGGGAAGAA\n",
      "-|--|-||-|--|--\n",
      "-G--G-GG-G--G--\n",
      "\n",
      "AGAAGGGGGGAAGAA\n",
      "-|---|||-|--|--\n",
      "-G---GGG-G--G--\n",
      "\n",
      "AGAAGGGGGGAAGAA\n",
      "----||||-|--|--\n",
      "----GGGG-G--G--\n",
      "\n",
      "AGAAGGGGGGAAGAA\n",
      "-|--||--||--|--\n",
      "-G--GG--GG--G--\n",
      "\n",
      "AGAAGGGGGGAAGAA\n",
      "-|--|-|-||--|--\n",
      "-G--G-G-GG--G--\n",
      "\n",
      "AGAAGGGGGGAAGAA\n",
      "-|---||-||--|--\n",
      "-G---GG-GG--G--\n",
      "\n",
      "AGAAGGGGGGAAGAA\n",
      "----|||-||--|--\n",
      "----GGG-GG--G--\n",
      "\n",
      "AGAAGGGGGGAAGAA\n",
      "-|--|--|||--|--\n",
      "-G--G--GGG--G--\n",
      "\n",
      "AGAAGGGGGGAAGAA\n",
      "-|---|-|||--|--\n",
      "-G---G-GGG--G--\n",
      "\n",
      "AGAAGGGGGGAAGAA\n",
      "----||-|||--|--\n",
      "----GG-GGG--G--\n",
      "\n",
      "AGAAGGGGGGAAGAA\n",
      "-|----||||--|--\n",
      "-G----GGGG--G--\n",
      "\n",
      "AGAAGGGGGGAAGAA\n",
      "----|-||||--|--\n",
      "----G-GGGG--G--\n",
      "\n",
      "AGAAGGGGGGAAGAA\n",
      "-----|||||--|--\n",
      "-----GGGGG--G--\n",
      "\n"
     ]
    }
   ],
   "source": [
    "for align in alignments:\n",
    "    print(align)"
   ]
  },
  {
   "cell_type": "markdown",
   "metadata": {},
   "source": [
    "Si passi alla modalità `local`. "
   ]
  },
  {
   "cell_type": "code",
   "execution_count": 25,
   "metadata": {},
   "outputs": [],
   "source": [
    "aligner.mode='local'"
   ]
  },
  {
   "cell_type": "markdown",
   "metadata": {},
   "source": [
    "L'algoritmo è ora:"
   ]
  },
  {
   "cell_type": "code",
   "execution_count": 26,
   "metadata": {},
   "outputs": [
    {
     "data": {
      "text/plain": [
       "'Smith-Waterman'"
      ]
     },
     "execution_count": 26,
     "metadata": {},
     "output_type": "execute_result"
    }
   ],
   "source": [
    "aligner.algorithm"
   ]
  },
  {
   "cell_type": "markdown",
   "metadata": {},
   "source": [
    "Si determini l'allineamento locale tra le due sequenze."
   ]
  },
  {
   "cell_type": "code",
   "execution_count": 27,
   "metadata": {},
   "outputs": [],
   "source": [
    "alignments = aligner.align(sequence1, sequence2)"
   ]
  },
  {
   "cell_type": "code",
   "execution_count": 28,
   "metadata": {},
   "outputs": [
    {
     "name": "stdout",
     "output_type": "stream",
     "text": [
      "AGAAGGGGGGAAGAA\n",
      "    ||||||     \n",
      "    GGGGGG     \n",
      "\n"
     ]
    }
   ],
   "source": [
    "for align in alignments:\n",
    "    print(align)"
   ]
  }
 ],
 "metadata": {
  "kernelspec": {
   "display_name": "Python 3",
   "language": "python",
   "name": "python3"
  },
  "language_info": {
   "codemirror_mode": {
    "name": "ipython",
    "version": 3
   },
   "file_extension": ".py",
   "mimetype": "text/x-python",
   "name": "python",
   "nbconvert_exporter": "python",
   "pygments_lexer": "ipython3",
   "version": "3.7.1"
  }
 },
 "nbformat": 4,
 "nbformat_minor": 2
}
