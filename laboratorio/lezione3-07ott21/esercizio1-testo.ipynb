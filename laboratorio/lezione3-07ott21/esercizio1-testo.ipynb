{
 "cells": [
  {
   "cell_type": "markdown",
   "metadata": {},
   "source": [
    "# Esercizio 1"
   ]
  },
  {
   "cell_type": "raw",
   "metadata": {},
   "source": [
    "                2009\t2010\t2011\t2012\t2013\t2014\t2015\n",
    "    Gennaio\t\t75\t\t63\t\t65\t\t50\t\t77\t\t66\t\t69\n",
    "    Febbraio\t64\t\t65\t\t65\t\t67\t\t50\t\t54\t\t58\n",
    "    Marzo\t\t81\t\t77\t\t73\t\t80\t\t83\t\t89\t\t100\n",
    "    Aprile\t\t89\t\t90\t\t85\t\t90\t\t90\t\t84\t\t90\n",
    "    Maggio\t\t120\t\t129\t\t113\t\t120\t\t135\t\t117\t\t130\n",
    "    Giugno\t\t113\t\t99\t\t116\t\t114\t\t111\t\t119\t\t100\n",
    "    Luglio\t\t111\t\t105\t\t98\t\t112\t\t113\t\t102\t\t100\n",
    "    Agosto\t\t129\t\t131\t\t120\t\t111\t\t141\t\t130\t\t126\n",
    "    Settembre\t90\t\t85\t\t101\t\t88\t\t89\t\t94\t\t91\n",
    "    Ottobre\t\t109\t\t122\t\t103\t\t119\t\t98\t\t101\t\t107\n",
    "    Novembre\t111\t\t121\t\t101\t\t104\t\t121\t\t115\t\t104\n",
    "    Dicembre\t56\t\t67\t\t44\t\t58\t\t61\t\t64\t\t58"
   ]
  },
  {
   "cell_type": "markdown",
   "metadata": {},
   "source": [
    "Si consideri il dataset delle precipitazioni mensili (mm) nei sette anni dal 2009 al 2015, che ha il seguente formato: 13 record di campi separati da tabulazione di cui il primo è il record di intestazione degli anni (composto da 7 campi) e gli altri 12 sono i record delle piogge mensili (un record per ciascun mese) composti da 8 campi di cui il primo è il nome del mese e i rimanenti 7 sono le piogge mensili lungo gli anni.\n",
    "\n",
    "Si richiede di predisporre un notebook che permetta di calcolare:\n",
    "\n",
    "- le precipitazioni medie mensili \n",
    "- le precipitazioni totali annue \n",
    "- per ognuno degli anni considerati, il numero di mesi con pioggia oltre la soglia S\n",
    "\n",
    "---\n",
    "\n",
    "Parametri di input:\n",
    "- dataset delle precipitazioni\n",
    "- soglia S\n",
    "\n",
    "---\n",
    "\n",
    "Requisiti:\n",
    "- il notebook deve funzionare anche per un dataset che contiene le rilevazioni per un numero di anni diverso da 7\n",
    "\n",
    "- definire la funzione `compute_mean()` che prenda in input una lista di numeri e produca in output il valore medio\n",
    "\n",
    "- definire la funzione `count_elements_greater_than()` che prenda in input una lista di numeri e un valore di soglia e produca in output il numero di valori che superano tale soglia\n",
    "\n",
    "---\n",
    "\n",
    "Come produrre l'output?\n",
    "\n",
    "- produrre le piogge medie mensili in una lista di 12 tuple di dimensione 2 in cui il primo elemento (stringa) sono le prime tre lettere del nome del mese in maiuscolo e il secondo elemento (decimale) è il suo valore medio di pioggia.\n",
    "\n",
    "- produrre le piogge totali annue in una lista di N (sarà N=7 per questo dataset) tuple di dimensione 2 in cui il primo elemento (stringa) è l'anno e il secondo elemento (intero) è il suo valore totale di pioggia.\n",
    "\n",
    "- produrre per ogni anno il numero di mesi con pioggia oltre la soglia P in una lista di N tuple di dimensione 2 in cui il primo elemento (stringa) è l'anno e il secondo elemento (intero) il numero di mesi con almeno S mm di pioggia\n",
    "\n",
    "---"
   ]
  },
  {
   "cell_type": "markdown",
   "metadata": {},
   "source": [
    "## Cosa serve per svolgere l'esercizio?\n",
    "\n",
    "### 1) Leggere le righe di un file\n",
    "\n",
    "Lo statement:\n",
    "\n",
    "    with open(input_file_name, ’r’) as input_file:\n",
    "        file_rows = input_file.readlines()\n",
    "        \n",
    "permette di aprire l'*handle* in lettura `input_file` al file che ha nome `input_file_name` e di ottenere poi la lista `file_rows` delle sue righe (oggetti di tipo `str`).\n",
    "\n",
    "Al termine di esecuzione dello statement, l'*handle* `input_file` viene chiuso e lo script può proseguire e processare la lista `file_rows`.\n",
    "\n",
    "Ci si deve ricordare che prima di processare le righe del file è opportuno rimuovere eventuali caratteri di spazio finali."
   ]
  },
  {
   "cell_type": "markdown",
   "metadata": {},
   "source": [
    "Il metodo `rstrip()` degli oggetti di tipo `str` restituisce una copia della stringa invocante dopo avere rimosso il più lungo suffisso contenente solo caratteri appartenenti alla stringa passata come argomento.\n",
    "\n",
    "Se l’argomento viene omesso, allora il metodo rimuove tutti i caratteri di tipo spazio (tabulazione, *newline*, etc.)"
   ]
  },
  {
   "cell_type": "code",
   "execution_count": 62,
   "metadata": {},
   "outputs": [
    {
     "data": {
      "text/plain": [
       "'aaaa'"
      ]
     },
     "execution_count": 62,
     "metadata": {},
     "output_type": "execute_result"
    }
   ],
   "source": [
    "'aaaa \\n  '.rstrip()"
   ]
  },
  {
   "cell_type": "code",
   "execution_count": 63,
   "metadata": {},
   "outputs": [
    {
     "data": {
      "text/plain": [
       "'aaaa \\n'"
      ]
     },
     "execution_count": 63,
     "metadata": {},
     "output_type": "execute_result"
    }
   ],
   "source": [
    "'aaaa \\n  '.rstrip(' ')"
   ]
  },
  {
   "cell_type": "markdown",
   "metadata": {},
   "source": [
    "### 2) Costruire una matrice"
   ]
  },
  {
   "cell_type": "markdown",
   "metadata": {},
   "source": [
    "Una matrice può essere implementata in Python come una lista di liste della stessa dimensione. Ad esempio, la seguente è una matrice di 3 righe e 4 colonne"
   ]
  },
  {
   "cell_type": "code",
   "execution_count": 2,
   "metadata": {},
   "outputs": [
    {
     "data": {
      "text/plain": [
       "[[1, 2, 3, 4], [5, 6, 7, 8], [9, 10, 11, 12]]"
      ]
     },
     "execution_count": 2,
     "metadata": {},
     "output_type": "execute_result"
    }
   ],
   "source": [
    "lista = [[1, 2, 3, 4], [5, 6, 7, 8], [9, 10, 11, 12]]\n",
    "lista"
   ]
  },
  {
   "cell_type": "markdown",
   "metadata": {},
   "source": [
    "Python permette di trasformarla in un oggetto di tipo `ndarray`. \n",
    "\n",
    "La classe `ndarray` è definita nel modulo `numpy`, che mette a disposizione anche la funzione `array()` per trasformare una lista di liste in un oggetto `ndarray` e le funzioni per eseguire le tipiche operazioni su matrici."
   ]
  },
  {
   "cell_type": "code",
   "execution_count": 8,
   "metadata": {},
   "outputs": [
    {
     "data": {
      "text/plain": [
       "array([[ 1,  2,  3,  4],\n",
       "       [ 5,  6,  7,  8],\n",
       "       [ 9, 10, 11, 12]])"
      ]
     },
     "execution_count": 8,
     "metadata": {},
     "output_type": "execute_result"
    }
   ],
   "source": [
    "import numpy as np\n",
    "matrice = np.array(lista)\n",
    "matrice"
   ]
  },
  {
   "cell_type": "markdown",
   "metadata": {},
   "source": [
    "Si può usare la stessa sintassi di accesso delle liste."
   ]
  },
  {
   "cell_type": "code",
   "execution_count": 73,
   "metadata": {},
   "outputs": [
    {
     "data": {
      "text/plain": [
       "array([1, 2, 3, 4])"
      ]
     },
     "execution_count": 73,
     "metadata": {},
     "output_type": "execute_result"
    }
   ],
   "source": [
    "matrice[0]"
   ]
  },
  {
   "cell_type": "code",
   "execution_count": 74,
   "metadata": {},
   "outputs": [
    {
     "data": {
      "text/plain": [
       "3"
      ]
     },
     "execution_count": 74,
     "metadata": {},
     "output_type": "execute_result"
    }
   ],
   "source": [
    "matrice[0][2]"
   ]
  },
  {
   "cell_type": "markdown",
   "metadata": {},
   "source": [
    "La scansione delle righe avviene con ciclo for."
   ]
  },
  {
   "cell_type": "code",
   "execution_count": 70,
   "metadata": {},
   "outputs": [
    {
     "name": "stdout",
     "output_type": "stream",
     "text": [
      "[1 2 3 4]\n",
      "[5 6 7 8]\n",
      "[ 9 10 11 12]\n"
     ]
    }
   ],
   "source": [
    "for row in matrice:\n",
    "    print(row)"
   ]
  },
  {
   "cell_type": "markdown",
   "metadata": {},
   "source": [
    "La funzione `len()` restituisce il numero di righe della matrice."
   ]
  },
  {
   "cell_type": "code",
   "execution_count": 10,
   "metadata": {},
   "outputs": [
    {
     "data": {
      "text/plain": [
       "3"
      ]
     },
     "execution_count": 10,
     "metadata": {},
     "output_type": "execute_result"
    }
   ],
   "source": [
    "len(matrice)"
   ]
  },
  {
   "cell_type": "markdown",
   "metadata": {},
   "source": [
    "La funzione `transpose()` di `numpy` permette di ottenere la trasposta di una matrice."
   ]
  },
  {
   "cell_type": "code",
   "execution_count": 11,
   "metadata": {},
   "outputs": [
    {
     "data": {
      "text/plain": [
       "array([[ 1,  5,  9],\n",
       "       [ 2,  6, 10],\n",
       "       [ 3,  7, 11],\n",
       "       [ 4,  8, 12]])"
      ]
     },
     "execution_count": 11,
     "metadata": {},
     "output_type": "execute_result"
    }
   ],
   "source": [
    "matrice_t = np.transpose(matrice)\n",
    "matrice_t"
   ]
  },
  {
   "cell_type": "markdown",
   "metadata": {},
   "source": [
    "Il metodo `transpose()` degli oggetti `ndarray` permette di ottenere la trasposta della matrice invocante."
   ]
  },
  {
   "cell_type": "code",
   "execution_count": 12,
   "metadata": {},
   "outputs": [
    {
     "data": {
      "text/plain": [
       "array([[ 1,  5,  9],\n",
       "       [ 2,  6, 10],\n",
       "       [ 3,  7, 11],\n",
       "       [ 4,  8, 12]])"
      ]
     },
     "execution_count": 12,
     "metadata": {},
     "output_type": "execute_result"
    }
   ],
   "source": [
    "matrice_t = matrice.transpose()\n",
    "matrice_t"
   ]
  },
  {
   "cell_type": "markdown",
   "metadata": {},
   "source": [
    "### 3) Convertire una lista di stringhe in lista di interi\n",
    "\n",
    "La funzione `map()` prende il nome di una funzione come primo argomento e un oggetto iterabile come secondo argomento e restituisce un oggetto che mappa ognuno degli elementi del secondo argomento secondo la funzione specificata come primo argomento e che può essere convertito in un oggetto di tipo lista."
   ]
  },
  {
   "cell_type": "code",
   "execution_count": 69,
   "metadata": {},
   "outputs": [
    {
     "data": {
      "text/plain": [
       "[1, 2, 3]"
      ]
     },
     "execution_count": 69,
     "metadata": {},
     "output_type": "execute_result"
    }
   ],
   "source": [
    "lista = ['1', '2', '3']\n",
    "list(map(int, lista))"
   ]
  },
  {
   "cell_type": "markdown",
   "metadata": {},
   "source": [
    "### 4) Convertire in decimale un valore intero"
   ]
  },
  {
   "cell_type": "markdown",
   "metadata": {},
   "source": [
    "La funzione `float()` converte in decimale il valore passato come argomento."
   ]
  },
  {
   "cell_type": "code",
   "execution_count": 66,
   "metadata": {},
   "outputs": [
    {
     "data": {
      "text/plain": [
       "13.0"
      ]
     },
     "execution_count": 66,
     "metadata": {},
     "output_type": "execute_result"
    }
   ],
   "source": [
    "float(13)"
   ]
  },
  {
   "cell_type": "markdown",
   "metadata": {},
   "source": [
    "### 5) Sommare i valori presenti in una lista o in una tupla"
   ]
  },
  {
   "cell_type": "markdown",
   "metadata": {},
   "source": [
    "La funzione `sum()` restituisce la somma dei valori della lista o della tupla passata come argomento."
   ]
  },
  {
   "cell_type": "code",
   "execution_count": 21,
   "metadata": {},
   "outputs": [
    {
     "data": {
      "text/plain": [
       "15"
      ]
     },
     "execution_count": 21,
     "metadata": {},
     "output_type": "execute_result"
    }
   ],
   "source": [
    "sum([1, 2, 3, 4, 5])"
   ]
  },
  {
   "cell_type": "markdown",
   "metadata": {},
   "source": [
    "### 6) Trasformare una stringa in caratteri maiuscoli\n",
    "\n",
    "Il metodo `upper()` degli oggetti di tipo `str` restituisce una copia in maiuscolo della stringa invocante"
   ]
  },
  {
   "cell_type": "code",
   "execution_count": 24,
   "metadata": {},
   "outputs": [
    {
     "data": {
      "text/plain": [
       "'CIAO'"
      ]
     },
     "execution_count": 24,
     "metadata": {},
     "output_type": "execute_result"
    }
   ],
   "source": [
    "'ciao'.upper()"
   ]
  },
  {
   "cell_type": "markdown",
   "metadata": {},
   "source": [
    "### 7) Separare una stringa attraverso un separatore\n",
    "\n",
    "Il metodo `split()` degli oggetti di tipo `str` restituisce la lista degli elementi ottenuti separando la stringa invocante tramite il separatore passato come argomento.\n",
    "\n",
    "Se l’argomento viene omesso la stringa invocante viene separata usando spazi di qualsiasi tipo."
   ]
  },
  {
   "cell_type": "code",
   "execution_count": 33,
   "metadata": {},
   "outputs": [
    {
     "data": {
      "text/plain": [
       "['aa', 'aa', 'aa']"
      ]
     },
     "execution_count": 33,
     "metadata": {},
     "output_type": "execute_result"
    }
   ],
   "source": [
    "'aa\\taa\\taa'.split()"
   ]
  },
  {
   "cell_type": "code",
   "execution_count": 34,
   "metadata": {},
   "outputs": [
    {
     "data": {
      "text/plain": [
       "['aa', 'aa', 'aa']"
      ]
     },
     "execution_count": 34,
     "metadata": {},
     "output_type": "execute_result"
    }
   ],
   "source": [
    "'aa \\n\\t aa \\n\\t   aa'.split()"
   ]
  },
  {
   "cell_type": "code",
   "execution_count": 35,
   "metadata": {},
   "outputs": [
    {
     "data": {
      "text/plain": [
       "['aa', '\\n\\t', 'aa', '\\n\\t', '', '', 'aa']"
      ]
     },
     "execution_count": 35,
     "metadata": {},
     "output_type": "execute_result"
    }
   ],
   "source": [
    "'aa \\n\\t aa \\n\\t   aa'.split(' ')"
   ]
  },
  {
   "cell_type": "code",
   "execution_count": 64,
   "metadata": {},
   "outputs": [
    {
     "data": {
      "text/plain": [
       "['aa', '', 'aa', 'aa']"
      ]
     },
     "execution_count": 64,
     "metadata": {},
     "output_type": "execute_result"
    }
   ],
   "source": [
    "'aa\\t\\taa\\taa'.split('\\t')"
   ]
  },
  {
   "cell_type": "markdown",
   "metadata": {},
   "source": [
    "### 8) Rimuovere da una lista l'elemento in una certa posizione\n",
    "\n",
    "Il metodo `pop()` degli oggetti di tipo `list` rimuove e restituisce l’elemento della lista invocante che si trova nella posizione specificata come argomento."
   ]
  },
  {
   "cell_type": "code",
   "execution_count": 48,
   "metadata": {},
   "outputs": [
    {
     "data": {
      "text/plain": [
       "2"
      ]
     },
     "execution_count": 48,
     "metadata": {},
     "output_type": "execute_result"
    }
   ],
   "source": [
    "lista = [1,2,3,4]\n",
    "element = lista.pop(1)\n",
    "element"
   ]
  },
  {
   "cell_type": "code",
   "execution_count": 49,
   "metadata": {},
   "outputs": [
    {
     "data": {
      "text/plain": [
       "[1, 3, 4]"
      ]
     },
     "execution_count": 49,
     "metadata": {},
     "output_type": "execute_result"
    }
   ],
   "source": [
    "lista"
   ]
  },
  {
   "cell_type": "markdown",
   "metadata": {},
   "source": [
    "### 9) Contare gli elementi di una sequenza che sono uguali a un certo valore\n",
    "\n",
    "Il metodo `count()` delle *sequenze* restituisce il numero di elementi della *sequenza* invocante che sono uguali al valore passato come argomento"
   ]
  },
  {
   "cell_type": "code",
   "execution_count": 51,
   "metadata": {},
   "outputs": [
    {
     "data": {
      "text/plain": [
       "3"
      ]
     },
     "execution_count": 51,
     "metadata": {},
     "output_type": "execute_result"
    }
   ],
   "source": [
    "[True,False,True,True].count(True)"
   ]
  },
  {
   "cell_type": "code",
   "execution_count": 52,
   "metadata": {},
   "outputs": [
    {
     "data": {
      "text/plain": [
       "4"
      ]
     },
     "execution_count": 52,
     "metadata": {},
     "output_type": "execute_result"
    }
   ],
   "source": [
    "'aabbabbbba'.count('a')"
   ]
  },
  {
   "cell_type": "markdown",
   "metadata": {},
   "source": [
    "### 10) Unire due liste di dimensione N in una lista di dimensione N i cui elementi sono tuple di dimensione due che uniscono gli elementi nelle stesse posizioni delle due liste.\n",
    "\n",
    "La funzione `zip()` prende in input una serie di oggetti iterabili della stessa dimensione e restituisce un oggetto che unisce in tuple tutti gli elementi nella stessa posizione."
   ]
  },
  {
   "cell_type": "code",
   "execution_count": 1,
   "metadata": {},
   "outputs": [
    {
     "data": {
      "text/plain": [
       "<zip at 0x113466988>"
      ]
     },
     "execution_count": 1,
     "metadata": {},
     "output_type": "execute_result"
    }
   ],
   "source": [
    "list(zip([1,2,3], [3,4,5]))"
   ]
  }
 ],
 "metadata": {
  "kernelspec": {
   "display_name": "Python 3",
   "language": "python",
   "name": "python3"
  },
  "language_info": {
   "codemirror_mode": {
    "name": "ipython",
    "version": 3
   },
   "file_extension": ".py",
   "mimetype": "text/x-python",
   "name": "python",
   "nbconvert_exporter": "python",
   "pygments_lexer": "ipython3",
   "version": "3.7.1"
  }
 },
 "nbformat": 4,
 "nbformat_minor": 2
}
