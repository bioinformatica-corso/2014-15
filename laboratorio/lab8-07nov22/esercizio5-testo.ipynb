{
 "cells": [
  {
   "cell_type": "markdown",
   "metadata": {},
   "source": [
    "# Esercizio 5\n",
    "\n",
    "Si prenda in input il file in formato `GTF` (Gene Transfer Format) `input.gtf`, che annota tre geni, il file `FASTA` `ENm006.fa` che contiene la genomica di riferimento e una tra le due stringhe `transcript` e `cds`. Si richiede di produrre:\n",
    "\n",
    "- se la stringa in input è `transcript`, le sequenze di tutti trascritti annotati in formato `FASTA`, specificando i geni per cui è annotato almeno un trascritto \n",
    "- se la stringa in input è `cds`, le sequenze di tutte le CDS annotate in formato `FASTA`, specificando i geni per cui è stata annotata almeno una CDS\n",
    "\n",
    "L'*header* `FASTA` di ogni sequenza prodotta (trascritto oppure CDS) deve contenere:\n",
    "\n",
    "- il nome del gene di riferimento\n",
    "- l’identificatore del trascritto di riferimento\n",
    "- la lunghezza della sequenza prodotta\n",
    "- il tipo di sequenza (trascritto oppure CDS)\n",
    "- lo strand rispetto al *reference*\n",
    "    \n",
    "Esempio di *header* per un trascritto:\n",
    "         \n",
    "    >ARHGAP4; U52112.4-003; len=3235 type=transcript; strand=-\n",
    "\n",
    "Esempio di *header* per una CDS:\n",
    "\n",
    "    >AVPR2; U52112.2-003; len=642; type=cds; strand=+\n",
    "   \n",
    "***\n",
    "\n",
    "Requisiti:\n",
    "\n",
    "- deve essere definita una funzione `format_fasta()` che prenda come argomenti un header `FASTA`, una sequenza nucleotidica e un valore intero. La funzione deve restituire la sequenza in formato `FASTA` separata in *record* di un numero di caratteri pari al valore passato come terzo argomento.\n",
    "\n",
    "- deve essere definita una funzione `reverse_complement()` che prenda come argomento una sequenza nucleotidica e ne restituisca il *reverse&complement*.\n",
    "\n",
    "- deve essere definita una funzione `reconstruct_sequence()` che prenda come argomenti:\n",
    "    - la lista delle *features* che corrispondono a un trascritto oppure a una CDS, intese come tuple *(start, end)*\n",
    "    - la sequenza del *reference*\n",
    "    - un valore di *strand*   \n",
    "    e ricostruisca la sequenza del trascritto oppure della CDS.\n",
    "\n",
    "**NOTA BENE**: gli attributi del nono campo di un file in formato `GTF` non hanno ordine fisso all'interno del campo. Per estrarre un determinato attributo non si può quindi usare il metodo `split()` delle stringhe."
   ]
  }
 ],
 "metadata": {
  "kernelspec": {
   "display_name": "Python 3 (ipykernel)",
   "language": "python",
   "name": "python3"
  },
  "language_info": {
   "codemirror_mode": {
    "name": "ipython",
    "version": 3
   },
   "file_extension": ".py",
   "mimetype": "text/x-python",
   "name": "python",
   "nbconvert_exporter": "python",
   "pygments_lexer": "ipython3",
   "version": "3.9.7"
  }
 },
 "nbformat": 4,
 "nbformat_minor": 2
}
