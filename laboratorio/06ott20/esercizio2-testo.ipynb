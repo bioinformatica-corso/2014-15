{
 "cells": [
  {
   "cell_type": "markdown",
   "metadata": {},
   "source": [
    "# Esercizio 2\n",
    "\n",
    "Accedere a https://www.kaggle.com/rounakbanik/the-movies-dataset#movies_metadata.csv e scaricare il dataset `movies_metadata.csv.zip`. Tale dataset è in formato csv e contiene le informazioni sui film in *record* di 24 campi.\n",
    "\n",
    "Considerando solo i primi 1000 record, si richiede di:\n",
    "- elencare i 10 paesi che hanno prodotto più film, ordinandoli per numero decrescente di film prodotti. Di ciascun paese specificare il numero di film prodotti\n",
    "- fornire per ognuno dei generi cinematografici presenti:\n",
    "    - la classifica degli n (parametro) film più popolari ordinandoli per popolarità decrescente e specificando per ognuno di essi titolo originale e tagline\n",
    "    - l'insieme delle lingue originali che sono coinvolte nella classifica precedente\n",
    "\n",
    "***\n",
    "\n",
    "I campi del file csv che occorrono per risolvere l'esercizio sono:\n",
    "\n",
    "- `genres`: stringa che rappresenta il letterale di una lista di dizionari con due chiavi (`id` e `name`) che forniscono ciascuno un genere\n",
    "\n",
    "        [{'id': 16, 'name': 'Animation'}, {'id': 35, 'name': 'Comedy'}, {'id': 10751, 'name': 'Family'}]\n",
    "\n",
    "- `original_title` (stringa)\n",
    "- `popularity` (decimale)\n",
    "- `id` (ID)\n",
    "- `tagline` (stringa)\n",
    "- `original_language` (stringa a due caratteri)\n",
    "- `production_countries`: stringa che rappresenta il letterale di una lista di dizionari con due chiavi (`iso_3166_1` e `name`) che forniscono ciascuno un paese di origine\n",
    "\n",
    "        [{'iso_3166_1': 'DE', 'name': 'Germany'}, {'iso_3166_1': 'US', 'name': 'United States of America'}]\n",
    "\n",
    "***\n",
    "\n",
    "Requisiti generali:\n",
    "\n",
    "- si richiede la definizione di una funzione `get_items()` che prenda in input uno qualsiasi tra i due campi `genres`e `production_countries` ed estragga la lista dei generi nel caso di `genres` (ad esempio `['Animation', 'Comedy', 'Family']` nel caso dell'esempio precedente)  e la lista dei paesi di produzione nel caso di `production_countries` (ad esempio `['Germany', 'United States of America']` nel caso dell'esempio precedente).\n",
    "\n",
    "Produrre l'output richiesto nelle seguenti variabili:\n",
    "\n",
    "- `country_rank_list`: lista di 10 tuple di tipo *(nome di paese, numero di film prodotti)* contenente i primi 10 paesi che hanno prodotto più film (ordinati per numero decrescente di film prodotti)\n",
    "- `pop_rank_dict`: dizionario delle classifiche per genere dei primi n film ordinati per popolarità decrescente:\n",
    "    - *chiave*: genere di un film\n",
    "    - *valore*: lista contenente n liste di tipo *[titolo originale, tagline]* con i primi n film ordinati per popolarità decrescente\n",
    "- `language_set_dict`: dizionario degli insiemi delle lingue coinvolte in ciascuna delle classifiche presenti in `pop_rank_dict`:\n",
    "    - *chiave*: genere di un film\n",
    "    - *valore*: insieme delle lingue\n",
    "\n",
    "\n",
    "**NOTA BENE**: scartare i record del dataset che hanno un valore del campo `popularity` che non è un decimale oppure non hanno proprio un valore.\n",
    "\n",
    "***"
   ]
  },
  {
   "cell_type": "markdown",
   "metadata": {},
   "source": [
    "### Come leggere un file csv con Pandas\n",
    "\n",
    "Il modulo `pandas` permette di leggere un file in formato csv (anche zippato) tramite la funzione `read_csv()`, che prende come argomento il nome del file da leggere.\n",
    "\n",
    "L'oggetto restituito è un oggetto di tipo `DataFrame` (un *data frame*), cioé una tabella organizzata in righe (*record*) e colonne intestate.\n",
    "\n",
    "Il codice seguente\n",
    "\n",
    "    import pandas as pd\n",
    "    df = pd.read_csv(input_file_name)\n",
    "        \n",
    "legge il file `input_file_name` e lo restituisce in un oggetto di tipo `DataFrame`.\n",
    "\n",
    "Per recuperare solo le prime `n` righe di un *dataframe* si usa una sintassi di *slicing*:\n",
    "\n",
    "    df[0:n]\n",
    "    df[:n]\n",
    "    \n",
    "Il metodo `head()` restituisce un nuovo *dataframe* con i primi record del *dataframe* invocante:\n",
    "\n",
    "     df.head()\n",
    "\n",
    "Per iterare lungo le righe del *data frame* basta invocare il metodo `iterrows()` che restituisce un oggetto di tipo `generator` da usare in un ciclo `for` di scansione.\n",
    "\n",
    "    for (index, row) in df.iterrows():\n",
    "        do_something_with_row\n",
    "\n",
    "Ogni elemento fornito dell'iteratore è una tupla di due elementi:\n",
    "- `index`: indice di riga (valore intero)\n",
    "- `row`: oggetto di tipo `Series` che contiene i campi del *record*\n",
    "\n",
    "L'accesso al campo relativo alla colonna con nome `column_name` del *record* `row` avviene usando la seguente sintassi:\n",
    "\n",
    "    row[column_name]\n",
    "    \n",
    "**NOTA BENE**: il valore restituito da `row[column_name]` rispetta il tipo della colonna `column_name` nel file csv in input. Ad esempio se il campo nel dataset csv è un valore intero allora il valore di `row[column_name]` sarà di tipo `int`."
   ]
  },
  {
   "cell_type": "markdown",
   "metadata": {},
   "source": [
    "### Come interpretare *letteralmente* una stringa "
   ]
  },
  {
   "cell_type": "markdown",
   "metadata": {},
   "source": [
    "La funzione `literal_eval()` del modulo `ast`  prende come argomento una stringa e restituice l'oggetto rappresentato *letteralmente* dalla stringa."
   ]
  },
  {
   "cell_type": "code",
   "execution_count": 2,
   "metadata": {},
   "outputs": [
    {
     "data": {
      "text/plain": [
       "[1, 2, 3]"
      ]
     },
     "execution_count": 2,
     "metadata": {},
     "output_type": "execute_result"
    }
   ],
   "source": [
    "import ast\n",
    "\n",
    "ast.literal_eval(\"[1,2,3]\")"
   ]
  },
  {
   "cell_type": "markdown",
   "metadata": {},
   "source": [
    "### Come testare il tipo di un oggetto"
   ]
  },
  {
   "cell_type": "markdown",
   "metadata": {},
   "source": [
    "La funzione `isinstance()` restituisce il valore `True` se l'oggetto passato come primo argomento è del tipo specificato come secondo argomento."
   ]
  },
  {
   "cell_type": "code",
   "execution_count": 13,
   "metadata": {},
   "outputs": [
    {
     "data": {
      "text/plain": [
       "True"
      ]
     },
     "execution_count": 13,
     "metadata": {},
     "output_type": "execute_result"
    }
   ],
   "source": [
    "isinstance(10, int)"
   ]
  },
  {
   "cell_type": "markdown",
   "metadata": {},
   "source": [
    "### Come testare se un valore è NaN (Not a Number)"
   ]
  },
  {
   "cell_type": "markdown",
   "metadata": {},
   "source": [
    "La funzione `isnan()` del modulo `numpy` restituisce il valore `True` se il valore passato come argomento è NaN."
   ]
  },
  {
   "cell_type": "code",
   "execution_count": 11,
   "metadata": {},
   "outputs": [
    {
     "data": {
      "text/plain": [
       "False"
      ]
     },
     "execution_count": 11,
     "metadata": {},
     "output_type": "execute_result"
    }
   ],
   "source": [
    "import numpy\n",
    "\n",
    "numpy.isnan(10)"
   ]
  },
  {
   "cell_type": "markdown",
   "metadata": {},
   "source": [
    "### Funzioni/Metodi suggeriti"
   ]
  },
  {
   "cell_type": "markdown",
   "metadata": {},
   "source": [
    "- la funzione `sorted()` prende come argomento un oggetto iterabile e restituisce la lista dei valori ordinati in senso crescente. Ad esempio la seguente istruzione ordina una lista di tuple prima per il primo elemento e poi per il secondo."
   ]
  },
  {
   "cell_type": "code",
   "execution_count": 16,
   "metadata": {},
   "outputs": [
    {
     "data": {
      "text/plain": [
       "[(2.34, 10), (10.2, 1), (11.02, 2), (11.02, 3)]"
      ]
     },
     "execution_count": 16,
     "metadata": {},
     "output_type": "execute_result"
    }
   ],
   "source": [
    "sorted([(11.02, 3), (10.2, 1), (11.02, 2), (2.34, 10)])"
   ]
  },
  {
   "cell_type": "markdown",
   "metadata": {},
   "source": [
    "- Il metodo `append()` degli oggetti di tipo `list` aggiunge in coda alla lista invocante il valore passato come argomento"
   ]
  },
  {
   "cell_type": "code",
   "execution_count": 17,
   "metadata": {},
   "outputs": [],
   "source": [
    "lista = [1,2,3,4]\n",
    "lista.append([5, 6])"
   ]
  },
  {
   "cell_type": "code",
   "execution_count": 18,
   "metadata": {},
   "outputs": [
    {
     "data": {
      "text/plain": [
       "[1, 2, 3, 4, [5, 6]]"
      ]
     },
     "execution_count": 18,
     "metadata": {},
     "output_type": "execute_result"
    }
   ],
   "source": [
    "lista"
   ]
  },
  {
   "cell_type": "markdown",
   "metadata": {},
   "source": [
    "- Il metodo `extend()` degli oggetti di tipo `list` estende in coda la lista invocante con i valori contenuti nell'argomento passato"
   ]
  },
  {
   "cell_type": "code",
   "execution_count": 27,
   "metadata": {},
   "outputs": [],
   "source": [
    "lista = [1,2,3,4]\n",
    "lista.extend([5, 6])"
   ]
  },
  {
   "cell_type": "code",
   "execution_count": 28,
   "metadata": {},
   "outputs": [
    {
     "data": {
      "text/plain": [
       "[1, 2, 3, 4, 5, 6]"
      ]
     },
     "execution_count": 28,
     "metadata": {},
     "output_type": "execute_result"
    }
   ],
   "source": [
    "lista"
   ]
  },
  {
   "cell_type": "markdown",
   "metadata": {},
   "source": [
    "- il metodo `get` degli oggetti di tipo `dict` permette di ottenere il valore relativo alla chiave passata come primo argomento e di restituire il secondo argomento (valore di default) nel caso la chiave non fosse presente nel dizionario. "
   ]
  },
  {
   "cell_type": "code",
   "execution_count": 1,
   "metadata": {},
   "outputs": [],
   "source": [
    "my_dict = {'due': 2, 'quattro': 4, 'sei': 6}"
   ]
  },
  {
   "cell_type": "code",
   "execution_count": 5,
   "metadata": {},
   "outputs": [
    {
     "data": {
      "text/plain": [
       "2"
      ]
     },
     "execution_count": 5,
     "metadata": {},
     "output_type": "execute_result"
    }
   ],
   "source": [
    "my_dict.get('due', -1)"
   ]
  },
  {
   "cell_type": "code",
   "execution_count": 6,
   "metadata": {},
   "outputs": [
    {
     "data": {
      "text/plain": [
       "-1"
      ]
     },
     "execution_count": 6,
     "metadata": {},
     "output_type": "execute_result"
    }
   ],
   "source": [
    "my_dict.get('cinque', -1)"
   ]
  }
 ],
 "metadata": {
  "kernelspec": {
   "display_name": "Python 3",
   "language": "python",
   "name": "python3"
  },
  "language_info": {
   "codemirror_mode": {
    "name": "ipython",
    "version": 3
   },
   "file_extension": ".py",
   "mimetype": "text/x-python",
   "name": "python",
   "nbconvert_exporter": "python",
   "pygments_lexer": "ipython3",
   "version": "3.7.1"
  }
 },
 "nbformat": 4,
 "nbformat_minor": 2
}
