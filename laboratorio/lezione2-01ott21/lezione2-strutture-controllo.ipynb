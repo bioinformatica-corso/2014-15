{
 "cells": [
  {
   "cell_type": "markdown",
   "metadata": {},
   "source": [
    "# Python - Strutture di controllo dell'esecuzione\n",
    "\n",
    "> ### Strutture di selezione\n",
    ">> #### Costrutto `if`\n",
    ">> #### Costrutto `if-else`\n",
    ">> #### Costrutto `if-elif`\n",
    "> ### Strutture iterative\n",
    ">> #### Ciclo `while`"
   ]
  },
  {
   "cell_type": "markdown",
   "metadata": {},
   "source": [
    "## Costrutto `if`\n",
    "\n",
    "    if [condition]:\n",
    "        [if_block]\n",
    "        \n",
    "- `[condition]`: espressione logica\n",
    "- `[if_block]`: blocco di istruzioni da eseguire solo se `[condition]` restituisce `True`\n",
    "\n",
    "**Regola**:\n",
    "- `[if_block]` deve essere indentato 4 volte ripetto all'intestazione `if`"
   ]
  },
  {
   "cell_type": "code",
   "execution_count": null,
   "metadata": {},
   "outputs": [],
   "source": [
    "my_number = 15\n",
    "\n",
    "if my_number > 10:\n",
    "    print(\"My number is bigger than 10\")"
   ]
  },
  {
   "cell_type": "markdown",
   "metadata": {},
   "source": [
    "## Costrutto `if-else`\n",
    "\n",
    "    if [condition]:\n",
    "        [if_block]\n",
    "    else:\n",
    "        [else_block]\n",
    "\n",
    "- `[else_block]`: blocco di istruzioni da eseguire se `[condition]` restituisce `False`\n",
    "\n",
    "**Regola**:\n",
    "- `[if_block]` e `[else_block]` devono essere indentati 4 volte ripetto all'intestazione `if` ed `else`"
   ]
  },
  {
   "cell_type": "code",
   "execution_count": null,
   "metadata": {},
   "outputs": [],
   "source": [
    "my_number = 5\n",
    "\n",
    "if my_number > 10:\n",
    "    print(\"My number is bigger than 10\")\n",
    "else:\n",
    "    print(\"My number is smaller than 10\")"
   ]
  },
  {
   "cell_type": "markdown",
   "metadata": {},
   "source": [
    "## Costrutto `if-elif`\n",
    "\n",
    "    if [condition1]:\n",
    "        [if_block]\n",
    "    elif [condition2]:\n",
    "        [elif_block1]\n",
    "    elif [condition3]:\n",
    "        [elif_block1]\n",
    "    ...\n",
    "    else:\n",
    "        [else_block]"
   ]
  },
  {
   "cell_type": "code",
   "execution_count": null,
   "metadata": {},
   "outputs": [],
   "source": [
    "my_number = 27\n",
    "\n",
    "if my_number < 0:\n",
    "    print(\"My number is smaller than 0\")\n",
    "elif my_number >= 0 and my_number < 10:\n",
    "    print(\"My number is between 0 and 9\")\n",
    "elif my_number >= 10 and my_number < 20:\n",
    "    print(\"My number is between 10 and 19\")\n",
    "elif my_number >= 20 and my_number < 30:\n",
    "    print(\"My number is between 20 and 29\")\n",
    "else:\n",
    "    print(\"My number is bigger than 29\")"
   ]
  },
  {
   "cell_type": "markdown",
   "metadata": {},
   "source": [
    "## cycle `while`\n",
    "\n",
    "    while [condition]:\n",
    "        [while_block]\n",
    "        \n",
    "**Regola**:\n",
    "- `[while_block]` deve essere indentato 4 volte ripetto all'intestazione `while`"
   ]
  },
  {
   "cell_type": "code",
   "execution_count": null,
   "metadata": {},
   "outputs": [],
   "source": [
    "my_number = 10\n",
    "\n",
    "while my_number > 0:\n",
    "    print(my_number)\n",
    "    my_number = my_number - 1"
   ]
  },
  {
   "cell_type": "markdown",
   "metadata": {},
   "source": [
    "**Attenzione ai loop infiniti!**"
   ]
  },
  {
   "cell_type": "code",
   "execution_count": null,
   "metadata": {},
   "outputs": [],
   "source": [
    "my_number = 10\n",
    "\n",
    "while my_number > 0:\n",
    "    print(my_number)\n",
    "    my_number = my_number + 1"
   ]
  }
 ],
 "metadata": {
  "kernelspec": {
   "display_name": "Python 3",
   "language": "python",
   "name": "python3"
  },
  "language_info": {
   "codemirror_mode": {
    "name": "ipython",
    "version": 3
   },
   "file_extension": ".py",
   "mimetype": "text/x-python",
   "name": "python",
   "nbconvert_exporter": "python",
   "pygments_lexer": "ipython3",
   "version": "3.7.1"
  }
 },
 "nbformat": 4,
 "nbformat_minor": 2
}
