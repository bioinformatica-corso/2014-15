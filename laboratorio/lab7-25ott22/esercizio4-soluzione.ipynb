{
 "cells": [
  {
   "cell_type": "markdown",
   "metadata": {},
   "source": [
    "# Esercizio 4 - Soluzione"
   ]
  },
  {
   "cell_type": "markdown",
   "metadata": {},
   "source": [
    "### 1) Parametri in input"
   ]
  },
  {
   "cell_type": "code",
   "execution_count": 1,
   "metadata": {},
   "outputs": [],
   "source": [
    "genetic_code_name = './genetic-code.txt'\n",
    "embl_file_name = './M10051.embl'"
   ]
  },
  {
   "cell_type": "markdown",
   "metadata": {},
   "source": [
    "### 2) Importazione del modulo `re`"
   ]
  },
  {
   "cell_type": "code",
   "execution_count": 2,
   "metadata": {},
   "outputs": [],
   "source": [
    "import re"
   ]
  },
  {
   "cell_type": "markdown",
   "metadata": {},
   "source": [
    "### 3) Definizione della funzione `format_fasta()`\n",
    "\n",
    "La funzione prende come argomenti un *header* `FASTA` (contenente un simbolo `>` all'inizio), una sequenza nucleotidica (o di proteina) e la lunghezza dei *record* della sequenza. La funzione restituisce una stringa contenente la sequenza in formato `FASTA` separata in *record* di un numero di caratteri pari al valore del terzo argomento.\n",
    "\n",
    "*Suggerimento*: usare la funzione `compile()` per produrre un'espressione regolare variabile."
   ]
  },
  {
   "cell_type": "code",
   "execution_count": 3,
   "metadata": {},
   "outputs": [],
   "source": [
    "def format_fasta(header, sequence, record_length = 80):    \n",
    "    record_length = str(record_length)\n",
    "    p = re.compile('\\w{,' + record_length + '}')   \n",
    "    return header + '\\n' + '\\n'.join(re.findall(p, sequence))"
   ]
  },
  {
   "cell_type": "markdown",
   "metadata": {},
   "source": [
    "### 4) Lettura del file del codice genetico in una lista di righe"
   ]
  },
  {
   "cell_type": "code",
   "execution_count": 5,
   "metadata": {},
   "outputs": [],
   "source": [
    "with open(genetic_code_name, 'r') as genetic_file:\n",
    "    genetic_code_rows = genetic_file.readlines()"
   ]
  },
  {
   "cell_type": "code",
   "execution_count": 6,
   "metadata": {},
   "outputs": [
    {
     "data": {
      "text/plain": [
       "['A,gct,gcc,gca,gcg\\n',\n",
       " 'C,tgt,tgc\\n',\n",
       " 'D,gat,gac\\n',\n",
       " 'E,gaa,gag\\n',\n",
       " 'F,ttt,ttc\\n',\n",
       " 'G,ggt,ggc,gga,ggg\\n',\n",
       " 'H,cat,cac\\n',\n",
       " 'I,att,atc,ata\\n',\n",
       " 'K,aaa,aag\\n',\n",
       " 'L,tta,ttg,ctt,ctc,cta,ctg\\n',\n",
       " 'M,atg\\n',\n",
       " 'N,aat,aac\\n',\n",
       " 'P,cct,ccc,cca,ccg\\n',\n",
       " 'Q,caa,cag\\n',\n",
       " 'R,cgt,cgc,cga,cgg,aga,agg\\n',\n",
       " 'S,tct,tcc,tca,tcg,agt,agc\\n',\n",
       " 'T,act,acc,aca,acg\\n',\n",
       " 'V,gtt,gtc,gta,gtg\\n',\n",
       " 'W,tgg\\n',\n",
       " 'Y,tat,tac\\n',\n",
       " 's,tga,taa,tag']"
      ]
     },
     "execution_count": 6,
     "metadata": {},
     "output_type": "execute_result"
    }
   ],
   "source": [
    "genetic_code_rows"
   ]
  },
  {
   "cell_type": "markdown",
   "metadata": {},
   "source": [
    "### 5) Costruzione del dizionario del codice genetico"
   ]
  },
  {
   "cell_type": "markdown",
   "metadata": {},
   "source": [
    "Costruire il dizionario che contiene il codice genetico:\n",
    "\n",
    "- *chiave*: sequenza del codone\n",
    "- *valore*: simbolo del corrispondente amminoacido\n",
    "\n",
    "a) Costruire la lista delle tuple *(chiave, valore)*.\n",
    "\n",
    "*Suggerimento1*: usare il metodo `split()` delle stringhe per separare la stringa invocante sulla base del separatore passato come argomento.\n",
    "\n",
    "*Suggerimento2*: usare il metodo `rstrip()` delle stringhe per rimuovere il più lungo suffisso della stringa invocante che contiene caratteri della stringa passata come argomento. Invocando `rstrip()` senza argomento, vengono rimossi tutti i caratteri di spazio finali (compreso `\\n`).\n",
    "\n",
    "*Suggerimento3*: usare la funzione `product()` del modulo `itertools` che effettua il prodotto cartesiano tra le liste passate come argomento."
   ]
  },
  {
   "cell_type": "code",
   "execution_count": 11,
   "metadata": {},
   "outputs": [],
   "source": [
    "import itertools"
   ]
  },
  {
   "cell_type": "code",
   "execution_count": 15,
   "metadata": {},
   "outputs": [],
   "source": [
    "split_genetic_code = [row.rstrip().split(',') for row in genetic_code_rows]"
   ]
  },
  {
   "cell_type": "code",
   "execution_count": 16,
   "metadata": {},
   "outputs": [],
   "source": [
    "key_value_list = []\n",
    "\n",
    "for record_list in split_genetic_code:\n",
    "    key_value_list.extend(list(itertools.product(record_list[1:], [record_list[0]])))"
   ]
  },
  {
   "cell_type": "code",
   "execution_count": 17,
   "metadata": {},
   "outputs": [
    {
     "data": {
      "text/plain": [
       "[('gct', 'A'),\n",
       " ('gcc', 'A'),\n",
       " ('gca', 'A'),\n",
       " ('gcg', 'A'),\n",
       " ('tgt', 'C'),\n",
       " ('tgc', 'C'),\n",
       " ('gat', 'D'),\n",
       " ('gac', 'D'),\n",
       " ('gaa', 'E'),\n",
       " ('gag', 'E'),\n",
       " ('ttt', 'F'),\n",
       " ('ttc', 'F'),\n",
       " ('ggt', 'G'),\n",
       " ('ggc', 'G'),\n",
       " ('gga', 'G'),\n",
       " ('ggg', 'G'),\n",
       " ('cat', 'H'),\n",
       " ('cac', 'H'),\n",
       " ('att', 'I'),\n",
       " ('atc', 'I'),\n",
       " ('ata', 'I'),\n",
       " ('aaa', 'K'),\n",
       " ('aag', 'K'),\n",
       " ('tta', 'L'),\n",
       " ('ttg', 'L'),\n",
       " ('ctt', 'L'),\n",
       " ('ctc', 'L'),\n",
       " ('cta', 'L'),\n",
       " ('ctg', 'L'),\n",
       " ('atg', 'M'),\n",
       " ('aat', 'N'),\n",
       " ('aac', 'N'),\n",
       " ('cct', 'P'),\n",
       " ('ccc', 'P'),\n",
       " ('cca', 'P'),\n",
       " ('ccg', 'P'),\n",
       " ('caa', 'Q'),\n",
       " ('cag', 'Q'),\n",
       " ('cgt', 'R'),\n",
       " ('cgc', 'R'),\n",
       " ('cga', 'R'),\n",
       " ('cgg', 'R'),\n",
       " ('aga', 'R'),\n",
       " ('agg', 'R'),\n",
       " ('tct', 'S'),\n",
       " ('tcc', 'S'),\n",
       " ('tca', 'S'),\n",
       " ('tcg', 'S'),\n",
       " ('agt', 'S'),\n",
       " ('agc', 'S'),\n",
       " ('act', 'T'),\n",
       " ('acc', 'T'),\n",
       " ('aca', 'T'),\n",
       " ('acg', 'T'),\n",
       " ('gtt', 'V'),\n",
       " ('gtc', 'V'),\n",
       " ('gta', 'V'),\n",
       " ('gtg', 'V'),\n",
       " ('tgg', 'W'),\n",
       " ('tat', 'Y'),\n",
       " ('tac', 'Y'),\n",
       " ('tga', 's'),\n",
       " ('taa', 's'),\n",
       " ('tag', 's')]"
      ]
     },
     "execution_count": 17,
     "metadata": {},
     "output_type": "execute_result"
    }
   ],
   "source": [
    "key_value_list"
   ]
  },
  {
   "cell_type": "markdown",
   "metadata": {},
   "source": [
    "b) Costruire il dizionario."
   ]
  },
  {
   "cell_type": "code",
   "execution_count": 18,
   "metadata": {},
   "outputs": [],
   "source": [
    "genetic_code_dict = dict(key_value_list)"
   ]
  },
  {
   "cell_type": "code",
   "execution_count": 19,
   "metadata": {},
   "outputs": [
    {
     "data": {
      "text/plain": [
       "{'gct': 'A',\n",
       " 'gcc': 'A',\n",
       " 'gca': 'A',\n",
       " 'gcg': 'A',\n",
       " 'tgt': 'C',\n",
       " 'tgc': 'C',\n",
       " 'gat': 'D',\n",
       " 'gac': 'D',\n",
       " 'gaa': 'E',\n",
       " 'gag': 'E',\n",
       " 'ttt': 'F',\n",
       " 'ttc': 'F',\n",
       " 'ggt': 'G',\n",
       " 'ggc': 'G',\n",
       " 'gga': 'G',\n",
       " 'ggg': 'G',\n",
       " 'cat': 'H',\n",
       " 'cac': 'H',\n",
       " 'att': 'I',\n",
       " 'atc': 'I',\n",
       " 'ata': 'I',\n",
       " 'aaa': 'K',\n",
       " 'aag': 'K',\n",
       " 'tta': 'L',\n",
       " 'ttg': 'L',\n",
       " 'ctt': 'L',\n",
       " 'ctc': 'L',\n",
       " 'cta': 'L',\n",
       " 'ctg': 'L',\n",
       " 'atg': 'M',\n",
       " 'aat': 'N',\n",
       " 'aac': 'N',\n",
       " 'cct': 'P',\n",
       " 'ccc': 'P',\n",
       " 'cca': 'P',\n",
       " 'ccg': 'P',\n",
       " 'caa': 'Q',\n",
       " 'cag': 'Q',\n",
       " 'cgt': 'R',\n",
       " 'cgc': 'R',\n",
       " 'cga': 'R',\n",
       " 'cgg': 'R',\n",
       " 'aga': 'R',\n",
       " 'agg': 'R',\n",
       " 'tct': 'S',\n",
       " 'tcc': 'S',\n",
       " 'tca': 'S',\n",
       " 'tcg': 'S',\n",
       " 'agt': 'S',\n",
       " 'agc': 'S',\n",
       " 'act': 'T',\n",
       " 'acc': 'T',\n",
       " 'aca': 'T',\n",
       " 'acg': 'T',\n",
       " 'gtt': 'V',\n",
       " 'gtc': 'V',\n",
       " 'gta': 'V',\n",
       " 'gtg': 'V',\n",
       " 'tgg': 'W',\n",
       " 'tat': 'Y',\n",
       " 'tac': 'Y',\n",
       " 'tga': 's',\n",
       " 'taa': 's',\n",
       " 'tag': 's'}"
      ]
     },
     "execution_count": 19,
     "metadata": {},
     "output_type": "execute_result"
    }
   ],
   "source": [
    "genetic_code_dict"
   ]
  },
  {
   "cell_type": "markdown",
   "metadata": {},
   "source": [
    "### 6) Lettura del file `EMBL` in un'unica stringa"
   ]
  },
  {
   "cell_type": "code",
   "execution_count": 20,
   "metadata": {},
   "outputs": [],
   "source": [
    "with open(embl_file_name, 'r') as embl_file:\n",
    "    embl_str = embl_file.read()"
   ]
  },
  {
   "cell_type": "code",
   "execution_count": 21,
   "metadata": {},
   "outputs": [
    {
     "name": "stdout",
     "output_type": "stream",
     "text": [
      "ID   M10051; SV 1; linear; mRNA; STD; HUM; 4723 BP.\n",
      "XX\n",
      "AC   M10051;\n",
      "XX\n",
      "DT   02-JUL-1986 (Rel. 09, Created)\n",
      "DT   14-NOV-2006 (Rel. 89, Last updated, Version 7)\n",
      "XX\n",
      "DE   Human insulin receptor mRNA, complete cds.\n",
      "XX\n",
      "KW   insulin receptor; tyrosine kinase.\n",
      "XX\n",
      "OS   Homo sapiens (human)\n",
      "OC   Eukaryota; Metazoa; Chordata; Craniata; Vertebrata; Euteleostomi; Mammalia;\n",
      "OC   Eutheria; Euarchontoglires; Primates; Haplorrhini; Catarrhini; Hominidae;\n",
      "OC   Homo.\n",
      "XX\n",
      "RN   [1]\n",
      "RP   1-4723\n",
      "RX   DOI; 10.1016/0092-8674(85)90334-4.\n",
      "RX   PUBMED; 2859121.\n",
      "RA   Ebina Y., Ellis L., Jarnagin K., Edery M., Graf L., Clauser E., Ou J.-H.,\n",
      "RA   Masiarz F., Kan Y.W., Goldfine I.D., Roth R.A., Rutter W.J.;\n",
      "RT   \"The human insulin receptor cDNA: the structural basis for\n",
      "RT   hormone-activated transmembrane signalling\";\n",
      "RL   Cell 40(4):747-758(1985).\n",
      "XX\n",
      "DR   MD5; e4e6ebf2e723a500c1dd62385c279351.\n",
      "DR   Ensembl-Gn; ENSG00000171105; homo_sapiens.\n",
      "DR   Ensembl-Tr; ENST00000302850; homo_sapiens.\n",
      "DR   Ensembl-Tr; ENST00000341500; homo_sapiens.\n",
      "DR   EuropePMC; PMC2739203; 19682364.\n",
      "DR   EuropePMC; PMC3164640; 21909271.\n",
      "DR   EuropePMC; PMC452597; 15146055.\n",
      "XX\n",
      "CC   [1] suggests that the insulin receptor may be the cellular homolog\n",
      "CC   of the v-ros transforming (oncogene) protein.  [1] notes\n",
      "CC   similarities between the insulin receptor and several growth factor\n",
      "CC   receptors and oncogenes.  Insulin receptor is a heterodimer\n",
      "CC   consisting of 2 alpha and 2 beta subunits.  Beta-prime may be a\n",
      "CC   cleavage product produced upon binding of insulin.  [1] suggests\n",
      "CC   that translation may begin at the 'atg' start codon at positions\n",
      "CC   79-81 with protein cleavage occurring after position 120 to yield\n",
      "CC   the signal peptide.  [1] gives illustrations of the various domains\n",
      "CC   present in the protein.  A draft entry and sequence for [1] in\n",
      "CC   computer-readable form were kindly provided by K. Jarnagin\n",
      "CC   (30-JUL-1985).\n",
      "XX\n",
      "FH   Key             Location/Qualifiers\n",
      "FH\n",
      "FT   source          1..4723\n",
      "FT                   /organism=\"Homo sapiens\"\n",
      "FT                   /map=\"19p13.3-p13.2\"\n",
      "FT                   /mol_type=\"mRNA\"\n",
      "FT                   /db_xref=\"taxon:9606\"\n",
      "FT   sig_peptide     137..219\n",
      "FT                   /note=\"insulin receptor signal peptide\"\n",
      "FT   CDS             139..4287\n",
      "FT                   /codon_start=1\n",
      "FT                   /gene=\"INSR\"\n",
      "FT                   /note=\"insulin receptor precursor\"\n",
      "FT                   /db_xref=\"GOA:P06213\"\n",
      "FT                   /db_xref=\"H-InvDB:HIT000194074.15\"\n",
      "FT                   /db_xref=\"HGNC:HGNC:6091\"\n",
      "FT                   /db_xref=\"InterPro:IPR000494\"\n",
      "FT                   /db_xref=\"InterPro:IPR000719\"\n",
      "FT                   /db_xref=\"InterPro:IPR001245\"\n",
      "FT                   /db_xref=\"InterPro:IPR002011\"\n",
      "FT                   /db_xref=\"InterPro:IPR003961\"\n",
      "FT                   /db_xref=\"InterPro:IPR006211\"\n",
      "FT                   /db_xref=\"InterPro:IPR006212\"\n",
      "FT                   /db_xref=\"InterPro:IPR008266\"\n",
      "FT                   /db_xref=\"InterPro:IPR009030\"\n",
      "FT                   /db_xref=\"InterPro:IPR011009\"\n",
      "FT                   /db_xref=\"InterPro:IPR013783\"\n",
      "FT                   /db_xref=\"InterPro:IPR016246\"\n",
      "FT                   /db_xref=\"InterPro:IPR017441\"\n",
      "FT                   /db_xref=\"InterPro:IPR020635\"\n",
      "FT                   /db_xref=\"InterPro:IPR032675\"\n",
      "FT                   /db_xref=\"PDB:1GAG\"\n",
      "FT                   /db_xref=\"PDB:1I44\"\n",
      "FT                   /db_xref=\"PDB:1IR3\"\n",
      "FT                   /db_xref=\"PDB:1IRK\"\n",
      "FT                   /db_xref=\"PDB:1P14\"\n",
      "FT                   /db_xref=\"PDB:1RQQ\"\n",
      "FT                   /db_xref=\"PDB:2AUH\"\n",
      "FT                   /db_xref=\"PDB:2B4S\"\n",
      "FT                   /db_xref=\"PDB:2HR7\"\n",
      "FT                   /db_xref=\"PDB:2MFR\"\n",
      "FT                   /db_xref=\"PDB:2Z8C\"\n",
      "FT                   /db_xref=\"PDB:3BU3\"\n",
      "FT                   /db_xref=\"PDB:3BU5\"\n",
      "FT                   /db_xref=\"PDB:3BU6\"\n",
      "FT                   /db_xref=\"PDB:3EKK\"\n",
      "FT                   /db_xref=\"PDB:3EKN\"\n",
      "FT                   /db_xref=\"PDB:3ETA\"\n",
      "FT                   /db_xref=\"PDB:3W11\"\n",
      "FT                   /db_xref=\"PDB:3W12\"\n",
      "FT                   /db_xref=\"PDB:3W13\"\n",
      "FT                   /db_xref=\"PDB:3W14\"\n",
      "FT                   /db_xref=\"PDB:4IBM\"\n",
      "FT                   /db_xref=\"PDB:4OGA\"\n",
      "FT                   /db_xref=\"PDB:4XLV\"\n",
      "FT                   /db_xref=\"PDB:4XSS\"\n",
      "FT                   /db_xref=\"PDB:4XST\"\n",
      "FT                   /db_xref=\"PDB:4ZXB\"\n",
      "FT                   /db_xref=\"PDB:5E1S\"\n",
      "FT                   /db_xref=\"PDB:5HHW\"\n",
      "FT                   /db_xref=\"UniProtKB/Swiss-Prot:P06213\"\n",
      "FT                   /protein_id=\"AAA59174.1\"\n",
      "FT                   /translation=\"MGTGGRRGAAAAPLLVAVAALLLGAAGHLYPGEVCPGMDIRNNLT\n",
      "FT                   RLHELENCSVIEGHLQILLMFKTRPEDFRDLSFPKLIMITDYLLLFRVYGLESLKDLFP\n",
      "FT                   NLTVIRGSRLFFNYALVIFEMVHLKELGLYNLMNITRGSVRIEKNNELCYLATIDWSRI\n",
      "FT                   LDSVEDNHIVLNKDDNEECGDICPGTAKGKTNCPATVINGQFVERCWTHSHCQKVCPTI\n",
      "FT                   CKSHGCTAEGLCCHSECLGNCSQPDDPTKCVACRNFYLDGRCVETCPPPYYHFQDWRCV\n",
      "FT                   NFSFCQDLHHKCKNSRRQGCHQYVIHNNKCIPECPSGYTMNSSNLLCTPCLGPCPKVCH\n",
      "FT                   LLEGEKTIDSVTSAQELRGCTVINGSLIINIRGGNNLAAELEANLGLIEEISGYLKIRR\n",
      "FT                   SYALVSLSFFRKLRLIRGETLEIGNYSFYALDNQNLRQLWDWSKHNLTTTQGKLFFHYN\n",
      "FT                   PKLCLSEIHKMEEVSGTKGRQERNDIALKTNGDKASCENELLKFSYIRTSFDKILLRWE\n",
      "FT                   PYWPPDFRDLLGFMLFYKEAPYQNVTEFDGQDACGSNSWTVVDIDPPLRSNDPKSQNHP\n",
      "FT                   GWLMRGLKPWTQYAIFVKTLVTFSDERRTYGAKSDIIYVQTDATNPSVPLDPISVSNSS\n",
      "FT                   SQIILKWKPPSDPNGNITHYLVFWERQAEDSELFELDYCLKGLKLPSRTWSPPFESEDS\n",
      "FT                   QKHNQSEYEDSAGECCSCPKTDSQILKELEESSFRKTFEDYLHNVVFVPRKTSSGTGAE\n",
      "FT                   DPRPSRKRRSLGDVGNVTVAVPTVAAFPNTSSTSVPTSPEEHRPFEKVVNKESLVISGL\n",
      "FT                   RHFTGYRIELQACNQDTPEERCSVAAYVSARTMPEAKADDIVGPVTHEIFENNVVHLMW\n",
      "FT                   QEPKEPNGLIVLYEVSYRRYGDEELHLCVSRKHFALERGCRLRGLSPGNYSVRIRATSL\n",
      "FT                   AGNGSWTEPTYFYVTDYLDVPSNIAKIIIGPLIFVFLFSVVIGSIYLFLRKRQPDGPLG\n",
      "FT                   PLYASSNPEYLSASDVFPCSVYVPDEWEVSREKITLLRELGQGSFGMVYEGNARDIIKG\n",
      "FT                   EAETRVAVKTVNESASLRERIEFLNEASVMKGFTCHHVVRLLGVVSKGQPTLVVMELMA\n",
      "FT                   HGDLKSYLRSLRPEAENNPGRPPPTLQEMIQMAAEIADGMAYLNAKKFVHRDLAARNCM\n",
      "FT                   VAHDFTVKIGDFGMTRDIYETDYYRKGGKGLLPVRWMAPESLKDGVFTTSSDMWSFGVV\n",
      "FT                   LWEITSLAEQPYQGLSNEQVLKFVMDGGYLDQPDNCPERVTDLMRMCWQFNPKMRPTFL\n",
      "FT                   EIVNLLKDDLHPSFPEVSFFHSEENKAPESEELEMEFEDMENVPLDRSSHCQREEAGGR\n",
      "FT                   DGGSSLGFKRSYEEHIPYTHMNGGKKNGRILTLPRSNPS\"\n",
      "FT   mat_peptide     220..2424\n",
      "FT                   /gene=\"INSR\"\n",
      "FT                   /note=\"insulin receptor alpha subunit\"\n",
      "FT   mat_peptide     2425..4284\n",
      "FT                   /gene=\"INSR\"\n",
      "FT                   /note=\"insulin receptor beta subunit\"\n",
      "FT   mat_peptide     2425..2469\n",
      "FT                   /partial\n",
      "FT                   /gene=\"INSR\"\n",
      "FT                   /note=\"insulin receptor beta-prime subunit\"\n",
      "XX\n",
      "SQ   Sequence 4723 BP; 1068 A; 1298 C; 1311 G; 1046 T; 0 other;\n",
      "     ggggggctgc gcggccgggt cggtgcgcac acgagaagga cgcgcggccc ccagcgctct        60\n",
      "     tgggggccgc ctcggagcat gacccccgcg ggccagcgcc gcgcgcctga tccgaggaga       120\n",
      "     ccccgcgctc ccgcagccat gggcaccggg ggccggcggg gggcggcggc cgcgccgctg       180\n",
      "     ctggtggcgg tggccgcgct gctactgggc gccgcgggcc acctgtaccc cggagaggtg       240\n",
      "     tgtcccggca tggatatccg gaacaacctc actaggttgc atgagctgga gaattgctct       300\n",
      "     gtcatcgaag gacacttgca gatactcttg atgttcaaaa cgaggcccga agatttccga       360\n",
      "     gacctcagtt tccccaaact catcatgatc actgattact tgctgctctt ccgggtctat       420\n",
      "     gggctcgaga gcctgaagga cctgttcccc aacctcacgg tcatccgggg atcacgactg       480\n",
      "     ttctttaact acgcgctggt catcttcgag atggttcacc tcaaggaact cggcctctac       540\n",
      "     aacctgatga acatcacccg gggttctgtc cgcatcgaga agaacaatga gctctgttac       600\n",
      "     ttggccacta tcgactggtc ccgtatcctg gattccgtgg aggataatca catcgtgttg       660\n",
      "     aacaaagatg acaacgagga gtgtggagac atctgtccgg gtaccgcgaa gggcaagacc       720\n",
      "     aactgccccg ccaccgtcat caacgggcag tttgtcgaac gatgttggac tcatagtcac       780\n",
      "     tgccagaaag tttgcccgac catctgtaag tcacacggct gcaccgccga aggcctctgt       840\n",
      "     tgccacagcg agtgcctggg caactgttct cagcccgacg accccaccaa gtgcgtggcc       900\n",
      "     tgccgcaact tctacctgga cggcaggtgt gtggagacct gcccgccccc gtactaccac       960\n",
      "     ttccaggact ggcgctgtgt gaacttcagc ttctgccagg acctgcacca caaatgcaag      1020\n",
      "     aactcgcgga ggcagggctg ccaccaatac gtcattcaca acaacaagtg catccctgag      1080\n",
      "     tgtccctccg ggtacacgat gaattccagc aacttgctgt gcaccccatg cctgggtccc      1140\n",
      "     tgtcccaagg tgtgccacct cctagaaggc gagaagacca tcgactcggt gacgtctgcc      1200\n",
      "     caggagctcc gaggatgcac cgtcatcaac gggagtctga tcatcaacat tcgaggaggc      1260\n",
      "     aacaatctgg cagctgagct agaagccaac ctcggcctca ttgaagaaat ttcagggtat      1320\n",
      "     ctaaaaatcc gccgatccta cgctctggtg tcactttcct tcttccggaa gttacgtctg      1380\n",
      "     attcgaggag agaccttgga aattgggaac tactccttct atgccttgga caaccagaac      1440\n",
      "     ctaaggcagc tctgggactg gagcaaacac aacctcacca ccactcaggg gaaactcttc      1500\n",
      "     ttccactata accccaaact ctgcttgtca gaaatccaca agatggaaga agtttcagga      1560\n",
      "     accaaggggc gccaggagag aaacgacatt gccctgaaga ccaatgggga caaggcatcc      1620\n",
      "     tgtgaaaatg agttacttaa attttcttac attcggacat cttttgacaa gatcttgctg      1680\n",
      "     agatgggagc cgtactggcc ccccgacttc cgagacctct tggggttcat gctgttctac      1740\n",
      "     aaagaggccc cttatcagaa tgtgacggag ttcgatgggc aggatgcgtg tggttccaac      1800\n",
      "     agttggacgg tggtagacat tgacccaccc ctgaggtcca acgaccccaa atcacagaac      1860\n",
      "     cacccagggt ggctgatgcg gggtctcaag ccctggaccc agtatgccat ctttgtgaag      1920\n",
      "     accctggtca ccttttcgga tgaacgccgg acctatgggg ccaagagtga catcatttat      1980\n",
      "     gtccagacag atgccaccaa cccctctgtg cccctggatc caatctcagt gtctaactca      2040\n",
      "     tcatcccaga ttattctgaa gtggaaacca ccctccgacc ccaatggcaa catcacccac      2100\n",
      "     tacctggttt tctgggagag gcaggcggaa gacagtgagc tgttcgagct ggattattgc      2160\n",
      "     ctcaaagggc tgaagctgcc ctcgaggacc tggtctccac cattcgagtc tgaagattct      2220\n",
      "     cagaagcaca accagagtga gtatgaggat tcggccggcg aatgctgctc ctgtccaaag      2280\n",
      "     acagactctc agatcctgaa ggagctggag gagtcctcgt ttaggaagac gtttgaggat      2340\n",
      "     tacctgcaca acgtggtttt cgtccccaga aaaacctctt caggcactgg tgccgaggac      2400\n",
      "     cctaggccat ctcggaaacg caggtccctt ggcgatgttg ggaatgtgac ggtggccgtg      2460\n",
      "     cccacggtgg cagctttccc caacacttcc tcgaccagcg tgcccacgag tccggaggag      2520\n",
      "     cacaggcctt ttgagaaggt ggtgaacaag gagtcgctgg tcatctccgg cttgcgacac      2580\n",
      "     ttcacgggct atcgcatcga gctgcaggct tgcaaccagg acacccctga ggaacggtgc      2640\n",
      "     agtgtggcag cctacgtcag tgcgaggacc atgcctgaag ccaaggctga tgacattgtt      2700\n",
      "     ggccctgtga cgcatgaaat ctttgagaac aacgtcgtcc acttgatgtg gcaggagccg      2760\n",
      "     aaggagccca atggtctgat cgtgctgtat gaagtgagtt atcggcgata tggtgatgag      2820\n",
      "     gagctgcatc tctgcgtctc ccgcaagcac ttcgctctgg aacggggctg caggctgcgt      2880\n",
      "     gggctgtcac cggggaacta cagcgtgcga atccgggcca cctcccttgc gggcaacggc      2940\n",
      "     tcttggacgg aacccaccta tttctacgtg acagactatt tagacgtccc gtcaaatatt      3000\n",
      "     gcaaaaatta tcatcggccc cctcatcttt gtctttctct tcagtgttgt gattggaagt      3060\n",
      "     atttatctat tcctgagaaa gaggcagcca gatgggccgc tgggaccgct ttacgcttct      3120\n",
      "     tcaaaccctg agtatctcag tgccagtgat gtgtttccat gctctgtgta cgtgccggac      3180\n",
      "     gagtgggagg tgtctcgaga gaagatcacc ctccttcgag agctggggca gggctccttc      3240\n",
      "     ggcatggtgt atgagggcaa tgccagggac atcatcaagg gtgaggcaga gacccgcgtg      3300\n",
      "     gcggtgaaga cggtcaacga gtcagccagt ctccgagagc ggattgagtt cctcaatgag      3360\n",
      "     gcctcggtca tgaagggctt cacctgccat cacgtggtgc gcctcctggg agtggtgtcc      3420\n",
      "     aagggccagc ccacgctggt ggtgatggag ctgatggctc acggagacct gaagagctac      3480\n",
      "     ctccgttctc tgcggccaga ggctgagaat aatcctggcc gccctccccc tacccttcaa      3540\n",
      "     gagatgattc agatggcggc agagattgct gacgggatgg cctacctgaa cgccaagaag      3600\n",
      "     tttgtgcatc gggacctggc agcgagaaac tgcatggtcg cccatgattt tactgtcaaa      3660\n",
      "     attggagact ttggaatgac cagagacatc tatgaaacgg attactaccg gaaagggggc      3720\n",
      "     aagggtctgc tccctgtacg gtggatggca ccggagtccc tgaaggatgg ggtcttcacc      3780\n",
      "     acttcttctg acatgtggtc ctttggcgtg gtcctttggg aaatcaccag cttggcagaa      3840\n",
      "     cagccttacc aaggcctgtc taatgaacag gtgttgaaat ttgtcatgga tggagggtat      3900\n",
      "     ctggatcaac ccgacaactg tccagagaga gtcactgacc tcatgcgcat gtgctggcaa      3960\n",
      "     ttcaacccca agatgaggcc aaccttcctg gagattgtca acctgctcaa ggacgacctg      4020\n",
      "     caccccagct ttccagaggt gtcgttcttc cacagcgagg agaacaaggc tcccgagagt      4080\n",
      "     gaggagctgg agatggagtt tgaggacatg gagaatgtgc ccctggaccg ttcctcgcac      4140\n",
      "     tgtcagaggg aggaggcggg gggccgggat ggagggtcct cgctgggttt caagcggagc      4200\n",
      "     tacgaggaac acatccctta cacacacatg aacggaggca agaaaaacgg gcggattctg      4260\n",
      "     accttgcctc ggtccaatcc ttcctaacag tgcctaccgt ggcgggggcg ggcaggggtt      4320\n",
      "     cccattttcg ctttcctctg gtttgaaagc ctctggaaaa ctcaggattc tcacgactct      4380\n",
      "     accatgtcca gtggagttca gagatcgttc ctatacattt ctgttcatct taaggtggac      4440\n",
      "     tcgtttggtt accaatttaa ctagtcctgc agaggattta actgtgaacc tggagggcaa      4500\n",
      "     ggggtttcca cagttgctgc tcctttgggg caacgacggt ttcaaaccag gattttgtgt      4560\n",
      "     tttttcgttc cccccacccg cccccagcag atggaaagaa agcacctgtt tttacaaatt      4620\n",
      "     cttttttttt tttttttttt tttttttttg ctggtgtctg agcttcagta taaaagacaa      4680\n",
      "     aacttcctgt ttgtggaaca aaatttcgaa agaaaaaacc aaa                        4723\n",
      "//\n",
      "\n"
     ]
    }
   ],
   "source": [
    "print(embl_str)"
   ]
  },
  {
   "cell_type": "markdown",
   "metadata": {},
   "source": [
    "### 7) Estrazione dell'identificatore univoco e dell'organismo relativo all'entry."
   ]
  },
  {
   "cell_type": "markdown",
   "metadata": {},
   "source": [
    "Estrarre dal *record* `ID`:\n",
    "\n",
    "    ID   M10051; SV 1; linear; mRNA; STD; HUM; 4723 BP.\n",
    "    \n",
    "l'identificatore univoco e l'organismo e assegnarli alle variabili `identifier` e `organism`."
   ]
  },
  {
   "cell_type": "code",
   "execution_count": 22,
   "metadata": {},
   "outputs": [],
   "source": [
    "m = re.search('^ID\\s+(\\w+).+\\s+(\\w+);', embl_str, re.M)\n",
    "(identifier, organism) = m.groups()"
   ]
  },
  {
   "cell_type": "code",
   "execution_count": 23,
   "metadata": {},
   "outputs": [
    {
     "data": {
      "text/plain": [
       "'M10051'"
      ]
     },
     "execution_count": 23,
     "metadata": {},
     "output_type": "execute_result"
    }
   ],
   "source": [
    "identifier"
   ]
  },
  {
   "cell_type": "code",
   "execution_count": 24,
   "metadata": {},
   "outputs": [
    {
     "data": {
      "text/plain": [
       "'HUM'"
      ]
     },
     "execution_count": 24,
     "metadata": {},
     "output_type": "execute_result"
    }
   ],
   "source": [
    "organism"
   ]
  },
  {
   "cell_type": "markdown",
   "metadata": {},
   "source": [
    "### 8) Estrazione della sequenza nucleotidica"
   ]
  },
  {
   "cell_type": "markdown",
   "metadata": {},
   "source": [
    "a) Costruire la lista dei *record* della sequenza nucleotidica, escludendo da ognuno di essi gli spazi iniziali, gli spazi finali e l'intero finale.\n",
    "\n",
    "    ggggggctgc gcggccgggt cggtgcgcac acgagaagga cgcgcggccc ccagcgctct        60"
   ]
  },
  {
   "cell_type": "code",
   "execution_count": 25,
   "metadata": {},
   "outputs": [],
   "source": [
    "seq_row_list = re.findall('^\\s+(.+?)\\s+\\d+', embl_str, re.M)"
   ]
  },
  {
   "cell_type": "code",
   "execution_count": 26,
   "metadata": {},
   "outputs": [
    {
     "data": {
      "text/plain": [
       "['ggggggctgc gcggccgggt cggtgcgcac acgagaagga cgcgcggccc ccagcgctct',\n",
       " 'tgggggccgc ctcggagcat gacccccgcg ggccagcgcc gcgcgcctga tccgaggaga',\n",
       " 'ccccgcgctc ccgcagccat gggcaccggg ggccggcggg gggcggcggc cgcgccgctg',\n",
       " 'ctggtggcgg tggccgcgct gctactgggc gccgcgggcc acctgtaccc cggagaggtg',\n",
       " 'tgtcccggca tggatatccg gaacaacctc actaggttgc atgagctgga gaattgctct',\n",
       " 'gtcatcgaag gacacttgca gatactcttg atgttcaaaa cgaggcccga agatttccga',\n",
       " 'gacctcagtt tccccaaact catcatgatc actgattact tgctgctctt ccgggtctat',\n",
       " 'gggctcgaga gcctgaagga cctgttcccc aacctcacgg tcatccgggg atcacgactg',\n",
       " 'ttctttaact acgcgctggt catcttcgag atggttcacc tcaaggaact cggcctctac',\n",
       " 'aacctgatga acatcacccg gggttctgtc cgcatcgaga agaacaatga gctctgttac',\n",
       " 'ttggccacta tcgactggtc ccgtatcctg gattccgtgg aggataatca catcgtgttg',\n",
       " 'aacaaagatg acaacgagga gtgtggagac atctgtccgg gtaccgcgaa gggcaagacc',\n",
       " 'aactgccccg ccaccgtcat caacgggcag tttgtcgaac gatgttggac tcatagtcac',\n",
       " 'tgccagaaag tttgcccgac catctgtaag tcacacggct gcaccgccga aggcctctgt',\n",
       " 'tgccacagcg agtgcctggg caactgttct cagcccgacg accccaccaa gtgcgtggcc',\n",
       " 'tgccgcaact tctacctgga cggcaggtgt gtggagacct gcccgccccc gtactaccac',\n",
       " 'ttccaggact ggcgctgtgt gaacttcagc ttctgccagg acctgcacca caaatgcaag',\n",
       " 'aactcgcgga ggcagggctg ccaccaatac gtcattcaca acaacaagtg catccctgag',\n",
       " 'tgtccctccg ggtacacgat gaattccagc aacttgctgt gcaccccatg cctgggtccc',\n",
       " 'tgtcccaagg tgtgccacct cctagaaggc gagaagacca tcgactcggt gacgtctgcc',\n",
       " 'caggagctcc gaggatgcac cgtcatcaac gggagtctga tcatcaacat tcgaggaggc',\n",
       " 'aacaatctgg cagctgagct agaagccaac ctcggcctca ttgaagaaat ttcagggtat',\n",
       " 'ctaaaaatcc gccgatccta cgctctggtg tcactttcct tcttccggaa gttacgtctg',\n",
       " 'attcgaggag agaccttgga aattgggaac tactccttct atgccttgga caaccagaac',\n",
       " 'ctaaggcagc tctgggactg gagcaaacac aacctcacca ccactcaggg gaaactcttc',\n",
       " 'ttccactata accccaaact ctgcttgtca gaaatccaca agatggaaga agtttcagga',\n",
       " 'accaaggggc gccaggagag aaacgacatt gccctgaaga ccaatgggga caaggcatcc',\n",
       " 'tgtgaaaatg agttacttaa attttcttac attcggacat cttttgacaa gatcttgctg',\n",
       " 'agatgggagc cgtactggcc ccccgacttc cgagacctct tggggttcat gctgttctac',\n",
       " 'aaagaggccc cttatcagaa tgtgacggag ttcgatgggc aggatgcgtg tggttccaac',\n",
       " 'agttggacgg tggtagacat tgacccaccc ctgaggtcca acgaccccaa atcacagaac',\n",
       " 'cacccagggt ggctgatgcg gggtctcaag ccctggaccc agtatgccat ctttgtgaag',\n",
       " 'accctggtca ccttttcgga tgaacgccgg acctatgggg ccaagagtga catcatttat',\n",
       " 'gtccagacag atgccaccaa cccctctgtg cccctggatc caatctcagt gtctaactca',\n",
       " 'tcatcccaga ttattctgaa gtggaaacca ccctccgacc ccaatggcaa catcacccac',\n",
       " 'tacctggttt tctgggagag gcaggcggaa gacagtgagc tgttcgagct ggattattgc',\n",
       " 'ctcaaagggc tgaagctgcc ctcgaggacc tggtctccac cattcgagtc tgaagattct',\n",
       " 'cagaagcaca accagagtga gtatgaggat tcggccggcg aatgctgctc ctgtccaaag',\n",
       " 'acagactctc agatcctgaa ggagctggag gagtcctcgt ttaggaagac gtttgaggat',\n",
       " 'tacctgcaca acgtggtttt cgtccccaga aaaacctctt caggcactgg tgccgaggac',\n",
       " 'cctaggccat ctcggaaacg caggtccctt ggcgatgttg ggaatgtgac ggtggccgtg',\n",
       " 'cccacggtgg cagctttccc caacacttcc tcgaccagcg tgcccacgag tccggaggag',\n",
       " 'cacaggcctt ttgagaaggt ggtgaacaag gagtcgctgg tcatctccgg cttgcgacac',\n",
       " 'ttcacgggct atcgcatcga gctgcaggct tgcaaccagg acacccctga ggaacggtgc',\n",
       " 'agtgtggcag cctacgtcag tgcgaggacc atgcctgaag ccaaggctga tgacattgtt',\n",
       " 'ggccctgtga cgcatgaaat ctttgagaac aacgtcgtcc acttgatgtg gcaggagccg',\n",
       " 'aaggagccca atggtctgat cgtgctgtat gaagtgagtt atcggcgata tggtgatgag',\n",
       " 'gagctgcatc tctgcgtctc ccgcaagcac ttcgctctgg aacggggctg caggctgcgt',\n",
       " 'gggctgtcac cggggaacta cagcgtgcga atccgggcca cctcccttgc gggcaacggc',\n",
       " 'tcttggacgg aacccaccta tttctacgtg acagactatt tagacgtccc gtcaaatatt',\n",
       " 'gcaaaaatta tcatcggccc cctcatcttt gtctttctct tcagtgttgt gattggaagt',\n",
       " 'atttatctat tcctgagaaa gaggcagcca gatgggccgc tgggaccgct ttacgcttct',\n",
       " 'tcaaaccctg agtatctcag tgccagtgat gtgtttccat gctctgtgta cgtgccggac',\n",
       " 'gagtgggagg tgtctcgaga gaagatcacc ctccttcgag agctggggca gggctccttc',\n",
       " 'ggcatggtgt atgagggcaa tgccagggac atcatcaagg gtgaggcaga gacccgcgtg',\n",
       " 'gcggtgaaga cggtcaacga gtcagccagt ctccgagagc ggattgagtt cctcaatgag',\n",
       " 'gcctcggtca tgaagggctt cacctgccat cacgtggtgc gcctcctggg agtggtgtcc',\n",
       " 'aagggccagc ccacgctggt ggtgatggag ctgatggctc acggagacct gaagagctac',\n",
       " 'ctccgttctc tgcggccaga ggctgagaat aatcctggcc gccctccccc tacccttcaa',\n",
       " 'gagatgattc agatggcggc agagattgct gacgggatgg cctacctgaa cgccaagaag',\n",
       " 'tttgtgcatc gggacctggc agcgagaaac tgcatggtcg cccatgattt tactgtcaaa',\n",
       " 'attggagact ttggaatgac cagagacatc tatgaaacgg attactaccg gaaagggggc',\n",
       " 'aagggtctgc tccctgtacg gtggatggca ccggagtccc tgaaggatgg ggtcttcacc',\n",
       " 'acttcttctg acatgtggtc ctttggcgtg gtcctttggg aaatcaccag cttggcagaa',\n",
       " 'cagccttacc aaggcctgtc taatgaacag gtgttgaaat ttgtcatgga tggagggtat',\n",
       " 'ctggatcaac ccgacaactg tccagagaga gtcactgacc tcatgcgcat gtgctggcaa',\n",
       " 'ttcaacccca agatgaggcc aaccttcctg gagattgtca acctgctcaa ggacgacctg',\n",
       " 'caccccagct ttccagaggt gtcgttcttc cacagcgagg agaacaaggc tcccgagagt',\n",
       " 'gaggagctgg agatggagtt tgaggacatg gagaatgtgc ccctggaccg ttcctcgcac',\n",
       " 'tgtcagaggg aggaggcggg gggccgggat ggagggtcct cgctgggttt caagcggagc',\n",
       " 'tacgaggaac acatccctta cacacacatg aacggaggca agaaaaacgg gcggattctg',\n",
       " 'accttgcctc ggtccaatcc ttcctaacag tgcctaccgt ggcgggggcg ggcaggggtt',\n",
       " 'cccattttcg ctttcctctg gtttgaaagc ctctggaaaa ctcaggattc tcacgactct',\n",
       " 'accatgtcca gtggagttca gagatcgttc ctatacattt ctgttcatct taaggtggac',\n",
       " 'tcgtttggtt accaatttaa ctagtcctgc agaggattta actgtgaacc tggagggcaa',\n",
       " 'ggggtttcca cagttgctgc tcctttgggg caacgacggt ttcaaaccag gattttgtgt',\n",
       " 'tttttcgttc cccccacccg cccccagcag atggaaagaa agcacctgtt tttacaaatt',\n",
       " 'cttttttttt tttttttttt tttttttttg ctggtgtctg agcttcagta taaaagacaa',\n",
       " 'aacttcctgt ttgtggaaca aaatttcgaa agaaaaaacc aaa']"
      ]
     },
     "execution_count": 26,
     "metadata": {},
     "output_type": "execute_result"
    }
   ],
   "source": [
    "seq_row_list"
   ]
  },
  {
   "cell_type": "markdown",
   "metadata": {},
   "source": [
    "b) Concatenare i singoli pezzi per ottenere la sequenza nucleotidica in unica stringa (in lettere minuscole)."
   ]
  },
  {
   "cell_type": "code",
   "execution_count": 27,
   "metadata": {},
   "outputs": [],
   "source": [
    "nucleotide_sequence = re.sub(r'\\s', '', ''.join(seq_row_list))"
   ]
  },
  {
   "cell_type": "code",
   "execution_count": 28,
   "metadata": {},
   "outputs": [
    {
     "data": {
      "text/plain": [
       "'ggggggctgcgcggccgggtcggtgcgcacacgagaaggacgcgcggcccccagcgctcttgggggccgcctcggagcatgacccccgcgggccagcgccgcgcgcctgatccgaggagaccccgcgctcccgcagccatgggcaccgggggccggcggggggcggcggccgcgccgctgctggtggcggtggccgcgctgctactgggcgccgcgggccacctgtaccccggagaggtgtgtcccggcatggatatccggaacaacctcactaggttgcatgagctggagaattgctctgtcatcgaaggacacttgcagatactcttgatgttcaaaacgaggcccgaagatttccgagacctcagtttccccaaactcatcatgatcactgattacttgctgctcttccgggtctatgggctcgagagcctgaaggacctgttccccaacctcacggtcatccggggatcacgactgttctttaactacgcgctggtcatcttcgagatggttcacctcaaggaactcggcctctacaacctgatgaacatcacccggggttctgtccgcatcgagaagaacaatgagctctgttacttggccactatcgactggtcccgtatcctggattccgtggaggataatcacatcgtgttgaacaaagatgacaacgaggagtgtggagacatctgtccgggtaccgcgaagggcaagaccaactgccccgccaccgtcatcaacgggcagtttgtcgaacgatgttggactcatagtcactgccagaaagtttgcccgaccatctgtaagtcacacggctgcaccgccgaaggcctctgttgccacagcgagtgcctgggcaactgttctcagcccgacgaccccaccaagtgcgtggcctgccgcaacttctacctggacggcaggtgtgtggagacctgcccgcccccgtactaccacttccaggactggcgctgtgtgaacttcagcttctgccaggacctgcaccacaaatgcaagaactcgcggaggcagggctgccaccaatacgtcattcacaacaacaagtgcatccctgagtgtccctccgggtacacgatgaattccagcaacttgctgtgcaccccatgcctgggtccctgtcccaaggtgtgccacctcctagaaggcgagaagaccatcgactcggtgacgtctgcccaggagctccgaggatgcaccgtcatcaacgggagtctgatcatcaacattcgaggaggcaacaatctggcagctgagctagaagccaacctcggcctcattgaagaaatttcagggtatctaaaaatccgccgatcctacgctctggtgtcactttccttcttccggaagttacgtctgattcgaggagagaccttggaaattgggaactactccttctatgccttggacaaccagaacctaaggcagctctgggactggagcaaacacaacctcaccaccactcaggggaaactcttcttccactataaccccaaactctgcttgtcagaaatccacaagatggaagaagtttcaggaaccaaggggcgccaggagagaaacgacattgccctgaagaccaatggggacaaggcatcctgtgaaaatgagttacttaaattttcttacattcggacatcttttgacaagatcttgctgagatgggagccgtactggccccccgacttccgagacctcttggggttcatgctgttctacaaagaggccccttatcagaatgtgacggagttcgatgggcaggatgcgtgtggttccaacagttggacggtggtagacattgacccacccctgaggtccaacgaccccaaatcacagaaccacccagggtggctgatgcggggtctcaagccctggacccagtatgccatctttgtgaagaccctggtcaccttttcggatgaacgccggacctatggggccaagagtgacatcatttatgtccagacagatgccaccaacccctctgtgcccctggatccaatctcagtgtctaactcatcatcccagattattctgaagtggaaaccaccctccgaccccaatggcaacatcacccactacctggttttctgggagaggcaggcggaagacagtgagctgttcgagctggattattgcctcaaagggctgaagctgccctcgaggacctggtctccaccattcgagtctgaagattctcagaagcacaaccagagtgagtatgaggattcggccggcgaatgctgctcctgtccaaagacagactctcagatcctgaaggagctggaggagtcctcgtttaggaagacgtttgaggattacctgcacaacgtggttttcgtccccagaaaaacctcttcaggcactggtgccgaggaccctaggccatctcggaaacgcaggtcccttggcgatgttgggaatgtgacggtggccgtgcccacggtggcagctttccccaacacttcctcgaccagcgtgcccacgagtccggaggagcacaggccttttgagaaggtggtgaacaaggagtcgctggtcatctccggcttgcgacacttcacgggctatcgcatcgagctgcaggcttgcaaccaggacacccctgaggaacggtgcagtgtggcagcctacgtcagtgcgaggaccatgcctgaagccaaggctgatgacattgttggccctgtgacgcatgaaatctttgagaacaacgtcgtccacttgatgtggcaggagccgaaggagcccaatggtctgatcgtgctgtatgaagtgagttatcggcgatatggtgatgaggagctgcatctctgcgtctcccgcaagcacttcgctctggaacggggctgcaggctgcgtgggctgtcaccggggaactacagcgtgcgaatccgggccacctcccttgcgggcaacggctcttggacggaacccacctatttctacgtgacagactatttagacgtcccgtcaaatattgcaaaaattatcatcggccccctcatctttgtctttctcttcagtgttgtgattggaagtatttatctattcctgagaaagaggcagccagatgggccgctgggaccgctttacgcttcttcaaaccctgagtatctcagtgccagtgatgtgtttccatgctctgtgtacgtgccggacgagtgggaggtgtctcgagagaagatcaccctccttcgagagctggggcagggctccttcggcatggtgtatgagggcaatgccagggacatcatcaagggtgaggcagagacccgcgtggcggtgaagacggtcaacgagtcagccagtctccgagagcggattgagttcctcaatgaggcctcggtcatgaagggcttcacctgccatcacgtggtgcgcctcctgggagtggtgtccaagggccagcccacgctggtggtgatggagctgatggctcacggagacctgaagagctacctccgttctctgcggccagaggctgagaataatcctggccgccctccccctacccttcaagagatgattcagatggcggcagagattgctgacgggatggcctacctgaacgccaagaagtttgtgcatcgggacctggcagcgagaaactgcatggtcgcccatgattttactgtcaaaattggagactttggaatgaccagagacatctatgaaacggattactaccggaaagggggcaagggtctgctccctgtacggtggatggcaccggagtccctgaaggatggggtcttcaccacttcttctgacatgtggtcctttggcgtggtcctttgggaaatcaccagcttggcagaacagccttaccaaggcctgtctaatgaacaggtgttgaaatttgtcatggatggagggtatctggatcaacccgacaactgtccagagagagtcactgacctcatgcgcatgtgctggcaattcaaccccaagatgaggccaaccttcctggagattgtcaacctgctcaaggacgacctgcaccccagctttccagaggtgtcgttcttccacagcgaggagaacaaggctcccgagagtgaggagctggagatggagtttgaggacatggagaatgtgcccctggaccgttcctcgcactgtcagagggaggaggcggggggccgggatggagggtcctcgctgggtttcaagcggagctacgaggaacacatcccttacacacacatgaacggaggcaagaaaaacgggcggattctgaccttgcctcggtccaatccttcctaacagtgcctaccgtggcgggggcgggcaggggttcccattttcgctttcctctggtttgaaagcctctggaaaactcaggattctcacgactctaccatgtccagtggagttcagagatcgttcctatacatttctgttcatcttaaggtggactcgtttggttaccaatttaactagtcctgcagaggatttaactgtgaacctggagggcaaggggtttccacagttgctgctcctttggggcaacgacggtttcaaaccaggattttgtgttttttcgttccccccacccgcccccagcagatggaaagaaagcacctgtttttacaaattcttttttttttttttttttttttttttttgctggtgtctgagcttcagtataaaagacaaaacttcctgtttgtggaacaaaatttcgaaagaaaaaaccaaa'"
      ]
     },
     "execution_count": 28,
     "metadata": {},
     "output_type": "execute_result"
    }
   ],
   "source": [
    "nucleotide_sequence"
   ]
  },
  {
   "cell_type": "markdown",
   "metadata": {},
   "source": [
    "### 9) Estrazione della sequenza della proteina"
   ]
  },
  {
   "cell_type": "markdown",
   "metadata": {},
   "source": [
    "Estrarre il prefisso della proteina contenuto nel *record*:\n",
    "\n",
    "    FT                   /translation=\"MGTGGRRGAAAAPLLVAVAALLLGAAGHLYPGEVCPGMDIRNNLT"
   ]
  },
  {
   "cell_type": "code",
   "execution_count": 29,
   "metadata": {},
   "outputs": [],
   "source": [
    "s = re.search('^FT\\s+/translation=\\\"(\\w+)', embl_str, re.M)\n",
    "protein_prefix = s.group(1)"
   ]
  },
  {
   "cell_type": "code",
   "execution_count": 30,
   "metadata": {},
   "outputs": [
    {
     "data": {
      "text/plain": [
       "'MGTGGRRGAAAAPLLVAVAALLLGAAGHLYPGEVCPGMDIRNNLT'"
      ]
     },
     "execution_count": 30,
     "metadata": {},
     "output_type": "execute_result"
    }
   ],
   "source": [
    "protein_prefix"
   ]
  },
  {
   "cell_type": "markdown",
   "metadata": {},
   "source": [
    "b) Costruire la lista di tutti gli altri record della proteina (compreso l'ultimo):\n",
    "\n",
    "    FT                   RLHELENCSVIEGHLQILLMFKTRPEDFRDLSFPKLIMITDYLLLFRVYGLESLKDLFP\n",
    "    \n",
    "**Attenzione all'ultimo**:\n",
    "\n",
    "    FT                   DGGSSLGFKRSYEEHIPYTHMNGGKKNGRILTLPRSNPS\"\n",
    "\n",
    "che termina con doppi apici `\"`."
   ]
  },
  {
   "cell_type": "code",
   "execution_count": 31,
   "metadata": {},
   "outputs": [],
   "source": [
    "protein_list = re.findall('^FT\\s+([A-Z]+)\"?$', embl_str, re.M)"
   ]
  },
  {
   "cell_type": "code",
   "execution_count": 32,
   "metadata": {},
   "outputs": [
    {
     "data": {
      "text/plain": [
       "['RLHELENCSVIEGHLQILLMFKTRPEDFRDLSFPKLIMITDYLLLFRVYGLESLKDLFP',\n",
       " 'NLTVIRGSRLFFNYALVIFEMVHLKELGLYNLMNITRGSVRIEKNNELCYLATIDWSRI',\n",
       " 'LDSVEDNHIVLNKDDNEECGDICPGTAKGKTNCPATVINGQFVERCWTHSHCQKVCPTI',\n",
       " 'CKSHGCTAEGLCCHSECLGNCSQPDDPTKCVACRNFYLDGRCVETCPPPYYHFQDWRCV',\n",
       " 'NFSFCQDLHHKCKNSRRQGCHQYVIHNNKCIPECPSGYTMNSSNLLCTPCLGPCPKVCH',\n",
       " 'LLEGEKTIDSVTSAQELRGCTVINGSLIINIRGGNNLAAELEANLGLIEEISGYLKIRR',\n",
       " 'SYALVSLSFFRKLRLIRGETLEIGNYSFYALDNQNLRQLWDWSKHNLTTTQGKLFFHYN',\n",
       " 'PKLCLSEIHKMEEVSGTKGRQERNDIALKTNGDKASCENELLKFSYIRTSFDKILLRWE',\n",
       " 'PYWPPDFRDLLGFMLFYKEAPYQNVTEFDGQDACGSNSWTVVDIDPPLRSNDPKSQNHP',\n",
       " 'GWLMRGLKPWTQYAIFVKTLVTFSDERRTYGAKSDIIYVQTDATNPSVPLDPISVSNSS',\n",
       " 'SQIILKWKPPSDPNGNITHYLVFWERQAEDSELFELDYCLKGLKLPSRTWSPPFESEDS',\n",
       " 'QKHNQSEYEDSAGECCSCPKTDSQILKELEESSFRKTFEDYLHNVVFVPRKTSSGTGAE',\n",
       " 'DPRPSRKRRSLGDVGNVTVAVPTVAAFPNTSSTSVPTSPEEHRPFEKVVNKESLVISGL',\n",
       " 'RHFTGYRIELQACNQDTPEERCSVAAYVSARTMPEAKADDIVGPVTHEIFENNVVHLMW',\n",
       " 'QEPKEPNGLIVLYEVSYRRYGDEELHLCVSRKHFALERGCRLRGLSPGNYSVRIRATSL',\n",
       " 'AGNGSWTEPTYFYVTDYLDVPSNIAKIIIGPLIFVFLFSVVIGSIYLFLRKRQPDGPLG',\n",
       " 'PLYASSNPEYLSASDVFPCSVYVPDEWEVSREKITLLRELGQGSFGMVYEGNARDIIKG',\n",
       " 'EAETRVAVKTVNESASLRERIEFLNEASVMKGFTCHHVVRLLGVVSKGQPTLVVMELMA',\n",
       " 'HGDLKSYLRSLRPEAENNPGRPPPTLQEMIQMAAEIADGMAYLNAKKFVHRDLAARNCM',\n",
       " 'VAHDFTVKIGDFGMTRDIYETDYYRKGGKGLLPVRWMAPESLKDGVFTTSSDMWSFGVV',\n",
       " 'LWEITSLAEQPYQGLSNEQVLKFVMDGGYLDQPDNCPERVTDLMRMCWQFNPKMRPTFL',\n",
       " 'EIVNLLKDDLHPSFPEVSFFHSEENKAPESEELEMEFEDMENVPLDRSSHCQREEAGGR',\n",
       " 'DGGSSLGFKRSYEEHIPYTHMNGGKKNGRILTLPRSNPS']"
      ]
     },
     "execution_count": 32,
     "metadata": {},
     "output_type": "execute_result"
    }
   ],
   "source": [
    "protein_list"
   ]
  },
  {
   "cell_type": "markdown",
   "metadata": {},
   "source": [
    "b) Aggiungere in testa alla lista il prefisso trovato prima e concatenare tutti gli elementi della lista per ottenere la sequenza della proteina in un'unica stringa."
   ]
  },
  {
   "cell_type": "code",
   "execution_count": 33,
   "metadata": {},
   "outputs": [],
   "source": [
    "protein_list[:0] = [protein_prefix]\n",
    "protein_sequence = ''.join(protein_list)"
   ]
  },
  {
   "cell_type": "code",
   "execution_count": 34,
   "metadata": {
    "scrolled": true
   },
   "outputs": [
    {
     "data": {
      "text/plain": [
       "'MGTGGRRGAAAAPLLVAVAALLLGAAGHLYPGEVCPGMDIRNNLTRLHELENCSVIEGHLQILLMFKTRPEDFRDLSFPKLIMITDYLLLFRVYGLESLKDLFPNLTVIRGSRLFFNYALVIFEMVHLKELGLYNLMNITRGSVRIEKNNELCYLATIDWSRILDSVEDNHIVLNKDDNEECGDICPGTAKGKTNCPATVINGQFVERCWTHSHCQKVCPTICKSHGCTAEGLCCHSECLGNCSQPDDPTKCVACRNFYLDGRCVETCPPPYYHFQDWRCVNFSFCQDLHHKCKNSRRQGCHQYVIHNNKCIPECPSGYTMNSSNLLCTPCLGPCPKVCHLLEGEKTIDSVTSAQELRGCTVINGSLIINIRGGNNLAAELEANLGLIEEISGYLKIRRSYALVSLSFFRKLRLIRGETLEIGNYSFYALDNQNLRQLWDWSKHNLTTTQGKLFFHYNPKLCLSEIHKMEEVSGTKGRQERNDIALKTNGDKASCENELLKFSYIRTSFDKILLRWEPYWPPDFRDLLGFMLFYKEAPYQNVTEFDGQDACGSNSWTVVDIDPPLRSNDPKSQNHPGWLMRGLKPWTQYAIFVKTLVTFSDERRTYGAKSDIIYVQTDATNPSVPLDPISVSNSSSQIILKWKPPSDPNGNITHYLVFWERQAEDSELFELDYCLKGLKLPSRTWSPPFESEDSQKHNQSEYEDSAGECCSCPKTDSQILKELEESSFRKTFEDYLHNVVFVPRKTSSGTGAEDPRPSRKRRSLGDVGNVTVAVPTVAAFPNTSSTSVPTSPEEHRPFEKVVNKESLVISGLRHFTGYRIELQACNQDTPEERCSVAAYVSARTMPEAKADDIVGPVTHEIFENNVVHLMWQEPKEPNGLIVLYEVSYRRYGDEELHLCVSRKHFALERGCRLRGLSPGNYSVRIRATSLAGNGSWTEPTYFYVTDYLDVPSNIAKIIIGPLIFVFLFSVVIGSIYLFLRKRQPDGPLGPLYASSNPEYLSASDVFPCSVYVPDEWEVSREKITLLRELGQGSFGMVYEGNARDIIKGEAETRVAVKTVNESASLRERIEFLNEASVMKGFTCHHVVRLLGVVSKGQPTLVVMELMAHGDLKSYLRSLRPEAENNPGRPPPTLQEMIQMAAEIADGMAYLNAKKFVHRDLAARNCMVAHDFTVKIGDFGMTRDIYETDYYRKGGKGLLPVRWMAPESLKDGVFTTSSDMWSFGVVLWEITSLAEQPYQGLSNEQVLKFVMDGGYLDQPDNCPERVTDLMRMCWQFNPKMRPTFLEIVNLLKDDLHPSFPEVSFFHSEENKAPESEELEMEFEDMENVPLDRSSHCQREEAGGRDGGSSLGFKRSYEEHIPYTHMNGGKKNGRILTLPRSNPS'"
      ]
     },
     "execution_count": 34,
     "metadata": {},
     "output_type": "execute_result"
    }
   ],
   "source": [
    "protein_sequence"
   ]
  },
  {
   "cell_type": "markdown",
   "metadata": {},
   "source": [
    "### 10) Determinazione della coding sequence (CDS)"
   ]
  },
  {
   "cell_type": "markdown",
   "metadata": {},
   "source": [
    "a) Estrarre dal *record*\n",
    "\n",
    "    FT   CDS             139..4287\n",
    "    \n",
    "lo start e l'end (1-based) della CDS."
   ]
  },
  {
   "cell_type": "markdown",
   "metadata": {},
   "source": [
    "**Alternativa1**:"
   ]
  },
  {
   "cell_type": "code",
   "execution_count": 87,
   "metadata": {},
   "outputs": [],
   "source": [
    "numbers = re.findall(r'FT\\s+CDS\\s+(\\d+)\\.\\.(\\d+)', embl_str)\n",
    "cds_start = int(numbers[0][0])\n",
    "cds_end = int(numbers[0][1])"
   ]
  },
  {
   "cell_type": "markdown",
   "metadata": {},
   "source": [
    "**Alternativa2**:"
   ]
  },
  {
   "cell_type": "code",
   "execution_count": 43,
   "metadata": {},
   "outputs": [],
   "source": [
    "m = re.search(r'^FT\\s+CDS\\s+(\\d+)..(\\d+)$', embl_str, re.M)\n",
    "(cds_start, cds_end) = map(int, m.groups())"
   ]
  },
  {
   "cell_type": "code",
   "execution_count": 44,
   "metadata": {},
   "outputs": [
    {
     "data": {
      "text/plain": [
       "139"
      ]
     },
     "execution_count": 44,
     "metadata": {},
     "output_type": "execute_result"
    }
   ],
   "source": [
    "cds_start"
   ]
  },
  {
   "cell_type": "code",
   "execution_count": 45,
   "metadata": {},
   "outputs": [
    {
     "data": {
      "text/plain": [
       "4287"
      ]
     },
     "execution_count": 45,
     "metadata": {},
     "output_type": "execute_result"
    }
   ],
   "source": [
    "cds_end"
   ]
  },
  {
   "cell_type": "markdown",
   "metadata": {},
   "source": [
    "b) Estrarre la sequenza della CDS."
   ]
  },
  {
   "cell_type": "code",
   "execution_count": 48,
   "metadata": {},
   "outputs": [],
   "source": [
    "cds_sequence = nucleotide_sequence[cds_start-1:cds_end]"
   ]
  },
  {
   "cell_type": "code",
   "execution_count": 49,
   "metadata": {},
   "outputs": [
    {
     "data": {
      "text/plain": [
       "'atgggcaccgggggccggcggggggcggcggccgcgccgctgctggtggcggtggccgcgctgctactgggcgccgcgggccacctgtaccccggagaggtgtgtcccggcatggatatccggaacaacctcactaggttgcatgagctggagaattgctctgtcatcgaaggacacttgcagatactcttgatgttcaaaacgaggcccgaagatttccgagacctcagtttccccaaactcatcatgatcactgattacttgctgctcttccgggtctatgggctcgagagcctgaaggacctgttccccaacctcacggtcatccggggatcacgactgttctttaactacgcgctggtcatcttcgagatggttcacctcaaggaactcggcctctacaacctgatgaacatcacccggggttctgtccgcatcgagaagaacaatgagctctgttacttggccactatcgactggtcccgtatcctggattccgtggaggataatcacatcgtgttgaacaaagatgacaacgaggagtgtggagacatctgtccgggtaccgcgaagggcaagaccaactgccccgccaccgtcatcaacgggcagtttgtcgaacgatgttggactcatagtcactgccagaaagtttgcccgaccatctgtaagtcacacggctgcaccgccgaaggcctctgttgccacagcgagtgcctgggcaactgttctcagcccgacgaccccaccaagtgcgtggcctgccgcaacttctacctggacggcaggtgtgtggagacctgcccgcccccgtactaccacttccaggactggcgctgtgtgaacttcagcttctgccaggacctgcaccacaaatgcaagaactcgcggaggcagggctgccaccaatacgtcattcacaacaacaagtgcatccctgagtgtccctccgggtacacgatgaattccagcaacttgctgtgcaccccatgcctgggtccctgtcccaaggtgtgccacctcctagaaggcgagaagaccatcgactcggtgacgtctgcccaggagctccgaggatgcaccgtcatcaacgggagtctgatcatcaacattcgaggaggcaacaatctggcagctgagctagaagccaacctcggcctcattgaagaaatttcagggtatctaaaaatccgccgatcctacgctctggtgtcactttccttcttccggaagttacgtctgattcgaggagagaccttggaaattgggaactactccttctatgccttggacaaccagaacctaaggcagctctgggactggagcaaacacaacctcaccaccactcaggggaaactcttcttccactataaccccaaactctgcttgtcagaaatccacaagatggaagaagtttcaggaaccaaggggcgccaggagagaaacgacattgccctgaagaccaatggggacaaggcatcctgtgaaaatgagttacttaaattttcttacattcggacatcttttgacaagatcttgctgagatgggagccgtactggccccccgacttccgagacctcttggggttcatgctgttctacaaagaggccccttatcagaatgtgacggagttcgatgggcaggatgcgtgtggttccaacagttggacggtggtagacattgacccacccctgaggtccaacgaccccaaatcacagaaccacccagggtggctgatgcggggtctcaagccctggacccagtatgccatctttgtgaagaccctggtcaccttttcggatgaacgccggacctatggggccaagagtgacatcatttatgtccagacagatgccaccaacccctctgtgcccctggatccaatctcagtgtctaactcatcatcccagattattctgaagtggaaaccaccctccgaccccaatggcaacatcacccactacctggttttctgggagaggcaggcggaagacagtgagctgttcgagctggattattgcctcaaagggctgaagctgccctcgaggacctggtctccaccattcgagtctgaagattctcagaagcacaaccagagtgagtatgaggattcggccggcgaatgctgctcctgtccaaagacagactctcagatcctgaaggagctggaggagtcctcgtttaggaagacgtttgaggattacctgcacaacgtggttttcgtccccagaaaaacctcttcaggcactggtgccgaggaccctaggccatctcggaaacgcaggtcccttggcgatgttgggaatgtgacggtggccgtgcccacggtggcagctttccccaacacttcctcgaccagcgtgcccacgagtccggaggagcacaggccttttgagaaggtggtgaacaaggagtcgctggtcatctccggcttgcgacacttcacgggctatcgcatcgagctgcaggcttgcaaccaggacacccctgaggaacggtgcagtgtggcagcctacgtcagtgcgaggaccatgcctgaagccaaggctgatgacattgttggccctgtgacgcatgaaatctttgagaacaacgtcgtccacttgatgtggcaggagccgaaggagcccaatggtctgatcgtgctgtatgaagtgagttatcggcgatatggtgatgaggagctgcatctctgcgtctcccgcaagcacttcgctctggaacggggctgcaggctgcgtgggctgtcaccggggaactacagcgtgcgaatccgggccacctcccttgcgggcaacggctcttggacggaacccacctatttctacgtgacagactatttagacgtcccgtcaaatattgcaaaaattatcatcggccccctcatctttgtctttctcttcagtgttgtgattggaagtatttatctattcctgagaaagaggcagccagatgggccgctgggaccgctttacgcttcttcaaaccctgagtatctcagtgccagtgatgtgtttccatgctctgtgtacgtgccggacgagtgggaggtgtctcgagagaagatcaccctccttcgagagctggggcagggctccttcggcatggtgtatgagggcaatgccagggacatcatcaagggtgaggcagagacccgcgtggcggtgaagacggtcaacgagtcagccagtctccgagagcggattgagttcctcaatgaggcctcggtcatgaagggcttcacctgccatcacgtggtgcgcctcctgggagtggtgtccaagggccagcccacgctggtggtgatggagctgatggctcacggagacctgaagagctacctccgttctctgcggccagaggctgagaataatcctggccgccctccccctacccttcaagagatgattcagatggcggcagagattgctgacgggatggcctacctgaacgccaagaagtttgtgcatcgggacctggcagcgagaaactgcatggtcgcccatgattttactgtcaaaattggagactttggaatgaccagagacatctatgaaacggattactaccggaaagggggcaagggtctgctccctgtacggtggatggcaccggagtccctgaaggatggggtcttcaccacttcttctgacatgtggtcctttggcgtggtcctttgggaaatcaccagcttggcagaacagccttaccaaggcctgtctaatgaacaggtgttgaaatttgtcatggatggagggtatctggatcaacccgacaactgtccagagagagtcactgacctcatgcgcatgtgctggcaattcaaccccaagatgaggccaaccttcctggagattgtcaacctgctcaaggacgacctgcaccccagctttccagaggtgtcgttcttccacagcgaggagaacaaggctcccgagagtgaggagctggagatggagtttgaggacatggagaatgtgcccctggaccgttcctcgcactgtcagagggaggaggcggggggccgggatggagggtcctcgctgggtttcaagcggagctacgaggaacacatcccttacacacacatgaacggaggcaagaaaaacgggcggattctgaccttgcctcggtccaatccttcctaa'"
      ]
     },
     "execution_count": 49,
     "metadata": {},
     "output_type": "execute_result"
    }
   ],
   "source": [
    "cds_sequence"
   ]
  },
  {
   "cell_type": "markdown",
   "metadata": {},
   "source": [
    "### 11) Creazione della coding sequence (CDS) in formato `FASTA`"
   ]
  },
  {
   "cell_type": "markdown",
   "metadata": {},
   "source": [
    "Produrre la sequenza della CDS in formato `FASTA` con il seguente *header*:\n",
    "\n",
    "    >M10051-HUM; len = [length]; start = [yes|no]; stop = [yes|no]\n",
    "    \n",
    "e assegnarla alla variabile `cds_sequence_fasta`."
   ]
  },
  {
   "cell_type": "code",
   "execution_count": 51,
   "metadata": {},
   "outputs": [],
   "source": [
    "cds_header_fasta = '>' + identifier + '-' + organism + '; len = ' + str(len(cds_sequence)) + ';'\n",
    "\n",
    "start = 'yes'\n",
    "stop = 'yes'\n",
    "\n",
    "if cds_sequence[:3] != 'atg':\n",
    "    start = 'no'\n",
    "    \n",
    "if cds_sequence[-3:] not in ['taa', 'tag', 'tga']:\n",
    "    stop = 'no'\n",
    "    \n",
    "cds_header_fasta = cds_header_fasta + '; start = ' + start\n",
    "cds_header_fasta = cds_header_fasta + '; stop = ' + stop\n",
    "\n",
    "cds_sequence_fasta = format_fasta(cds_header_fasta, cds_sequence, 60)"
   ]
  },
  {
   "cell_type": "code",
   "execution_count": 52,
   "metadata": {
    "scrolled": true
   },
   "outputs": [
    {
     "name": "stdout",
     "output_type": "stream",
     "text": [
      ">M10051-HUM; len = 4149;; start = yes; stop = yes\n",
      "atgggcaccgggggccggcggggggcggcggccgcgccgctgctggtggcggtggccgcg\n",
      "ctgctactgggcgccgcgggccacctgtaccccggagaggtgtgtcccggcatggatatc\n",
      "cggaacaacctcactaggttgcatgagctggagaattgctctgtcatcgaaggacacttg\n",
      "cagatactcttgatgttcaaaacgaggcccgaagatttccgagacctcagtttccccaaa\n",
      "ctcatcatgatcactgattacttgctgctcttccgggtctatgggctcgagagcctgaag\n",
      "gacctgttccccaacctcacggtcatccggggatcacgactgttctttaactacgcgctg\n",
      "gtcatcttcgagatggttcacctcaaggaactcggcctctacaacctgatgaacatcacc\n",
      "cggggttctgtccgcatcgagaagaacaatgagctctgttacttggccactatcgactgg\n",
      "tcccgtatcctggattccgtggaggataatcacatcgtgttgaacaaagatgacaacgag\n",
      "gagtgtggagacatctgtccgggtaccgcgaagggcaagaccaactgccccgccaccgtc\n",
      "atcaacgggcagtttgtcgaacgatgttggactcatagtcactgccagaaagtttgcccg\n",
      "accatctgtaagtcacacggctgcaccgccgaaggcctctgttgccacagcgagtgcctg\n",
      "ggcaactgttctcagcccgacgaccccaccaagtgcgtggcctgccgcaacttctacctg\n",
      "gacggcaggtgtgtggagacctgcccgcccccgtactaccacttccaggactggcgctgt\n",
      "gtgaacttcagcttctgccaggacctgcaccacaaatgcaagaactcgcggaggcagggc\n",
      "tgccaccaatacgtcattcacaacaacaagtgcatccctgagtgtccctccgggtacacg\n",
      "atgaattccagcaacttgctgtgcaccccatgcctgggtccctgtcccaaggtgtgccac\n",
      "ctcctagaaggcgagaagaccatcgactcggtgacgtctgcccaggagctccgaggatgc\n",
      "accgtcatcaacgggagtctgatcatcaacattcgaggaggcaacaatctggcagctgag\n",
      "ctagaagccaacctcggcctcattgaagaaatttcagggtatctaaaaatccgccgatcc\n",
      "tacgctctggtgtcactttccttcttccggaagttacgtctgattcgaggagagaccttg\n",
      "gaaattgggaactactccttctatgccttggacaaccagaacctaaggcagctctgggac\n",
      "tggagcaaacacaacctcaccaccactcaggggaaactcttcttccactataaccccaaa\n",
      "ctctgcttgtcagaaatccacaagatggaagaagtttcaggaaccaaggggcgccaggag\n",
      "agaaacgacattgccctgaagaccaatggggacaaggcatcctgtgaaaatgagttactt\n",
      "aaattttcttacattcggacatcttttgacaagatcttgctgagatgggagccgtactgg\n",
      "ccccccgacttccgagacctcttggggttcatgctgttctacaaagaggccccttatcag\n",
      "aatgtgacggagttcgatgggcaggatgcgtgtggttccaacagttggacggtggtagac\n",
      "attgacccacccctgaggtccaacgaccccaaatcacagaaccacccagggtggctgatg\n",
      "cggggtctcaagccctggacccagtatgccatctttgtgaagaccctggtcaccttttcg\n",
      "gatgaacgccggacctatggggccaagagtgacatcatttatgtccagacagatgccacc\n",
      "aacccctctgtgcccctggatccaatctcagtgtctaactcatcatcccagattattctg\n",
      "aagtggaaaccaccctccgaccccaatggcaacatcacccactacctggttttctgggag\n",
      "aggcaggcggaagacagtgagctgttcgagctggattattgcctcaaagggctgaagctg\n",
      "ccctcgaggacctggtctccaccattcgagtctgaagattctcagaagcacaaccagagt\n",
      "gagtatgaggattcggccggcgaatgctgctcctgtccaaagacagactctcagatcctg\n",
      "aaggagctggaggagtcctcgtttaggaagacgtttgaggattacctgcacaacgtggtt\n",
      "ttcgtccccagaaaaacctcttcaggcactggtgccgaggaccctaggccatctcggaaa\n",
      "cgcaggtcccttggcgatgttgggaatgtgacggtggccgtgcccacggtggcagctttc\n",
      "cccaacacttcctcgaccagcgtgcccacgagtccggaggagcacaggccttttgagaag\n",
      "gtggtgaacaaggagtcgctggtcatctccggcttgcgacacttcacgggctatcgcatc\n",
      "gagctgcaggcttgcaaccaggacacccctgaggaacggtgcagtgtggcagcctacgtc\n",
      "agtgcgaggaccatgcctgaagccaaggctgatgacattgttggccctgtgacgcatgaa\n",
      "atctttgagaacaacgtcgtccacttgatgtggcaggagccgaaggagcccaatggtctg\n",
      "atcgtgctgtatgaagtgagttatcggcgatatggtgatgaggagctgcatctctgcgtc\n",
      "tcccgcaagcacttcgctctggaacggggctgcaggctgcgtgggctgtcaccggggaac\n",
      "tacagcgtgcgaatccgggccacctcccttgcgggcaacggctcttggacggaacccacc\n",
      "tatttctacgtgacagactatttagacgtcccgtcaaatattgcaaaaattatcatcggc\n",
      "cccctcatctttgtctttctcttcagtgttgtgattggaagtatttatctattcctgaga\n",
      "aagaggcagccagatgggccgctgggaccgctttacgcttcttcaaaccctgagtatctc\n",
      "agtgccagtgatgtgtttccatgctctgtgtacgtgccggacgagtgggaggtgtctcga\n",
      "gagaagatcaccctccttcgagagctggggcagggctccttcggcatggtgtatgagggc\n",
      "aatgccagggacatcatcaagggtgaggcagagacccgcgtggcggtgaagacggtcaac\n",
      "gagtcagccagtctccgagagcggattgagttcctcaatgaggcctcggtcatgaagggc\n",
      "ttcacctgccatcacgtggtgcgcctcctgggagtggtgtccaagggccagcccacgctg\n",
      "gtggtgatggagctgatggctcacggagacctgaagagctacctccgttctctgcggcca\n",
      "gaggctgagaataatcctggccgccctccccctacccttcaagagatgattcagatggcg\n",
      "gcagagattgctgacgggatggcctacctgaacgccaagaagtttgtgcatcgggacctg\n",
      "gcagcgagaaactgcatggtcgcccatgattttactgtcaaaattggagactttggaatg\n",
      "accagagacatctatgaaacggattactaccggaaagggggcaagggtctgctccctgta\n",
      "cggtggatggcaccggagtccctgaaggatggggtcttcaccacttcttctgacatgtgg\n",
      "tcctttggcgtggtcctttgggaaatcaccagcttggcagaacagccttaccaaggcctg\n",
      "tctaatgaacaggtgttgaaatttgtcatggatggagggtatctggatcaacccgacaac\n",
      "tgtccagagagagtcactgacctcatgcgcatgtgctggcaattcaaccccaagatgagg\n",
      "ccaaccttcctggagattgtcaacctgctcaaggacgacctgcaccccagctttccagag\n",
      "gtgtcgttcttccacagcgaggagaacaaggctcccgagagtgaggagctggagatggag\n",
      "tttgaggacatggagaatgtgcccctggaccgttcctcgcactgtcagagggaggaggcg\n",
      "gggggccgggatggagggtcctcgctgggtttcaagcggagctacgaggaacacatccct\n",
      "tacacacacatgaacggaggcaagaaaaacgggcggattctgaccttgcctcggtccaat\n",
      "ccttcctaa\n",
      "\n"
     ]
    }
   ],
   "source": [
    "print(cds_sequence_fasta)"
   ]
  },
  {
   "cell_type": "markdown",
   "metadata": {},
   "source": [
    "### 12) Determinazione delle frequenze dei codoni"
   ]
  },
  {
   "cell_type": "markdown",
   "metadata": {},
   "source": [
    "a) Estrarre la lista dei codoni della CDS."
   ]
  },
  {
   "cell_type": "code",
   "execution_count": 55,
   "metadata": {},
   "outputs": [],
   "source": [
    "codon_list = re.findall(r'...', cds_sequence)"
   ]
  },
  {
   "cell_type": "code",
   "execution_count": 56,
   "metadata": {},
   "outputs": [
    {
     "data": {
      "text/plain": [
       "['atg',\n",
       " 'ggc',\n",
       " 'acc',\n",
       " 'ggg',\n",
       " 'ggc',\n",
       " 'cgg',\n",
       " 'cgg',\n",
       " 'ggg',\n",
       " 'gcg',\n",
       " 'gcg',\n",
       " 'gcc',\n",
       " 'gcg',\n",
       " 'ccg',\n",
       " 'ctg',\n",
       " 'ctg',\n",
       " 'gtg',\n",
       " 'gcg',\n",
       " 'gtg',\n",
       " 'gcc',\n",
       " 'gcg',\n",
       " 'ctg',\n",
       " 'cta',\n",
       " 'ctg',\n",
       " 'ggc',\n",
       " 'gcc',\n",
       " 'gcg',\n",
       " 'ggc',\n",
       " 'cac',\n",
       " 'ctg',\n",
       " 'tac',\n",
       " 'ccc',\n",
       " 'gga',\n",
       " 'gag',\n",
       " 'gtg',\n",
       " 'tgt',\n",
       " 'ccc',\n",
       " 'ggc',\n",
       " 'atg',\n",
       " 'gat',\n",
       " 'atc',\n",
       " 'cgg',\n",
       " 'aac',\n",
       " 'aac',\n",
       " 'ctc',\n",
       " 'act',\n",
       " 'agg',\n",
       " 'ttg',\n",
       " 'cat',\n",
       " 'gag',\n",
       " 'ctg',\n",
       " 'gag',\n",
       " 'aat',\n",
       " 'tgc',\n",
       " 'tct',\n",
       " 'gtc',\n",
       " 'atc',\n",
       " 'gaa',\n",
       " 'gga',\n",
       " 'cac',\n",
       " 'ttg',\n",
       " 'cag',\n",
       " 'ata',\n",
       " 'ctc',\n",
       " 'ttg',\n",
       " 'atg',\n",
       " 'ttc',\n",
       " 'aaa',\n",
       " 'acg',\n",
       " 'agg',\n",
       " 'ccc',\n",
       " 'gaa',\n",
       " 'gat',\n",
       " 'ttc',\n",
       " 'cga',\n",
       " 'gac',\n",
       " 'ctc',\n",
       " 'agt',\n",
       " 'ttc',\n",
       " 'ccc',\n",
       " 'aaa',\n",
       " 'ctc',\n",
       " 'atc',\n",
       " 'atg',\n",
       " 'atc',\n",
       " 'act',\n",
       " 'gat',\n",
       " 'tac',\n",
       " 'ttg',\n",
       " 'ctg',\n",
       " 'ctc',\n",
       " 'ttc',\n",
       " 'cgg',\n",
       " 'gtc',\n",
       " 'tat',\n",
       " 'ggg',\n",
       " 'ctc',\n",
       " 'gag',\n",
       " 'agc',\n",
       " 'ctg',\n",
       " 'aag',\n",
       " 'gac',\n",
       " 'ctg',\n",
       " 'ttc',\n",
       " 'ccc',\n",
       " 'aac',\n",
       " 'ctc',\n",
       " 'acg',\n",
       " 'gtc',\n",
       " 'atc',\n",
       " 'cgg',\n",
       " 'gga',\n",
       " 'tca',\n",
       " 'cga',\n",
       " 'ctg',\n",
       " 'ttc',\n",
       " 'ttt',\n",
       " 'aac',\n",
       " 'tac',\n",
       " 'gcg',\n",
       " 'ctg',\n",
       " 'gtc',\n",
       " 'atc',\n",
       " 'ttc',\n",
       " 'gag',\n",
       " 'atg',\n",
       " 'gtt',\n",
       " 'cac',\n",
       " 'ctc',\n",
       " 'aag',\n",
       " 'gaa',\n",
       " 'ctc',\n",
       " 'ggc',\n",
       " 'ctc',\n",
       " 'tac',\n",
       " 'aac',\n",
       " 'ctg',\n",
       " 'atg',\n",
       " 'aac',\n",
       " 'atc',\n",
       " 'acc',\n",
       " 'cgg',\n",
       " 'ggt',\n",
       " 'tct',\n",
       " 'gtc',\n",
       " 'cgc',\n",
       " 'atc',\n",
       " 'gag',\n",
       " 'aag',\n",
       " 'aac',\n",
       " 'aat',\n",
       " 'gag',\n",
       " 'ctc',\n",
       " 'tgt',\n",
       " 'tac',\n",
       " 'ttg',\n",
       " 'gcc',\n",
       " 'act',\n",
       " 'atc',\n",
       " 'gac',\n",
       " 'tgg',\n",
       " 'tcc',\n",
       " 'cgt',\n",
       " 'atc',\n",
       " 'ctg',\n",
       " 'gat',\n",
       " 'tcc',\n",
       " 'gtg',\n",
       " 'gag',\n",
       " 'gat',\n",
       " 'aat',\n",
       " 'cac',\n",
       " 'atc',\n",
       " 'gtg',\n",
       " 'ttg',\n",
       " 'aac',\n",
       " 'aaa',\n",
       " 'gat',\n",
       " 'gac',\n",
       " 'aac',\n",
       " 'gag',\n",
       " 'gag',\n",
       " 'tgt',\n",
       " 'gga',\n",
       " 'gac',\n",
       " 'atc',\n",
       " 'tgt',\n",
       " 'ccg',\n",
       " 'ggt',\n",
       " 'acc',\n",
       " 'gcg',\n",
       " 'aag',\n",
       " 'ggc',\n",
       " 'aag',\n",
       " 'acc',\n",
       " 'aac',\n",
       " 'tgc',\n",
       " 'ccc',\n",
       " 'gcc',\n",
       " 'acc',\n",
       " 'gtc',\n",
       " 'atc',\n",
       " 'aac',\n",
       " 'ggg',\n",
       " 'cag',\n",
       " 'ttt',\n",
       " 'gtc',\n",
       " 'gaa',\n",
       " 'cga',\n",
       " 'tgt',\n",
       " 'tgg',\n",
       " 'act',\n",
       " 'cat',\n",
       " 'agt',\n",
       " 'cac',\n",
       " 'tgc',\n",
       " 'cag',\n",
       " 'aaa',\n",
       " 'gtt',\n",
       " 'tgc',\n",
       " 'ccg',\n",
       " 'acc',\n",
       " 'atc',\n",
       " 'tgt',\n",
       " 'aag',\n",
       " 'tca',\n",
       " 'cac',\n",
       " 'ggc',\n",
       " 'tgc',\n",
       " 'acc',\n",
       " 'gcc',\n",
       " 'gaa',\n",
       " 'ggc',\n",
       " 'ctc',\n",
       " 'tgt',\n",
       " 'tgc',\n",
       " 'cac',\n",
       " 'agc',\n",
       " 'gag',\n",
       " 'tgc',\n",
       " 'ctg',\n",
       " 'ggc',\n",
       " 'aac',\n",
       " 'tgt',\n",
       " 'tct',\n",
       " 'cag',\n",
       " 'ccc',\n",
       " 'gac',\n",
       " 'gac',\n",
       " 'ccc',\n",
       " 'acc',\n",
       " 'aag',\n",
       " 'tgc',\n",
       " 'gtg',\n",
       " 'gcc',\n",
       " 'tgc',\n",
       " 'cgc',\n",
       " 'aac',\n",
       " 'ttc',\n",
       " 'tac',\n",
       " 'ctg',\n",
       " 'gac',\n",
       " 'ggc',\n",
       " 'agg',\n",
       " 'tgt',\n",
       " 'gtg',\n",
       " 'gag',\n",
       " 'acc',\n",
       " 'tgc',\n",
       " 'ccg',\n",
       " 'ccc',\n",
       " 'ccg',\n",
       " 'tac',\n",
       " 'tac',\n",
       " 'cac',\n",
       " 'ttc',\n",
       " 'cag',\n",
       " 'gac',\n",
       " 'tgg',\n",
       " 'cgc',\n",
       " 'tgt',\n",
       " 'gtg',\n",
       " 'aac',\n",
       " 'ttc',\n",
       " 'agc',\n",
       " 'ttc',\n",
       " 'tgc',\n",
       " 'cag',\n",
       " 'gac',\n",
       " 'ctg',\n",
       " 'cac',\n",
       " 'cac',\n",
       " 'aaa',\n",
       " 'tgc',\n",
       " 'aag',\n",
       " 'aac',\n",
       " 'tcg',\n",
       " 'cgg',\n",
       " 'agg',\n",
       " 'cag',\n",
       " 'ggc',\n",
       " 'tgc',\n",
       " 'cac',\n",
       " 'caa',\n",
       " 'tac',\n",
       " 'gtc',\n",
       " 'att',\n",
       " 'cac',\n",
       " 'aac',\n",
       " 'aac',\n",
       " 'aag',\n",
       " 'tgc',\n",
       " 'atc',\n",
       " 'cct',\n",
       " 'gag',\n",
       " 'tgt',\n",
       " 'ccc',\n",
       " 'tcc',\n",
       " 'ggg',\n",
       " 'tac',\n",
       " 'acg',\n",
       " 'atg',\n",
       " 'aat',\n",
       " 'tcc',\n",
       " 'agc',\n",
       " 'aac',\n",
       " 'ttg',\n",
       " 'ctg',\n",
       " 'tgc',\n",
       " 'acc',\n",
       " 'cca',\n",
       " 'tgc',\n",
       " 'ctg',\n",
       " 'ggt',\n",
       " 'ccc',\n",
       " 'tgt',\n",
       " 'ccc',\n",
       " 'aag',\n",
       " 'gtg',\n",
       " 'tgc',\n",
       " 'cac',\n",
       " 'ctc',\n",
       " 'cta',\n",
       " 'gaa',\n",
       " 'ggc',\n",
       " 'gag',\n",
       " 'aag',\n",
       " 'acc',\n",
       " 'atc',\n",
       " 'gac',\n",
       " 'tcg',\n",
       " 'gtg',\n",
       " 'acg',\n",
       " 'tct',\n",
       " 'gcc',\n",
       " 'cag',\n",
       " 'gag',\n",
       " 'ctc',\n",
       " 'cga',\n",
       " 'gga',\n",
       " 'tgc',\n",
       " 'acc',\n",
       " 'gtc',\n",
       " 'atc',\n",
       " 'aac',\n",
       " 'ggg',\n",
       " 'agt',\n",
       " 'ctg',\n",
       " 'atc',\n",
       " 'atc',\n",
       " 'aac',\n",
       " 'att',\n",
       " 'cga',\n",
       " 'gga',\n",
       " 'ggc',\n",
       " 'aac',\n",
       " 'aat',\n",
       " 'ctg',\n",
       " 'gca',\n",
       " 'gct',\n",
       " 'gag',\n",
       " 'cta',\n",
       " 'gaa',\n",
       " 'gcc',\n",
       " 'aac',\n",
       " 'ctc',\n",
       " 'ggc',\n",
       " 'ctc',\n",
       " 'att',\n",
       " 'gaa',\n",
       " 'gaa',\n",
       " 'att',\n",
       " 'tca',\n",
       " 'ggg',\n",
       " 'tat',\n",
       " 'cta',\n",
       " 'aaa',\n",
       " 'atc',\n",
       " 'cgc',\n",
       " 'cga',\n",
       " 'tcc',\n",
       " 'tac',\n",
       " 'gct',\n",
       " 'ctg',\n",
       " 'gtg',\n",
       " 'tca',\n",
       " 'ctt',\n",
       " 'tcc',\n",
       " 'ttc',\n",
       " 'ttc',\n",
       " 'cgg',\n",
       " 'aag',\n",
       " 'tta',\n",
       " 'cgt',\n",
       " 'ctg',\n",
       " 'att',\n",
       " 'cga',\n",
       " 'gga',\n",
       " 'gag',\n",
       " 'acc',\n",
       " 'ttg',\n",
       " 'gaa',\n",
       " 'att',\n",
       " 'ggg',\n",
       " 'aac',\n",
       " 'tac',\n",
       " 'tcc',\n",
       " 'ttc',\n",
       " 'tat',\n",
       " 'gcc',\n",
       " 'ttg',\n",
       " 'gac',\n",
       " 'aac',\n",
       " 'cag',\n",
       " 'aac',\n",
       " 'cta',\n",
       " 'agg',\n",
       " 'cag',\n",
       " 'ctc',\n",
       " 'tgg',\n",
       " 'gac',\n",
       " 'tgg',\n",
       " 'agc',\n",
       " 'aaa',\n",
       " 'cac',\n",
       " 'aac',\n",
       " 'ctc',\n",
       " 'acc',\n",
       " 'acc',\n",
       " 'act',\n",
       " 'cag',\n",
       " 'ggg',\n",
       " 'aaa',\n",
       " 'ctc',\n",
       " 'ttc',\n",
       " 'ttc',\n",
       " 'cac',\n",
       " 'tat',\n",
       " 'aac',\n",
       " 'ccc',\n",
       " 'aaa',\n",
       " 'ctc',\n",
       " 'tgc',\n",
       " 'ttg',\n",
       " 'tca',\n",
       " 'gaa',\n",
       " 'atc',\n",
       " 'cac',\n",
       " 'aag',\n",
       " 'atg',\n",
       " 'gaa',\n",
       " 'gaa',\n",
       " 'gtt',\n",
       " 'tca',\n",
       " 'gga',\n",
       " 'acc',\n",
       " 'aag',\n",
       " 'ggg',\n",
       " 'cgc',\n",
       " 'cag',\n",
       " 'gag',\n",
       " 'aga',\n",
       " 'aac',\n",
       " 'gac',\n",
       " 'att',\n",
       " 'gcc',\n",
       " 'ctg',\n",
       " 'aag',\n",
       " 'acc',\n",
       " 'aat',\n",
       " 'ggg',\n",
       " 'gac',\n",
       " 'aag',\n",
       " 'gca',\n",
       " 'tcc',\n",
       " 'tgt',\n",
       " 'gaa',\n",
       " 'aat',\n",
       " 'gag',\n",
       " 'tta',\n",
       " 'ctt',\n",
       " 'aaa',\n",
       " 'ttt',\n",
       " 'tct',\n",
       " 'tac',\n",
       " 'att',\n",
       " 'cgg',\n",
       " 'aca',\n",
       " 'tct',\n",
       " 'ttt',\n",
       " 'gac',\n",
       " 'aag',\n",
       " 'atc',\n",
       " 'ttg',\n",
       " 'ctg',\n",
       " 'aga',\n",
       " 'tgg',\n",
       " 'gag',\n",
       " 'ccg',\n",
       " 'tac',\n",
       " 'tgg',\n",
       " 'ccc',\n",
       " 'ccc',\n",
       " 'gac',\n",
       " 'ttc',\n",
       " 'cga',\n",
       " 'gac',\n",
       " 'ctc',\n",
       " 'ttg',\n",
       " 'ggg',\n",
       " 'ttc',\n",
       " 'atg',\n",
       " 'ctg',\n",
       " 'ttc',\n",
       " 'tac',\n",
       " 'aaa',\n",
       " 'gag',\n",
       " 'gcc',\n",
       " 'cct',\n",
       " 'tat',\n",
       " 'cag',\n",
       " 'aat',\n",
       " 'gtg',\n",
       " 'acg',\n",
       " 'gag',\n",
       " 'ttc',\n",
       " 'gat',\n",
       " 'ggg',\n",
       " 'cag',\n",
       " 'gat',\n",
       " 'gcg',\n",
       " 'tgt',\n",
       " 'ggt',\n",
       " 'tcc',\n",
       " 'aac',\n",
       " 'agt',\n",
       " 'tgg',\n",
       " 'acg',\n",
       " 'gtg',\n",
       " 'gta',\n",
       " 'gac',\n",
       " 'att',\n",
       " 'gac',\n",
       " 'cca',\n",
       " 'ccc',\n",
       " 'ctg',\n",
       " 'agg',\n",
       " 'tcc',\n",
       " 'aac',\n",
       " 'gac',\n",
       " 'ccc',\n",
       " 'aaa',\n",
       " 'tca',\n",
       " 'cag',\n",
       " 'aac',\n",
       " 'cac',\n",
       " 'cca',\n",
       " 'ggg',\n",
       " 'tgg',\n",
       " 'ctg',\n",
       " 'atg',\n",
       " 'cgg',\n",
       " 'ggt',\n",
       " 'ctc',\n",
       " 'aag',\n",
       " 'ccc',\n",
       " 'tgg',\n",
       " 'acc',\n",
       " 'cag',\n",
       " 'tat',\n",
       " 'gcc',\n",
       " 'atc',\n",
       " 'ttt',\n",
       " 'gtg',\n",
       " 'aag',\n",
       " 'acc',\n",
       " 'ctg',\n",
       " 'gtc',\n",
       " 'acc',\n",
       " 'ttt',\n",
       " 'tcg',\n",
       " 'gat',\n",
       " 'gaa',\n",
       " 'cgc',\n",
       " 'cgg',\n",
       " 'acc',\n",
       " 'tat',\n",
       " 'ggg',\n",
       " 'gcc',\n",
       " 'aag',\n",
       " 'agt',\n",
       " 'gac',\n",
       " 'atc',\n",
       " 'att',\n",
       " 'tat',\n",
       " 'gtc',\n",
       " 'cag',\n",
       " 'aca',\n",
       " 'gat',\n",
       " 'gcc',\n",
       " 'acc',\n",
       " 'aac',\n",
       " 'ccc',\n",
       " 'tct',\n",
       " 'gtg',\n",
       " 'ccc',\n",
       " 'ctg',\n",
       " 'gat',\n",
       " 'cca',\n",
       " 'atc',\n",
       " 'tca',\n",
       " 'gtg',\n",
       " 'tct',\n",
       " 'aac',\n",
       " 'tca',\n",
       " 'tca',\n",
       " 'tcc',\n",
       " 'cag',\n",
       " 'att',\n",
       " 'att',\n",
       " 'ctg',\n",
       " 'aag',\n",
       " 'tgg',\n",
       " 'aaa',\n",
       " 'cca',\n",
       " 'ccc',\n",
       " 'tcc',\n",
       " 'gac',\n",
       " 'ccc',\n",
       " 'aat',\n",
       " 'ggc',\n",
       " 'aac',\n",
       " 'atc',\n",
       " 'acc',\n",
       " 'cac',\n",
       " 'tac',\n",
       " 'ctg',\n",
       " 'gtt',\n",
       " 'ttc',\n",
       " 'tgg',\n",
       " 'gag',\n",
       " 'agg',\n",
       " 'cag',\n",
       " 'gcg',\n",
       " 'gaa',\n",
       " 'gac',\n",
       " 'agt',\n",
       " 'gag',\n",
       " 'ctg',\n",
       " 'ttc',\n",
       " 'gag',\n",
       " 'ctg',\n",
       " 'gat',\n",
       " 'tat',\n",
       " 'tgc',\n",
       " 'ctc',\n",
       " 'aaa',\n",
       " 'ggg',\n",
       " 'ctg',\n",
       " 'aag',\n",
       " 'ctg',\n",
       " 'ccc',\n",
       " 'tcg',\n",
       " 'agg',\n",
       " 'acc',\n",
       " 'tgg',\n",
       " 'tct',\n",
       " 'cca',\n",
       " 'cca',\n",
       " 'ttc',\n",
       " 'gag',\n",
       " 'tct',\n",
       " 'gaa',\n",
       " 'gat',\n",
       " 'tct',\n",
       " 'cag',\n",
       " 'aag',\n",
       " 'cac',\n",
       " 'aac',\n",
       " 'cag',\n",
       " 'agt',\n",
       " 'gag',\n",
       " 'tat',\n",
       " 'gag',\n",
       " 'gat',\n",
       " 'tcg',\n",
       " 'gcc',\n",
       " 'ggc',\n",
       " 'gaa',\n",
       " 'tgc',\n",
       " 'tgc',\n",
       " 'tcc',\n",
       " 'tgt',\n",
       " 'cca',\n",
       " 'aag',\n",
       " 'aca',\n",
       " 'gac',\n",
       " 'tct',\n",
       " 'cag',\n",
       " 'atc',\n",
       " 'ctg',\n",
       " 'aag',\n",
       " 'gag',\n",
       " 'ctg',\n",
       " 'gag',\n",
       " 'gag',\n",
       " 'tcc',\n",
       " 'tcg',\n",
       " 'ttt',\n",
       " 'agg',\n",
       " 'aag',\n",
       " 'acg',\n",
       " 'ttt',\n",
       " 'gag',\n",
       " 'gat',\n",
       " 'tac',\n",
       " 'ctg',\n",
       " 'cac',\n",
       " 'aac',\n",
       " 'gtg',\n",
       " 'gtt',\n",
       " 'ttc',\n",
       " 'gtc',\n",
       " 'ccc',\n",
       " 'aga',\n",
       " 'aaa',\n",
       " 'acc',\n",
       " 'tct',\n",
       " 'tca',\n",
       " 'ggc',\n",
       " 'act',\n",
       " 'ggt',\n",
       " 'gcc',\n",
       " 'gag',\n",
       " 'gac',\n",
       " 'cct',\n",
       " 'agg',\n",
       " 'cca',\n",
       " 'tct',\n",
       " 'cgg',\n",
       " 'aaa',\n",
       " 'cgc',\n",
       " 'agg',\n",
       " 'tcc',\n",
       " 'ctt',\n",
       " 'ggc',\n",
       " 'gat',\n",
       " 'gtt',\n",
       " 'ggg',\n",
       " 'aat',\n",
       " 'gtg',\n",
       " 'acg',\n",
       " 'gtg',\n",
       " 'gcc',\n",
       " 'gtg',\n",
       " 'ccc',\n",
       " 'acg',\n",
       " 'gtg',\n",
       " 'gca',\n",
       " 'gct',\n",
       " 'ttc',\n",
       " 'ccc',\n",
       " 'aac',\n",
       " 'act',\n",
       " 'tcc',\n",
       " 'tcg',\n",
       " 'acc',\n",
       " 'agc',\n",
       " 'gtg',\n",
       " 'ccc',\n",
       " 'acg',\n",
       " 'agt',\n",
       " 'ccg',\n",
       " 'gag',\n",
       " 'gag',\n",
       " 'cac',\n",
       " 'agg',\n",
       " 'cct',\n",
       " 'ttt',\n",
       " 'gag',\n",
       " 'aag',\n",
       " 'gtg',\n",
       " 'gtg',\n",
       " 'aac',\n",
       " 'aag',\n",
       " 'gag',\n",
       " 'tcg',\n",
       " 'ctg',\n",
       " 'gtc',\n",
       " 'atc',\n",
       " 'tcc',\n",
       " 'ggc',\n",
       " 'ttg',\n",
       " 'cga',\n",
       " 'cac',\n",
       " 'ttc',\n",
       " 'acg',\n",
       " 'ggc',\n",
       " 'tat',\n",
       " 'cgc',\n",
       " 'atc',\n",
       " 'gag',\n",
       " 'ctg',\n",
       " 'cag',\n",
       " 'gct',\n",
       " 'tgc',\n",
       " 'aac',\n",
       " 'cag',\n",
       " 'gac',\n",
       " 'acc',\n",
       " 'cct',\n",
       " 'gag',\n",
       " 'gaa',\n",
       " 'cgg',\n",
       " 'tgc',\n",
       " 'agt',\n",
       " 'gtg',\n",
       " 'gca',\n",
       " 'gcc',\n",
       " 'tac',\n",
       " 'gtc',\n",
       " 'agt',\n",
       " 'gcg',\n",
       " 'agg',\n",
       " 'acc',\n",
       " 'atg',\n",
       " 'cct',\n",
       " 'gaa',\n",
       " 'gcc',\n",
       " 'aag',\n",
       " 'gct',\n",
       " 'gat',\n",
       " 'gac',\n",
       " 'att',\n",
       " 'gtt',\n",
       " 'ggc',\n",
       " 'cct',\n",
       " 'gtg',\n",
       " 'acg',\n",
       " 'cat',\n",
       " 'gaa',\n",
       " 'atc',\n",
       " 'ttt',\n",
       " 'gag',\n",
       " 'aac',\n",
       " 'aac',\n",
       " 'gtc',\n",
       " 'gtc',\n",
       " 'cac',\n",
       " 'ttg',\n",
       " 'atg',\n",
       " 'tgg',\n",
       " 'cag',\n",
       " 'gag',\n",
       " 'ccg',\n",
       " 'aag',\n",
       " 'gag',\n",
       " 'ccc',\n",
       " 'aat',\n",
       " 'ggt',\n",
       " 'ctg',\n",
       " 'atc',\n",
       " 'gtg',\n",
       " 'ctg',\n",
       " 'tat',\n",
       " 'gaa',\n",
       " 'gtg',\n",
       " 'agt',\n",
       " 'tat',\n",
       " 'cgg',\n",
       " 'cga',\n",
       " 'tat',\n",
       " 'ggt',\n",
       " 'gat',\n",
       " 'gag',\n",
       " 'gag',\n",
       " 'ctg',\n",
       " 'cat',\n",
       " 'ctc',\n",
       " 'tgc',\n",
       " 'gtc',\n",
       " 'tcc',\n",
       " 'cgc',\n",
       " 'aag',\n",
       " 'cac',\n",
       " 'ttc',\n",
       " 'gct',\n",
       " 'ctg',\n",
       " 'gaa',\n",
       " 'cgg',\n",
       " 'ggc',\n",
       " 'tgc',\n",
       " 'agg',\n",
       " 'ctg',\n",
       " 'cgt',\n",
       " 'ggg',\n",
       " 'ctg',\n",
       " 'tca',\n",
       " 'ccg',\n",
       " 'ggg',\n",
       " 'aac',\n",
       " 'tac',\n",
       " 'agc',\n",
       " 'gtg',\n",
       " 'cga',\n",
       " 'atc',\n",
       " 'cgg',\n",
       " 'gcc',\n",
       " 'acc',\n",
       " 'tcc',\n",
       " 'ctt',\n",
       " 'gcg',\n",
       " 'ggc',\n",
       " 'aac',\n",
       " 'ggc',\n",
       " 'tct',\n",
       " 'tgg',\n",
       " 'acg',\n",
       " 'gaa',\n",
       " 'ccc',\n",
       " 'acc',\n",
       " 'tat',\n",
       " 'ttc',\n",
       " 'tac',\n",
       " 'gtg',\n",
       " 'aca',\n",
       " 'gac',\n",
       " 'tat',\n",
       " 'tta',\n",
       " 'gac',\n",
       " 'gtc',\n",
       " 'ccg',\n",
       " 'tca',\n",
       " 'aat',\n",
       " 'att',\n",
       " 'gca',\n",
       " 'aaa',\n",
       " 'att',\n",
       " 'atc',\n",
       " 'atc',\n",
       " 'ggc',\n",
       " 'ccc',\n",
       " 'ctc',\n",
       " 'atc',\n",
       " 'ttt',\n",
       " 'gtc',\n",
       " 'ttt',\n",
       " 'ctc',\n",
       " 'ttc',\n",
       " 'agt',\n",
       " 'gtt',\n",
       " 'gtg',\n",
       " 'att',\n",
       " 'gga',\n",
       " 'agt',\n",
       " 'att',\n",
       " 'tat',\n",
       " 'cta',\n",
       " 'ttc',\n",
       " 'ctg',\n",
       " 'aga',\n",
       " 'aag',\n",
       " 'agg',\n",
       " 'cag',\n",
       " 'cca',\n",
       " 'gat',\n",
       " 'ggg',\n",
       " 'ccg',\n",
       " 'ctg',\n",
       " 'gga',\n",
       " 'ccg',\n",
       " 'ctt',\n",
       " 'tac',\n",
       " 'gct',\n",
       " 'tct',\n",
       " 'tca',\n",
       " 'aac',\n",
       " 'cct',\n",
       " 'gag',\n",
       " 'tat',\n",
       " 'ctc',\n",
       " ...]"
      ]
     },
     "execution_count": 56,
     "metadata": {},
     "output_type": "execute_result"
    }
   ],
   "source": [
    "codon_list"
   ]
  },
  {
   "cell_type": "markdown",
   "metadata": {},
   "source": [
    "b) Costruire la lista di tuple *(codone, frequenza)* elencate per frequenze decrescenti."
   ]
  },
  {
   "cell_type": "code",
   "execution_count": 59,
   "metadata": {},
   "outputs": [],
   "source": [
    "from collections import Counter\n",
    "\n",
    "codon_counter = Counter(codon_list)\n",
    "codon_frequency = codon_counter.most_common()"
   ]
  },
  {
   "cell_type": "code",
   "execution_count": 60,
   "metadata": {},
   "outputs": [
    {
     "data": {
      "text/plain": [
       "[('gag', 77),\n",
       " ('ctg', 67),\n",
       " ('aac', 53),\n",
       " ('gtg', 49),\n",
       " ('aag', 47),\n",
       " ('gac', 44),\n",
       " ('atc', 41),\n",
       " ('acc', 39),\n",
       " ('ttc', 39),\n",
       " ('ggc', 37),\n",
       " ('ccc', 37),\n",
       " ('ctc', 35),\n",
       " ('cag', 32),\n",
       " ('cac', 31),\n",
       " ('atg', 30),\n",
       " ('tgc', 30),\n",
       " ('tac', 29),\n",
       " ('gaa', 29),\n",
       " ('ggg', 28),\n",
       " ('gcc', 28),\n",
       " ('gtc', 28),\n",
       " ('tcc', 27),\n",
       " ('gat', 26),\n",
       " ('cgg', 25),\n",
       " ('att', 23),\n",
       " ('tct', 22),\n",
       " ('aaa', 21),\n",
       " ('tat', 21),\n",
       " ('ttt', 20),\n",
       " ('tgg', 20),\n",
       " ('aat', 19),\n",
       " ('agg', 18),\n",
       " ('gga', 17),\n",
       " ('tgt', 17),\n",
       " ('ttg', 17),\n",
       " ('agt', 17),\n",
       " ('gcg', 16),\n",
       " ('acg', 16),\n",
       " ('cct', 16),\n",
       " ('tca', 15),\n",
       " ('cca', 15),\n",
       " ('ccg', 14),\n",
       " ('cga', 14),\n",
       " ('cgc', 13),\n",
       " ('agc', 12),\n",
       " ('tcg', 12),\n",
       " ('ggt', 11),\n",
       " ('gct', 11),\n",
       " ('act', 10),\n",
       " ('gca', 10),\n",
       " ('gtt', 8),\n",
       " ('ctt', 8),\n",
       " ('cat', 7),\n",
       " ('aga', 7),\n",
       " ('cta', 6),\n",
       " ('cgt', 5),\n",
       " ('caa', 5),\n",
       " ('aca', 5),\n",
       " ('tta', 3),\n",
       " ('gta', 2),\n",
       " ('ata', 1),\n",
       " ('taa', 1)]"
      ]
     },
     "execution_count": 60,
     "metadata": {},
     "output_type": "execute_result"
    }
   ],
   "source": [
    "codon_frequency"
   ]
  },
  {
   "cell_type": "markdown",
   "metadata": {},
   "source": [
    "### 13) Determinazione delle frequenze degli amminoacidi della proteina letta dal file `EMBL`"
   ]
  },
  {
   "cell_type": "markdown",
   "metadata": {},
   "source": [
    "a) Costruire la lista di tuple *(amminoacido, frequenza)* elencate per frequenza decrescente."
   ]
  },
  {
   "cell_type": "code",
   "execution_count": 94,
   "metadata": {},
   "outputs": [],
   "source": [
    "ammino_counter = Counter(protein_sequence)\n",
    "ammino_frequency = ammino_counter.most_common()"
   ]
  },
  {
   "cell_type": "code",
   "execution_count": 95,
   "metadata": {},
   "outputs": [
    {
     "data": {
      "text/plain": [
       "[('L', 136),\n",
       " ('E', 106),\n",
       " ('S', 105),\n",
       " ('G', 93),\n",
       " ('V', 87),\n",
       " ('R', 82),\n",
       " ('P', 82),\n",
       " ('N', 72),\n",
       " ('T', 70),\n",
       " ('D', 70),\n",
       " ('K', 68),\n",
       " ('A', 65),\n",
       " ('I', 65),\n",
       " ('F', 59),\n",
       " ('Y', 50),\n",
       " ('C', 47),\n",
       " ('H', 38),\n",
       " ('Q', 37),\n",
       " ('M', 30),\n",
       " ('W', 20)]"
      ]
     },
     "execution_count": 95,
     "metadata": {},
     "output_type": "execute_result"
    }
   ],
   "source": [
    "ammino_frequency"
   ]
  },
  {
   "cell_type": "markdown",
   "metadata": {},
   "source": [
    "b) Produrre il diagramma a barre delle frequenze degli amminoacidi."
   ]
  },
  {
   "cell_type": "code",
   "execution_count": 96,
   "metadata": {},
   "outputs": [
    {
     "data": {
      "image/png": "[encoded data removed]",
      "text/plain": [
       "<Figure size 432x288 with 1 Axes>"
      ]
     },
     "metadata": {
      "needs_background": "light"
     },
     "output_type": "display_data"
    }
   ],
   "source": [
    "from matplotlib import pyplot as plt\n",
    "\n",
    "x = [aa[0] for aa in ammino_frequency]\n",
    "y = [aa[1] for aa in ammino_frequency]\n",
    "\n",
    "plt.bar(x, y, color = 'red')\n",
    "plt.show()"
   ]
  },
  {
   "cell_type": "markdown",
   "metadata": {},
   "source": [
    "### 14) Validazione della sequenza della proteina letta dal file `EMBL`"
   ]
  },
  {
   "cell_type": "markdown",
   "metadata": {},
   "source": [
    "a) Tradurre in proteina la sequenza della CDS."
   ]
  },
  {
   "cell_type": "markdown",
   "metadata": {},
   "source": [
    "**Alternativa1:** traduzione della lista `codon_list` da lista di codoni a lista di amminoacidi e unione in unica stringa con il metodo `join()`."
   ]
  },
  {
   "cell_type": "code",
   "execution_count": 97,
   "metadata": {},
   "outputs": [],
   "source": [
    "cds_translation = ''.join([genetic_code_dict[codon] for codon in codon_list[:-1]])"
   ]
  },
  {
   "cell_type": "code",
   "execution_count": 98,
   "metadata": {},
   "outputs": [
    {
     "data": {
      "text/plain": [
       "'MGTGGRRGAAAAPLLVAVAALLLGAAGHLYPGEVCPGMDIRNNLTRLHELENCSVIEGHLQILLMFKTRPEDFRDLSFPKLIMITDYLLLFRVYGLESLKDLFPNLTVIRGSRLFFNYALVIFEMVHLKELGLYNLMNITRGSVRIEKNNELCYLATIDWSRILDSVEDNHIVLNKDDNEECGDICPGTAKGKTNCPATVINGQFVERCWTHSHCQKVCPTICKSHGCTAEGLCCHSECLGNCSQPDDPTKCVACRNFYLDGRCVETCPPPYYHFQDWRCVNFSFCQDLHHKCKNSRRQGCHQYVIHNNKCIPECPSGYTMNSSNLLCTPCLGPCPKVCHLLEGEKTIDSVTSAQELRGCTVINGSLIINIRGGNNLAAELEANLGLIEEISGYLKIRRSYALVSLSFFRKLRLIRGETLEIGNYSFYALDNQNLRQLWDWSKHNLTTTQGKLFFHYNPKLCLSEIHKMEEVSGTKGRQERNDIALKTNGDKASCENELLKFSYIRTSFDKILLRWEPYWPPDFRDLLGFMLFYKEAPYQNVTEFDGQDACGSNSWTVVDIDPPLRSNDPKSQNHPGWLMRGLKPWTQYAIFVKTLVTFSDERRTYGAKSDIIYVQTDATNPSVPLDPISVSNSSSQIILKWKPPSDPNGNITHYLVFWERQAEDSELFELDYCLKGLKLPSRTWSPPFESEDSQKHNQSEYEDSAGECCSCPKTDSQILKELEESSFRKTFEDYLHNVVFVPRKTSSGTGAEDPRPSRKRRSLGDVGNVTVAVPTVAAFPNTSSTSVPTSPEEHRPFEKVVNKESLVISGLRHFTGYRIELQACNQDTPEERCSVAAYVSARTMPEAKADDIVGPVTHEIFENNVVHLMWQEPKEPNGLIVLYEVSYRRYGDEELHLCVSRKHFALERGCRLRGLSPGNYSVRIRATSLAGNGSWTEPTYFYVTDYLDVPSNIAKIIIGPLIFVFLFSVVIGSIYLFLRKRQPDGPLGPLYASSNPEYLSASDVFPCSVYVPDEWEVSREKITLLRELGQGSFGMVYEGNARDIIKGEAETRVAVKTVNESASLRERIEFLNEASVMKGFTCHHVVRLLGVVSKGQPTLVVMELMAHGDLKSYLRSLRPEAENNPGRPPPTLQEMIQMAAEIADGMAYLNAKKFVHRDLAARNCMVAHDFTVKIGDFGMTRDIYETDYYRKGGKGLLPVRWMAPESLKDGVFTTSSDMWSFGVVLWEITSLAEQPYQGLSNEQVLKFVMDGGYLDQPDNCPERVTDLMRMCWQFNPKMRPTFLEIVNLLKDDLHPSFPEVSFFHSEENKAPESEELEMEFEDMENVPLDRSSHCQREEAGGRDGGSSLGFKRSYEEHIPYTHMNGGKKNGRILTLPRSNPS'"
      ]
     },
     "execution_count": 98,
     "metadata": {},
     "output_type": "execute_result"
    }
   ],
   "source": [
    "cds_translation"
   ]
  },
  {
   "cell_type": "markdown",
   "metadata": {},
   "source": [
    "**Alternativa2:** traduzione con la funzione `sub()`.\n",
    "\n",
    "    re.sub(regexp, r_arg, string)\n",
    "    \n",
    "Come secondo argomento può essere passata una funzione invece di una stringa di sostituzione. In questo caso `sub()` invocherà tale funzione passando come argomento l'oggetto `Match` restituito da ognuna delle operazioni di di ricerca dell'espressione regolare `regexp` nella stringa `string`."
   ]
  },
  {
   "cell_type": "markdown",
   "metadata": {},
   "source": [
    "Per tradurre la sequenza della CDS in proteina, il secondo argomento della funzione `sub()` si può usare una *lambda function*, cioé una funzione anonima definita \"al volo\" secondo la seguente sintassi:\n",
    "\n",
    "    lambda x: expr\n",
    "    \n",
    "dove `x` è l'argomento della funzione ed `expr` è l'espressione che viene valutata e il cui risultato viene poi restituito dalla funzione.\n",
    "\n",
    "E' sufficiente quindi usare come primo argomento l'espressione regolare `\\w{3}` che trova tutte le occorrenze sovrapposte di tre simboli consecutivi (i codoni) e usare la seguente funzione lambda:\n",
    "\n",
    "    lambda x: genetic_code_dict[x.group()]\n",
    "    \n",
    "che prende in input l'oggetto `x` di tipo `Match` generato, ogni volta, da un'occorrenza dell'espressione regolare, cioé un codone (restituito da `x.group()`) e restituisce come risultato il corrispondente amminoacido."
   ]
  },
  {
   "cell_type": "code",
   "execution_count": 99,
   "metadata": {},
   "outputs": [],
   "source": [
    "cds_translation2 = re.sub(r'\\w{3}', lambda x: genetic_code_dict[x.group()], cds_sequence[:-3])"
   ]
  },
  {
   "cell_type": "markdown",
   "metadata": {},
   "source": [
    "Verificare che le due alternative portano alla stessa traduzione."
   ]
  },
  {
   "cell_type": "code",
   "execution_count": 100,
   "metadata": {},
   "outputs": [
    {
     "data": {
      "text/plain": [
       "True"
      ]
     },
     "execution_count": 100,
     "metadata": {},
     "output_type": "execute_result"
    }
   ],
   "source": [
    "cds_translation2 == cds_translation"
   ]
  },
  {
   "cell_type": "markdown",
   "metadata": {},
   "source": [
    "Verificare infine che la proteina letta dal file `EMBL` è uguale a quella ottenuta per traduzione della CDS."
   ]
  },
  {
   "cell_type": "code",
   "execution_count": 101,
   "metadata": {},
   "outputs": [
    {
     "data": {
      "text/plain": [
       "True"
      ]
     },
     "execution_count": 101,
     "metadata": {},
     "output_type": "execute_result"
    }
   ],
   "source": [
    "cds_translation == protein_sequence"
   ]
  },
  {
   "cell_type": "markdown",
   "metadata": {},
   "source": [
    "### 15) Trovare una CDS \"sinonima\" della precedente ottenuta sostituendo il maggior numero di codoni"
   ]
  },
  {
   "cell_type": "markdown",
   "metadata": {},
   "source": [
    "a) Costruire il dizionario inverso del codice genetico:\n",
    "\n",
    "- *chiave*: simbolo di amminoacido\n",
    "- *valore*: lista dei codoni che corrispondono all'amminoacido"
   ]
  },
  {
   "cell_type": "code",
   "execution_count": 103,
   "metadata": {},
   "outputs": [],
   "source": [
    "inverse_genetic_code_dict = dict([(l[0], l[1:]) for l in split_genetic_code])"
   ]
  },
  {
   "cell_type": "code",
   "execution_count": 104,
   "metadata": {},
   "outputs": [
    {
     "data": {
      "text/plain": [
       "{'A': ['gct', 'gcc', 'gca', 'gcg'],\n",
       " 'C': ['tgt', 'tgc'],\n",
       " 'D': ['gat', 'gac'],\n",
       " 'E': ['gaa', 'gag'],\n",
       " 'F': ['ttt', 'ttc'],\n",
       " 'G': ['ggt', 'ggc', 'gga', 'ggg'],\n",
       " 'H': ['cat', 'cac'],\n",
       " 'I': ['att', 'atc', 'ata'],\n",
       " 'K': ['aaa', 'aag'],\n",
       " 'L': ['tta', 'ttg', 'ctt', 'ctc', 'cta', 'ctg'],\n",
       " 'M': ['atg'],\n",
       " 'N': ['aat', 'aac'],\n",
       " 'P': ['cct', 'ccc', 'cca', 'ccg'],\n",
       " 'Q': ['caa', 'cag'],\n",
       " 'R': ['cgt', 'cgc', 'cga', 'cgg', 'aga', 'agg'],\n",
       " 'S': ['tct', 'tcc', 'tca', 'tcg', 'agt', 'agc'],\n",
       " 'T': ['act', 'acc', 'aca', 'acg'],\n",
       " 'V': ['gtt', 'gtc', 'gta', 'gtg'],\n",
       " 'W': ['tgg'],\n",
       " 'Y': ['tat', 'tac'],\n",
       " 's': ['tga', 'taa', 'tag']}"
      ]
     },
     "execution_count": 104,
     "metadata": {},
     "output_type": "execute_result"
    }
   ],
   "source": [
    "inverse_genetic_code_dict"
   ]
  },
  {
   "cell_type": "markdown",
   "metadata": {},
   "source": [
    "b) Determinare la CDS sinonima."
   ]
  },
  {
   "cell_type": "code",
   "execution_count": null,
   "metadata": {
    "scrolled": true
   },
   "outputs": [],
   "source": []
  },
  {
   "cell_type": "code",
   "execution_count": null,
   "metadata": {},
   "outputs": [],
   "source": [
    "syn_cds_sequence"
   ]
  },
  {
   "cell_type": "markdown",
   "metadata": {},
   "source": [
    "c) Verificare che fornisca la stessa proteina."
   ]
  },
  {
   "cell_type": "code",
   "execution_count": null,
   "metadata": {},
   "outputs": [],
   "source": []
  },
  {
   "cell_type": "markdown",
   "metadata": {},
   "source": [
    "d) Misurare la differenza con la precedente CDS tramite distanza di Hamming, che è il numero di posizioni in cui le due sequenze hanno diverso carattere.\n",
    "\n",
    "**Esempio**: la distanza di Hamming di `ACGTG` e `GCTTG` è pari a 2, in quanto le basi diverse sono quelle in posizione 1 (`A` e `G`) e quelle in posizione 3 (`G` e `T`).\n",
    "\n",
    "*Suggerimento*: usare la funzione `range()` passando come unico argomento la lunghezza della CDS, per produrre il range dei suoi indici di posizione. "
   ]
  },
  {
   "cell_type": "code",
   "execution_count": null,
   "metadata": {},
   "outputs": [],
   "source": []
  },
  {
   "cell_type": "code",
   "execution_count": null,
   "metadata": {},
   "outputs": [],
   "source": [
    "hamming_dist"
   ]
  },
  {
   "cell_type": "markdown",
   "metadata": {},
   "source": [
    "Percentuale di basi differenti rispetto alla lunghezza delle due CDS:"
   ]
  },
  {
   "cell_type": "code",
   "execution_count": null,
   "metadata": {},
   "outputs": [],
   "source": []
  },
  {
   "cell_type": "markdown",
   "metadata": {},
   "source": [
    "Numero di possibili CDS che esprimono la stessa proteina:"
   ]
  },
  {
   "cell_type": "code",
   "execution_count": null,
   "metadata": {},
   "outputs": [],
   "source": []
  }
 ],
 "metadata": {
  "kernelspec": {
   "display_name": "Python 3 (ipykernel)",
   "language": "python",
   "name": "python3"
  },
  "language_info": {
   "codemirror_mode": {
    "name": "ipython",
    "version": 3
   },
   "file_extension": ".py",
   "mimetype": "text/x-python",
   "name": "python",
   "nbconvert_exporter": "python",
   "pygments_lexer": "ipython3",
   "version": "3.9.7"
  }
 },
 "nbformat": 4,
 "nbformat_minor": 2
}
