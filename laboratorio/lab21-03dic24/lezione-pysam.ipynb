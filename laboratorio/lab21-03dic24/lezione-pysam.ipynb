{
 "cells": [
  {
   "cell_type": "markdown",
   "metadata": {},
   "source": [
    "# Modulo pysam per formato SAM/BAM\n",
    "\n",
    "`pysam` è il modulo Python che mette a disposizione le funzionalità per manipolare file in formato SAM/BAM."
   ]
  },
  {
   "cell_type": "markdown",
   "metadata": {},
   "source": [
    "Importare il modulo `pysam`"
   ]
  },
  {
   "cell_type": "code",
   "execution_count": 35,
   "metadata": {},
   "outputs": [],
   "source": [
    "import pysam"
   ]
  },
  {
   "cell_type": "markdown",
   "metadata": {},
   "source": [
    "## Leggere gli allineamenti\n",
    "\n",
    "La classe `AlignmentFile` è la classe che rappresenta un SAM/BAM file.\n",
    "\n",
    "Un oggetto di tipo `AlignmentFile` è ottenuto a partire da un file SAM/BAM nel seguente modo: \n",
    "\n",
    "    sam_file = AlignmentFile(sam_file_name, 'r')\n",
    "    bam_file = AlignmentFile(bam_file_name, 'rb')"
   ]
  },
  {
   "cell_type": "markdown",
   "metadata": {},
   "source": [
    "Importare la classe `AlignmentFile`."
   ]
  },
  {
   "cell_type": "code",
   "execution_count": 36,
   "metadata": {},
   "outputs": [],
   "source": [
    "from pysam import AlignmentFile"
   ]
  },
  {
   "cell_type": "markdown",
   "metadata": {},
   "source": [
    "### Ottenere gli allineamenti da un file BAM\n",
    "\n",
    "Indicizzare il file tramite la funzione `index()`."
   ]
  },
  {
   "cell_type": "code",
   "execution_count": 37,
   "metadata": {},
   "outputs": [
    {
     "data": {
      "text/plain": [
       "''"
      ]
     },
     "execution_count": 37,
     "metadata": {},
     "output_type": "execute_result"
    }
   ],
   "source": [
    "pysam.index('./sample.bam')"
   ]
  },
  {
   "cell_type": "markdown",
   "metadata": {},
   "source": [
    "Costruire l'oggetto `AlignmentFile`."
   ]
  },
  {
   "cell_type": "code",
   "execution_count": 38,
   "metadata": {},
   "outputs": [],
   "source": [
    "bam_file = AlignmentFile('./sample.bam', 'rb')"
   ]
  },
  {
   "cell_type": "markdown",
   "metadata": {},
   "source": [
    "`bam_file` contiene tutti gli allineamenti presenti nel file."
   ]
  },
  {
   "cell_type": "markdown",
   "metadata": {},
   "source": [
    "Il numero di reads mappati e non mappati si ottiene accedendo agli attributi `mapped` e `unmapped`.\n",
    "\n",
    "Reads non mappati dovuti a:\n",
    "\n",
    "- reads che non sono stati allineati a una posizione specifica del genoma di riferimento ma si inseriscono lo stesso per poter fare debugging\n",
    "- paired-end reads in cui una delle due parti è mappata e l'altra no (ma si inserisce lo stesso)\n",
    "\n",
    "Informazione riportata nel campo FLAG."
   ]
  },
  {
   "cell_type": "code",
   "execution_count": 39,
   "metadata": {},
   "outputs": [
    {
     "data": {
      "text/plain": [
       "25008"
      ]
     },
     "execution_count": 39,
     "metadata": {},
     "output_type": "execute_result"
    }
   ],
   "source": [
    "bam_file.mapped"
   ]
  },
  {
   "cell_type": "code",
   "execution_count": 40,
   "metadata": {},
   "outputs": [
    {
     "data": {
      "text/plain": [
       "0"
      ]
     },
     "execution_count": 40,
     "metadata": {},
     "output_type": "execute_result"
    }
   ],
   "source": [
    "bam_file.unmapped"
   ]
  },
  {
   "cell_type": "markdown",
   "metadata": {},
   "source": [
    "Le references coinvolte nel file BAM si ottengono accedendo all'attributo `references`."
   ]
  },
  {
   "cell_type": "code",
   "execution_count": 41,
   "metadata": {},
   "outputs": [
    {
     "data": {
      "text/plain": [
       "('X',)"
      ]
     },
     "execution_count": 41,
     "metadata": {},
     "output_type": "execute_result"
    }
   ],
   "source": [
    "bam_file.references"
   ]
  },
  {
   "cell_type": "markdown",
   "metadata": {},
   "source": [
    "Il numero di references coinvolte nel file BAM si ottengono accedendo all'attributo `nreferences`."
   ]
  },
  {
   "cell_type": "code",
   "execution_count": 42,
   "metadata": {},
   "outputs": [
    {
     "data": {
      "text/plain": [
       "1"
      ]
     },
     "execution_count": 42,
     "metadata": {},
     "output_type": "execute_result"
    }
   ],
   "source": [
    "bam_file.nreferences"
   ]
  },
  {
   "cell_type": "markdown",
   "metadata": {},
   "source": [
    "La lunghezza delle references coinvolte nel file BAM si ottengono accedendo all'attributo `lengths`."
   ]
  },
  {
   "cell_type": "code",
   "execution_count": 43,
   "metadata": {},
   "outputs": [
    {
     "data": {
      "text/plain": [
       "(23542271,)"
      ]
     },
     "execution_count": 43,
     "metadata": {},
     "output_type": "execute_result"
    }
   ],
   "source": [
    "bam_file.lengths"
   ]
  },
  {
   "cell_type": "markdown",
   "metadata": {},
   "source": [
    "La lunghezza di una reference in particolare si ottiene con il metodo `get_reference_length()`."
   ]
  },
  {
   "cell_type": "code",
   "execution_count": 44,
   "metadata": {},
   "outputs": [
    {
     "data": {
      "text/plain": [
       "23542271"
      ]
     },
     "execution_count": 44,
     "metadata": {},
     "output_type": "execute_result"
    }
   ],
   "source": [
    "bam_file.get_reference_length('X')"
   ]
  },
  {
   "cell_type": "markdown",
   "metadata": {},
   "source": [
    "Il numero di reads mappati a una determinata regione della reference si ottiene con il metodo `count()`"
   ]
  },
  {
   "cell_type": "code",
   "execution_count": 45,
   "metadata": {},
   "outputs": [
    {
     "data": {
      "text/plain": [
       "25008"
      ]
     },
     "execution_count": 45,
     "metadata": {},
     "output_type": "execute_result"
    }
   ],
   "source": [
    "bam_file.count('X', 280000, 300000)"
   ]
  },
  {
   "cell_type": "markdown",
   "metadata": {},
   "source": [
    "## Estrarre gli allineamenti\n",
    "\n",
    "Il metodo `head(n)` restituisce i primi n allineamenti.\n",
    "\n",
    "Il metodo `fetch()` invocato nei tre seguenti modi: \n",
    "\n",
    "    bam_file.fetch()\n",
    "    bam_file.fetch(ref_name)\n",
    "    bam_file.fetch(ref_name, start_region, end_region)\n",
    "    \n",
    "restituisce un iteratore contenente (rispettivamente):\n",
    "\n",
    "- tutti gli allineamenti\n",
    "- tutti gli allineamenti che si riferiscono alla reference `ref_name`\n",
    "- tutti gli allineamenti che si riferiscono alla sottoregione tra le posizioni `start_region` e `end_region`della reference `ref_name`.\n",
    "\n",
    "Il singolo allineamento è un oggetto della classe `AlignedSegment`.\n",
    "\n",
    "---\n",
    "    \n",
    "**Esercizio**: estrarre tutti gli allineamenti."
   ]
  },
  {
   "cell_type": "code",
   "execution_count": 46,
   "metadata": {},
   "outputs": [],
   "source": [
    "all_alignments = list(bam_file.fetch())"
   ]
  },
  {
   "cell_type": "markdown",
   "metadata": {},
   "source": [
    "Il numero di allineamenti estratti è:"
   ]
  },
  {
   "cell_type": "code",
   "execution_count": 47,
   "metadata": {},
   "outputs": [
    {
     "data": {
      "text/plain": [
       "25008"
      ]
     },
     "execution_count": 47,
     "metadata": {},
     "output_type": "execute_result"
    }
   ],
   "source": [
    "len(all_alignments)"
   ]
  },
  {
   "cell_type": "markdown",
   "metadata": {},
   "source": [
    "**Esercizio**: estrarre gli allineamenti relativi alla reference `X` che cadono nella regione tra le posizioni `280000` e `285000`."
   ]
  },
  {
   "cell_type": "code",
   "execution_count": 48,
   "metadata": {},
   "outputs": [
    {
     "data": {
      "text/plain": [
       "3170"
      ]
     },
     "execution_count": 48,
     "metadata": {},
     "output_type": "execute_result"
    }
   ],
   "source": [
    "len(list(bam_file.fetch('X', 280000, 285000)))"
   ]
  },
  {
   "cell_type": "markdown",
   "metadata": {},
   "source": [
    "**Esercizio**: estrarre i primi 50 allineamenti."
   ]
  },
  {
   "cell_type": "code",
   "execution_count": null,
   "metadata": {},
   "outputs": [],
   "source": []
  },
  {
   "cell_type": "markdown",
   "metadata": {},
   "source": [
    "## Accedere alle informazioni di un allineamento"
   ]
  },
  {
   "cell_type": "markdown",
   "metadata": {},
   "source": [
    "Estrarre il primo allineamento della lista `all_alignments`."
   ]
  },
  {
   "cell_type": "code",
   "execution_count": 49,
   "metadata": {},
   "outputs": [
    {
     "data": {
      "text/plain": [
       "<pysam.libcalignedsegment.AlignedSegment at 0x10efc6d60>"
      ]
     },
     "execution_count": 49,
     "metadata": {},
     "output_type": "execute_result"
    }
   ],
   "source": [
    "first_alignment = all_alignments[0]\n",
    "first_alignment"
   ]
  },
  {
   "cell_type": "markdown",
   "metadata": {},
   "source": [
    "Gli oggetti `AlignedSegment` hanno una serie di attributi che descrivono l'allineamento."
   ]
  },
  {
   "cell_type": "code",
   "execution_count": 50,
   "metadata": {},
   "outputs": [
    {
     "data": {
      "text/plain": [
       "'100M'"
      ]
     },
     "execution_count": 50,
     "metadata": {},
     "output_type": "execute_result"
    }
   ],
   "source": [
    "first_alignment.cigarstring"
   ]
  },
  {
   "cell_type": "code",
   "execution_count": 51,
   "metadata": {},
   "outputs": [
    {
     "data": {
      "text/plain": [
       "[(0, 100)]"
      ]
     },
     "execution_count": 51,
     "metadata": {},
     "output_type": "execute_result"
    }
   ],
   "source": [
    "first_alignment.cigartuples"
   ]
  },
  {
   "cell_type": "code",
   "execution_count": 52,
   "metadata": {},
   "outputs": [
    {
     "data": {
      "text/plain": [
       "0"
      ]
     },
     "execution_count": 52,
     "metadata": {},
     "output_type": "execute_result"
    }
   ],
   "source": [
    "first_alignment.flag"
   ]
  },
  {
   "cell_type": "code",
   "execution_count": 53,
   "metadata": {},
   "outputs": [
    {
     "data": {
      "text/plain": [
       "False"
      ]
     },
     "execution_count": 53,
     "metadata": {},
     "output_type": "execute_result"
    }
   ],
   "source": [
    "first_alignment.is_paired"
   ]
  },
  {
   "cell_type": "code",
   "execution_count": 54,
   "metadata": {},
   "outputs": [
    {
     "data": {
      "text/plain": [
       "False"
      ]
     },
     "execution_count": 54,
     "metadata": {},
     "output_type": "execute_result"
    }
   ],
   "source": [
    "first_alignment.is_reverse"
   ]
  },
  {
   "cell_type": "code",
   "execution_count": 55,
   "metadata": {},
   "outputs": [
    {
     "data": {
      "text/plain": [
       "False"
      ]
     },
     "execution_count": 55,
     "metadata": {},
     "output_type": "execute_result"
    }
   ],
   "source": [
    "first_alignment.is_secondary"
   ]
  },
  {
   "cell_type": "code",
   "execution_count": 56,
   "metadata": {},
   "outputs": [
    {
     "data": {
      "text/plain": [
       "255"
      ]
     },
     "execution_count": 56,
     "metadata": {},
     "output_type": "execute_result"
    }
   ],
   "source": [
    "first_alignment.mapping_quality"
   ]
  },
  {
   "cell_type": "code",
   "execution_count": 57,
   "metadata": {},
   "outputs": [
    {
     "data": {
      "text/plain": [
       "283185"
      ]
     },
     "execution_count": 57,
     "metadata": {},
     "output_type": "execute_result"
    }
   ],
   "source": [
    "first_alignment.reference_start"
   ]
  },
  {
   "cell_type": "code",
   "execution_count": 58,
   "metadata": {},
   "outputs": [
    {
     "data": {
      "text/plain": [
       "'FBtr0300326_e_2967_X_283185'"
      ]
     },
     "execution_count": 58,
     "metadata": {},
     "output_type": "execute_result"
    }
   ],
   "source": [
    "first_alignment.query_name"
   ]
  },
  {
   "cell_type": "code",
   "execution_count": 59,
   "metadata": {},
   "outputs": [
    {
     "data": {
      "text/plain": [
       "array('B', [2, 2, 2, 2, 2, 2, 2, 2, 2, 2, 2, 2, 2, 2, 2, 2, 2, 2, 2, 2, 2, 2, 2, 2, 2, 2, 2, 2, 2, 2, 2, 2, 2, 2, 2, 2, 2, 2, 2, 2, 2, 2, 2, 2, 2, 2, 2, 2, 2, 2, 2, 2, 2, 2, 2, 2, 2, 2, 2, 2, 2, 2, 2, 2, 2, 2, 2, 2, 2, 2, 2, 2, 2, 2, 2, 2, 2, 2, 2, 2, 2, 2, 2, 2, 2, 2, 2, 2, 2, 2, 2, 2, 2, 2, 2, 2, 2, 2, 2, 2])"
      ]
     },
     "execution_count": 59,
     "metadata": {},
     "output_type": "execute_result"
    }
   ],
   "source": [
    "first_alignment.query_qualities"
   ]
  },
  {
   "cell_type": "code",
   "execution_count": 60,
   "metadata": {},
   "outputs": [
    {
     "data": {
      "text/plain": [
       "'GCCCTTGCATTTATTTCCAGTTTTGGTTTTTTTTTTGTATTTATCAATTACATTTATAATTAATTATACACCATGTATATATATGTATTTATATACTATA'"
      ]
     },
     "execution_count": 60,
     "metadata": {},
     "output_type": "execute_result"
    }
   ],
   "source": [
    "first_alignment.query_alignment_sequence"
   ]
  },
  {
   "cell_type": "markdown",
   "metadata": {},
   "source": [
    "Gli oggetti `AlignedSegment` hanno una serie di metodi:\n",
    "\n",
    "- `get_tags()` restituisce i tag opzionali"
   ]
  },
  {
   "cell_type": "code",
   "execution_count": 61,
   "metadata": {},
   "outputs": [
    {
     "data": {
      "text/plain": [
       "[('NH', 1), ('HI', 1), ('AS', 98), ('nM', 0)]"
      ]
     },
     "execution_count": 61,
     "metadata": {},
     "output_type": "execute_result"
    }
   ],
   "source": [
    "first_alignment.get_tags()"
   ]
  },
  {
   "cell_type": "markdown",
   "metadata": {},
   "source": [
    "## Metodi di `AlignmentFile`\n",
    "\n",
    "- `find_introns()` trova gli introni supportati dagli allineamenti passati come argomento. Per ogni introne, viene fornito il numero di reads allineati (spliced alignment).\n",
    "       \n",
    "Viene restituito un oggetto `Counter` in cui le chiavi sono tuple *(start, end)* (inroni) e i valori sono il numero di reads che supportano un dato introne.\n",
    "\n",
    "Il valore di *end* è la posizione della base del reference immediatamente successiva alla fine dell'introne."
   ]
  },
  {
   "cell_type": "markdown",
   "metadata": {},
   "source": [
    "**Esercizio**: estrarre gli introni supportati dagli allineamenti."
   ]
  },
  {
   "cell_type": "code",
   "execution_count": 62,
   "metadata": {},
   "outputs": [
    {
     "data": {
      "text/plain": [
       "Counter({(286891, 286948): 1255,\n",
       "         (287041, 287328): 794,\n",
       "         (287041, 289040): 468,\n",
       "         (287526, 289040): 707,\n",
       "         (289272, 289870): 530,\n",
       "         (289272, 290252): 730,\n",
       "         (289943, 290252): 593,\n",
       "         (290596, 294712): 741,\n",
       "         (290596, 294822): 586})"
      ]
     },
     "execution_count": 62,
     "metadata": {},
     "output_type": "execute_result"
    }
   ],
   "source": [
    "bam_file.find_introns(bam_file.fetch())"
   ]
  },
  {
   "cell_type": "markdown",
   "metadata": {},
   "source": [
    "- `pileup()`, restituisce un iteratore contenente un oggetto `PileupColumn` per ognuna delle basi coperte da allineamenti che cadono nella regione specificata come *argomento*.\n",
    "\n",
    "Se l'argomento non viene specificato allora vengono considerati tutti gli allineamenti presenti nel BAM file.\n",
    "\n",
    "       bam_file.pileup()\n",
    "       bam_file.pileup(ref_name)\n",
    "       bam_file.pileup(ref_name, start_region, end_region)\n",
    "\n",
    "Ogni base della reference coperta da qualche allineamento viene chiamata *pileup column*.\n",
    "\n",
    "---\n",
    "\n",
    "Trovare tutte le basi della reference coperte da allineamenti."
   ]
  },
  {
   "cell_type": "code",
   "execution_count": 63,
   "metadata": {},
   "outputs": [],
   "source": [
    "pileup_iter = bam_file.pileup()"
   ]
  },
  {
   "cell_type": "code",
   "execution_count": 64,
   "metadata": {},
   "outputs": [],
   "source": [
    "pileup_columns = list(pileup_iter)"
   ]
  },
  {
   "cell_type": "markdown",
   "metadata": {},
   "source": [
    "Numero di basi coperte da allineamenti:"
   ]
  },
  {
   "cell_type": "code",
   "execution_count": 65,
   "metadata": {},
   "outputs": [
    {
     "data": {
      "text/plain": [
       "11777"
      ]
     },
     "execution_count": 65,
     "metadata": {},
     "output_type": "execute_result"
    }
   ],
   "source": [
    "len(pileup_columns)"
   ]
  },
  {
   "cell_type": "markdown",
   "metadata": {},
   "source": [
    "**Esercizio**: accedere alla 1000-esima colonna (base) di *pileup* e:\n",
    "\n",
    "- settare la qualità minima a 0"
   ]
  },
  {
   "cell_type": "code",
   "execution_count": 66,
   "metadata": {},
   "outputs": [],
   "source": [
    "pileup_columns[999].set_min_base_quality(0)"
   ]
  },
  {
   "cell_type": "markdown",
   "metadata": {},
   "source": [
    "- accedere alla posizione sulla reference"
   ]
  },
  {
   "cell_type": "code",
   "execution_count": 67,
   "metadata": {},
   "outputs": [
    {
     "data": {
      "text/plain": [
       "284184"
      ]
     },
     "execution_count": 67,
     "metadata": {},
     "output_type": "execute_result"
    }
   ],
   "source": [
    "pileup_columns[999].pos"
   ]
  },
  {
   "cell_type": "markdown",
   "metadata": {},
   "source": [
    "- estrarre il numero di reads che coprono la base."
   ]
  },
  {
   "cell_type": "code",
   "execution_count": 68,
   "metadata": {},
   "outputs": [
    {
     "data": {
      "text/plain": [
       "180"
      ]
     },
     "execution_count": 68,
     "metadata": {},
     "output_type": "execute_result"
    }
   ],
   "source": [
    "pileup_columns[999].nsegments"
   ]
  },
  {
   "cell_type": "markdown",
   "metadata": {},
   "source": [
    "- ottenere gli identificatori dei reads che coprono la base."
   ]
  },
  {
   "cell_type": "code",
   "execution_count": 69,
   "metadata": {
    "scrolled": false
   },
   "outputs": [
    {
     "data": {
      "text/plain": [
       "['FBtr0342963_e_4202_X_294862',\n",
       " 'FBtr0342963_e_6192_X_294862',\n",
       " 'FBtr0342963_e_7396_X_294862',\n",
       " 'FBtr0070103_e_4896_X_294862',\n",
       " 'FBtr0342963_e_1514_X_294862',\n",
       " 'FBtr0342963_e_4365_X_294862',\n",
       " 'FBtr0070103_e_1858_X_294862',\n",
       " 'FBtr0070103_e_2397_X_294862',\n",
       " 'FBtr0070103_e_5063_X_294862',\n",
       " 'FBtr0300326_e_4543_X_294861',\n",
       " 'FBtr0070103_e_519_X_294861',\n",
       " 'FBtr0070103_e_7416_X_294861',\n",
       " 'FBtr0342963_e_2335_X_294861',\n",
       " 'FBtr0342963_e_4019_X_294861',\n",
       " 'FBtr0342963_e_4425_X_294861',\n",
       " 'FBtr0342963_e_4688_X_294861',\n",
       " 'FBtr0300326_e_2872_X_294861',\n",
       " 'FBtr0070103_e_1324_X_294861',\n",
       " 'FBtr0070103_e_4777_X_294861',\n",
       " 'FBtr0070103_e_6318_X_294861',\n",
       " 'FBtr0070103_e_8286_X_294861',\n",
       " 'FBtr0342963_e_4202_X_294862',\n",
       " 'FBtr0342963_e_6192_X_294862',\n",
       " 'FBtr0342963_e_7396_X_294862',\n",
       " 'FBtr0070103_e_4896_X_294862',\n",
       " 'FBtr0342963_e_1514_X_294862',\n",
       " 'FBtr0342963_e_4365_X_294862',\n",
       " 'FBtr0070103_e_1858_X_294862',\n",
       " 'FBtr0070103_e_2397_X_294862',\n",
       " 'FBtr0070103_e_5063_X_294862',\n",
       " 'FBtr0342963_e_4688_X_294861',\n",
       " 'FBtr0300326_e_2872_X_294861',\n",
       " 'FBtr0070103_e_1324_X_294861',\n",
       " 'FBtr0070103_e_4777_X_294861',\n",
       " 'FBtr0070103_e_6318_X_294861',\n",
       " 'FBtr0070103_e_8286_X_294861',\n",
       " 'FBtr0342963_e_4202_X_294862',\n",
       " 'FBtr0342963_e_6192_X_294862',\n",
       " 'FBtr0342963_e_7396_X_294862',\n",
       " 'FBtr0070103_e_4896_X_294862',\n",
       " 'FBtr0342963_e_1514_X_294862',\n",
       " 'FBtr0342963_e_4365_X_294862',\n",
       " 'FBtr0070103_e_1858_X_294862',\n",
       " 'FBtr0070103_e_2397_X_294862',\n",
       " 'FBtr0070103_e_5063_X_294862',\n",
       " 'FBtr0342963_e_4688_X_294861',\n",
       " 'FBtr0300326_e_2872_X_294861',\n",
       " 'FBtr0070103_e_1324_X_294861',\n",
       " 'FBtr0070103_e_4777_X_294861',\n",
       " 'FBtr0070103_e_6318_X_294861',\n",
       " 'FBtr0070103_e_8286_X_294861',\n",
       " 'FBtr0342963_e_4202_X_294862',\n",
       " 'FBtr0342963_e_6192_X_294862',\n",
       " 'FBtr0342963_e_7396_X_294862',\n",
       " 'FBtr0070103_e_4896_X_294862',\n",
       " 'FBtr0342963_e_1514_X_294862',\n",
       " 'FBtr0342963_e_4365_X_294862',\n",
       " 'FBtr0070103_e_1858_X_294862',\n",
       " 'FBtr0070103_e_2397_X_294862',\n",
       " 'FBtr0070103_e_5063_X_294862',\n",
       " 'FBtr0070103_e_4777_X_294861',\n",
       " 'FBtr0070103_e_6318_X_294861',\n",
       " 'FBtr0070103_e_8286_X_294861',\n",
       " 'FBtr0342963_e_4202_X_294862',\n",
       " 'FBtr0342963_e_6192_X_294862',\n",
       " 'FBtr0342963_e_7396_X_294862',\n",
       " 'FBtr0070103_e_4896_X_294862',\n",
       " 'FBtr0342963_e_1514_X_294862',\n",
       " 'FBtr0342963_e_4365_X_294862',\n",
       " 'FBtr0070103_e_1858_X_294862',\n",
       " 'FBtr0070103_e_2397_X_294862',\n",
       " 'FBtr0070103_e_5063_X_294862',\n",
       " 'FBtr0070103_e_1324_X_294861',\n",
       " 'FBtr0070103_e_4777_X_294861',\n",
       " 'FBtr0070103_e_6318_X_294861',\n",
       " 'FBtr0070103_e_8286_X_294861',\n",
       " 'FBtr0342963_e_4202_X_294862',\n",
       " 'FBtr0342963_e_6192_X_294862',\n",
       " 'FBtr0342963_e_7396_X_294862',\n",
       " 'FBtr0070103_e_4896_X_294862',\n",
       " 'FBtr0342963_e_1514_X_294862',\n",
       " 'FBtr0342963_e_4365_X_294862',\n",
       " 'FBtr0070103_e_1858_X_294862',\n",
       " 'FBtr0070103_e_2397_X_294862',\n",
       " 'FBtr0070103_e_5063_X_294862',\n",
       " 'FBtr0070103_e_6318_X_294861',\n",
       " 'FBtr0070103_e_8286_X_294861',\n",
       " 'FBtr0342963_e_4202_X_294862',\n",
       " 'FBtr0342963_e_6192_X_294862',\n",
       " 'FBtr0342963_e_7396_X_294862',\n",
       " 'FBtr0070103_e_4896_X_294862',\n",
       " 'FBtr0342963_e_1514_X_294862',\n",
       " 'FBtr0342963_e_4365_X_294862',\n",
       " 'FBtr0070103_e_1858_X_294862',\n",
       " 'FBtr0070103_e_2397_X_294862',\n",
       " 'FBtr0070103_e_5063_X_294862',\n",
       " 'FBtr0342963_e_4202_X_294862',\n",
       " 'FBtr0342963_e_6192_X_294862',\n",
       " 'FBtr0342963_e_7396_X_294862',\n",
       " 'FBtr0070103_e_4896_X_294862',\n",
       " 'FBtr0342963_e_1514_X_294862',\n",
       " 'FBtr0342963_e_4365_X_294862',\n",
       " 'FBtr0070103_e_1858_X_294862',\n",
       " 'FBtr0070103_e_2397_X_294862',\n",
       " 'FBtr0070103_e_5063_X_294862',\n",
       " 'FBtr0070103_e_6318_X_294861',\n",
       " 'FBtr0070103_e_8286_X_294861',\n",
       " 'FBtr0342963_e_4202_X_294862',\n",
       " 'FBtr0342963_e_6192_X_294862',\n",
       " 'FBtr0342963_e_7396_X_294862',\n",
       " 'FBtr0070103_e_4896_X_294862',\n",
       " 'FBtr0342963_e_1514_X_294862',\n",
       " 'FBtr0342963_e_4365_X_294862',\n",
       " 'FBtr0070103_e_1858_X_294862',\n",
       " 'FBtr0070103_e_2397_X_294862',\n",
       " 'FBtr0070103_e_5063_X_294862',\n",
       " 'FBtr0342963_e_6570_X_294861',\n",
       " 'FBtr0342963_e_7440_X_294861',\n",
       " 'FBtr0300326_e_3787_X_294861',\n",
       " 'FBtr0300326_e_4543_X_294861',\n",
       " 'FBtr0070103_e_519_X_294861',\n",
       " 'FBtr0070103_e_7416_X_294861',\n",
       " 'FBtr0342963_e_2335_X_294861',\n",
       " 'FBtr0342963_e_4019_X_294861',\n",
       " 'FBtr0342963_e_4425_X_294861',\n",
       " 'FBtr0342963_e_4688_X_294861',\n",
       " 'FBtr0300326_e_2872_X_294861',\n",
       " 'FBtr0070103_e_1324_X_294861',\n",
       " 'FBtr0070103_e_4777_X_294861',\n",
       " 'FBtr0070103_e_6318_X_294861',\n",
       " 'FBtr0070103_e_8286_X_294861',\n",
       " 'FBtr0342963_e_4202_X_294862',\n",
       " 'FBtr0342963_e_6192_X_294862',\n",
       " 'FBtr0342963_e_7396_X_294862',\n",
       " 'FBtr0070103_e_4896_X_294862',\n",
       " 'FBtr0342963_e_1514_X_294862',\n",
       " 'FBtr0342963_e_4365_X_294862',\n",
       " 'FBtr0070103_e_1858_X_294862',\n",
       " 'FBtr0070103_e_2397_X_294862',\n",
       " 'FBtr0070103_e_5063_X_294862',\n",
       " 'FBtr0070103_e_519_X_294861',\n",
       " 'FBtr0070103_e_7416_X_294861',\n",
       " 'FBtr0342963_e_2335_X_294861',\n",
       " 'FBtr0342963_e_4019_X_294861',\n",
       " 'FBtr0342963_e_4425_X_294861',\n",
       " 'FBtr0342963_e_4688_X_294861',\n",
       " 'FBtr0300326_e_2872_X_294861',\n",
       " 'FBtr0070103_e_1324_X_294861',\n",
       " 'FBtr0070103_e_4777_X_294861',\n",
       " 'FBtr0070103_e_6318_X_294861',\n",
       " 'FBtr0070103_e_8286_X_294861',\n",
       " 'FBtr0342963_e_4202_X_294862',\n",
       " 'FBtr0342963_e_6192_X_294862',\n",
       " 'FBtr0342963_e_7396_X_294862',\n",
       " 'FBtr0070103_e_4896_X_294862',\n",
       " 'FBtr0342963_e_1514_X_294862',\n",
       " 'FBtr0342963_e_4365_X_294862',\n",
       " 'FBtr0070103_e_1858_X_294862',\n",
       " 'FBtr0070103_e_2397_X_294862',\n",
       " 'FBtr0070103_e_5063_X_294862',\n",
       " 'FBtr0070103_e_519_X_294861',\n",
       " 'FBtr0070103_e_7416_X_294861',\n",
       " 'FBtr0342963_e_2335_X_294861',\n",
       " 'FBtr0342963_e_4019_X_294861',\n",
       " 'FBtr0342963_e_4425_X_294861',\n",
       " 'FBtr0342963_e_4688_X_294861',\n",
       " 'FBtr0300326_e_2872_X_294861',\n",
       " 'FBtr0070103_e_1324_X_294861',\n",
       " 'FBtr0070103_e_4777_X_294861',\n",
       " 'FBtr0070103_e_6318_X_294861',\n",
       " 'FBtr0070103_e_8286_X_294861',\n",
       " 'FBtr0342963_e_4202_X_294862',\n",
       " 'FBtr0342963_e_6192_X_294862',\n",
       " 'FBtr0342963_e_7396_X_294862',\n",
       " 'FBtr0070103_e_4896_X_294862',\n",
       " 'FBtr0342963_e_1514_X_294862',\n",
       " 'FBtr0342963_e_4365_X_294862',\n",
       " 'FBtr0070103_e_1858_X_294862',\n",
       " 'FBtr0070103_e_2397_X_294862',\n",
       " 'FBtr0070103_e_5063_X_294862']"
      ]
     },
     "execution_count": 69,
     "metadata": {},
     "output_type": "execute_result"
    }
   ],
   "source": [
    "pileup_columns[999].get_query_names()"
   ]
  },
  {
   "cell_type": "markdown",
   "metadata": {},
   "source": [
    "- estrarre la lista dei reads che coprono la base."
   ]
  },
  {
   "cell_type": "code",
   "execution_count": 70,
   "metadata": {},
   "outputs": [
    {
     "data": {
      "text/plain": [
       "[<pysam.libcalignedsegment.PileupRead at 0x10fba8bd0>,\n",
       " <pysam.libcalignedsegment.PileupRead at 0x1103d88b0>,\n",
       " <pysam.libcalignedsegment.PileupRead at 0x1103d8950>,\n",
       " <pysam.libcalignedsegment.PileupRead at 0x1103d89a0>,\n",
       " <pysam.libcalignedsegment.PileupRead at 0x1103d89f0>,\n",
       " <pysam.libcalignedsegment.PileupRead at 0x1103d8a40>,\n",
       " <pysam.libcalignedsegment.PileupRead at 0x1103d8a90>,\n",
       " <pysam.libcalignedsegment.PileupRead at 0x1103d8ae0>,\n",
       " <pysam.libcalignedsegment.PileupRead at 0x1103d8b30>,\n",
       " <pysam.libcalignedsegment.PileupRead at 0x1103d8b80>,\n",
       " <pysam.libcalignedsegment.PileupRead at 0x1103d8bd0>,\n",
       " <pysam.libcalignedsegment.PileupRead at 0x1103d8c20>,\n",
       " <pysam.libcalignedsegment.PileupRead at 0x1103d8c70>,\n",
       " <pysam.libcalignedsegment.PileupRead at 0x1103d8cc0>,\n",
       " <pysam.libcalignedsegment.PileupRead at 0x1103d8d10>,\n",
       " <pysam.libcalignedsegment.PileupRead at 0x1103d8d60>,\n",
       " <pysam.libcalignedsegment.PileupRead at 0x1103d8db0>,\n",
       " <pysam.libcalignedsegment.PileupRead at 0x1103d8e00>,\n",
       " <pysam.libcalignedsegment.PileupRead at 0x1103d8e50>,\n",
       " <pysam.libcalignedsegment.PileupRead at 0x1103d8ea0>,\n",
       " <pysam.libcalignedsegment.PileupRead at 0x1103d8ef0>,\n",
       " <pysam.libcalignedsegment.PileupRead at 0x1103d8f40>,\n",
       " <pysam.libcalignedsegment.PileupRead at 0x1103d8f90>,\n",
       " <pysam.libcalignedsegment.PileupRead at 0x10fb93ae0>,\n",
       " <pysam.libcalignedsegment.PileupRead at 0x10fb93cc0>,\n",
       " <pysam.libcalignedsegment.PileupRead at 0x10fb93360>,\n",
       " <pysam.libcalignedsegment.PileupRead at 0x10fb934a0>,\n",
       " <pysam.libcalignedsegment.PileupRead at 0x10fb93950>,\n",
       " <pysam.libcalignedsegment.PileupRead at 0x10fb93860>,\n",
       " <pysam.libcalignedsegment.PileupRead at 0x10fb93a40>,\n",
       " <pysam.libcalignedsegment.PileupRead at 0x10fb932c0>,\n",
       " <pysam.libcalignedsegment.PileupRead at 0x10fb939f0>,\n",
       " <pysam.libcalignedsegment.PileupRead at 0x1103dbbd0>,\n",
       " <pysam.libcalignedsegment.PileupRead at 0x1103dbc20>,\n",
       " <pysam.libcalignedsegment.PileupRead at 0x1103dbc70>,\n",
       " <pysam.libcalignedsegment.PileupRead at 0x1103db040>,\n",
       " <pysam.libcalignedsegment.PileupRead at 0x1103db090>,\n",
       " <pysam.libcalignedsegment.PileupRead at 0x1103db0e0>,\n",
       " <pysam.libcalignedsegment.PileupRead at 0x1103db130>,\n",
       " <pysam.libcalignedsegment.PileupRead at 0x1103db180>,\n",
       " <pysam.libcalignedsegment.PileupRead at 0x1103db1d0>,\n",
       " <pysam.libcalignedsegment.PileupRead at 0x1103db220>,\n",
       " <pysam.libcalignedsegment.PileupRead at 0x1103db270>,\n",
       " <pysam.libcalignedsegment.PileupRead at 0x1103db2c0>,\n",
       " <pysam.libcalignedsegment.PileupRead at 0x1103db310>,\n",
       " <pysam.libcalignedsegment.PileupRead at 0x1103db360>,\n",
       " <pysam.libcalignedsegment.PileupRead at 0x1103db3b0>,\n",
       " <pysam.libcalignedsegment.PileupRead at 0x1103db400>,\n",
       " <pysam.libcalignedsegment.PileupRead at 0x1103db450>,\n",
       " <pysam.libcalignedsegment.PileupRead at 0x1103db4a0>,\n",
       " <pysam.libcalignedsegment.PileupRead at 0x1103db4f0>,\n",
       " <pysam.libcalignedsegment.PileupRead at 0x1103db540>,\n",
       " <pysam.libcalignedsegment.PileupRead at 0x1103db590>,\n",
       " <pysam.libcalignedsegment.PileupRead at 0x1103db5e0>,\n",
       " <pysam.libcalignedsegment.PileupRead at 0x1103db630>,\n",
       " <pysam.libcalignedsegment.PileupRead at 0x1103db680>,\n",
       " <pysam.libcalignedsegment.PileupRead at 0x1103db6d0>,\n",
       " <pysam.libcalignedsegment.PileupRead at 0x1103db720>,\n",
       " <pysam.libcalignedsegment.PileupRead at 0x1103db770>,\n",
       " <pysam.libcalignedsegment.PileupRead at 0x1103db7c0>,\n",
       " <pysam.libcalignedsegment.PileupRead at 0x1103db810>,\n",
       " <pysam.libcalignedsegment.PileupRead at 0x1103db860>,\n",
       " <pysam.libcalignedsegment.PileupRead at 0x1103db8b0>,\n",
       " <pysam.libcalignedsegment.PileupRead at 0x1103db900>,\n",
       " <pysam.libcalignedsegment.PileupRead at 0x1103db950>,\n",
       " <pysam.libcalignedsegment.PileupRead at 0x1103db9a0>,\n",
       " <pysam.libcalignedsegment.PileupRead at 0x1103db9f0>,\n",
       " <pysam.libcalignedsegment.PileupRead at 0x1103dba40>,\n",
       " <pysam.libcalignedsegment.PileupRead at 0x1103dba90>,\n",
       " <pysam.libcalignedsegment.PileupRead at 0x1103dbae0>,\n",
       " <pysam.libcalignedsegment.PileupRead at 0x1103dbb30>,\n",
       " <pysam.libcalignedsegment.PileupRead at 0x1103dbd10>,\n",
       " <pysam.libcalignedsegment.PileupRead at 0x1103dbcc0>,\n",
       " <pysam.libcalignedsegment.PileupRead at 0x1103dbd60>,\n",
       " <pysam.libcalignedsegment.PileupRead at 0x1103dbdb0>,\n",
       " <pysam.libcalignedsegment.PileupRead at 0x1103dbe00>,\n",
       " <pysam.libcalignedsegment.PileupRead at 0x1103dbe50>,\n",
       " <pysam.libcalignedsegment.PileupRead at 0x1103dbea0>,\n",
       " <pysam.libcalignedsegment.PileupRead at 0x1103dbef0>,\n",
       " <pysam.libcalignedsegment.PileupRead at 0x1103dbf40>,\n",
       " <pysam.libcalignedsegment.PileupRead at 0x1103dbf90>,\n",
       " <pysam.libcalignedsegment.PileupRead at 0x1103d9040>,\n",
       " <pysam.libcalignedsegment.PileupRead at 0x1103d9090>,\n",
       " <pysam.libcalignedsegment.PileupRead at 0x1103d90e0>,\n",
       " <pysam.libcalignedsegment.PileupRead at 0x1103d9130>,\n",
       " <pysam.libcalignedsegment.PileupRead at 0x1103d9180>,\n",
       " <pysam.libcalignedsegment.PileupRead at 0x1103d91d0>,\n",
       " <pysam.libcalignedsegment.PileupRead at 0x1103d9220>,\n",
       " <pysam.libcalignedsegment.PileupRead at 0x1103d9270>,\n",
       " <pysam.libcalignedsegment.PileupRead at 0x1103d92c0>,\n",
       " <pysam.libcalignedsegment.PileupRead at 0x1103d9310>,\n",
       " <pysam.libcalignedsegment.PileupRead at 0x1103d9360>,\n",
       " <pysam.libcalignedsegment.PileupRead at 0x1103d93b0>,\n",
       " <pysam.libcalignedsegment.PileupRead at 0x1103d9400>,\n",
       " <pysam.libcalignedsegment.PileupRead at 0x1103d9450>,\n",
       " <pysam.libcalignedsegment.PileupRead at 0x1103d94a0>,\n",
       " <pysam.libcalignedsegment.PileupRead at 0x1103d94f0>,\n",
       " <pysam.libcalignedsegment.PileupRead at 0x1103d9540>,\n",
       " <pysam.libcalignedsegment.PileupRead at 0x1103d9590>,\n",
       " <pysam.libcalignedsegment.PileupRead at 0x1103d95e0>,\n",
       " <pysam.libcalignedsegment.PileupRead at 0x1103d9630>,\n",
       " <pysam.libcalignedsegment.PileupRead at 0x1103d9680>,\n",
       " <pysam.libcalignedsegment.PileupRead at 0x1103d96d0>,\n",
       " <pysam.libcalignedsegment.PileupRead at 0x1103d9720>,\n",
       " <pysam.libcalignedsegment.PileupRead at 0x1103d9770>,\n",
       " <pysam.libcalignedsegment.PileupRead at 0x1103d97c0>,\n",
       " <pysam.libcalignedsegment.PileupRead at 0x1103d9810>,\n",
       " <pysam.libcalignedsegment.PileupRead at 0x1103d9860>,\n",
       " <pysam.libcalignedsegment.PileupRead at 0x1103d98b0>,\n",
       " <pysam.libcalignedsegment.PileupRead at 0x1103d9900>,\n",
       " <pysam.libcalignedsegment.PileupRead at 0x1103d9950>,\n",
       " <pysam.libcalignedsegment.PileupRead at 0x1103d99a0>,\n",
       " <pysam.libcalignedsegment.PileupRead at 0x1103d99f0>,\n",
       " <pysam.libcalignedsegment.PileupRead at 0x1103d9a40>,\n",
       " <pysam.libcalignedsegment.PileupRead at 0x1103d9a90>,\n",
       " <pysam.libcalignedsegment.PileupRead at 0x1103d9ae0>,\n",
       " <pysam.libcalignedsegment.PileupRead at 0x1103d9b30>,\n",
       " <pysam.libcalignedsegment.PileupRead at 0x1103d9b80>,\n",
       " <pysam.libcalignedsegment.PileupRead at 0x1103d9bd0>,\n",
       " <pysam.libcalignedsegment.PileupRead at 0x1103d9c20>,\n",
       " <pysam.libcalignedsegment.PileupRead at 0x1103d9c70>,\n",
       " <pysam.libcalignedsegment.PileupRead at 0x1103d9cc0>,\n",
       " <pysam.libcalignedsegment.PileupRead at 0x1103d9d10>,\n",
       " <pysam.libcalignedsegment.PileupRead at 0x1103d9d60>,\n",
       " <pysam.libcalignedsegment.PileupRead at 0x1103d9db0>,\n",
       " <pysam.libcalignedsegment.PileupRead at 0x1103d9e00>,\n",
       " <pysam.libcalignedsegment.PileupRead at 0x1103d9e50>,\n",
       " <pysam.libcalignedsegment.PileupRead at 0x1103d9ea0>,\n",
       " <pysam.libcalignedsegment.PileupRead at 0x1103d9ef0>,\n",
       " <pysam.libcalignedsegment.PileupRead at 0x1103d9f40>,\n",
       " <pysam.libcalignedsegment.PileupRead at 0x1103d9f90>,\n",
       " <pysam.libcalignedsegment.PileupRead at 0x1103da040>,\n",
       " <pysam.libcalignedsegment.PileupRead at 0x1103da090>,\n",
       " <pysam.libcalignedsegment.PileupRead at 0x1103da0e0>,\n",
       " <pysam.libcalignedsegment.PileupRead at 0x1103da130>,\n",
       " <pysam.libcalignedsegment.PileupRead at 0x1103da180>,\n",
       " <pysam.libcalignedsegment.PileupRead at 0x1103da1d0>,\n",
       " <pysam.libcalignedsegment.PileupRead at 0x1103da220>,\n",
       " <pysam.libcalignedsegment.PileupRead at 0x1103da270>,\n",
       " <pysam.libcalignedsegment.PileupRead at 0x1103da2c0>,\n",
       " <pysam.libcalignedsegment.PileupRead at 0x1103da310>,\n",
       " <pysam.libcalignedsegment.PileupRead at 0x1103da360>,\n",
       " <pysam.libcalignedsegment.PileupRead at 0x1103da3b0>,\n",
       " <pysam.libcalignedsegment.PileupRead at 0x1103da400>,\n",
       " <pysam.libcalignedsegment.PileupRead at 0x1103da450>,\n",
       " <pysam.libcalignedsegment.PileupRead at 0x1103da4a0>,\n",
       " <pysam.libcalignedsegment.PileupRead at 0x1103da4f0>,\n",
       " <pysam.libcalignedsegment.PileupRead at 0x1103da540>,\n",
       " <pysam.libcalignedsegment.PileupRead at 0x1103da590>,\n",
       " <pysam.libcalignedsegment.PileupRead at 0x1103da5e0>,\n",
       " <pysam.libcalignedsegment.PileupRead at 0x1103da630>,\n",
       " <pysam.libcalignedsegment.PileupRead at 0x1103da680>,\n",
       " <pysam.libcalignedsegment.PileupRead at 0x1103da6d0>,\n",
       " <pysam.libcalignedsegment.PileupRead at 0x1103da720>,\n",
       " <pysam.libcalignedsegment.PileupRead at 0x1103da770>,\n",
       " <pysam.libcalignedsegment.PileupRead at 0x1103da7c0>,\n",
       " <pysam.libcalignedsegment.PileupRead at 0x1103da810>,\n",
       " <pysam.libcalignedsegment.PileupRead at 0x1103da860>,\n",
       " <pysam.libcalignedsegment.PileupRead at 0x1103da8b0>,\n",
       " <pysam.libcalignedsegment.PileupRead at 0x1103da900>,\n",
       " <pysam.libcalignedsegment.PileupRead at 0x1103da950>,\n",
       " <pysam.libcalignedsegment.PileupRead at 0x1103da9a0>,\n",
       " <pysam.libcalignedsegment.PileupRead at 0x1103da9f0>,\n",
       " <pysam.libcalignedsegment.PileupRead at 0x1103daa40>,\n",
       " <pysam.libcalignedsegment.PileupRead at 0x1103daa90>,\n",
       " <pysam.libcalignedsegment.PileupRead at 0x1103daae0>,\n",
       " <pysam.libcalignedsegment.PileupRead at 0x1103dab30>,\n",
       " <pysam.libcalignedsegment.PileupRead at 0x1103dab80>,\n",
       " <pysam.libcalignedsegment.PileupRead at 0x1103dabd0>,\n",
       " <pysam.libcalignedsegment.PileupRead at 0x1103dac20>,\n",
       " <pysam.libcalignedsegment.PileupRead at 0x1103dac70>,\n",
       " <pysam.libcalignedsegment.PileupRead at 0x1103dacc0>,\n",
       " <pysam.libcalignedsegment.PileupRead at 0x1103dad10>,\n",
       " <pysam.libcalignedsegment.PileupRead at 0x1103dad60>,\n",
       " <pysam.libcalignedsegment.PileupRead at 0x1103dadb0>,\n",
       " <pysam.libcalignedsegment.PileupRead at 0x1103dae00>,\n",
       " <pysam.libcalignedsegment.PileupRead at 0x1103dae50>,\n",
       " <pysam.libcalignedsegment.PileupRead at 0x1103daea0>,\n",
       " <pysam.libcalignedsegment.PileupRead at 0x1103daef0>,\n",
       " <pysam.libcalignedsegment.PileupRead at 0x1103daf40>]"
      ]
     },
     "execution_count": 70,
     "metadata": {},
     "output_type": "execute_result"
    }
   ],
   "source": [
    "pileup_columns[999].pileups"
   ]
  },
  {
   "cell_type": "markdown",
   "metadata": {},
   "source": [
    "Per il primo oggetto `PileupRead`, accedere alla posizione sul read che corrisponde alla base di pileup sulla *reference*."
   ]
  },
  {
   "cell_type": "code",
   "execution_count": 71,
   "metadata": {},
   "outputs": [
    {
     "data": {
      "text/plain": [
       "99"
      ]
     },
     "execution_count": 71,
     "metadata": {},
     "output_type": "execute_result"
    }
   ],
   "source": [
    "pileup_columns[999].pileups[0].query_position"
   ]
  },
  {
   "cell_type": "markdown",
   "metadata": {},
   "source": [
    "L'allineamento del primo read \"impilato\" è:"
   ]
  },
  {
   "cell_type": "code",
   "execution_count": 72,
   "metadata": {},
   "outputs": [
    {
     "data": {
      "text/plain": [
       "<pysam.libcalignedsegment.AlignedSegment at 0x10e9c1be0>"
      ]
     },
     "execution_count": 72,
     "metadata": {},
     "output_type": "execute_result"
    }
   ],
   "source": [
    "pileup_columns[999].pileups[0].alignment"
   ]
  },
  {
   "cell_type": "markdown",
   "metadata": {},
   "source": [
    "Recuperare la sua cigarstring."
   ]
  },
  {
   "cell_type": "code",
   "execution_count": 73,
   "metadata": {},
   "outputs": [
    {
     "data": {
      "text/plain": [
       "'100M'"
      ]
     },
     "execution_count": 73,
     "metadata": {},
     "output_type": "execute_result"
    }
   ],
   "source": [
    "pileup_columns[999].pileups[0].alignment.cigarstring"
   ]
  },
  {
   "cell_type": "markdown",
   "metadata": {},
   "source": [
    "## Salvare allineamenti in un file `SAM/BAM`"
   ]
  },
  {
   "cell_type": "markdown",
   "metadata": {},
   "source": [
    "Le seguenti istruzione:\n",
    "\n",
    "    output_file = pysam.AlignmentFile(output_file_name, 'w', template=template_file)\n",
    "    output_file = pysam.AlignmentFile(output_file_name, 'wb', template=template_file)\n",
    "    \n",
    "aprono un *handle* in scrittura a un file `SAM/BAM` e usa come Header Section quella presente in `template_file`.\n",
    "\n",
    "Per salvare un allineamento (oggetto `AlignedSegment`), basta scrivere:\n",
    "\n",
    "    output_file.write(aligned_segment)\n",
    "    \n",
    "---\n",
    "\n",
    "**Esercizio**: trasformare il file BAM in un file SAM."
   ]
  },
  {
   "cell_type": "code",
   "execution_count": 74,
   "metadata": {},
   "outputs": [],
   "source": [
    "output_file = pysam.AlignmentFile('./sample.sam', 'w', template=bam_file)\n",
    "\n",
    "for alignment in all_alignments:\n",
    "    output_file.write(alignment)\n",
    "\n",
    "output_file.close()"
   ]
  }
 ],
 "metadata": {
  "kernelspec": {
   "display_name": "Python 3 (ipykernel)",
   "language": "python",
   "name": "python3"
  },
  "language_info": {
   "codemirror_mode": {
    "name": "ipython",
    "version": 3
   },
   "file_extension": ".py",
   "mimetype": "text/x-python",
   "name": "python",
   "nbconvert_exporter": "python",
   "pygments_lexer": "ipython3",
   "version": "3.9.15"
  }
 },
 "nbformat": 4,
 "nbformat_minor": 4
}
