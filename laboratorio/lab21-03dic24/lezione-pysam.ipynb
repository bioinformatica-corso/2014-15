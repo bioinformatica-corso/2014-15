{
 "cells": [
  {
   "cell_type": "markdown",
   "metadata": {},
   "source": [
    "# Modulo pysam per formato SAM/BAM\n",
    "\n",
    "`pysam` è il modulo Python che mette a disposizione le funzionalità per manipolare file in formato SAM/BAM."
   ]
  },
  {
   "cell_type": "markdown",
   "metadata": {},
   "source": [
    "Importare il modulo `pysam`"
   ]
  },
  {
   "cell_type": "code",
   "execution_count": 2,
   "metadata": {},
   "outputs": [],
   "source": [
    "import pysam"
   ]
  },
  {
   "cell_type": "markdown",
   "metadata": {},
   "source": [
    "## Leggere gli allineamenti\n",
    "\n",
    "La classe `AlignmentFile` è la classe che rappresenta un SAM/BAM file.\n",
    "\n",
    "Un oggetto di tipo `AlignmentFile` è ottenuto a partire da un file SAM/BAM nel seguente modo: \n",
    "\n",
    "    sam_file = AlignmentFile(sam_file_name, 'r')\n",
    "    bam_file = AlignmentFile(bam_file_name, 'rb')"
   ]
  },
  {
   "cell_type": "markdown",
   "metadata": {},
   "source": [
    "Importare la classe `AlignmentFile`."
   ]
  },
  {
   "cell_type": "code",
   "execution_count": null,
   "metadata": {},
   "outputs": [],
   "source": []
  },
  {
   "cell_type": "markdown",
   "metadata": {},
   "source": [
    "### Ottenere gli allineamenti da un file BAM\n",
    "\n",
    "Indicizzare il file tramite la funzione `index()`."
   ]
  },
  {
   "cell_type": "code",
   "execution_count": null,
   "metadata": {},
   "outputs": [],
   "source": []
  },
  {
   "cell_type": "markdown",
   "metadata": {},
   "source": [
    "Costruire l'oggetto `AlignmentFile`."
   ]
  },
  {
   "cell_type": "code",
   "execution_count": null,
   "metadata": {},
   "outputs": [],
   "source": []
  },
  {
   "cell_type": "markdown",
   "metadata": {},
   "source": [
    "`bam_file` contiene tutti gli allineamenti presenti nel file."
   ]
  },
  {
   "cell_type": "markdown",
   "metadata": {},
   "source": [
    "Il numero di reads mappati e non mappati si ottiene accedendo agli attributi `mapped` e `unmapped`.\n",
    "\n",
    "Reads non mappati dovuti a:\n",
    "\n",
    "- reads che non sono stati allineati a una posizione specifica del genoma di riferimento ma si inseriscono lo stesso per poter fare debugging\n",
    "- paired-end reads in cui una delle due parti è mappata e l'altra no (ma si inserisce lo stesso)\n",
    "\n",
    "Informazione riportata nel campo FLAG."
   ]
  },
  {
   "cell_type": "code",
   "execution_count": null,
   "metadata": {},
   "outputs": [],
   "source": []
  },
  {
   "cell_type": "markdown",
   "metadata": {},
   "source": [
    "Le references coinvolte nel file BAM si ottengono accedendo all'attributo `references`."
   ]
  },
  {
   "cell_type": "code",
   "execution_count": null,
   "metadata": {},
   "outputs": [],
   "source": []
  },
  {
   "cell_type": "markdown",
   "metadata": {},
   "source": [
    "Il numero di references coinvolte nel file BAM si ottengono accedendo all'attributo `nreferences`."
   ]
  },
  {
   "cell_type": "code",
   "execution_count": null,
   "metadata": {},
   "outputs": [],
   "source": []
  },
  {
   "cell_type": "markdown",
   "metadata": {},
   "source": [
    "La lunghezza delle references coinvolte nel file BAM si ottengono accedendo all'attributo `lengths`."
   ]
  },
  {
   "cell_type": "code",
   "execution_count": null,
   "metadata": {},
   "outputs": [],
   "source": []
  },
  {
   "cell_type": "markdown",
   "metadata": {},
   "source": [
    "La lunghezza di una reference in particolare si ottiene con il metodo `get_reference_length()`."
   ]
  },
  {
   "cell_type": "code",
   "execution_count": null,
   "metadata": {},
   "outputs": [],
   "source": []
  },
  {
   "cell_type": "markdown",
   "metadata": {},
   "source": [
    "Il numero di reads mappati a una determinata regione della reference si ottiene con il metodo `count()`"
   ]
  },
  {
   "cell_type": "code",
   "execution_count": null,
   "metadata": {},
   "outputs": [],
   "source": []
  },
  {
   "cell_type": "markdown",
   "metadata": {},
   "source": [
    "## Estrarre gli allineamenti\n",
    "\n",
    "Il metodo `head(n)` restituisce i primi n allineamenti.\n",
    "\n",
    "Il metodo `fetch()` invocato nei tre seguenti modi: \n",
    "\n",
    "    bam_file.fetch()\n",
    "    bam_file.fetch(ref_name)\n",
    "    bam_file.fetch(ref_name, start_region, end_region)\n",
    "    \n",
    "restituisce un iteratore contenente (rispettivamente):\n",
    "\n",
    "- tutti gli allineamenti\n",
    "- tutti gli allineamenti che si riferiscono alla reference `ref_name`\n",
    "- tutti gli allineamenti che si riferiscono alla sottoregione tra le posizioni `start_region` e `end_region`della reference `ref_name`.\n",
    "\n",
    "Il singolo allineamento è un oggetto della classe `AlignedSegment`.\n",
    "\n",
    "---\n",
    "    \n",
    "**Esercizio**: estrarre tutti gli allineamenti."
   ]
  },
  {
   "cell_type": "code",
   "execution_count": null,
   "metadata": {},
   "outputs": [],
   "source": []
  },
  {
   "cell_type": "markdown",
   "metadata": {},
   "source": [
    "Il numero di allineamenti estratti è:"
   ]
  },
  {
   "cell_type": "code",
   "execution_count": null,
   "metadata": {},
   "outputs": [],
   "source": []
  },
  {
   "cell_type": "markdown",
   "metadata": {},
   "source": [
    "**Esercizio**: estrarre gli allineamenti relativi alla reference `X` che cadono nella regione tra le posizioni `280000` e `285000`."
   ]
  },
  {
   "cell_type": "code",
   "execution_count": null,
   "metadata": {},
   "outputs": [],
   "source": []
  },
  {
   "cell_type": "markdown",
   "metadata": {},
   "source": [
    "**Esercizio**: estrarre i primi 50 allineamenti."
   ]
  },
  {
   "cell_type": "code",
   "execution_count": null,
   "metadata": {},
   "outputs": [],
   "source": []
  },
  {
   "cell_type": "markdown",
   "metadata": {},
   "source": [
    "## Accedere alle informazioni di un allineamento"
   ]
  },
  {
   "cell_type": "markdown",
   "metadata": {},
   "source": [
    "Estrarre il primo allineamento della lista `all_alignments`."
   ]
  },
  {
   "cell_type": "code",
   "execution_count": null,
   "metadata": {},
   "outputs": [],
   "source": []
  },
  {
   "cell_type": "markdown",
   "metadata": {},
   "source": [
    "Gli oggetti `AlignedSegment` hanno una serie di attributi che descrivono l'allineamento."
   ]
  },
  {
   "cell_type": "code",
   "execution_count": null,
   "metadata": {},
   "outputs": [],
   "source": []
  },
  {
   "cell_type": "markdown",
   "metadata": {},
   "source": [
    "Gli oggetti `AlignedSegment` hanno una serie di metodi:\n",
    "\n",
    "- `get_tags()` restituisce i tag opzionali"
   ]
  },
  {
   "cell_type": "code",
   "execution_count": null,
   "metadata": {},
   "outputs": [],
   "source": []
  },
  {
   "cell_type": "markdown",
   "metadata": {},
   "source": [
    "## Metodi di `AlignmentFile`\n",
    "\n",
    "- `find_introns()` trova gli introni supportati dagli allineamenti passati come argomento. Per ogni introne, viene fornito il numero di reads allineati (spliced alignment).\n",
    "       \n",
    "Viene restituito un oggetto `Counter` in cui le chiavi sono tuple *(start, end)* (inroni) e i valori sono il numero di reads che supportano un dato introne.\n",
    "\n",
    "Il valore di *end* è la posizione della base del reference immediatamente successiva alla fine dell'introne."
   ]
  },
  {
   "cell_type": "markdown",
   "metadata": {},
   "source": [
    "**Esercizio**: estrarre gli introni supportati dagli allineamenti."
   ]
  },
  {
   "cell_type": "code",
   "execution_count": null,
   "metadata": {},
   "outputs": [],
   "source": []
  },
  {
   "cell_type": "markdown",
   "metadata": {},
   "source": [
    "- `pileup()`, restituisce un iteratore contenente un oggetto `PileupColumn` per ognuna delle basi coperte da allineamenti che cadono nella regione specificata come *argomento*.\n",
    "\n",
    "Se l'argomento non viene specificato allora vengono considerati tutti gli allineamenti presenti nel BAM file.\n",
    "\n",
    "       bam_file.pileup()\n",
    "       bam_file.pileup(ref_name)\n",
    "       bam_file.pileup(ref_name, start_region, end_region)\n",
    "\n",
    "Ogni base della reference coperta da qualche allineamento viene chiamata *pileup column*.\n",
    "\n",
    "---\n",
    "\n",
    "Trovare tutte le basi della reference coperte dagli allineamenti."
   ]
  },
  {
   "cell_type": "code",
   "execution_count": null,
   "metadata": {},
   "outputs": [],
   "source": []
  },
  {
   "cell_type": "markdown",
   "metadata": {},
   "source": [
    "Numero di basi coperte da allineamenti:"
   ]
  },
  {
   "cell_type": "code",
   "execution_count": null,
   "metadata": {},
   "outputs": [],
   "source": []
  },
  {
   "cell_type": "markdown",
   "metadata": {},
   "source": [
    "**Esercizio**: accedere alla 1000-esima colonna (base) di *pileup* e:\n",
    "\n",
    "- settare la qualità minima a 0"
   ]
  },
  {
   "cell_type": "code",
   "execution_count": null,
   "metadata": {},
   "outputs": [],
   "source": []
  },
  {
   "cell_type": "markdown",
   "metadata": {},
   "source": [
    "- accedere alla posizione sulla reference"
   ]
  },
  {
   "cell_type": "code",
   "execution_count": null,
   "metadata": {},
   "outputs": [],
   "source": []
  },
  {
   "cell_type": "markdown",
   "metadata": {},
   "source": [
    "- estrarre il numero di reads che coprono la base."
   ]
  },
  {
   "cell_type": "code",
   "execution_count": null,
   "metadata": {},
   "outputs": [],
   "source": []
  },
  {
   "cell_type": "markdown",
   "metadata": {},
   "source": [
    "- ottenere gli identificatori dei reads che coprono la base."
   ]
  },
  {
   "cell_type": "code",
   "execution_count": null,
   "metadata": {
    "scrolled": false
   },
   "outputs": [],
   "source": []
  },
  {
   "cell_type": "markdown",
   "metadata": {},
   "source": [
    "- estrarre la lista dei reads che coprono la base."
   ]
  },
  {
   "cell_type": "code",
   "execution_count": null,
   "metadata": {},
   "outputs": [],
   "source": []
  },
  {
   "cell_type": "markdown",
   "metadata": {},
   "source": [
    "Per il primo oggetto `PileupRead`, accedere alla posizione sul read che corrisponde alla base di pileup sulla *reference*."
   ]
  },
  {
   "cell_type": "code",
   "execution_count": null,
   "metadata": {},
   "outputs": [],
   "source": []
  },
  {
   "cell_type": "markdown",
   "metadata": {},
   "source": [
    "L'allineamento del primo read \"impilato\" è:"
   ]
  },
  {
   "cell_type": "code",
   "execution_count": null,
   "metadata": {},
   "outputs": [],
   "source": []
  },
  {
   "cell_type": "markdown",
   "metadata": {},
   "source": [
    "Recuperare la sua cigarstring."
   ]
  },
  {
   "cell_type": "code",
   "execution_count": null,
   "metadata": {},
   "outputs": [],
   "source": []
  },
  {
   "cell_type": "markdown",
   "metadata": {},
   "source": [
    "## Salvare allineamenti in un file `SAM/BAM`"
   ]
  },
  {
   "cell_type": "markdown",
   "metadata": {},
   "source": [
    "Le seguenti istruzione:\n",
    "\n",
    "    output_file = pysam.AlignmentFile(output_file_name, 'w', template=template_file)\n",
    "    output_file = pysam.AlignmentFile(output_file_name, 'wb', template=template_file)\n",
    "    \n",
    "aprono un *handle* in scrittura a un file `SAM/BAM` e usa come Header Section quella presente in `template_file`.\n",
    "\n",
    "Per salvare un allineamento (oggetto `AlignedSegment`), basta scrivere:\n",
    "\n",
    "    output_file.write(aligned_segment)\n",
    "    \n",
    "---\n",
    "\n",
    "**Esercizio**: trasformare il file BAM in un file SAM."
   ]
  },
  {
   "cell_type": "code",
   "execution_count": null,
   "metadata": {},
   "outputs": [],
   "source": []
  }
 ],
 "metadata": {
  "kernelspec": {
   "display_name": "Python 3 (ipykernel)",
   "language": "python",
   "name": "python3"
  },
  "language_info": {
   "codemirror_mode": {
    "name": "ipython",
    "version": 3
   },
   "file_extension": ".py",
   "mimetype": "text/x-python",
   "name": "python",
   "nbconvert_exporter": "python",
   "pygments_lexer": "ipython3",
   "version": "3.9.15"
  }
 },
 "nbformat": 4,
 "nbformat_minor": 4
}
