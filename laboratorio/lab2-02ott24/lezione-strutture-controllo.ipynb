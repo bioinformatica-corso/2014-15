{
 "cells": [
  {
   "cell_type": "markdown",
   "metadata": {},
   "source": [
    "# Python - Strutture di controllo\n",
    "\n",
    "> ### Strutture di selezione\n",
    ">> #### Costrutto `if`\n",
    ">> #### Costrutto `if-else`\n",
    ">> #### Costrutto `if-elif`\n",
    "> ### Strutture iterative\n",
    ">> #### Ciclo `while`"
   ]
  },
  {
   "cell_type": "markdown",
   "metadata": {},
   "source": [
    "## Costrutto `if`\n",
    "\n",
    "    if condition:\n",
    "        if_block\n",
    "        \n",
    "- `condition`: condizione da verificare (espressione valutata come vera o falsa)\n",
    "- `if_block`: blocco di istruzioni da eseguire solo se `condition` viene valutata come vera.\n",
    "\n",
    "**NOTA BENE**: `if_block` deve essere indentato 4 volte ripetto all'intestazione `if`"
   ]
  },
  {
   "cell_type": "code",
   "execution_count": null,
   "metadata": {},
   "outputs": [],
   "source": [
    "my_number = 15\n",
    "\n",
    "if my_number > 10:\n",
    "    print('Numero maggiore di 10')"
   ]
  },
  {
   "cell_type": "code",
   "execution_count": null,
   "metadata": {},
   "outputs": [],
   "source": [
    "if '0':\n",
    "    print('Condizione vera!')"
   ]
  },
  {
   "cell_type": "markdown",
   "metadata": {},
   "source": [
    "## Costrutto `if-else`\n",
    "\n",
    "    if condition:\n",
    "        if_block\n",
    "    else:\n",
    "        else_block\n",
    "\n",
    "- `else_block`: blocco di istruzioni da eseguire se `condition` viene valutata come falsa."
   ]
  },
  {
   "cell_type": "code",
   "execution_count": null,
   "metadata": {},
   "outputs": [],
   "source": [
    "my_number = 5\n",
    "\n",
    "if my_number > 10:\n",
    "    print('Numero maggiore di 10')\n",
    "else:\n",
    "    print('Numero al più 10')"
   ]
  },
  {
   "cell_type": "markdown",
   "metadata": {},
   "source": [
    "## Costrutto `if-elif`\n",
    "\n",
    "    if [condition1]:\n",
    "        [if_block]\n",
    "    elif [condition2]:\n",
    "        [elif_block1]\n",
    "    elif [condition3]:\n",
    "        [elif_block1]\n",
    "    ...\n",
    "    else:\n",
    "        [else_block]"
   ]
  },
  {
   "cell_type": "code",
   "execution_count": null,
   "metadata": {},
   "outputs": [],
   "source": [
    "my_number = 27\n",
    "\n",
    "if my_number < 0:\n",
    "    print('Numero minore di 0')\n",
    "elif my_number >= 0 and my_number < 10:\n",
    "    print('Numero tra 0 e 9')\n",
    "elif my_number >= 10 and my_number < 20:\n",
    "    print('Numero tra 10 e 19')\n",
    "elif my_number >= 20 and my_number < 30:\n",
    "    print('Numero tra 20 e 29')\n",
    "else:\n",
    "    print('Numero oltre 29')"
   ]
  },
  {
   "cell_type": "markdown",
   "metadata": {},
   "source": [
    "## cycle `while`\n",
    "\n",
    "    while condition:\n",
    "        while_block"
   ]
  },
  {
   "cell_type": "code",
   "execution_count": null,
   "metadata": {},
   "outputs": [],
   "source": [
    "my_number = 10\n",
    "\n",
    "while my_number > 0:\n",
    "    print(my_number)\n",
    "    my_number = my_number - 1"
   ]
  }
 ],
 "metadata": {
  "kernelspec": {
   "display_name": "Python 3 (ipykernel)",
   "language": "python",
   "name": "python3"
  },
  "language_info": {
   "codemirror_mode": {
    "name": "ipython",
    "version": 3
   },
   "file_extension": ".py",
   "mimetype": "text/x-python",
   "name": "python",
   "nbconvert_exporter": "python",
   "pygments_lexer": "ipython3",
   "version": "3.9.15"
  }
 },
 "nbformat": 4,
 "nbformat_minor": 2
}
