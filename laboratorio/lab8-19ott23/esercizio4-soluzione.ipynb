{
 "cells": [
  {
   "cell_type": "markdown",
   "metadata": {},
   "source": [
    "# Esercizio 4 - Soluzione"
   ]
  },
  {
   "cell_type": "markdown",
   "metadata": {},
   "source": [
    "### 1) Parametri in input"
   ]
  },
  {
   "cell_type": "code",
   "execution_count": null,
   "metadata": {},
   "outputs": [],
   "source": [
    "embl_file_name = './M10051.embl'\n",
    "genetic_code_name = './genetic-code.txt'"
   ]
  },
  {
   "cell_type": "markdown",
   "metadata": {},
   "source": [
    "### 2) Importazione del modulo `re`"
   ]
  },
  {
   "cell_type": "code",
   "execution_count": null,
   "metadata": {},
   "outputs": [],
   "source": [
    "import re"
   ]
  },
  {
   "cell_type": "markdown",
   "metadata": {},
   "source": [
    "### 3) Definizione di una funzione per formattare in `FASTA` una sequenza\n",
    "\n",
    "La funzione prende come argomenti un *header* `FASTA` (che inizia con un simbolo `>`), una sequenza nucleotidica (o di proteina) e la dimensione (passata come *keyword* `record` con valore di *default* pari a 80) dei *record* in cui separare la sequenza. La funzione restituisce una stringa contenente la sequenza in formato `FASTA`.\n",
    "\n",
    "*Suggerimento*: usare la funzione `compile()` per creare un'espressione regolare."
   ]
  },
  {
   "cell_type": "code",
   "execution_count": null,
   "metadata": {},
   "outputs": [],
   "source": [
    "def format_fasta(header, sequence, record = 80):    \n",
    "    p = re.compile('\\w{,' + str(record) + '}')\n",
    "    return header + '\\n' + '\\n'.join(re.findall(p, sequence))"
   ]
  },
  {
   "cell_type": "markdown",
   "metadata": {},
   "source": [
    "### 4) Lettura del file del codice genetico in una lista di righe"
   ]
  },
  {
   "cell_type": "code",
   "execution_count": null,
   "metadata": {},
   "outputs": [],
   "source": [
    "with open(genetic_code_name, 'r') as genetic_file:\n",
    "    genetic_code_rows = genetic_file.readlines()"
   ]
  },
  {
   "cell_type": "code",
   "execution_count": null,
   "metadata": {},
   "outputs": [],
   "source": [
    "genetic_code_rows"
   ]
  },
  {
   "cell_type": "markdown",
   "metadata": {},
   "source": [
    "### 5) Costruzione del dizionario del codice genetico"
   ]
  },
  {
   "cell_type": "markdown",
   "metadata": {},
   "source": [
    "Costruire il dizionario che contiene il codice genetico:\n",
    "\n",
    "- *chiave*: codone\n",
    "- *valore*: simbolo dell'amminoacido codificato\n",
    "\n",
    "a) Costruire la lista delle tuple *(chiave, valore)*.\n",
    "\n",
    "*Suggerimento*: usare la funzione `product()` del modulo `itertools` che effettua il prodotto cartesiano tra le liste passate come argomento."
   ]
  },
  {
   "cell_type": "code",
   "execution_count": null,
   "metadata": {},
   "outputs": [],
   "source": [
    "import itertools\n",
    "\n",
    "list(itertools.product(['a', 'b', 'c'], [1,2,3]))"
   ]
  },
  {
   "cell_type": "code",
   "execution_count": null,
   "metadata": {},
   "outputs": [],
   "source": [
    "split_genetic_code = [row.rstrip().split(',') for row in genetic_code_rows]"
   ]
  },
  {
   "cell_type": "code",
   "execution_count": null,
   "metadata": {},
   "outputs": [],
   "source": [
    "split_genetic_code"
   ]
  },
  {
   "cell_type": "code",
   "execution_count": null,
   "metadata": {},
   "outputs": [],
   "source": [
    "key_value_list = []\n",
    "\n",
    "for record_list in split_genetic_code:\n",
    "    record_codon_list = record_list[1:]\n",
    "    record_ammino_list = record_list[0]\n",
    "    cartesian_list = list(itertools.product(record_codon_list, record_ammino_list))\n",
    "    key_value_list.extend(cartesian_list)"
   ]
  },
  {
   "cell_type": "code",
   "execution_count": null,
   "metadata": {},
   "outputs": [],
   "source": [
    "key_value_list"
   ]
  },
  {
   "cell_type": "markdown",
   "metadata": {},
   "source": [
    "b) Costruire il dizionario."
   ]
  },
  {
   "cell_type": "code",
   "execution_count": null,
   "metadata": {},
   "outputs": [],
   "source": [
    "genetic_code_dict = dict(key_value_list)"
   ]
  },
  {
   "cell_type": "code",
   "execution_count": null,
   "metadata": {},
   "outputs": [],
   "source": [
    "genetic_code_dict"
   ]
  },
  {
   "cell_type": "markdown",
   "metadata": {},
   "source": [
    "### 6) Lettura del file `EMBL` in un'unica stringa"
   ]
  },
  {
   "cell_type": "markdown",
   "metadata": {},
   "source": [
    "*Suggerimento*: leggere il file in un'unica stringa usando il metodo `read()`."
   ]
  },
  {
   "cell_type": "code",
   "execution_count": null,
   "metadata": {},
   "outputs": [],
   "source": [
    "with open(embl_file_name, 'r') as embl_file:\n",
    "    embl_str = embl_file.read()"
   ]
  },
  {
   "cell_type": "code",
   "execution_count": null,
   "metadata": {},
   "outputs": [],
   "source": [
    "print(embl_str)"
   ]
  },
  {
   "cell_type": "markdown",
   "metadata": {},
   "source": [
    "### 7) Estrazione dell'identificatore univoco e dell'organismo relativo all'entry."
   ]
  },
  {
   "cell_type": "markdown",
   "metadata": {},
   "source": [
    "Estrarre dal *record* `ID`:\n",
    "\n",
    "    ID   M10051; SV 1; linear; mRNA; STD; HUM; 4723 BP.\n",
    "    \n",
    "l'identificatore univoco `M10051` e l'organismo `HUM`."
   ]
  },
  {
   "cell_type": "code",
   "execution_count": null,
   "metadata": {},
   "outputs": [],
   "source": [
    "m = re.search(r'^ID\\s+(\\w+).+\\s+(\\w+);', embl_str)\n",
    "(identifier, organism) = m.groups()"
   ]
  },
  {
   "cell_type": "code",
   "execution_count": null,
   "metadata": {},
   "outputs": [],
   "source": [
    "identifier"
   ]
  },
  {
   "cell_type": "code",
   "execution_count": null,
   "metadata": {},
   "outputs": [],
   "source": [
    "organism"
   ]
  },
  {
   "cell_type": "markdown",
   "metadata": {},
   "source": [
    "### 8) Estrazione della sequenza nucleotidica"
   ]
  },
  {
   "cell_type": "markdown",
   "metadata": {},
   "source": [
    "a) Ottenere la lista dei *record* della sequenza nucleotidica, dopo avere escluso da ognuno gli spazi iniziali, gli spazi finali compreso l'intero.\n",
    "\n",
    "    ggggggctgc gcggccgggt cggtgcgcac acgagaagga cgcgcggccc ccagcgctct        60"
   ]
  },
  {
   "cell_type": "code",
   "execution_count": null,
   "metadata": {},
   "outputs": [],
   "source": [
    "seq_row_list = re.findall('^\\s+(.+?)\\s+\\d+', embl_str, re.M)"
   ]
  },
  {
   "cell_type": "code",
   "execution_count": null,
   "metadata": {},
   "outputs": [],
   "source": [
    "seq_row_list"
   ]
  },
  {
   "cell_type": "markdown",
   "metadata": {},
   "source": [
    "b) Concatenare le singole parti di sequenza (di 10 basi) per ottenere la sequenza nucleotidica in unica stringa senza spazi e in lettere maiuscole.\n",
    "\n",
    "*Suggerimento*: il metodo `join()` degli oggetti `str` restituisce la concatenazione delle stringhe presenti nella lista passata come argomento usando la stringa invocante come separatore."
   ]
  },
  {
   "cell_type": "code",
   "execution_count": null,
   "metadata": {},
   "outputs": [],
   "source": [
    "nucleotide_sequence = ''.join(seq_row_list).replace(' ', '')"
   ]
  },
  {
   "cell_type": "code",
   "execution_count": null,
   "metadata": {},
   "outputs": [],
   "source": [
    "nucleotide_sequence"
   ]
  },
  {
   "cell_type": "markdown",
   "metadata": {},
   "source": [
    "### 9) Estrazione della sequenza della proteina"
   ]
  },
  {
   "cell_type": "markdown",
   "metadata": {},
   "source": [
    "a) Estrarre il prefisso della proteina che è contenuto nel *record*:\n",
    "\n",
    "    FT                   /translation=\"MGTGGRRGAAAAPLLVAVAALLLGAAGHLYPGEVCPGMDIRNNLT"
   ]
  },
  {
   "cell_type": "code",
   "execution_count": null,
   "metadata": {},
   "outputs": [],
   "source": [
    "s = re.search('^FT\\s+/translation=\\\"(\\w+)', embl_str, re.M)\n",
    "protein_prefix = s.group(1)"
   ]
  },
  {
   "cell_type": "code",
   "execution_count": null,
   "metadata": {},
   "outputs": [],
   "source": [
    "protein_prefix"
   ]
  },
  {
   "cell_type": "markdown",
   "metadata": {},
   "source": [
    "b) Costruire la lista di tutti gli altri record della proteina (compreso l'ultimo):\n",
    "\n",
    "    FT                   RLHELENCSVIEGHLQILLMFKTRPEDFRDLSFPKLIMITDYLLLFRVYGLESLKDLFP\n",
    "    \n",
    "**Attenzione all'ultimo**:\n",
    "\n",
    "    FT                   DGGSSLGFKRSYEEHIPYTHMNGGKKNGRILTLPRSNPS\"\n",
    "\n",
    "**NB:** l'ultima termina con doppi apici `\"`."
   ]
  },
  {
   "cell_type": "code",
   "execution_count": null,
   "metadata": {},
   "outputs": [],
   "source": [
    "protein_list = re.findall('^FT\\s+([A-Z]+)\"?$', embl_str, re.M)"
   ]
  },
  {
   "cell_type": "code",
   "execution_count": null,
   "metadata": {},
   "outputs": [],
   "source": [
    "protein_list"
   ]
  },
  {
   "cell_type": "markdown",
   "metadata": {},
   "source": [
    "b) Aggiungere in testa alla lista il prefisso trovato prima e concatenare tutti gli elementi della lista per ottenere la sequenza della proteina in un'unica stringa."
   ]
  },
  {
   "cell_type": "code",
   "execution_count": null,
   "metadata": {},
   "outputs": [],
   "source": [
    "protein_list[:0] = [protein_prefix]\n",
    "protein_sequence = ''.join(protein_list)"
   ]
  },
  {
   "cell_type": "code",
   "execution_count": null,
   "metadata": {
    "scrolled": true
   },
   "outputs": [],
   "source": [
    "protein_sequence"
   ]
  },
  {
   "cell_type": "markdown",
   "metadata": {},
   "source": [
    "### 10) Determinazione della coding sequence (CDS)"
   ]
  },
  {
   "cell_type": "markdown",
   "metadata": {},
   "source": [
    "a) Estrarre dal *record*\n",
    "\n",
    "    FT   CDS             139..4287\n",
    "    \n",
    "lo start e l'end (1-based) della CDS."
   ]
  },
  {
   "cell_type": "code",
   "execution_count": null,
   "metadata": {},
   "outputs": [],
   "source": [
    "(cds_start, cds_end) = tuple(map(int, re.search(r'^FT\\s+CDS\\s+(\\d+)..(\\d+)', embl_str, re.M).groups()))"
   ]
  },
  {
   "cell_type": "code",
   "execution_count": null,
   "metadata": {},
   "outputs": [],
   "source": [
    "cds_start"
   ]
  },
  {
   "cell_type": "code",
   "execution_count": null,
   "metadata": {},
   "outputs": [],
   "source": [
    "cds_end"
   ]
  },
  {
   "cell_type": "markdown",
   "metadata": {},
   "source": [
    "b) Estrarre la sequenza della CDS."
   ]
  },
  {
   "cell_type": "code",
   "execution_count": null,
   "metadata": {},
   "outputs": [],
   "source": [
    "cds_sequence = nucleotide_sequence[cds_start-1:cds_end]"
   ]
  },
  {
   "cell_type": "code",
   "execution_count": null,
   "metadata": {},
   "outputs": [],
   "source": [
    "cds_sequence"
   ]
  },
  {
   "cell_type": "markdown",
   "metadata": {},
   "source": [
    "### 11) Creazione della coding sequence (CDS) in formato `FASTA`"
   ]
  },
  {
   "cell_type": "markdown",
   "metadata": {},
   "source": [
    "Produrre la sequenza della CDS in formato `FASTA` (separata in *record* di 60bp) con il seguente *header*:\n",
    "\n",
    "    >M10051-HUM; len = [length]; start = [yes|no]; end = [yes|no]\n",
    "    \n",
    "e assegnarla alla variabile `cds_sequence_fasta`."
   ]
  },
  {
   "cell_type": "code",
   "execution_count": null,
   "metadata": {},
   "outputs": [],
   "source": [
    "header = '>' + identifier + '-' + organism + '; len = ' + str(len(cds_sequence)) + ';'\n",
    "\n",
    "exist_start_codon = 'no'\n",
    "exist_stop_codon = 'no'\n",
    "\n",
    "if cds_sequence[:3] == 'atg':\n",
    "    exist_start_codon = 'yes'\n",
    "    \n",
    "if cds_sequence[-3:] in ['taa', 'tag', 'tga']:\n",
    "    exist_stop_codon = 'yes'\n",
    "    \n",
    "header = header + ' start = ' + exist_start_codon + ';'\n",
    "header = header + ' stop = ' + exist_stop_codon\n",
    "\n",
    "cds_sequence_fasta = format_fasta(header, cds_sequence, record = 60)"
   ]
  },
  {
   "cell_type": "code",
   "execution_count": null,
   "metadata": {
    "scrolled": true
   },
   "outputs": [],
   "source": [
    "print(cds_sequence_fasta)"
   ]
  },
  {
   "cell_type": "markdown",
   "metadata": {},
   "source": [
    "Stampare la coding sequence in un file."
   ]
  },
  {
   "cell_type": "code",
   "execution_count": null,
   "metadata": {},
   "outputs": [],
   "source": [
    "with open('./cds.fa', 'w') as output_file:\n",
    "    output_file.write(cds_sequence_fasta)"
   ]
  },
  {
   "cell_type": "markdown",
   "metadata": {},
   "source": [
    "### 12) Determinazione delle frequenze dei codoni"
   ]
  },
  {
   "cell_type": "markdown",
   "metadata": {},
   "source": [
    "a) Estrarre la lista dei codoni della CDS."
   ]
  },
  {
   "cell_type": "code",
   "execution_count": null,
   "metadata": {},
   "outputs": [],
   "source": [
    "codon_list = re.findall(r'.{3}', cds_sequence)"
   ]
  },
  {
   "cell_type": "code",
   "execution_count": null,
   "metadata": {},
   "outputs": [],
   "source": [
    "codon_list"
   ]
  },
  {
   "cell_type": "markdown",
   "metadata": {},
   "source": [
    "b) Costruire la lista di tuple *(codone, frequenza)* elencate per frequenze decrescenti."
   ]
  },
  {
   "cell_type": "code",
   "execution_count": null,
   "metadata": {},
   "outputs": [],
   "source": [
    "from collections import Counter\n",
    "\n",
    "codon_frequency = Counter(codon_list).most_common()"
   ]
  },
  {
   "cell_type": "code",
   "execution_count": null,
   "metadata": {
    "scrolled": true
   },
   "outputs": [],
   "source": [
    "codon_frequency"
   ]
  },
  {
   "cell_type": "markdown",
   "metadata": {},
   "source": [
    "### 13) Determinazione delle frequenze degli amminoacidi della proteina letta dal file `EMBL`"
   ]
  },
  {
   "cell_type": "markdown",
   "metadata": {},
   "source": [
    "a) Estrarre la lista degli amminoacidi della proteina."
   ]
  },
  {
   "cell_type": "code",
   "execution_count": null,
   "metadata": {},
   "outputs": [],
   "source": [
    "#re.findall(r'.', protein_sequence)\n",
    "ammino_list = list(protein_sequence)"
   ]
  },
  {
   "cell_type": "code",
   "execution_count": null,
   "metadata": {},
   "outputs": [],
   "source": [
    "ammino_list"
   ]
  },
  {
   "cell_type": "markdown",
   "metadata": {},
   "source": [
    "a) Costruire la lista di tuple *(amminoacido, frequenza)* elencate per frequenza decrescente."
   ]
  },
  {
   "cell_type": "code",
   "execution_count": null,
   "metadata": {},
   "outputs": [],
   "source": [
    "ammino_frequency = Counter(ammino_list).most_common()"
   ]
  },
  {
   "cell_type": "code",
   "execution_count": null,
   "metadata": {},
   "outputs": [],
   "source": [
    "ammino_frequency"
   ]
  },
  {
   "cell_type": "markdown",
   "metadata": {},
   "source": [
    "b) Produrre il diagramma a barre delle frequenze degli amminoacidi.\n",
    "\n",
    "Importare il package `matplotlib`"
   ]
  },
  {
   "cell_type": "code",
   "execution_count": null,
   "metadata": {},
   "outputs": [],
   "source": [
    "import matplotlib"
   ]
  },
  {
   "cell_type": "code",
   "execution_count": null,
   "metadata": {},
   "outputs": [],
   "source": [
    "help(matplotlib)"
   ]
  },
  {
   "cell_type": "markdown",
   "metadata": {},
   "source": [
    "Importare il modulo `pyplot`."
   ]
  },
  {
   "cell_type": "code",
   "execution_count": null,
   "metadata": {},
   "outputs": [],
   "source": [
    "from matplotlib import pyplot"
   ]
  },
  {
   "cell_type": "code",
   "execution_count": null,
   "metadata": {},
   "outputs": [],
   "source": [
    "help(pyplot)"
   ]
  },
  {
   "cell_type": "markdown",
   "metadata": {},
   "source": [
    "Creare la lista dei simboli di amminoacido (asse x del diagramma)"
   ]
  },
  {
   "cell_type": "code",
   "execution_count": null,
   "metadata": {},
   "outputs": [],
   "source": [
    "ammino_acid_list = [aa for (aa, f) in ammino_frequency]"
   ]
  },
  {
   "cell_type": "code",
   "execution_count": null,
   "metadata": {},
   "outputs": [],
   "source": [
    "ammino_acid_list"
   ]
  },
  {
   "cell_type": "markdown",
   "metadata": {},
   "source": [
    "Creare la corrispondente lista delle frequenze (asse y del diagramma)"
   ]
  },
  {
   "cell_type": "code",
   "execution_count": null,
   "metadata": {},
   "outputs": [],
   "source": [
    "freq_list = [f for (aa, f) in ammino_frequency]"
   ]
  },
  {
   "cell_type": "code",
   "execution_count": null,
   "metadata": {},
   "outputs": [],
   "source": [
    "freq_list"
   ]
  },
  {
   "cell_type": "code",
   "execution_count": null,
   "metadata": {},
   "outputs": [],
   "source": [
    "pyplot.bar(ammino_acid_list, freq_list, color = 'purple')\n",
    "pyplot.show()"
   ]
  },
  {
   "cell_type": "markdown",
   "metadata": {},
   "source": [
    "### 14) Validazione della sequenza della proteina letta dal file `EMBL`"
   ]
  },
  {
   "cell_type": "markdown",
   "metadata": {},
   "source": [
    "a) Tradurre in proteina la sequenza della CDS."
   ]
  },
  {
   "cell_type": "markdown",
   "metadata": {},
   "source": [
    "**Alternativa1:** traduzione della lista `codon_list` da lista di codoni a lista di amminoacidi e unione in unica stringa con il metodo `join()`."
   ]
  },
  {
   "cell_type": "code",
   "execution_count": null,
   "metadata": {},
   "outputs": [],
   "source": [
    "cds_translation = ''.join(genetic_code_dict[codon] for codon in codon_list[:-1])"
   ]
  },
  {
   "cell_type": "code",
   "execution_count": null,
   "metadata": {},
   "outputs": [],
   "source": [
    "cds_translation"
   ]
  },
  {
   "cell_type": "markdown",
   "metadata": {},
   "source": [
    "**Alternativa2:** traduzione dalla stringa della coding sequence con la funzione `sub()` del modulo `re`.\n",
    "\n",
    "La funzione:\n",
    "\n",
    "    re.sub(my_expr, r_arg, my_string)\n",
    "    \n",
    "sostituisce tutte le occorrenze non sovrapposte della *RE* `my_expr` in `my_string` con l'argomento `r_arg`."
   ]
  },
  {
   "cell_type": "code",
   "execution_count": null,
   "metadata": {},
   "outputs": [],
   "source": [
    "cds_translation2 = re.sub(r'.{3}', lambda x: genetic_code_dict[x.group()], cds_sequence[:-3])"
   ]
  },
  {
   "cell_type": "code",
   "execution_count": null,
   "metadata": {
    "scrolled": true
   },
   "outputs": [],
   "source": [
    "cds_translation2"
   ]
  },
  {
   "cell_type": "markdown",
   "metadata": {},
   "source": [
    "Verificare che le due alternative portano alla stessa traduzione."
   ]
  },
  {
   "cell_type": "code",
   "execution_count": null,
   "metadata": {},
   "outputs": [],
   "source": [
    "cds_translation == cds_translation2"
   ]
  },
  {
   "cell_type": "markdown",
   "metadata": {},
   "source": [
    "Verificare infine che la proteina letta dal file `EMBL` è uguale a quella ottenuta per traduzione della CDS."
   ]
  },
  {
   "cell_type": "code",
   "execution_count": null,
   "metadata": {},
   "outputs": [],
   "source": [
    "protein_sequence == cds_translation"
   ]
  },
  {
   "cell_type": "markdown",
   "metadata": {},
   "source": [
    "### 15) Trovare una CDS \"sinonima\" della precedente ottenuta sostituendo il maggior numero di codoni"
   ]
  },
  {
   "cell_type": "markdown",
   "metadata": {},
   "source": [
    "a) Costruire il dizionario inverso del codice genetico:\n",
    "\n",
    "- *chiave*: simbolo di amminoacido\n",
    "- *valore*: lista dei codoni che corrispondono all'amminoacido"
   ]
  },
  {
   "cell_type": "code",
   "execution_count": null,
   "metadata": {},
   "outputs": [],
   "source": [
    "split_genetic_code"
   ]
  },
  {
   "cell_type": "code",
   "execution_count": null,
   "metadata": {},
   "outputs": [],
   "source": [
    "key_value_list = [(record_list[0], record_list[1:]) for record_list in split_genetic_code]"
   ]
  },
  {
   "cell_type": "code",
   "execution_count": null,
   "metadata": {},
   "outputs": [],
   "source": [
    "inverse_genetic_code_dict = dict(key_value_list)"
   ]
  },
  {
   "cell_type": "code",
   "execution_count": null,
   "metadata": {},
   "outputs": [],
   "source": [
    "inverse_genetic_code_dict"
   ]
  },
  {
   "cell_type": "markdown",
   "metadata": {},
   "source": [
    "b) Determinare una CDS sinonima sostituendo il maggior numero possibile di codoni."
   ]
  },
  {
   "cell_type": "code",
   "execution_count": null,
   "metadata": {
    "scrolled": true
   },
   "outputs": [],
   "source": [
    "syn_cds_sequence = ''\n",
    "\n",
    "for codon in codon_list:\n",
    "    aa = genetic_code_dict[codon]\n",
    "    \n",
    "    copy_list = list(inverse_genetic_code_dict[aa])\n",
    "    \n",
    "    #Il codone da aggiungere alla cds sinonima è inizialmente il codone codon\n",
    "    codon_to_append = codon\n",
    "    if len(copy_list) > 1:\n",
    "        copy_list.remove(codon)\n",
    "        codon_to_append = copy_list.pop(0)\n",
    "    \n",
    "    syn_cds_sequence = syn_cds_sequence + codon_to_append"
   ]
  },
  {
   "cell_type": "code",
   "execution_count": null,
   "metadata": {},
   "outputs": [],
   "source": [
    "syn_cds_sequence"
   ]
  },
  {
   "cell_type": "markdown",
   "metadata": {},
   "source": [
    "c) Verificare che fornisca la stessa proteina."
   ]
  },
  {
   "cell_type": "code",
   "execution_count": null,
   "metadata": {},
   "outputs": [],
   "source": [
    "cds_translation2 == re.sub(r'.{3}', lambda x: genetic_code_dict[x.group()], syn_cds_sequence[:-3])"
   ]
  },
  {
   "cell_type": "markdown",
   "metadata": {},
   "source": [
    "d) Misurare la differenza con la precedente CDS tramite distanza di Hamming, che è il numero di posizioni in cui le due sequenze hanno diverso carattere.\n",
    "\n",
    "**Esempio**: la distanza di Hamming di `ACGTG` e `GCTTG` è pari a 2, in quanto le basi diverse sono quelle in posizione 1 (`A` e `G`) e quelle in posizione 3 (`G` e `T`).\n",
    "\n",
    "*Suggerimento*: usare la funzione `range()` passando come unico argomento la lunghezza della CDS, per produrre il range dei suoi indici di posizione. "
   ]
  },
  {
   "cell_type": "code",
   "execution_count": null,
   "metadata": {},
   "outputs": [],
   "source": [
    "hamming_dist = [syn_cds_sequence[i] == cds_sequence[i] for i in range(len(cds_sequence))].count(False)"
   ]
  },
  {
   "cell_type": "code",
   "execution_count": null,
   "metadata": {},
   "outputs": [],
   "source": [
    "hamming_dist"
   ]
  },
  {
   "cell_type": "markdown",
   "metadata": {},
   "source": [
    "Percentuale di basi differenti rispetto alla lunghezza delle due CDS:"
   ]
  },
  {
   "cell_type": "code",
   "execution_count": null,
   "metadata": {},
   "outputs": [],
   "source": [
    "hamming_dist / len(cds_sequence)"
   ]
  },
  {
   "cell_type": "markdown",
   "metadata": {},
   "source": [
    "Numero di possibili CDS che esprimono la stessa proteina:"
   ]
  },
  {
   "cell_type": "code",
   "execution_count": null,
   "metadata": {},
   "outputs": [],
   "source": [
    "count = 1\n",
    "for aa in cds_translation:\n",
    "    count = count * len(inverse_genetic_code_dict[aa])"
   ]
  },
  {
   "cell_type": "code",
   "execution_count": null,
   "metadata": {},
   "outputs": [],
   "source": [
    "count"
   ]
  }
 ],
 "metadata": {
  "kernelspec": {
   "display_name": "Python 3 (ipykernel)",
   "language": "python",
   "name": "python3"
  },
  "language_info": {
   "codemirror_mode": {
    "name": "ipython",
    "version": 3
   },
   "file_extension": ".py",
   "mimetype": "text/x-python",
   "name": "python",
   "nbconvert_exporter": "python",
   "pygments_lexer": "ipython3",
   "version": "3.9.15"
  }
 },
 "nbformat": 4,
 "nbformat_minor": 2
}
