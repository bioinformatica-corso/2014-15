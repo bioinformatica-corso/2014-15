{
 "cells": [
  {
   "cell_type": "markdown",
   "metadata": {},
   "source": [
    "# Esercizio8 - Pysam"
   ]
  },
  {
   "cell_type": "markdown",
   "metadata": {},
   "source": [
    "Prendere in input un file in formato `BAM` che contiene allineamenti al cromosoma X (*reference*) e:\n",
    "\n",
    "- controllare se sono presenti *paired-end* reads\n",
    "- determinare le lunghezze degli introni supportati dagli allineamenti del file `BAM`, senza utilizzare il metodo `find_introns()`\n",
    "- determinare la base della *reference* che ha la massima copertura in termini di reads allineati"
   ]
  },
  {
   "cell_type": "markdown",
   "metadata": {},
   "source": [
    "### 1) Importare `pysam` e la classe `AlignmentFile`"
   ]
  },
  {
   "cell_type": "code",
   "execution_count": 1,
   "metadata": {},
   "outputs": [],
   "source": [
    "import pysam"
   ]
  },
  {
   "cell_type": "code",
   "execution_count": 2,
   "metadata": {},
   "outputs": [],
   "source": [
    "from pysam import AlignmentFile"
   ]
  },
  {
   "cell_type": "markdown",
   "metadata": {},
   "source": [
    "### 2) Leggere il file `BAM` in input"
   ]
  },
  {
   "cell_type": "code",
   "execution_count": 3,
   "metadata": {},
   "outputs": [
    {
     "data": {
      "text/plain": [
       "''"
      ]
     },
     "execution_count": 3,
     "metadata": {},
     "output_type": "execute_result"
    }
   ],
   "source": [
    "pysam.index('./sample.bam')"
   ]
  },
  {
   "cell_type": "code",
   "execution_count": 4,
   "metadata": {},
   "outputs": [],
   "source": [
    "bam_file = AlignmentFile('./sample.bam', 'rb')"
   ]
  },
  {
   "cell_type": "code",
   "execution_count": 5,
   "metadata": {},
   "outputs": [
    {
     "data": {
      "text/plain": [
       "<pysam.libcalignmentfile.AlignmentFile at 0x7f14a4122af0>"
      ]
     },
     "execution_count": 5,
     "metadata": {},
     "output_type": "execute_result"
    }
   ],
   "source": [
    "bam_file"
   ]
  },
  {
   "cell_type": "markdown",
   "metadata": {},
   "source": [
    "### 3) Controllare se sono presenti *paired-end* reads."
   ]
  },
  {
   "cell_type": "code",
   "execution_count": 6,
   "metadata": {},
   "outputs": [
    {
     "data": {
      "text/plain": [
       "False"
      ]
     },
     "execution_count": 6,
     "metadata": {},
     "output_type": "execute_result"
    }
   ],
   "source": [
    "alignment_iter = bam_file.fetch()\n",
    "alignment_list = list(alignment_iter)\n",
    "\n",
    "any([alignment.is_paired for alignment in alignment_list])"
   ]
  },
  {
   "cell_type": "markdown",
   "metadata": {},
   "source": [
    "### 4) Determinare le lunghezze degli introni supportati dagli allineamenti nel file `BAM`"
   ]
  },
  {
   "cell_type": "markdown",
   "metadata": {},
   "source": [
    "a) Ricavare l'insieme delle lunghezze degli introni supportati dalle cigar strings che contengono un'operazione `N` (cioé un inserimento nella reference che corrisponde a un introne)."
   ]
  },
  {
   "cell_type": "code",
   "execution_count": 7,
   "metadata": {},
   "outputs": [],
   "source": [
    "from collections import defaultdict\n",
    "introns = defaultdict(int)\n",
    "\n",
    "for alignment in alignment_list:\n",
    "    ctuples = alignment.cigartuples\n",
    "    for ix, cig in enumerate(ctuples):\n",
    "        if cig[0] == 3:\n",
    "            offset = 0\n",
    "            if ix > 0:\n",
    "                offset = ctuples[ix-1][1]\n",
    "            intron_start = alignment.reference_start + offset\n",
    "            intron_end = intron_start + cig[1]\n",
    "            \n",
    "            introns[(intron_start, intron_end)] += 1\n",
    "                "
   ]
  },
  {
   "cell_type": "code",
   "execution_count": 8,
   "metadata": {},
   "outputs": [
    {
     "name": "stdout",
     "output_type": "stream",
     "text": [
      "(286891, 286948) 1255\n",
      "(286980, 287267) 16\n",
      "(286981, 287268) 18\n",
      "(287041, 287328) 760\n",
      "(287041, 289040) 468\n",
      "(287526, 289040) 707\n",
      "(289272, 289870) 530\n",
      "(289272, 290252) 730\n",
      "(289321, 289630) 3\n",
      "(289322, 289631) 4\n",
      "(289323, 289632) 10\n",
      "(289324, 289633) 7\n",
      "(289325, 289634) 7\n",
      "(289326, 289635) 2\n",
      "(289327, 289636) 4\n",
      "(289328, 289637) 10\n",
      "(289329, 289638) 7\n",
      "(289330, 289639) 7\n",
      "(289331, 289640) 3\n",
      "(289332, 289641) 5\n",
      "(289333, 289642) 13\n",
      "(289334, 289643) 3\n",
      "(289335, 289644) 11\n",
      "(289336, 289645) 6\n",
      "(289337, 289646) 6\n",
      "(289339, 289648) 6\n",
      "(289340, 289649) 10\n",
      "(289341, 289650) 4\n",
      "(289342, 289651) 6\n",
      "(289943, 290252) 459\n",
      "(290596, 294712) 741\n",
      "(290596, 294822) 586\n"
     ]
    }
   ],
   "source": [
    "for k in introns:\n",
    "    print(k, introns[k])"
   ]
  },
  {
   "cell_type": "markdown",
   "metadata": {},
   "source": [
    "### 5) Trovare la base della reference che ha copertura massima"
   ]
  },
  {
   "cell_type": "markdown",
   "metadata": {},
   "source": [
    "a) Determinare la lista delle colonne di *pileup*."
   ]
  },
  {
   "cell_type": "code",
   "execution_count": 9,
   "metadata": {},
   "outputs": [],
   "source": [
    "pileup_iter = bam_file.pileup()"
   ]
  },
  {
   "cell_type": "code",
   "execution_count": 10,
   "metadata": {},
   "outputs": [],
   "source": [
    "pileup_columns = list(pileup_iter)"
   ]
  },
  {
   "cell_type": "code",
   "execution_count": 11,
   "metadata": {
    "scrolled": true
   },
   "outputs": [
    {
     "data": {
      "text/plain": [
       "[<pysam.libcalignedsegment.PileupColumn at 0x7f14a4121c10>,\n",
       " <pysam.libcalignedsegment.PileupColumn at 0x7f14a41219e0>,\n",
       " <pysam.libcalignedsegment.PileupColumn at 0x7f14a4121350>,\n",
       " <pysam.libcalignedsegment.PileupColumn at 0x7f14a4121740>,\n",
       " <pysam.libcalignedsegment.PileupColumn at 0x7f14a41212e0>,\n",
       " <pysam.libcalignedsegment.PileupColumn at 0x7f14a4121430>,\n",
       " <pysam.libcalignedsegment.PileupColumn at 0x7f14a4121580>,\n",
       " <pysam.libcalignedsegment.PileupColumn at 0x7f14a4121190>,\n",
       " <pysam.libcalignedsegment.PileupColumn at 0x7f14a4121eb0>,\n",
       " <pysam.libcalignedsegment.PileupColumn at 0x7f14a4121a50>]"
      ]
     },
     "execution_count": 11,
     "metadata": {},
     "output_type": "execute_result"
    }
   ],
   "source": [
    "pileup_columns[:10]"
   ]
  },
  {
   "cell_type": "markdown",
   "metadata": {},
   "source": [
    "b) Estrarre le colonna di altezza massima (cioé coperta dal maggior numero di allineamenti)."
   ]
  },
  {
   "cell_type": "code",
   "execution_count": 12,
   "metadata": {},
   "outputs": [],
   "source": [
    "max_height = max([pileup_col.nsegments for pileup_col in pileup_columns])"
   ]
  },
  {
   "cell_type": "code",
   "execution_count": 13,
   "metadata": {},
   "outputs": [],
   "source": [
    "max_pileup_col = [pileup_col for pileup_col in pileup_columns if pileup_col.nsegments == max_height][0]"
   ]
  },
  {
   "cell_type": "code",
   "execution_count": 14,
   "metadata": {},
   "outputs": [
    {
     "data": {
      "text/plain": [
       "1469"
      ]
     },
     "execution_count": 14,
     "metadata": {},
     "output_type": "execute_result"
    }
   ],
   "source": [
    "max_pileup_col.nsegments"
   ]
  },
  {
   "cell_type": "code",
   "execution_count": 15,
   "metadata": {},
   "outputs": [
    {
     "data": {
      "text/plain": [
       "286723"
      ]
     },
     "execution_count": 15,
     "metadata": {},
     "output_type": "execute_result"
    }
   ],
   "source": [
    "max_pileup_col.pos"
   ]
  },
  {
   "cell_type": "markdown",
   "metadata": {},
   "source": [
    "### 6) Disegnare un grafico che mostri posizioni di mappaggio e di refskip nel pileup"
   ]
  },
  {
   "cell_type": "code",
   "execution_count": 16,
   "metadata": {},
   "outputs": [],
   "source": [
    "covs = []\n",
    "skips = []\n",
    "\n",
    "for pileupcolumn in bam_file.pileup(min_base_quality = 0):\n",
    "    cov = pileupcolumn.nsegments\n",
    "    skipcount = 0\n",
    "    for pileupread in pileupcolumn.pileups:\n",
    "        skipcount += pileupread.is_refskip\n",
    "    covs.append(cov - skipcount)\n",
    "    skips.append(skipcount)"
   ]
  },
  {
   "cell_type": "code",
   "execution_count": 17,
   "metadata": {},
   "outputs": [
    {
     "data": {
      "text/plain": [
       "<BarContainer object of 11777 artists>"
      ]
     },
     "execution_count": 17,
     "metadata": {},
     "output_type": "execute_result"
    },
    {
     "data": {
      "image/png": "[encoded data removed]",
      "text/plain": [
       "<Figure size 1440x432 with 1 Axes>"
      ]
     },
     "metadata": {
      "needs_background": "light"
     },
     "output_type": "display_data"
    }
   ],
   "source": [
    "import matplotlib.pyplot as plt\n",
    "\n",
    "fig = plt.figure(figsize = (20,6))\n",
    "plt.bar(range(len(skips)), skips)\n",
    "plt.bar(range(len(covs)), covs, bottom=skips)"
   ]
  },
  {
   "cell_type": "code",
   "execution_count": null,
   "metadata": {},
   "outputs": [],
   "source": []
  },
  {
   "cell_type": "code",
   "execution_count": null,
   "metadata": {},
   "outputs": [],
   "source": []
  }
 ],
 "metadata": {
  "kernelspec": {
   "display_name": "Python 3",
   "language": "python",
   "name": "python3"
  },
  "language_info": {
   "codemirror_mode": {
    "name": "ipython",
    "version": 3
   },
   "file_extension": ".py",
   "mimetype": "text/x-python",
   "name": "python",
   "nbconvert_exporter": "python",
   "pygments_lexer": "ipython3",
   "version": "3.8.10"
  }
 },
 "nbformat": 4,
 "nbformat_minor": 4
}
