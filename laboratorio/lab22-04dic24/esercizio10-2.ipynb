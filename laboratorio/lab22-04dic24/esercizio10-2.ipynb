{
 "cells": [
  {
   "cell_type": "markdown",
   "metadata": {},
   "source": [
    "# Esercizio 10"
   ]
  },
  {
   "cell_type": "markdown",
   "metadata": {},
   "source": [
    "[MAFFT](https://www.ebi.ac.uk/Tools/msa/mafft/) è un tool di allineamento multiplo sviluppato da EMBL-EBI (European Bioinformatics Institute - European Molecular Biology Laboratory) per sequenze di DNA.\n",
    "\n",
    "Usare MAFFT (scegliendo ClustalW come formato di output) per allineare i 14 genomi di SARS-CoV-2 presenti nel file `covid-sequences.fasta` sequenziati nel novembre 2021 e scaricati dal sito di [NCBI](https://www.ncbi.nlm.nih.gov/sars-cov-2/). Il primo, con identificatore `NC_045512.2`, è il genoma di riferimento.\n",
    "\n",
    "Trovare in seguito tutte le variazioni rispetto ai genoma di riferimento.\n",
    "\n",
    "---\n",
    "\n",
    "**Variazione**: una colonna nell'allineamento in cui esiste almeno una sequenza che ha *mismatch* con il riferimento.\n",
    "\n",
    "Esempio di allineamento multiplo tra tre genomi `G_REF` (*reference*) `G1` e `G2`, che ha quattro variazioni nelle colonne 5, 8, 13 e 16:\n",
    "\n",
    "    G_REF   AAGCTGATTGCACGC-T\n",
    "    G1      --GCAGAGTGCAGGCCT\n",
    "    G2      --GCCGAGTGCACGCCT\n",
    "\n",
    "**Variazione 5**: `T` nel reference e `A` in G1 e `C` in G2.\n",
    "\n",
    "**Variazione 8**: `T` nel reference e `G` sia in G1 e G2.\n",
    "\n",
    "**Variazione 13**: `C` nel reference e `G` in G1.\n",
    "\n",
    "**Variazione 16**: `-` (cancellazione) nel reference e `C` sia in G1 che in G2.\n",
    "\n",
    "---\n",
    "\n",
    "Si chiede di:\n",
    "- costruire il *data frame* delle variazioni in cui le colonne del *data frame* sono le colonne di variazione nell'allineamento multiplo e le righe sono indicizzate con l'identificatore del genoma. Non considerare le colonne che cadono nei gap iniziali e finali.\n",
    "- estrarre il genoma con più variazioni e quello con meno variazioni (rispetto al *reference*)\n",
    "- ottenere il *data frame* delle variazioni \"complete\", cioè in cui tutti i genomi variano rispetto al *reference*.\n",
    "- produrre il *data frame* delle variazioni \"stabili\", cioé in cui tutti i genomi variano allo stesso modo rispetto al riferimento (hanno la stessa base). \n",
    "- ottenere la lista delle colonne in cui c'è un gap nel genoma di riferimento.\n",
    "- ottenere la lista delle colonne in cui c'è un gap in almeno uno dei genomi (che non siano il *reference*)"
   ]
  },
  {
   "cell_type": "markdown",
   "metadata": {},
   "source": [
    "Importare Biopython."
   ]
  },
  {
   "cell_type": "code",
   "execution_count": 27,
   "metadata": {},
   "outputs": [],
   "source": [
    "import Bio"
   ]
  },
  {
   "cell_type": "markdown",
   "metadata": {},
   "source": [
    "Importare il package `AlignIO` che è il package per manipolare file contenenti allineamenti multipli in diversi formati (tra cui `clustal`, formato del file in input)."
   ]
  },
  {
   "cell_type": "code",
   "execution_count": 28,
   "metadata": {},
   "outputs": [],
   "source": [
    "from Bio import AlignIO"
   ]
  },
  {
   "cell_type": "code",
   "execution_count": 29,
   "metadata": {},
   "outputs": [
    {
     "name": "stdout",
     "output_type": "stream",
     "text": [
      "Help on package Bio.AlignIO in Bio:\n",
      "\n",
      "NAME\n",
      "    Bio.AlignIO - Multiple sequence alignment input/output as alignment objects.\n",
      "\n",
      "DESCRIPTION\n",
      "    The Bio.AlignIO interface is deliberately very similar to Bio.SeqIO, and in\n",
      "    fact the two are connected internally.  Both modules use the same set of file\n",
      "    format names (lower case strings).  From the user's perspective, you can read\n",
      "    in a PHYLIP file containing one or more alignments using Bio.AlignIO, or you\n",
      "    can read in the sequences within these alignments using Bio.SeqIO.\n",
      "    \n",
      "    Bio.AlignIO is also documented at http://biopython.org/wiki/AlignIO and by\n",
      "    a whole chapter in our tutorial:\n",
      "    \n",
      "    * `HTML Tutorial`_\n",
      "    * `PDF Tutorial`_\n",
      "    \n",
      "    .. _`HTML Tutorial`: http://biopython.org/DIST/docs/tutorial/Tutorial.html\n",
      "    .. _`PDF Tutorial`: http://biopython.org/DIST/docs/tutorial/Tutorial.pdf\n",
      "    \n",
      "    Input\n",
      "    -----\n",
      "    For the typical special case when your file or handle contains one and only\n",
      "    one alignment, use the function Bio.AlignIO.read().  This takes an input file\n",
      "    handle (or in recent versions of Biopython a filename as a string), format\n",
      "    string and optional number of sequences per alignment.  It will return a single\n",
      "    MultipleSeqAlignment object (or raise an exception if there isn't just one\n",
      "    alignment):\n",
      "    \n",
      "    >>> from Bio import AlignIO\n",
      "    >>> align = AlignIO.read(\"Phylip/interlaced.phy\", \"phylip\")\n",
      "    >>> print(align)\n",
      "    Alignment with 3 rows and 384 columns\n",
      "    -----MKVILLFVLAVFTVFVSS---------------RGIPPE...I-- CYS1_DICDI\n",
      "    MAHARVLLLALAVLATAAVAVASSSSFADSNPIRPVTDRAASTL...VAA ALEU_HORVU\n",
      "    ------MWATLPLLCAGAWLLGV--------PVCGAAELSVNSL...PLV CATH_HUMAN\n",
      "    \n",
      "    For the general case, when the handle could contain any number of alignments,\n",
      "    use the function Bio.AlignIO.parse(...) which takes the same arguments, but\n",
      "    returns an iterator giving MultipleSeqAlignment objects (typically used in a\n",
      "    for loop). If you want random access to the alignments by number, turn this\n",
      "    into a list:\n",
      "    \n",
      "    >>> from Bio import AlignIO\n",
      "    >>> alignments = list(AlignIO.parse(\"Emboss/needle.txt\", \"emboss\"))\n",
      "    >>> print(alignments[2])\n",
      "    Alignment with 2 rows and 120 columns\n",
      "    -KILIVDDQYGIRILLNEVFNKEGYQTFQAANGLQALDIVTKER...--- ref_rec\n",
      "    LHIVVVDDDPGTCVYIESVFAELGHTCKSFVRPEAAEEYILTHP...HKE gi|94967506|receiver\n",
      "    \n",
      "    Most alignment file formats can be concatenated so as to hold as many\n",
      "    different multiple sequence alignments as possible.  One common example\n",
      "    is the output of the tool seqboot in the PHLYIP suite.  Sometimes there\n",
      "    can be a file header and footer, as seen in the EMBOSS alignment output.\n",
      "    \n",
      "    Output\n",
      "    ------\n",
      "    Use the function Bio.AlignIO.write(...), which takes a complete set of\n",
      "    Alignment objects (either as a list, or an iterator), an output file handle\n",
      "    (or filename in recent versions of Biopython) and of course the file format::\n",
      "    \n",
      "        from Bio import AlignIO\n",
      "        alignments = ...\n",
      "        count = SeqIO.write(alignments, \"example.faa\", \"fasta\")\n",
      "    \n",
      "    If using a handle make sure to close it to flush the data to the disk::\n",
      "    \n",
      "        from Bio import AlignIO\n",
      "        alignments = ...\n",
      "        with open(\"example.faa\", \"w\") as handle:\n",
      "            count = SeqIO.write(alignments, handle, \"fasta\")\n",
      "    \n",
      "    In general, you are expected to call this function once (with all your\n",
      "    alignments) and then close the file handle.  However, for file formats\n",
      "    like PHYLIP where multiple alignments are stored sequentially (with no file\n",
      "    header and footer), then multiple calls to the write function should work as\n",
      "    expected when using handles.\n",
      "    \n",
      "    If you are using a filename, the repeated calls to the write functions will\n",
      "    overwrite the existing file each time.\n",
      "    \n",
      "    Conversion\n",
      "    ----------\n",
      "    The Bio.AlignIO.convert(...) function allows an easy interface for simple\n",
      "    alignment file format conversions. Additionally, it may use file format\n",
      "    specific optimisations so this should be the fastest way too.\n",
      "    \n",
      "    In general however, you can combine the Bio.AlignIO.parse(...) function with\n",
      "    the Bio.AlignIO.write(...) function for sequence file conversion. Using\n",
      "    generator expressions provides a memory efficient way to perform filtering or\n",
      "    other extra operations as part of the process.\n",
      "    \n",
      "    File Formats\n",
      "    ------------\n",
      "    When specifying the file format, use lowercase strings.  The same format\n",
      "    names are also used in Bio.SeqIO and include the following:\n",
      "    \n",
      "      - clustal -   Output from Clustal W or X.\n",
      "      - emboss    - EMBOSS tools' \"pairs\" and \"simple\" alignment formats.\n",
      "      - fasta     - The generic sequence file format where each record starts with\n",
      "        an identifier line starting with a \">\" character, followed by\n",
      "        lines of sequence.\n",
      "      - fasta-m10 - For the pairwise alignments output by Bill Pearson's FASTA\n",
      "        tools when used with the -m 10 command line option for machine\n",
      "        readable output.\n",
      "      - ig        - The IntelliGenetics file format, apparently the same as the\n",
      "        MASE alignment format.\n",
      "      - msf       - The GCG MSF alignment format, originally from PileUp tool.\n",
      "      - nexus     - Output from NEXUS, see also the module Bio.Nexus which can also\n",
      "        read any phylogenetic trees in these files.\n",
      "      - phylip    - Interlaced PHYLIP, as used by the PHYLIP tools.\n",
      "      - phylip-sequential - Sequential PHYLIP.\n",
      "      - phylip-relaxed - PHYLIP like format allowing longer names.\n",
      "      - stockholm - A richly annotated alignment file format used by PFAM.\n",
      "      - mauve - Output from progressiveMauve/Mauve\n",
      "    \n",
      "    Note that while Bio.AlignIO can read all the above file formats, it cannot\n",
      "    write to all of them.\n",
      "    \n",
      "    You can also use any file format supported by Bio.SeqIO, such as \"fasta\" or\n",
      "    \"ig\" (which are listed above), PROVIDED the sequences in your file are all the\n",
      "    same length.\n",
      "\n",
      "PACKAGE CONTENTS\n",
      "    ClustalIO\n",
      "    EmbossIO\n",
      "    FastaIO\n",
      "    Interfaces\n",
      "    MafIO\n",
      "    MauveIO\n",
      "    MsfIO\n",
      "    NexusIO\n",
      "    PhylipIO\n",
      "    StockholmIO\n",
      "\n",
      "FUNCTIONS\n",
      "    convert(in_file, in_format, out_file, out_format, molecule_type=None)\n",
      "        Convert between two alignment files, returns number of alignments.\n",
      "        \n",
      "        Arguments:\n",
      "         - in_file - an input handle or filename\n",
      "         - in_format - input file format, lower case string\n",
      "         - output - an output handle or filename\n",
      "         - out_file - output file format, lower case string\n",
      "         - molecule_type - optional molecule type to apply, string containing\n",
      "           \"DNA\", \"RNA\" or \"protein\".\n",
      "        \n",
      "        **NOTE** - If you provide an output filename, it will be opened which will\n",
      "        overwrite any existing file without warning. This may happen if even the\n",
      "        conversion is aborted (e.g. an invalid out_format name is given).\n",
      "        \n",
      "        Some output formats require the molecule type be specified where this\n",
      "        cannot be determined by the parser. For example, converting to FASTA,\n",
      "        Clustal, or PHYLIP format to NEXUS:\n",
      "        \n",
      "        >>> from io import StringIO\n",
      "        >>> from Bio import AlignIO\n",
      "        >>> handle = StringIO()\n",
      "        >>> AlignIO.convert(\"Phylip/horses.phy\", \"phylip\", handle, \"nexus\", \"DNA\")\n",
      "        1\n",
      "        >>> print(handle.getvalue())\n",
      "        #NEXUS\n",
      "        begin data;\n",
      "        dimensions ntax=10 nchar=40;\n",
      "        format datatype=dna missing=? gap=-;\n",
      "        matrix\n",
      "        Mesohippus   AAAAAAAAAAAAAAAAAAAAAAAAAAAAAAAAAAAAAAAA\n",
      "        Hypohippus   AAACCCCCCCAAAAAAAAACAAAAAAAAAAAAAAAAAAAA\n",
      "        Archaeohip   CAAAAAAAAAAAAAAAACACAAAAAAAAAAAAAAAAAAAA\n",
      "        Parahippus   CAAACAACAACAAAAAAAACAAAAAAAAAAAAAAAAAAAA\n",
      "        Merychippu   CCAACCACCACCCCACACCCAAAAAAAAAAAAAAAAAAAA\n",
      "        'M. secundu' CCAACCACCACCCACACCCCAAAAAAAAAAAAAAAAAAAA\n",
      "        Nannipus     CCAACCACAACCCCACACCCAAAAAAAAAAAAAAAAAAAA\n",
      "        Neohippari   CCAACCCCCCCCCCACACCCAAAAAAAAAAAAAAAAAAAA\n",
      "        Calippus     CCAACCACAACCCACACCCCAAAAAAAAAAAAAAAAAAAA\n",
      "        Pliohippus   CCCACCCCCCCCCACACCCCAAAAAAAAAAAAAAAAAAAA\n",
      "        ;\n",
      "        end;\n",
      "        <BLANKLINE>\n",
      "    \n",
      "    parse(handle, format, seq_count=None)\n",
      "        Iterate over an alignment file as MultipleSeqAlignment objects.\n",
      "        \n",
      "        Arguments:\n",
      "         - handle    - handle to the file, or the filename as a string\n",
      "           (note older versions of Biopython only took a handle).\n",
      "         - format    - string describing the file format.\n",
      "         - seq_count - Optional integer, number of sequences expected in each\n",
      "           alignment.  Recommended for fasta format files.\n",
      "        \n",
      "        If you have the file name in a string 'filename', use:\n",
      "        \n",
      "        >>> from Bio import AlignIO\n",
      "        >>> filename = \"Emboss/needle.txt\"\n",
      "        >>> format = \"emboss\"\n",
      "        >>> for alignment in AlignIO.parse(filename, format):\n",
      "        ...     print(\"Alignment of length %i\" % alignment.get_alignment_length())\n",
      "        Alignment of length 124\n",
      "        Alignment of length 119\n",
      "        Alignment of length 120\n",
      "        Alignment of length 118\n",
      "        Alignment of length 125\n",
      "        \n",
      "        If you have a string 'data' containing the file contents, use::\n",
      "        \n",
      "          from Bio import AlignIO\n",
      "          from io import StringIO\n",
      "          my_iterator = AlignIO.parse(StringIO(data), format)\n",
      "        \n",
      "        Use the Bio.AlignIO.read() function when you expect a single record only.\n",
      "    \n",
      "    read(handle, format, seq_count=None)\n",
      "        Turn an alignment file into a single MultipleSeqAlignment object.\n",
      "        \n",
      "        Arguments:\n",
      "         - handle    - handle to the file, or the filename as a string\n",
      "           (note older versions of Biopython only took a handle).\n",
      "         - format    - string describing the file format.\n",
      "         - seq_count - Optional integer, number of sequences expected in each\n",
      "           alignment.  Recommended for fasta format files.\n",
      "        \n",
      "        If the handle contains no alignments, or more than one alignment,\n",
      "        an exception is raised.  For example, using a PFAM/Stockholm file\n",
      "        containing one alignment:\n",
      "        \n",
      "        >>> from Bio import AlignIO\n",
      "        >>> filename = \"Clustalw/protein.aln\"\n",
      "        >>> format = \"clustal\"\n",
      "        >>> alignment = AlignIO.read(filename, format)\n",
      "        >>> print(\"Alignment of length %i\" % alignment.get_alignment_length())\n",
      "        Alignment of length 411\n",
      "        \n",
      "        If however you want the first alignment from a file containing\n",
      "        multiple alignments this function would raise an exception.\n",
      "        \n",
      "        >>> from Bio import AlignIO\n",
      "        >>> filename = \"Emboss/needle.txt\"\n",
      "        >>> format = \"emboss\"\n",
      "        >>> alignment = AlignIO.read(filename, format)\n",
      "        Traceback (most recent call last):\n",
      "            ...\n",
      "        ValueError: More than one record found in handle\n",
      "        \n",
      "        Instead use:\n",
      "        \n",
      "        >>> from Bio import AlignIO\n",
      "        >>> filename = \"Emboss/needle.txt\"\n",
      "        >>> format = \"emboss\"\n",
      "        >>> alignment = next(AlignIO.parse(filename, format))\n",
      "        >>> print(\"First alignment has length %i\" % alignment.get_alignment_length())\n",
      "        First alignment has length 124\n",
      "        \n",
      "        You must use the Bio.AlignIO.parse() function if you want to read multiple\n",
      "        records from the handle.\n",
      "    \n",
      "    write(alignments, handle, format)\n",
      "        Write complete set of alignments to a file.\n",
      "        \n",
      "        Arguments:\n",
      "         - alignments - A list (or iterator) of MultipleSeqAlignment objects,\n",
      "           or a single alignment object.\n",
      "         - handle    - File handle object to write to, or filename as string\n",
      "           (note older versions of Biopython only took a handle).\n",
      "         - format    - lower case string describing the file format to write.\n",
      "        \n",
      "        You should close the handle after calling this function.\n",
      "        \n",
      "        Returns the number of alignments written (as an integer).\n",
      "\n",
      "FILE\n",
      "    /opt/miniconda3/lib/python3.9/site-packages/Bio/AlignIO/__init__.py\n",
      "\n",
      "\n"
     ]
    }
   ],
   "source": [
    "help(AlignIO)"
   ]
  },
  {
   "cell_type": "markdown",
   "metadata": {},
   "source": [
    "## Leggere l'allineamento in input"
   ]
  },
  {
   "cell_type": "markdown",
   "metadata": {},
   "source": [
    "Il package `AlignIO` mette a disposizione la funzione `read` per leggere un file contenente un allineamento:\n",
    "\n",
    "       AlignIO.read(input_file_name, format)\n",
    "       \n",
    "e restituisce un oggetto `MultipleSeqAlignment` che è un oggetto iterabile contenente oggetti `SeqRecord`, un oggetto per ognuna delle righe dell'allineamento letto."
   ]
  },
  {
   "cell_type": "code",
   "execution_count": 30,
   "metadata": {},
   "outputs": [],
   "source": [
    "alignment = AlignIO.read('./files/mafft-alignments-early.clustalw', 'clustal')"
   ]
  },
  {
   "cell_type": "code",
   "execution_count": 31,
   "metadata": {},
   "outputs": [
    {
     "data": {
      "text/plain": [
       "<<class 'Bio.Align.MultipleSeqAlignment'> instance (12 records of length 29903) at 11190e880>"
      ]
     },
     "execution_count": 31,
     "metadata": {},
     "output_type": "execute_result"
    }
   ],
   "source": [
    "alignment"
   ]
  },
  {
   "cell_type": "markdown",
   "metadata": {},
   "source": [
    "Ottenere la lunghezza dell'allineamento letto, intesa come numero di colonne della matrice di allineamento, tramite il metodo `get_alignment_length()` dell'oggetto `MultipleSeqAlignment`."
   ]
  },
  {
   "cell_type": "code",
   "execution_count": 32,
   "metadata": {},
   "outputs": [
    {
     "data": {
      "text/plain": [
       "29903"
      ]
     },
     "execution_count": 32,
     "metadata": {},
     "output_type": "execute_result"
    }
   ],
   "source": [
    "alignment.get_alignment_length()"
   ]
  },
  {
   "cell_type": "markdown",
   "metadata": {},
   "source": [
    "Trasformare l'allineamento in una lista di oggetti `SeqRecord`."
   ]
  },
  {
   "cell_type": "code",
   "execution_count": 33,
   "metadata": {},
   "outputs": [],
   "source": [
    "alignment = list(alignment)"
   ]
  },
  {
   "cell_type": "code",
   "execution_count": 34,
   "metadata": {},
   "outputs": [
    {
     "data": {
      "text/plain": [
       "[SeqRecord(seq=Seq('ATTAAAGGTTTATACCTTCCCAGGTAACAAACCAACCAACTTTCGATCTCTTGT...AAA'), id='NC_045512.2', name='<unknown name>', description='NC_045512.2', dbxrefs=[]),\n",
       " SeqRecord(seq=Seq('NNNNNNNNNNNNNNNNNNNNNNNNNNNNNNNNNNNNNNNNNNNNNNNNNNNNNN...NNN'), id='HG998648.1', name='<unknown name>', description='HG998648.1', dbxrefs=[]),\n",
       " SeqRecord(seq=Seq('------------------------------------------------------...---'), id='MW751133.1', name='<unknown name>', description='MW751133.1', dbxrefs=[]),\n",
       " SeqRecord(seq=Seq('------------------------------------------------------...---'), id='MW751146.1', name='<unknown name>', description='MW751146.1', dbxrefs=[]),\n",
       " SeqRecord(seq=Seq('----------------------------AAACCAACCAACTTTCGATCTCTTGT...---'), id='MT020782.1', name='<unknown name>', description='MT020782.1', dbxrefs=[]),\n",
       " SeqRecord(seq=Seq('ATTAAAGGTTTATACCTTCCCAGGTAACAAACCAACCAACTTTCGATCTCTTGT...AAA'), id='MW422000.1', name='<unknown name>', description='MW422000.1', dbxrefs=[]),\n",
       " SeqRecord(seq=Seq('------GGTTTATACCTTCCCAGGTAACAAACCAACCAACTTTCGATCTCTTGT...---'), id='MT730116.1', name='<unknown name>', description='MT730116.1', dbxrefs=[]),\n",
       " SeqRecord(seq=Seq('------GGTTTATACCTTCCCAGGTAACAAACCAACCAACTTTCGATCTCTTGT...---'), id='MT730117.1', name='<unknown name>', description='MT730117.1', dbxrefs=[]),\n",
       " SeqRecord(seq=Seq('------------------------------------------TCGATCTCTTGT...---'), id='MW593327.1', name='<unknown name>', description='MW593327.1', dbxrefs=[]),\n",
       " SeqRecord(seq=Seq('------------------------------------------------------...---'), id='MW635193.1', name='<unknown name>', description='MW635193.1', dbxrefs=[]),\n",
       " SeqRecord(seq=Seq('------------------------------------------------------...---'), id='MW635200.1', name='<unknown name>', description='MW635200.1', dbxrefs=[]),\n",
       " SeqRecord(seq=Seq('ATTAAAGGTTTATACCTTCCCAGGTAACAAACCAACCAACTTTCGATCTCTTGT...AAA'), id='MW598425.1', name='<unknown name>', description='MW598425.1', dbxrefs=[])]"
      ]
     },
     "execution_count": 34,
     "metadata": {},
     "output_type": "execute_result"
    }
   ],
   "source": [
    "alignment"
   ]
  },
  {
   "cell_type": "markdown",
   "metadata": {},
   "source": [
    "## Eliminare dall'allineamento i gap iniziali.\n",
    "\n",
    "Trovare il più lungo prefisso di soli simboli `-` presente nelle righe dell'allineamento. Supponendo che tale prefisso sia lungo `g`, eliminare da ogni riga dell'allineamento il prefisso di lunghezza `g`.\n",
    "\n",
    "Ad esempio il seguente allineamento composto da tre righe:\n",
    "\n",
    "    GTATGTGTCATGTTTTTGCTA\n",
    "    --ATGTGTCATG-TTT-----\n",
    "    ----GTGTCATGTTTTTG---\n",
    "    \n",
    "presenta un più lungo prefisso di soli simboli `-` di lunghezza `g=4` (terza riga). Eliminando da tutte le righe un prefisso di lunghezza 4 si ottiene:\n",
    "\n",
    "        GTGTCATGTTTTTGCTA\n",
    "        GTGTCATG-TTT-----\n",
    "        GTGTCATGTTTTTG---"
   ]
  },
  {
   "cell_type": "markdown",
   "metadata": {},
   "source": [
    "a) Determinare la lista delle lunghezze dei gap."
   ]
  },
  {
   "cell_type": "code",
   "execution_count": 35,
   "metadata": {},
   "outputs": [],
   "source": [
    "import re"
   ]
  },
  {
   "cell_type": "code",
   "execution_count": 36,
   "metadata": {},
   "outputs": [],
   "source": [
    "gap_size_list = [len(re.findall(r'^-*', str(row.seq)).pop(0)) for row in alignment]"
   ]
  },
  {
   "cell_type": "code",
   "execution_count": 37,
   "metadata": {},
   "outputs": [
    {
     "data": {
      "text/plain": [
       "[0, 0, 54, 54, 28, 0, 6, 6, 42, 54, 54, 0]"
      ]
     },
     "execution_count": 37,
     "metadata": {},
     "output_type": "execute_result"
    }
   ],
   "source": [
    "gap_size_list"
   ]
  },
  {
   "cell_type": "markdown",
   "metadata": {},
   "source": [
    "b) Estrarre la massima lunghezza dei gap iniziali."
   ]
  },
  {
   "cell_type": "code",
   "execution_count": 38,
   "metadata": {},
   "outputs": [],
   "source": [
    "max_leading_gap_length = max(gap_size_list)"
   ]
  },
  {
   "cell_type": "code",
   "execution_count": 39,
   "metadata": {},
   "outputs": [
    {
     "data": {
      "text/plain": [
       "54"
      ]
     },
     "execution_count": 39,
     "metadata": {},
     "output_type": "execute_result"
    }
   ],
   "source": [
    "max_leading_gap_length"
   ]
  },
  {
   "cell_type": "markdown",
   "metadata": {},
   "source": [
    "c) Rimuovere dalle righe dell'allineamento un prefisso di lunghezza pari a quella massima trovata."
   ]
  },
  {
   "cell_type": "code",
   "execution_count": 40,
   "metadata": {},
   "outputs": [],
   "source": [
    "alignment = [row[max_leading_gap_length:] for row in alignment]"
   ]
  },
  {
   "cell_type": "code",
   "execution_count": 41,
   "metadata": {},
   "outputs": [
    {
     "data": {
      "text/plain": [
       "[SeqRecord(seq=Seq('AGATCTGTTCTCTAAACGAACTTTAAAATCTGTGTGGCTGTCACTCGGCTGCAT...AAA'), id='NC_045512.2', name='<unknown name>', description='NC_045512.2', dbxrefs=[]),\n",
       " SeqRecord(seq=Seq('AGATCTGTTCTCTAAACGAACTTTAAAATCTGTGTGGCTGTCACTCGGCTGCAT...NNN'), id='HG998648.1', name='<unknown name>', description='HG998648.1', dbxrefs=[]),\n",
       " SeqRecord(seq=Seq('AGATCTGTTCTCTAAACGAACTTTAAAATCTGTGTGGCTGTCACTCGGCTGCAT...---'), id='MW751133.1', name='<unknown name>', description='MW751133.1', dbxrefs=[]),\n",
       " SeqRecord(seq=Seq('AGATCTGTTCTCTAAACGAACTTTAAAATCTGTGTGGCTGTCACTCGGCTGCAT...---'), id='MW751146.1', name='<unknown name>', description='MW751146.1', dbxrefs=[]),\n",
       " SeqRecord(seq=Seq('AGATCTGTTCTCTAAACGAACTTTAAAATCTGTGTGGCTGTCACTCGGCTGCAT...---'), id='MT020782.1', name='<unknown name>', description='MT020782.1', dbxrefs=[]),\n",
       " SeqRecord(seq=Seq('AGATCTGTTCTCTAAACGAACTTTAAAATCTGTGTGGCTGTCACTCGGCTGCAT...AAA'), id='MW422000.1', name='<unknown name>', description='MW422000.1', dbxrefs=[]),\n",
       " SeqRecord(seq=Seq('AGATCTGTTCTCTAAACGAACTTTAAAATCTGTGTGGCTGTCACTCGGCTGCAT...---'), id='MT730116.1', name='<unknown name>', description='MT730116.1', dbxrefs=[]),\n",
       " SeqRecord(seq=Seq('AGATCTGTTCTCTAAACGAACTTTAAAATCTGTGTGGCTGTCACTCGGCTGCAT...---'), id='MT730117.1', name='<unknown name>', description='MT730117.1', dbxrefs=[]),\n",
       " SeqRecord(seq=Seq('AGATCTGTTCTCTAAACGAACTTTAAAATCTGTGTGGCTGTCACTCGGCTGCAT...---'), id='MW593327.1', name='<unknown name>', description='MW593327.1', dbxrefs=[]),\n",
       " SeqRecord(seq=Seq('AGATCTGTTCTCTAAACGAACTTTAAAATCTGTGTGGCTGTCACTCGGCTGCAT...---'), id='MW635193.1', name='<unknown name>', description='MW635193.1', dbxrefs=[]),\n",
       " SeqRecord(seq=Seq('AGATCTGTTCTCTAAACGAACTTTAAAATCTGTGTGGCTGTCACTCGGCTGCAT...---'), id='MW635200.1', name='<unknown name>', description='MW635200.1', dbxrefs=[]),\n",
       " SeqRecord(seq=Seq('AGATCTGTTCTCTAAACGAACTTTAAAATCTGTGTGGCTGTCACTCGGCTGCAT...AAA'), id='MW598425.1', name='<unknown name>', description='MW598425.1', dbxrefs=[])]"
      ]
     },
     "execution_count": 41,
     "metadata": {},
     "output_type": "execute_result"
    }
   ],
   "source": [
    "alignment"
   ]
  },
  {
   "cell_type": "markdown",
   "metadata": {},
   "source": [
    "## Eliminare dall'allineamento i gap finali.\n",
    "\n",
    "Trovare il più lungo suffisso di soli simboli `-` presente nelle righe dell'allineamento. Supponendo che tale suffisso sia lungo `g`, eliminare da ogni riga dell'allineamento il suffisso di lunghezza `g`.\n",
    "\n",
    "Ad esempio il seguente allineamento composto da tre righe:\n",
    "\n",
    "        GTGTCATGTTTTTGCTA\n",
    "        GTGTCATG-TTT-----\n",
    "        GTGTCATGTTTTTG---\n",
    "        \n",
    "presenta un più lungo suffisso di soli simboli `-` di lunghezza `g=5` (seconda riga). Eliminando da tutte le righe un suffisso di lunghezza 5 si ottiene:\n",
    "\n",
    "        GTGTCATGTTTT\n",
    "        GTGTCATG-TTT\n",
    "        GTGTCATGTTTT"
   ]
  },
  {
   "cell_type": "markdown",
   "metadata": {},
   "source": [
    "a) Determinare la lista delle lunghezze dei gap."
   ]
  },
  {
   "cell_type": "code",
   "execution_count": 42,
   "metadata": {},
   "outputs": [],
   "source": [
    "gap_size_list = [len(re.findall(r'-*$', str(row.seq)).pop(0)) for row in alignment]"
   ]
  },
  {
   "cell_type": "code",
   "execution_count": 43,
   "metadata": {},
   "outputs": [
    {
     "data": {
      "text/plain": [
       "[0, 0, 67, 67, 57, 0, 58, 43, 63, 135, 135, 0]"
      ]
     },
     "execution_count": 43,
     "metadata": {},
     "output_type": "execute_result"
    }
   ],
   "source": [
    "gap_size_list"
   ]
  },
  {
   "cell_type": "markdown",
   "metadata": {},
   "source": [
    "b) Estrarre la massima lunghezza dei gap."
   ]
  },
  {
   "cell_type": "code",
   "execution_count": 44,
   "metadata": {},
   "outputs": [],
   "source": [
    "max_trailing_gap_length = max(gap_size_list)"
   ]
  },
  {
   "cell_type": "code",
   "execution_count": 45,
   "metadata": {},
   "outputs": [
    {
     "data": {
      "text/plain": [
       "135"
      ]
     },
     "execution_count": 45,
     "metadata": {},
     "output_type": "execute_result"
    }
   ],
   "source": [
    "max_trailing_gap_length"
   ]
  },
  {
   "cell_type": "markdown",
   "metadata": {},
   "source": [
    "c) Rimuovere dalle righe dell'allineamento un suffisso di lunghezza pari a quella massima trovata."
   ]
  },
  {
   "cell_type": "code",
   "execution_count": 46,
   "metadata": {},
   "outputs": [],
   "source": [
    "alignment = [row[:-max_trailing_gap_length] for row in alignment]"
   ]
  },
  {
   "cell_type": "code",
   "execution_count": 47,
   "metadata": {},
   "outputs": [
    {
     "data": {
      "text/plain": [
       "[SeqRecord(seq=Seq('AGATCTGTTCTCTAAACGAACTTTAAAATCTGTGTGGCTGTCACTCGGCTGCAT...GAA'), id='NC_045512.2', name='<unknown name>', description='NC_045512.2', dbxrefs=[]),\n",
       " SeqRecord(seq=Seq('AGATCTGTTCTCTAAACGAACTTTAAAATCTGTGTGGCTGTCACTCGGCTGCAT...GAA'), id='HG998648.1', name='<unknown name>', description='HG998648.1', dbxrefs=[]),\n",
       " SeqRecord(seq=Seq('AGATCTGTTCTCTAAACGAACTTTAAAATCTGTGTGGCTGTCACTCGGCTGCAT...GAA'), id='MW751133.1', name='<unknown name>', description='MW751133.1', dbxrefs=[]),\n",
       " SeqRecord(seq=Seq('AGATCTGTTCTCTAAACGAACTTTAAAATCTGTGTGGCTGTCACTCGGCTGCAT...GAA'), id='MW751146.1', name='<unknown name>', description='MW751146.1', dbxrefs=[]),\n",
       " SeqRecord(seq=Seq('AGATCTGTTCTCTAAACGAACTTTAAAATCTGTGTGGCTGTCACTCGGCTGCAT...GAA'), id='MT020782.1', name='<unknown name>', description='MT020782.1', dbxrefs=[]),\n",
       " SeqRecord(seq=Seq('AGATCTGTTCTCTAAACGAACTTTAAAATCTGTGTGGCTGTCACTCGGCTGCAT...GAA'), id='MW422000.1', name='<unknown name>', description='MW422000.1', dbxrefs=[]),\n",
       " SeqRecord(seq=Seq('AGATCTGTTCTCTAAACGAACTTTAAAATCTGTGTGGCTGTCACTCGGCTGCAT...GAA'), id='MT730116.1', name='<unknown name>', description='MT730116.1', dbxrefs=[]),\n",
       " SeqRecord(seq=Seq('AGATCTGTTCTCTAAACGAACTTTAAAATCTGTGTGGCTGTCACTCGGCTGCAT...GAA'), id='MT730117.1', name='<unknown name>', description='MT730117.1', dbxrefs=[]),\n",
       " SeqRecord(seq=Seq('AGATCTGTTCTCTAAACGAACTTTAAAATCTGTGTGGCTGTCACTCGGCTGCAT...GAA'), id='MW593327.1', name='<unknown name>', description='MW593327.1', dbxrefs=[]),\n",
       " SeqRecord(seq=Seq('AGATCTGTTCTCTAAACGAACTTTAAAATCTGTGTGGCTGTCACTCGGCTGCAT...GAA'), id='MW635193.1', name='<unknown name>', description='MW635193.1', dbxrefs=[]),\n",
       " SeqRecord(seq=Seq('AGATCTGTTCTCTAAACGAACTTTAAAATCTGTGTGGCTGTCACTCGGCTGCAT...GAA'), id='MW635200.1', name='<unknown name>', description='MW635200.1', dbxrefs=[]),\n",
       " SeqRecord(seq=Seq('AGATCTGTTCTCTAAACGAACTTTAAAATCTGTGTGGCTGTCACTCGGCTGCAT...GAA'), id='MW598425.1', name='<unknown name>', description='MW598425.1', dbxrefs=[])]"
      ]
     },
     "execution_count": 47,
     "metadata": {},
     "output_type": "execute_result"
    }
   ],
   "source": [
    "alignment"
   ]
  },
  {
   "cell_type": "markdown",
   "metadata": {},
   "source": [
    "## Creare il *data frame* delle variazioni\n",
    "\n",
    "a) Creare il seguente dizionario\n",
    "\n",
    "- `key`: posizione (1-based) della colonna di variazione all'interno dell'allineamento\n",
    "\n",
    "- `value`: lista delle basi coinvolte nella variazione (il primo elemento si riferisce al *reference*). Se un genoma non presenta differenza rispetto al *reference*, deve essere  inserita la stringa vuota.\n",
    "\n",
    "Non tenere conto di basi ambigue."
   ]
  },
  {
   "cell_type": "code",
   "execution_count": 48,
   "metadata": {},
   "outputs": [],
   "source": [
    "df_variant = {}"
   ]
  },
  {
   "cell_type": "markdown",
   "metadata": {},
   "source": [
    "Estrarre la riga del *reference* (e rimuoverla dall'allineamento)."
   ]
  },
  {
   "cell_type": "code",
   "execution_count": 49,
   "metadata": {},
   "outputs": [],
   "source": [
    "reference = alignment.pop(0)"
   ]
  },
  {
   "cell_type": "code",
   "execution_count": 50,
   "metadata": {},
   "outputs": [
    {
     "data": {
      "text/plain": [
       "SeqRecord(seq=Seq('AGATCTGTTCTCTAAACGAACTTTAAAATCTGTGTGGCTGTCACTCGGCTGCAT...GAA'), id='NC_045512.2', name='<unknown name>', description='NC_045512.2', dbxrefs=[])"
      ]
     },
     "execution_count": 50,
     "metadata": {},
     "output_type": "execute_result"
    }
   ],
   "source": [
    "reference"
   ]
  },
  {
   "cell_type": "code",
   "execution_count": 51,
   "metadata": {},
   "outputs": [],
   "source": [
    "for (i,c) in enumerate(reference):\n",
    "    variant_list = [(j, row[i]) for (j, row) in enumerate(alignment) if row[i] != c and row[i] in ['A', 'C', 'G', 'T', '-']]\n",
    "    if variant_list != []:\n",
    "        df_variant_list = [variant[1] for variant in variant_list]\n",
    "        \n",
    "        all_index_set = set(range(len(alignment)))\n",
    "        variant_index_set = set(variant[0] for variant in variant_list)\n",
    "        \n",
    "        non_variant_index_set = all_index_set.difference(variant_index_set)\n",
    "        \n",
    "        for index in non_variant_index_set:\n",
    "            df_variant_list.insert(index, '')\n",
    "            \n",
    "        df_variant_list.insert(0, c)\n",
    "        \n",
    "        df_variant[i+max_leading_gap_length+1] = df_variant_list"
   ]
  },
  {
   "cell_type": "code",
   "execution_count": 52,
   "metadata": {},
   "outputs": [
    {
     "data": {
      "text/plain": [
       "{361: ['A', '', '', '', '', '', '', '', '', '', '', 'G'],\n",
       " 490: ['T', '', '', '', '', '', '', '', 'A', '', '', ''],\n",
       " 888: ['C', '', '', '', '', '', '', '', '', '', '', 'T'],\n",
       " 922: ['G', 'A', '', '', '', '', '', '', '', '', '', ''],\n",
       " 2102: ['C', '', '', '', '', '', '', '', '', '', '', 'T'],\n",
       " 2447: ['G', '', '', '', '', '', '', '', '', '', '', 'T'],\n",
       " 2461: ['T', '', '', '', '', 'C', '', '', '', '', '', ''],\n",
       " 3177: ['C', '', '', '', '', '', '', '', 'T', '', '', ''],\n",
       " 3638: ['G', '', '', '', '', 'T', '', '', '', '', '', ''],\n",
       " 3990: ['C', 'T', '', '', '', '', '', '', '', '', '', ''],\n",
       " 4402: ['T', '', '', '', 'C', '', '', '', '', '', '', ''],\n",
       " 4551: ['C', '', '', '', '', '', '', '', '', '', '', 'T'],\n",
       " 5044: ['G', '', '', '', '', '', '', '', '', '', '', 'A'],\n",
       " 5062: ['G', '', '', '', 'T', '', '', '', '', '', '', ''],\n",
       " 5833: ['C', '', '', '', '', '', '', '', 'T', '', '', ''],\n",
       " 6364: ['G', '', '', '', '', '', '', '', '', '', '', 'A'],\n",
       " 6539: ['C', '', '', '', '', '', '', '', '', 'T', 'T', ''],\n",
       " 6610: ['A', '', '', '', '', '', '', '', '', 'T', 'T', ''],\n",
       " 8664: ['C', '', '', '', '', '', '', '', 'T', '', '', ''],\n",
       " 8782: ['C', 'T', 'T', 'T', 'T', 'T', 'T', 'T', 'T', 'T', 'T', 'T'],\n",
       " 9223: ['C', '', '', '', '', '', '', '', '', 'T', 'T', ''],\n",
       " 9226: ['C', '', '', '', '', '', '', '', '', 'T', 'T', ''],\n",
       " 10065: ['G', '', '', '', '', 'A', '', '', '', '', '', ''],\n",
       " 11230: ['G', 'T', 'T', 'T', '', 'T', '', '', '', 'T', 'T', ''],\n",
       " 11746: ['A', '', '', '', '', '', '', '', '', 'G', 'G', ''],\n",
       " 12213: ['C', '', 'T', 'T', '', '', '', '', '', '', '', ''],\n",
       " 12557: ['A', '', '', '', '', '', '', '', '', '', '', 'G'],\n",
       " 12820: ['A', '', '', '', '', '', '', '', '', '', '', 'G'],\n",
       " 13860: ['C', '', '', '', '', '', '', '', '', 'T', 'T', ''],\n",
       " 14688: ['C', '', '', '', '', '', '', '', '', '', '', 'T'],\n",
       " 16733: ['C', '', '', '', '', '', '', '', '', '', '', 'T'],\n",
       " 17439: ['C', '', '', '', '', '', '', '', '', 'T', 'T', ''],\n",
       " 18736: ['T', '', '', '', '', '', '', '', 'C', '', '', ''],\n",
       " 20131: ['G', '', '', '', '', '', '', '', '', '', '', 'T'],\n",
       " 22048: ['T', '', '', '', '', '', '', '', '', '', '', 'C'],\n",
       " 22227: ['C', '', '', '', '', '', '', '', '', 'T', 'T', ''],\n",
       " 22319: ['G', '', '', '', '', '', '', '', '', 'T', 'T', ''],\n",
       " 22468: ['G', '', '', '', '', '', 'T', 'T', '', '', '', 'T'],\n",
       " 23403: ['A', 'G', '', '', '', '', '', '', '', 'G', 'G', 'G'],\n",
       " 23587: ['G', '', '', '', '', '', '', '', '', '', '', 'T'],\n",
       " 23625: ['C', '', '', '', '', '', '', '', '', '', '', 'T'],\n",
       " 23677: ['T', '', '', '', '', '', '', '', 'C', '', '', ''],\n",
       " 23854: ['C', '', '', '', '', '', '', '', '', '', '', 'T'],\n",
       " 24034: ['C', '', '', '', '', '', '', '', 'T', '', '', ''],\n",
       " 24736: ['T', '', '', '', '', '', '', '', '', 'C', 'C', ''],\n",
       " 24767: ['C', '', '', '', '', '', '', '', '', 'T', 'T', ''],\n",
       " 25487: ['C', '', '', '', '', '', '', '', '', 'T', 'T', ''],\n",
       " 25516: ['C', '', '', '', '', 'T', '', '', '', '', '', ''],\n",
       " 25563: ['G', '', '', '', '', '', '', '', '', 'T', 'T', ''],\n",
       " 25844: ['C', '', '', '', '', '', '', '', '', '', '', 'T'],\n",
       " 25849: ['T', 'A', '', '', '', '', '', '', '', '', '', ''],\n",
       " 26158: ['G', '', '', '', '', '-', '', '', '', '', '', ''],\n",
       " 26159: ['T', '', '', '', '', '-', '', '', '', '', '', ''],\n",
       " 26160: ['T', '', '', '', '', '-', '', '', '', '', '', ''],\n",
       " 26161: ['A', '', '', '', '', '-', '', '', '', '', '', ''],\n",
       " 26208: ['C', 'T', '', '', '', '', '', '', '', '', '', ''],\n",
       " 26313: ['C', '', '', '', '', 'T', '', '', '', '', '', ''],\n",
       " 26729: ['T', '', '', '', '', '', '', '', 'C', '', '', ''],\n",
       " 27131: ['C', '', '', '', '', '', '', '', '', '', '', 'T'],\n",
       " 27635: ['C', '', '', '', '', '', '', '', 'T', '', '', ''],\n",
       " 28077: ['G', '', '', '', '', '', '', '', 'C', '', '', ''],\n",
       " 28144: ['T', 'C', 'C', 'C', 'C', 'C', 'C', 'C', 'C', '', '', ''],\n",
       " 28167: ['G', 'A', 'A', 'A', '', 'A', '', '', '', '', '', ''],\n",
       " 28178: ['G', '', '', '', '', '', '', '', '', 'T', 'T', ''],\n",
       " 28280: ['G', '', '', '', '', '', '', '', '', '', '', 'T'],\n",
       " 28292: ['C', '', '', '', '', '', '', '', '', 'A', 'A', ''],\n",
       " 28878: ['G', 'A', 'A', 'A', '', 'A', 'A', 'A', '', 'A', 'A', 'A'],\n",
       " 29700: ['A', '', '', '', '', '', '', '', 'G', '', '', ''],\n",
       " 29742: ['G', 'A', 'A', '', '', 'A', 'A', 'A', '', 'A', 'A', 'A']}"
      ]
     },
     "execution_count": 52,
     "metadata": {},
     "output_type": "execute_result"
    }
   ],
   "source": [
    "df_variant"
   ]
  },
  {
   "cell_type": "markdown",
   "metadata": {},
   "source": [
    "b) Determinare la lista degli identificatori dei genomi da usare come indici (chiavi primarie)."
   ]
  },
  {
   "cell_type": "code",
   "execution_count": null,
   "metadata": {},
   "outputs": [],
   "source": []
  },
  {
   "cell_type": "code",
   "execution_count": 32,
   "metadata": {},
   "outputs": [
    {
     "data": {
      "text/plain": [
       "['NC_045512.2',\n",
       " 'HG998648.1',\n",
       " 'MW751133.1',\n",
       " 'MW751146.1',\n",
       " 'MT020782.1',\n",
       " 'MW422000.1',\n",
       " 'MT730116.1',\n",
       " 'MT730117.1',\n",
       " 'MW593327.1',\n",
       " 'MW635193.1',\n",
       " 'MW635200.1',\n",
       " 'MW598425.1']"
      ]
     },
     "execution_count": 32,
     "metadata": {},
     "output_type": "execute_result"
    }
   ],
   "source": [
    "index_list"
   ]
  },
  {
   "cell_type": "markdown",
   "metadata": {},
   "source": [
    "c) Creare il data frame\n",
    "\n",
    "    df = pd.DataFrame(df_data, index = index_list)"
   ]
  },
  {
   "cell_type": "code",
   "execution_count": null,
   "metadata": {},
   "outputs": [],
   "source": []
  },
  {
   "cell_type": "markdown",
   "metadata": {},
   "source": [
    "## Estrarre il genoma con più variazioni e quello con meno variazioni"
   ]
  },
  {
   "cell_type": "markdown",
   "metadata": {},
   "source": [
    "a) Determinare la lista del numero di variazioni per genoma rispetto al riferimento."
   ]
  },
  {
   "cell_type": "code",
   "execution_count": null,
   "metadata": {},
   "outputs": [],
   "source": []
  },
  {
   "cell_type": "markdown",
   "metadata": {},
   "source": [
    "b) Estrarre il genoma con più variazioni."
   ]
  },
  {
   "cell_type": "code",
   "execution_count": 39,
   "metadata": {},
   "outputs": [
    {
     "data": {
      "text/plain": [
       "'MW598425.1'"
      ]
     },
     "execution_count": 39,
     "metadata": {},
     "output_type": "execute_result"
    }
   ],
   "source": []
  },
  {
   "cell_type": "markdown",
   "metadata": {},
   "source": [
    "c) Estrarre il genoma con meno variazioni."
   ]
  },
  {
   "cell_type": "code",
   "execution_count": 40,
   "metadata": {},
   "outputs": [
    {
     "data": {
      "text/plain": [
       "'MT020782.1'"
      ]
     },
     "execution_count": 40,
     "metadata": {},
     "output_type": "execute_result"
    }
   ],
   "source": []
  },
  {
   "cell_type": "markdown",
   "metadata": {},
   "source": [
    "## Estrarre il *data frame* delle variazioni \"complete\""
   ]
  },
  {
   "cell_type": "code",
   "execution_count": 41,
   "metadata": {},
   "outputs": [],
   "source": []
  },
  {
   "cell_type": "code",
   "execution_count": 42,
   "metadata": {},
   "outputs": [
    {
     "data": {
      "text/html": [
       "<div>\n",
       "<style scoped>\n",
       "    .dataframe tbody tr th:only-of-type {\n",
       "        vertical-align: middle;\n",
       "    }\n",
       "\n",
       "    .dataframe tbody tr th {\n",
       "        vertical-align: top;\n",
       "    }\n",
       "\n",
       "    .dataframe thead th {\n",
       "        text-align: right;\n",
       "    }\n",
       "</style>\n",
       "<table border=\"1\" class=\"dataframe\">\n",
       "  <thead>\n",
       "    <tr style=\"text-align: right;\">\n",
       "      <th></th>\n",
       "      <th>8782</th>\n",
       "    </tr>\n",
       "  </thead>\n",
       "  <tbody>\n",
       "    <tr>\n",
       "      <th>NC_045512.2</th>\n",
       "      <td>C</td>\n",
       "    </tr>\n",
       "    <tr>\n",
       "      <th>HG998648.1</th>\n",
       "      <td>T</td>\n",
       "    </tr>\n",
       "    <tr>\n",
       "      <th>MW751133.1</th>\n",
       "      <td>T</td>\n",
       "    </tr>\n",
       "    <tr>\n",
       "      <th>MW751146.1</th>\n",
       "      <td>T</td>\n",
       "    </tr>\n",
       "    <tr>\n",
       "      <th>MT020782.1</th>\n",
       "      <td>T</td>\n",
       "    </tr>\n",
       "    <tr>\n",
       "      <th>MW422000.1</th>\n",
       "      <td>T</td>\n",
       "    </tr>\n",
       "    <tr>\n",
       "      <th>MT730116.1</th>\n",
       "      <td>T</td>\n",
       "    </tr>\n",
       "    <tr>\n",
       "      <th>MT730117.1</th>\n",
       "      <td>T</td>\n",
       "    </tr>\n",
       "    <tr>\n",
       "      <th>MW593327.1</th>\n",
       "      <td>T</td>\n",
       "    </tr>\n",
       "    <tr>\n",
       "      <th>MW635193.1</th>\n",
       "      <td>T</td>\n",
       "    </tr>\n",
       "    <tr>\n",
       "      <th>MW635200.1</th>\n",
       "      <td>T</td>\n",
       "    </tr>\n",
       "    <tr>\n",
       "      <th>MW598425.1</th>\n",
       "      <td>T</td>\n",
       "    </tr>\n",
       "  </tbody>\n",
       "</table>\n",
       "</div>"
      ],
      "text/plain": [
       "            8782\n",
       "NC_045512.2    C\n",
       "HG998648.1     T\n",
       "MW751133.1     T\n",
       "MW751146.1     T\n",
       "MT020782.1     T\n",
       "MW422000.1     T\n",
       "MT730116.1     T\n",
       "MT730117.1     T\n",
       "MW593327.1     T\n",
       "MW635193.1     T\n",
       "MW635200.1     T\n",
       "MW598425.1     T"
      ]
     },
     "execution_count": 42,
     "metadata": {},
     "output_type": "execute_result"
    }
   ],
   "source": [
    "df_complete"
   ]
  },
  {
   "cell_type": "markdown",
   "metadata": {},
   "source": [
    "## Estrarre il *data frame* delle variazioni \"stabili\""
   ]
  },
  {
   "cell_type": "code",
   "execution_count": 43,
   "metadata": {},
   "outputs": [],
   "source": []
  },
  {
   "cell_type": "code",
   "execution_count": 44,
   "metadata": {},
   "outputs": [
    {
     "data": {
      "text/html": [
       "<div>\n",
       "<style scoped>\n",
       "    .dataframe tbody tr th:only-of-type {\n",
       "        vertical-align: middle;\n",
       "    }\n",
       "\n",
       "    .dataframe tbody tr th {\n",
       "        vertical-align: top;\n",
       "    }\n",
       "\n",
       "    .dataframe thead th {\n",
       "        text-align: right;\n",
       "    }\n",
       "</style>\n",
       "<table border=\"1\" class=\"dataframe\">\n",
       "  <thead>\n",
       "    <tr style=\"text-align: right;\">\n",
       "      <th></th>\n",
       "      <th>8782</th>\n",
       "    </tr>\n",
       "  </thead>\n",
       "  <tbody>\n",
       "    <tr>\n",
       "      <th>NC_045512.2</th>\n",
       "      <td>C</td>\n",
       "    </tr>\n",
       "    <tr>\n",
       "      <th>HG998648.1</th>\n",
       "      <td>T</td>\n",
       "    </tr>\n",
       "    <tr>\n",
       "      <th>MW751133.1</th>\n",
       "      <td>T</td>\n",
       "    </tr>\n",
       "    <tr>\n",
       "      <th>MW751146.1</th>\n",
       "      <td>T</td>\n",
       "    </tr>\n",
       "    <tr>\n",
       "      <th>MT020782.1</th>\n",
       "      <td>T</td>\n",
       "    </tr>\n",
       "    <tr>\n",
       "      <th>MW422000.1</th>\n",
       "      <td>T</td>\n",
       "    </tr>\n",
       "    <tr>\n",
       "      <th>MT730116.1</th>\n",
       "      <td>T</td>\n",
       "    </tr>\n",
       "    <tr>\n",
       "      <th>MT730117.1</th>\n",
       "      <td>T</td>\n",
       "    </tr>\n",
       "    <tr>\n",
       "      <th>MW593327.1</th>\n",
       "      <td>T</td>\n",
       "    </tr>\n",
       "    <tr>\n",
       "      <th>MW635193.1</th>\n",
       "      <td>T</td>\n",
       "    </tr>\n",
       "    <tr>\n",
       "      <th>MW635200.1</th>\n",
       "      <td>T</td>\n",
       "    </tr>\n",
       "    <tr>\n",
       "      <th>MW598425.1</th>\n",
       "      <td>T</td>\n",
       "    </tr>\n",
       "  </tbody>\n",
       "</table>\n",
       "</div>"
      ],
      "text/plain": [
       "            8782\n",
       "NC_045512.2    C\n",
       "HG998648.1     T\n",
       "MW751133.1     T\n",
       "MW751146.1     T\n",
       "MT020782.1     T\n",
       "MW422000.1     T\n",
       "MT730116.1     T\n",
       "MT730117.1     T\n",
       "MW593327.1     T\n",
       "MW635193.1     T\n",
       "MW635200.1     T\n",
       "MW598425.1     T"
      ]
     },
     "execution_count": 44,
     "metadata": {},
     "output_type": "execute_result"
    }
   ],
   "source": [
    "df_stable"
   ]
  },
  {
   "cell_type": "markdown",
   "metadata": {},
   "source": [
    "## Estrarre la lista delle colonne in cui c'è un gap nel *reference*."
   ]
  },
  {
   "cell_type": "code",
   "execution_count": 45,
   "metadata": {},
   "outputs": [],
   "source": []
  },
  {
   "cell_type": "code",
   "execution_count": 46,
   "metadata": {},
   "outputs": [
    {
     "data": {
      "text/plain": [
       "[]"
      ]
     },
     "execution_count": 46,
     "metadata": {},
     "output_type": "execute_result"
    }
   ],
   "source": [
    "ref_gaps"
   ]
  },
  {
   "cell_type": "markdown",
   "metadata": {},
   "source": [
    "## Estrarre la lista delle colonne in cui c'è un gap in almeno uno dei genomi (diversi dal *reference*)."
   ]
  },
  {
   "cell_type": "code",
   "execution_count": 47,
   "metadata": {},
   "outputs": [],
   "source": []
  },
  {
   "cell_type": "code",
   "execution_count": 48,
   "metadata": {},
   "outputs": [
    {
     "data": {
      "text/plain": [
       "[26158, 26159, 26160, 26161]"
      ]
     },
     "execution_count": 48,
     "metadata": {},
     "output_type": "execute_result"
    }
   ],
   "source": [
    "other_gaps"
   ]
  }
 ],
 "metadata": {
  "kernelspec": {
   "display_name": "Python 3 (ipykernel)",
   "language": "python",
   "name": "python3"
  },
  "language_info": {
   "codemirror_mode": {
    "name": "ipython",
    "version": 3
   },
   "file_extension": ".py",
   "mimetype": "text/x-python",
   "name": "python",
   "nbconvert_exporter": "python",
   "pygments_lexer": "ipython3",
   "version": "3.9.15"
  }
 },
 "nbformat": 4,
 "nbformat_minor": 2
}
