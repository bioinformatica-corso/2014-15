{
 "cells": [
  {
   "cell_type": "markdown",
   "metadata": {},
   "source": [
    "# Esercizio 10"
   ]
  },
  {
   "cell_type": "markdown",
   "metadata": {},
   "source": [
    "[MAFFT](https://www.ebi.ac.uk/Tools/msa/mafft/) è un tool di allineamento multiplo sviluppato da EMBL-EBI (European Bioinformatics Institute - European Molecular Biology Laboratory) per sequenze di DNA.\n",
    "\n",
    "Usare MAFFT (scegliendo ClustalW come formato di output) per allineare i 12 genomi di SARS-CoV-2 presenti nel file `covid-sequences.fasta` sequenziati nel novembre 2021 e scaricati dal sito di [NCBI](https://www.ncbi.nlm.nih.gov/sars-cov-2/). Il primo, con identificatore `NC_045512.2`, è il genoma di riferimento.\n",
    "\n",
    "Trovare in seguito tutte le variazioni rispetto ai genoma di riferimento.\n",
    "\n",
    "---\n",
    "\n",
    "**Variazione**: una colonna nell'allineamento in cui esiste almeno una sequenza che ha *mismatch* con il riferimento.\n",
    "\n",
    "Esempio di allineamento multiplo tra tre genomi `G_REF` (*reference*) `G1` e `G2`, che ha quattro variazioni nelle colonne 5, 8, 13 e 16:\n",
    "\n",
    "    G_REF   AAGCTGATTGCACGC-T\n",
    "    G1      --GCAGAGTGCAGGCCT\n",
    "    G2      --GCCGAGTGCACGCCT\n",
    "\n",
    "**Variazione 5**: `T` nel reference e `A` in G1 e `C` in G2.\n",
    "\n",
    "**Variazione 8**: `T` nel reference e `G` sia in G1 e G2.\n",
    "\n",
    "**Variazione 13**: `C` nel reference e `G` in G1.\n",
    "\n",
    "**Variazione 16**: `-` (cancellazione) nel reference e `C` sia in G1 che in G2.\n",
    "\n",
    "---\n",
    "\n",
    "Si chiede di:\n",
    "- costruire il *data frame* delle variazioni in cui le colonne del *data frame* sono le colonne di variazione nell'allineamento multiplo e le righe sono indicizzate con l'identificatore del genoma. Non considerare le colonne che cadono nei gap iniziali e finali.\n",
    "- estrarre il genoma con più variazioni e quello con meno variazioni (rispetto al *reference*)\n",
    "- ottenere il *data frame* delle variazioni \"complete\", cioè in cui tutti i genomi variano rispetto al *reference*.\n",
    "- produrre il *data frame* delle variazioni \"stabili\", cioé in cui tutti i genomi variano allo stesso modo rispetto al riferimento (hanno la stessa base). \n",
    "- ottenere la lista delle colonne in cui c'è un gap nel genoma di riferimento.\n",
    "- ottenere la lista delle colonne in cui c'è un gap in almeno uno dei genomi (che non siano il *reference*)"
   ]
  },
  {
   "cell_type": "markdown",
   "metadata": {},
   "source": [
    "Importare Biopython."
   ]
  },
  {
   "cell_type": "code",
   "execution_count": 1,
   "metadata": {},
   "outputs": [],
   "source": [
    "import Bio"
   ]
  },
  {
   "cell_type": "markdown",
   "metadata": {},
   "source": [
    "Importare il package `AlignIO` che è il package per manipolare file contenenti allineamenti multipli in diversi formati (tra cui `clustal`, formato del file in input)."
   ]
  },
  {
   "cell_type": "code",
   "execution_count": 2,
   "metadata": {},
   "outputs": [],
   "source": [
    "from Bio import AlignIO"
   ]
  },
  {
   "cell_type": "markdown",
   "metadata": {},
   "source": [
    "## Leggere l'allineamento in input"
   ]
  },
  {
   "cell_type": "markdown",
   "metadata": {},
   "source": [
    "Il package `AlignIO` mette a disposizione la funzione `read` per leggere un file contenente un allineamento:\n",
    "\n",
    "       AlignIO.read(input_file_name, format)\n",
    "       \n",
    "e restituisce un oggetto `MultipleSeqAlignment` che è un oggetto iterabile contenente oggetti `SeqRecord`, un oggetto per ognuna delle righe dell'allineamento letto."
   ]
  },
  {
   "cell_type": "code",
   "execution_count": 5,
   "metadata": {},
   "outputs": [],
   "source": [
    "alignment = AlignIO.read('./files/mafft-alignments-early.clustalw', 'clustal')"
   ]
  },
  {
   "cell_type": "markdown",
   "metadata": {},
   "source": [
    "Ottenere la lunghezza dell'allineamento letto, intesa come numero di colonne della matrice di allineamento, tramite il metodo `get_alignment_length()` dell'oggetto `MultipleSeqAlignment`."
   ]
  },
  {
   "cell_type": "code",
   "execution_count": 6,
   "metadata": {},
   "outputs": [
    {
     "data": {
      "text/plain": [
       "29903"
      ]
     },
     "execution_count": 6,
     "metadata": {},
     "output_type": "execute_result"
    }
   ],
   "source": [
    "alignment.get_alignment_length()"
   ]
  },
  {
   "cell_type": "markdown",
   "metadata": {},
   "source": [
    "Trasformare l'allineamento in una lista di oggetti `SeqRecord`."
   ]
  },
  {
   "cell_type": "code",
   "execution_count": 7,
   "metadata": {},
   "outputs": [],
   "source": [
    "alignment = list(alignment)"
   ]
  },
  {
   "cell_type": "code",
   "execution_count": 10,
   "metadata": {},
   "outputs": [
    {
     "data": {
      "text/plain": [
       "[SeqRecord(seq=Seq('ATTAAAGGTTTATACCTTCCCAGGTAACAAACCAACCAACTTTCGATCTCTTGT...AAA'), id='NC_045512.2', name='<unknown name>', description='NC_045512.2', dbxrefs=[]),\n",
       " SeqRecord(seq=Seq('NNNNNNNNNNNNNNNNNNNNNNNNNNNNNNNNNNNNNNNNNNNNNNNNNNNNNN...NNN'), id='HG998648.1', name='<unknown name>', description='HG998648.1', dbxrefs=[]),\n",
       " SeqRecord(seq=Seq('------------------------------------------------------...---'), id='MW751133.1', name='<unknown name>', description='MW751133.1', dbxrefs=[]),\n",
       " SeqRecord(seq=Seq('------------------------------------------------------...---'), id='MW751146.1', name='<unknown name>', description='MW751146.1', dbxrefs=[]),\n",
       " SeqRecord(seq=Seq('----------------------------AAACCAACCAACTTTCGATCTCTTGT...---'), id='MT020782.1', name='<unknown name>', description='MT020782.1', dbxrefs=[]),\n",
       " SeqRecord(seq=Seq('ATTAAAGGTTTATACCTTCCCAGGTAACAAACCAACCAACTTTCGATCTCTTGT...AAA'), id='MW422000.1', name='<unknown name>', description='MW422000.1', dbxrefs=[]),\n",
       " SeqRecord(seq=Seq('------GGTTTATACCTTCCCAGGTAACAAACCAACCAACTTTCGATCTCTTGT...---'), id='MT730116.1', name='<unknown name>', description='MT730116.1', dbxrefs=[]),\n",
       " SeqRecord(seq=Seq('------GGTTTATACCTTCCCAGGTAACAAACCAACCAACTTTCGATCTCTTGT...---'), id='MT730117.1', name='<unknown name>', description='MT730117.1', dbxrefs=[]),\n",
       " SeqRecord(seq=Seq('------------------------------------------TCGATCTCTTGT...---'), id='MW593327.1', name='<unknown name>', description='MW593327.1', dbxrefs=[]),\n",
       " SeqRecord(seq=Seq('------------------------------------------------------...---'), id='MW635193.1', name='<unknown name>', description='MW635193.1', dbxrefs=[]),\n",
       " SeqRecord(seq=Seq('------------------------------------------------------...---'), id='MW635200.1', name='<unknown name>', description='MW635200.1', dbxrefs=[]),\n",
       " SeqRecord(seq=Seq('ATTAAAGGTTTATACCTTCCCAGGTAACAAACCAACCAACTTTCGATCTCTTGT...AAA'), id='MW598425.1', name='<unknown name>', description='MW598425.1', dbxrefs=[])]"
      ]
     },
     "execution_count": 10,
     "metadata": {},
     "output_type": "execute_result"
    }
   ],
   "source": [
    "alignment"
   ]
  },
  {
   "cell_type": "markdown",
   "metadata": {},
   "source": [
    "## Eliminare dall'allineamento i gap iniziali.\n",
    "\n",
    "Trovare il più lungo prefisso di soli simboli `-` presente nelle righe dell'allineamento. Supponendo che tale prefisso sia lungo `g`, eliminare da ogni riga dell'allineamento il prefisso di lunghezza `g`.\n",
    "\n",
    "Ad esempio il seguente allineamento composto da tre righe:\n",
    "\n",
    "    GTATGTGTCATGTTTTTGCTA\n",
    "    --ATGTGTCATG-TTT-----\n",
    "    ----GTGTCATGTTTTTG---\n",
    "    \n",
    "presenta un più lungo prefisso di soli simboli `-` di lunghezza `g=4` (terza riga). Eliminando da tutte le righe un prefisso di lunghezza 4 si ottiene:\n",
    "\n",
    "        GTGTCATGTTTTTGCTA\n",
    "        GTGTCATG-TTT-----\n",
    "        GTGTCATGTTTTTG---"
   ]
  },
  {
   "cell_type": "markdown",
   "metadata": {},
   "source": [
    "a) Determinare la lista delle lunghezze dei gap."
   ]
  },
  {
   "cell_type": "code",
   "execution_count": 11,
   "metadata": {},
   "outputs": [],
   "source": [
    "import re"
   ]
  },
  {
   "cell_type": "code",
   "execution_count": 18,
   "metadata": {},
   "outputs": [],
   "source": [
    "gap_lenght_list = [len(re.findall(r'^-*',  str(row.seq)).pop(0)) for row in alignment]"
   ]
  },
  {
   "cell_type": "code",
   "execution_count": 19,
   "metadata": {},
   "outputs": [
    {
     "data": {
      "text/plain": [
       "[0, 0, 54, 54, 28, 0, 6, 6, 42, 54, 54, 0]"
      ]
     },
     "execution_count": 19,
     "metadata": {},
     "output_type": "execute_result"
    }
   ],
   "source": [
    "gap_lenght_list"
   ]
  },
  {
   "cell_type": "markdown",
   "metadata": {},
   "source": [
    "b) Estrarre la massima lunghezza dei gap iniziali."
   ]
  },
  {
   "cell_type": "code",
   "execution_count": 21,
   "metadata": {},
   "outputs": [],
   "source": [
    "max_leading_gap_length = max(gap_lenght_list)"
   ]
  },
  {
   "cell_type": "markdown",
   "metadata": {},
   "source": [
    "c) Rimuovere dalle righe dell'allineamento un prefisso di lunghezza pari a quella massima trovata."
   ]
  },
  {
   "cell_type": "code",
   "execution_count": 24,
   "metadata": {},
   "outputs": [],
   "source": [
    "alignment = [row[max_leading_gap_length:] for row in alignment]"
   ]
  },
  {
   "cell_type": "code",
   "execution_count": 25,
   "metadata": {},
   "outputs": [
    {
     "data": {
      "text/plain": [
       "[SeqRecord(seq=Seq('AGATCTGTTCTCTAAACGAACTTTAAAATCTGTGTGGCTGTCACTCGGCTGCAT...AAA'), id='NC_045512.2', name='<unknown name>', description='NC_045512.2', dbxrefs=[]),\n",
       " SeqRecord(seq=Seq('AGATCTGTTCTCTAAACGAACTTTAAAATCTGTGTGGCTGTCACTCGGCTGCAT...NNN'), id='HG998648.1', name='<unknown name>', description='HG998648.1', dbxrefs=[]),\n",
       " SeqRecord(seq=Seq('AGATCTGTTCTCTAAACGAACTTTAAAATCTGTGTGGCTGTCACTCGGCTGCAT...---'), id='MW751133.1', name='<unknown name>', description='MW751133.1', dbxrefs=[]),\n",
       " SeqRecord(seq=Seq('AGATCTGTTCTCTAAACGAACTTTAAAATCTGTGTGGCTGTCACTCGGCTGCAT...---'), id='MW751146.1', name='<unknown name>', description='MW751146.1', dbxrefs=[]),\n",
       " SeqRecord(seq=Seq('AGATCTGTTCTCTAAACGAACTTTAAAATCTGTGTGGCTGTCACTCGGCTGCAT...---'), id='MT020782.1', name='<unknown name>', description='MT020782.1', dbxrefs=[]),\n",
       " SeqRecord(seq=Seq('AGATCTGTTCTCTAAACGAACTTTAAAATCTGTGTGGCTGTCACTCGGCTGCAT...AAA'), id='MW422000.1', name='<unknown name>', description='MW422000.1', dbxrefs=[]),\n",
       " SeqRecord(seq=Seq('AGATCTGTTCTCTAAACGAACTTTAAAATCTGTGTGGCTGTCACTCGGCTGCAT...---'), id='MT730116.1', name='<unknown name>', description='MT730116.1', dbxrefs=[]),\n",
       " SeqRecord(seq=Seq('AGATCTGTTCTCTAAACGAACTTTAAAATCTGTGTGGCTGTCACTCGGCTGCAT...---'), id='MT730117.1', name='<unknown name>', description='MT730117.1', dbxrefs=[]),\n",
       " SeqRecord(seq=Seq('AGATCTGTTCTCTAAACGAACTTTAAAATCTGTGTGGCTGTCACTCGGCTGCAT...---'), id='MW593327.1', name='<unknown name>', description='MW593327.1', dbxrefs=[]),\n",
       " SeqRecord(seq=Seq('AGATCTGTTCTCTAAACGAACTTTAAAATCTGTGTGGCTGTCACTCGGCTGCAT...---'), id='MW635193.1', name='<unknown name>', description='MW635193.1', dbxrefs=[]),\n",
       " SeqRecord(seq=Seq('AGATCTGTTCTCTAAACGAACTTTAAAATCTGTGTGGCTGTCACTCGGCTGCAT...---'), id='MW635200.1', name='<unknown name>', description='MW635200.1', dbxrefs=[]),\n",
       " SeqRecord(seq=Seq('AGATCTGTTCTCTAAACGAACTTTAAAATCTGTGTGGCTGTCACTCGGCTGCAT...AAA'), id='MW598425.1', name='<unknown name>', description='MW598425.1', dbxrefs=[])]"
      ]
     },
     "execution_count": 25,
     "metadata": {},
     "output_type": "execute_result"
    }
   ],
   "source": [
    "alignment"
   ]
  },
  {
   "cell_type": "markdown",
   "metadata": {},
   "source": [
    "## Eliminare dall'allineamento i gap finali.\n",
    "\n",
    "Trovare il più lungo suffisso di soli simboli `-` presente nelle righe dell'allineamento. Supponendo che tale suffisso sia lungo `g`, eliminare da ogni riga dell'allineamento il suffisso di lunghezza `g`.\n",
    "\n",
    "Ad esempio il seguente allineamento composto da tre righe:\n",
    "\n",
    "        GTGTCATGTTTTTGCTA\n",
    "        GTGTCATG-TTT-----\n",
    "        GTGTCATGTTTTTG---\n",
    "        \n",
    "presenta un più lungo suffisso di soli simboli `-` di lunghezza `g=5` (seconda riga). Eliminando da tutte le righe un suffisso di lunghezza 5 si ottiene:\n",
    "\n",
    "        GTGTCATGTTTT\n",
    "        GTGTCATG-TTT\n",
    "        GTGTCATGTTTT"
   ]
  },
  {
   "cell_type": "markdown",
   "metadata": {},
   "source": [
    "a) Estrarre la lista dei gap finali."
   ]
  },
  {
   "cell_type": "code",
   "execution_count": null,
   "metadata": {},
   "outputs": [],
   "source": []
  },
  {
   "cell_type": "code",
   "execution_count": 23,
   "metadata": {},
   "outputs": [
    {
     "data": {
      "text/plain": [
       "['',\n",
       " '',\n",
       " '-------------------------------------------------------------------',\n",
       " '-------------------------------------------------------------------',\n",
       " '---------------------------------------------------------',\n",
       " '',\n",
       " '----------------------------------------------------------',\n",
       " '-------------------------------------------',\n",
       " '---------------------------------------------------------------',\n",
       " '---------------------------------------------------------------------------------------------------------------------------------------',\n",
       " '---------------------------------------------------------------------------------------------------------------------------------------',\n",
       " '']"
      ]
     },
     "execution_count": 23,
     "metadata": {},
     "output_type": "execute_result"
    }
   ],
   "source": [
    "gap_list"
   ]
  },
  {
   "cell_type": "markdown",
   "metadata": {},
   "source": [
    "b) Determinare la lista delle lunghezze dei gap."
   ]
  },
  {
   "cell_type": "code",
   "execution_count": null,
   "metadata": {},
   "outputs": [],
   "source": []
  },
  {
   "cell_type": "code",
   "execution_count": 25,
   "metadata": {},
   "outputs": [
    {
     "data": {
      "text/plain": [
       "[0, 0, 67, 67, 57, 0, 58, 43, 63, 135, 135, 0]"
      ]
     },
     "execution_count": 25,
     "metadata": {},
     "output_type": "execute_result"
    }
   ],
   "source": [
    "gap_size_list"
   ]
  },
  {
   "cell_type": "markdown",
   "metadata": {},
   "source": [
    "c) Estrarre la massima lunghezza dei gap."
   ]
  },
  {
   "cell_type": "code",
   "execution_count": null,
   "metadata": {},
   "outputs": [],
   "source": []
  },
  {
   "cell_type": "markdown",
   "metadata": {},
   "source": [
    "d) Rimuovere dalle righe dell'allineamento un suffisso di lunghezza pari a quella massima trovata."
   ]
  },
  {
   "cell_type": "code",
   "execution_count": null,
   "metadata": {},
   "outputs": [],
   "source": []
  },
  {
   "cell_type": "markdown",
   "metadata": {},
   "source": [
    "## Creare il *data frame* delle variazioni\n",
    "\n",
    "a) Creare il seguente dizionario\n",
    "\n",
    "- `key`: posizione (1-based) della colonna di variazione all'interno dell'allineamento\n",
    "\n",
    "- `value`: lista delle basi coinvolte nella variazione (il primo elemento si riferisce al *reference*). Se un genoma non presenta differenza rispetto al *reference*, deve essere  inserita la stringa vuota.\n",
    "\n",
    "Non tenere conto di basi ambigue."
   ]
  },
  {
   "cell_type": "code",
   "execution_count": null,
   "metadata": {},
   "outputs": [],
   "source": []
  },
  {
   "cell_type": "code",
   "execution_count": 34,
   "metadata": {},
   "outputs": [
    {
     "data": {
      "text/plain": [
       "{361: ['A', '', '', '', '', '', '', '', '', '', '', 'G'],\n",
       " 490: ['T', '', '', '', '', '', '', '', 'A', '', '', ''],\n",
       " 888: ['C', '', '', '', '', '', '', '', '', '', '', 'T'],\n",
       " 922: ['G', 'A', '', '', '', '', '', '', '', '', '', ''],\n",
       " 2102: ['C', '', '', '', '', '', '', '', '', '', '', 'T'],\n",
       " 2447: ['G', '', '', '', '', '', '', '', '', '', '', 'T'],\n",
       " 2461: ['T', '', '', '', '', 'C', '', '', '', '', '', ''],\n",
       " 3177: ['C', '', '', '', '', '', '', '', 'T', '', '', ''],\n",
       " 3638: ['G', '', '', '', '', 'T', '', '', '', '', '', ''],\n",
       " 3990: ['C', 'T', '', '', '', '', '', '', '', '', '', ''],\n",
       " 4402: ['T', '', '', '', 'C', '', '', '', '', '', '', ''],\n",
       " 4551: ['C', '', '', '', '', '', '', '', '', '', '', 'T'],\n",
       " 5044: ['G', '', '', '', '', '', '', '', '', '', '', 'A'],\n",
       " 5062: ['G', '', '', '', 'T', '', '', '', '', '', '', ''],\n",
       " 5833: ['C', '', '', '', '', '', '', '', 'T', '', '', ''],\n",
       " 6364: ['G', '', '', '', '', '', '', '', '', '', '', 'A'],\n",
       " 6539: ['C', '', '', '', '', '', '', '', '', 'T', 'T', ''],\n",
       " 6610: ['A', '', '', '', '', '', '', '', '', 'T', 'T', ''],\n",
       " 8664: ['C', '', '', '', '', '', '', '', 'T', '', '', ''],\n",
       " 8782: ['C', 'T', 'T', 'T', 'T', 'T', 'T', 'T', 'T', 'T', 'T', 'T'],\n",
       " 9223: ['C', '', '', '', '', '', '', '', '', 'T', 'T', ''],\n",
       " 9226: ['C', '', '', '', '', '', '', '', '', 'T', 'T', ''],\n",
       " 10065: ['G', '', '', '', '', 'A', '', '', '', '', '', ''],\n",
       " 11230: ['G', 'T', 'T', 'T', '', 'T', '', '', '', 'T', 'T', ''],\n",
       " 11746: ['A', '', '', '', '', '', '', '', '', 'G', 'G', ''],\n",
       " 12213: ['C', '', 'T', 'T', '', '', '', '', '', '', '', ''],\n",
       " 12557: ['A', '', '', '', '', '', '', '', '', '', '', 'G'],\n",
       " 12820: ['A', '', '', '', '', '', '', '', '', '', '', 'G'],\n",
       " 13860: ['C', '', '', '', '', '', '', '', '', 'T', 'T', ''],\n",
       " 14688: ['C', '', '', '', '', '', '', '', '', '', '', 'T'],\n",
       " 16733: ['C', '', '', '', '', '', '', '', '', '', '', 'T'],\n",
       " 17439: ['C', '', '', '', '', '', '', '', '', 'T', 'T', ''],\n",
       " 18736: ['T', '', '', '', '', '', '', '', 'C', '', '', ''],\n",
       " 20131: ['G', '', '', '', '', '', '', '', '', '', '', 'T'],\n",
       " 22048: ['T', '', '', '', '', '', '', '', '', '', '', 'C'],\n",
       " 22227: ['C', '', '', '', '', '', '', '', '', 'T', 'T', ''],\n",
       " 22319: ['G', '', '', '', '', '', '', '', '', 'T', 'T', ''],\n",
       " 22468: ['G', '', '', '', '', '', 'T', 'T', '', '', '', 'T'],\n",
       " 23403: ['A', 'G', '', '', '', '', '', '', '', 'G', 'G', 'G'],\n",
       " 23587: ['G', '', '', '', '', '', '', '', '', '', '', 'T'],\n",
       " 23625: ['C', '', '', '', '', '', '', '', '', '', '', 'T'],\n",
       " 23677: ['T', '', '', '', '', '', '', '', 'C', '', '', ''],\n",
       " 23854: ['C', '', '', '', '', '', '', '', '', '', '', 'T'],\n",
       " 24034: ['C', '', '', '', '', '', '', '', 'T', '', '', ''],\n",
       " 24736: ['T', '', '', '', '', '', '', '', '', 'C', 'C', ''],\n",
       " 24767: ['C', '', '', '', '', '', '', '', '', 'T', 'T', ''],\n",
       " 25487: ['C', '', '', '', '', '', '', '', '', 'T', 'T', ''],\n",
       " 25516: ['C', '', '', '', '', 'T', '', '', '', '', '', ''],\n",
       " 25563: ['G', '', '', '', '', '', '', '', '', 'T', 'T', ''],\n",
       " 25844: ['C', '', '', '', '', '', '', '', '', '', '', 'T'],\n",
       " 25849: ['T', 'A', '', '', '', '', '', '', '', '', '', ''],\n",
       " 26158: ['G', '', '', '', '', '-', '', '', '', '', '', ''],\n",
       " 26159: ['T', '', '', '', '', '-', '', '', '', '', '', ''],\n",
       " 26160: ['T', '', '', '', '', '-', '', '', '', '', '', ''],\n",
       " 26161: ['A', '', '', '', '', '-', '', '', '', '', '', ''],\n",
       " 26208: ['C', 'T', '', '', '', '', '', '', '', '', '', ''],\n",
       " 26313: ['C', '', '', '', '', 'T', '', '', '', '', '', ''],\n",
       " 26729: ['T', '', '', '', '', '', '', '', 'C', '', '', ''],\n",
       " 27131: ['C', '', '', '', '', '', '', '', '', '', '', 'T'],\n",
       " 27635: ['C', '', '', '', '', '', '', '', 'T', '', '', ''],\n",
       " 28077: ['G', '', '', '', '', '', '', '', 'C', '', '', ''],\n",
       " 28144: ['T', 'C', 'C', 'C', 'C', 'C', 'C', 'C', 'C', '', '', ''],\n",
       " 28167: ['G', 'A', 'A', 'A', '', 'A', '', '', '', '', '', ''],\n",
       " 28178: ['G', '', '', '', '', '', '', '', '', 'T', 'T', ''],\n",
       " 28280: ['G', '', '', '', '', '', '', '', '', '', '', 'T'],\n",
       " 28292: ['C', '', '', '', '', '', '', '', '', 'A', 'A', ''],\n",
       " 28878: ['G', 'A', 'A', 'A', '', 'A', 'A', 'A', '', 'A', 'A', 'A'],\n",
       " 29700: ['A', '', '', '', '', '', '', '', 'G', '', '', ''],\n",
       " 29742: ['G', 'A', 'A', '', '', 'A', 'A', 'A', '', 'A', 'A', 'A']}"
      ]
     },
     "execution_count": 34,
     "metadata": {},
     "output_type": "execute_result"
    }
   ],
   "source": [
    "df_variant"
   ]
  },
  {
   "cell_type": "markdown",
   "metadata": {},
   "source": [
    "b) Determinare la lista degli identificatori dei genomi da usare come indici (chiavi primarie)."
   ]
  },
  {
   "cell_type": "code",
   "execution_count": null,
   "metadata": {},
   "outputs": [],
   "source": []
  },
  {
   "cell_type": "code",
   "execution_count": 40,
   "metadata": {},
   "outputs": [
    {
     "data": {
      "text/plain": [
       "['NC_045512.2',\n",
       " 'HG998648.1',\n",
       " 'MW751133.1',\n",
       " 'MW751146.1',\n",
       " 'MT020782.1',\n",
       " 'MW422000.1',\n",
       " 'MT730116.1',\n",
       " 'MT730117.1',\n",
       " 'MW593327.1',\n",
       " 'MW635193.1',\n",
       " 'MW635200.1',\n",
       " 'MW598425.1']"
      ]
     },
     "execution_count": 40,
     "metadata": {},
     "output_type": "execute_result"
    }
   ],
   "source": [
    "index_list"
   ]
  },
  {
   "cell_type": "markdown",
   "metadata": {},
   "source": [
    "c) Creare il data frame\n",
    "\n",
    "    df = pd.DataFrame(df_data, index = index_list)"
   ]
  },
  {
   "cell_type": "code",
   "execution_count": null,
   "metadata": {},
   "outputs": [],
   "source": []
  },
  {
   "cell_type": "code",
   "execution_count": 45,
   "metadata": {},
   "outputs": [
    {
     "data": {
      "text/html": [
       "<div>\n",
       "<style scoped>\n",
       "    .dataframe tbody tr th:only-of-type {\n",
       "        vertical-align: middle;\n",
       "    }\n",
       "\n",
       "    .dataframe tbody tr th {\n",
       "        vertical-align: top;\n",
       "    }\n",
       "\n",
       "    .dataframe thead th {\n",
       "        text-align: right;\n",
       "    }\n",
       "</style>\n",
       "<table border=\"1\" class=\"dataframe\">\n",
       "  <thead>\n",
       "    <tr style=\"text-align: right;\">\n",
       "      <th></th>\n",
       "      <th>361</th>\n",
       "      <th>490</th>\n",
       "      <th>888</th>\n",
       "      <th>922</th>\n",
       "      <th>2102</th>\n",
       "      <th>2447</th>\n",
       "      <th>2461</th>\n",
       "      <th>3177</th>\n",
       "      <th>3638</th>\n",
       "      <th>3990</th>\n",
       "      <th>...</th>\n",
       "      <th>27635</th>\n",
       "      <th>28077</th>\n",
       "      <th>28144</th>\n",
       "      <th>28167</th>\n",
       "      <th>28178</th>\n",
       "      <th>28280</th>\n",
       "      <th>28292</th>\n",
       "      <th>28878</th>\n",
       "      <th>29700</th>\n",
       "      <th>29742</th>\n",
       "    </tr>\n",
       "  </thead>\n",
       "  <tbody>\n",
       "    <tr>\n",
       "      <th>NC_045512.2</th>\n",
       "      <td>A</td>\n",
       "      <td>T</td>\n",
       "      <td>C</td>\n",
       "      <td>G</td>\n",
       "      <td>C</td>\n",
       "      <td>G</td>\n",
       "      <td>T</td>\n",
       "      <td>C</td>\n",
       "      <td>G</td>\n",
       "      <td>C</td>\n",
       "      <td>...</td>\n",
       "      <td>C</td>\n",
       "      <td>G</td>\n",
       "      <td>T</td>\n",
       "      <td>G</td>\n",
       "      <td>G</td>\n",
       "      <td>G</td>\n",
       "      <td>C</td>\n",
       "      <td>G</td>\n",
       "      <td>A</td>\n",
       "      <td>G</td>\n",
       "    </tr>\n",
       "    <tr>\n",
       "      <th>HG998648.1</th>\n",
       "      <td></td>\n",
       "      <td></td>\n",
       "      <td></td>\n",
       "      <td>A</td>\n",
       "      <td></td>\n",
       "      <td></td>\n",
       "      <td></td>\n",
       "      <td></td>\n",
       "      <td></td>\n",
       "      <td>T</td>\n",
       "      <td>...</td>\n",
       "      <td></td>\n",
       "      <td></td>\n",
       "      <td>C</td>\n",
       "      <td>A</td>\n",
       "      <td></td>\n",
       "      <td></td>\n",
       "      <td></td>\n",
       "      <td>A</td>\n",
       "      <td></td>\n",
       "      <td>A</td>\n",
       "    </tr>\n",
       "    <tr>\n",
       "      <th>MW751133.1</th>\n",
       "      <td></td>\n",
       "      <td></td>\n",
       "      <td></td>\n",
       "      <td></td>\n",
       "      <td></td>\n",
       "      <td></td>\n",
       "      <td></td>\n",
       "      <td></td>\n",
       "      <td></td>\n",
       "      <td></td>\n",
       "      <td>...</td>\n",
       "      <td></td>\n",
       "      <td></td>\n",
       "      <td>C</td>\n",
       "      <td>A</td>\n",
       "      <td></td>\n",
       "      <td></td>\n",
       "      <td></td>\n",
       "      <td>A</td>\n",
       "      <td></td>\n",
       "      <td>A</td>\n",
       "    </tr>\n",
       "    <tr>\n",
       "      <th>MW751146.1</th>\n",
       "      <td></td>\n",
       "      <td></td>\n",
       "      <td></td>\n",
       "      <td></td>\n",
       "      <td></td>\n",
       "      <td></td>\n",
       "      <td></td>\n",
       "      <td></td>\n",
       "      <td></td>\n",
       "      <td></td>\n",
       "      <td>...</td>\n",
       "      <td></td>\n",
       "      <td></td>\n",
       "      <td>C</td>\n",
       "      <td>A</td>\n",
       "      <td></td>\n",
       "      <td></td>\n",
       "      <td></td>\n",
       "      <td>A</td>\n",
       "      <td></td>\n",
       "      <td></td>\n",
       "    </tr>\n",
       "    <tr>\n",
       "      <th>MT020782.1</th>\n",
       "      <td></td>\n",
       "      <td></td>\n",
       "      <td></td>\n",
       "      <td></td>\n",
       "      <td></td>\n",
       "      <td></td>\n",
       "      <td></td>\n",
       "      <td></td>\n",
       "      <td></td>\n",
       "      <td></td>\n",
       "      <td>...</td>\n",
       "      <td></td>\n",
       "      <td></td>\n",
       "      <td>C</td>\n",
       "      <td></td>\n",
       "      <td></td>\n",
       "      <td></td>\n",
       "      <td></td>\n",
       "      <td></td>\n",
       "      <td></td>\n",
       "      <td></td>\n",
       "    </tr>\n",
       "    <tr>\n",
       "      <th>MW422000.1</th>\n",
       "      <td></td>\n",
       "      <td></td>\n",
       "      <td></td>\n",
       "      <td></td>\n",
       "      <td></td>\n",
       "      <td></td>\n",
       "      <td>C</td>\n",
       "      <td></td>\n",
       "      <td>T</td>\n",
       "      <td></td>\n",
       "      <td>...</td>\n",
       "      <td></td>\n",
       "      <td></td>\n",
       "      <td>C</td>\n",
       "      <td>A</td>\n",
       "      <td></td>\n",
       "      <td></td>\n",
       "      <td></td>\n",
       "      <td>A</td>\n",
       "      <td></td>\n",
       "      <td>A</td>\n",
       "    </tr>\n",
       "    <tr>\n",
       "      <th>MT730116.1</th>\n",
       "      <td></td>\n",
       "      <td></td>\n",
       "      <td></td>\n",
       "      <td></td>\n",
       "      <td></td>\n",
       "      <td></td>\n",
       "      <td></td>\n",
       "      <td></td>\n",
       "      <td></td>\n",
       "      <td></td>\n",
       "      <td>...</td>\n",
       "      <td></td>\n",
       "      <td></td>\n",
       "      <td>C</td>\n",
       "      <td></td>\n",
       "      <td></td>\n",
       "      <td></td>\n",
       "      <td></td>\n",
       "      <td>A</td>\n",
       "      <td></td>\n",
       "      <td>A</td>\n",
       "    </tr>\n",
       "    <tr>\n",
       "      <th>MT730117.1</th>\n",
       "      <td></td>\n",
       "      <td></td>\n",
       "      <td></td>\n",
       "      <td></td>\n",
       "      <td></td>\n",
       "      <td></td>\n",
       "      <td></td>\n",
       "      <td></td>\n",
       "      <td></td>\n",
       "      <td></td>\n",
       "      <td>...</td>\n",
       "      <td></td>\n",
       "      <td></td>\n",
       "      <td>C</td>\n",
       "      <td></td>\n",
       "      <td></td>\n",
       "      <td></td>\n",
       "      <td></td>\n",
       "      <td>A</td>\n",
       "      <td></td>\n",
       "      <td>A</td>\n",
       "    </tr>\n",
       "    <tr>\n",
       "      <th>MW593327.1</th>\n",
       "      <td></td>\n",
       "      <td>A</td>\n",
       "      <td></td>\n",
       "      <td></td>\n",
       "      <td></td>\n",
       "      <td></td>\n",
       "      <td></td>\n",
       "      <td>T</td>\n",
       "      <td></td>\n",
       "      <td></td>\n",
       "      <td>...</td>\n",
       "      <td>T</td>\n",
       "      <td>C</td>\n",
       "      <td>C</td>\n",
       "      <td></td>\n",
       "      <td></td>\n",
       "      <td></td>\n",
       "      <td></td>\n",
       "      <td></td>\n",
       "      <td>G</td>\n",
       "      <td></td>\n",
       "    </tr>\n",
       "    <tr>\n",
       "      <th>MW635193.1</th>\n",
       "      <td></td>\n",
       "      <td></td>\n",
       "      <td></td>\n",
       "      <td></td>\n",
       "      <td></td>\n",
       "      <td></td>\n",
       "      <td></td>\n",
       "      <td></td>\n",
       "      <td></td>\n",
       "      <td></td>\n",
       "      <td>...</td>\n",
       "      <td></td>\n",
       "      <td></td>\n",
       "      <td></td>\n",
       "      <td></td>\n",
       "      <td>T</td>\n",
       "      <td></td>\n",
       "      <td>A</td>\n",
       "      <td>A</td>\n",
       "      <td></td>\n",
       "      <td>A</td>\n",
       "    </tr>\n",
       "    <tr>\n",
       "      <th>MW635200.1</th>\n",
       "      <td></td>\n",
       "      <td></td>\n",
       "      <td></td>\n",
       "      <td></td>\n",
       "      <td></td>\n",
       "      <td></td>\n",
       "      <td></td>\n",
       "      <td></td>\n",
       "      <td></td>\n",
       "      <td></td>\n",
       "      <td>...</td>\n",
       "      <td></td>\n",
       "      <td></td>\n",
       "      <td></td>\n",
       "      <td></td>\n",
       "      <td>T</td>\n",
       "      <td></td>\n",
       "      <td>A</td>\n",
       "      <td>A</td>\n",
       "      <td></td>\n",
       "      <td>A</td>\n",
       "    </tr>\n",
       "    <tr>\n",
       "      <th>MW598425.1</th>\n",
       "      <td>G</td>\n",
       "      <td></td>\n",
       "      <td>T</td>\n",
       "      <td></td>\n",
       "      <td>T</td>\n",
       "      <td>T</td>\n",
       "      <td></td>\n",
       "      <td></td>\n",
       "      <td></td>\n",
       "      <td></td>\n",
       "      <td>...</td>\n",
       "      <td></td>\n",
       "      <td></td>\n",
       "      <td></td>\n",
       "      <td></td>\n",
       "      <td></td>\n",
       "      <td>T</td>\n",
       "      <td></td>\n",
       "      <td>A</td>\n",
       "      <td></td>\n",
       "      <td>A</td>\n",
       "    </tr>\n",
       "  </tbody>\n",
       "</table>\n",
       "<p>12 rows × 69 columns</p>\n",
       "</div>"
      ],
      "text/plain": [
       "            361   490   888   922   2102  2447  2461  3177  3638  3990   ...  \\\n",
       "NC_045512.2     A     T     C     G     C     G     T     C     G     C  ...   \n",
       "HG998648.1                        A                                   T  ...   \n",
       "MW751133.1                                                               ...   \n",
       "MW751146.1                                                               ...   \n",
       "MT020782.1                                                               ...   \n",
       "MW422000.1                                          C           T        ...   \n",
       "MT730116.1                                                               ...   \n",
       "MT730117.1                                                               ...   \n",
       "MW593327.1            A                                   T              ...   \n",
       "MW635193.1                                                               ...   \n",
       "MW635200.1                                                               ...   \n",
       "MW598425.1      G           T           T     T                          ...   \n",
       "\n",
       "            27635 28077 28144 28167 28178 28280 28292 28878 29700 29742  \n",
       "NC_045512.2     C     G     T     G     G     G     C     G     A     G  \n",
       "HG998648.1                  C     A                       A           A  \n",
       "MW751133.1                  C     A                       A           A  \n",
       "MW751146.1                  C     A                       A              \n",
       "MT020782.1                  C                                            \n",
       "MW422000.1                  C     A                       A           A  \n",
       "MT730116.1                  C                             A           A  \n",
       "MT730117.1                  C                             A           A  \n",
       "MW593327.1      T     C     C                                   G        \n",
       "MW635193.1                              T           A     A           A  \n",
       "MW635200.1                              T           A     A           A  \n",
       "MW598425.1                                    T           A           A  \n",
       "\n",
       "[12 rows x 69 columns]"
      ]
     },
     "execution_count": 45,
     "metadata": {},
     "output_type": "execute_result"
    }
   ],
   "source": [
    "df"
   ]
  },
  {
   "cell_type": "markdown",
   "metadata": {},
   "source": [
    "## Estrarre il genoma con più variazioni e quello con meno variazioni"
   ]
  },
  {
   "cell_type": "markdown",
   "metadata": {},
   "source": [
    "a) Determinare la lista del numero di variazioni per genoma rispetto al riferimento."
   ]
  },
  {
   "cell_type": "code",
   "execution_count": null,
   "metadata": {},
   "outputs": [],
   "source": []
  },
  {
   "cell_type": "code",
   "execution_count": 47,
   "metadata": {},
   "outputs": [
    {
     "data": {
      "text/plain": [
       "[11, 7, 6, 4, 15, 5, 5, 13, 20, 20, 24]"
      ]
     },
     "execution_count": 47,
     "metadata": {},
     "output_type": "execute_result"
    }
   ],
   "source": [
    "variants_per_genome"
   ]
  },
  {
   "cell_type": "markdown",
   "metadata": {},
   "source": [
    "b) Estrarre il genoma con più variazioni."
   ]
  },
  {
   "cell_type": "code",
   "execution_count": 49,
   "metadata": {},
   "outputs": [
    {
     "data": {
      "text/plain": [
       "'MW598425.1'"
      ]
     },
     "execution_count": 49,
     "metadata": {},
     "output_type": "execute_result"
    }
   ],
   "source": []
  },
  {
   "cell_type": "markdown",
   "metadata": {},
   "source": [
    "c) Estrarre il genoma con meno variazioni."
   ]
  },
  {
   "cell_type": "code",
   "execution_count": 50,
   "metadata": {},
   "outputs": [
    {
     "data": {
      "text/plain": [
       "'MT020782.1'"
      ]
     },
     "execution_count": 50,
     "metadata": {},
     "output_type": "execute_result"
    }
   ],
   "source": []
  },
  {
   "cell_type": "markdown",
   "metadata": {},
   "source": [
    "## Estrarre il *data frame* delle variazioni \"complete\""
   ]
  },
  {
   "cell_type": "code",
   "execution_count": null,
   "metadata": {},
   "outputs": [],
   "source": []
  },
  {
   "cell_type": "code",
   "execution_count": 52,
   "metadata": {},
   "outputs": [
    {
     "data": {
      "text/html": [
       "<div>\n",
       "<style scoped>\n",
       "    .dataframe tbody tr th:only-of-type {\n",
       "        vertical-align: middle;\n",
       "    }\n",
       "\n",
       "    .dataframe tbody tr th {\n",
       "        vertical-align: top;\n",
       "    }\n",
       "\n",
       "    .dataframe thead th {\n",
       "        text-align: right;\n",
       "    }\n",
       "</style>\n",
       "<table border=\"1\" class=\"dataframe\">\n",
       "  <thead>\n",
       "    <tr style=\"text-align: right;\">\n",
       "      <th></th>\n",
       "      <th>8782</th>\n",
       "    </tr>\n",
       "  </thead>\n",
       "  <tbody>\n",
       "    <tr>\n",
       "      <th>NC_045512.2</th>\n",
       "      <td>C</td>\n",
       "    </tr>\n",
       "    <tr>\n",
       "      <th>HG998648.1</th>\n",
       "      <td>T</td>\n",
       "    </tr>\n",
       "    <tr>\n",
       "      <th>MW751133.1</th>\n",
       "      <td>T</td>\n",
       "    </tr>\n",
       "    <tr>\n",
       "      <th>MW751146.1</th>\n",
       "      <td>T</td>\n",
       "    </tr>\n",
       "    <tr>\n",
       "      <th>MT020782.1</th>\n",
       "      <td>T</td>\n",
       "    </tr>\n",
       "    <tr>\n",
       "      <th>MW422000.1</th>\n",
       "      <td>T</td>\n",
       "    </tr>\n",
       "    <tr>\n",
       "      <th>MT730116.1</th>\n",
       "      <td>T</td>\n",
       "    </tr>\n",
       "    <tr>\n",
       "      <th>MT730117.1</th>\n",
       "      <td>T</td>\n",
       "    </tr>\n",
       "    <tr>\n",
       "      <th>MW593327.1</th>\n",
       "      <td>T</td>\n",
       "    </tr>\n",
       "    <tr>\n",
       "      <th>MW635193.1</th>\n",
       "      <td>T</td>\n",
       "    </tr>\n",
       "    <tr>\n",
       "      <th>MW635200.1</th>\n",
       "      <td>T</td>\n",
       "    </tr>\n",
       "    <tr>\n",
       "      <th>MW598425.1</th>\n",
       "      <td>T</td>\n",
       "    </tr>\n",
       "  </tbody>\n",
       "</table>\n",
       "</div>"
      ],
      "text/plain": [
       "            8782\n",
       "NC_045512.2    C\n",
       "HG998648.1     T\n",
       "MW751133.1     T\n",
       "MW751146.1     T\n",
       "MT020782.1     T\n",
       "MW422000.1     T\n",
       "MT730116.1     T\n",
       "MT730117.1     T\n",
       "MW593327.1     T\n",
       "MW635193.1     T\n",
       "MW635200.1     T\n",
       "MW598425.1     T"
      ]
     },
     "execution_count": 52,
     "metadata": {},
     "output_type": "execute_result"
    }
   ],
   "source": [
    "df_complete"
   ]
  },
  {
   "cell_type": "markdown",
   "metadata": {},
   "source": [
    "## Estrarre il *data frame* delle variazioni \"stabili\""
   ]
  },
  {
   "cell_type": "code",
   "execution_count": null,
   "metadata": {},
   "outputs": [],
   "source": []
  },
  {
   "cell_type": "code",
   "execution_count": 54,
   "metadata": {},
   "outputs": [
    {
     "data": {
      "text/html": [
       "<div>\n",
       "<style scoped>\n",
       "    .dataframe tbody tr th:only-of-type {\n",
       "        vertical-align: middle;\n",
       "    }\n",
       "\n",
       "    .dataframe tbody tr th {\n",
       "        vertical-align: top;\n",
       "    }\n",
       "\n",
       "    .dataframe thead th {\n",
       "        text-align: right;\n",
       "    }\n",
       "</style>\n",
       "<table border=\"1\" class=\"dataframe\">\n",
       "  <thead>\n",
       "    <tr style=\"text-align: right;\">\n",
       "      <th></th>\n",
       "      <th>8782</th>\n",
       "    </tr>\n",
       "  </thead>\n",
       "  <tbody>\n",
       "    <tr>\n",
       "      <th>NC_045512.2</th>\n",
       "      <td>C</td>\n",
       "    </tr>\n",
       "    <tr>\n",
       "      <th>HG998648.1</th>\n",
       "      <td>T</td>\n",
       "    </tr>\n",
       "    <tr>\n",
       "      <th>MW751133.1</th>\n",
       "      <td>T</td>\n",
       "    </tr>\n",
       "    <tr>\n",
       "      <th>MW751146.1</th>\n",
       "      <td>T</td>\n",
       "    </tr>\n",
       "    <tr>\n",
       "      <th>MT020782.1</th>\n",
       "      <td>T</td>\n",
       "    </tr>\n",
       "    <tr>\n",
       "      <th>MW422000.1</th>\n",
       "      <td>T</td>\n",
       "    </tr>\n",
       "    <tr>\n",
       "      <th>MT730116.1</th>\n",
       "      <td>T</td>\n",
       "    </tr>\n",
       "    <tr>\n",
       "      <th>MT730117.1</th>\n",
       "      <td>T</td>\n",
       "    </tr>\n",
       "    <tr>\n",
       "      <th>MW593327.1</th>\n",
       "      <td>T</td>\n",
       "    </tr>\n",
       "    <tr>\n",
       "      <th>MW635193.1</th>\n",
       "      <td>T</td>\n",
       "    </tr>\n",
       "    <tr>\n",
       "      <th>MW635200.1</th>\n",
       "      <td>T</td>\n",
       "    </tr>\n",
       "    <tr>\n",
       "      <th>MW598425.1</th>\n",
       "      <td>T</td>\n",
       "    </tr>\n",
       "  </tbody>\n",
       "</table>\n",
       "</div>"
      ],
      "text/plain": [
       "            8782\n",
       "NC_045512.2    C\n",
       "HG998648.1     T\n",
       "MW751133.1     T\n",
       "MW751146.1     T\n",
       "MT020782.1     T\n",
       "MW422000.1     T\n",
       "MT730116.1     T\n",
       "MT730117.1     T\n",
       "MW593327.1     T\n",
       "MW635193.1     T\n",
       "MW635200.1     T\n",
       "MW598425.1     T"
      ]
     },
     "execution_count": 54,
     "metadata": {},
     "output_type": "execute_result"
    }
   ],
   "source": [
    "df_stable"
   ]
  },
  {
   "cell_type": "markdown",
   "metadata": {},
   "source": [
    "## Estrarre la lista delle colonne in cui c'è un gap nel *reference*."
   ]
  },
  {
   "cell_type": "code",
   "execution_count": null,
   "metadata": {},
   "outputs": [],
   "source": []
  },
  {
   "cell_type": "code",
   "execution_count": 69,
   "metadata": {},
   "outputs": [
    {
     "data": {
      "text/plain": [
       "[]"
      ]
     },
     "execution_count": 69,
     "metadata": {},
     "output_type": "execute_result"
    }
   ],
   "source": [
    "ref_gaps"
   ]
  },
  {
   "cell_type": "markdown",
   "metadata": {},
   "source": [
    "## Estrarre la lista delle colonne in cui c'è un gap in almeno uno dei genomi (diversi dal *reference*)."
   ]
  },
  {
   "cell_type": "code",
   "execution_count": null,
   "metadata": {},
   "outputs": [],
   "source": []
  },
  {
   "cell_type": "code",
   "execution_count": 74,
   "metadata": {},
   "outputs": [
    {
     "data": {
      "text/plain": [
       "[26158, 26159, 26160, 26161]"
      ]
     },
     "execution_count": 74,
     "metadata": {},
     "output_type": "execute_result"
    }
   ],
   "source": [
    "other_gaps"
   ]
  }
 ],
 "metadata": {
  "kernelspec": {
   "display_name": "Python 3 (ipykernel)",
   "language": "python",
   "name": "python3"
  },
  "language_info": {
   "codemirror_mode": {
    "name": "ipython",
    "version": 3
   },
   "file_extension": ".py",
   "mimetype": "text/x-python",
   "name": "python",
   "nbconvert_exporter": "python",
   "pygments_lexer": "ipython3",
   "version": "3.9.15"
  }
 },
 "nbformat": 4,
 "nbformat_minor": 2
}
