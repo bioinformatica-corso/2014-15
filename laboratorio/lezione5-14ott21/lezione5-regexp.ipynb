{
 "cells": [
  {
   "cell_type": "markdown",
   "metadata": {},
   "source": [
    "# Espressioni regolari\n",
    "\n",
    "> ### Definizione di espressione regolare\n",
    "> ### Operazioni di *matching* e di *searching*\n",
    "> ### Accesso alle occorrenze\n",
    "> ### Come scrivere un'espressione regolare\n",
    "> ### *Backreference* esterno e interno\n",
    "> ### La funzioni `findall()` e `sub()`"
   ]
  },
  {
   "cell_type": "markdown",
   "metadata": {},
   "source": [
    "### Definizione di espressione regolare\n",
    "\n",
    "**Espressione regolare (RE)**: stringa di simboli che rappresenta un linguaggio.\n",
    "\n",
    "Esempi:\n",
    "- `ca?t` rappresenta il linguaggio {`ct`, `cat`}\n",
    "- `ca*t` rappresenta il linguaggio {`ct`, `cat`, `caat`, `caaat`, `caaaat`, `caaaaat`, ...}\n",
    "- `ca+t` rappresenta il linguaggio {`cat`, `caat`, `caaat`, `caaaat`, `caaaaat`, ...}\n",
    "- `cat` rappresenta il linguaggio {`cat`}\n",
    "\n",
    "Operazioni con RE:\n",
    "\n",
    "- *matching*\n",
    "- *searching*\n",
    "- *sostituzione*\n",
    "\n",
    "Un'espressione regolare è parte del modulo `re`."
   ]
  },
  {
   "cell_type": "code",
   "execution_count": 2,
   "metadata": {},
   "outputs": [],
   "source": [
    "import re"
   ]
  },
  {
   "cell_type": "markdown",
   "metadata": {},
   "source": [
    "### Funzione `re.match() ` per l'operazione di *matching*\n",
    "\n",
    "Data una stringa S e un'espressione regolare *RE*, verifica se S inizia (o addirittura coincide) con una delle stringhe del linguaggio di *RE*.\n",
    "\n",
    "    re.match(my_expr, my_string)\n",
    "    \n",
    "Oggetto restituito: `re.Match`\n",
    "\n",
    "Funzionamento greedy."
   ]
  },
  {
   "cell_type": "code",
   "execution_count": 12,
   "metadata": {},
   "outputs": [],
   "source": [
    "re.match('cat', 'dog and cat')"
   ]
  },
  {
   "cell_type": "code",
   "execution_count": 14,
   "metadata": {},
   "outputs": [
    {
     "data": {
      "text/plain": [
       "<re.Match object; span=(0, 3), match='cat'>"
      ]
     },
     "execution_count": 14,
     "metadata": {},
     "output_type": "execute_result"
    }
   ],
   "source": [
    "re.match('cat', 'cat and dog')"
   ]
  },
  {
   "cell_type": "code",
   "execution_count": 15,
   "metadata": {},
   "outputs": [
    {
     "data": {
      "text/plain": [
       "<re.Match object; span=(0, 3), match='cat'>"
      ]
     },
     "execution_count": 15,
     "metadata": {},
     "output_type": "execute_result"
    }
   ],
   "source": [
    "re.match('cat', 'cat')"
   ]
  },
  {
   "cell_type": "code",
   "execution_count": 18,
   "metadata": {},
   "outputs": [
    {
     "data": {
      "text/plain": [
       "<re.Match object; span=(0, 8), match='caaaaaat'>"
      ]
     },
     "execution_count": 18,
     "metadata": {},
     "output_type": "execute_result"
    }
   ],
   "source": [
    "re.match('ca*t', 'caaaaaataaaaa')"
   ]
  },
  {
   "cell_type": "markdown",
   "metadata": {},
   "source": [
    "### Funzione `re.search() ` per l'operazione di *searching*\n",
    "\n",
    "Data una stringa S e un'espressione regolare *RE*, verifica se S contiene una delle stringhe del linguaggio di *RE*.\n",
    "\n",
    "    re.search(my_expr, my_string)\n",
    "    \n",
    "Oggetto restituito: `re.Match`\n",
    "\n",
    "Funzionamento greedy."
   ]
  },
  {
   "cell_type": "code",
   "execution_count": 13,
   "metadata": {},
   "outputs": [
    {
     "data": {
      "text/plain": [
       "<re.Match object; span=(8, 11), match='cat'>"
      ]
     },
     "execution_count": 13,
     "metadata": {},
     "output_type": "execute_result"
    }
   ],
   "source": [
    "re.search('cat', 'dog and cat')"
   ]
  },
  {
   "cell_type": "code",
   "execution_count": 9,
   "metadata": {},
   "outputs": [
    {
     "data": {
      "text/plain": [
       "<re.Match object; span=(0, 3), match='cat'>"
      ]
     },
     "execution_count": 9,
     "metadata": {},
     "output_type": "execute_result"
    }
   ],
   "source": [
    "re.search('cat', 'cat and dog')"
   ]
  },
  {
   "cell_type": "code",
   "execution_count": 10,
   "metadata": {},
   "outputs": [
    {
     "data": {
      "text/plain": [
       "<re.Match object; span=(0, 3), match='cat'>"
      ]
     },
     "execution_count": 10,
     "metadata": {},
     "output_type": "execute_result"
    }
   ],
   "source": [
    "re.search('cat', 'cat')"
   ]
  },
  {
   "cell_type": "markdown",
   "metadata": {},
   "source": [
    "### Accesso alla occorrenza trovata"
   ]
  },
  {
   "cell_type": "markdown",
   "metadata": {},
   "source": [
    "L'oggetto di tipo `re.Match` mette a disposizione due metodi per localizzare l'occorrenza trovata:"
   ]
  },
  {
   "cell_type": "markdown",
   "metadata": {},
   "source": [
    "- `start()`, posizione (0-based) di inizio dell'occorrenza\n",
    "- `end()`, posizione (1-based) di fine dell'occorrenza"
   ]
  },
  {
   "cell_type": "code",
   "execution_count": 22,
   "metadata": {},
   "outputs": [
    {
     "name": "stdout",
     "output_type": "stream",
     "text": [
      "<re.Match object; span=(8, 11), match='cat'>\n"
     ]
    }
   ],
   "source": [
    "s = re.search('cat', 'dog and cat and rat')\n",
    "print(s)"
   ]
  },
  {
   "cell_type": "code",
   "execution_count": 20,
   "metadata": {},
   "outputs": [
    {
     "data": {
      "text/plain": [
       "8"
      ]
     },
     "execution_count": 20,
     "metadata": {},
     "output_type": "execute_result"
    }
   ],
   "source": [
    "s.start()"
   ]
  },
  {
   "cell_type": "code",
   "execution_count": 21,
   "metadata": {},
   "outputs": [
    {
     "data": {
      "text/plain": [
       "11"
      ]
     },
     "execution_count": 21,
     "metadata": {},
     "output_type": "execute_result"
    }
   ],
   "source": [
    "s.end()"
   ]
  },
  {
   "cell_type": "markdown",
   "metadata": {},
   "source": [
    "Occorrenza:"
   ]
  },
  {
   "cell_type": "code",
   "execution_count": 23,
   "metadata": {},
   "outputs": [
    {
     "data": {
      "text/plain": [
       "'cat'"
      ]
     },
     "execution_count": 23,
     "metadata": {},
     "output_type": "execute_result"
    }
   ],
   "source": [
    "'dog and cat and rat'[s.start():s.end()]"
   ]
  },
  {
   "cell_type": "markdown",
   "metadata": {},
   "source": [
    "### Come scrivere un'espressione regolare\n",
    "\n",
    "**Due gruppi di simboli**\n",
    "\n",
    "1. `. | ( ) [ ] { } + \\ ^ $ * ?`, metasimboli    \n",
    "1. tutti i simboli che non sono metasimboli e che rappresentano se stessi\n",
    "\n",
    "    \n",
    "Per fare in modo che un metasimbolo rappresenti se stesso basta anteporre `\\`.\n",
    "\n",
    "`ca?t` è diversa da `ca\\?t`\n",
    "\n",
    "Esistono simboli che, preceduti da `\\`, rappresentano qualcos'altro.\n",
    "\n",
    "`ABC` è diversa da `\\ABC`\n",
    "\n",
    "I *metasimboli* in generale permettono di specificare:\n",
    "\n",
    "- ancore\n",
    "- classi\n",
    "- quantificatori\n",
    "- alternative\n",
    "- raggruppamenti\n",
    "- backreference\n",
    "\n",
    "---\n",
    "\n",
    "### Ancora (elemento di dimensione nulla)\n",
    "\n",
    "- inizio riga `^`\n",
    "- fine riga `$`\n",
    "- inizio stringa `\\A`\n",
    "- fine stringa `\\z`\n",
    "- fine stringa `\\Z` (eventualmente prima di `\\n`)\n",
    "- confine di parola `\\b`\n",
    "- non confine di parola `\\B`\n",
    "\n",
    "*Simbolo di parola*: lettera minuscola da `a` a `z`, lettera maiuscola da `A` a `Z`, cifra da `0` a `9`, simbolo di *underscore* `_`.\n",
    "\n",
    "*Confine di parola*: elemento di dimensione nulla tra un simbolo di parola e un non simbolo di parola. \n",
    "\n",
    "**ESEMPI**:\n",
    "\n",
    "`^cat` rappresenta l'unica stringa `cat` con il vincolo che sia a inizio riga\n",
    "- in `cataaaa`, `aaaa\\ncataaaa`\n",
    "- non in `aaacataaa`, `aaacat`, `aaaacat\\naaaa`\n",
    "\n",
    "\n",
    "`cat$` rappresenta l'unica stringa `cat` con il vincolo che sia a fine riga\n",
    "- in `aaacat`, `aaaacat\\naaaa`\n",
    "- non in `aaacataaa`, `cataaa`, `aaaa\\ncataaaa`\n",
    "\n",
    "\n",
    "`\\Acat` rappresenta l'unica stringa `cat` con il vincolo che sia a inizio stringa\n",
    "- in `cataaaa`\n",
    "- non in `aaaa\\ncataaaa`\n",
    "\n",
    "`cat\\z` rappresenta l'unica stringa `cat` con il vincolo che sia a fine stringa\n",
    "- in `aaaacat`\n",
    "- non in `aaaacat\\naaaa`, `aaaa\\naaaacat\\n`\n",
    "\n",
    "`cat\\Z` rappresenta l'unica stringa `cat` con il vincolo che sia a fine stringa (eventualmente prima di `\\n`)\n",
    "- in `aaaa\\naaaacat\\n`, `aaaacat`\n",
    "\n",
    "`\\bis` rappresenta l'unica stringa `is` con il vincolo che prima di `i` non ci sia un simbolo di parola\n",
    "- in `It is a cat`\n",
    "- non in `This cat`\n",
    "\n",
    "`\\Bis` rappresenta l'unica stringa `is` con il vincolo che prima di `i` ci sia un simbolo di parola\n",
    "- in `This cat`\n",
    "- non in `It is a cat`\n",
    "\n",
    "***\n",
    "\n",
    "### Classe (insieme di caratteri)\n",
    "\n",
    "Una classe viene specificata in parentesi quadre `[]`:\n",
    "\n",
    "- elencando ognuno dei caratteri appartenenti alla classe \n",
    "- specificando intervalli tramite il simbolo `-`\n",
    "- il simbolo `^` messo all'inizio permette di effettuare la **negazione** di ciò che viene specificato dopo\n",
    "\n",
    "e rappresenta ognuno dei simboli che le appartengono.\n",
    "\n",
    "**ESEMPI DI CLASSI**:\n",
    "\n",
    "`[aeiou]` rappresenta la classe delle vocali minuscole\n",
    "\n",
    "`[^aeiou]` rappresenta la classe di tutto ciò che non è vocale minuscola\n",
    "\n",
    "`[ae^iou]` rappresenta la classe delle vocali minuscole e del simbolo `^`\n",
    "\n",
    "`[.;:,]` rappresenta la classe dei simboli di punteggiatura (in questo caso il simbolo `.` non è un *metasimbolo*)\n",
    "\n",
    "`[?\\b]` rappresenta la classe dei due simboli `?` e *backspace*\n",
    "\n",
    "`[a-z]` rappresenta la classe delle lettere minuscole\n",
    "\n",
    "`[a\\-z]` rappresenta la classe dei tre simboli `a`, `-` e `z`.\n",
    "\n",
    "`[a-zA-Z]` rappresenta la classe di tutte le lettere\n",
    "\n",
    "`[a-zA-Z0-9_]` rappresenta la classe di tutti i simboli di parola\n",
    "\n",
    " `[^a-zA-Z0-9_]` è la classe di tutti i simboli che non sono di parola.\n",
    "\n",
    "**ESEMPIO DI DI RE CON CLASSI**:\n",
    "\n",
    "`[A-Z]at` rappresenta tutte le stringhe che iniziano con lettera maiuscola e finiscono con `at`\n",
    "- ad esempio `Cat`, `Rat`, `Bat`\n",
    "- ma non `cat`, `rat`, `bat`\n",
    "\n",
    "`[A-Za-z]at` rappresenta tutte le stringhe di tre lettere che finiscono con `at`\n",
    "- ad esempio `Cat`, `Rat`, `Bat`, `cat`, `rat`, `bat`\n",
    "\n",
    "**Scorciatoie**:\n",
    "\n",
    "- `[0-9]` = `\\d`\n",
    "- `[^0-9]` = `\\D`\n",
    "- `[a-zA-Z0-9_]` = `\\w`\n",
    "- `[^a-zA-Z0-9_]` = `\\W`\n",
    "- `[0-9a-fA-F]` = `\\h`\n",
    "- `[^0-9a-fA-F]` = `\\H`\n",
    "- `[␣\\t\\r\\n\\f]` = `\\s`\n",
    "- `[^␣\\t\\r\\n\\f]` = `\\S`\n",
    "- `[^\\n]` = `.`\n",
    "\n",
    "### Raggruppamento (parte di *RE*)\n",
    "\n",
    "Un raggruppamento viene specificato in parentesi tonde `()` e può:\n",
    "- essere sottoposto a quantificazione\n",
    "- essere sottoposto a *backreference*\n",
    "- variare la precedenza delle alternative\n",
    "\n",
    "`a(bc)d` contiene il raggruppamento `(bc)`\n",
    "\n",
    "***\n",
    "\n",
    "### Quantificatore\n",
    "\n",
    "Un *quantificatore* è un metasimbolo che specifica il numero di volte con cui il carattere, la classe o il raggruppamento precedenti possono manifestarsi all'interno della stringa con cui la *RE* viene confrontata.\n",
    "\n",
    "Un *quantificatore* può specificare:\n",
    "\n",
    "- zero o più ripetizioni `*`\n",
    "- una o più ripetizioni `+`\n",
    "- zero o una ripetizione `?`\n",
    "- da `m` a `n` ripetizioni `{m,n}`\n",
    "- almeno `m` ripetizioni `{m,}`\n",
    "- al più `n` ripetizioni `{,n}`\n",
    "- esattamente `m` ripetizioni `{m}`\n",
    "\n",
    "\n",
    "`ca*t` rappresenta le stringhe composte da `c`, seguita da zero o più simboli `a`, seguiti da `t`. \n",
    "- `ct`, `cat`, `caaat`, `caaaat` sono nel linguaggio\n",
    "\n",
    "`ca+t` rappresenta le stringhe composte da `c`, seguita da uno o più simboli `a`, seguiti da `t`.\n",
    "- `cat`, `caaat` non sono nel linguaggio\n",
    "- `ct` non è nel linguaggio\n",
    "\n",
    "`c[ab]+t` rappresenta le stringhe composte da un simbolo `c` seguito da una o più ripetizioni del simbolo `a` oppure `b` seguite dal simbolo `t`.\n",
    "- `caabbbabababbat`, `caaaaaaaat`, `cbbbbbbbbt` sono nel linguaggio\n",
    "\n",
    "`c(ab)+t` rappresenta stringhe composte da `c`, seguita da una o più ripetizioni di `ab`, seguite da `t`. Ad esempio \n",
    "- `cabt`, `cabababt`, `cababababt`\n",
    "- `caaaaaaaat`, `cbbbbbbbbt`, `cbbababbbbbbt` non sono sono nel linguaggio\n",
    "\n",
    "`ca?t` rappresenta le sole stringhe `ct` e `cat`.\n",
    "\n",
    "`ca{2,5}t` rappresenta le sole stringhe `caat`, `caaat`, `caaaat` e `caaaaat`, composte da `c`, seguita da due, o tre, o quattro, o cinque simboli `a`, seguiti da `t`.\n",
    "\n",
    "`ca{2,}t` rappresenta le stringhe `caat`, `caaat`, `caaaat`, `caaaaat`, etc., composte da `c`, seguita da almeno due `a`, seguiti da `t`.\n",
    "\n",
    "`ca{,5}t` rappresenta le sole stringhe `ct`, `cat`, `caat` `caaat`, `caaaat` e `caaaaat`, composte da `c`, seguita da al più cinque simboli `a`, seguiti da `t`.\n",
    "\n",
    "`ca{5}t` rappresenta la sola stringa `caaaaat`, composta da `c`, seguita da cinque simboli `a`, seguiti da `t`.\n",
    "\n",
    "***\n",
    "\n",
    "### Alternativa\n",
    "\n",
    "Per specificare un'*alternativa* tra due parti della *RE* si usa il *metasimbolo* `|`.\n",
    "\n",
    "`ab|cd` rappresenta il linguaggio {`ab`, `cd`}.\n",
    "\n",
    "`cane nero|bianco` corrisponde al linguaggio {`cane nero`, `bianco`}.\n",
    "\n",
    "`cane (nero|bianco)` corrisponde al linguaggio {`cane nero`, `cane bianco`}\n",
    "\n",
    "***"
   ]
  },
  {
   "cell_type": "markdown",
   "metadata": {},
   "source": [
    "### ESERCIZIO1"
   ]
  },
  {
   "cell_type": "markdown",
   "metadata": {},
   "source": [
    "Si consideri la stringa `***hello world***`"
   ]
  },
  {
   "cell_type": "code",
   "execution_count": 42,
   "metadata": {},
   "outputs": [],
   "source": [
    "stringa = '***hello world***'"
   ]
  },
  {
   "cell_type": "markdown",
   "metadata": {},
   "source": [
    "Si effettui la ricerca della *RE* `\\w+` che rappresenta tutte le stringhe composte da uno o più simboli di parola."
   ]
  },
  {
   "cell_type": "code",
   "execution_count": 43,
   "metadata": {},
   "outputs": [],
   "source": [
    "s = re.search('\\w+', stringa)"
   ]
  },
  {
   "cell_type": "markdown",
   "metadata": {},
   "source": [
    "La *searching occurrence* è:"
   ]
  },
  {
   "cell_type": "code",
   "execution_count": 44,
   "metadata": {},
   "outputs": [
    {
     "data": {
      "text/plain": [
       "'hello'"
      ]
     },
     "execution_count": 44,
     "metadata": {},
     "output_type": "execute_result"
    }
   ],
   "source": [
    "stringa[s.start():s.end()]"
   ]
  },
  {
   "cell_type": "markdown",
   "metadata": {},
   "source": [
    "Fare in modo che l'occorrenza trovata sia ora `hello world`."
   ]
  },
  {
   "cell_type": "code",
   "execution_count": 45,
   "metadata": {},
   "outputs": [],
   "source": [
    "s = re.search('\\w+\\s\\w+', stringa)"
   ]
  },
  {
   "cell_type": "markdown",
   "metadata": {},
   "source": [
    "La *searching occurrence* è ora:"
   ]
  },
  {
   "cell_type": "code",
   "execution_count": 46,
   "metadata": {},
   "outputs": [
    {
     "data": {
      "text/plain": [
       "'hello world'"
      ]
     },
     "execution_count": 46,
     "metadata": {},
     "output_type": "execute_result"
    }
   ],
   "source": [
    "stringa[s.start():s.end()]"
   ]
  },
  {
   "cell_type": "markdown",
   "metadata": {},
   "source": [
    "Si cambi ora la stringa in `***hello     world***` mantenendo la stessa *RE*."
   ]
  },
  {
   "cell_type": "code",
   "execution_count": 47,
   "metadata": {},
   "outputs": [],
   "source": [
    "stringa = '***hello     world***'\n",
    "s = re.search('\\w+\\s\\w+', stringa)"
   ]
  },
  {
   "cell_type": "markdown",
   "metadata": {},
   "source": [
    "Estrarre l'occorrenza."
   ]
  },
  {
   "cell_type": "code",
   "execution_count": 48,
   "metadata": {},
   "outputs": [
    {
     "ename": "AttributeError",
     "evalue": "'NoneType' object has no attribute 'start'",
     "output_type": "error",
     "traceback": [
      "\u001b[0;31m---------------------------------------------------------------------------\u001b[0m",
      "\u001b[0;31mAttributeError\u001b[0m                            Traceback (most recent call last)",
      "\u001b[0;32m<ipython-input-48-2bc36a8634ed>\u001b[0m in \u001b[0;36m<module>\u001b[0;34m\u001b[0m\n\u001b[0;32m----> 1\u001b[0;31m \u001b[0mstringa\u001b[0m\u001b[0;34m[\u001b[0m\u001b[0ms\u001b[0m\u001b[0;34m.\u001b[0m\u001b[0mstart\u001b[0m\u001b[0;34m(\u001b[0m\u001b[0;34m)\u001b[0m\u001b[0;34m:\u001b[0m\u001b[0ms\u001b[0m\u001b[0;34m.\u001b[0m\u001b[0mend\u001b[0m\u001b[0;34m(\u001b[0m\u001b[0;34m)\u001b[0m\u001b[0;34m]\u001b[0m\u001b[0;34m\u001b[0m\u001b[0;34m\u001b[0m\u001b[0m\n\u001b[0m",
      "\u001b[0;31mAttributeError\u001b[0m: 'NoneType' object has no attribute 'start'"
     ]
    }
   ],
   "source": [
    "stringa[s.start():s.end()]"
   ]
  },
  {
   "cell_type": "markdown",
   "metadata": {},
   "source": [
    "La *RE* che permette di catturare `hello     world` (con un qualsiasi numero di spazi tra `hello` e `world`) è:"
   ]
  },
  {
   "cell_type": "code",
   "execution_count": 53,
   "metadata": {},
   "outputs": [],
   "source": [
    "s = re.search('\\w+\\s+\\w+', stringa)"
   ]
  },
  {
   "cell_type": "markdown",
   "metadata": {},
   "source": [
    "L'occorrenza ora è infatti:"
   ]
  },
  {
   "cell_type": "code",
   "execution_count": 54,
   "metadata": {},
   "outputs": [
    {
     "data": {
      "text/plain": [
       "'hello     world'"
      ]
     },
     "execution_count": 54,
     "metadata": {},
     "output_type": "execute_result"
    }
   ],
   "source": [
    "stringa[s.start():s.end()]"
   ]
  },
  {
   "cell_type": "markdown",
   "metadata": {},
   "source": [
    "La nuova *RE* permette di trovare l'occorrenza per un numero qualsiasi di spazi tra `hello` e `world`."
   ]
  },
  {
   "cell_type": "code",
   "execution_count": 55,
   "metadata": {},
   "outputs": [
    {
     "data": {
      "text/plain": [
       "'hello                             world'"
      ]
     },
     "execution_count": 55,
     "metadata": {},
     "output_type": "execute_result"
    }
   ],
   "source": [
    "stringa = '***hello                             world***'\n",
    "s = re.search('\\w+\\s+\\w+', stringa)\n",
    "stringa[s.start():s.end()]"
   ]
  },
  {
   "cell_type": "markdown",
   "metadata": {},
   "source": [
    "Si provi ora a usare (su questa nuova stringa) la *RE* `.+` che rappresenta tutte le stringhe di uno o più caratteri qualsiasi (tranne il *newline* `\\n`)."
   ]
  },
  {
   "cell_type": "code",
   "execution_count": 56,
   "metadata": {},
   "outputs": [],
   "source": [
    "s = re.search('.+', stringa)"
   ]
  },
  {
   "cell_type": "markdown",
   "metadata": {},
   "source": [
    "L'occorrenza sarà ora:"
   ]
  },
  {
   "cell_type": "code",
   "execution_count": 57,
   "metadata": {},
   "outputs": [
    {
     "data": {
      "text/plain": [
       "'***hello                             world***'"
      ]
     },
     "execution_count": 57,
     "metadata": {},
     "output_type": "execute_result"
    }
   ],
   "source": [
    "stringa[s.start():s.end()]"
   ]
  },
  {
   "cell_type": "markdown",
   "metadata": {},
   "source": [
    "A questo punto si inserisca nella stringa un carattere di *newline* `\\n` dopo `hello`."
   ]
  },
  {
   "cell_type": "code",
   "execution_count": 58,
   "metadata": {},
   "outputs": [],
   "source": [
    "stringa = '***hello\\n                             world***'\n",
    "s = re.search('.+', stringa)"
   ]
  },
  {
   "cell_type": "markdown",
   "metadata": {},
   "source": [
    "L'occorrenza sarà ora:"
   ]
  },
  {
   "cell_type": "code",
   "execution_count": 59,
   "metadata": {},
   "outputs": [
    {
     "data": {
      "text/plain": [
       "'***hello'"
      ]
     },
     "execution_count": 59,
     "metadata": {},
     "output_type": "execute_result"
    }
   ],
   "source": [
    "stringa[s.start():s.end()]"
   ]
  },
  {
   "cell_type": "markdown",
   "metadata": {},
   "source": [
    "in quanto il simbolo `\\n` non appartiene alla classe rappresentata dal *metasimbolo* `.`."
   ]
  },
  {
   "cell_type": "markdown",
   "metadata": {},
   "source": [
    "### ESERCIZIO2"
   ]
  },
  {
   "cell_type": "markdown",
   "metadata": {},
   "source": [
    "Si consideri la stringa:"
   ]
  },
  {
   "cell_type": "code",
   "execution_count": 60,
   "metadata": {},
   "outputs": [],
   "source": [
    "stringa = 'bbbcaaaaaaaatcaaaat'"
   ]
  },
  {
   "cell_type": "markdown",
   "metadata": {},
   "source": [
    "Si effettui utilizzi la *RE* `ca+` che rappresenta tutte le stringhe composte da `c` seguito da almeno un carattere `a`."
   ]
  },
  {
   "cell_type": "code",
   "execution_count": 63,
   "metadata": {},
   "outputs": [],
   "source": [
    "s = re.search('ca+', stringa)"
   ]
  },
  {
   "cell_type": "markdown",
   "metadata": {},
   "source": [
    "L'occorrenza è:"
   ]
  },
  {
   "cell_type": "code",
   "execution_count": 65,
   "metadata": {},
   "outputs": [
    {
     "data": {
      "text/plain": [
       "'caaaaaaaa'"
      ]
     },
     "execution_count": 65,
     "metadata": {},
     "output_type": "execute_result"
    }
   ],
   "source": [
    "stringa[s.start():s.end()]"
   ]
  },
  {
   "cell_type": "markdown",
   "metadata": {},
   "source": [
    "La ricerca, a causa del comportamento *greedy* dell'operazione, si estende il più a destra possibile.\n",
    "\n",
    "Si aggiunga quindi un `?` subito dopo il quantificatore `+`."
   ]
  },
  {
   "cell_type": "code",
   "execution_count": 71,
   "metadata": {},
   "outputs": [],
   "source": [
    "s = re.search('ca+?', stringa)"
   ]
  },
  {
   "cell_type": "markdown",
   "metadata": {},
   "source": [
    "L'ooccorrenza diventa:"
   ]
  },
  {
   "cell_type": "code",
   "execution_count": 72,
   "metadata": {},
   "outputs": [
    {
     "data": {
      "text/plain": [
       "'ca'"
      ]
     },
     "execution_count": 72,
     "metadata": {},
     "output_type": "execute_result"
    }
   ],
   "source": [
    "stringa[s.start():s.end()]"
   ]
  },
  {
   "cell_type": "markdown",
   "metadata": {},
   "source": [
    "in quanto il punto di domanda limita annulla il comportamento greedy e si limita all'occorrenza più corta."
   ]
  },
  {
   "cell_type": "markdown",
   "metadata": {},
   "source": [
    "Si effettui ora la ricerca della *RE* `(ca)+` che rappresenta tutte le stringhe composte da `ca` ripetuta almeno una volta."
   ]
  },
  {
   "cell_type": "code",
   "execution_count": 73,
   "metadata": {},
   "outputs": [],
   "source": [
    "s = re.search('(ca)+', stringa)"
   ]
  },
  {
   "cell_type": "markdown",
   "metadata": {},
   "source": [
    "L'occorrenza è ora:"
   ]
  },
  {
   "cell_type": "code",
   "execution_count": 74,
   "metadata": {},
   "outputs": [
    {
     "data": {
      "text/plain": [
       "'ca'"
      ]
     },
     "execution_count": 74,
     "metadata": {},
     "output_type": "execute_result"
    }
   ],
   "source": [
    "stringa[s.start():s.end()]"
   ]
  },
  {
   "cell_type": "code",
   "execution_count": 46,
   "metadata": {},
   "outputs": [
    {
     "data": {
      "text/plain": [
       "'ca'"
      ]
     },
     "execution_count": 46,
     "metadata": {},
     "output_type": "execute_result"
    }
   ],
   "source": [
    "stringa[s.start():s.end()]"
   ]
  },
  {
   "cell_type": "markdown",
   "metadata": {},
   "source": [
    "Si provi ora a cercare la *RE* `ca*` che rappresenta tutte le stringhe composte da `c` seguito da zero o più `a`."
   ]
  },
  {
   "cell_type": "code",
   "execution_count": 75,
   "metadata": {},
   "outputs": [],
   "source": [
    "s = re.search('ca*', stringa)"
   ]
  },
  {
   "cell_type": "markdown",
   "metadata": {},
   "source": [
    "L'occorrenza è:"
   ]
  },
  {
   "cell_type": "code",
   "execution_count": 76,
   "metadata": {},
   "outputs": [
    {
     "data": {
      "text/plain": [
       "'caaaaaaaa'"
      ]
     },
     "execution_count": 76,
     "metadata": {},
     "output_type": "execute_result"
    }
   ],
   "source": [
    "stringa[s.start():s.end()]"
   ]
  },
  {
   "cell_type": "markdown",
   "metadata": {},
   "source": [
    "Se si aggiunge il punto di domanda:"
   ]
  },
  {
   "cell_type": "code",
   "execution_count": 77,
   "metadata": {},
   "outputs": [],
   "source": [
    "s = re.search('ca*?', stringa)"
   ]
  },
  {
   "cell_type": "markdown",
   "metadata": {},
   "source": [
    "L'occorrenza è:"
   ]
  },
  {
   "cell_type": "code",
   "execution_count": 78,
   "metadata": {},
   "outputs": [
    {
     "data": {
      "text/plain": [
       "'c'"
      ]
     },
     "execution_count": 78,
     "metadata": {},
     "output_type": "execute_result"
    }
   ],
   "source": [
    "stringa[s.start():s.end()]"
   ]
  },
  {
   "cell_type": "markdown",
   "metadata": {},
   "source": [
    "Attenzione a un'espressione regolare come `(ca)*?`."
   ]
  },
  {
   "cell_type": "code",
   "execution_count": 79,
   "metadata": {},
   "outputs": [],
   "source": [
    "s = re.search('(ca)*?', stringa)"
   ]
  },
  {
   "cell_type": "markdown",
   "metadata": {},
   "source": [
    "L'occorrenza è:"
   ]
  },
  {
   "cell_type": "code",
   "execution_count": 80,
   "metadata": {},
   "outputs": [
    {
     "data": {
      "text/plain": [
       "''"
      ]
     },
     "execution_count": 80,
     "metadata": {},
     "output_type": "execute_result"
    }
   ],
   "source": [
    "stringa[s.start():s.end()]"
   ]
  },
  {
   "cell_type": "markdown",
   "metadata": {},
   "source": [
    "## *Backreference* esterno\n",
    "\n",
    "**Goal**: catturare le parti di occorrenza relative ai raggruppamenti per usarli all'esterno dell'operazione di *matching*/*searching*.\n",
    "\n",
    "I **raggruppamenti sono indicizzati** da sinistra a destra a partire da 1.\n",
    "\n",
    "La parte catturata relativa a un raggruppamento viene restituita dal metodo `group()` dell'oggetto di tipo `Match`:\n",
    "\n",
    "    my_match_obj.group(my_index)\n",
    "\n",
    "che prende come argomento l'indice del raggruppamento da catturare (se l'argomento non viene specificato, allora si assume l’indice di default 0 che corrisponde all'intera occorrenza).\n",
    "\n",
    "L'inizio e la fine della parte catturata per un raggruppamento viene restituita dai metodi `start()` ed `end()` dell'oggetto di tipo `Match`:\n",
    "\n",
    "    my_match_obj.start(my_index)\n",
    "    my_match_obj.end(my_index)\n",
    "\n",
    "che prendono come argomenti l'indice del raggruppamento da catturare (se l'argomento non viene specificato, allora si assume l’indice di default 0 che corrisponde all'intera occorrenza).\n",
    "\n",
    "---\n",
    "\n",
    "**ESEMPIO**:"
   ]
  },
  {
   "cell_type": "code",
   "execution_count": 82,
   "metadata": {},
   "outputs": [],
   "source": [
    "s = re.search('(\\w+)\\s+(\\w+)', 'gatto cane')"
   ]
  },
  {
   "cell_type": "markdown",
   "metadata": {},
   "source": [
    "L'occorrenza intera è:"
   ]
  },
  {
   "cell_type": "code",
   "execution_count": 83,
   "metadata": {},
   "outputs": [
    {
     "data": {
      "text/plain": [
       "'gatto cane'"
      ]
     },
     "execution_count": 83,
     "metadata": {},
     "output_type": "execute_result"
    }
   ],
   "source": [
    "s.group()"
   ]
  },
  {
   "cell_type": "markdown",
   "metadata": {},
   "source": [
    "La parte catturata dal primo raggruppamento è:"
   ]
  },
  {
   "cell_type": "code",
   "execution_count": 84,
   "metadata": {},
   "outputs": [
    {
     "data": {
      "text/plain": [
       "'gatto'"
      ]
     },
     "execution_count": 84,
     "metadata": {},
     "output_type": "execute_result"
    }
   ],
   "source": [
    "s.group(1)"
   ]
  },
  {
   "cell_type": "markdown",
   "metadata": {},
   "source": [
    "e inizia in posizione:"
   ]
  },
  {
   "cell_type": "code",
   "execution_count": 85,
   "metadata": {},
   "outputs": [
    {
     "data": {
      "text/plain": [
       "0"
      ]
     },
     "execution_count": 85,
     "metadata": {},
     "output_type": "execute_result"
    }
   ],
   "source": [
    "s.start(1)"
   ]
  },
  {
   "cell_type": "markdown",
   "metadata": {},
   "source": [
    "La parte catturata dal secondo raggruppamento è:"
   ]
  },
  {
   "cell_type": "code",
   "execution_count": 86,
   "metadata": {},
   "outputs": [
    {
     "data": {
      "text/plain": [
       "'cane'"
      ]
     },
     "execution_count": 86,
     "metadata": {},
     "output_type": "execute_result"
    }
   ],
   "source": [
    "s.group(2)"
   ]
  },
  {
   "cell_type": "markdown",
   "metadata": {},
   "source": [
    "e inizia in posizione:"
   ]
  },
  {
   "cell_type": "code",
   "execution_count": 87,
   "metadata": {},
   "outputs": [
    {
     "data": {
      "text/plain": [
       "6"
      ]
     },
     "execution_count": 87,
     "metadata": {},
     "output_type": "execute_result"
    }
   ],
   "source": [
    "s.start(2)"
   ]
  },
  {
   "cell_type": "markdown",
   "metadata": {},
   "source": [
    "## *Backreference* interno\n",
    "\n",
    "**Goal**: creare riferimenti interni ai raggruppamenti tramite i metasimboli `\\\\1`, `\\\\2`, `\\\\3` etc., dove `\\\\i`si riferisce all'i-esimo raggruppamento a partire da sinistra."
   ]
  },
  {
   "cell_type": "markdown",
   "metadata": {},
   "source": [
    "**Esempio1**: `(\\w+)\\s+\\\\1` è equivalente a `(\\w+)\\s+(\\w+)` con il vincolo che le due parti `(\\w+)` e `(\\w+)` catturino la stessa stringa."
   ]
  },
  {
   "cell_type": "code",
   "execution_count": 98,
   "metadata": {},
   "outputs": [],
   "source": [
    "s = re.search('(\\w+)\\s+\\\\1', 'gatto gatto')"
   ]
  },
  {
   "cell_type": "markdown",
   "metadata": {},
   "source": [
    "L'occorrenza intera trovata è:"
   ]
  },
  {
   "cell_type": "code",
   "execution_count": 99,
   "metadata": {},
   "outputs": [
    {
     "data": {
      "text/plain": [
       "'gatto gatto'"
      ]
     },
     "execution_count": 99,
     "metadata": {},
     "output_type": "execute_result"
    }
   ],
   "source": [
    "s.group()"
   ]
  },
  {
   "cell_type": "markdown",
   "metadata": {},
   "source": [
    "mentre la parte catturata dal raggruppamento di sinistra è:"
   ]
  },
  {
   "cell_type": "code",
   "execution_count": 100,
   "metadata": {},
   "outputs": [
    {
     "data": {
      "text/plain": [
       "'gatto'"
      ]
     },
     "execution_count": 100,
     "metadata": {},
     "output_type": "execute_result"
    }
   ],
   "source": [
    "s.group(1)"
   ]
  },
  {
   "cell_type": "markdown",
   "metadata": {},
   "source": [
    "Se invece si usa la stringa `gatto cane`:"
   ]
  },
  {
   "cell_type": "code",
   "execution_count": 101,
   "metadata": {},
   "outputs": [],
   "source": [
    "s = re.search('(\\w+)\\s+\\\\1', 'gatto cane')"
   ]
  },
  {
   "cell_type": "code",
   "execution_count": 102,
   "metadata": {},
   "outputs": [
    {
     "ename": "AttributeError",
     "evalue": "'NoneType' object has no attribute 'group'",
     "output_type": "error",
     "traceback": [
      "\u001b[0;31m---------------------------------------------------------------------------\u001b[0m",
      "\u001b[0;31mAttributeError\u001b[0m                            Traceback (most recent call last)",
      "\u001b[0;32m<ipython-input-102-98da547477ed>\u001b[0m in \u001b[0;36m<module>\u001b[0;34m\u001b[0m\n\u001b[0;32m----> 1\u001b[0;31m \u001b[0ms\u001b[0m\u001b[0;34m.\u001b[0m\u001b[0mgroup\u001b[0m\u001b[0;34m(\u001b[0m\u001b[0;36m0\u001b[0m\u001b[0;34m)\u001b[0m\u001b[0;34m\u001b[0m\u001b[0;34m\u001b[0m\u001b[0m\n\u001b[0m",
      "\u001b[0;31mAttributeError\u001b[0m: 'NoneType' object has no attribute 'group'"
     ]
    }
   ],
   "source": [
    "s.group(0)"
   ]
  },
  {
   "cell_type": "markdown",
   "metadata": {},
   "source": [
    "**Esempio2**: `(\\w+)\\\\1` è equivalente a `(\\w+)(\\w+)` con il vincolo che le due parti `(\\w+)` e `(\\w+)` catturino la stessa stringa."
   ]
  },
  {
   "cell_type": "code",
   "execution_count": 108,
   "metadata": {},
   "outputs": [],
   "source": [
    "s = re.search('(\\w+)\\\\1', 'Mississippi')"
   ]
  },
  {
   "cell_type": "markdown",
   "metadata": {},
   "source": [
    "L'occorrenza intera trovata è:"
   ]
  },
  {
   "cell_type": "code",
   "execution_count": 109,
   "metadata": {},
   "outputs": [
    {
     "data": {
      "text/plain": [
       "'ississ'"
      ]
     },
     "execution_count": 109,
     "metadata": {},
     "output_type": "execute_result"
    }
   ],
   "source": [
    "s.group()"
   ]
  },
  {
   "cell_type": "markdown",
   "metadata": {},
   "source": [
    "mentre la parte catturata dal raggruppamento di sinistra è:"
   ]
  },
  {
   "cell_type": "code",
   "execution_count": 110,
   "metadata": {},
   "outputs": [
    {
     "data": {
      "text/plain": [
       "'iss'"
      ]
     },
     "execution_count": 110,
     "metadata": {},
     "output_type": "execute_result"
    }
   ],
   "source": [
    "s.group(1)"
   ]
  },
  {
   "cell_type": "markdown",
   "metadata": {},
   "source": [
    "## Funzione `findall()`"
   ]
  },
  {
   "cell_type": "markdown",
   "metadata": {},
   "source": [
    "La funzione:\n",
    "\n",
    "    re.findall(my_expr, my_string)\n",
    "\n",
    "trova tutte le occorrenze non sovrapposte della *RE* `my_expr` nella stringa `my_string`, e restituisce:\n",
    "    \n",
    "- la lista delle occorrenze elencate da sinistra a destra, se nella *RE* non sono presenti raggruppamenti\n",
    "- la lista delle occorrenze catturate da un raggruppamento, se nella *RE* è presente un solo raggruppamento\n",
    "- la lista delle occorrenze catturate dai raggruppamenti, organizzati in tuple, se nella *RE* sono presenti più raggruppamenti (anche annidati)"
   ]
  },
  {
   "cell_type": "code",
   "execution_count": 111,
   "metadata": {},
   "outputs": [
    {
     "data": {
      "text/plain": [
       "['ab', 'cd', 'ef', 'gh']"
      ]
     },
     "execution_count": 111,
     "metadata": {},
     "output_type": "execute_result"
    }
   ],
   "source": [
    "re.findall('\\w\\w', 'abcdefghi')"
   ]
  },
  {
   "cell_type": "code",
   "execution_count": 64,
   "metadata": {},
   "outputs": [
    {
     "data": {
      "text/plain": [
       "['a', 'c', 'e', 'g']"
      ]
     },
     "execution_count": 64,
     "metadata": {},
     "output_type": "execute_result"
    }
   ],
   "source": [
    "re.findall('(\\w)\\w', 'abcdefgh')"
   ]
  },
  {
   "cell_type": "code",
   "execution_count": 65,
   "metadata": {},
   "outputs": [
    {
     "data": {
      "text/plain": [
       "[('a', 'b'), ('c', 'd'), ('e', 'f'), ('g', 'h')]"
      ]
     },
     "execution_count": 65,
     "metadata": {},
     "output_type": "execute_result"
    }
   ],
   "source": [
    "re.findall('(\\w)(\\w)', 'abcdefgh')"
   ]
  },
  {
   "cell_type": "code",
   "execution_count": 66,
   "metadata": {},
   "outputs": [
    {
     "data": {
      "text/plain": [
       "[('ab', 'a', 'b'), ('cd', 'c', 'd'), ('ef', 'e', 'f'), ('gh', 'g', 'h')]"
      ]
     },
     "execution_count": 66,
     "metadata": {},
     "output_type": "execute_result"
    }
   ],
   "source": [
    "re.findall('((\\w)(\\w))', 'abcdefgh')"
   ]
  },
  {
   "cell_type": "code",
   "execution_count": 3,
   "metadata": {},
   "outputs": [
    {
     "data": {
      "text/plain": [
       "['cat', 'dog', 'mouse', 'rat']"
      ]
     },
     "execution_count": 3,
     "metadata": {},
     "output_type": "execute_result"
    }
   ],
   "source": [
    "re.findall('\\w+', 'cat dog mouse rat')"
   ]
  },
  {
   "cell_type": "code",
   "execution_count": 4,
   "metadata": {},
   "outputs": [
    {
     "data": {
      "text/plain": [
       "['cat dog', 'mouse rat']"
      ]
     },
     "execution_count": 4,
     "metadata": {},
     "output_type": "execute_result"
    }
   ],
   "source": [
    "re.findall('\\w+\\s+\\w+', 'cat dog mouse rat')"
   ]
  },
  {
   "cell_type": "code",
   "execution_count": 5,
   "metadata": {},
   "outputs": [
    {
     "data": {
      "text/plain": [
       "['cat', 'mouse']"
      ]
     },
     "execution_count": 5,
     "metadata": {},
     "output_type": "execute_result"
    }
   ],
   "source": [
    "re.findall('(\\w+)\\s+\\w+', 'cat dog mouse rat')"
   ]
  },
  {
   "cell_type": "code",
   "execution_count": 6,
   "metadata": {},
   "outputs": [
    {
     "data": {
      "text/plain": [
       "[('cat', 'dog'), ('mouse', 'rat')]"
      ]
     },
     "execution_count": 6,
     "metadata": {},
     "output_type": "execute_result"
    }
   ],
   "source": [
    "re.findall('(\\w+)\\s+(\\w+)', 'cat dog mouse rat')"
   ]
  },
  {
   "cell_type": "markdown",
   "metadata": {},
   "source": [
    "## Funzione `sub()`"
   ]
  },
  {
   "cell_type": "markdown",
   "metadata": {},
   "source": [
    "La funzione:\n",
    "\n",
    "    re.sub(my_expr, r_string, my_string)\n",
    "\n",
    "restituisce la stringa ottenuta sostituendo con `r_string` tutte le occorrenze non sovrapposte di `my_expr` in `my_string`."
   ]
  },
  {
   "cell_type": "code",
   "execution_count": 7,
   "metadata": {},
   "outputs": [
    {
     "data": {
      "text/plain": [
       "'goose goose'"
      ]
     },
     "execution_count": 7,
     "metadata": {},
     "output_type": "execute_result"
    }
   ],
   "source": [
    "re.sub('\\w+\\s\\w+', 'goose', 'cat dog mouse rat')"
   ]
  }
 ],
 "metadata": {
  "kernelspec": {
   "display_name": "Python 3",
   "language": "python",
   "name": "python3"
  },
  "language_info": {
   "codemirror_mode": {
    "name": "ipython",
    "version": 3
   },
   "file_extension": ".py",
   "mimetype": "text/x-python",
   "name": "python",
   "nbconvert_exporter": "python",
   "pygments_lexer": "ipython3",
   "version": "3.7.1"
  }
 },
 "nbformat": 4,
 "nbformat_minor": 2
}
