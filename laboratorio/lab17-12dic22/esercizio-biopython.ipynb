{
 "cells": [
  {
   "cell_type": "markdown",
   "metadata": {},
   "source": [
    "# Biopython - Esercizio"
   ]
  },
  {
   "cell_type": "markdown",
   "metadata": {},
   "source": [
    "[MAFFT](https://www.ebi.ac.uk/Tools/msa/mafft/) è un tool di allineamento multiplo sviluppato da EMBL-EBI (European Bioinformatics Institute - European Molecular Biology Laboratory) per sequenze di DNA.\n",
    "\n",
    "Usare MAFFT (scegliendo ClustalW come formato di output) per allineare i 14 genomi di SARS-CoV-2 presenti nel file `covid-sequences.fasta` sequenziati nel novembre 2021 e scaricati dal sito di [NCBI](https://www.ncbi.nlm.nih.gov/sars-cov-2/). Il primo, con identificatore `NC_045512.2`, è il genoma di riferimento.\n",
    "\n",
    "Trovare in seguito tutte le variazioni rispetto ai genoma di riferimento.\n",
    "\n",
    "---\n",
    "\n",
    "**Variazione**: una colonna nell'allineamento multiplo in cui esiste almeno una sequenza che ha *mismatch* con il riferimento.\n",
    "\n",
    "Esempio di allineamento multiplo tra tre genomi `G_REF` (*reference*) `G1` e `G2`, che ha quattro variazioni nelle colonne 5, 8, 13 e 16:\n",
    "\n",
    "    G_REF   AAGCTGATTGCACGC-T\n",
    "    G1      --GCAGAGTGCAGGCCT\n",
    "    G2      --GCCGAGTGCACGCCT\n",
    "\n",
    "**Variazione 5**: `T` nel reference e `A` in G1 e `C` in G2.\n",
    "\n",
    "**Variazione 8**: `T` nel reference e `G` sia in G1 e G2.\n",
    "\n",
    "**Variazione 13**: `C` nel reference e `G` in G1.\n",
    "\n",
    "**Variazione 16**: `-` (cancellazione) nel reference e `C` sia in G1 che in G2.\n",
    "\n",
    "---\n",
    "\n",
    "Si richiede di:\n",
    "- costruire il *data frame* delle variazioni in cui le colonne del *data frame* sono le colonne di variazione nell'allineamento multiplo e le righe sono indicizzate con l'identificatore del genoma. Non considerare le colonne che cadono nei gap iniziali e finali.\n",
    "- estrarre il genoma con più variazioni e quello con meno variazioni (rispetto al *reference*)\n",
    "- ottenere il *data frame* delle variazioni \"complete\", cioè in cui tutti i genomi variano rispetto al *reference*.\n",
    "- produrre il *data frame* delle variazioni \"stabili\", cioé in cui tutti i genomi variano allo stesso modo rispetto al riferimento (hanno la stessa base). \n",
    "- ottenere la lista delle colonne in cui c'è un gap nel genoma di riferimento.\n",
    "- ottenere la lista delle colonne in cui c'è un gap in almeno uno dei genomi (che non siano il *reference*)"
   ]
  },
  {
   "cell_type": "markdown",
   "metadata": {},
   "source": [
    "Importare Biopython."
   ]
  },
  {
   "cell_type": "code",
   "execution_count": 59,
   "metadata": {},
   "outputs": [],
   "source": [
    "import Bio"
   ]
  },
  {
   "cell_type": "markdown",
   "metadata": {},
   "source": [
    "Importare il package `AlignIO` che è il package per manipolare file contenenti allineamenti multipli in diversi formati (tra cui `clustal` che è quello del file di input)."
   ]
  },
  {
   "cell_type": "code",
   "execution_count": 60,
   "metadata": {},
   "outputs": [],
   "source": [
    "from Bio import AlignIO"
   ]
  },
  {
   "cell_type": "code",
   "execution_count": 61,
   "metadata": {},
   "outputs": [
    {
     "name": "stdout",
     "output_type": "stream",
     "text": [
      "Help on package Bio.AlignIO in Bio:\n",
      "\n",
      "NAME\n",
      "    Bio.AlignIO - Multiple sequence alignment input/output as alignment objects.\n",
      "\n",
      "DESCRIPTION\n",
      "    The Bio.AlignIO interface is deliberately very similar to Bio.SeqIO, and in\n",
      "    fact the two are connected internally.  Both modules use the same set of file\n",
      "    format names (lower case strings).  From the user's perspective, you can read\n",
      "    in a PHYLIP file containing one or more alignments using Bio.AlignIO, or you\n",
      "    can read in the sequences within these alignments using Bio.SeqIO.\n",
      "    \n",
      "    Bio.AlignIO is also documented at http://biopython.org/wiki/AlignIO and by\n",
      "    a whole chapter in our tutorial:\n",
      "    \n",
      "    * `HTML Tutorial`_\n",
      "    * `PDF Tutorial`_\n",
      "    \n",
      "    .. _`HTML Tutorial`: http://biopython.org/DIST/docs/tutorial/Tutorial.html\n",
      "    .. _`PDF Tutorial`: http://biopython.org/DIST/docs/tutorial/Tutorial.pdf\n",
      "    \n",
      "    Input\n",
      "    -----\n",
      "    For the typical special case when your file or handle contains one and only\n",
      "    one alignment, use the function Bio.AlignIO.read().  This takes an input file\n",
      "    handle (or in recent versions of Biopython a filename as a string), format\n",
      "    string and optional number of sequences per alignment.  It will return a single\n",
      "    MultipleSeqAlignment object (or raise an exception if there isn't just one\n",
      "    alignment):\n",
      "    \n",
      "    >>> from Bio import AlignIO\n",
      "    >>> align = AlignIO.read(\"Phylip/interlaced.phy\", \"phylip\")\n",
      "    >>> print(align)\n",
      "    Alignment with 3 rows and 384 columns\n",
      "    -----MKVILLFVLAVFTVFVSS---------------RGIPPE...I-- CYS1_DICDI\n",
      "    MAHARVLLLALAVLATAAVAVASSSSFADSNPIRPVTDRAASTL...VAA ALEU_HORVU\n",
      "    ------MWATLPLLCAGAWLLGV--------PVCGAAELSVNSL...PLV CATH_HUMAN\n",
      "    \n",
      "    For the general case, when the handle could contain any number of alignments,\n",
      "    use the function Bio.AlignIO.parse(...) which takes the same arguments, but\n",
      "    returns an iterator giving MultipleSeqAlignment objects (typically used in a\n",
      "    for loop). If you want random access to the alignments by number, turn this\n",
      "    into a list:\n",
      "    \n",
      "    >>> from Bio import AlignIO\n",
      "    >>> alignments = list(AlignIO.parse(\"Emboss/needle.txt\", \"emboss\"))\n",
      "    >>> print(alignments[2])\n",
      "    Alignment with 2 rows and 120 columns\n",
      "    -KILIVDDQYGIRILLNEVFNKEGYQTFQAANGLQALDIVTKER...--- ref_rec\n",
      "    LHIVVVDDDPGTCVYIESVFAELGHTCKSFVRPEAAEEYILTHP...HKE gi|94967506|receiver\n",
      "    \n",
      "    Most alignment file formats can be concatenated so as to hold as many\n",
      "    different multiple sequence alignments as possible.  One common example\n",
      "    is the output of the tool seqboot in the PHLYIP suite.  Sometimes there\n",
      "    can be a file header and footer, as seen in the EMBOSS alignment output.\n",
      "    \n",
      "    Output\n",
      "    ------\n",
      "    Use the function Bio.AlignIO.write(...), which takes a complete set of\n",
      "    Alignment objects (either as a list, or an iterator), an output file handle\n",
      "    (or filename in recent versions of Biopython) and of course the file format::\n",
      "    \n",
      "        from Bio import AlignIO\n",
      "        alignments = ...\n",
      "        count = SeqIO.write(alignments, \"example.faa\", \"fasta\")\n",
      "    \n",
      "    If using a handle make sure to close it to flush the data to the disk::\n",
      "    \n",
      "        from Bio import AlignIO\n",
      "        alignments = ...\n",
      "        with open(\"example.faa\", \"w\") as handle:\n",
      "            count = SeqIO.write(alignments, handle, \"fasta\")\n",
      "    \n",
      "    In general, you are expected to call this function once (with all your\n",
      "    alignments) and then close the file handle.  However, for file formats\n",
      "    like PHYLIP where multiple alignments are stored sequentially (with no file\n",
      "    header and footer), then multiple calls to the write function should work as\n",
      "    expected when using handles.\n",
      "    \n",
      "    If you are using a filename, the repeated calls to the write functions will\n",
      "    overwrite the existing file each time.\n",
      "    \n",
      "    Conversion\n",
      "    ----------\n",
      "    The Bio.AlignIO.convert(...) function allows an easy interface for simple\n",
      "    alignment file format conversions. Additionally, it may use file format\n",
      "    specific optimisations so this should be the fastest way too.\n",
      "    \n",
      "    In general however, you can combine the Bio.AlignIO.parse(...) function with\n",
      "    the Bio.AlignIO.write(...) function for sequence file conversion. Using\n",
      "    generator expressions provides a memory efficient way to perform filtering or\n",
      "    other extra operations as part of the process.\n",
      "    \n",
      "    File Formats\n",
      "    ------------\n",
      "    When specifying the file format, use lowercase strings.  The same format\n",
      "    names are also used in Bio.SeqIO and include the following:\n",
      "    \n",
      "      - clustal -   Output from Clustal W or X.\n",
      "      - emboss    - EMBOSS tools' \"pairs\" and \"simple\" alignment formats.\n",
      "      - fasta     - The generic sequence file format where each record starts with\n",
      "        an identifier line starting with a \">\" character, followed by\n",
      "        lines of sequence.\n",
      "      - fasta-m10 - For the pairwise alignments output by Bill Pearson's FASTA\n",
      "        tools when used with the -m 10 command line option for machine\n",
      "        readable output.\n",
      "      - ig        - The IntelliGenetics file format, apparently the same as the\n",
      "        MASE alignment format.\n",
      "      - msf       - The GCG MSF alignment format, originally from PileUp tool.\n",
      "      - nexus     - Output from NEXUS, see also the module Bio.Nexus which can also\n",
      "        read any phylogenetic trees in these files.\n",
      "      - phylip    - Interlaced PHYLIP, as used by the PHYLIP tools.\n",
      "      - phylip-sequential - Sequential PHYLIP.\n",
      "      - phylip-relaxed - PHYLIP like format allowing longer names.\n",
      "      - stockholm - A richly annotated alignment file format used by PFAM.\n",
      "      - mauve - Output from progressiveMauve/Mauve\n",
      "    \n",
      "    Note that while Bio.AlignIO can read all the above file formats, it cannot\n",
      "    write to all of them.\n",
      "    \n",
      "    You can also use any file format supported by Bio.SeqIO, such as \"fasta\" or\n",
      "    \"ig\" (which are listed above), PROVIDED the sequences in your file are all the\n",
      "    same length.\n",
      "\n",
      "PACKAGE CONTENTS\n",
      "    ClustalIO\n",
      "    EmbossIO\n",
      "    FastaIO\n",
      "    Interfaces\n",
      "    MafIO\n",
      "    MauveIO\n",
      "    MsfIO\n",
      "    NexusIO\n",
      "    PhylipIO\n",
      "    StockholmIO\n",
      "\n",
      "FUNCTIONS\n",
      "    convert(in_file, in_format, out_file, out_format, molecule_type=None)\n",
      "        Convert between two alignment files, returns number of alignments.\n",
      "        \n",
      "        Arguments:\n",
      "         - in_file - an input handle or filename\n",
      "         - in_format - input file format, lower case string\n",
      "         - output - an output handle or filename\n",
      "         - out_file - output file format, lower case string\n",
      "         - molecule_type - optional molecule type to apply, string containing\n",
      "           \"DNA\", \"RNA\" or \"protein\".\n",
      "        \n",
      "        **NOTE** - If you provide an output filename, it will be opened which will\n",
      "        overwrite any existing file without warning. This may happen if even the\n",
      "        conversion is aborted (e.g. an invalid out_format name is given).\n",
      "        \n",
      "        Some output formats require the molecule type be specified where this\n",
      "        cannot be determined by the parser. For example, converting to FASTA,\n",
      "        Clustal, or PHYLIP format to NEXUS:\n",
      "        \n",
      "        >>> from io import StringIO\n",
      "        >>> from Bio import AlignIO\n",
      "        >>> handle = StringIO()\n",
      "        >>> AlignIO.convert(\"Phylip/horses.phy\", \"phylip\", handle, \"nexus\", \"DNA\")\n",
      "        1\n",
      "        >>> print(handle.getvalue())\n",
      "        #NEXUS\n",
      "        begin data;\n",
      "        dimensions ntax=10 nchar=40;\n",
      "        format datatype=dna missing=? gap=-;\n",
      "        matrix\n",
      "        Mesohippus   AAAAAAAAAAAAAAAAAAAAAAAAAAAAAAAAAAAAAAAA\n",
      "        Hypohippus   AAACCCCCCCAAAAAAAAACAAAAAAAAAAAAAAAAAAAA\n",
      "        Archaeohip   CAAAAAAAAAAAAAAAACACAAAAAAAAAAAAAAAAAAAA\n",
      "        Parahippus   CAAACAACAACAAAAAAAACAAAAAAAAAAAAAAAAAAAA\n",
      "        Merychippu   CCAACCACCACCCCACACCCAAAAAAAAAAAAAAAAAAAA\n",
      "        'M. secundu' CCAACCACCACCCACACCCCAAAAAAAAAAAAAAAAAAAA\n",
      "        Nannipus     CCAACCACAACCCCACACCCAAAAAAAAAAAAAAAAAAAA\n",
      "        Neohippari   CCAACCCCCCCCCCACACCCAAAAAAAAAAAAAAAAAAAA\n",
      "        Calippus     CCAACCACAACCCACACCCCAAAAAAAAAAAAAAAAAAAA\n",
      "        Pliohippus   CCCACCCCCCCCCACACCCCAAAAAAAAAAAAAAAAAAAA\n",
      "        ;\n",
      "        end;\n",
      "        <BLANKLINE>\n",
      "    \n",
      "    parse(handle, format, seq_count=None)\n",
      "        Iterate over an alignment file as MultipleSeqAlignment objects.\n",
      "        \n",
      "        Arguments:\n",
      "         - handle    - handle to the file, or the filename as a string\n",
      "           (note older versions of Biopython only took a handle).\n",
      "         - format    - string describing the file format.\n",
      "         - seq_count - Optional integer, number of sequences expected in each\n",
      "           alignment.  Recommended for fasta format files.\n",
      "        \n",
      "        If you have the file name in a string 'filename', use:\n",
      "        \n",
      "        >>> from Bio import AlignIO\n",
      "        >>> filename = \"Emboss/needle.txt\"\n",
      "        >>> format = \"emboss\"\n",
      "        >>> for alignment in AlignIO.parse(filename, format):\n",
      "        ...     print(\"Alignment of length %i\" % alignment.get_alignment_length())\n",
      "        Alignment of length 124\n",
      "        Alignment of length 119\n",
      "        Alignment of length 120\n",
      "        Alignment of length 118\n",
      "        Alignment of length 125\n",
      "        \n",
      "        If you have a string 'data' containing the file contents, use::\n",
      "        \n",
      "          from Bio import AlignIO\n",
      "          from io import StringIO\n",
      "          my_iterator = AlignIO.parse(StringIO(data), format)\n",
      "        \n",
      "        Use the Bio.AlignIO.read() function when you expect a single record only.\n",
      "    \n",
      "    read(handle, format, seq_count=None)\n",
      "        Turn an alignment file into a single MultipleSeqAlignment object.\n",
      "        \n",
      "        Arguments:\n",
      "         - handle    - handle to the file, or the filename as a string\n",
      "           (note older versions of Biopython only took a handle).\n",
      "         - format    - string describing the file format.\n",
      "         - seq_count - Optional integer, number of sequences expected in each\n",
      "           alignment.  Recommended for fasta format files.\n",
      "        \n",
      "        If the handle contains no alignments, or more than one alignment,\n",
      "        an exception is raised.  For example, using a PFAM/Stockholm file\n",
      "        containing one alignment:\n",
      "        \n",
      "        >>> from Bio import AlignIO\n",
      "        >>> filename = \"Clustalw/protein.aln\"\n",
      "        >>> format = \"clustal\"\n",
      "        >>> alignment = AlignIO.read(filename, format)\n",
      "        >>> print(\"Alignment of length %i\" % alignment.get_alignment_length())\n",
      "        Alignment of length 411\n",
      "        \n",
      "        If however you want the first alignment from a file containing\n",
      "        multiple alignments this function would raise an exception.\n",
      "        \n",
      "        >>> from Bio import AlignIO\n",
      "        >>> filename = \"Emboss/needle.txt\"\n",
      "        >>> format = \"emboss\"\n",
      "        >>> alignment = AlignIO.read(filename, format)\n",
      "        Traceback (most recent call last):\n",
      "            ...\n",
      "        ValueError: More than one record found in handle\n",
      "        \n",
      "        Instead use:\n",
      "        \n",
      "        >>> from Bio import AlignIO\n",
      "        >>> filename = \"Emboss/needle.txt\"\n",
      "        >>> format = \"emboss\"\n",
      "        >>> alignment = next(AlignIO.parse(filename, format))\n",
      "        >>> print(\"First alignment has length %i\" % alignment.get_alignment_length())\n",
      "        First alignment has length 124\n",
      "        \n",
      "        You must use the Bio.AlignIO.parse() function if you want to read multiple\n",
      "        records from the handle.\n",
      "    \n",
      "    write(alignments, handle, format)\n",
      "        Write complete set of alignments to a file.\n",
      "        \n",
      "        Arguments:\n",
      "         - alignments - A list (or iterator) of MultipleSeqAlignment objects,\n",
      "           or a single alignment object.\n",
      "         - handle    - File handle object to write to, or filename as string\n",
      "           (note older versions of Biopython only took a handle).\n",
      "         - format    - lower case string describing the file format to write.\n",
      "        \n",
      "        You should close the handle after calling this function.\n",
      "        \n",
      "        Returns the number of alignments written (as an integer).\n",
      "\n",
      "FILE\n",
      "    /opt/miniconda3/lib/python3.9/site-packages/Bio/AlignIO/__init__.py\n",
      "\n",
      "\n"
     ]
    }
   ],
   "source": [
    "help(AlignIO)"
   ]
  },
  {
   "cell_type": "markdown",
   "metadata": {},
   "source": [
    "### 1) Leggere l'allineamento in input"
   ]
  },
  {
   "cell_type": "markdown",
   "metadata": {},
   "source": [
    "Il package `AlignIO` mette a disposizione la funzione `read` per leggere un file contenente un allineamento:\n",
    "\n",
    "       AlignIO.read(input_file_name, format)\n",
    "       \n",
    "e restituisce un oggetto `MultipleSeqAlignment` che è un oggetto iterabile contenente oggetti `SeqRecord`, un oggetto per ognuna delle righe dell'allineamento letto."
   ]
  },
  {
   "cell_type": "code",
   "execution_count": 62,
   "metadata": {},
   "outputs": [],
   "source": [
    "alignment = AlignIO.read('./mafft-alignments.clustalw', 'clustal')"
   ]
  },
  {
   "cell_type": "code",
   "execution_count": 63,
   "metadata": {},
   "outputs": [
    {
     "data": {
      "text/plain": [
       "<<class 'Bio.Align.MultipleSeqAlignment'> instance (14 records of length 29903) at 110086e20>"
      ]
     },
     "execution_count": 63,
     "metadata": {},
     "output_type": "execute_result"
    }
   ],
   "source": [
    "alignment"
   ]
  },
  {
   "cell_type": "markdown",
   "metadata": {},
   "source": [
    "Ottenere la lunghezza dell'allineamento letto, intesa come numero di colonne della matrice di allineamento, tramite il metodo `get_alignment_length()` dell'oggetto `MultipleSeqAlignment`."
   ]
  },
  {
   "cell_type": "code",
   "execution_count": 64,
   "metadata": {},
   "outputs": [
    {
     "data": {
      "text/plain": [
       "29903"
      ]
     },
     "execution_count": 64,
     "metadata": {},
     "output_type": "execute_result"
    }
   ],
   "source": [
    "alignment.get_alignment_length()"
   ]
  },
  {
   "cell_type": "markdown",
   "metadata": {},
   "source": [
    "Trasformare l'allineamento in una lista di oggetti `SeqRecord`."
   ]
  },
  {
   "cell_type": "code",
   "execution_count": 65,
   "metadata": {},
   "outputs": [],
   "source": [
    "alignment = list(alignment)"
   ]
  },
  {
   "cell_type": "code",
   "execution_count": 66,
   "metadata": {},
   "outputs": [
    {
     "data": {
      "text/plain": [
       "[SeqRecord(seq=Seq('ATTAAAGGTTTATACCTTCCCAGGTAACAAACCAACCAACTTTCGATCTCTTGT...AAA'), id='NC_045512.2', name='<unknown name>', description='NC_045512.2', dbxrefs=[]),\n",
       " SeqRecord(seq=Seq('---------------------AGGTAACAAACCNACCAACTTTCGATCTCTTGT...AAA'), id='OL700521.1', name='<unknown name>', description='OL700521.1', dbxrefs=[]),\n",
       " SeqRecord(seq=Seq('---------------CTTCCCAGGTAACAAACCAACCAACTTTCGATCTCTTGT...AAA'), id='OL700526.1', name='<unknown name>', description='OL700526.1', dbxrefs=[]),\n",
       " SeqRecord(seq=Seq('----------------------------------------------TCTCTTGT...AAA'), id='OL700531.1', name='<unknown name>', description='OL700531.1', dbxrefs=[]),\n",
       " SeqRecord(seq=Seq('----------------------------------------------TCTCTTGT...---'), id='OL700532.1', name='<unknown name>', description='OL700532.1', dbxrefs=[]),\n",
       " SeqRecord(seq=Seq('----------------------------------------------TCTCTTGT...---'), id='OL700537.1', name='<unknown name>', description='OL700537.1', dbxrefs=[]),\n",
       " SeqRecord(seq=Seq('----------------------------------------------TCTCTTGT...AAA'), id='OL700524.1', name='<unknown name>', description='OL700524.1', dbxrefs=[]),\n",
       " SeqRecord(seq=Seq('----------------------------------------------TCTCTTGT...AAA'), id='OL700530.1', name='<unknown name>', description='OL700530.1', dbxrefs=[]),\n",
       " SeqRecord(seq=Seq('----------------------------------------------TCTCTTGT...AAA'), id='OL700538.1', name='<unknown name>', description='OL700538.1', dbxrefs=[]),\n",
       " SeqRecord(seq=Seq('----------------------------------------------TCTCTTGT...---'), id='OL700543.1', name='<unknown name>', description='OL700543.1', dbxrefs=[]),\n",
       " SeqRecord(seq=Seq('-----------------TCCCAGGTAACAAACCAACCAACTTTCGATCTCTTGT...---'), id='OL700544.1', name='<unknown name>', description='OL700544.1', dbxrefs=[]),\n",
       " SeqRecord(seq=Seq('----------------------------------------------TCTCTTGT...AAA'), id='OL700541.1', name='<unknown name>', description='OL700541.1', dbxrefs=[]),\n",
       " SeqRecord(seq=Seq('----------------------------------------------TCTCTTGT...AAA'), id='OL700533.1', name='<unknown name>', description='OL700533.1', dbxrefs=[]),\n",
       " SeqRecord(seq=Seq('-----------------TCCCAGGTAACAAACCAACCAACTTTCGATCTCTTGT...---'), id='OL700545.1', name='<unknown name>', description='OL700545.1', dbxrefs=[])]"
      ]
     },
     "execution_count": 66,
     "metadata": {},
     "output_type": "execute_result"
    }
   ],
   "source": [
    "alignment"
   ]
  },
  {
   "cell_type": "markdown",
   "metadata": {},
   "source": [
    "### 2) Eliminare dall'allineamento i gap iniziali.\n",
    "\n",
    "Trovare il più lungo prefisso di soli simboli `-` presente nelle righe dell'allineamento. Supponendo che tale prefisso sia lungo `g`, eliminare da ogni riga dell'allineamento il prefisso di lunghezza `g`.\n",
    "\n",
    "Ad esempio il seguente allineamento composto da tre righe:\n",
    "\n",
    "    GTATGTGTCATGTTTTTGCTA\n",
    "    --ATGTGTCATG-TTT-----\n",
    "    ----GTGTCATGTTTTTG---\n",
    "    \n",
    "presenta un più lungo prefisso di soli simboli `-` di lunghezza `g=4` (terza riga). Eliminando da tutte le righe un prefisso di lunghezza 4 si ottiene:\n",
    "\n",
    "        GTGTCATGTTTTTGCTA\n",
    "        GTGTCATG-TTT-----\n",
    "        GTGTCATGTTTTTG---"
   ]
  },
  {
   "cell_type": "markdown",
   "metadata": {},
   "source": [
    "a) Estrarre la lista dei gap iniziali come lista di liste."
   ]
  },
  {
   "cell_type": "code",
   "execution_count": 67,
   "metadata": {},
   "outputs": [],
   "source": [
    "import re"
   ]
  },
  {
   "cell_type": "code",
   "execution_count": 68,
   "metadata": {},
   "outputs": [],
   "source": [
    "gap_list = [re.findall(r'^-*', str(row.seq)) for row in alignment]"
   ]
  },
  {
   "cell_type": "code",
   "execution_count": 69,
   "metadata": {},
   "outputs": [
    {
     "data": {
      "text/plain": [
       "[[''],\n",
       " ['---------------------'],\n",
       " ['---------------'],\n",
       " ['----------------------------------------------'],\n",
       " ['----------------------------------------------'],\n",
       " ['----------------------------------------------'],\n",
       " ['----------------------------------------------'],\n",
       " ['----------------------------------------------'],\n",
       " ['----------------------------------------------'],\n",
       " ['----------------------------------------------'],\n",
       " ['-----------------'],\n",
       " ['----------------------------------------------'],\n",
       " ['----------------------------------------------'],\n",
       " ['-----------------']]"
      ]
     },
     "execution_count": 69,
     "metadata": {},
     "output_type": "execute_result"
    }
   ],
   "source": [
    "gap_list"
   ]
  },
  {
   "cell_type": "markdown",
   "metadata": {},
   "source": [
    "b) Estrarre la lista dei gap come lista di stringhe."
   ]
  },
  {
   "cell_type": "code",
   "execution_count": 70,
   "metadata": {},
   "outputs": [],
   "source": [
    "gap_list = [gap[0] for gap in gap_list]"
   ]
  },
  {
   "cell_type": "code",
   "execution_count": 71,
   "metadata": {},
   "outputs": [
    {
     "data": {
      "text/plain": [
       "['',\n",
       " '---------------------',\n",
       " '---------------',\n",
       " '----------------------------------------------',\n",
       " '----------------------------------------------',\n",
       " '----------------------------------------------',\n",
       " '----------------------------------------------',\n",
       " '----------------------------------------------',\n",
       " '----------------------------------------------',\n",
       " '----------------------------------------------',\n",
       " '-----------------',\n",
       " '----------------------------------------------',\n",
       " '----------------------------------------------',\n",
       " '-----------------']"
      ]
     },
     "execution_count": 71,
     "metadata": {},
     "output_type": "execute_result"
    }
   ],
   "source": [
    "gap_list"
   ]
  },
  {
   "cell_type": "markdown",
   "metadata": {},
   "source": [
    "c) Determinare la lista delle lunghezze dei gap."
   ]
  },
  {
   "cell_type": "code",
   "execution_count": 72,
   "metadata": {},
   "outputs": [],
   "source": [
    "gap_size_list = [len(gap) for gap in gap_list]"
   ]
  },
  {
   "cell_type": "code",
   "execution_count": 73,
   "metadata": {},
   "outputs": [
    {
     "data": {
      "text/plain": [
       "[0, 21, 15, 46, 46, 46, 46, 46, 46, 46, 17, 46, 46, 17]"
      ]
     },
     "execution_count": 73,
     "metadata": {},
     "output_type": "execute_result"
    }
   ],
   "source": [
    "gap_size_list"
   ]
  },
  {
   "cell_type": "markdown",
   "metadata": {},
   "source": [
    "d) Estrarre la massima lunghezza dei gap."
   ]
  },
  {
   "cell_type": "code",
   "execution_count": 74,
   "metadata": {},
   "outputs": [],
   "source": [
    "max_leading_gap_length = max(gap_size_list)"
   ]
  },
  {
   "cell_type": "code",
   "execution_count": 75,
   "metadata": {},
   "outputs": [
    {
     "data": {
      "text/plain": [
       "46"
      ]
     },
     "execution_count": 75,
     "metadata": {},
     "output_type": "execute_result"
    }
   ],
   "source": [
    "max_leading_gap_length"
   ]
  },
  {
   "cell_type": "markdown",
   "metadata": {},
   "source": [
    "e) Rimuovere dalle righe dell'allineamento un prefisso di lunghezza pari a quella trovata."
   ]
  },
  {
   "cell_type": "code",
   "execution_count": 76,
   "metadata": {},
   "outputs": [],
   "source": [
    "alignment = [row[max_leading_gap_length:] for row in alignment]"
   ]
  },
  {
   "cell_type": "code",
   "execution_count": 77,
   "metadata": {},
   "outputs": [
    {
     "data": {
      "text/plain": [
       "[SeqRecord(seq=Seq('TCTCTTGTAGATCTGTTCTCTAAACGAACTTTAAAATCTGTGTGGCTGTCACTC...AAA'), id='NC_045512.2', name='<unknown name>', description='NC_045512.2', dbxrefs=[]),\n",
       " SeqRecord(seq=Seq('TCTCTTGTAGATCTGTTCTCTAAACGAACTTTAAAATCTGTGTGGCTGTCACTC...AAA'), id='OL700521.1', name='<unknown name>', description='OL700521.1', dbxrefs=[]),\n",
       " SeqRecord(seq=Seq('TCTCTTGTAGATCTGTTCTCTAAACGAACTTTAAAATCTGTGTGGCTGTCACTC...AAA'), id='OL700526.1', name='<unknown name>', description='OL700526.1', dbxrefs=[]),\n",
       " SeqRecord(seq=Seq('TCTCTTGTAGATCTGTTCTCTAAACGAACTTTAAAATCTGTGTGGCTGTCACTC...AAA'), id='OL700531.1', name='<unknown name>', description='OL700531.1', dbxrefs=[]),\n",
       " SeqRecord(seq=Seq('TCTCTTGTAGATCTGTTCTCTAAACGAACTTTAAAATCTGTGTGGCTGTCACTC...---'), id='OL700532.1', name='<unknown name>', description='OL700532.1', dbxrefs=[]),\n",
       " SeqRecord(seq=Seq('TCTCTTGTAGATCTGTTCTCTAAACGAACTTTAAAATCTGTGTGGCTGTCACTC...---'), id='OL700537.1', name='<unknown name>', description='OL700537.1', dbxrefs=[]),\n",
       " SeqRecord(seq=Seq('TCTCTTGTAGATCTGTTCTCTAAACGAACTTTAAAATCTGTGTGGCTGTCACTC...AAA'), id='OL700524.1', name='<unknown name>', description='OL700524.1', dbxrefs=[]),\n",
       " SeqRecord(seq=Seq('TCTCTTGTAGATCTGTTCTCTAAACGAACTTTAAAATCTGTGTGGCTGTCACTC...AAA'), id='OL700530.1', name='<unknown name>', description='OL700530.1', dbxrefs=[]),\n",
       " SeqRecord(seq=Seq('TCTCTTGTAGATCTGTTCTCTAAACGAACTTTAAAATCTGTGTGGCTGTCACTC...AAA'), id='OL700538.1', name='<unknown name>', description='OL700538.1', dbxrefs=[]),\n",
       " SeqRecord(seq=Seq('TCTCTTGTAGATCTGTTCTCTAAACGAACTTTAAAATCTGTGTGGCTGTCACTC...---'), id='OL700543.1', name='<unknown name>', description='OL700543.1', dbxrefs=[]),\n",
       " SeqRecord(seq=Seq('TCTCTTGTAGATCTGTTCTCTAAACGAACTTTAAAATCTGTGTGGCTGTCACTC...---'), id='OL700544.1', name='<unknown name>', description='OL700544.1', dbxrefs=[]),\n",
       " SeqRecord(seq=Seq('TCTCTTGTAGATCTGTTCTCTAAACGAACTTTAAAATCTGTGTGGCTGTCACTC...AAA'), id='OL700541.1', name='<unknown name>', description='OL700541.1', dbxrefs=[]),\n",
       " SeqRecord(seq=Seq('TCTCTTGTAGATCTGTTCTCTAAACGAACTTTAAAATCTGTGTGGCTGTCACTC...AAA'), id='OL700533.1', name='<unknown name>', description='OL700533.1', dbxrefs=[]),\n",
       " SeqRecord(seq=Seq('TCTCTTGTAGATCTGTTCTCTAAACGAACTTTAAAATCTGTGTGGCTGTCACTC...---'), id='OL700545.1', name='<unknown name>', description='OL700545.1', dbxrefs=[])]"
      ]
     },
     "execution_count": 77,
     "metadata": {},
     "output_type": "execute_result"
    }
   ],
   "source": [
    "alignment"
   ]
  },
  {
   "cell_type": "markdown",
   "metadata": {},
   "source": [
    "### 3) Eliminare dall'allineamento i gap finali.\n",
    "\n",
    "Trovare il più lungo suffisso di soli simboli `-` presente nelle righe dell'allineamento. Supponendo che tale suffisso sia lungo `g`, eliminare da ogni riga dell'allineamento il suffisso di lunghezza `g`.\n",
    "\n",
    "Ad esempio il seguente allineamento composto da tre righe:\n",
    "\n",
    "        GTGTCATGTTTTTGCTA\n",
    "        GTGTCATG-TTT-----\n",
    "        GTGTCATGTTTTTG---\n",
    "        \n",
    "presenta un più lungo suffisso di soli simboli `-` di lunghezza `g=5` (seconda riga). Eliminando da tutte le righe un suffisso di lunghezza 5 si ottiene:\n",
    "\n",
    "        GTGTCATGTTTT\n",
    "        GTGTCATG-TTT\n",
    "        GTGTCATGTTTT"
   ]
  },
  {
   "cell_type": "markdown",
   "metadata": {},
   "source": [
    "a) Estrarre la lista dei gap finali come lista di liste."
   ]
  },
  {
   "cell_type": "code",
   "execution_count": 78,
   "metadata": {},
   "outputs": [],
   "source": [
    "gap_list = [re.findall(r'-*$', str(row.seq)) for row in alignment]"
   ]
  },
  {
   "cell_type": "code",
   "execution_count": 79,
   "metadata": {},
   "outputs": [
    {
     "data": {
      "text/plain": [
       "[[''],\n",
       " [''],\n",
       " [''],\n",
       " [''],\n",
       " ['-------------------------------------------------------------------------------------------',\n",
       "  ''],\n",
       " ['--------------------------------------------------------------------------------------------------------',\n",
       "  ''],\n",
       " [''],\n",
       " [''],\n",
       " [''],\n",
       " ['-----------------------------------------------------------------------',\n",
       "  ''],\n",
       " ['--------------------------------------------------------------', ''],\n",
       " [''],\n",
       " [''],\n",
       " ['---------------------------', '']]"
      ]
     },
     "execution_count": 79,
     "metadata": {},
     "output_type": "execute_result"
    }
   ],
   "source": [
    "gap_list"
   ]
  },
  {
   "cell_type": "markdown",
   "metadata": {},
   "source": [
    "b) Estrarre la lista dei gap come lista di stringhe."
   ]
  },
  {
   "cell_type": "code",
   "execution_count": 80,
   "metadata": {},
   "outputs": [],
   "source": [
    "gap_list = [gap[0] for gap in gap_list]"
   ]
  },
  {
   "cell_type": "code",
   "execution_count": 81,
   "metadata": {},
   "outputs": [
    {
     "data": {
      "text/plain": [
       "['',\n",
       " '',\n",
       " '',\n",
       " '',\n",
       " '-------------------------------------------------------------------------------------------',\n",
       " '--------------------------------------------------------------------------------------------------------',\n",
       " '',\n",
       " '',\n",
       " '',\n",
       " '-----------------------------------------------------------------------',\n",
       " '--------------------------------------------------------------',\n",
       " '',\n",
       " '',\n",
       " '---------------------------']"
      ]
     },
     "execution_count": 81,
     "metadata": {},
     "output_type": "execute_result"
    }
   ],
   "source": [
    "gap_list"
   ]
  },
  {
   "cell_type": "markdown",
   "metadata": {},
   "source": [
    "c) Determinare la lista delle lunghezze dei gap."
   ]
  },
  {
   "cell_type": "code",
   "execution_count": 82,
   "metadata": {},
   "outputs": [],
   "source": [
    "gap_size_list = [len(gap) for gap in gap_list]"
   ]
  },
  {
   "cell_type": "code",
   "execution_count": 83,
   "metadata": {},
   "outputs": [
    {
     "data": {
      "text/plain": [
       "[0, 0, 0, 0, 91, 104, 0, 0, 0, 71, 62, 0, 0, 27]"
      ]
     },
     "execution_count": 83,
     "metadata": {},
     "output_type": "execute_result"
    }
   ],
   "source": [
    "gap_size_list"
   ]
  },
  {
   "cell_type": "markdown",
   "metadata": {},
   "source": [
    "d) Estrarre la massima lunghezza dei gap."
   ]
  },
  {
   "cell_type": "code",
   "execution_count": 84,
   "metadata": {},
   "outputs": [],
   "source": [
    "max_trailing_gap_length = max(gap_size_list)"
   ]
  },
  {
   "cell_type": "code",
   "execution_count": 85,
   "metadata": {},
   "outputs": [
    {
     "data": {
      "text/plain": [
       "104"
      ]
     },
     "execution_count": 85,
     "metadata": {},
     "output_type": "execute_result"
    }
   ],
   "source": [
    "max_trailing_gap_length"
   ]
  },
  {
   "cell_type": "markdown",
   "metadata": {},
   "source": [
    "e) Rimuovere dalle righe dell'allineamento un suffisso di lunghezza pari a quella trovata."
   ]
  },
  {
   "cell_type": "code",
   "execution_count": 86,
   "metadata": {},
   "outputs": [],
   "source": [
    "alignment = [row[:-max_trailing_gap_length] for row in alignment]"
   ]
  },
  {
   "cell_type": "code",
   "execution_count": 87,
   "metadata": {},
   "outputs": [
    {
     "data": {
      "text/plain": [
       "[SeqRecord(seq=Seq('TCTCTTGTAGATCTGTTCTCTAAACGAACTTTAAAATCTGTGTGGCTGTCACTC...AGA'), id='NC_045512.2', name='<unknown name>', description='NC_045512.2', dbxrefs=[]),\n",
       " SeqRecord(seq=Seq('TCTCTTGTAGATCTGTTCTCTAAACGAACTTTAAAATCTGTGTGGCTGTCACTC...AGA'), id='OL700521.1', name='<unknown name>', description='OL700521.1', dbxrefs=[]),\n",
       " SeqRecord(seq=Seq('TCTCTTGTAGATCTGTTCTCTAAACGAACTTTAAAATCTGTGTGGCTGTCACTC...AGA'), id='OL700526.1', name='<unknown name>', description='OL700526.1', dbxrefs=[]),\n",
       " SeqRecord(seq=Seq('TCTCTTGTAGATCTGTTCTCTAAACGAACTTTAAAATCTGTGTGGCTGTCACTC...AGA'), id='OL700531.1', name='<unknown name>', description='OL700531.1', dbxrefs=[]),\n",
       " SeqRecord(seq=Seq('TCTCTTGTAGATCTGTTCTCTAAACGAACTTTAAAATCTGTGTGGCTGTCACTC...AGA'), id='OL700532.1', name='<unknown name>', description='OL700532.1', dbxrefs=[]),\n",
       " SeqRecord(seq=Seq('TCTCTTGTAGATCTGTTCTCTAAACGAACTTTAAAATCTGTGTGGCTGTCACTC...AGA'), id='OL700537.1', name='<unknown name>', description='OL700537.1', dbxrefs=[]),\n",
       " SeqRecord(seq=Seq('TCTCTTGTAGATCTGTTCTCTAAACGAACTTTAAAATCTGTGTGGCTGTCACTC...AGA'), id='OL700524.1', name='<unknown name>', description='OL700524.1', dbxrefs=[]),\n",
       " SeqRecord(seq=Seq('TCTCTTGTAGATCTGTTCTCTAAACGAACTTTAAAATCTGTGTGGCTGTCACTC...AGA'), id='OL700530.1', name='<unknown name>', description='OL700530.1', dbxrefs=[]),\n",
       " SeqRecord(seq=Seq('TCTCTTGTAGATCTGTTCTCTAAACGAACTTTAAAATCTGTGTGGCTGTCACTC...AGA'), id='OL700538.1', name='<unknown name>', description='OL700538.1', dbxrefs=[]),\n",
       " SeqRecord(seq=Seq('TCTCTTGTAGATCTGTTCTCTAAACGAACTTTAAAATCTGTGTGGCTGTCACTC...AGA'), id='OL700543.1', name='<unknown name>', description='OL700543.1', dbxrefs=[]),\n",
       " SeqRecord(seq=Seq('TCTCTTGTAGATCTGTTCTCTAAACGAACTTTAAAATCTGTGTGGCTGTCACTC...AGA'), id='OL700544.1', name='<unknown name>', description='OL700544.1', dbxrefs=[]),\n",
       " SeqRecord(seq=Seq('TCTCTTGTAGATCTGTTCTCTAAACGAACTTTAAAATCTGTGTGGCTGTCACTC...AGA'), id='OL700541.1', name='<unknown name>', description='OL700541.1', dbxrefs=[]),\n",
       " SeqRecord(seq=Seq('TCTCTTGTAGATCTGTTCTCTAAACGAACTTTAAAATCTGTGTGGCTGTCACTC...AGA'), id='OL700533.1', name='<unknown name>', description='OL700533.1', dbxrefs=[]),\n",
       " SeqRecord(seq=Seq('TCTCTTGTAGATCTGTTCTCTAAACGAACTTTAAAATCTGTGTGGCTGTCACTC...AGA'), id='OL700545.1', name='<unknown name>', description='OL700545.1', dbxrefs=[])]"
      ]
     },
     "execution_count": 87,
     "metadata": {},
     "output_type": "execute_result"
    }
   ],
   "source": [
    "alignment"
   ]
  },
  {
   "cell_type": "markdown",
   "metadata": {},
   "source": [
    "### 4) Creare il *data frame* delle variazioni\n",
    "\n",
    "a) Creare il dizionario dei dati\n",
    "\n",
    "- `key`: posizione (1-based) della colonna di variazione all'interno dell'allineamento\n",
    "\n",
    "- `value`: lista delle basi coinvolte nella variazione (il primo elemento si riferisce al *reference*). Se un genoma non presenta differenza rispetto al *reference*, deve essere  inserita la stringa vuota.\n",
    "\n",
    "Non tenere conto di basi ambigue."
   ]
  },
  {
   "cell_type": "code",
   "execution_count": 88,
   "metadata": {},
   "outputs": [],
   "source": [
    "df_data = {}"
   ]
  },
  {
   "cell_type": "markdown",
   "metadata": {},
   "source": [
    "Estrarre la riga del *reference* (e rimuoverla dall'allineamento)."
   ]
  },
  {
   "cell_type": "code",
   "execution_count": 89,
   "metadata": {},
   "outputs": [],
   "source": [
    "reference = alignment.pop(0)"
   ]
  },
  {
   "cell_type": "code",
   "execution_count": 90,
   "metadata": {},
   "outputs": [
    {
     "data": {
      "text/plain": [
       "SeqRecord(seq=Seq('TCTCTTGTAGATCTGTTCTCTAAACGAACTTTAAAATCTGTGTGGCTGTCACTC...AGA'), id='NC_045512.2', name='<unknown name>', description='NC_045512.2', dbxrefs=[])"
      ]
     },
     "execution_count": 90,
     "metadata": {},
     "output_type": "execute_result"
    }
   ],
   "source": [
    "reference"
   ]
  },
  {
   "cell_type": "code",
   "execution_count": 93,
   "metadata": {},
   "outputs": [],
   "source": [
    "for (i,c) in enumerate(reference):\n",
    "    variant_list = [(j, row[i]) for (j, row) in enumerate(alignment) if row[i] != c and row[i] in ['A', 'C', 'G', 'T', '-']]\n",
    "    if variant_list != []:\n",
    "        df_variant_list = [variant[1] for variant in variant_list]\n",
    "        \n",
    "        all_index_set = set(range(len(alignment)))\n",
    "        variant_index_set = set(variant[0] for variant in variant_list)\n",
    "        \n",
    "        non_variant_index_set = all_index_set.difference(variant_index_set)\n",
    "        \n",
    "        for index in non_variant_index_set:\n",
    "            df_variant_list.insert(index, '')\n",
    "            \n",
    "        df_variant_list.insert(0, c)\n",
    "        \n",
    "        df_data[i+max_leading_gap_length+1] = df_variant_list"
   ]
  },
  {
   "cell_type": "code",
   "execution_count": 94,
   "metadata": {},
   "outputs": [
    {
     "data": {
      "text/plain": [
       "{186: ['C', '', '', '', '', 'T', '', '', '', '', '', '', '', ''],\n",
       " 210: ['G', 'T', 'T', 'T', 'T', 'T', 'T', 'T', 'T', 'T', 'T', 'T', 'T', 'T'],\n",
       " 241: ['C', 'T', 'T', 'T', 'T', 'T', 'T', 'T', 'T', 'T', 'T', 'T', 'T', 'T'],\n",
       " 521: ['G', '', '', '', '', '', '', '', '', '', '', '', '-', ''],\n",
       " 522: ['T', '', '', '', '', '', '', '', '', '', '', '', '-', ''],\n",
       " 523: ['T', '', '', '', '', '', '', '', '', '', '', '', '-', ''],\n",
       " 1048: ['G', '', '', 'T', '', '', '', '', '', '', '', '', '', ''],\n",
       " 1244: ['G', '', '', '', '', '', '', '', '', '', 'A', '', '', ''],\n",
       " 1371: ['A', '', '', '', '', '', '', '', '', '', '', 'G', '', ''],\n",
       " 1616: ['C', '', '', '', '', '', '', '', '', '', '', '', 'A', ''],\n",
       " 1684: ['C', '', '', '', '', '', '', '', '', '', '', '', 'T', 'T'],\n",
       " 1843: ['G', '', '', '', '', '', '', '', '', '', '', 'T', '', ''],\n",
       " 1889: ['C', '', '', '', '', '', '', '', '', 'T', '', '', '', ''],\n",
       " 2462: ['C', '', '', '', 'T', '', '', '', '', '', '', '', '', ''],\n",
       " 2929: ['A', '', '', '', '', '', '', '', '', '', '', 'G', '', ''],\n",
       " 3037: ['C', 'T', 'T', 'T', 'T', 'T', 'T', 'T', 'T', 'T', 'T', 'T', 'T', 'T'],\n",
       " 3096: ['C', '', '', '', '', '', '', '', 'T', '', '', '', '', ''],\n",
       " 3259: ['G', '', '', '', '', 'T', '', '', '', '', '', '', '', ''],\n",
       " 3792: ['C', '', '', '', '', '', '', '', '', '', '', 'T', '', ''],\n",
       " 3923: ['C', '', '', '', '', '', '', '', '', 'T', '', '', '', ''],\n",
       " 3948: ['A', '', '', '', '', '', '', 'G', '', '', '', '', '', ''],\n",
       " 4181: ['G', 'T', 'T', 'T', 'T', 'T', 'T', 'T', 'T', 'T', 'T', 'T', '', ''],\n",
       " 4201: ['G', '', '', '', '', '', '', '', '', '', '', '', '', 'T'],\n",
       " 4414: ['A', '', '', '', 'G', '', '', '', '', '', '', '', '', ''],\n",
       " 5164: ['G', '', '', '', '', '', '', '', '', '', '', '', 'T', 'T'],\n",
       " 5184: ['C', '', '', '', '', '', '', '', '', '', '', '', 'T', 'T'],\n",
       " 5192: ['C', '', '', '', '', 'T', '', '', '', '', '', '', '', ''],\n",
       " 5213: ['T', '', '', '', 'C', '', '', '', '', '', '', '', '', ''],\n",
       " 5284: ['C', '', '', '', '', '', '', '', '', 'T', '', '', '', ''],\n",
       " 5584: ['A', '', '', '', '', '', '', '', '', '', '', '', 'G', 'G'],\n",
       " 6013: ['A', '', '', '', '', '', '', 'G', '', '', '', '', '', ''],\n",
       " 6040: ['C', '', '', '', '', '', '', '', '', '', '', 'T', '', ''],\n",
       " 6402: ['C', 'T', 'T', 'T', 'T', 'T', 'T', 'T', 'T', 'T', 'T', 'T', '', ''],\n",
       " 6408: ['C', 'T', '', '', '', '', '', '', '', '', '', '', '', ''],\n",
       " 6616: ['A', '', '', '', '', '', '', '', '', '', '', '', 'G', ''],\n",
       " 6865: ['G', '', '', '', '', '', '', '', 'T', '', '', '', '', ''],\n",
       " 7124: ['C', 'T', 'T', 'T', 'T', 'T', 'T', 'T', 'T', 'T', 'T', 'T', '', ''],\n",
       " 7393: ['G', '', '', '', '', '', '', '', '', '', '', '', 'T', ''],\n",
       " 7926: ['C', '', '', '', '', '', '', '', '', '', '', 'T', '', ''],\n",
       " 8131: ['G', '', '', '', '', '', '', '', '', '', '', '', 'T', ''],\n",
       " 8174: ['G', '', '', '', 'A', '', '', '', '', '', '', '', '', ''],\n",
       " 8349: ['G', '', '', '', '', 'A', '', '', '', '', '', '', '', ''],\n",
       " 8642: ['G', '', '', '', '', '', '', '', '', '', '', '', '', 'A'],\n",
       " 8829: ['C', '', '', '', '', '', '', '', '', 'T', 'T', '', '', ''],\n",
       " 8956: ['C', '', '', '', '', 'T', '', '', '', '', '', '', '', ''],\n",
       " 8964: ['C', '', '', '', '', '', '', '', '', '', 'T', '', '', ''],\n",
       " 8986: ['C', 'T', 'T', 'T', 'T', 'T', 'T', 'T', 'T', 'T', 'T', 'T', '', ''],\n",
       " 9053: ['G', 'T', 'T', 'T', 'T', 'T', 'T', 'T', 'T', 'T', 'T', 'T', '', ''],\n",
       " 9072: ['C', '', '', '', '', 'T', '', '', '', '', '', '', '', ''],\n",
       " 9194: ['A', '', '', '', '', '', '', '', '', '', '', '', '', 'G'],\n",
       " 9868: ['T', '', 'C', '', '', '', '', '', '', '', '', '', '', ''],\n",
       " 9891: ['C', '', '', '', '', '', '', '', '', '', '', '', 'T', 'T'],\n",
       " 10029: ['C', 'T', 'T', 'T', 'T', 'T', 'T', 'T', 'T', 'T', 'T', 'T', '', ''],\n",
       " 10171: ['A', '', '', '', '', '', 'G', '', '', '', '', '', '', ''],\n",
       " 11083: ['G', '', '', '', '', '', '', '', '', '', '', '', 'T', ''],\n",
       " 11201: ['A', 'G', 'G', 'G', 'G', 'G', 'G', 'G', 'G', 'G', 'G', 'G', '', ''],\n",
       " 11332: ['A', 'G', 'G', 'G', 'G', 'G', 'G', 'G', 'G', 'G', 'G', 'G', '', ''],\n",
       " 11418: ['T', '', '', '', '', '', '', '', '', '', '', '', 'C', 'C'],\n",
       " 11456: ['A', '', '', '', 'G', '', 'G', '', '', '', '', '', '', ''],\n",
       " 11514: ['C', '', '', '', '', '', '', '', '', '', '', '', 'T', 'T'],\n",
       " 11562: ['G', '', '', '', '', '', '', 'T', '', '', '', '', '', ''],\n",
       " 11669: ['C', '', '', '', '', '', '', '', 'T', '', '', '', '', ''],\n",
       " 11956: ['C', '', '', '', '', '', '', '', '', '', '', '', '', 'T'],\n",
       " 12049: ['C', '', '', '', '', '', '', '', 'T', '', '', '', 'T', 'T'],\n",
       " 12115: ['C', '', '', '', '', '', '', 'T', '', '', '', '', '', ''],\n",
       " 12793: ['G', '', '', '', '', '', '', '', '', 'T', 'T', '', '', ''],\n",
       " 13019: ['C', '', '', '', '', '', '', '', '', '', '', '', 'T', 'T'],\n",
       " 14014: ['T', '', '', '', '', '', '', '', '', '', '', 'G', '', ''],\n",
       " 14408: ['C', 'T', 'T', 'T', 'T', 'T', 'T', 'T', 'T', 'T', 'T', 'T', 'T', 'T'],\n",
       " 14599: ['C', '', '', '', '', '', '', '', '', 'T', '', '', '', ''],\n",
       " 14925: ['C', '', '', '', '', '', '', '', 'T', '', '', '', '', ''],\n",
       " 15120: ['C', '', '', '', '', '', '', '', '', '', '', '', '', 'T'],\n",
       " 15240: ['C', '', '', '', '', '', '', 'T', 'T', '', '', '', '', ''],\n",
       " 15451: ['G', 'A', 'A', 'A', 'A', 'A', 'A', 'A', 'A', 'A', 'A', 'A', 'A', 'A'],\n",
       " 15982: ['G', '', '', 'A', '', '', '', '', '', '', '', '', '', 'T'],\n",
       " 16466: ['C', 'T', 'T', 'T', 'T', 'T', 'T', 'T', 'T', 'T', 'T', 'T', 'T', 'T'],\n",
       " 17236: ['A', 'G', 'G', '', '', 'G', '', '', '', '', '', '', '', ''],\n",
       " 17763: ['T', '', '', '', '', '', '', '', '', '', 'C', '', '', ''],\n",
       " 18360: ['A', '', 'G', '', '', '', '', '', '', '', '', '', '', ''],\n",
       " 18468: ['A', '', '', 'G', '', '', '', '', '', '', '', '', '', ''],\n",
       " 18657: ['C', '', '', '', '', 'T', '', '', '', '', '', '', '', ''],\n",
       " 19006: ['G', '', '', '', '', '', '', '', '', 'T', 'T', '', '', ''],\n",
       " 19017: ['C', '', '', '', 'T', '', '', '', '', '', '', '', '', ''],\n",
       " 19170: ['C', '', '', '', '', '', '', 'T', '', '', '', '', '', ''],\n",
       " 19220: ['C', 'T', 'T', 'T', 'T', 'T', 'T', 'T', 'T', 'T', 'T', 'T', '', ''],\n",
       " 19524: ['C', '', '', '', '', '', '', '', '', '', 'T', '', '', ''],\n",
       " 19969: ['G', '', '', '', 'T', '', '', '', '', '', '', '', '', ''],\n",
       " 19983: ['C', '', '', 'T', '', '', '', '', '', '', '', '', '', ''],\n",
       " 20937: ['G', '', '', 'T', '', '', '', '', '', '', '', '', '', ''],\n",
       " 21058: ['C', '', '', '', 'T', '', 'T', '', '', '', '', '', '', ''],\n",
       " 21137: ['A', '', '', '', '', '', '', '', 'G', '', '', '', '', ''],\n",
       " 21618: ['C', 'G', 'G', 'G', 'G', 'G', 'G', 'G', 'G', 'G', 'G', 'G', 'G', 'G'],\n",
       " 21776: ['G', '', '', '', '', 'T', '', '', '', '', '', '', '', ''],\n",
       " 21800: ['G', 'T', '', '', '', '', '', '', '', '', '', '', '', ''],\n",
       " 21846: ['C', '', '', '', '', '', '', '', 'T', 'T', 'T', '', '', 'T'],\n",
       " 21859: ['C', '', '', '', '', '', '', 'T', '', '', '', '', '', ''],\n",
       " 21987: ['G', 'A', 'A', 'A', 'A', 'A', 'A', 'A', 'A', 'A', 'A', 'A', 'A', 'A'],\n",
       " 22000: ['C', '', '', 'T', '', '', '', '', '', '', '', '', '', ''],\n",
       " 22029: ['A', '-', '-', '-', '-', '-', '-', '-', '-', '-', '-', '-', '-', '-'],\n",
       " 22030: ['G', '-', '-', '-', '-', '-', '-', '-', '-', '-', '-', '-', '-', '-'],\n",
       " 22031: ['T', '-', '-', '-', '-', '-', '-', '-', '-', '-', '-', '-', '-', '-'],\n",
       " 22032: ['T', '-', '-', '-', '-', '-', '-', '-', '-', '-', '-', '-', '-', '-'],\n",
       " 22033: ['C', '-', '-', '-', '-', '-', '-', '-', '-', '-', '-', '-', '-', '-'],\n",
       " 22034: ['A', '-', '-', '-', '-', '-', '-', '-', '-', '-', '-', '-', '-', '-'],\n",
       " 22227: ['C', '', '', '', '', '', '', '', '', '', '', '', 'T', 'T'],\n",
       " 22335: ['G', '', '', '', '', '', 'T', '', '', '', '', '', '', ''],\n",
       " 22427: ['G', '', '', '', '', '', '', '', '', '', '', '', 'A', 'A'],\n",
       " 22917: ['T', 'G', 'G', 'G', 'G', 'G', 'G', 'G', 'G', 'G', 'G', 'G', 'G', 'G'],\n",
       " 22995: ['C', 'A', 'A', 'A', 'A', 'A', 'A', 'A', 'A', 'A', 'A', 'A', 'A', 'A'],\n",
       " 23284: ['T', '', '', '', 'C', '', 'C', '', '', '', '', '', '', ''],\n",
       " 23403: ['A', 'G', 'G', 'G', 'G', 'G', 'G', 'G', 'G', 'G', 'G', 'G', 'G', 'G'],\n",
       " 23587: ['G', '', '', '', '', '', '', '', '', 'C', 'C', '', '', ''],\n",
       " 23604: ['C', 'G', 'G', 'G', 'G', 'G', 'G', 'G', 'G', 'G', 'G', 'G', 'G', 'G'],\n",
       " 24110: ['A', '', '', '', '', '', '', '', 'C', '', '', '', '', ''],\n",
       " 24208: ['C', 'T', 'T', '', '', 'T', '', '', '', '', '', '', '', ''],\n",
       " 24280: ['T', '', '', '', '', 'C', '', '', '', '', '', '', '', ''],\n",
       " 24410: ['G', 'A', 'A', 'A', 'A', 'A', 'A', 'A', 'A', 'A', 'A', 'A', 'A', 'A'],\n",
       " 24989: ['C', '', 'T', '', '', '', '', '', '', '', '', '', '', ''],\n",
       " 25088: ['G', '', '', '', '', '', '', '', '', 'T', '', '', '', ''],\n",
       " 25339: ['C', '', '', '', 'T', '', 'T', '', '', '', '', '', '', ''],\n",
       " 25439: ['A', '', '', '', '', '', '', '', 'C', '', '', '', '', ''],\n",
       " 25469: ['C', 'T', 'T', 'T', 'T', 'T', 'T', 'T', 'T', 'T', 'T', 'T', 'T', 'T'],\n",
       " 25553: ['C', '', '', '', '', '', 'T', '', '', '', '', '', '', ''],\n",
       " 25658: ['C', '', '', '', '', '', '', 'T', '', '', '', '', '', ''],\n",
       " 25702: ['C', '', 'T', '', '', '', '', '', '', '', '', '', '', ''],\n",
       " 25913: ['G', '', '', '', '', '', '', '', 'A', '', '', '', '', ''],\n",
       " 26107: ['G', '', '', '', '', '', '', 'C', '', '', '', '', '', ''],\n",
       " 26144: ['G', '', '', '', '', '', 'A', '', '', '', '', '', '', ''],\n",
       " 26146: ['T', '', '', '', '', '', '', '', 'C', '', '', '', '', ''],\n",
       " 26514: ['A', '', '', 'G', '', '', '', '', '', '', '', '', '', ''],\n",
       " 26753: ['C', '', '', '', '', '', '', '', '', '', '', '', 'T', ''],\n",
       " 26767: ['T', 'C', 'C', 'C', 'C', 'C', 'C', 'C', 'C', 'C', 'C', 'C', 'C', 'C'],\n",
       " 26951: ['G', '', '', '', '', '', '', '', '', '', '', 'C', '', ''],\n",
       " 27005: ['C', '', '', '', '', 'T', '', '', '', '', '', '', '', ''],\n",
       " 27507: ['A', '', '', '', '', '', '', 'C', '', '', '', '', '', ''],\n",
       " 27527: ['C', '', '', 'T', '', '', '', '', '', '', '', '', '', ''],\n",
       " 27539: ['T', '', '', '', '', '', '', '', 'C', '', '', '', '', ''],\n",
       " 27603: ['C', '', '', '', '', '', '', '', '', 'T', '', '', '', ''],\n",
       " 27625: ['C', '', 'T', '', '', '', '', '', '', '', '', '', '', ''],\n",
       " 27638: ['T', 'C', 'C', 'C', 'C', 'C', 'C', 'C', 'C', 'C', 'C', 'C', 'C', 'C'],\n",
       " 27752: ['C', 'T', 'T', 'T', 'T', 'T', 'T', 'T', 'T', 'T', 'T', 'T', 'T', 'T'],\n",
       " 27874: ['C', 'T', 'T', 'T', 'T', 'T', 'T', 'T', 'T', 'T', 'T', 'T', '', ''],\n",
       " 27916: ['G', '', '', '', '', '', 'T', '', '', '', '', '', '', ''],\n",
       " 27999: ['C', '', '', '', '', 'T', '', '', '', '', '', '', '', ''],\n",
       " 28086: ['G', '', '', 'T', '', '', '', '', '', '', '', '', '', ''],\n",
       " 28153: ['C', '', '', '', '', '', '', '', '', '', '', '', 'T', ''],\n",
       " 28236: ['C', '', '', '', '', '', '', '', '', '', '', 'T', '', ''],\n",
       " 28248: ['G', '-', '-', '-', '-', '-', '-', '-', '-', '-', '-', '-', '-', '-'],\n",
       " 28249: ['A', '-', '-', '-', '-', '-', '-', '-', '-', '-', '-', '-', '-', '-'],\n",
       " 28250: ['T', '-', '-', '-', '-', '-', '-', '-', '-', '-', '-', '-', '-', '-'],\n",
       " 28251: ['T', '-', '-', '-', '-', '-', '-', '-', '-', '-', '-', '-', '-', '-'],\n",
       " 28252: ['T', '-', '-', '-', '-', '-', '-', '-', '-', '-', '-', '-', '-', '-'],\n",
       " 28253: ['C', '-', '-', '-', '-', '-', '-', '-', '-', '-', '-', '-', '-', '-'],\n",
       " 28271: ['A', '-', '-', '-', '-', '-', '-', '-', '-', '-', '-', '-', '-', '-'],\n",
       " 28326: ['G', '', '', '', '', '', '', '', '', '', '', '', 'T', 'T'],\n",
       " 28461: ['A', 'G', 'G', 'G', 'G', 'G', 'G', 'G', 'G', 'G', 'G', 'G', 'G', 'G'],\n",
       " 28657: ['C', '', '', '', '', '', 'T', '', '', '', '', '', '', ''],\n",
       " 28748: ['C', '', '', '', '', '', '', '', 'T', '', '', '', '', ''],\n",
       " 28881: ['G', 'T', 'T', 'T', 'T', 'T', 'T', 'T', 'T', 'T', 'T', 'T', 'T', 'T'],\n",
       " 28895: ['G', '', 'T', '', '', '', '', '', '', '', '', '', '', ''],\n",
       " 28916: ['G', 'T', 'T', 'T', 'T', 'T', 'T', 'T', 'T', 'T', 'T', 'T', '', ''],\n",
       " 29050: ['G', '', '', '', 'A', '', 'A', '', '', '', '', '', '', ''],\n",
       " 29095: ['C', '', '', '', '', '', '', '', 'T', '', '', '', '', ''],\n",
       " 29119: ['C', '', '', '', '', '', '', '', '', 'T', '', '', '', ''],\n",
       " 29402: ['G', 'T', 'T', 'T', 'T', 'T', 'T', 'T', 'T', 'T', 'T', 'T', 'T', 'T'],\n",
       " 29409: ['C', '', '', '', '', '', '', '', '', '', '', '', '', 'T'],\n",
       " 29509: ['C', '', '', '', 'T', '', 'T', '', '', '', '', '', '', ''],\n",
       " 29543: ['G', '', '', '', 'T', '', '', '', '', '', '', '', '', ''],\n",
       " 29648: ['G', '', '', '', '', '', 'T', '', '', '', '', '', '', ''],\n",
       " 29700: ['A', '', '', '', '', '', '', '', '', '', '', 'G', '', ''],\n",
       " 29742: ['G', 'T', 'T', 'T', 'T', 'T', 'T', 'T', 'T', 'T', 'T', 'T', 'T', 'T'],\n",
       " 29781: ['G', '', '', '', '', '', '', '', '', 'T', '', '', '', '']}"
      ]
     },
     "execution_count": 94,
     "metadata": {},
     "output_type": "execute_result"
    }
   ],
   "source": [
    "df_data"
   ]
  },
  {
   "cell_type": "markdown",
   "metadata": {},
   "source": [
    "b) Determinare la lista degli identificatori dei genomi da usare come indici (chiavi primarie)."
   ]
  },
  {
   "cell_type": "code",
   "execution_count": 96,
   "metadata": {},
   "outputs": [
    {
     "data": {
      "text/plain": [
       "SeqRecord(seq=Seq('TCTCTTGTAGATCTGTTCTCTAAACGAACTTTAAAATCTGTGTGGCTGTCACTC...AGA'), id='NC_045512.2', name='<unknown name>', description='NC_045512.2', dbxrefs=[])"
      ]
     },
     "execution_count": 96,
     "metadata": {},
     "output_type": "execute_result"
    }
   ],
   "source": [
    "reference"
   ]
  },
  {
   "cell_type": "code",
   "execution_count": 95,
   "metadata": {},
   "outputs": [
    {
     "data": {
      "text/plain": [
       "[SeqRecord(seq=Seq('TCTCTTGTAGATCTGTTCTCTAAACGAACTTTAAAATCTGTGTGGCTGTCACTC...AGA'), id='OL700521.1', name='<unknown name>', description='OL700521.1', dbxrefs=[]),\n",
       " SeqRecord(seq=Seq('TCTCTTGTAGATCTGTTCTCTAAACGAACTTTAAAATCTGTGTGGCTGTCACTC...AGA'), id='OL700526.1', name='<unknown name>', description='OL700526.1', dbxrefs=[]),\n",
       " SeqRecord(seq=Seq('TCTCTTGTAGATCTGTTCTCTAAACGAACTTTAAAATCTGTGTGGCTGTCACTC...AGA'), id='OL700531.1', name='<unknown name>', description='OL700531.1', dbxrefs=[]),\n",
       " SeqRecord(seq=Seq('TCTCTTGTAGATCTGTTCTCTAAACGAACTTTAAAATCTGTGTGGCTGTCACTC...AGA'), id='OL700532.1', name='<unknown name>', description='OL700532.1', dbxrefs=[]),\n",
       " SeqRecord(seq=Seq('TCTCTTGTAGATCTGTTCTCTAAACGAACTTTAAAATCTGTGTGGCTGTCACTC...AGA'), id='OL700537.1', name='<unknown name>', description='OL700537.1', dbxrefs=[]),\n",
       " SeqRecord(seq=Seq('TCTCTTGTAGATCTGTTCTCTAAACGAACTTTAAAATCTGTGTGGCTGTCACTC...AGA'), id='OL700524.1', name='<unknown name>', description='OL700524.1', dbxrefs=[]),\n",
       " SeqRecord(seq=Seq('TCTCTTGTAGATCTGTTCTCTAAACGAACTTTAAAATCTGTGTGGCTGTCACTC...AGA'), id='OL700530.1', name='<unknown name>', description='OL700530.1', dbxrefs=[]),\n",
       " SeqRecord(seq=Seq('TCTCTTGTAGATCTGTTCTCTAAACGAACTTTAAAATCTGTGTGGCTGTCACTC...AGA'), id='OL700538.1', name='<unknown name>', description='OL700538.1', dbxrefs=[]),\n",
       " SeqRecord(seq=Seq('TCTCTTGTAGATCTGTTCTCTAAACGAACTTTAAAATCTGTGTGGCTGTCACTC...AGA'), id='OL700543.1', name='<unknown name>', description='OL700543.1', dbxrefs=[]),\n",
       " SeqRecord(seq=Seq('TCTCTTGTAGATCTGTTCTCTAAACGAACTTTAAAATCTGTGTGGCTGTCACTC...AGA'), id='OL700544.1', name='<unknown name>', description='OL700544.1', dbxrefs=[]),\n",
       " SeqRecord(seq=Seq('TCTCTTGTAGATCTGTTCTCTAAACGAACTTTAAAATCTGTGTGGCTGTCACTC...AGA'), id='OL700541.1', name='<unknown name>', description='OL700541.1', dbxrefs=[]),\n",
       " SeqRecord(seq=Seq('TCTCTTGTAGATCTGTTCTCTAAACGAACTTTAAAATCTGTGTGGCTGTCACTC...AGA'), id='OL700533.1', name='<unknown name>', description='OL700533.1', dbxrefs=[]),\n",
       " SeqRecord(seq=Seq('TCTCTTGTAGATCTGTTCTCTAAACGAACTTTAAAATCTGTGTGGCTGTCACTC...AGA'), id='OL700545.1', name='<unknown name>', description='OL700545.1', dbxrefs=[])]"
      ]
     },
     "execution_count": 95,
     "metadata": {},
     "output_type": "execute_result"
    }
   ],
   "source": [
    "alignment"
   ]
  },
  {
   "cell_type": "code",
   "execution_count": 108,
   "metadata": {},
   "outputs": [],
   "source": [
    "index_list = [row.id for row in alignment]"
   ]
  },
  {
   "cell_type": "code",
   "execution_count": 109,
   "metadata": {},
   "outputs": [
    {
     "data": {
      "text/plain": [
       "['OL700521.1',\n",
       " 'OL700526.1',\n",
       " 'OL700531.1',\n",
       " 'OL700532.1',\n",
       " 'OL700537.1',\n",
       " 'OL700524.1',\n",
       " 'OL700530.1',\n",
       " 'OL700538.1',\n",
       " 'OL700543.1',\n",
       " 'OL700544.1',\n",
       " 'OL700541.1',\n",
       " 'OL700533.1',\n",
       " 'OL700545.1']"
      ]
     },
     "execution_count": 109,
     "metadata": {},
     "output_type": "execute_result"
    }
   ],
   "source": [
    "index_list"
   ]
  },
  {
   "cell_type": "code",
   "execution_count": 110,
   "metadata": {},
   "outputs": [],
   "source": [
    "index_list.insert(0, reference.id)"
   ]
  },
  {
   "cell_type": "code",
   "execution_count": 111,
   "metadata": {},
   "outputs": [
    {
     "data": {
      "text/plain": [
       "['NC_045512.2',\n",
       " 'OL700521.1',\n",
       " 'OL700526.1',\n",
       " 'OL700531.1',\n",
       " 'OL700532.1',\n",
       " 'OL700537.1',\n",
       " 'OL700524.1',\n",
       " 'OL700530.1',\n",
       " 'OL700538.1',\n",
       " 'OL700543.1',\n",
       " 'OL700544.1',\n",
       " 'OL700541.1',\n",
       " 'OL700533.1',\n",
       " 'OL700545.1']"
      ]
     },
     "execution_count": 111,
     "metadata": {},
     "output_type": "execute_result"
    }
   ],
   "source": [
    "index_list"
   ]
  },
  {
   "cell_type": "markdown",
   "metadata": {},
   "source": [
    "c) Creare il data frame\n",
    "\n",
    "    df = pd.DataFrame(df_data, index = index_list)"
   ]
  },
  {
   "cell_type": "code",
   "execution_count": 112,
   "metadata": {},
   "outputs": [],
   "source": [
    "import pandas as pd"
   ]
  },
  {
   "cell_type": "code",
   "execution_count": 113,
   "metadata": {},
   "outputs": [],
   "source": [
    "df = pd.DataFrame(df_data, index = index_list)"
   ]
  },
  {
   "cell_type": "code",
   "execution_count": 114,
   "metadata": {},
   "outputs": [
    {
     "data": {
      "text/html": [
       "<div>\n",
       "<style scoped>\n",
       "    .dataframe tbody tr th:only-of-type {\n",
       "        vertical-align: middle;\n",
       "    }\n",
       "\n",
       "    .dataframe tbody tr th {\n",
       "        vertical-align: top;\n",
       "    }\n",
       "\n",
       "    .dataframe thead th {\n",
       "        text-align: right;\n",
       "    }\n",
       "</style>\n",
       "<table border=\"1\" class=\"dataframe\">\n",
       "  <thead>\n",
       "    <tr style=\"text-align: right;\">\n",
       "      <th></th>\n",
       "      <th>186</th>\n",
       "      <th>210</th>\n",
       "      <th>241</th>\n",
       "      <th>521</th>\n",
       "      <th>522</th>\n",
       "      <th>523</th>\n",
       "      <th>1048</th>\n",
       "      <th>1244</th>\n",
       "      <th>1371</th>\n",
       "      <th>1616</th>\n",
       "      <th>...</th>\n",
       "      <th>29095</th>\n",
       "      <th>29119</th>\n",
       "      <th>29402</th>\n",
       "      <th>29409</th>\n",
       "      <th>29509</th>\n",
       "      <th>29543</th>\n",
       "      <th>29648</th>\n",
       "      <th>29700</th>\n",
       "      <th>29742</th>\n",
       "      <th>29781</th>\n",
       "    </tr>\n",
       "  </thead>\n",
       "  <tbody>\n",
       "    <tr>\n",
       "      <th>NC_045512.2</th>\n",
       "      <td>C</td>\n",
       "      <td>G</td>\n",
       "      <td>C</td>\n",
       "      <td>G</td>\n",
       "      <td>T</td>\n",
       "      <td>T</td>\n",
       "      <td>G</td>\n",
       "      <td>G</td>\n",
       "      <td>A</td>\n",
       "      <td>C</td>\n",
       "      <td>...</td>\n",
       "      <td>C</td>\n",
       "      <td>C</td>\n",
       "      <td>G</td>\n",
       "      <td>C</td>\n",
       "      <td>C</td>\n",
       "      <td>G</td>\n",
       "      <td>G</td>\n",
       "      <td>A</td>\n",
       "      <td>G</td>\n",
       "      <td>G</td>\n",
       "    </tr>\n",
       "    <tr>\n",
       "      <th>OL700521.1</th>\n",
       "      <td></td>\n",
       "      <td>T</td>\n",
       "      <td>T</td>\n",
       "      <td></td>\n",
       "      <td></td>\n",
       "      <td></td>\n",
       "      <td></td>\n",
       "      <td></td>\n",
       "      <td></td>\n",
       "      <td></td>\n",
       "      <td>...</td>\n",
       "      <td></td>\n",
       "      <td></td>\n",
       "      <td>T</td>\n",
       "      <td></td>\n",
       "      <td></td>\n",
       "      <td></td>\n",
       "      <td></td>\n",
       "      <td></td>\n",
       "      <td>T</td>\n",
       "      <td></td>\n",
       "    </tr>\n",
       "    <tr>\n",
       "      <th>OL700526.1</th>\n",
       "      <td></td>\n",
       "      <td>T</td>\n",
       "      <td>T</td>\n",
       "      <td></td>\n",
       "      <td></td>\n",
       "      <td></td>\n",
       "      <td></td>\n",
       "      <td></td>\n",
       "      <td></td>\n",
       "      <td></td>\n",
       "      <td>...</td>\n",
       "      <td></td>\n",
       "      <td></td>\n",
       "      <td>T</td>\n",
       "      <td></td>\n",
       "      <td></td>\n",
       "      <td></td>\n",
       "      <td></td>\n",
       "      <td></td>\n",
       "      <td>T</td>\n",
       "      <td></td>\n",
       "    </tr>\n",
       "    <tr>\n",
       "      <th>OL700531.1</th>\n",
       "      <td></td>\n",
       "      <td>T</td>\n",
       "      <td>T</td>\n",
       "      <td></td>\n",
       "      <td></td>\n",
       "      <td></td>\n",
       "      <td>T</td>\n",
       "      <td></td>\n",
       "      <td></td>\n",
       "      <td></td>\n",
       "      <td>...</td>\n",
       "      <td></td>\n",
       "      <td></td>\n",
       "      <td>T</td>\n",
       "      <td></td>\n",
       "      <td></td>\n",
       "      <td></td>\n",
       "      <td></td>\n",
       "      <td></td>\n",
       "      <td>T</td>\n",
       "      <td></td>\n",
       "    </tr>\n",
       "    <tr>\n",
       "      <th>OL700532.1</th>\n",
       "      <td></td>\n",
       "      <td>T</td>\n",
       "      <td>T</td>\n",
       "      <td></td>\n",
       "      <td></td>\n",
       "      <td></td>\n",
       "      <td></td>\n",
       "      <td></td>\n",
       "      <td></td>\n",
       "      <td></td>\n",
       "      <td>...</td>\n",
       "      <td></td>\n",
       "      <td></td>\n",
       "      <td>T</td>\n",
       "      <td></td>\n",
       "      <td>T</td>\n",
       "      <td>T</td>\n",
       "      <td></td>\n",
       "      <td></td>\n",
       "      <td>T</td>\n",
       "      <td></td>\n",
       "    </tr>\n",
       "    <tr>\n",
       "      <th>OL700537.1</th>\n",
       "      <td>T</td>\n",
       "      <td>T</td>\n",
       "      <td>T</td>\n",
       "      <td></td>\n",
       "      <td></td>\n",
       "      <td></td>\n",
       "      <td></td>\n",
       "      <td></td>\n",
       "      <td></td>\n",
       "      <td></td>\n",
       "      <td>...</td>\n",
       "      <td></td>\n",
       "      <td></td>\n",
       "      <td>T</td>\n",
       "      <td></td>\n",
       "      <td></td>\n",
       "      <td></td>\n",
       "      <td></td>\n",
       "      <td></td>\n",
       "      <td>T</td>\n",
       "      <td></td>\n",
       "    </tr>\n",
       "    <tr>\n",
       "      <th>OL700524.1</th>\n",
       "      <td></td>\n",
       "      <td>T</td>\n",
       "      <td>T</td>\n",
       "      <td></td>\n",
       "      <td></td>\n",
       "      <td></td>\n",
       "      <td></td>\n",
       "      <td></td>\n",
       "      <td></td>\n",
       "      <td></td>\n",
       "      <td>...</td>\n",
       "      <td></td>\n",
       "      <td></td>\n",
       "      <td>T</td>\n",
       "      <td></td>\n",
       "      <td>T</td>\n",
       "      <td></td>\n",
       "      <td>T</td>\n",
       "      <td></td>\n",
       "      <td>T</td>\n",
       "      <td></td>\n",
       "    </tr>\n",
       "    <tr>\n",
       "      <th>OL700530.1</th>\n",
       "      <td></td>\n",
       "      <td>T</td>\n",
       "      <td>T</td>\n",
       "      <td></td>\n",
       "      <td></td>\n",
       "      <td></td>\n",
       "      <td></td>\n",
       "      <td></td>\n",
       "      <td></td>\n",
       "      <td></td>\n",
       "      <td>...</td>\n",
       "      <td></td>\n",
       "      <td></td>\n",
       "      <td>T</td>\n",
       "      <td></td>\n",
       "      <td></td>\n",
       "      <td></td>\n",
       "      <td></td>\n",
       "      <td></td>\n",
       "      <td>T</td>\n",
       "      <td></td>\n",
       "    </tr>\n",
       "    <tr>\n",
       "      <th>OL700538.1</th>\n",
       "      <td></td>\n",
       "      <td>T</td>\n",
       "      <td>T</td>\n",
       "      <td></td>\n",
       "      <td></td>\n",
       "      <td></td>\n",
       "      <td></td>\n",
       "      <td></td>\n",
       "      <td></td>\n",
       "      <td></td>\n",
       "      <td>...</td>\n",
       "      <td>T</td>\n",
       "      <td></td>\n",
       "      <td>T</td>\n",
       "      <td></td>\n",
       "      <td></td>\n",
       "      <td></td>\n",
       "      <td></td>\n",
       "      <td></td>\n",
       "      <td>T</td>\n",
       "      <td></td>\n",
       "    </tr>\n",
       "    <tr>\n",
       "      <th>OL700543.1</th>\n",
       "      <td></td>\n",
       "      <td>T</td>\n",
       "      <td>T</td>\n",
       "      <td></td>\n",
       "      <td></td>\n",
       "      <td></td>\n",
       "      <td></td>\n",
       "      <td></td>\n",
       "      <td></td>\n",
       "      <td></td>\n",
       "      <td>...</td>\n",
       "      <td></td>\n",
       "      <td>T</td>\n",
       "      <td>T</td>\n",
       "      <td></td>\n",
       "      <td></td>\n",
       "      <td></td>\n",
       "      <td></td>\n",
       "      <td></td>\n",
       "      <td>T</td>\n",
       "      <td>T</td>\n",
       "    </tr>\n",
       "    <tr>\n",
       "      <th>OL700544.1</th>\n",
       "      <td></td>\n",
       "      <td>T</td>\n",
       "      <td>T</td>\n",
       "      <td></td>\n",
       "      <td></td>\n",
       "      <td></td>\n",
       "      <td></td>\n",
       "      <td>A</td>\n",
       "      <td></td>\n",
       "      <td></td>\n",
       "      <td>...</td>\n",
       "      <td></td>\n",
       "      <td></td>\n",
       "      <td>T</td>\n",
       "      <td></td>\n",
       "      <td></td>\n",
       "      <td></td>\n",
       "      <td></td>\n",
       "      <td></td>\n",
       "      <td>T</td>\n",
       "      <td></td>\n",
       "    </tr>\n",
       "    <tr>\n",
       "      <th>OL700541.1</th>\n",
       "      <td></td>\n",
       "      <td>T</td>\n",
       "      <td>T</td>\n",
       "      <td></td>\n",
       "      <td></td>\n",
       "      <td></td>\n",
       "      <td></td>\n",
       "      <td></td>\n",
       "      <td>G</td>\n",
       "      <td></td>\n",
       "      <td>...</td>\n",
       "      <td></td>\n",
       "      <td></td>\n",
       "      <td>T</td>\n",
       "      <td></td>\n",
       "      <td></td>\n",
       "      <td></td>\n",
       "      <td></td>\n",
       "      <td>G</td>\n",
       "      <td>T</td>\n",
       "      <td></td>\n",
       "    </tr>\n",
       "    <tr>\n",
       "      <th>OL700533.1</th>\n",
       "      <td></td>\n",
       "      <td>T</td>\n",
       "      <td>T</td>\n",
       "      <td>-</td>\n",
       "      <td>-</td>\n",
       "      <td>-</td>\n",
       "      <td></td>\n",
       "      <td></td>\n",
       "      <td></td>\n",
       "      <td>A</td>\n",
       "      <td>...</td>\n",
       "      <td></td>\n",
       "      <td></td>\n",
       "      <td>T</td>\n",
       "      <td></td>\n",
       "      <td></td>\n",
       "      <td></td>\n",
       "      <td></td>\n",
       "      <td></td>\n",
       "      <td>T</td>\n",
       "      <td></td>\n",
       "    </tr>\n",
       "    <tr>\n",
       "      <th>OL700545.1</th>\n",
       "      <td></td>\n",
       "      <td>T</td>\n",
       "      <td>T</td>\n",
       "      <td></td>\n",
       "      <td></td>\n",
       "      <td></td>\n",
       "      <td></td>\n",
       "      <td></td>\n",
       "      <td></td>\n",
       "      <td></td>\n",
       "      <td>...</td>\n",
       "      <td></td>\n",
       "      <td></td>\n",
       "      <td>T</td>\n",
       "      <td>T</td>\n",
       "      <td></td>\n",
       "      <td></td>\n",
       "      <td></td>\n",
       "      <td></td>\n",
       "      <td>T</td>\n",
       "      <td></td>\n",
       "    </tr>\n",
       "  </tbody>\n",
       "</table>\n",
       "<p>14 rows × 172 columns</p>\n",
       "</div>"
      ],
      "text/plain": [
       "            186   210   241   521   522   523   1048  1244  1371  1616   ...  \\\n",
       "NC_045512.2     C     G     C     G     T     T     G     G     A     C  ...   \n",
       "OL700521.1            T     T                                            ...   \n",
       "OL700526.1            T     T                                            ...   \n",
       "OL700531.1            T     T                       T                    ...   \n",
       "OL700532.1            T     T                                            ...   \n",
       "OL700537.1      T     T     T                                            ...   \n",
       "OL700524.1            T     T                                            ...   \n",
       "OL700530.1            T     T                                            ...   \n",
       "OL700538.1            T     T                                            ...   \n",
       "OL700543.1            T     T                                            ...   \n",
       "OL700544.1            T     T                             A              ...   \n",
       "OL700541.1            T     T                                   G        ...   \n",
       "OL700533.1            T     T     -     -     -                       A  ...   \n",
       "OL700545.1            T     T                                            ...   \n",
       "\n",
       "            29095 29119 29402 29409 29509 29543 29648 29700 29742 29781  \n",
       "NC_045512.2     C     C     G     C     C     G     G     A     G     G  \n",
       "OL700521.1                  T                                   T        \n",
       "OL700526.1                  T                                   T        \n",
       "OL700531.1                  T                                   T        \n",
       "OL700532.1                  T           T     T                 T        \n",
       "OL700537.1                  T                                   T        \n",
       "OL700524.1                  T           T           T           T        \n",
       "OL700530.1                  T                                   T        \n",
       "OL700538.1      T           T                                   T        \n",
       "OL700543.1            T     T                                   T     T  \n",
       "OL700544.1                  T                                   T        \n",
       "OL700541.1                  T                             G     T        \n",
       "OL700533.1                  T                                   T        \n",
       "OL700545.1                  T     T                             T        \n",
       "\n",
       "[14 rows x 172 columns]"
      ]
     },
     "execution_count": 114,
     "metadata": {},
     "output_type": "execute_result"
    }
   ],
   "source": [
    "df"
   ]
  },
  {
   "cell_type": "markdown",
   "metadata": {},
   "source": [
    "### 5) Estrarre il genoma con più variazioni e quello con meno variazioni"
   ]
  },
  {
   "cell_type": "markdown",
   "metadata": {},
   "source": [
    "a) Determinare la lista del numero di variazioni per genoma rispetto al riferimento."
   ]
  },
  {
   "cell_type": "code",
   "execution_count": 116,
   "metadata": {},
   "outputs": [],
   "source": [
    "variants_per_genome = [df.shape[1]-list(df.loc[index]).count('') for index in index_list[1:]]"
   ]
  },
  {
   "cell_type": "code",
   "execution_count": 117,
   "metadata": {},
   "outputs": [
    {
     "data": {
      "text/plain": [
       "[49, 53, 54, 58, 58, 58, 55, 60, 58, 54, 55, 56, 54]"
      ]
     },
     "execution_count": 117,
     "metadata": {},
     "output_type": "execute_result"
    }
   ],
   "source": [
    "variants_per_genome"
   ]
  },
  {
   "cell_type": "markdown",
   "metadata": {},
   "source": [
    "b) Estrarre il genoma con più variazioni."
   ]
  },
  {
   "cell_type": "code",
   "execution_count": 119,
   "metadata": {},
   "outputs": [
    {
     "data": {
      "text/plain": [
       "7"
      ]
     },
     "execution_count": 119,
     "metadata": {},
     "output_type": "execute_result"
    }
   ],
   "source": [
    "variants_per_genome.index(max(variants_per_genome))"
   ]
  },
  {
   "cell_type": "code",
   "execution_count": 120,
   "metadata": {},
   "outputs": [
    {
     "data": {
      "text/plain": [
       "'OL700538.1'"
      ]
     },
     "execution_count": 120,
     "metadata": {},
     "output_type": "execute_result"
    }
   ],
   "source": [
    "index_list[variants_per_genome.index(max(variants_per_genome))+1]"
   ]
  },
  {
   "cell_type": "markdown",
   "metadata": {},
   "source": [
    "c) Estrarre il genoma con meno variazioni."
   ]
  },
  {
   "cell_type": "code",
   "execution_count": 121,
   "metadata": {},
   "outputs": [
    {
     "data": {
      "text/plain": [
       "'OL700521.1'"
      ]
     },
     "execution_count": 121,
     "metadata": {},
     "output_type": "execute_result"
    }
   ],
   "source": [
    "index_list[variants_per_genome.index(min(variants_per_genome))+1]"
   ]
  },
  {
   "cell_type": "markdown",
   "metadata": {},
   "source": [
    "### 6) Estrarre il *data frame* delle variazioni \"complete\""
   ]
  },
  {
   "cell_type": "code",
   "execution_count": 123,
   "metadata": {},
   "outputs": [],
   "source": [
    "df_complete = df[[col for col in df.columns if all(df[col] != '')]]"
   ]
  },
  {
   "cell_type": "code",
   "execution_count": 124,
   "metadata": {},
   "outputs": [
    {
     "data": {
      "text/html": [
       "<div>\n",
       "<style scoped>\n",
       "    .dataframe tbody tr th:only-of-type {\n",
       "        vertical-align: middle;\n",
       "    }\n",
       "\n",
       "    .dataframe tbody tr th {\n",
       "        vertical-align: top;\n",
       "    }\n",
       "\n",
       "    .dataframe thead th {\n",
       "        text-align: right;\n",
       "    }\n",
       "</style>\n",
       "<table border=\"1\" class=\"dataframe\">\n",
       "  <thead>\n",
       "    <tr style=\"text-align: right;\">\n",
       "      <th></th>\n",
       "      <th>210</th>\n",
       "      <th>241</th>\n",
       "      <th>3037</th>\n",
       "      <th>14408</th>\n",
       "      <th>15451</th>\n",
       "      <th>16466</th>\n",
       "      <th>21618</th>\n",
       "      <th>21987</th>\n",
       "      <th>22029</th>\n",
       "      <th>22030</th>\n",
       "      <th>...</th>\n",
       "      <th>28249</th>\n",
       "      <th>28250</th>\n",
       "      <th>28251</th>\n",
       "      <th>28252</th>\n",
       "      <th>28253</th>\n",
       "      <th>28271</th>\n",
       "      <th>28461</th>\n",
       "      <th>28881</th>\n",
       "      <th>29402</th>\n",
       "      <th>29742</th>\n",
       "    </tr>\n",
       "  </thead>\n",
       "  <tbody>\n",
       "    <tr>\n",
       "      <th>NC_045512.2</th>\n",
       "      <td>G</td>\n",
       "      <td>C</td>\n",
       "      <td>C</td>\n",
       "      <td>C</td>\n",
       "      <td>G</td>\n",
       "      <td>C</td>\n",
       "      <td>C</td>\n",
       "      <td>G</td>\n",
       "      <td>A</td>\n",
       "      <td>G</td>\n",
       "      <td>...</td>\n",
       "      <td>A</td>\n",
       "      <td>T</td>\n",
       "      <td>T</td>\n",
       "      <td>T</td>\n",
       "      <td>C</td>\n",
       "      <td>A</td>\n",
       "      <td>A</td>\n",
       "      <td>G</td>\n",
       "      <td>G</td>\n",
       "      <td>G</td>\n",
       "    </tr>\n",
       "    <tr>\n",
       "      <th>OL700521.1</th>\n",
       "      <td>T</td>\n",
       "      <td>T</td>\n",
       "      <td>T</td>\n",
       "      <td>T</td>\n",
       "      <td>A</td>\n",
       "      <td>T</td>\n",
       "      <td>G</td>\n",
       "      <td>A</td>\n",
       "      <td>-</td>\n",
       "      <td>-</td>\n",
       "      <td>...</td>\n",
       "      <td>-</td>\n",
       "      <td>-</td>\n",
       "      <td>-</td>\n",
       "      <td>-</td>\n",
       "      <td>-</td>\n",
       "      <td>-</td>\n",
       "      <td>G</td>\n",
       "      <td>T</td>\n",
       "      <td>T</td>\n",
       "      <td>T</td>\n",
       "    </tr>\n",
       "    <tr>\n",
       "      <th>OL700526.1</th>\n",
       "      <td>T</td>\n",
       "      <td>T</td>\n",
       "      <td>T</td>\n",
       "      <td>T</td>\n",
       "      <td>A</td>\n",
       "      <td>T</td>\n",
       "      <td>G</td>\n",
       "      <td>A</td>\n",
       "      <td>-</td>\n",
       "      <td>-</td>\n",
       "      <td>...</td>\n",
       "      <td>-</td>\n",
       "      <td>-</td>\n",
       "      <td>-</td>\n",
       "      <td>-</td>\n",
       "      <td>-</td>\n",
       "      <td>-</td>\n",
       "      <td>G</td>\n",
       "      <td>T</td>\n",
       "      <td>T</td>\n",
       "      <td>T</td>\n",
       "    </tr>\n",
       "    <tr>\n",
       "      <th>OL700531.1</th>\n",
       "      <td>T</td>\n",
       "      <td>T</td>\n",
       "      <td>T</td>\n",
       "      <td>T</td>\n",
       "      <td>A</td>\n",
       "      <td>T</td>\n",
       "      <td>G</td>\n",
       "      <td>A</td>\n",
       "      <td>-</td>\n",
       "      <td>-</td>\n",
       "      <td>...</td>\n",
       "      <td>-</td>\n",
       "      <td>-</td>\n",
       "      <td>-</td>\n",
       "      <td>-</td>\n",
       "      <td>-</td>\n",
       "      <td>-</td>\n",
       "      <td>G</td>\n",
       "      <td>T</td>\n",
       "      <td>T</td>\n",
       "      <td>T</td>\n",
       "    </tr>\n",
       "    <tr>\n",
       "      <th>OL700532.1</th>\n",
       "      <td>T</td>\n",
       "      <td>T</td>\n",
       "      <td>T</td>\n",
       "      <td>T</td>\n",
       "      <td>A</td>\n",
       "      <td>T</td>\n",
       "      <td>G</td>\n",
       "      <td>A</td>\n",
       "      <td>-</td>\n",
       "      <td>-</td>\n",
       "      <td>...</td>\n",
       "      <td>-</td>\n",
       "      <td>-</td>\n",
       "      <td>-</td>\n",
       "      <td>-</td>\n",
       "      <td>-</td>\n",
       "      <td>-</td>\n",
       "      <td>G</td>\n",
       "      <td>T</td>\n",
       "      <td>T</td>\n",
       "      <td>T</td>\n",
       "    </tr>\n",
       "    <tr>\n",
       "      <th>OL700537.1</th>\n",
       "      <td>T</td>\n",
       "      <td>T</td>\n",
       "      <td>T</td>\n",
       "      <td>T</td>\n",
       "      <td>A</td>\n",
       "      <td>T</td>\n",
       "      <td>G</td>\n",
       "      <td>A</td>\n",
       "      <td>-</td>\n",
       "      <td>-</td>\n",
       "      <td>...</td>\n",
       "      <td>-</td>\n",
       "      <td>-</td>\n",
       "      <td>-</td>\n",
       "      <td>-</td>\n",
       "      <td>-</td>\n",
       "      <td>-</td>\n",
       "      <td>G</td>\n",
       "      <td>T</td>\n",
       "      <td>T</td>\n",
       "      <td>T</td>\n",
       "    </tr>\n",
       "    <tr>\n",
       "      <th>OL700524.1</th>\n",
       "      <td>T</td>\n",
       "      <td>T</td>\n",
       "      <td>T</td>\n",
       "      <td>T</td>\n",
       "      <td>A</td>\n",
       "      <td>T</td>\n",
       "      <td>G</td>\n",
       "      <td>A</td>\n",
       "      <td>-</td>\n",
       "      <td>-</td>\n",
       "      <td>...</td>\n",
       "      <td>-</td>\n",
       "      <td>-</td>\n",
       "      <td>-</td>\n",
       "      <td>-</td>\n",
       "      <td>-</td>\n",
       "      <td>-</td>\n",
       "      <td>G</td>\n",
       "      <td>T</td>\n",
       "      <td>T</td>\n",
       "      <td>T</td>\n",
       "    </tr>\n",
       "    <tr>\n",
       "      <th>OL700530.1</th>\n",
       "      <td>T</td>\n",
       "      <td>T</td>\n",
       "      <td>T</td>\n",
       "      <td>T</td>\n",
       "      <td>A</td>\n",
       "      <td>T</td>\n",
       "      <td>G</td>\n",
       "      <td>A</td>\n",
       "      <td>-</td>\n",
       "      <td>-</td>\n",
       "      <td>...</td>\n",
       "      <td>-</td>\n",
       "      <td>-</td>\n",
       "      <td>-</td>\n",
       "      <td>-</td>\n",
       "      <td>-</td>\n",
       "      <td>-</td>\n",
       "      <td>G</td>\n",
       "      <td>T</td>\n",
       "      <td>T</td>\n",
       "      <td>T</td>\n",
       "    </tr>\n",
       "    <tr>\n",
       "      <th>OL700538.1</th>\n",
       "      <td>T</td>\n",
       "      <td>T</td>\n",
       "      <td>T</td>\n",
       "      <td>T</td>\n",
       "      <td>A</td>\n",
       "      <td>T</td>\n",
       "      <td>G</td>\n",
       "      <td>A</td>\n",
       "      <td>-</td>\n",
       "      <td>-</td>\n",
       "      <td>...</td>\n",
       "      <td>-</td>\n",
       "      <td>-</td>\n",
       "      <td>-</td>\n",
       "      <td>-</td>\n",
       "      <td>-</td>\n",
       "      <td>-</td>\n",
       "      <td>G</td>\n",
       "      <td>T</td>\n",
       "      <td>T</td>\n",
       "      <td>T</td>\n",
       "    </tr>\n",
       "    <tr>\n",
       "      <th>OL700543.1</th>\n",
       "      <td>T</td>\n",
       "      <td>T</td>\n",
       "      <td>T</td>\n",
       "      <td>T</td>\n",
       "      <td>A</td>\n",
       "      <td>T</td>\n",
       "      <td>G</td>\n",
       "      <td>A</td>\n",
       "      <td>-</td>\n",
       "      <td>-</td>\n",
       "      <td>...</td>\n",
       "      <td>-</td>\n",
       "      <td>-</td>\n",
       "      <td>-</td>\n",
       "      <td>-</td>\n",
       "      <td>-</td>\n",
       "      <td>-</td>\n",
       "      <td>G</td>\n",
       "      <td>T</td>\n",
       "      <td>T</td>\n",
       "      <td>T</td>\n",
       "    </tr>\n",
       "    <tr>\n",
       "      <th>OL700544.1</th>\n",
       "      <td>T</td>\n",
       "      <td>T</td>\n",
       "      <td>T</td>\n",
       "      <td>T</td>\n",
       "      <td>A</td>\n",
       "      <td>T</td>\n",
       "      <td>G</td>\n",
       "      <td>A</td>\n",
       "      <td>-</td>\n",
       "      <td>-</td>\n",
       "      <td>...</td>\n",
       "      <td>-</td>\n",
       "      <td>-</td>\n",
       "      <td>-</td>\n",
       "      <td>-</td>\n",
       "      <td>-</td>\n",
       "      <td>-</td>\n",
       "      <td>G</td>\n",
       "      <td>T</td>\n",
       "      <td>T</td>\n",
       "      <td>T</td>\n",
       "    </tr>\n",
       "    <tr>\n",
       "      <th>OL700541.1</th>\n",
       "      <td>T</td>\n",
       "      <td>T</td>\n",
       "      <td>T</td>\n",
       "      <td>T</td>\n",
       "      <td>A</td>\n",
       "      <td>T</td>\n",
       "      <td>G</td>\n",
       "      <td>A</td>\n",
       "      <td>-</td>\n",
       "      <td>-</td>\n",
       "      <td>...</td>\n",
       "      <td>-</td>\n",
       "      <td>-</td>\n",
       "      <td>-</td>\n",
       "      <td>-</td>\n",
       "      <td>-</td>\n",
       "      <td>-</td>\n",
       "      <td>G</td>\n",
       "      <td>T</td>\n",
       "      <td>T</td>\n",
       "      <td>T</td>\n",
       "    </tr>\n",
       "    <tr>\n",
       "      <th>OL700533.1</th>\n",
       "      <td>T</td>\n",
       "      <td>T</td>\n",
       "      <td>T</td>\n",
       "      <td>T</td>\n",
       "      <td>A</td>\n",
       "      <td>T</td>\n",
       "      <td>G</td>\n",
       "      <td>A</td>\n",
       "      <td>-</td>\n",
       "      <td>-</td>\n",
       "      <td>...</td>\n",
       "      <td>-</td>\n",
       "      <td>-</td>\n",
       "      <td>-</td>\n",
       "      <td>-</td>\n",
       "      <td>-</td>\n",
       "      <td>-</td>\n",
       "      <td>G</td>\n",
       "      <td>T</td>\n",
       "      <td>T</td>\n",
       "      <td>T</td>\n",
       "    </tr>\n",
       "    <tr>\n",
       "      <th>OL700545.1</th>\n",
       "      <td>T</td>\n",
       "      <td>T</td>\n",
       "      <td>T</td>\n",
       "      <td>T</td>\n",
       "      <td>A</td>\n",
       "      <td>T</td>\n",
       "      <td>G</td>\n",
       "      <td>A</td>\n",
       "      <td>-</td>\n",
       "      <td>-</td>\n",
       "      <td>...</td>\n",
       "      <td>-</td>\n",
       "      <td>-</td>\n",
       "      <td>-</td>\n",
       "      <td>-</td>\n",
       "      <td>-</td>\n",
       "      <td>-</td>\n",
       "      <td>G</td>\n",
       "      <td>T</td>\n",
       "      <td>T</td>\n",
       "      <td>T</td>\n",
       "    </tr>\n",
       "  </tbody>\n",
       "</table>\n",
       "<p>14 rows × 34 columns</p>\n",
       "</div>"
      ],
      "text/plain": [
       "            210   241   3037  14408 15451 16466 21618 21987 22029 22030  ...  \\\n",
       "NC_045512.2     G     C     C     C     G     C     C     G     A     G  ...   \n",
       "OL700521.1      T     T     T     T     A     T     G     A     -     -  ...   \n",
       "OL700526.1      T     T     T     T     A     T     G     A     -     -  ...   \n",
       "OL700531.1      T     T     T     T     A     T     G     A     -     -  ...   \n",
       "OL700532.1      T     T     T     T     A     T     G     A     -     -  ...   \n",
       "OL700537.1      T     T     T     T     A     T     G     A     -     -  ...   \n",
       "OL700524.1      T     T     T     T     A     T     G     A     -     -  ...   \n",
       "OL700530.1      T     T     T     T     A     T     G     A     -     -  ...   \n",
       "OL700538.1      T     T     T     T     A     T     G     A     -     -  ...   \n",
       "OL700543.1      T     T     T     T     A     T     G     A     -     -  ...   \n",
       "OL700544.1      T     T     T     T     A     T     G     A     -     -  ...   \n",
       "OL700541.1      T     T     T     T     A     T     G     A     -     -  ...   \n",
       "OL700533.1      T     T     T     T     A     T     G     A     -     -  ...   \n",
       "OL700545.1      T     T     T     T     A     T     G     A     -     -  ...   \n",
       "\n",
       "            28249 28250 28251 28252 28253 28271 28461 28881 29402 29742  \n",
       "NC_045512.2     A     T     T     T     C     A     A     G     G     G  \n",
       "OL700521.1      -     -     -     -     -     -     G     T     T     T  \n",
       "OL700526.1      -     -     -     -     -     -     G     T     T     T  \n",
       "OL700531.1      -     -     -     -     -     -     G     T     T     T  \n",
       "OL700532.1      -     -     -     -     -     -     G     T     T     T  \n",
       "OL700537.1      -     -     -     -     -     -     G     T     T     T  \n",
       "OL700524.1      -     -     -     -     -     -     G     T     T     T  \n",
       "OL700530.1      -     -     -     -     -     -     G     T     T     T  \n",
       "OL700538.1      -     -     -     -     -     -     G     T     T     T  \n",
       "OL700543.1      -     -     -     -     -     -     G     T     T     T  \n",
       "OL700544.1      -     -     -     -     -     -     G     T     T     T  \n",
       "OL700541.1      -     -     -     -     -     -     G     T     T     T  \n",
       "OL700533.1      -     -     -     -     -     -     G     T     T     T  \n",
       "OL700545.1      -     -     -     -     -     -     G     T     T     T  \n",
       "\n",
       "[14 rows x 34 columns]"
      ]
     },
     "execution_count": 124,
     "metadata": {},
     "output_type": "execute_result"
    }
   ],
   "source": [
    "df_complete"
   ]
  },
  {
   "cell_type": "markdown",
   "metadata": {},
   "source": [
    "### 7) Estrarre il *data frame* delle variazioni \"stabili\""
   ]
  },
  {
   "cell_type": "code",
   "execution_count": 125,
   "metadata": {},
   "outputs": [],
   "source": [
    "df_stable = df_complete[[col for col in df_complete.columns if len(df_complete[col][1:].unique()) == 1]]"
   ]
  },
  {
   "cell_type": "code",
   "execution_count": 126,
   "metadata": {},
   "outputs": [
    {
     "data": {
      "text/html": [
       "<div>\n",
       "<style scoped>\n",
       "    .dataframe tbody tr th:only-of-type {\n",
       "        vertical-align: middle;\n",
       "    }\n",
       "\n",
       "    .dataframe tbody tr th {\n",
       "        vertical-align: top;\n",
       "    }\n",
       "\n",
       "    .dataframe thead th {\n",
       "        text-align: right;\n",
       "    }\n",
       "</style>\n",
       "<table border=\"1\" class=\"dataframe\">\n",
       "  <thead>\n",
       "    <tr style=\"text-align: right;\">\n",
       "      <th></th>\n",
       "      <th>210</th>\n",
       "      <th>241</th>\n",
       "      <th>3037</th>\n",
       "      <th>14408</th>\n",
       "      <th>15451</th>\n",
       "      <th>16466</th>\n",
       "      <th>21618</th>\n",
       "      <th>21987</th>\n",
       "      <th>22029</th>\n",
       "      <th>22030</th>\n",
       "      <th>...</th>\n",
       "      <th>28249</th>\n",
       "      <th>28250</th>\n",
       "      <th>28251</th>\n",
       "      <th>28252</th>\n",
       "      <th>28253</th>\n",
       "      <th>28271</th>\n",
       "      <th>28461</th>\n",
       "      <th>28881</th>\n",
       "      <th>29402</th>\n",
       "      <th>29742</th>\n",
       "    </tr>\n",
       "  </thead>\n",
       "  <tbody>\n",
       "    <tr>\n",
       "      <th>NC_045512.2</th>\n",
       "      <td>G</td>\n",
       "      <td>C</td>\n",
       "      <td>C</td>\n",
       "      <td>C</td>\n",
       "      <td>G</td>\n",
       "      <td>C</td>\n",
       "      <td>C</td>\n",
       "      <td>G</td>\n",
       "      <td>A</td>\n",
       "      <td>G</td>\n",
       "      <td>...</td>\n",
       "      <td>A</td>\n",
       "      <td>T</td>\n",
       "      <td>T</td>\n",
       "      <td>T</td>\n",
       "      <td>C</td>\n",
       "      <td>A</td>\n",
       "      <td>A</td>\n",
       "      <td>G</td>\n",
       "      <td>G</td>\n",
       "      <td>G</td>\n",
       "    </tr>\n",
       "    <tr>\n",
       "      <th>OL700521.1</th>\n",
       "      <td>T</td>\n",
       "      <td>T</td>\n",
       "      <td>T</td>\n",
       "      <td>T</td>\n",
       "      <td>A</td>\n",
       "      <td>T</td>\n",
       "      <td>G</td>\n",
       "      <td>A</td>\n",
       "      <td>-</td>\n",
       "      <td>-</td>\n",
       "      <td>...</td>\n",
       "      <td>-</td>\n",
       "      <td>-</td>\n",
       "      <td>-</td>\n",
       "      <td>-</td>\n",
       "      <td>-</td>\n",
       "      <td>-</td>\n",
       "      <td>G</td>\n",
       "      <td>T</td>\n",
       "      <td>T</td>\n",
       "      <td>T</td>\n",
       "    </tr>\n",
       "    <tr>\n",
       "      <th>OL700526.1</th>\n",
       "      <td>T</td>\n",
       "      <td>T</td>\n",
       "      <td>T</td>\n",
       "      <td>T</td>\n",
       "      <td>A</td>\n",
       "      <td>T</td>\n",
       "      <td>G</td>\n",
       "      <td>A</td>\n",
       "      <td>-</td>\n",
       "      <td>-</td>\n",
       "      <td>...</td>\n",
       "      <td>-</td>\n",
       "      <td>-</td>\n",
       "      <td>-</td>\n",
       "      <td>-</td>\n",
       "      <td>-</td>\n",
       "      <td>-</td>\n",
       "      <td>G</td>\n",
       "      <td>T</td>\n",
       "      <td>T</td>\n",
       "      <td>T</td>\n",
       "    </tr>\n",
       "    <tr>\n",
       "      <th>OL700531.1</th>\n",
       "      <td>T</td>\n",
       "      <td>T</td>\n",
       "      <td>T</td>\n",
       "      <td>T</td>\n",
       "      <td>A</td>\n",
       "      <td>T</td>\n",
       "      <td>G</td>\n",
       "      <td>A</td>\n",
       "      <td>-</td>\n",
       "      <td>-</td>\n",
       "      <td>...</td>\n",
       "      <td>-</td>\n",
       "      <td>-</td>\n",
       "      <td>-</td>\n",
       "      <td>-</td>\n",
       "      <td>-</td>\n",
       "      <td>-</td>\n",
       "      <td>G</td>\n",
       "      <td>T</td>\n",
       "      <td>T</td>\n",
       "      <td>T</td>\n",
       "    </tr>\n",
       "    <tr>\n",
       "      <th>OL700532.1</th>\n",
       "      <td>T</td>\n",
       "      <td>T</td>\n",
       "      <td>T</td>\n",
       "      <td>T</td>\n",
       "      <td>A</td>\n",
       "      <td>T</td>\n",
       "      <td>G</td>\n",
       "      <td>A</td>\n",
       "      <td>-</td>\n",
       "      <td>-</td>\n",
       "      <td>...</td>\n",
       "      <td>-</td>\n",
       "      <td>-</td>\n",
       "      <td>-</td>\n",
       "      <td>-</td>\n",
       "      <td>-</td>\n",
       "      <td>-</td>\n",
       "      <td>G</td>\n",
       "      <td>T</td>\n",
       "      <td>T</td>\n",
       "      <td>T</td>\n",
       "    </tr>\n",
       "    <tr>\n",
       "      <th>OL700537.1</th>\n",
       "      <td>T</td>\n",
       "      <td>T</td>\n",
       "      <td>T</td>\n",
       "      <td>T</td>\n",
       "      <td>A</td>\n",
       "      <td>T</td>\n",
       "      <td>G</td>\n",
       "      <td>A</td>\n",
       "      <td>-</td>\n",
       "      <td>-</td>\n",
       "      <td>...</td>\n",
       "      <td>-</td>\n",
       "      <td>-</td>\n",
       "      <td>-</td>\n",
       "      <td>-</td>\n",
       "      <td>-</td>\n",
       "      <td>-</td>\n",
       "      <td>G</td>\n",
       "      <td>T</td>\n",
       "      <td>T</td>\n",
       "      <td>T</td>\n",
       "    </tr>\n",
       "    <tr>\n",
       "      <th>OL700524.1</th>\n",
       "      <td>T</td>\n",
       "      <td>T</td>\n",
       "      <td>T</td>\n",
       "      <td>T</td>\n",
       "      <td>A</td>\n",
       "      <td>T</td>\n",
       "      <td>G</td>\n",
       "      <td>A</td>\n",
       "      <td>-</td>\n",
       "      <td>-</td>\n",
       "      <td>...</td>\n",
       "      <td>-</td>\n",
       "      <td>-</td>\n",
       "      <td>-</td>\n",
       "      <td>-</td>\n",
       "      <td>-</td>\n",
       "      <td>-</td>\n",
       "      <td>G</td>\n",
       "      <td>T</td>\n",
       "      <td>T</td>\n",
       "      <td>T</td>\n",
       "    </tr>\n",
       "    <tr>\n",
       "      <th>OL700530.1</th>\n",
       "      <td>T</td>\n",
       "      <td>T</td>\n",
       "      <td>T</td>\n",
       "      <td>T</td>\n",
       "      <td>A</td>\n",
       "      <td>T</td>\n",
       "      <td>G</td>\n",
       "      <td>A</td>\n",
       "      <td>-</td>\n",
       "      <td>-</td>\n",
       "      <td>...</td>\n",
       "      <td>-</td>\n",
       "      <td>-</td>\n",
       "      <td>-</td>\n",
       "      <td>-</td>\n",
       "      <td>-</td>\n",
       "      <td>-</td>\n",
       "      <td>G</td>\n",
       "      <td>T</td>\n",
       "      <td>T</td>\n",
       "      <td>T</td>\n",
       "    </tr>\n",
       "    <tr>\n",
       "      <th>OL700538.1</th>\n",
       "      <td>T</td>\n",
       "      <td>T</td>\n",
       "      <td>T</td>\n",
       "      <td>T</td>\n",
       "      <td>A</td>\n",
       "      <td>T</td>\n",
       "      <td>G</td>\n",
       "      <td>A</td>\n",
       "      <td>-</td>\n",
       "      <td>-</td>\n",
       "      <td>...</td>\n",
       "      <td>-</td>\n",
       "      <td>-</td>\n",
       "      <td>-</td>\n",
       "      <td>-</td>\n",
       "      <td>-</td>\n",
       "      <td>-</td>\n",
       "      <td>G</td>\n",
       "      <td>T</td>\n",
       "      <td>T</td>\n",
       "      <td>T</td>\n",
       "    </tr>\n",
       "    <tr>\n",
       "      <th>OL700543.1</th>\n",
       "      <td>T</td>\n",
       "      <td>T</td>\n",
       "      <td>T</td>\n",
       "      <td>T</td>\n",
       "      <td>A</td>\n",
       "      <td>T</td>\n",
       "      <td>G</td>\n",
       "      <td>A</td>\n",
       "      <td>-</td>\n",
       "      <td>-</td>\n",
       "      <td>...</td>\n",
       "      <td>-</td>\n",
       "      <td>-</td>\n",
       "      <td>-</td>\n",
       "      <td>-</td>\n",
       "      <td>-</td>\n",
       "      <td>-</td>\n",
       "      <td>G</td>\n",
       "      <td>T</td>\n",
       "      <td>T</td>\n",
       "      <td>T</td>\n",
       "    </tr>\n",
       "    <tr>\n",
       "      <th>OL700544.1</th>\n",
       "      <td>T</td>\n",
       "      <td>T</td>\n",
       "      <td>T</td>\n",
       "      <td>T</td>\n",
       "      <td>A</td>\n",
       "      <td>T</td>\n",
       "      <td>G</td>\n",
       "      <td>A</td>\n",
       "      <td>-</td>\n",
       "      <td>-</td>\n",
       "      <td>...</td>\n",
       "      <td>-</td>\n",
       "      <td>-</td>\n",
       "      <td>-</td>\n",
       "      <td>-</td>\n",
       "      <td>-</td>\n",
       "      <td>-</td>\n",
       "      <td>G</td>\n",
       "      <td>T</td>\n",
       "      <td>T</td>\n",
       "      <td>T</td>\n",
       "    </tr>\n",
       "    <tr>\n",
       "      <th>OL700541.1</th>\n",
       "      <td>T</td>\n",
       "      <td>T</td>\n",
       "      <td>T</td>\n",
       "      <td>T</td>\n",
       "      <td>A</td>\n",
       "      <td>T</td>\n",
       "      <td>G</td>\n",
       "      <td>A</td>\n",
       "      <td>-</td>\n",
       "      <td>-</td>\n",
       "      <td>...</td>\n",
       "      <td>-</td>\n",
       "      <td>-</td>\n",
       "      <td>-</td>\n",
       "      <td>-</td>\n",
       "      <td>-</td>\n",
       "      <td>-</td>\n",
       "      <td>G</td>\n",
       "      <td>T</td>\n",
       "      <td>T</td>\n",
       "      <td>T</td>\n",
       "    </tr>\n",
       "    <tr>\n",
       "      <th>OL700533.1</th>\n",
       "      <td>T</td>\n",
       "      <td>T</td>\n",
       "      <td>T</td>\n",
       "      <td>T</td>\n",
       "      <td>A</td>\n",
       "      <td>T</td>\n",
       "      <td>G</td>\n",
       "      <td>A</td>\n",
       "      <td>-</td>\n",
       "      <td>-</td>\n",
       "      <td>...</td>\n",
       "      <td>-</td>\n",
       "      <td>-</td>\n",
       "      <td>-</td>\n",
       "      <td>-</td>\n",
       "      <td>-</td>\n",
       "      <td>-</td>\n",
       "      <td>G</td>\n",
       "      <td>T</td>\n",
       "      <td>T</td>\n",
       "      <td>T</td>\n",
       "    </tr>\n",
       "    <tr>\n",
       "      <th>OL700545.1</th>\n",
       "      <td>T</td>\n",
       "      <td>T</td>\n",
       "      <td>T</td>\n",
       "      <td>T</td>\n",
       "      <td>A</td>\n",
       "      <td>T</td>\n",
       "      <td>G</td>\n",
       "      <td>A</td>\n",
       "      <td>-</td>\n",
       "      <td>-</td>\n",
       "      <td>...</td>\n",
       "      <td>-</td>\n",
       "      <td>-</td>\n",
       "      <td>-</td>\n",
       "      <td>-</td>\n",
       "      <td>-</td>\n",
       "      <td>-</td>\n",
       "      <td>G</td>\n",
       "      <td>T</td>\n",
       "      <td>T</td>\n",
       "      <td>T</td>\n",
       "    </tr>\n",
       "  </tbody>\n",
       "</table>\n",
       "<p>14 rows × 34 columns</p>\n",
       "</div>"
      ],
      "text/plain": [
       "            210   241   3037  14408 15451 16466 21618 21987 22029 22030  ...  \\\n",
       "NC_045512.2     G     C     C     C     G     C     C     G     A     G  ...   \n",
       "OL700521.1      T     T     T     T     A     T     G     A     -     -  ...   \n",
       "OL700526.1      T     T     T     T     A     T     G     A     -     -  ...   \n",
       "OL700531.1      T     T     T     T     A     T     G     A     -     -  ...   \n",
       "OL700532.1      T     T     T     T     A     T     G     A     -     -  ...   \n",
       "OL700537.1      T     T     T     T     A     T     G     A     -     -  ...   \n",
       "OL700524.1      T     T     T     T     A     T     G     A     -     -  ...   \n",
       "OL700530.1      T     T     T     T     A     T     G     A     -     -  ...   \n",
       "OL700538.1      T     T     T     T     A     T     G     A     -     -  ...   \n",
       "OL700543.1      T     T     T     T     A     T     G     A     -     -  ...   \n",
       "OL700544.1      T     T     T     T     A     T     G     A     -     -  ...   \n",
       "OL700541.1      T     T     T     T     A     T     G     A     -     -  ...   \n",
       "OL700533.1      T     T     T     T     A     T     G     A     -     -  ...   \n",
       "OL700545.1      T     T     T     T     A     T     G     A     -     -  ...   \n",
       "\n",
       "            28249 28250 28251 28252 28253 28271 28461 28881 29402 29742  \n",
       "NC_045512.2     A     T     T     T     C     A     A     G     G     G  \n",
       "OL700521.1      -     -     -     -     -     -     G     T     T     T  \n",
       "OL700526.1      -     -     -     -     -     -     G     T     T     T  \n",
       "OL700531.1      -     -     -     -     -     -     G     T     T     T  \n",
       "OL700532.1      -     -     -     -     -     -     G     T     T     T  \n",
       "OL700537.1      -     -     -     -     -     -     G     T     T     T  \n",
       "OL700524.1      -     -     -     -     -     -     G     T     T     T  \n",
       "OL700530.1      -     -     -     -     -     -     G     T     T     T  \n",
       "OL700538.1      -     -     -     -     -     -     G     T     T     T  \n",
       "OL700543.1      -     -     -     -     -     -     G     T     T     T  \n",
       "OL700544.1      -     -     -     -     -     -     G     T     T     T  \n",
       "OL700541.1      -     -     -     -     -     -     G     T     T     T  \n",
       "OL700533.1      -     -     -     -     -     -     G     T     T     T  \n",
       "OL700545.1      -     -     -     -     -     -     G     T     T     T  \n",
       "\n",
       "[14 rows x 34 columns]"
      ]
     },
     "execution_count": 126,
     "metadata": {},
     "output_type": "execute_result"
    }
   ],
   "source": [
    "df_stable"
   ]
  },
  {
   "cell_type": "markdown",
   "metadata": {},
   "source": [
    "### 8) Estrarre la lista delle colonne in cui c'è un gap nel *reference*."
   ]
  },
  {
   "cell_type": "code",
   "execution_count": 127,
   "metadata": {},
   "outputs": [],
   "source": [
    "ref_gaps = [col for col in df.columns if df[col][0] == '-']"
   ]
  },
  {
   "cell_type": "code",
   "execution_count": 128,
   "metadata": {},
   "outputs": [
    {
     "data": {
      "text/plain": [
       "[]"
      ]
     },
     "execution_count": 128,
     "metadata": {},
     "output_type": "execute_result"
    }
   ],
   "source": [
    "ref_gaps"
   ]
  },
  {
   "cell_type": "markdown",
   "metadata": {},
   "source": [
    "### 9) Estrarre la lista delle colonne in cui c'è un gap in almeno uno dei genomi (diversi dal *reference*)."
   ]
  },
  {
   "cell_type": "code",
   "execution_count": 129,
   "metadata": {},
   "outputs": [],
   "source": [
    "other_gaps = [col for col in df.columns if any(df[col][1:] == '-')]"
   ]
  },
  {
   "cell_type": "code",
   "execution_count": 130,
   "metadata": {},
   "outputs": [
    {
     "data": {
      "text/plain": [
       "[521,\n",
       " 522,\n",
       " 523,\n",
       " 22029,\n",
       " 22030,\n",
       " 22031,\n",
       " 22032,\n",
       " 22033,\n",
       " 22034,\n",
       " 28248,\n",
       " 28249,\n",
       " 28250,\n",
       " 28251,\n",
       " 28252,\n",
       " 28253,\n",
       " 28271]"
      ]
     },
     "execution_count": 130,
     "metadata": {},
     "output_type": "execute_result"
    }
   ],
   "source": [
    "other_gaps"
   ]
  }
 ],
 "metadata": {
  "kernelspec": {
   "display_name": "Python 3 (ipykernel)",
   "language": "python",
   "name": "python3"
  },
  "language_info": {
   "codemirror_mode": {
    "name": "ipython",
    "version": 3
   },
   "file_extension": ".py",
   "mimetype": "text/x-python",
   "name": "python",
   "nbconvert_exporter": "python",
   "pygments_lexer": "ipython3",
   "version": "3.9.15"
  }
 },
 "nbformat": 4,
 "nbformat_minor": 2
}
