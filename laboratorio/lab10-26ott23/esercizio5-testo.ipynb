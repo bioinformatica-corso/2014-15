{
 "cells": [
  {
   "cell_type": "markdown",
   "metadata": {},
   "source": [
    "# Esercizio 5\n",
    "\n",
    "Si prenda in input il file in formato `GTF` (Gene Transfer Format) `input.gtf`, che annota i tre geni ATP6AP1, AVPR2 e ARHGAP4 sulla regione Encode ENm006  e il file `FASTA` `ENm006.fa` della regione Encode.\n",
    "\n",
    "Produrre (a scelta):\n",
    "\n",
    "- le sequenze in formato `FASTA` di tutti trascritti annotati\n",
    "- le sequenze in formato `FASTA`  di tutte le *coding sequences* annotate \n",
    "\n",
    "specificando inoltre i geni per cui è annotata almeno una sequenza del tipo scelto.\n",
    "\n",
    "Se vengono prodotte le *coding sequences* stampare in standard output anche la separazione in codoni che tiene conto del \n",
    "\n",
    "\n",
    "L'*header* `FASTA` di ogni sequenza prodotta (trascritto oppure CDS) deve contenere:\n",
    "\n",
    "- il nome del gene di riferimento\n",
    "- l’identificatore del trascritto di riferimento\n",
    "- la lunghezza della sequenza prodotta\n",
    "- il tipo di sequenza (trascritto oppure CDS)\n",
    "- lo strand rispetto al *reference*\n",
    "    \n",
    "Esempio di *header* per un trascritto:\n",
    "         \n",
    "    >ARHGAP4; U52112.4-003; len=3235 type=exon; strand=-\n",
    "\n",
    "Esempio di *header* per una CDS:\n",
    "\n",
    "    >AVPR2; U52112.2-003; len=642; type=CDS; strand=+\n",
    "   \n",
    "***\n",
    "\n",
    "**NOTA BENE**: gli attributi del nono campo di un file in formato `GTF` non hanno ordine fisso all'interno del campo."
   ]
  }
 ],
 "metadata": {
  "kernelspec": {
   "display_name": "Python 3 (ipykernel)",
   "language": "python",
   "name": "python3"
  },
  "language_info": {
   "codemirror_mode": {
    "name": "ipython",
    "version": 3
   },
   "file_extension": ".py",
   "mimetype": "text/x-python",
   "name": "python",
   "nbconvert_exporter": "python",
   "pygments_lexer": "ipython3",
   "version": "3.9.15"
  }
 },
 "nbformat": 4,
 "nbformat_minor": 2
}
