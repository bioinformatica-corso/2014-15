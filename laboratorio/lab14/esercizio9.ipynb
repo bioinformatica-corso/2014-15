{
 "cells": [
  {
   "cell_type": "code",
   "execution_count": 1,
   "metadata": {},
   "outputs": [],
   "source": [
    "import pysam\n",
    "from pysam import AlignmentFile"
   ]
  },
  {
   "cell_type": "markdown",
   "metadata": {},
   "source": [
    "## Indicizzare e aprire il file"
   ]
  },
  {
   "cell_type": "code",
   "execution_count": null,
   "metadata": {},
   "outputs": [],
   "source": []
  },
  {
   "cell_type": "markdown",
   "metadata": {},
   "source": [
    "## Aprire il reference"
   ]
  },
  {
   "cell_type": "code",
   "execution_count": null,
   "metadata": {},
   "outputs": [],
   "source": []
  },
  {
   "cell_type": "markdown",
   "metadata": {},
   "source": [
    "## Usare `pileup` per trovare le posizioni che non concordano tra REFERENCE e READS\n",
    "\n",
    "Attenzione a quante/quali posizioni alternative sono presenti nelle reads"
   ]
  },
  {
   "cell_type": "code",
   "execution_count": null,
   "metadata": {
    "scrolled": true
   },
   "outputs": [],
   "source": []
  },
  {
   "cell_type": "markdown",
   "metadata": {},
   "source": [
    "## Aggiungere genotipo\n",
    "\n",
    "- `0/0`: le reads supportano solo il REFERENCE (nel nostro caso non ci interessa)\n",
    "- `0/1`: le reads supportano sia il REFERENCE che l'ALTERNATIVE\n",
    "- `1/1`: le reads supportano solo l'ALTERNATIVE\n",
    "- `1/2`: sono presenti 2 ALTERNATIVE e le reads supportano solo i due ALTERNATIVE"
   ]
  },
  {
   "cell_type": "code",
   "execution_count": null,
   "metadata": {
    "scrolled": true
   },
   "outputs": [],
   "source": []
  },
  {
   "cell_type": "markdown",
   "metadata": {},
   "source": [
    "## Aggiungere campi `AD:DP` sul VCF\n",
    "\n",
    "- `AD`: Allele Difference, per ogni allele rappresenta il totale di reads che lo supportano seperati da `,`\n",
    "- `DP`: Depth Position, rappresenta la somma totale di reads che mappano in quella posizione"
   ]
  },
  {
   "cell_type": "code",
   "execution_count": null,
   "metadata": {
    "scrolled": true
   },
   "outputs": [],
   "source": []
  }
 ],
 "metadata": {
  "kernelspec": {
   "display_name": "Python 3",
   "language": "python",
   "name": "python3"
  },
  "language_info": {
   "codemirror_mode": {
    "name": "ipython",
    "version": 3
   },
   "file_extension": ".py",
   "mimetype": "text/x-python",
   "name": "python",
   "nbconvert_exporter": "python",
   "pygments_lexer": "ipython3",
   "version": "3.8.10"
  }
 },
 "nbformat": 4,
 "nbformat_minor": 4
}
