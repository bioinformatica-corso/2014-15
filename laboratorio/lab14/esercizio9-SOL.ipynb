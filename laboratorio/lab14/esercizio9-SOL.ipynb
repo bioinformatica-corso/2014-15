{
 "cells": [
  {
   "cell_type": "code",
   "execution_count": 1,
   "metadata": {},
   "outputs": [],
   "source": [
    "import pysam\n",
    "from pysam import AlignmentFile\n",
    "from collections import defaultdict"
   ]
  },
  {
   "cell_type": "markdown",
   "metadata": {},
   "source": [
    "## Indicizzare e aprire il file"
   ]
  },
  {
   "cell_type": "code",
   "execution_count": 2,
   "metadata": {},
   "outputs": [],
   "source": [
    "pysam.index('./reads.aln.bam')\n",
    "bam_file = AlignmentFile('./reads.aln.bam', 'rb')"
   ]
  },
  {
   "cell_type": "markdown",
   "metadata": {},
   "source": [
    "## Aprire il reference"
   ]
  },
  {
   "cell_type": "code",
   "execution_count": 3,
   "metadata": {},
   "outputs": [
    {
     "name": "stdout",
     "output_type": "stream",
     "text": [
      "GATCCACCCGCCTTGGCCTCCTAAAGTGCTGGGATTACAGGTGTTAGCCACCACGTCCAGCTGTTAATTTTTATTTAATAAGAATGACAGAGTGAGGGCC\n",
      "4999950\n"
     ]
    }
   ],
   "source": [
    "ref = ''\n",
    "for line in open('ref.fa', 'r'):\n",
    "    if not line.startswith(\">\"):\n",
    "        line = line.strip()\n",
    "        ref+=line.upper()\n",
    "        \n",
    "print(ref[:100])\n",
    "print(len(ref))"
   ]
  },
  {
   "cell_type": "markdown",
   "metadata": {},
   "source": [
    "## Usare `pileup` per trovare le posizioni che non concordano tra REFERENCE e READS\n",
    "\n",
    "Attenzione a quante/quali posizioni alternative sono presenti nelle reads"
   ]
  },
  {
   "cell_type": "code",
   "execution_count": null,
   "metadata": {
    "scrolled": true
   },
   "outputs": [],
   "source": [
    "for pileupcolumn in bam_file.pileup(min_base_quality = 0):\n",
    "    refpos = ref[pileupcolumn.pos]\n",
    "    bampos = defaultdict(int)\n",
    "    for pileupread in pileupcolumn.pileups:\n",
    "        if not pileupread.is_del and not pileupread.is_refskip:\n",
    "            bampos[pileupread.alignment.query_sequence[pileupread.query_position]] += 1\n",
    "    if len(bampos) > 0:\n",
    "        support = sorted(bampos, key=bampos.get)\n",
    "        if len(support) == 1:\n",
    "            if support[0] != refpos:\n",
    "                print(pileupcolumn.pos, refpos, support[0], sep=\"\\t\")\n",
    "        else:\n",
    "            if support[0] == refpos:\n",
    "                print(pileupcolumn.pos, refpos, support[1], sep=\"\\t\")\n",
    "            elif support[1] == refpos:\n",
    "                print(pileupcolumn.pos, refpos, support[0], sep=\"\\t\")\n",
    "            else:\n",
    "                print(pileupcolumn.pos, refpos, f\"{support[0]},{support[1]}\", sep=\"\\t\")"
   ]
  },
  {
   "cell_type": "markdown",
   "metadata": {},
   "source": [
    "## Aggiungere genotipo\n",
    "\n",
    "- `0/0`: le reads supportano solo il REFERENCE (nel nostro caso non ci interessa)\n",
    "- `0/1`: le reads supportano sia il REFERENCE che l'ALTERNATIVE\n",
    "- `1/1`: le reads supportano solo l'ALTERNATIVE\n",
    "- `1/2`: sono presenti 2 ALTERNATIVE e le reads supportano solo i due ALTERNATIVE"
   ]
  },
  {
   "cell_type": "code",
   "execution_count": null,
   "metadata": {
    "scrolled": true
   },
   "outputs": [],
   "source": [
    "for pileupcolumn in bam_file.pileup(min_base_quality = 0):\n",
    "    refpos = ref[pileupcolumn.pos]\n",
    "    bampos = defaultdict(int)\n",
    "    for pileupread in pileupcolumn.pileups:\n",
    "        if not pileupread.is_del and not pileupread.is_refskip:\n",
    "            bampos[pileupread.alignment.query_sequence[pileupread.query_position]] += 1\n",
    "    if len(bampos) > 0:\n",
    "        support = sorted(bampos, key=bampos.get)\n",
    "        if len(support) == 1:\n",
    "            if support[0] != refpos:\n",
    "                print(pileupcolumn.pos, refpos, support[0], \"1/1\", sep=\"\\t\")\n",
    "        else:\n",
    "            if support[0] == refpos:\n",
    "                print(pileupcolumn.pos, refpos, support[1], \"0/1\", sep=\"\\t\")\n",
    "            elif support[1] == refpos:\n",
    "                print(pileupcolumn.pos, refpos, support[0], \"0/1\", sep=\"\\t\")\n",
    "            else:\n",
    "                print(pileupcolumn.pos, refpos, f\"{support[0]},{support[1]}\", \"1/2\", sep=\"\\t\")"
   ]
  },
  {
   "cell_type": "markdown",
   "metadata": {},
   "source": [
    "## Aggiungere campi `AD:DP` sul VCF\n",
    "\n",
    "- `AD`: Allele Difference, per ogni allele rappresenta il totale di reads che lo supportano seperati da `,`\n",
    "- `DP`: Depth Position, rappresenta la somma totale di reads che mappano in quella posizione"
   ]
  },
  {
   "cell_type": "code",
   "execution_count": null,
   "metadata": {
    "scrolled": true
   },
   "outputs": [],
   "source": [
    "for pileupcolumn in bam_file.pileup(min_base_quality = 0):\n",
    "    refpos = ref[pileupcolumn.pos]\n",
    "    bampos = defaultdict(int)\n",
    "    for pileupread in pileupcolumn.pileups:\n",
    "        if not pileupread.is_del and not pileupread.is_refskip:\n",
    "            bampos[pileupread.alignment.query_sequence[pileupread.query_position]] += 1\n",
    "    if len(bampos) > 0:\n",
    "        support = sorted(bampos, key=bampos.get)\n",
    "        if len(support) == 1:\n",
    "            if support[0] != refpos:\n",
    "                print(pileupcolumn.pos, refpos, support[0], \"1/1\", \"AD:DP\", f\"{0},{bampos[support[0]]}:{bampos[support[0]]}\", sep=\"\\t\")\n",
    "        else:\n",
    "            if support[0] == refpos:\n",
    "                print(pileupcolumn.pos, refpos, support[1], \"0/1\", \"AD:DP\", f\"{bampos[support[0]]},{bampos[support[1]]}:{sum(bampos.values())}\", sep=\"\\t\")\n",
    "            elif support[1] == refpos:\n",
    "                print(pileupcolumn.pos, refpos, support[0], \"0/1\", \"AD:DP\", f\"{bampos[support[1]]},{bampos[support[0]]}:{sum(bampos.values())}\", sep=\"\\t\")\n",
    "            else:\n",
    "                print(pileupcolumn.pos, refpos, f\"{support[0]},{support[1]}\", \"1/2\", \"AD:DP\", f\"{bampos[support[0]]},{bampos[support[1]]}:{sum(bampos.values())}\", sep=\"\\t\")"
   ]
  }
 ],
 "metadata": {
  "kernelspec": {
   "display_name": "Python 3",
   "language": "python",
   "name": "python3"
  },
  "language_info": {
   "codemirror_mode": {
    "name": "ipython",
    "version": 3
   },
   "file_extension": ".py",
   "mimetype": "text/x-python",
   "name": "python",
   "nbconvert_exporter": "python",
   "pygments_lexer": "ipython3",
   "version": "3.8.10"
  }
 },
 "nbformat": 4,
 "nbformat_minor": 4
}
