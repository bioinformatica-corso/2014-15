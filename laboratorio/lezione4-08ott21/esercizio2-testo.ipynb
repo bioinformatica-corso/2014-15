{
 "cells": [
  {
   "cell_type": "markdown",
   "metadata": {},
   "source": [
    "# Esercizio 2\n",
    "\n",
    "Considerare il file `movies.csv` ottenuto estraendo i primi 1000 record del dataset scaricabile all'indirizzo https://www.kaggle.com/rounakbanik/the-movies-dataset#movies_metadata.csv.\n",
    "Tale dataset è in formato csv e contiene, in *record* di 24 campi separati da virgola, le informazioni su film.\n",
    "\n",
    "Il file `movies.csv` contiene solo un subset dei campi del dataset originale.\n",
    "\n",
    "--- \n",
    "\n",
    "I campi del file csv che occorrono per risolvere l'esercizio sono:\n",
    "\n",
    "- `id`: indice progressivo\n",
    "- `genres`: stringa che rappresenta il letterale di una lista di dizionari con chiavi `id` e `name` che forniscono ciascuno un genere\n",
    "\n",
    "        [{'id': 16, 'name': 'Animation'}, {'id': 35, 'name': 'Comedy'}]\n",
    "        \n",
    "- `original_title`: titolo originale\n",
    "- `popularity`: valore di popolarità\n",
    "- `tagline`: tagline del film\n",
    "- `original_language`: lingua originale\n",
    "- `production_countries`: stringa che rappresenta il letterale di una lista di dizionari con chiavi `iso_3166_1` e `name` che forniscono ciascuno un paese di origine\n",
    "\n",
    "         [{'iso_3166_1': 'DE', 'name': 'Germany'}, {'iso_3166_1': 'US', 'name': 'United States of America'}]\n",
    "\n",
    "***\n",
    "\n",
    "Si richiede di:\n",
    "- elencare i 10 paesi che hanno prodotto più film, ordinandoli per numero decrescente di film prodotti, specificando per ognuno il numero di film prodotti\n",
    "- fornire per ognuno dei generi cinematografici presenti nel dataset la classifica degli N (parametro in input) film più popolari (per quel genere) ordinandoli per popolarità decrescente e specificando per ognuno di essi il titolo originale e la tagline\n",
    "- l'insieme delle lingue originali che sono coinvolte nella classifica precedente\n",
    "\n",
    "---\n",
    "\n",
    "Parametri di input:\n",
    "- dataset deli film\n",
    "- parametro N\n",
    "\n",
    "---\n",
    "\n",
    "Requisiti generali:\n",
    "\n",
    "- definire una funzione `get_items()` che prenda in input uno qualsiasi tra i due campi `genres`e `production_countries` (indifferentemente) ed estragga\n",
    "    - la lista dei generi nel caso si passi come argomento il valore di un campo `genres`\n",
    "    - la lista dei paesi di produzione nel caso si passi come argomento il valore di un campo `production_countries`\n",
    "\n",
    "Produrre l'output nelle seguenti variabili:\n",
    "\n",
    "- lista di 10 tuple di due elementi `(nome di paese, numero di film prodotti)` contenenti i primi 10 paesi che hanno prodotto più film, ordinate per numero decrescente di film prodotti\n",
    "- dizionario delle classifiche per genere dei primi N film ordinati per popolarità decrescente:\n",
    "    - *chiave*: genere di un film\n",
    "    - *valore*: lista di N liste di due elementi `[titolo originale, tagline]` con i primi N film ordinati per popolarità decrescente\n",
    "- dizionario degli insiemi delle lingue coinvolte in ciascuna delle classifiche precedenti per genere:\n",
    "    - *chiave*: genere di un film\n",
    "    - *valore*: insieme delle lingue originali coinvolte\n",
    "\n",
    "***"
   ]
  },
  {
   "cell_type": "markdown",
   "metadata": {},
   "source": [
    "### 1) Come leggere un file csv\n",
    "\n",
    "Il modulo `pandas` permette di leggere un file in formato csv (anche zippato) tramite la funzione `read_csv()`, che prende come argomento il nome del file da leggere.\n",
    "\n",
    "L'oggetto restituito è un oggetto di tipo `DataFrame` (un *data frame*), cioé una tabella organizzata in righe (*record*) e colonne intestate.\n",
    "\n",
    "Il codice seguente\n",
    "\n",
    "    import pandas as pd\n",
    "    df = pd.read_csv(input_file_name)\n",
    "        \n",
    "legge il file `input_file_name` e lo restituisce in un oggetto di tipo `DataFrame`."
   ]
  },
  {
   "cell_type": "code",
   "execution_count": null,
   "metadata": {},
   "outputs": [],
   "source": [
    "import pandas as pd\n",
    "df = pd.read_csv('movies.csv')\n",
    "df"
   ]
  },
  {
   "cell_type": "markdown",
   "metadata": {},
   "source": [
    "Per iterare lungo i record del *data frame* basta invocare il metodo `iterrows()` che restituisce un oggetto di tipo `generator` da usare in un ciclo `for` di scansione.\n",
    "\n",
    "    for (index, record) in df.iterrows():\n",
    "        do_something\n",
    "\n",
    "Ogni elemento fornito dell'iteratore è una tupla di due elementi:\n",
    "- `index`: indice progressivo del record (valore intero)\n",
    "- `record`: oggetto di tipo `Series` che contiene i campi del *record*\n",
    "\n",
    "L'accesso al campo relativo alla colonna con nome `column_name` del *record* `record` avviene usando la seguente sintassi:\n",
    "\n",
    "    record[column_name]\n",
    "    \n",
    "**NOTA BENE**: il valore restituito da `record[column_name]` rispetta il tipo della colonna `column_name` nel file csv in input. Ad esempio se il campo nel dataset csv è un valore decimale allora il valore di `record[column_name]` sarà di tipo `float`."
   ]
  },
  {
   "cell_type": "code",
   "execution_count": null,
   "metadata": {},
   "outputs": [],
   "source": [
    "for (index, record) in df.iterrows():\n",
    "    print(record['popularity'])"
   ]
  },
  {
   "cell_type": "markdown",
   "metadata": {},
   "source": [
    "### 2) Come interpretare *letteralmente* una stringa "
   ]
  },
  {
   "cell_type": "markdown",
   "metadata": {},
   "source": [
    "La funzione `literal_eval()` del modulo `ast`  prende come argomento una stringa e restituice l'oggetto rappresentato *letteralmente* dalla stringa."
   ]
  },
  {
   "cell_type": "code",
   "execution_count": null,
   "metadata": {},
   "outputs": [],
   "source": [
    "import ast\n",
    "\n",
    "ast.literal_eval(\"[1,2,3]\")"
   ]
  },
  {
   "cell_type": "markdown",
   "metadata": {},
   "source": [
    "### 3) Come testare se un valore è NaN (Not a Number)\n",
    "\n",
    "La funzione `isnan()` del modulo `numpy` restituisce il valore `True` se il valore passato come argomento è NaN."
   ]
  },
  {
   "cell_type": "code",
   "execution_count": null,
   "metadata": {},
   "outputs": [],
   "source": [
    "import numpy\n",
    "\n",
    "numpy.isnan(10)"
   ]
  },
  {
   "cell_type": "markdown",
   "metadata": {},
   "source": [
    "### 4) Funzioni/Metodi suggeriti"
   ]
  },
  {
   "cell_type": "markdown",
   "metadata": {},
   "source": [
    "- la funzione `sorted()` prende come argomento un oggetto iterabile e restituisce la lista dei valori ordinati in senso crescente."
   ]
  },
  {
   "cell_type": "code",
   "execution_count": 20,
   "metadata": {},
   "outputs": [
    {
     "data": {
      "text/plain": [
       "[(2.34, 10), (10.2, 1), (11.02, 2), (11.02, 3)]"
      ]
     },
     "execution_count": 20,
     "metadata": {},
     "output_type": "execute_result"
    }
   ],
   "source": [
    "lista = [(11.02, 3), (10.2, 1), (11.02, 2), (2.34, 10)]\n",
    "sorted(lista)"
   ]
  },
  {
   "cell_type": "markdown",
   "metadata": {},
   "source": [
    "- Il metodo `append()` degli oggetti di tipo `list` aggiunge in coda alla lista invocante il valore passato come argomento"
   ]
  },
  {
   "cell_type": "code",
   "execution_count": 21,
   "metadata": {},
   "outputs": [
    {
     "data": {
      "text/plain": [
       "[1, 2, 3, 4, [5, 6]]"
      ]
     },
     "execution_count": 21,
     "metadata": {},
     "output_type": "execute_result"
    }
   ],
   "source": [
    "lista = [1,2,3,4]\n",
    "lista.append([5, 6])\n",
    "lista"
   ]
  },
  {
   "cell_type": "markdown",
   "metadata": {},
   "source": [
    "- Il metodo `extend()` degli oggetti di tipo `list` estende in coda la lista invocante con i valori contenuti nell'argomento passato"
   ]
  },
  {
   "cell_type": "code",
   "execution_count": 22,
   "metadata": {},
   "outputs": [
    {
     "data": {
      "text/plain": [
       "[1, 2, 3, 4, 5, 6]"
      ]
     },
     "execution_count": 22,
     "metadata": {},
     "output_type": "execute_result"
    }
   ],
   "source": [
    "lista = [1,2,3,4]\n",
    "lista.extend([5, 6])\n",
    "lista"
   ]
  },
  {
   "cell_type": "markdown",
   "metadata": {},
   "source": [
    "- il metodo `get` degli oggetti di tipo `dict` permette di ottenere il valore relativo alla chiave passata come primo argomento e di restituire il secondo argomento (valore di default) se la chiave non è presente nel dizionario. "
   ]
  },
  {
   "cell_type": "code",
   "execution_count": 23,
   "metadata": {},
   "outputs": [],
   "source": [
    "my_dict = {'due': 2, 'quattro': 4, 'sei': 6}"
   ]
  },
  {
   "cell_type": "code",
   "execution_count": 24,
   "metadata": {},
   "outputs": [
    {
     "data": {
      "text/plain": [
       "2"
      ]
     },
     "execution_count": 24,
     "metadata": {},
     "output_type": "execute_result"
    }
   ],
   "source": [
    "my_dict.get('due', -1)"
   ]
  },
  {
   "cell_type": "code",
   "execution_count": 25,
   "metadata": {},
   "outputs": [
    {
     "data": {
      "text/plain": [
       "-1"
      ]
     },
     "execution_count": 25,
     "metadata": {},
     "output_type": "execute_result"
    }
   ],
   "source": [
    "my_dict.get('cinque', -1)"
   ]
  }
 ],
 "metadata": {
  "kernelspec": {
   "display_name": "Python 3",
   "language": "python",
   "name": "python3"
  },
  "language_info": {
   "codemirror_mode": {
    "name": "ipython",
    "version": 3
   },
   "file_extension": ".py",
   "mimetype": "text/x-python",
   "name": "python",
   "nbconvert_exporter": "python",
   "pygments_lexer": "ipython3",
   "version": "3.7.1"
  }
 },
 "nbformat": 4,
 "nbformat_minor": 2
}
