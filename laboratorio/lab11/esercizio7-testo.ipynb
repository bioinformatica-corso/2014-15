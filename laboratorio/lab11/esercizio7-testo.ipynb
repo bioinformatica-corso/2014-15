{
 "cells": [
  {
   "cell_type": "markdown",
   "metadata": {},
   "source": [
    "# Esercizio 7\n",
    "\n",
    "Prendere in input un file in formato `FASTQ`, che contiene reads della stessa lunghezza, e determinare:\n",
    "\n",
    "- la distribuzione della qualità media per read\n",
    "- la distribuzione della qualità media per posizione\n",
    "- la distribuzione delle basi per posizione\n",
    "\n",
    "Eseguire inoltre il *trimming* dei reads scegliendo una soglia minima di qualità sulla base dei risultati ottenuti sopra e scartare i reads che risultano troppo corti.\n",
    "\n",
    "Requisiti:\n",
    "\n",
    "- definire la funzione `ascii_to_quality()` che prende come argomento un carattere ASCII e restituisce il corrispondente Phred Value q.\n",
    "- definire la funzione `get_trimming_interval()` che prende in input una stringa di qualità e una soglia minima, e restituisce il più lungo intervallo di posizioni contenente solo caratteri che codificano qualità almeno pari alla soglia minima.\n",
    "- definire la funzione `get_trimmed_read()` che prende in input una soglia minima di qualità e un read in  formato `FASTQ` ed effettua il *trimming* del read, richiamando la funzione precedente."
   ]
  },
  {
   "cell_type": "code",
   "execution_count": null,
   "metadata": {},
   "outputs": [],
   "source": []
  }
 ],
 "metadata": {
  "kernelspec": {
   "display_name": "Python 3",
   "language": "python",
   "name": "python3"
  },
  "language_info": {
   "codemirror_mode": {
    "name": "ipython",
    "version": 3
   },
   "file_extension": ".py",
   "mimetype": "text/x-python",
   "name": "python",
   "nbconvert_exporter": "python",
   "pygments_lexer": "ipython3",
   "version": "3.8.10"
  }
 },
 "nbformat": 4,
 "nbformat_minor": 4
}
